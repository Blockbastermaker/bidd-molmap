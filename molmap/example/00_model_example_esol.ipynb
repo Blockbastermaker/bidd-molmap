{
 "cells": [
  {
   "cell_type": "code",
   "execution_count": 19,
   "metadata": {},
   "outputs": [],
   "source": [
    "from molmap.model import RegressionEstimator, MultiClassEstimator, MultiLabelEstimator\n",
    "from sklearn.preprocessing import StandardScaler, MinMaxScaler\n",
    "from chembench import dataset\n",
    "from sklearn.utils import shuffle \n",
    "import matplotlib.pyplot as plt\n",
    "import numpy as np\n",
    "import pandas as pd\n",
    "from molmap import MolMap\n",
    "\n",
    "def Rdsplit(df, random_state = 888, split_size = [0.8, 0.1, 0.1]):\n",
    "    base_indices = np.arange(len(df)) \n",
    "    base_indices = shuffle(base_indices, random_state = random_state) \n",
    "    nb_test = int(len(base_indices) * split_size[2]) \n",
    "    nb_val = int(len(base_indices) * split_size[1]) \n",
    "    test_idx = base_indices[0:nb_test] \n",
    "    valid_idx = base_indices[(nb_test):(nb_test+nb_val)] \n",
    "    train_idx = base_indices[(nb_test+nb_val):len(base_indices)] \n",
    "    print(len(train_idx), len(valid_idx), len(test_idx)) \n",
    "    return train_idx, valid_idx, test_idx "
   ]
  },
  {
   "cell_type": "code",
   "execution_count": 2,
   "metadata": {},
   "outputs": [
    {
     "name": "stdout",
     "output_type": "stream",
     "text": [
      "total samples: 1128\n"
     ]
    }
   ],
   "source": [
    "data = dataset.load_ESOL()"
   ]
  },
  {
   "cell_type": "code",
   "execution_count": 3,
   "metadata": {},
   "outputs": [],
   "source": [
    "mp = MolMap(ftype='descriptor',metric='cosine',)"
   ]
  },
  {
   "cell_type": "code",
   "execution_count": 4,
   "metadata": {},
   "outputs": [
    {
     "name": "stdout",
     "output_type": "stream",
     "text": [
      "2021-03-31 10:29:01,510 - \u001b[32mINFO\u001b[0m - [bidd-molmap]\u001b[0m - Applying grid feature map(assignment), this may take several minutes(1~30 min)\u001b[0m\n",
      "2021-03-31 10:29:03,927 - \u001b[32mINFO\u001b[0m - [bidd-molmap]\u001b[0m - Finished\u001b[0m\n"
     ]
    }
   ],
   "source": [
    "mp.fit(verbose=0, method='umap', min_dist=0.1, n_neighbors=15,)"
   ]
  },
  {
   "cell_type": "code",
   "execution_count": 5,
   "metadata": {},
   "outputs": [
    {
     "name": "stderr",
     "output_type": "stream",
     "text": [
      "100%|##########| 1128/1128 [04:46<00:00,  2.90it/s]\n"
     ]
    }
   ],
   "source": [
    "X = mp.batch_transform(data.x)"
   ]
  },
  {
   "cell_type": "code",
   "execution_count": 6,
   "metadata": {},
   "outputs": [],
   "source": [
    "Y = data.y"
   ]
  },
  {
   "cell_type": "code",
   "execution_count": 8,
   "metadata": {},
   "outputs": [
    {
     "name": "stdout",
     "output_type": "stream",
     "text": [
      "904 112 112\n"
     ]
    }
   ],
   "source": [
    "train_idx, valid_idx, test_idx  = Rdsplit(data.df, random_state = 888)\n",
    "trainX = X[train_idx]\n",
    "trainY = Y[train_idx]\n",
    "validX = X[valid_idx]\n",
    "validY = Y[valid_idx]\n",
    "testX = X[test_idx]\n",
    "testY = Y[test_idx]"
   ]
  },
  {
   "cell_type": "code",
   "execution_count": 32,
   "metadata": {},
   "outputs": [
    {
     "name": "stdout",
     "output_type": "stream",
     "text": [
      "RegressionEstimator(batch_size=8, gpuid='1', patience=20)\n"
     ]
    }
   ],
   "source": [
    "# define your model\n",
    "clf = RegressionEstimator(n_outputs=trainY.shape[1], \n",
    "                          fmap_shape1 = trainX.shape[1:], \n",
    "                          dense_layers = [128, 64],  \n",
    "                          batch_size = 8,\n",
    "                          y_scale= None, \n",
    "                          patience = 20, \n",
    "                          gpuid = 1) "
   ]
  },
  {
   "cell_type": "code",
   "execution_count": null,
   "metadata": {},
   "outputs": [
    {
     "name": "stdout",
     "output_type": "stream",
     "text": [
      "epoch: 0001, loss: 5.4672 - val_loss: 3.8865; rmse: 2.0240 - rmse_val: 1.9714;  r2: 0.4001 - r2_val: 0.3690                                                                                                    \n",
      "epoch: 0002, loss: 3.8308 - val_loss: 3.2697; rmse: 1.8406 - rmse_val: 1.8082;  r2: 0.4249 - r2_val: 0.3721                                                                                                    \n",
      "epoch: 0003, loss: 3.0293 - val_loss: 2.5779; rmse: 1.6007 - rmse_val: 1.6056;  r2: 0.5106 - r2_val: 0.4504                                                                                                    \n",
      "epoch: 0004, loss: 2.1995 - val_loss: 2.2505; rmse: 1.4692 - rmse_val: 1.5002;  r2: 0.6367 - r2_val: 0.5689                                                                                                    \n",
      "epoch: 0005, loss: 1.7716 - val_loss: 2.1318; rmse: 1.4421 - rmse_val: 1.4601;  r2: 0.6673 - r2_val: 0.6430                                                                                                    \n",
      "epoch: 0006, loss: 1.4260 - val_loss: 1.3212; rmse: 1.1045 - rmse_val: 1.1494;  r2: 0.7373 - r2_val: 0.6994                                                                                                    \n",
      "epoch: 0007, loss: 1.2364 - val_loss: 1.1180; rmse: 1.0184 - rmse_val: 1.0573;  r2: 0.7676 - r2_val: 0.7319                                                                                                    \n",
      "epoch: 0008, loss: 1.0656 - val_loss: 1.0171; rmse: 0.9743 - rmse_val: 1.0085;  r2: 0.7945 - r2_val: 0.7578                                                                                                    \n",
      "epoch: 0009, loss: 0.9795 - val_loss: 0.8923; rmse: 0.9036 - rmse_val: 0.9446;  r2: 0.8169 - r2_val: 0.7881                                                                                                    \n",
      "epoch: 0010, loss: 0.8879 - val_loss: 0.8051; rmse: 0.8724 - rmse_val: 0.8973;  r2: 0.8371 - r2_val: 0.8085                                                                                                    \n",
      "epoch: 0011, loss: 0.8090 - val_loss: 0.7407; rmse: 0.8153 - rmse_val: 0.8606;  r2: 0.8559 - r2_val: 0.8317                                                                                                    \n",
      "epoch: 0012, loss: 0.7135 - val_loss: 0.7006; rmse: 0.8101 - rmse_val: 0.8370;  r2: 0.8633 - r2_val: 0.8360                                                                                                    \n",
      "epoch: 0013, loss: 0.6760 - val_loss: 0.6657; rmse: 0.7980 - rmse_val: 0.8159;  r2: 0.8786 - r2_val: 0.8513                                                                                                    \n",
      "epoch: 0014, loss: 0.6842 - val_loss: 0.7868; rmse: 0.8254 - rmse_val: 0.8870;  r2: 0.8819 - r2_val: 0.8673                                                                                                    \n",
      "epoch: 0015, loss: 0.5755 - val_loss: 0.5500; rmse: 0.7410 - rmse_val: 0.7417;  r2: 0.8917 - r2_val: 0.8727                                                                                                    \n",
      "epoch: 0016, loss: 0.5599 - val_loss: 0.5884; rmse: 0.7730 - rmse_val: 0.7671;  r2: 0.8985 - r2_val: 0.8789                                                                                                    \n",
      "epoch: 0017, loss: 0.5208 - val_loss: 0.5388; rmse: 0.7266 - rmse_val: 0.7340;  r2: 0.9025 - r2_val: 0.8824                                                                                                    \n",
      "epoch: 0018, loss: 0.5014 - val_loss: 0.4450; rmse: 0.6368 - rmse_val: 0.6671;  r2: 0.9099 - r2_val: 0.8956                                                                                                    \n",
      "epoch: 0019, loss: 0.5047 - val_loss: 0.5922; rmse: 0.6938 - rmse_val: 0.7695;  r2: 0.9133 - r2_val: 0.8954                                                                                                    \n",
      "epoch: 0020, loss: 0.4316 - val_loss: 0.4294; rmse: 0.6188 - rmse_val: 0.6553;  r2: 0.9164 - r2_val: 0.9044                                                                                                    \n",
      "epoch: 0021, loss: 0.4202 - val_loss: 0.4128; rmse: 0.5983 - rmse_val: 0.6425;  r2: 0.9220 - r2_val: 0.9067                                                                                                    \n",
      "epoch: 0022, loss: 0.4167 - val_loss: 0.3653; rmse: 0.5815 - rmse_val: 0.6044;  r2: 0.9247 - r2_val: 0.9135                                                                                                    \n",
      "epoch: 0023, loss: 0.4235 - val_loss: 0.4396; rmse: 0.6420 - rmse_val: 0.6630;  r2: 0.9246 - r2_val: 0.9038                                                                                                    \n",
      "epoch: 0024, loss: 0.3640 - val_loss: 0.3677; rmse: 0.5655 - rmse_val: 0.6064;  r2: 0.9309 - r2_val: 0.9152                                                                                                    \n",
      "epoch: 0025, loss: 0.4095 - val_loss: 0.7709; rmse: 0.8826 - rmse_val: 0.8780;  r2: 0.9297 - r2_val: 0.9071                                                                                                    \n",
      "epoch: 0026, loss: 0.4005 - val_loss: 0.3591; rmse: 0.5646 - rmse_val: 0.5993;  r2: 0.9309 - r2_val: 0.9143                                                                                                    \n",
      "epoch: 0027, loss: 0.3768 - val_loss: 0.3993; rmse: 0.5625 - rmse_val: 0.6319;  r2: 0.9347 - r2_val: 0.9163                                                                                                    \n",
      "epoch: 0028, loss: 0.3278 - val_loss: 0.3509; rmse: 0.5418 - rmse_val: 0.5924;  r2: 0.9369 - r2_val: 0.9165                                                                                                    \n",
      "epoch: 0029, loss: 0.3659 - val_loss: 0.4263; rmse: 0.5883 - rmse_val: 0.6529;  r2: 0.9374 - r2_val: 0.9239                                                                                                    \n",
      "epoch: 0030, loss: 0.3679 - val_loss: 0.3388; rmse: 0.5674 - rmse_val: 0.5821;  r2: 0.9386 - r2_val: 0.9235                                                                                                    \n",
      "epoch: 0031, loss: 0.3522 - val_loss: 0.3470; rmse: 0.5314 - rmse_val: 0.5891;  r2: 0.9418 - r2_val: 0.9187                                                                                                    \n",
      "epoch: 0032, loss: 0.3271 - val_loss: 0.3388; rmse: 0.5359 - rmse_val: 0.5820;  r2: 0.9437 - r2_val: 0.9232                                                                                                    \n",
      "epoch: 0033, loss: 0.3062 - val_loss: 0.3635; rmse: 0.5606 - rmse_val: 0.6029;  r2: 0.9446 - r2_val: 0.9214                                                                                                    \n",
      "epoch: 0034, loss: 0.2799 - val_loss: 0.4768; rmse: 0.6484 - rmse_val: 0.6905;  r2: 0.9441 - r2_val: 0.9176                                                                                                    \n",
      "epoch: 0035, loss: 0.2931 - val_loss: 0.3305; rmse: 0.5063 - rmse_val: 0.5749;  r2: 0.9466 - r2_val: 0.9227                                                                                                    \n",
      "epoch: 0036, loss: 0.3006 - val_loss: 0.4047; rmse: 0.6043 - rmse_val: 0.6361;  r2: 0.9461 - r2_val: 0.9224                                                                                                    \n",
      "epoch: 0037, loss: 0.2981 - val_loss: 0.3243; rmse: 0.4867 - rmse_val: 0.5695;  r2: 0.9492 - r2_val: 0.9286                                                                                                    \n",
      "epoch: 0038, loss: 0.2726 - val_loss: 0.3323; rmse: 0.4875 - rmse_val: 0.5765;  r2: 0.9514 - r2_val: 0.9299                                                                                                    \n",
      "epoch: 0039, loss: 0.2551 - val_loss: 0.2991; rmse: 0.4756 - rmse_val: 0.5469;  r2: 0.9492 - r2_val: 0.9282                                                                                                    \n",
      "epoch: 0040, loss: 0.2620 - val_loss: 0.3092; rmse: 0.4622 - rmse_val: 0.5560;  r2: 0.9535 - r2_val: 0.9284                                                                                                    \n",
      "epoch: 0041, loss: 0.2869 - val_loss: 0.3392; rmse: 0.4776 - rmse_val: 0.5824;  r2: 0.9494 - r2_val: 0.9192                                                                                                    \n",
      "epoch: 0042, loss: 0.2662 - val_loss: 0.4270; rmse: 0.5414 - rmse_val: 0.6535;  r2: 0.9535 - r2_val: 0.9284                                                                                                    \n",
      "epoch: 0043, loss: 0.2397 - val_loss: 0.3114; rmse: 0.4622 - rmse_val: 0.5580;  r2: 0.9561 - r2_val: 0.9286                                                                                                    \n",
      "epoch: 0044, loss: 0.2671 - val_loss: 0.3566; rmse: 0.4845 - rmse_val: 0.5972;  r2: 0.9554 - r2_val: 0.9291                                                                                                    \n",
      "epoch: 0045, loss: 0.2374 - val_loss: 0.3130; rmse: 0.4504 - rmse_val: 0.5594;  r2: 0.9587 - r2_val: 0.9270                                                                                                    \n",
      "epoch: 0046, loss: 0.2272 - val_loss: 0.3308; rmse: 0.4616 - rmse_val: 0.5751;  r2: 0.9586 - r2_val: 0.9323                                                                                                    \n",
      "epoch: 0047, loss: 0.2338 - val_loss: 0.3269; rmse: 0.4340 - rmse_val: 0.5718;  r2: 0.9593 - r2_val: 0.9264                                                                                                    \n",
      "epoch: 0048, loss: 0.2223 - val_loss: 0.3208; rmse: 0.4456 - rmse_val: 0.5664;  r2: 0.9598 - r2_val: 0.9328                                                                                                    \n",
      "epoch: 0049, loss: 0.2518 - val_loss: 0.2876; rmse: 0.4091 - rmse_val: 0.5363;  r2: 0.9630 - r2_val: 0.9312                                                                                                    \n",
      "epoch: 0050, loss: 0.2403 - val_loss: 0.4304; rmse: 0.5580 - rmse_val: 0.6561;  r2: 0.9593 - r2_val: 0.9340                                                                                                    \n",
      "epoch: 0051, loss: 0.2387 - val_loss: 0.3903; rmse: 0.4914 - rmse_val: 0.6248;  r2: 0.9599 - r2_val: 0.9287                                                                                                    \n",
      "epoch: 0052, loss: 0.2165 - val_loss: 0.3264; rmse: 0.4354 - rmse_val: 0.5713;  r2: 0.9621 - r2_val: 0.9302                                                                                                    \n",
      "epoch: 0053, loss: 0.2247 - val_loss: 0.3216; rmse: 0.4137 - rmse_val: 0.5671;  r2: 0.9630 - r2_val: 0.9242                                                                                                    \n",
      "epoch: 0054, loss: 0.2160 - val_loss: 0.3178; rmse: 0.4315 - rmse_val: 0.5637;  r2: 0.9644 - r2_val: 0.9322                                                                                                    \n",
      "epoch: 0055, loss: 0.2004 - val_loss: 0.3023; rmse: 0.4095 - rmse_val: 0.5498;  r2: 0.9636 - r2_val: 0.9281                                                                                                    \n",
      "epoch: 0056, loss: 0.1904 - val_loss: 0.4416; rmse: 0.5544 - rmse_val: 0.6645;  r2: 0.9642 - r2_val: 0.9370                                                                                                    \n",
      "epoch: 0057, loss: 0.2299 - val_loss: 0.3148; rmse: 0.4093 - rmse_val: 0.5611;  r2: 0.9661 - r2_val: 0.9275                                                                                                    \n",
      "epoch: 0058, loss: 0.1851 - val_loss: 0.2924; rmse: 0.3774 - rmse_val: 0.5408;  r2: 0.9680 - r2_val: 0.9301                                                                                                    \n",
      "epoch: 0059, loss: 0.2198 - val_loss: 0.3244; rmse: 0.4567 - rmse_val: 0.5695;  r2: 0.9662 - r2_val: 0.9306                                                                                                    \n",
      "epoch: 0060, loss: 0.1877 - val_loss: 0.2889; rmse: 0.3750 - rmse_val: 0.5375;  r2: 0.9683 - r2_val: 0.9308                                                                                                    \n",
      "epoch: 0061, loss: 0.1932 - val_loss: 0.3415; rmse: 0.4429 - rmse_val: 0.5844;  r2: 0.9677 - r2_val: 0.9350                                                                                                    \n",
      "epoch: 0062, loss: 0.1709 - val_loss: 0.3098; rmse: 0.4139 - rmse_val: 0.5566;  r2: 0.9649 - r2_val: 0.9286                                                                                                    \n",
      "epoch: 0063, loss: 0.1877 - val_loss: 0.2994; rmse: 0.3873 - rmse_val: 0.5472;  r2: 0.9669 - r2_val: 0.9286                                                                                                    \n",
      "epoch: 0064, loss: 0.1789 - val_loss: 0.3387; rmse: 0.4333 - rmse_val: 0.5819;  r2: 0.9710 - r2_val: 0.9278                                                                                                    \n",
      "epoch: 0065, loss: 0.1751 - val_loss: 0.4056; rmse: 0.5355 - rmse_val: 0.6369;  r2: 0.9717 - r2_val: 0.9360                                                                                                    \n",
      "epoch: 0066, loss: 0.1957 - val_loss: 0.3705; rmse: 0.4649 - rmse_val: 0.6087;  r2: 0.9703 - r2_val: 0.9355                                                                                                    \n",
      "epoch: 0067, loss: 0.2040 - val_loss: 0.4259; rmse: 0.5310 - rmse_val: 0.6526;  r2: 0.9711 - r2_val: 0.9314                                                                                                    \n",
      "epoch: 0068, loss: 0.2111 - val_loss: 0.3597; rmse: 0.4213 - rmse_val: 0.5997;  r2: 0.9701 - r2_val: 0.9297                                                                                                    \n",
      "epoch: 0069, loss: 0.1720 - val_loss: 0.2820; rmse: 0.3765 - rmse_val: 0.5310;  r2: 0.9706 - r2_val: 0.9327                                                                                                    \n",
      "epoch: 0070, loss: 0.1624 - val_loss: 0.3706; rmse: 0.4257 - rmse_val: 0.6087;  r2: 0.9740 - r2_val: 0.9317                                                                                                    \n",
      "epoch: 0071, loss: 0.1691 - val_loss: 0.3328; rmse: 0.3942 - rmse_val: 0.5769;  r2: 0.9722 - r2_val: 0.9339                                                                                                    \n",
      "epoch: 0072, loss: 0.1691 - val_loss: 0.2873; rmse: 0.3493 - rmse_val: 0.5360;  r2: 0.9729 - r2_val: 0.9314                                                                                                    \n",
      "epoch: 0073, loss: 0.1702 - val_loss: 0.2982; rmse: 0.3739 - rmse_val: 0.5461;  r2: 0.9735 - r2_val: 0.9356                                                                                                    \n",
      "epoch: 0074, loss: 0.1709 - val_loss: 0.3431; rmse: 0.4179 - rmse_val: 0.5857;  r2: 0.9686 - r2_val: 0.9225                                                                                                    \n",
      "epoch: 0075, loss: 0.1854 - val_loss: 0.2839; rmse: 0.3505 - rmse_val: 0.5329;  r2: 0.9725 - r2_val: 0.9320                                                                                                    \n",
      "epoch: 0076, loss: 0.1602 - val_loss: 0.3159; rmse: 0.3855 - rmse_val: 0.5620;  r2: 0.9739 - r2_val: 0.9360                                                                                                    \n",
      "epoch: 0077, loss: 0.1582 - val_loss: 0.2699; rmse: 0.3440 - rmse_val: 0.5196;  r2: 0.9744 - r2_val: 0.9355                                                                                                    \n",
      "epoch: 0078, loss: 0.1429 - val_loss: 0.3023; rmse: 0.3874 - rmse_val: 0.5498;  r2: 0.9712 - r2_val: 0.9316                                                                                                    \n",
      "epoch: 0079, loss: 0.1527 - val_loss: 0.2956; rmse: 0.3280 - rmse_val: 0.5437;  r2: 0.9760 - r2_val: 0.9301                                                                                                    \n",
      "epoch: 0080, loss: 0.1504 - val_loss: 0.3049; rmse: 0.3796 - rmse_val: 0.5521;  r2: 0.9767 - r2_val: 0.9375                                                                                                    \n",
      "epoch: 0081, loss: 0.1562 - val_loss: 0.2844; rmse: 0.3474 - rmse_val: 0.5333;  r2: 0.9760 - r2_val: 0.9340                                                                                                    \n",
      "epoch: 0082, loss: 0.1515 - val_loss: 0.3071; rmse: 0.3865 - rmse_val: 0.5542;  r2: 0.9760 - r2_val: 0.9336                                                                                                    \n",
      "epoch: 0083, loss: 0.1362 - val_loss: 0.2943; rmse: 0.3486 - rmse_val: 0.5425;  r2: 0.9743 - r2_val: 0.9313                                                                                                    \n",
      "epoch: 0084, loss: 0.1547 - val_loss: 0.4175; rmse: 0.4904 - rmse_val: 0.6461;  r2: 0.9753 - r2_val: 0.9355                                                                                                    \n",
      "epoch: 0085, loss: 0.1407 - val_loss: 0.3147; rmse: 0.3597 - rmse_val: 0.5610;  r2: 0.9788 - r2_val: 0.9315                                                                                                    \n",
      "epoch: 0086, loss: 0.1444 - val_loss: 0.2950; rmse: 0.3252 - rmse_val: 0.5431;  r2: 0.9780 - r2_val: 0.9305                                                                                                    \n",
      "epoch: 0087, loss: 0.1359 - val_loss: 0.2817; rmse: 0.3174 - rmse_val: 0.5307;  r2: 0.9779 - r2_val: 0.9328                                                                                                    \n",
      "epoch: 0088, loss: 0.1322 - val_loss: 0.3170; rmse: 0.3996 - rmse_val: 0.5630;  r2: 0.9729 - r2_val: 0.9345                                                                                                    \n",
      "epoch: 0089, loss: 0.1371 - val_loss: 0.2690; rmse: 0.3146 - rmse_val: 0.5187;  r2: 0.9789 - r2_val: 0.9364                                                                                                    \n",
      "epoch: 0090, loss: 0.1465 - val_loss: 0.2960; rmse: 0.3449 - rmse_val: 0.5440;  r2: 0.9770 - r2_val: 0.9329                                                                                                    \n",
      "epoch: 0091, loss: 0.1333 - val_loss: 0.3027; rmse: 0.3552 - rmse_val: 0.5502;  r2: 0.9796 - r2_val: 0.9324                                                                                                    \n",
      "epoch: 0092, loss: 0.1237 - val_loss: 0.2892; rmse: 0.3191 - rmse_val: 0.5378;  r2: 0.9778 - r2_val: 0.9311                                                                                                    \n",
      "epoch: 0093, loss: 0.1544 - val_loss: 0.3303; rmse: 0.3830 - rmse_val: 0.5748;  r2: 0.9773 - r2_val: 0.9286                                                                                                    \n",
      "epoch: 0094, loss: 0.1449 - val_loss: 0.3128; rmse: 0.3578 - rmse_val: 0.5592;  r2: 0.9791 - r2_val: 0.9305                                                                                                    \n",
      "epoch: 0095, loss: 0.1319 - val_loss: 0.4002; rmse: 0.4946 - rmse_val: 0.6327;  r2: 0.9792 - r2_val: 0.9362                                                                                                    \n",
      "epoch: 0096, loss: 0.1381 - val_loss: 0.2924; rmse: 0.3189 - rmse_val: 0.5407;  r2: 0.9785 - r2_val: 0.9339                                                                                                    \n",
      "epoch: 0097, loss: 0.1391 - val_loss: 0.3491; rmse: 0.4372 - rmse_val: 0.5909;  r2: 0.9777 - r2_val: 0.9344                                                                                                    \n",
      "epoch: 0098, loss: 0.1304 - val_loss: 0.2897; rmse: 0.3073 - rmse_val: 0.5382;  r2: 0.9818 - r2_val: 0.9322                                                                                                    \n",
      "epoch: 0099, loss: 0.1195 - val_loss: 0.3039; rmse: 0.3551 - rmse_val: 0.5513;  r2: 0.9775 - r2_val: 0.9335                                                                                                    \n",
      "epoch: 0100, loss: 0.1126 - val_loss: 0.2657; rmse: 0.2792 - rmse_val: 0.5154;  r2: 0.9827 - r2_val: 0.9364                                                                                                    \n",
      "epoch: 0101, loss: 0.1203 - val_loss: 0.2883; rmse: 0.2996 - rmse_val: 0.5370;  r2: 0.9819 - r2_val: 0.9320                                                                                                    \n",
      "epoch: 0102, loss: 0.1100 - val_loss: 0.2836; rmse: 0.2919 - rmse_val: 0.5326;  r2: 0.9818 - r2_val: 0.9340                                                                                                    \n",
      "epoch: 0103, loss: 0.1128 - val_loss: 0.3431; rmse: 0.4173 - rmse_val: 0.5857;  r2: 0.9808 - r2_val: 0.9351                                                                                                    \n",
      "epoch: 0104, loss: 0.1178 - val_loss: 0.3171; rmse: 0.3462 - rmse_val: 0.5631;  r2: 0.9824 - r2_val: 0.9318                                                                                                    \n",
      "epoch: 0105, loss: 0.1085 - val_loss: 0.3048; rmse: 0.3096 - rmse_val: 0.5521;  r2: 0.9800 - r2_val: 0.9289                                                                                                    \n",
      "epoch: 0106, loss: 0.1113 - val_loss: 0.2627; rmse: 0.2962 - rmse_val: 0.5125;  r2: 0.9833 - r2_val: 0.9382                                                                                                    \n",
      "epoch: 0107, loss: 0.1086 - val_loss: 0.2746; rmse: 0.2836 - rmse_val: 0.5240;  r2: 0.9820 - r2_val: 0.9342                                                                                                    \n",
      "epoch: 0108, loss: 0.1112 - val_loss: 0.2636; rmse: 0.2963 - rmse_val: 0.5134;  r2: 0.9807 - r2_val: 0.9368                                                                                                    \n",
      "epoch: 0109, loss: 0.1145 - val_loss: 0.2717; rmse: 0.2839 - rmse_val: 0.5213;  r2: 0.9829 - r2_val: 0.9379                                                                                                    \n",
      "epoch: 0110, loss: 0.1092 - val_loss: 0.2804; rmse: 0.2882 - rmse_val: 0.5295;  r2: 0.9832 - r2_val: 0.9362                                                                                                    \n",
      "epoch: 0111, loss: 0.1460 - val_loss: 0.3484; rmse: 0.3646 - rmse_val: 0.5903;  r2: 0.9788 - r2_val: 0.9326                                                                                                    \n",
      "epoch: 0112, loss: 0.1049 - val_loss: 0.2794; rmse: 0.2944 - rmse_val: 0.5286;  r2: 0.9836 - r2_val: 0.9379                                                                                                    \n",
      "epoch: 0113, loss: 0.1175 - val_loss: 0.2742; rmse: 0.2725 - rmse_val: 0.5236;  r2: 0.9852 - r2_val: 0.9347                                                                                                    \n",
      "epoch: 0114, loss: 0.1295 - val_loss: 0.2961; rmse: 0.3738 - rmse_val: 0.5442;  r2: 0.9795 - r2_val: 0.9373                                                                                                    \n",
      "epoch: 0115, loss: 0.1233 - val_loss: 0.3135; rmse: 0.3578 - rmse_val: 0.5599;  r2: 0.9793 - r2_val: 0.9338                                                                                                    \n",
      "epoch: 0116, loss: 0.1014 - val_loss: 0.3336; rmse: 0.3999 - rmse_val: 0.5776;  r2: 0.9786 - r2_val: 0.9294                                                                                                    \n",
      "epoch: 0117, loss: 0.1146 - val_loss: 0.3264; rmse: 0.3242 - rmse_val: 0.5713;  r2: 0.9815 - r2_val: 0.9290                                                                                                    \n",
      "epoch: 0118, loss: 0.0951 - val_loss: 0.3248; rmse: 0.3560 - rmse_val: 0.5699;  r2: 0.9836 - r2_val: 0.9330                                                                                                    \n",
      "epoch: 0119, loss: 0.1045 - val_loss: 0.2622; rmse: 0.2744 - rmse_val: 0.5120;  r2: 0.9848 - r2_val: 0.9380                                                                                                    \n",
      "epoch: 0120, loss: 0.0951 - val_loss: 0.3263; rmse: 0.3258 - rmse_val: 0.5712;  r2: 0.9828 - r2_val: 0.9343                                                                                                    \n",
      "epoch: 0121, loss: 0.1115 - val_loss: 0.3007; rmse: 0.2988 - rmse_val: 0.5484;  r2: 0.9852 - r2_val: 0.9355                                                                                                    \n",
      "epoch: 0122, loss: 0.0972 - val_loss: 0.2757; rmse: 0.2926 - rmse_val: 0.5250;  r2: 0.9842 - r2_val: 0.9404                                                                                                    \n",
      "epoch: 0123, loss: 0.0926 - val_loss: 0.3080; rmse: 0.2979 - rmse_val: 0.5549;  r2: 0.9850 - r2_val: 0.9347                                                                                                    \n",
      "epoch: 0124, loss: 0.1141 - val_loss: 0.2630; rmse: 0.3104 - rmse_val: 0.5128;  r2: 0.9798 - r2_val: 0.9376                                                                                                    \n",
      "epoch: 0125, loss: 0.1026 - val_loss: 0.3522; rmse: 0.3602 - rmse_val: 0.5934;  r2: 0.9850 - r2_val: 0.9349                                                                                                    \n",
      "epoch: 0126, loss: 0.0853 - val_loss: 0.2574; rmse: 0.2601 - rmse_val: 0.5073;  r2: 0.9867 - r2_val: 0.9412                                                                                                    \n",
      "epoch: 0127, loss: 0.0880 - val_loss: 0.2617; rmse: 0.2435 - rmse_val: 0.5116;  r2: 0.9871 - r2_val: 0.9389                                                                                                    \n",
      "epoch: 0128, loss: 0.1150 - val_loss: 0.3186; rmse: 0.3396 - rmse_val: 0.5644;  r2: 0.9826 - r2_val: 0.9303                                                                                                    \n",
      "epoch: 0129, loss: 0.1035 - val_loss: 0.2830; rmse: 0.2766 - rmse_val: 0.5319;  r2: 0.9869 - r2_val: 0.9385                                                                                                    \n",
      "epoch: 0130, loss: 0.1012 - val_loss: 0.2882; rmse: 0.2612 - rmse_val: 0.5368;  r2: 0.9860 - r2_val: 0.9325                                                                                                    \n",
      "epoch: 0131, loss: 0.0951 - val_loss: 0.2344; rmse: 0.2519 - rmse_val: 0.4842;  r2: 0.9863 - r2_val: 0.9437                                                                                                    \n",
      "epoch: 0132, loss: 0.1385 - val_loss: 0.2602; rmse: 0.2768 - rmse_val: 0.5101;  r2: 0.9846 - r2_val: 0.9381                                                                                                    \n",
      "epoch: 0133, loss: 0.0893 - val_loss: 0.2704; rmse: 0.2945 - rmse_val: 0.5200;  r2: 0.9861 - r2_val: 0.9381                                                                                                    \n",
      "epoch: 0134, loss: 0.0942 - val_loss: 0.3148; rmse: 0.3436 - rmse_val: 0.5611;  r2: 0.9833 - r2_val: 0.9349                                                                                                    \n",
      "epoch: 0135, loss: 0.0931 - val_loss: 0.2722; rmse: 0.2526 - rmse_val: 0.5217;  r2: 0.9858 - r2_val: 0.9351                                                                                                    \n",
      "epoch: 0136, loss: 0.0814 - val_loss: 0.2781; rmse: 0.2486 - rmse_val: 0.5274;  r2: 0.9872 - r2_val: 0.9358                                                                                                    \n",
      "epoch: 0137, loss: 0.1081 - val_loss: 0.2790; rmse: 0.2627 - rmse_val: 0.5282;  r2: 0.9847 - r2_val: 0.9338                                                                                                    \n",
      "epoch: 0138, loss: 0.0871 - val_loss: 0.2591; rmse: 0.2553 - rmse_val: 0.5090;  r2: 0.9857 - r2_val: 0.9381                                                                                                    \n",
      "epoch: 0139, loss: 0.0859 - val_loss: 0.2510; rmse: 0.2309 - rmse_val: 0.5010;  r2: 0.9882 - r2_val: 0.9398                                                                                                    \n",
      "epoch: 0140, loss: 0.0990 - val_loss: 0.2762; rmse: 0.2803 - rmse_val: 0.5256;  r2: 0.9862 - r2_val: 0.9374                                                                                                    \n",
      "epoch: 0141, loss: 0.0870 - val_loss: 0.2982; rmse: 0.3653 - rmse_val: 0.5460;  r2: 0.9841 - r2_val: 0.9411                                                                                                    \n",
      "epoch: 0142, loss: 0.1082 - val_loss: 0.2635; rmse: 0.2626 - rmse_val: 0.5133;  r2: 0.9846 - r2_val: 0.9373                                                                                                    \n",
      "epoch: 0143, loss: 0.0746 - val_loss: 0.2851; rmse: 0.2707 - rmse_val: 0.5340;  r2: 0.9878 - r2_val: 0.9349                                                                                                    \n"
     ]
    }
   ],
   "source": [
    "# fit your model\n",
    "clf.fit(trainX, trainY, validX, validY)"
   ]
  },
  {
   "cell_type": "code",
   "execution_count": null,
   "metadata": {},
   "outputs": [],
   "source": [
    "pd.DataFrame(clf.history.history).plot()"
   ]
  },
  {
   "cell_type": "code",
   "execution_count": null,
   "metadata": {},
   "outputs": [],
   "source": [
    "print('Best epochs: %.2f, Best MSE: %.2f' % (clf._performance.best_epoch, clf._performance.best))"
   ]
  },
  {
   "cell_type": "code",
   "execution_count": null,
   "metadata": {},
   "outputs": [],
   "source": [
    "testY_pred = clf.predict(testX)"
   ]
  },
  {
   "cell_type": "code",
   "execution_count": null,
   "metadata": {},
   "outputs": [],
   "source": [
    "plt.scatter(testY, testY_pred)"
   ]
  },
  {
   "cell_type": "code",
   "execution_count": null,
   "metadata": {},
   "outputs": [],
   "source": [
    "rmse, r2 = clf._performance.evaluate(testX, testY)\n",
    "rmse, r2"
   ]
  },
  {
   "cell_type": "code",
   "execution_count": null,
   "metadata": {},
   "outputs": [],
   "source": [
    "clf.score(testX, testY)"
   ]
  },
  {
   "cell_type": "code",
   "execution_count": null,
   "metadata": {},
   "outputs": [],
   "source": [
    "clf._performance.evaluate(validX, validY)"
   ]
  },
  {
   "cell_type": "code",
   "execution_count": null,
   "metadata": {},
   "outputs": [],
   "source": []
  },
  {
   "cell_type": "code",
   "execution_count": null,
   "metadata": {},
   "outputs": [],
   "source": []
  },
  {
   "cell_type": "code",
   "execution_count": null,
   "metadata": {},
   "outputs": [],
   "source": []
  },
  {
   "cell_type": "code",
   "execution_count": null,
   "metadata": {},
   "outputs": [],
   "source": []
  }
 ],
 "metadata": {
  "kernelspec": {
   "display_name": "Python 3",
   "language": "python",
   "name": "python3"
  },
  "language_info": {
   "codemirror_mode": {
    "name": "ipython",
    "version": 3
   },
   "file_extension": ".py",
   "mimetype": "text/x-python",
   "name": "python",
   "nbconvert_exporter": "python",
   "pygments_lexer": "ipython3",
   "version": "3.6.10"
  }
 },
 "nbformat": 4,
 "nbformat_minor": 4
}
