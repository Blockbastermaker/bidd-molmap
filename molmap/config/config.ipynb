{
 "cells": [
  {
   "cell_type": "code",
   "execution_count": 1,
   "metadata": {},
   "outputs": [],
   "source": [
    "import pandas as pd"
   ]
  },
  {
   "cell_type": "code",
   "execution_count": 2,
   "metadata": {},
   "outputs": [],
   "source": [
    "#pd.read_pickle('./descriptor_scale.cfg')"
   ]
  },
  {
   "cell_type": "code",
   "execution_count": 3,
   "metadata": {},
   "outputs": [],
   "source": [
    "from __init__ import load_config\n",
    "\n"
   ]
  },
  {
   "cell_type": "code",
   "execution_count": 4,
   "metadata": {},
   "outputs": [],
   "source": [
    "df = load_config(ftype='fingerprint', metric='jaccard')"
   ]
  },
  {
   "cell_type": "code",
   "execution_count": 5,
   "metadata": {},
   "outputs": [
    {
     "name": "stdout",
     "output_type": "stream",
     "text": [
      "total 182M\n",
      "-rw-rw-r-- 1 shenwanxiang shenwanxiang 1.1K Oct 10 21:45 __init__.py\n",
      "drwxrwxr-x 2 shenwanxiang shenwanxiang 4.0K Oct 10 21:45 \u001b[0m\u001b[01;34m__pycache__\u001b[0m/\n",
      "-rw-rw-r-- 1 shenwanxiang shenwanxiang  12K Oct 10 21:45 config.ipynb\n",
      "-rw-rw-r-- 1 shenwanxiang shenwanxiang  14M Oct 10 21:41 descriptor_correlation.cfg.gzip\n",
      "-rw-rw-r-- 1 shenwanxiang shenwanxiang  14M Oct 10 21:42 descriptor_cosine.cfg.gzip\n",
      "-rw-rw-r-- 1 shenwanxiang shenwanxiang  71K Oct 10 21:42 descriptor_scale.cfg.gzip\n",
      "-rw-rw-r-- 1 shenwanxiang shenwanxiang 155M Oct 10 21:44 fingerprint_jaccard.cfg.gzip\n",
      "-rw-rw-r-- 1 shenwanxiang shenwanxiang 385K Oct 10 21:43 fingerprint_scale.cfg.gzip\n"
     ]
    }
   ],
   "source": [
    "ls -lh"
   ]
  },
  {
   "cell_type": "code",
   "execution_count": 7,
   "metadata": {},
   "outputs": [
    {
     "data": {
      "text/plain": [
       "array([[0.    , 0.9854, 0.9893, ..., 1.005 , 1.002 , 0.98  ],\n",
       "       [0.9854, 0.    , 0.9434, ..., 0.8384, 0.9917, 1.017 ],\n",
       "       [0.9893, 0.9434, 0.    , ..., 0.994 , 1.002 , 0.997 ],\n",
       "       ...,\n",
       "       [1.005 , 0.8384, 0.994 , ..., 0.    , 1.002 , 1.005 ],\n",
       "       [1.002 , 0.9917, 1.002 , ..., 1.002 , 0.    , 0.9946],\n",
       "       [0.98  , 1.017 , 0.997 , ..., 1.005 , 0.9946, 0.    ]],\n",
       "      dtype=float16)"
      ]
     },
     "execution_count": 7,
     "metadata": {},
     "output_type": "execute_result"
    }
   ],
   "source": [
    "df.values"
   ]
  },
  {
   "cell_type": "code",
   "execution_count": null,
   "metadata": {},
   "outputs": [],
   "source": []
  }
 ],
 "metadata": {
  "kernelspec": {
   "display_name": "Python 3",
   "language": "python",
   "name": "python3"
  },
  "language_info": {
   "codemirror_mode": {
    "name": "ipython",
    "version": 3
   },
   "file_extension": ".py",
   "mimetype": "text/x-python",
   "name": "python",
   "nbconvert_exporter": "python",
   "pygments_lexer": "ipython3",
   "version": "3.6.9"
  }
 },
 "nbformat": 4,
 "nbformat_minor": 4
}
