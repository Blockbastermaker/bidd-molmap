{
 "cells": [
  {
   "cell_type": "code",
   "execution_count": 1,
   "metadata": {},
   "outputs": [],
   "source": [
    "import pandas as pd\n",
    "from glob import glob\n",
    "from sklearn.metrics import mean_squared_error as mse\n",
    "from scipy.stats.stats import pearsonr as pcc\n",
    "import os"
   ]
  },
  {
   "cell_type": "code",
   "execution_count": 2,
   "metadata": {},
   "outputs": [
    {
     "data": {
      "text/plain": [
       "['./results/results_MolMapNet_descriptor.csv',\n",
       " './results/results_MolMapNet_both.csv',\n",
       " './results/results_MPNN.csv',\n",
       " './results/results_AttentiveFP.csv',\n",
       " './results/results_MolMapNet_fingerprint.csv']"
      ]
     },
     "execution_count": 2,
     "metadata": {},
     "output_type": "execute_result"
    }
   ],
   "source": [
    "csv_files = glob('./results/*.csv')\n",
    "csv_files = [i for i in csv_files if 'results_' in i]\n",
    "csv_files"
   ]
  },
  {
   "cell_type": "code",
   "execution_count": 3,
   "metadata": {},
   "outputs": [],
   "source": [
    "def get_results(csv):\n",
    "    print(csv)\n",
    "    df = pd.read_csv(csv,index_col=0)\n",
    "\n",
    "    res = { 'model': os.path.basename(csv).split('results_')[-1].replace('.csv',''),\n",
    "            'random_seed': df.random_seed.tolist(),\n",
    "            'best_epoch': df.best_epoch.tolist(),\n",
    "            'batch_size': df.batch_size.iloc[0],\n",
    "            'lr': df.lr.iloc[0],\n",
    "            '# trainable params': df['# trainable params'].iloc[0],\n",
    "            'train_rmse': '%.3f ± %.3f' % (df.train_rmse.mean(), df.train_rmse.std()),  \n",
    "            'valid_rmse': '%.3f ± %.3f' % (df.valid_rmse.mean(), df.valid_rmse.std()),            \n",
    "            'test_rmse': '%.3f ± %.3f' % (df.test_rmse.mean(), df.test_rmse.std())}\n",
    "    \n",
    "    return res"
   ]
  },
  {
   "cell_type": "code",
   "execution_count": 4,
   "metadata": {},
   "outputs": [
    {
     "name": "stdout",
     "output_type": "stream",
     "text": [
      "./results/results_MolMapNet_descriptor.csv\n",
      "./results/results_MolMapNet_both.csv\n",
      "./results/results_MPNN.csv\n",
      "./results/results_AttentiveFP.csv\n",
      "./results/results_MolMapNet_fingerprint.csv\n"
     ]
    }
   ],
   "source": [
    "results = []\n",
    "for csv in csv_files:\n",
    "    res = get_results(csv)\n",
    "    results.append(res)"
   ]
  },
  {
   "cell_type": "code",
   "execution_count": 5,
   "metadata": {},
   "outputs": [],
   "source": [
    "df_res = pd.DataFrame(results)"
   ]
  },
  {
   "cell_type": "code",
   "execution_count": 6,
   "metadata": {},
   "outputs": [
    {
     "data": {
      "text/html": [
       "<div>\n",
       "<style scoped>\n",
       "    .dataframe tbody tr th:only-of-type {\n",
       "        vertical-align: middle;\n",
       "    }\n",
       "\n",
       "    .dataframe tbody tr th {\n",
       "        vertical-align: top;\n",
       "    }\n",
       "\n",
       "    .dataframe thead th {\n",
       "        text-align: right;\n",
       "    }\n",
       "</style>\n",
       "<table border=\"1\" class=\"dataframe\">\n",
       "  <thead>\n",
       "    <tr style=\"text-align: right;\">\n",
       "      <th></th>\n",
       "      <th>model</th>\n",
       "      <th>random_seed</th>\n",
       "      <th>best_epoch</th>\n",
       "      <th>batch_size</th>\n",
       "      <th>lr</th>\n",
       "      <th># trainable params</th>\n",
       "      <th>train_rmse</th>\n",
       "      <th>valid_rmse</th>\n",
       "      <th>test_rmse</th>\n",
       "    </tr>\n",
       "  </thead>\n",
       "  <tbody>\n",
       "    <tr>\n",
       "      <td>3</td>\n",
       "      <td>AttentiveFP</td>\n",
       "      <td>[7, 77, 777]</td>\n",
       "      <td>[259, 186, 250]</td>\n",
       "      <td>200</td>\n",
       "      <td>0.0001</td>\n",
       "      <td>863604</td>\n",
       "      <td>0.926 ± 0.028</td>\n",
       "      <td>0.962 ± 0.011</td>\n",
       "      <td>1.077 ± 0.001</td>\n",
       "    </tr>\n",
       "    <tr>\n",
       "      <td>2</td>\n",
       "      <td>MPNN</td>\n",
       "      <td>[7, 77, 777]</td>\n",
       "      <td>[2, 45, 56]</td>\n",
       "      <td>64</td>\n",
       "      <td>0.0001</td>\n",
       "      <td>341201</td>\n",
       "      <td>1.140 ± 0.058</td>\n",
       "      <td>1.154 ± 0.044</td>\n",
       "      <td>1.142 ± 0.056</td>\n",
       "    </tr>\n",
       "    <tr>\n",
       "      <td>1</td>\n",
       "      <td>MolMapNet_both</td>\n",
       "      <td>[7, 77, 777]</td>\n",
       "      <td>[22, 17, 28]</td>\n",
       "      <td>128</td>\n",
       "      <td>0.0001</td>\n",
       "      <td>725665</td>\n",
       "      <td>0.707 ± 0.107</td>\n",
       "      <td>0.940 ± 0.003</td>\n",
       "      <td>1.020 ± 0.004</td>\n",
       "    </tr>\n",
       "    <tr>\n",
       "      <td>0</td>\n",
       "      <td>MolMapNet_descriptor</td>\n",
       "      <td>[7, 77, 777]</td>\n",
       "      <td>[120, 113, 117]</td>\n",
       "      <td>128</td>\n",
       "      <td>0.0001</td>\n",
       "      <td>407617</td>\n",
       "      <td>0.885 ± 0.016</td>\n",
       "      <td>0.974 ± 0.002</td>\n",
       "      <td>1.065 ± 0.001</td>\n",
       "    </tr>\n",
       "    <tr>\n",
       "      <td>4</td>\n",
       "      <td>MolMapNet_fingerprint</td>\n",
       "      <td>[7, 77, 777]</td>\n",
       "      <td>[19, 17, 28]</td>\n",
       "      <td>128</td>\n",
       "      <td>0.0001</td>\n",
       "      <td>326497</td>\n",
       "      <td>0.705 ± 0.103</td>\n",
       "      <td>0.948 ± 0.006</td>\n",
       "      <td>1.019 ± 0.009</td>\n",
       "    </tr>\n",
       "  </tbody>\n",
       "</table>\n",
       "</div>"
      ],
      "text/plain": [
       "                   model   random_seed       best_epoch  batch_size      lr  \\\n",
       "3            AttentiveFP  [7, 77, 777]  [259, 186, 250]         200  0.0001   \n",
       "2                   MPNN  [7, 77, 777]      [2, 45, 56]          64  0.0001   \n",
       "1         MolMapNet_both  [7, 77, 777]     [22, 17, 28]         128  0.0001   \n",
       "0   MolMapNet_descriptor  [7, 77, 777]  [120, 113, 117]         128  0.0001   \n",
       "4  MolMapNet_fingerprint  [7, 77, 777]     [19, 17, 28]         128  0.0001   \n",
       "\n",
       "   # trainable params     train_rmse     valid_rmse      test_rmse  \n",
       "3              863604  0.926 ± 0.028  0.962 ± 0.011  1.077 ± 0.001  \n",
       "2              341201  1.140 ± 0.058  1.154 ± 0.044  1.142 ± 0.056  \n",
       "1              725665  0.707 ± 0.107  0.940 ± 0.003  1.020 ± 0.004  \n",
       "0              407617  0.885 ± 0.016  0.974 ± 0.002  1.065 ± 0.001  \n",
       "4              326497  0.705 ± 0.103  0.948 ± 0.006  1.019 ± 0.009  "
      ]
     },
     "execution_count": 6,
     "metadata": {},
     "output_type": "execute_result"
    }
   ],
   "source": [
    "df_res.sort_values('model')"
   ]
  },
  {
   "cell_type": "code",
   "execution_count": 7,
   "metadata": {},
   "outputs": [],
   "source": [
    "df_res.to_csv('./results/results.csv')"
   ]
  },
  {
   "cell_type": "code",
   "execution_count": null,
   "metadata": {},
   "outputs": [],
   "source": []
  }
 ],
 "metadata": {
  "kernelspec": {
   "display_name": "Python 3",
   "language": "python",
   "name": "python3"
  },
  "language_info": {
   "codemirror_mode": {
    "name": "ipython",
    "version": 3
   },
   "file_extension": ".py",
   "mimetype": "text/x-python",
   "name": "python",
   "nbconvert_exporter": "python",
   "pygments_lexer": "ipython3",
   "version": "3.6.9"
  }
 },
 "nbformat": 4,
 "nbformat_minor": 4
}
