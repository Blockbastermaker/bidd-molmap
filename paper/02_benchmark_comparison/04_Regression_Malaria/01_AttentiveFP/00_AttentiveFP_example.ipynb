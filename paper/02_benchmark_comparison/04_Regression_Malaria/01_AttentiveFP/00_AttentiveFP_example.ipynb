{
 "cells": [
  {
   "cell_type": "code",
   "execution_count": 3,
   "metadata": {},
   "outputs": [],
   "source": [
    "import os\n",
    "import torch\n",
    "import torch.autograd as autograd\n",
    "import torch.nn as nn\n",
    "import torch.nn.functional as F\n",
    "import torch.optim as optim\n",
    "import torch.utils.data as Data\n",
    "torch.manual_seed(8)\n",
    "\n",
    "import time\n",
    "import numpy as np\n",
    "import gc\n",
    "import sys\n",
    "sys.setrecursionlimit(50000)\n",
    "import pickle\n",
    "torch.backends.cudnn.benchmark = True\n",
    "torch.set_default_tensor_type('torch.cuda.FloatTensor')\n",
    "# from tensorboardX import SummaryWriter\n",
    "torch.nn.Module.dump_patches = True\n",
    "import copy\n",
    "import pandas as pd\n",
    "#then import my own modules\n",
    "from AttentiveFP import Fingerprint, Fingerprint_viz, save_smiles_dicts, get_smiles_dicts, get_smiles_array, moltosvg_highlight"
   ]
  },
  {
   "cell_type": "code",
   "execution_count": 4,
   "metadata": {},
   "outputs": [],
   "source": [
    "from rdkit import Chem\n",
    "# from rdkit.Chem import AllChem\n",
    "from rdkit.Chem import QED\n",
    "from rdkit.Chem import rdMolDescriptors, MolSurf\n",
    "from rdkit.Chem.Draw import SimilarityMaps\n",
    "from rdkit import Chem\n",
    "from rdkit.Chem import AllChem\n",
    "from rdkit.Chem import rdDepictor\n",
    "from rdkit.Chem.Draw import rdMolDraw2D\n",
    "%matplotlib inline\n",
    "from numpy.polynomial.polynomial import polyfit\n",
    "import matplotlib.pyplot as plt\n",
    "import matplotlib.cm as cm\n",
    "import matplotlib\n",
    "import seaborn as sns; sns.set()\n",
    "from IPython.display import SVG, display"
   ]
  },
  {
   "cell_type": "code",
   "execution_count": 5,
   "metadata": {},
   "outputs": [],
   "source": [
    "\n",
    "df_train = pd.read_csv('../train.csv', index_col = 0)\n",
    "df_valid = pd.read_csv('../valid.csv', index_col = 0)\n",
    "df_test = pd.read_csv('../test.csv', index_col = 0)\n"
   ]
  },
  {
   "cell_type": "code",
   "execution_count": 6,
   "metadata": {},
   "outputs": [
    {
     "name": "stdout",
     "output_type": "stream",
     "text": [
      "number of all smiles:  9999\n",
      "number of successfully processed smiles:  9999\n"
     ]
    },
    {
     "data": {
      "image/png": "[encoded data removed]",
      "text/plain": [
       "<Figure size 360x216 with 1 Axes>"
      ]
     },
     "metadata": {},
     "output_type": "display_data"
    }
   ],
   "source": [
    "task_name = 'Malaria Bioactivity'\n",
    "tasks = ['Loge EC50']\n",
    "\n",
    "raw_filename = \"./malaria-processed.csv\"\n",
    "feature_filename = raw_filename.replace('.csv','.pickle')\n",
    "filename = raw_filename.replace('.csv','')\n",
    "prefix_filename = raw_filename.split('/')[-1].replace('.csv','')\n",
    "smiles_tasks_df = pd.read_csv(raw_filename, names = [\"Loge EC50\", \"smiles\"])\n",
    "smilesList = smiles_tasks_df.smiles.values\n",
    "print(\"number of all smiles: \",len(smilesList))\n",
    "atom_num_dist = []\n",
    "remained_smiles = []\n",
    "canonical_smiles_list = []\n",
    "for smiles in smilesList:\n",
    "    try:        \n",
    "        mol = Chem.MolFromSmiles(smiles)\n",
    "        atom_num_dist.append(len(mol.GetAtoms()))\n",
    "        remained_smiles.append(smiles)\n",
    "        canonical_smiles_list.append(Chem.MolToSmiles(Chem.MolFromSmiles(smiles), isomericSmiles=True))\n",
    "    except:\n",
    "        print(smiles)\n",
    "        pass\n",
    "print(\"number of successfully processed smiles: \", len(remained_smiles))\n",
    "smiles_tasks_df = smiles_tasks_df[smiles_tasks_df[\"smiles\"].isin(remained_smiles)]\n",
    "# print(smiles_tasks_df)\n",
    "smiles_tasks_df['cano_smiles'] =canonical_smiles_list\n",
    "\n",
    "plt.figure(figsize=(5, 3))\n",
    "sns.set(font_scale=1.5)\n",
    "ax = sns.distplot(atom_num_dist, bins=28, kde=False)\n",
    "plt.tight_layout()\n",
    "# plt.savefig(\"atom_num_dist_\"+prefix_filename+\".png\",dpi=200)\n",
    "plt.show()\n",
    "plt.close()\n"
   ]
  },
  {
   "cell_type": "code",
   "execution_count": 7,
   "metadata": {},
   "outputs": [],
   "source": [
    "random_seed = 68\n",
    "start_time = str(time.ctime()).replace(':','-').replace(' ','_')\n",
    "\n",
    "batch_size = 200\n",
    "epochs = 800\n",
    "\n",
    "p_dropout= 0.03\n",
    "fingerprint_dim = 200\n",
    "\n",
    "weight_decay = 4.3 # also known as l2_regularization_lambda\n",
    "learning_rate = 4\n",
    "radius = 2\n",
    "T = 1\n",
    "per_task_output_units_num = 1 # for regression model\n",
    "output_units_num = len(tasks) * per_task_output_units_num"
   ]
  },
  {
   "cell_type": "code",
   "execution_count": 8,
   "metadata": {},
   "outputs": [
    {
     "name": "stdout",
     "output_type": "stream",
     "text": [
      "feature dicts file saved as ./malaria-processed.pickle\n"
     ]
    },
    {
     "data": {
      "text/html": [
       "<div>\n",
       "<style scoped>\n",
       "    .dataframe tbody tr th:only-of-type {\n",
       "        vertical-align: middle;\n",
       "    }\n",
       "\n",
       "    .dataframe tbody tr th {\n",
       "        vertical-align: top;\n",
       "    }\n",
       "\n",
       "    .dataframe thead th {\n",
       "        text-align: right;\n",
       "    }\n",
       "</style>\n",
       "<table border=\"1\" class=\"dataframe\">\n",
       "  <thead>\n",
       "    <tr style=\"text-align: right;\">\n",
       "      <th></th>\n",
       "      <th>Loge EC50</th>\n",
       "      <th>smiles</th>\n",
       "      <th>cano_smiles</th>\n",
       "    </tr>\n",
       "  </thead>\n",
       "  <tbody>\n",
       "  </tbody>\n",
       "</table>\n",
       "</div>"
      ],
      "text/plain": [
       "Empty DataFrame\n",
       "Columns: [Loge EC50, smiles, cano_smiles]\n",
       "Index: []"
      ]
     },
     "execution_count": 8,
     "metadata": {},
     "output_type": "execute_result"
    }
   ],
   "source": [
    "if os.path.isfile(feature_filename):\n",
    "    feature_dicts = pickle.load(open(feature_filename, \"rb\" ))\n",
    "else:\n",
    "    feature_dicts = save_smiles_dicts(smilesList,filename)\n",
    "# feature_dicts = get_smiles_dicts(smilesList)\n",
    "remained_df = smiles_tasks_df[smiles_tasks_df[\"cano_smiles\"].isin(feature_dicts['smiles_to_atom_mask'].keys())]\n",
    "uncovered_df = smiles_tasks_df.drop(remained_df.index)\n",
    "uncovered_df"
   ]
  },
  {
   "cell_type": "code",
   "execution_count": 9,
   "metadata": {},
   "outputs": [
    {
     "name": "stdout",
     "output_type": "stream",
     "text": [
      "7999 1000 1000\n"
     ]
    }
   ],
   "source": [
    "train_df = remained_df[remained_df.smiles.isin(df_train.smiles)]\n",
    "valid_df = remained_df[remained_df.smiles.isin(df_valid.smiles)]\n",
    "test_df = remained_df[remained_df.smiles.isin(df_test.smiles)]\n",
    "print(len(train_df), len(valid_df), len(test_df))\n",
    "\n",
    "train_df = train_df.reset_index(drop=True)\n",
    "valid_df = valid_df.reset_index(drop=True)\n",
    "test_df = test_df.reset_index(drop=True)"
   ]
  },
  {
   "cell_type": "code",
   "execution_count": 10,
   "metadata": {},
   "outputs": [
    {
     "name": "stdout",
     "output_type": "stream",
     "text": [
      "863604\n",
      "atom_fc.weight torch.Size([200, 39])\n",
      "atom_fc.bias torch.Size([200])\n",
      "neighbor_fc.weight torch.Size([200, 49])\n",
      "neighbor_fc.bias torch.Size([200])\n",
      "GRUCell.0.weight_ih torch.Size([600, 200])\n",
      "GRUCell.0.weight_hh torch.Size([600, 200])\n",
      "GRUCell.0.bias_ih torch.Size([600])\n",
      "GRUCell.0.bias_hh torch.Size([600])\n",
      "GRUCell.1.weight_ih torch.Size([600, 200])\n",
      "GRUCell.1.weight_hh torch.Size([600, 200])\n",
      "GRUCell.1.bias_ih torch.Size([600])\n",
      "GRUCell.1.bias_hh torch.Size([600])\n",
      "align.0.weight torch.Size([1, 400])\n",
      "align.0.bias torch.Size([1])\n",
      "align.1.weight torch.Size([1, 400])\n",
      "align.1.bias torch.Size([1])\n",
      "attend.0.weight torch.Size([200, 200])\n",
      "attend.0.bias torch.Size([200])\n",
      "attend.1.weight torch.Size([200, 200])\n",
      "attend.1.bias torch.Size([200])\n",
      "mol_GRUCell.weight_ih torch.Size([600, 200])\n",
      "mol_GRUCell.weight_hh torch.Size([600, 200])\n",
      "mol_GRUCell.bias_ih torch.Size([600])\n",
      "mol_GRUCell.bias_hh torch.Size([600])\n",
      "mol_align.weight torch.Size([1, 400])\n",
      "mol_align.bias torch.Size([1])\n",
      "mol_attend.weight torch.Size([200, 200])\n",
      "mol_attend.bias torch.Size([200])\n",
      "output.weight torch.Size([1, 200])\n",
      "output.bias torch.Size([1])\n"
     ]
    }
   ],
   "source": [
    "x_atom, x_bonds, x_atom_index, x_bond_index, x_mask, smiles_to_rdkit_list = get_smiles_array([canonical_smiles_list[0]],feature_dicts)\n",
    "num_atom_features = x_atom.shape[-1]\n",
    "num_bond_features = x_bonds.shape[-1]\n",
    "loss_function = nn.MSELoss()\n",
    "model = Fingerprint(radius, T, num_atom_features, num_bond_features,\n",
    "            fingerprint_dim, output_units_num, p_dropout)\n",
    "model.cuda()\n",
    "\n",
    "# optimizer = optim.Adam(model.parameters(), learning_rate, weight_decay=weight_decay)\n",
    "optimizer = optim.Adam(model.parameters(), 10**-learning_rate, weight_decay=10**-weight_decay)\n",
    "# optimizer = optim.SGD(model.parameters(), 10**-learning_rate, weight_decay=10**-weight_decay)\n",
    "\n",
    "# tensorboard = SummaryWriter(log_dir=\"runs/\"+start_time+\"_\"+prefix_filename+\"_\"+str(fingerprint_dim)+\"_\"+str(p_dropout))\n",
    "\n",
    "model_parameters = filter(lambda p: p.requires_grad, model.parameters())\n",
    "params = sum([np.prod(p.size()) for p in model_parameters])\n",
    "print(params)\n",
    "for name, param in model.named_parameters():\n",
    "    if param.requires_grad:\n",
    "        print(name, param.data.shape)\n",
    "        "
   ]
  },
  {
   "cell_type": "code",
   "execution_count": 11,
   "metadata": {},
   "outputs": [],
   "source": [
    "def train(model, dataset, optimizer, loss_function):\n",
    "    model.train()\n",
    "    np.random.seed(epoch)\n",
    "    valList = np.arange(0,dataset.shape[0])\n",
    "    #shuffle them\n",
    "    np.random.shuffle(valList)\n",
    "    batch_list = []\n",
    "    for i in range(0, dataset.shape[0], batch_size):\n",
    "        batch = valList[i:i+batch_size]\n",
    "        batch_list.append(batch)   \n",
    "    for counter, batch in enumerate(batch_list):\n",
    "        batch_df = dataset.loc[batch,:]\n",
    "        smiles_list = batch_df.cano_smiles.values\n",
    "        y_val = batch_df[tasks[0]].values\n",
    "        \n",
    "        x_atom, x_bonds, x_atom_index, x_bond_index, x_mask, smiles_to_rdkit_list = get_smiles_array(smiles_list,feature_dicts)\n",
    "        atoms_prediction, mol_prediction = model(torch.Tensor(x_atom),torch.Tensor(x_bonds),torch.cuda.LongTensor(x_atom_index),torch.cuda.LongTensor(x_bond_index),torch.Tensor(x_mask))\n",
    "        \n",
    "        optimizer.zero_grad()\n",
    "        loss = loss_function(mol_prediction, torch.Tensor(y_val).view(-1,1))     \n",
    "        loss.backward()\n",
    "        optimizer.step()\n",
    "def eval(model, dataset):\n",
    "    model.eval()\n",
    "    test_MAE_list = []\n",
    "    test_MSE_list = []\n",
    "    valList = np.arange(0,dataset.shape[0])\n",
    "    batch_list = []\n",
    "    for i in range(0, dataset.shape[0], batch_size):\n",
    "        batch = valList[i:i+batch_size]\n",
    "        batch_list.append(batch) \n",
    "    for counter, batch in enumerate(batch_list):\n",
    "        batch_df = dataset.loc[batch,:]\n",
    "        smiles_list = batch_df.cano_smiles.values\n",
    "#         print(batch_df)\n",
    "        y_val = batch_df[tasks[0]].values\n",
    "        \n",
    "        x_atom, x_bonds, x_atom_index, x_bond_index, x_mask, smiles_to_rdkit_list = get_smiles_array(smiles_list,feature_dicts)\n",
    "        atoms_prediction, mol_prediction = model(torch.Tensor(x_atom),torch.Tensor(x_bonds),torch.cuda.LongTensor(x_atom_index),torch.cuda.LongTensor(x_bond_index),torch.Tensor(x_mask))\n",
    "        MAE = F.l1_loss(mol_prediction, torch.Tensor(y_val).view(-1,1), reduction='none')        \n",
    "        MSE = F.mse_loss(mol_prediction, torch.Tensor(y_val).view(-1,1), reduction='none')\n",
    "#         print(x_mask[:2],atoms_prediction.shape, mol_prediction,MSE)\n",
    "        \n",
    "        test_MAE_list.extend(MAE.data.squeeze().cpu().numpy())\n",
    "        test_MSE_list.extend(MSE.data.squeeze().cpu().numpy())\n",
    "    return np.array(test_MAE_list).mean(), np.array(test_MSE_list).mean()\n"
   ]
  },
  {
   "cell_type": "code",
   "execution_count": 13,
   "metadata": {},
   "outputs": [
    {
     "name": "stdout",
     "output_type": "stream",
     "text": [
      "0 1.8231206 1.5850111\n",
      "1 1.4737025 1.3224666\n",
      "2 1.4819328 1.3554331\n",
      "3 1.448957 1.3054091\n",
      "4 1.4506499 1.328714\n",
      "5 1.4358945 1.287479\n",
      "6 1.3988016 1.266164\n",
      "7 1.3748107 1.2526745\n",
      "8 1.3596209 1.2484986\n",
      "9 1.364829 1.2448978\n",
      "10 1.3135163 1.2055879\n",
      "11 1.2953302 1.1994951\n",
      "12 1.2873223 1.1868283\n",
      "13 1.301818 1.1957961\n",
      "14 1.2624898 1.1756396\n",
      "15 1.254797 1.172166\n",
      "16 1.25707 1.1607052\n",
      "17 1.2506939 1.1714171\n",
      "18 1.2645215 1.1609614\n",
      "19 1.2357311 1.1573133\n",
      "20 1.2483815 1.151521\n",
      "21 1.2505984 1.1951919\n",
      "22 1.223714 1.1572326\n",
      "23 1.2387567 1.1545748\n",
      "24 1.2321849 1.1847199\n",
      "25 1.2183815 1.1399038\n",
      "26 1.2172674 1.1423466\n",
      "27 1.2074571 1.1458318\n",
      "28 1.2573313 1.1609409\n",
      "29 1.2032102 1.145439\n",
      "30 1.2123 1.1585603\n",
      "31 1.2246357 1.1553897\n",
      "32 1.195834 1.1433704\n",
      "33 1.1943012 1.1382679\n",
      "34 1.1919385 1.1286156\n",
      "35 1.2192286 1.1936487\n",
      "36 1.2004039 1.1601228\n",
      "37 1.1937954 1.1244218\n",
      "38 1.1810304 1.1265198\n",
      "39 1.2020233 1.1328975\n",
      "40 1.180257 1.1377803\n",
      "41 1.1884416 1.1266875\n",
      "42 1.184468 1.1315094\n",
      "43 1.2320951 1.2217681\n",
      "44 1.1905584 1.1561568\n",
      "45 1.168551 1.1130837\n",
      "46 1.1709975 1.1066247\n",
      "47 1.1698555 1.1192753\n",
      "48 1.1731628 1.146501\n",
      "49 1.1703404 1.1049336\n",
      "50 1.1724743 1.1004417\n",
      "51 1.1681038 1.1029952\n",
      "52 1.1578634 1.1197104\n",
      "53 1.1530408 1.1111064\n",
      "54 1.1503814 1.1138115\n",
      "55 1.2041832 1.1140991\n",
      "56 1.2021579 1.197882\n",
      "57 1.1470138 1.1089051\n",
      "58 1.1432599 1.1053599\n",
      "59 1.1536412 1.1095271\n",
      "60 1.1420372 1.1078602\n"
     ]
    },
    {
     "name": "stderr",
     "output_type": "stream",
     "text": [
      "/home/shenwanxiang/anaconda3/envs/deepchem/lib/python3.6/site-packages/torch/serialization.py:292: UserWarning: Couldn't retrieve source code for container of type Fingerprint. It won't be checked for correctness upon loading.\n",
      "  \"type \" + obj.__name__ + \". It won't be checked \"\n",
      "/home/shenwanxiang/anaconda3/envs/deepchem/lib/python3.6/site-packages/torch/serialization.py:292: UserWarning: Couldn't retrieve source code for container of type Linear. It won't be checked for correctness upon loading.\n",
      "  \"type \" + obj.__name__ + \". It won't be checked \"\n",
      "/home/shenwanxiang/anaconda3/envs/deepchem/lib/python3.6/site-packages/torch/serialization.py:292: UserWarning: Couldn't retrieve source code for container of type ModuleList. It won't be checked for correctness upon loading.\n",
      "  \"type \" + obj.__name__ + \". It won't be checked \"\n",
      "/home/shenwanxiang/anaconda3/envs/deepchem/lib/python3.6/site-packages/torch/serialization.py:292: UserWarning: Couldn't retrieve source code for container of type GRUCell. It won't be checked for correctness upon loading.\n",
      "  \"type \" + obj.__name__ + \". It won't be checked \"\n",
      "/home/shenwanxiang/anaconda3/envs/deepchem/lib/python3.6/site-packages/torch/serialization.py:292: UserWarning: Couldn't retrieve source code for container of type Dropout. It won't be checked for correctness upon loading.\n",
      "  \"type \" + obj.__name__ + \". It won't be checked \"\n"
     ]
    },
    {
     "name": "stdout",
     "output_type": "stream",
     "text": [
      "61 1.1384203 1.0982109\n",
      "62 1.1367127 1.1004477\n",
      "63 1.1346424 1.0960274\n",
      "64 1.1511232 1.1235794\n",
      "65 1.1380819 1.1067777\n",
      "66 1.1435003 1.1092867\n",
      "67 1.1310574 1.0790007\n",
      "68 1.1305568 1.0965011\n",
      "69 1.13491 1.1132658\n",
      "70 1.1391661 1.1166869\n",
      "71 1.127321 1.0902389\n",
      "72 1.1178113 1.0847071\n",
      "73 1.1593434 1.1476911\n",
      "74 1.127375 1.0780425\n",
      "75 1.1244214 1.1017891\n",
      "76 1.1225153 1.0945094\n",
      "77 1.1327673 1.124561\n",
      "78 1.1125419 1.0871116\n",
      "79 1.1206583 1.0528625\n",
      "80 1.1053041 1.0630258\n",
      "81 1.1087976 1.0630783\n",
      "82 1.1181461 1.0937276\n",
      "83 1.1137935 1.0565305\n",
      "84 1.1077107 1.0678939\n",
      "85 1.1109064 1.077891\n",
      "86 1.0895753 1.055299\n",
      "87 1.0990738 1.0457697\n",
      "88 1.0959197 1.0467846\n",
      "89 1.089393 1.0615774\n",
      "90 1.0924337 1.0531338\n",
      "91 1.0869739 1.0569397\n",
      "92 1.0784527 1.043658\n",
      "93 1.0954661 1.0414544\n",
      "94 1.0953207 1.0906618\n",
      "95 1.0741374 1.0417103\n",
      "96 1.0727465 1.0387665\n",
      "97 1.0691195 1.0394622\n",
      "98 1.0670162 1.0385833\n",
      "99 1.0834857 1.0301609\n",
      "100 1.1273556 1.1322238\n",
      "101 1.063482 1.030903\n",
      "102 1.0621797 1.0386001\n",
      "103 1.1132954 1.0511214\n",
      "104 1.05774 1.0288299\n",
      "105 1.0989581 1.0484724\n",
      "106 1.0760255 1.066778\n",
      "107 1.0487787 1.0298336\n",
      "108 1.0568149 1.0450102\n",
      "109 1.0588635 1.0396731\n",
      "110 1.0507988 1.0424309\n",
      "111 1.0501877 1.0404915\n",
      "112 1.0701995 1.0169885\n",
      "113 1.048676 1.0224198\n",
      "114 1.043722 1.0098792\n",
      "115 1.0368186 1.0176666\n",
      "116 1.0389856 1.0166516\n",
      "117 1.052312 1.0551145\n",
      "118 1.0305132 1.018021\n",
      "119 1.0297029 1.0213071\n",
      "120 1.0325533 1.0079967\n",
      "121 1.035123 1.0395818\n",
      "122 1.0346656 1.0300686\n",
      "123 1.0515507 1.0600547\n",
      "124 1.0352662 1.025321\n",
      "125 1.0333364 1.0002769\n",
      "126 1.0484895 1.0607619\n",
      "127 1.016318 1.0142825\n",
      "128 1.0507251 1.0155821\n",
      "129 1.01064 1.0024478\n",
      "130 1.0148296 1.0037323\n",
      "131 1.0269308 1.0397096\n",
      "132 1.0149344 1.0297586\n",
      "133 1.0034649 0.9957399\n",
      "134 1.0063941 0.9917066\n",
      "135 1.032119 1.0134004\n",
      "136 1.0406353 1.0000443\n",
      "137 0.9970479 0.99678993\n",
      "138 0.9982681 0.99404347\n",
      "139 1.0067742 1.0238203\n",
      "140 0.99414617 0.99928516\n",
      "141 1.0106097 1.0371187\n",
      "142 0.99561524 0.9878368\n",
      "143 0.98967546 0.9931317\n",
      "144 0.99144286 1.0065793\n",
      "145 0.98614377 0.9957542\n",
      "146 1.0119681 1.052573\n",
      "147 0.9930371 1.0252193\n",
      "148 0.98017466 0.9872483\n",
      "149 0.9974234 0.9805787\n",
      "150 0.9816742 1.0017247\n",
      "151 1.0017697 0.9807488\n",
      "152 0.986778 0.98018897\n",
      "153 0.99014705 1.023772\n",
      "154 0.9694592 0.9823944\n",
      "155 0.98116344 1.0060606\n",
      "156 0.98263234 0.96990913\n",
      "157 0.98028994 0.9776344\n",
      "158 0.9675014 0.9927056\n",
      "159 0.9659133 0.99499\n",
      "160 0.96354526 0.9726895\n",
      "161 0.9861267 0.9810148\n",
      "162 0.96045256 0.9718462\n",
      "163 0.95710194 0.96652627\n",
      "164 0.9635003 0.9903722\n",
      "165 0.9574896 0.9703617\n",
      "166 0.95766747 0.9622113\n",
      "167 0.95312 0.9743037\n",
      "168 0.9517696 0.9887837\n",
      "169 0.9510578 0.9757073\n",
      "170 0.9511527 0.9716799\n",
      "171 0.9602392 0.9809878\n",
      "172 0.964764 0.9702257\n",
      "173 0.9469554 0.9748899\n",
      "174 0.9529828 0.95341516\n",
      "175 0.9792179 0.9858311\n",
      "176 0.94351345 0.9701097\n",
      "177 0.9356538 0.97210497\n",
      "178 0.93470633 0.9586031\n",
      "179 0.9300415 0.9647217\n",
      "180 0.9394976 0.9942812\n",
      "181 0.9646752 1.0320755\n",
      "182 0.9504223 1.0091188\n",
      "183 0.9371646 0.9877918\n",
      "184 0.9546083 0.96249473\n",
      "185 0.92542034 0.9584898\n",
      "186 0.94021446 0.9688015\n",
      "187 0.9244136 0.9802618\n",
      "188 0.9347825 0.97380066\n",
      "189 0.92214185 0.9728856\n",
      "190 0.91907704 0.95916563\n",
      "191 0.9152431 0.95451444\n",
      "192 0.9200672 0.96779186\n",
      "193 0.91405475 0.9681153\n",
      "194 0.94161636 0.96386755\n",
      "195 0.9121855 0.9765357\n",
      "196 0.91592604 0.9856177\n",
      "197 0.92127544 0.9780345\n"
     ]
    }
   ],
   "source": [
    "best_param ={}\n",
    "best_param[\"train_epoch\"] = 0\n",
    "best_param[\"valid_epoch\"] = 0\n",
    "best_param[\"train_MSE\"] = 9e8\n",
    "best_param[\"valid_MSE\"] = 9e8\n",
    "\n",
    "for epoch in range(800):\n",
    "    train_MAE, train_MSE = eval(model, train_df)\n",
    "    valid_MAE, valid_MSE = eval(model, valid_df)\n",
    "\n",
    "    if train_MSE < best_param[\"train_MSE\"]:\n",
    "        best_param[\"train_epoch\"] = epoch\n",
    "        best_param[\"train_MSE\"] = train_MSE\n",
    "    if valid_MSE < best_param[\"valid_MSE\"]:\n",
    "        best_param[\"valid_epoch\"] = epoch\n",
    "        best_param[\"valid_MSE\"] = valid_MSE\n",
    "        if valid_MSE < 1.1:\n",
    "             torch.save(model, 'saved_models/model_'+prefix_filename+'_'+start_time+'_'+str(epoch)+'.pt')\n",
    "    if (epoch - best_param[\"train_epoch\"] >2) and (epoch - best_param[\"valid_epoch\"] >18):        \n",
    "        break\n",
    "    print(epoch, train_MSE, valid_MSE)\n",
    "    \n",
    "    train(model, train_df, optimizer, loss_function)\n"
   ]
  },
  {
   "cell_type": "code",
   "execution_count": 15,
   "metadata": {},
   "outputs": [
    {
     "data": {
      "text/plain": [
       "{'train_epoch': 195,\n",
       " 'valid_epoch': 174,\n",
       " 'train_MSE': 0.9121855,\n",
       " 'valid_MSE': 0.95341516}"
      ]
     },
     "execution_count": 15,
     "metadata": {},
     "output_type": "execute_result"
    }
   ],
   "source": [
    "best_param"
   ]
  },
  {
   "cell_type": "code",
   "execution_count": 20,
   "metadata": {},
   "outputs": [
    {
     "name": "stdout",
     "output_type": "stream",
     "text": [
      "best epoch: 174 \n",
      " valid MSE: 0.95341516\n"
     ]
    }
   ],
   "source": [
    "# evaluate model\n",
    "best_model = torch.load('saved_models/model_'+prefix_filename+'_'+start_time+'_'+str(best_param[\"valid_epoch\"])+'.pt')     \n",
    "\n",
    "# best_model_dict = best_model.state_dict()\n",
    "# best_model_wts = copy.deepcopy(best_model_dict)\n",
    "\n",
    "# model.load_state_dict(best_model_wts)\n",
    "# (best_model.align[0].weight == model.align[0].weight).all()\n",
    "_, train_MSE = eval(best_model, train_df)\n",
    "_, valid_MSE = eval(best_model, valid_df)\n",
    "_, test_MSE = eval(best_model, test_df)\n",
    "print(\"best epoch:\",best_param[\"valid_epoch\"],\"\\n\",\"valid MSE:\",valid_MSE)"
   ]
  },
  {
   "cell_type": "code",
   "execution_count": 18,
   "metadata": {},
   "outputs": [],
   "source": [
    "import numpy as np\n"
   ]
  },
  {
   "cell_type": "code",
   "execution_count": 22,
   "metadata": {},
   "outputs": [
    {
     "data": {
      "text/plain": [
       "0.9762084"
      ]
     },
     "execution_count": 22,
     "metadata": {},
     "output_type": "execute_result"
    }
   ],
   "source": [
    "np.sqrt(train_MSE)"
   ]
  },
  {
   "cell_type": "code",
   "execution_count": 25,
   "metadata": {},
   "outputs": [
    {
     "data": {
      "text/plain": [
       "0.9764298"
      ]
     },
     "execution_count": 25,
     "metadata": {},
     "output_type": "execute_result"
    }
   ],
   "source": [
    "np.sqrt(valid_MSE)"
   ]
  },
  {
   "cell_type": "code",
   "execution_count": 26,
   "metadata": {},
   "outputs": [
    {
     "data": {
      "text/plain": [
       "1.0670485"
      ]
     },
     "execution_count": 26,
     "metadata": {},
     "output_type": "execute_result"
    }
   ],
   "source": [
    "np.sqrt(test_MSE)"
   ]
  },
  {
   "cell_type": "code",
   "execution_count": 27,
   "metadata": {},
   "outputs": [
    {
     "data": {
      "text/plain": [
       "0.9529828"
      ]
     },
     "execution_count": 27,
     "metadata": {},
     "output_type": "execute_result"
    }
   ],
   "source": [
    "train_MSE"
   ]
  },
  {
   "cell_type": "code",
   "execution_count": null,
   "metadata": {},
   "outputs": [],
   "source": []
  }
 ],
 "metadata": {
  "kernelspec": {
   "display_name": "Python 3",
   "language": "python",
   "name": "python3"
  },
  "language_info": {
   "codemirror_mode": {
    "name": "ipython",
    "version": 3
   },
   "file_extension": ".py",
   "mimetype": "text/x-python",
   "name": "python",
   "nbconvert_exporter": "python",
   "pygments_lexer": "ipython3",
   "version": "3.6.9"
  }
 },
 "nbformat": 4,
 "nbformat_minor": 4
}
