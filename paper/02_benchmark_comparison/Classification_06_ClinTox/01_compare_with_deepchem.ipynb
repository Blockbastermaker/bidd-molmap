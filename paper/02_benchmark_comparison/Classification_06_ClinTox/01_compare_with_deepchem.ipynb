{
 "cells": [
  {
   "cell_type": "code",
   "execution_count": 1,
   "metadata": {},
   "outputs": [
    {
     "name": "stderr",
     "output_type": "stream",
     "text": [
      "/home/shenwanxiang/anaconda3/envs/deepchem/lib/python3.6/site-packages/tensorflow/python/framework/dtypes.py:516: FutureWarning: Passing (type, 1) or '1type' as a synonym of type is deprecated; in a future version of numpy, it will be understood as (type, (1,)) / '(1,)type'.\n",
      "  _np_qint8 = np.dtype([(\"qint8\", np.int8, 1)])\n",
      "/home/shenwanxiang/anaconda3/envs/deepchem/lib/python3.6/site-packages/tensorflow/python/framework/dtypes.py:517: FutureWarning: Passing (type, 1) or '1type' as a synonym of type is deprecated; in a future version of numpy, it will be understood as (type, (1,)) / '(1,)type'.\n",
      "  _np_quint8 = np.dtype([(\"quint8\", np.uint8, 1)])\n",
      "/home/shenwanxiang/anaconda3/envs/deepchem/lib/python3.6/site-packages/tensorflow/python/framework/dtypes.py:518: FutureWarning: Passing (type, 1) or '1type' as a synonym of type is deprecated; in a future version of numpy, it will be understood as (type, (1,)) / '(1,)type'.\n",
      "  _np_qint16 = np.dtype([(\"qint16\", np.int16, 1)])\n",
      "/home/shenwanxiang/anaconda3/envs/deepchem/lib/python3.6/site-packages/tensorflow/python/framework/dtypes.py:519: FutureWarning: Passing (type, 1) or '1type' as a synonym of type is deprecated; in a future version of numpy, it will be understood as (type, (1,)) / '(1,)type'.\n",
      "  _np_quint16 = np.dtype([(\"quint16\", np.uint16, 1)])\n",
      "/home/shenwanxiang/anaconda3/envs/deepchem/lib/python3.6/site-packages/tensorflow/python/framework/dtypes.py:520: FutureWarning: Passing (type, 1) or '1type' as a synonym of type is deprecated; in a future version of numpy, it will be understood as (type, (1,)) / '(1,)type'.\n",
      "  _np_qint32 = np.dtype([(\"qint32\", np.int32, 1)])\n",
      "/home/shenwanxiang/anaconda3/envs/deepchem/lib/python3.6/site-packages/tensorflow/python/framework/dtypes.py:525: FutureWarning: Passing (type, 1) or '1type' as a synonym of type is deprecated; in a future version of numpy, it will be understood as (type, (1,)) / '(1,)type'.\n",
      "  np_resource = np.dtype([(\"resource\", np.ubyte, 1)])\n",
      "/home/shenwanxiang/anaconda3/envs/deepchem/lib/python3.6/site-packages/tensorboard/compat/tensorflow_stub/dtypes.py:541: FutureWarning: Passing (type, 1) or '1type' as a synonym of type is deprecated; in a future version of numpy, it will be understood as (type, (1,)) / '(1,)type'.\n",
      "  _np_qint8 = np.dtype([(\"qint8\", np.int8, 1)])\n",
      "/home/shenwanxiang/anaconda3/envs/deepchem/lib/python3.6/site-packages/tensorboard/compat/tensorflow_stub/dtypes.py:542: FutureWarning: Passing (type, 1) or '1type' as a synonym of type is deprecated; in a future version of numpy, it will be understood as (type, (1,)) / '(1,)type'.\n",
      "  _np_quint8 = np.dtype([(\"quint8\", np.uint8, 1)])\n",
      "/home/shenwanxiang/anaconda3/envs/deepchem/lib/python3.6/site-packages/tensorboard/compat/tensorflow_stub/dtypes.py:543: FutureWarning: Passing (type, 1) or '1type' as a synonym of type is deprecated; in a future version of numpy, it will be understood as (type, (1,)) / '(1,)type'.\n",
      "  _np_qint16 = np.dtype([(\"qint16\", np.int16, 1)])\n",
      "/home/shenwanxiang/anaconda3/envs/deepchem/lib/python3.6/site-packages/tensorboard/compat/tensorflow_stub/dtypes.py:544: FutureWarning: Passing (type, 1) or '1type' as a synonym of type is deprecated; in a future version of numpy, it will be understood as (type, (1,)) / '(1,)type'.\n",
      "  _np_quint16 = np.dtype([(\"quint16\", np.uint16, 1)])\n",
      "/home/shenwanxiang/anaconda3/envs/deepchem/lib/python3.6/site-packages/tensorboard/compat/tensorflow_stub/dtypes.py:545: FutureWarning: Passing (type, 1) or '1type' as a synonym of type is deprecated; in a future version of numpy, it will be understood as (type, (1,)) / '(1,)type'.\n",
      "  _np_qint32 = np.dtype([(\"qint32\", np.int32, 1)])\n",
      "/home/shenwanxiang/anaconda3/envs/deepchem/lib/python3.6/site-packages/tensorboard/compat/tensorflow_stub/dtypes.py:550: FutureWarning: Passing (type, 1) or '1type' as a synonym of type is deprecated; in a future version of numpy, it will be understood as (type, (1,)) / '(1,)type'.\n",
      "  np_resource = np.dtype([(\"resource\", np.ubyte, 1)])\n"
     ]
    }
   ],
   "source": [
    "from molmap import dataset\n",
    "from molmap import loadmap\n",
    "import molmap\n",
    "\n",
    "import matplotlib.pyplot as plt\n",
    "from joblib import dump, load\n",
    "from tqdm import tqdm\n",
    "import pandas as pd\n",
    "tqdm.pandas(ascii=True)\n",
    "\n",
    "import numpy as np\n",
    "import tensorflow as tf\n",
    "\n",
    "\n",
    "#use the second GPU, if negative value, CPUs will be used\n",
    "import os\n",
    "os.environ[\"CUDA_VISIBLE_DEVICES\"]=\"0\"\n",
    "\n",
    "\n",
    "%matplotlib inline\n",
    "np.random.seed(777)\n",
    "tf.set_random_seed(777)"
   ]
  },
  {
   "cell_type": "code",
   "execution_count": 2,
   "metadata": {},
   "outputs": [
    {
     "name": "stdout",
     "output_type": "stream",
     "text": [
      "total samples: 1484\n"
     ]
    }
   ],
   "source": [
    "def get_deepchem_idx(df):\n",
    "    \"\"\" deepchem dataset\"\"\"\n",
    "    deepchem_data_name = './ClinTox_deepchem.data'\n",
    "    if os.path.exists(deepchem_data_name):\n",
    "        train_df,valid_df,test_df = load(deepchem_data_name)\n",
    "    else:\n",
    "        import deepchem as dc\n",
    "        task, train_valid_test, _ = dc.molnet.load_ClinTox(featurizer='Raw',split = 'random')\n",
    "        train, valid, test = train_valid_test\n",
    "        train_df = df[df.smiles.isin(train.ids)]\n",
    "        valid_df = df[df.smiles.isin(valid.ids)]\n",
    "        test_df = df[df.smiles.isin(test.ids)]\n",
    "        dump((train_df,valid_df,test_df), deepchem_data_name)\n",
    "    train_idx = train_df.index\n",
    "    valid_idx = valid_df.index\n",
    "    test_idx = test_df.index\n",
    "    print('training set: %s, valid set: %s, test set %s' % (len(train_idx), len(valid_idx), len(test_idx)))\n",
    "    return train_idx, valid_idx, test_idx\n",
    "\n",
    "\n",
    "def get_attentiveFP_idx(df):\n",
    "    \"\"\" attentiveFP dataset\"\"\"\n",
    "    train, valid,test = load('./ClinTox_attentiveFP.data')\n",
    "    train_idx = df[df.smiles.isin(train.smiles)].index\n",
    "    valid_idx = df[df.smiles.isin(valid.smiles)].index\n",
    "    test_idx = df[df.smiles.isin(test.smiles)].index\n",
    "    print('training set: %s, valid set: %s, test set %s' % (len(train_idx), len(valid_idx), len(test_idx)))\n",
    "    return train_idx, valid_idx, test_idx \n",
    "\n",
    "\n",
    "def get_pos_weights(trainY):\n",
    "    \"\"\"pos_weights: neg_n / pos_n \"\"\"\n",
    "    dfY = pd.DataFrame(trainY)\n",
    "    pos = dfY == 1\n",
    "    pos_n = pos.sum(axis=0)\n",
    "    neg = dfY == 0\n",
    "    neg_n = neg.sum(axis=0)\n",
    "    pos_weights = (neg_n / pos_n).values\n",
    "    neg_weights = (pos_n / neg_n).values\n",
    "    return pos_weights, neg_weights\n",
    "\n",
    "#load dataset\n",
    "data = dataset.load_ClinTox()\n",
    "df = data.data"
   ]
  },
  {
   "cell_type": "code",
   "execution_count": 3,
   "metadata": {},
   "outputs": [],
   "source": [
    "MASK = -1\n",
    "Y = pd.DataFrame(data.y).fillna(MASK).values"
   ]
  },
  {
   "cell_type": "code",
   "execution_count": 4,
   "metadata": {},
   "outputs": [],
   "source": [
    "# calculate feature\n",
    "X1_name =  './descriptor_grid_split.data'\n",
    "X2_name =  './fingerprint_grid_split.data'\n",
    "\n",
    "if os.path.exists(X1_name):\n",
    "    X1 = load(X1_name)\n",
    "else:\n",
    "    mp1 = loadmap('../../descriptor_grid_split.mp')\n",
    "    X1 = mp1.batch_transform(data.x, n_jobs = 8)\n",
    "    dump(X1, X1_name)\n",
    "    \n",
    "\n",
    "if os.path.exists(X2_name):\n",
    "    X2 = load(X2_name)\n",
    "else:\n",
    "    mp2 = loadmap('../../fingerprint_grid_split.mp')\n",
    "    X2 = mp2.batch_transform(data.x, n_jobs = 8)\n",
    "    dump(X2, X2_name)"
   ]
  },
  {
   "cell_type": "code",
   "execution_count": 5,
   "metadata": {},
   "outputs": [
    {
     "name": "stdout",
     "output_type": "stream",
     "text": [
      "training set: 1182, valid set: 148, test set 148\n",
      "1182 148 148\n"
     ]
    }
   ],
   "source": [
    "train_idx, valid_idx, test_idx = get_deepchem_idx(df)\n",
    "\n",
    "\n",
    "trainX = X1[train_idx]\n",
    "trainY = Y[train_idx]\n",
    "\n",
    "validX = X1[valid_idx]\n",
    "validY = Y[valid_idx]\n",
    "\n",
    "testX = X1[test_idx]\n",
    "testY = Y[test_idx]\n",
    "\n",
    "print(len(train_idx), len(valid_idx), len(test_idx))\n"
   ]
  },
  {
   "cell_type": "code",
   "execution_count": 6,
   "metadata": {},
   "outputs": [
    {
     "name": "stdout",
     "output_type": "stream",
     "text": [
      "WARNING:tensorflow:From /home/shenwanxiang/anaconda3/envs/deepchem/lib/python3.6/site-packages/tensorflow/python/ops/init_ops.py:1251: calling VarianceScaling.__init__ (from tensorflow.python.ops.init_ops) with dtype is deprecated and will be removed in a future version.\n",
      "Instructions for updating:\n",
      "Call initializer instance with the dtype argument instead of passing it to the constructor\n",
      "WARNING:tensorflow:From /home/shenwanxiang/anaconda3/envs/deepchem/lib/python3.6/site-packages/tensorflow/python/ops/nn_impl.py:180: add_dispatch_support.<locals>.wrapper (from tensorflow.python.ops.array_ops) is deprecated and will be removed in a future version.\n",
      "Instructions for updating:\n",
      "Use tf.where in 2.0, which has the same broadcast rule as np.where\n"
     ]
    }
   ],
   "source": [
    "from loss import cross_entropy, weighted_cross_entropy\n",
    "from cbks import EarlyStoppingAndPerformance\n",
    "from model import SinglePathClassificationModel, DoublePathClassificationModel\n",
    "\n",
    "earlystop = EarlyStoppingAndPerformance((trainX, trainY), (validX, validY), MASK, patience=10, criteria = 'val_loss')\n",
    "lr = tf.keras.optimizers.Adam(lr=0.0001, beta_1=0.9, beta_2=0.999, epsilon=1e-08, decay=0.0) #\n",
    "molmap1_size = X1.shape[1:]\n",
    "pos_weights, neg_weights = get_pos_weights(trainY)\n",
    "loss = lambda y_true, y_pred: weighted_cross_entropy(y_true,y_pred, pos_weights, MASK)\n",
    "model = SinglePathClassificationModel(molmap1_size, n_outputs = Y.shape[1])\n",
    "model.compile(optimizer = lr, loss = cross_entropy)"
   ]
  },
  {
   "cell_type": "code",
   "execution_count": 7,
   "metadata": {},
   "outputs": [
    {
     "data": {
      "text/plain": [
       "403490"
      ]
     },
     "execution_count": 7,
     "metadata": {},
     "output_type": "execute_result"
    }
   ],
   "source": [
    "model.count_params()"
   ]
  },
  {
   "cell_type": "code",
   "execution_count": 8,
   "metadata": {},
   "outputs": [
    {
     "name": "stdout",
     "output_type": "stream",
     "text": [
      "epoch: 0001, loss: 0.6315 - val_loss: 0.5444; auc: 0.4576 - val_auc: 0.5245                                                                                                    \n",
      "epoch: 0002, loss: 0.4835 - val_loss: 0.4033; auc: 0.4332 - val_auc: 0.5161                                                                                                    \n",
      "epoch: 0003, loss: 0.3424 - val_loss: 0.2893; auc: 0.4301 - val_auc: 0.5035                                                                                                    \n",
      "epoch: 0004, loss: 0.2614 - val_loss: 0.2697; auc: 0.4525 - val_auc: 0.5299                                                                                                    \n",
      "epoch: 0005, loss: 0.2549 - val_loss: 0.2697; auc: 0.4809 - val_auc: 0.5297                                                                                                    \n",
      "epoch: 0006, loss: 0.2525 - val_loss: 0.2648; auc: 0.5311 - val_auc: 0.5336                                                                                                    \n",
      "epoch: 0007, loss: 0.2501 - val_loss: 0.2641; auc: 0.5968 - val_auc: 0.5792                                                                                                    \n",
      "epoch: 0008, loss: 0.2498 - val_loss: 0.2650; auc: 0.6232 - val_auc: 0.5865                                                                                                    \n",
      "epoch: 0009, loss: 0.2495 - val_loss: 0.2638; auc: 0.6505 - val_auc: 0.5976                                                                                                    \n",
      "epoch: 0010, loss: 0.2491 - val_loss: 0.2637; auc: 0.6696 - val_auc: 0.6056                                                                                                    \n",
      "epoch: 0011, loss: 0.2488 - val_loss: 0.2638; auc: 0.6853 - val_auc: 0.6165                                                                                                    \n",
      "epoch: 0012, loss: 0.2486 - val_loss: 0.2642; auc: 0.6998 - val_auc: 0.6268                                                                                                    \n",
      "epoch: 0013, loss: 0.2491 - val_loss: 0.2641; auc: 0.7123 - val_auc: 0.6389                                                                                                    \n",
      "epoch: 0014, loss: 0.2482 - val_loss: 0.2632; auc: 0.7259 - val_auc: 0.6394                                                                                                    \n",
      "epoch: 0015, loss: 0.2479 - val_loss: 0.2636; auc: 0.7347 - val_auc: 0.6496                                                                                                    \n",
      "epoch: 0016, loss: 0.2491 - val_loss: 0.2644; auc: 0.7393 - val_auc: 0.6578                                                                                                    \n",
      "epoch: 0017, loss: 0.2478 - val_loss: 0.2629; auc: 0.7459 - val_auc: 0.6603                                                                                                    \n",
      "epoch: 0018, loss: 0.2475 - val_loss: 0.2626; auc: 0.7554 - val_auc: 0.6699                                                                                                    \n",
      "epoch: 0019, loss: 0.2476 - val_loss: 0.2625; auc: 0.7582 - val_auc: 0.6697                                                                                                    \n",
      "epoch: 0020, loss: 0.2480 - val_loss: 0.2633; auc: 0.7587 - val_auc: 0.6761                                                                                                    \n",
      "epoch: 0021, loss: 0.2467 - val_loss: 0.2622; auc: 0.7659 - val_auc: 0.6766                                                                                                    \n",
      "epoch: 0022, loss: 0.2470 - val_loss: 0.2620; auc: 0.7699 - val_auc: 0.6797                                                                                                    \n",
      "epoch: 0023, loss: 0.2463 - val_loss: 0.2631; auc: 0.7693 - val_auc: 0.6856                                                                                                    \n",
      "epoch: 0024, loss: 0.2467 - val_loss: 0.2617; auc: 0.7766 - val_auc: 0.6833                                                                                                    \n",
      "epoch: 0025, loss: 0.2462 - val_loss: 0.2617; auc: 0.7807 - val_auc: 0.6866                                                                                                    \n",
      "epoch: 0026, loss: 0.2456 - val_loss: 0.2618; auc: 0.7843 - val_auc: 0.6925                                                                                                    \n",
      "epoch: 0027, loss: 0.2454 - val_loss: 0.2617; auc: 0.7875 - val_auc: 0.6941                                                                                                    \n",
      "epoch: 0028, loss: 0.2453 - val_loss: 0.2614; auc: 0.7888 - val_auc: 0.6978                                                                                                    \n",
      "epoch: 0029, loss: 0.2451 - val_loss: 0.2607; auc: 0.7917 - val_auc: 0.6967                                                                                                    \n",
      "epoch: 0030, loss: 0.2440 - val_loss: 0.2614; auc: 0.7903 - val_auc: 0.6960                                                                                                    \n",
      "epoch: 0031, loss: 0.2451 - val_loss: 0.2621; auc: 0.7907 - val_auc: 0.6957                                                                                                    \n",
      "epoch: 0032, loss: 0.2447 - val_loss: 0.2599; auc: 0.7950 - val_auc: 0.6969                                                                                                    \n",
      "epoch: 0033, loss: 0.2435 - val_loss: 0.2600; auc: 0.7951 - val_auc: 0.6999                                                                                                    \n",
      "epoch: 0034, loss: 0.2428 - val_loss: 0.2593; auc: 0.7968 - val_auc: 0.6995                                                                                                    \n",
      "epoch: 0035, loss: 0.2423 - val_loss: 0.2604; auc: 0.7959 - val_auc: 0.7007                                                                                                    \n",
      "epoch: 0036, loss: 0.2414 - val_loss: 0.2586; auc: 0.7981 - val_auc: 0.7034                                                                                                    \n",
      "epoch: 0037, loss: 0.2426 - val_loss: 0.2585; auc: 0.7983 - val_auc: 0.7049                                                                                                    \n",
      "epoch: 0038, loss: 0.2408 - val_loss: 0.2577; auc: 0.7974 - val_auc: 0.7058                                                                                                    \n",
      "epoch: 0039, loss: 0.2392 - val_loss: 0.2583; auc: 0.7952 - val_auc: 0.7078                                                                                                    \n",
      "epoch: 0040, loss: 0.2402 - val_loss: 0.2576; auc: 0.7964 - val_auc: 0.7097                                                                                                    \n",
      "epoch: 0041, loss: 0.2381 - val_loss: 0.2562; auc: 0.7988 - val_auc: 0.7120                                                                                                    \n",
      "epoch: 0042, loss: 0.2383 - val_loss: 0.2557; auc: 0.7976 - val_auc: 0.7114                                                                                                    \n",
      "epoch: 0043, loss: 0.2362 - val_loss: 0.2555; auc: 0.7984 - val_auc: 0.7123                                                                                                    \n",
      "epoch: 0044, loss: 0.2351 - val_loss: 0.2538; auc: 0.8015 - val_auc: 0.7132                                                                                                    \n",
      "epoch: 0045, loss: 0.2329 - val_loss: 0.2547; auc: 0.8022 - val_auc: 0.7120                                                                                                    \n",
      "epoch: 0046, loss: 0.2330 - val_loss: 0.2520; auc: 0.8006 - val_auc: 0.7091                                                                                                    \n",
      "epoch: 0047, loss: 0.2312 - val_loss: 0.2516; auc: 0.8023 - val_auc: 0.7086                                                                                                    \n",
      "epoch: 0048, loss: 0.2292 - val_loss: 0.2502; auc: 0.8043 - val_auc: 0.7086                                                                                                    \n",
      "epoch: 0049, loss: 0.2274 - val_loss: 0.2494; auc: 0.8036 - val_auc: 0.7062                                                                                                    \n",
      "epoch: 0050, loss: 0.2249 - val_loss: 0.2485; auc: 0.8046 - val_auc: 0.7040                                                                                                    \n",
      "epoch: 0051, loss: 0.2226 - val_loss: 0.2472; auc: 0.8049 - val_auc: 0.7034                                                                                                    \n",
      "epoch: 0052, loss: 0.2222 - val_loss: 0.2468; auc: 0.8047 - val_auc: 0.7050                                                                                                    \n",
      "epoch: 0053, loss: 0.2188 - val_loss: 0.2446; auc: 0.8034 - val_auc: 0.6999                                                                                                    \n",
      "epoch: 0054, loss: 0.2154 - val_loss: 0.2436; auc: 0.8047 - val_auc: 0.7014                                                                                                    \n",
      "epoch: 0055, loss: 0.2157 - val_loss: 0.2469; auc: 0.8060 - val_auc: 0.7008                                                                                                    \n",
      "epoch: 0056, loss: 0.2136 - val_loss: 0.2436; auc: 0.8058 - val_auc: 0.6990                                                                                                    \n",
      "epoch: 0057, loss: 0.2103 - val_loss: 0.2432; auc: 0.8084 - val_auc: 0.7064                                                                                                    \n",
      "epoch: 0058, loss: 0.2080 - val_loss: 0.2415; auc: 0.8072 - val_auc: 0.7025                                                                                                    \n",
      "epoch: 0059, loss: 0.2072 - val_loss: 0.2428; auc: 0.8107 - val_auc: 0.7027                                                                                                    \n",
      "epoch: 0060, loss: 0.2047 - val_loss: 0.2393; auc: 0.8101 - val_auc: 0.7018                                                                                                    \n",
      "epoch: 0061, loss: 0.2036 - val_loss: 0.2425; auc: 0.8100 - val_auc: 0.7008                                                                                                    \n",
      "epoch: 0062, loss: 0.2008 - val_loss: 0.2465; auc: 0.8144 - val_auc: 0.7045                                                                                                    \n",
      "epoch: 0063, loss: 0.2032 - val_loss: 0.2384; auc: 0.8150 - val_auc: 0.7059                                                                                                    \n",
      "epoch: 0064, loss: 0.1986 - val_loss: 0.2381; auc: 0.8185 - val_auc: 0.7019                                                                                                    \n",
      "epoch: 0065, loss: 0.1980 - val_loss: 0.2375; auc: 0.8218 - val_auc: 0.7052                                                                                                    \n",
      "epoch: 0066, loss: 0.1994 - val_loss: 0.2590; auc: 0.8261 - val_auc: 0.7084                                                                                                    \n",
      "epoch: 0067, loss: 0.2056 - val_loss: 0.2400; auc: 0.8255 - val_auc: 0.7044                                                                                                    \n",
      "epoch: 0068, loss: 0.1935 - val_loss: 0.2417; auc: 0.8304 - val_auc: 0.7099                                                                                                    \n",
      "epoch: 0069, loss: 0.1924 - val_loss: 0.2389; auc: 0.8305 - val_auc: 0.7073                                                                                                    \n",
      "epoch: 0070, loss: 0.1931 - val_loss: 0.2372; auc: 0.8324 - val_auc: 0.7083                                                                                                    \n",
      "epoch: 0071, loss: 0.1905 - val_loss: 0.2376; auc: 0.8347 - val_auc: 0.7100                                                                                                    \n",
      "epoch: 0072, loss: 0.1912 - val_loss: 0.2379; auc: 0.8361 - val_auc: 0.7115                                                                                                    \n",
      "epoch: 0073, loss: 0.1919 - val_loss: 0.2399; auc: 0.8360 - val_auc: 0.7128                                                                                                    \n",
      "epoch: 0074, loss: 0.1908 - val_loss: 0.2375; auc: 0.8400 - val_auc: 0.7150                                                                                                    \n",
      "epoch: 0075, loss: 0.1910 - val_loss: 0.2486; auc: 0.8421 - val_auc: 0.7179                                                                                                    \n",
      "epoch: 0076, loss: 0.1905 - val_loss: 0.2457; auc: 0.8415 - val_auc: 0.7158                                                                                                    \n",
      "epoch: 0077, loss: 0.1915 - val_loss: 0.2382; auc: 0.8458 - val_auc: 0.7226                                                                                                    \n",
      "epoch: 0078, loss: 0.1861 - val_loss: 0.2369; auc: 0.8466 - val_auc: 0.7212                                                                                                    \n",
      "epoch: 0079, loss: 0.1850 - val_loss: 0.2358; auc: 0.8488 - val_auc: 0.7227                                                                                                    \n",
      "epoch: 0080, loss: 0.1863 - val_loss: 0.2390; auc: 0.8489 - val_auc: 0.7239                                                                                                    \n",
      "epoch: 0081, loss: 0.1850 - val_loss: 0.2361; auc: 0.8514 - val_auc: 0.7240                                                                                                    \n",
      "epoch: 0082, loss: 0.1865 - val_loss: 0.2351; auc: 0.8552 - val_auc: 0.7235                                                                                                    \n",
      "epoch: 0083, loss: 0.1867 - val_loss: 0.2346; auc: 0.8558 - val_auc: 0.7267                                                                                                    \n",
      "epoch: 0084, loss: 0.1917 - val_loss: 0.2454; auc: 0.8591 - val_auc: 0.7304                                                                                                    \n",
      "epoch: 0085, loss: 0.1857 - val_loss: 0.2345; auc: 0.8594 - val_auc: 0.7276                                                                                                    \n",
      "epoch: 0086, loss: 0.1813 - val_loss: 0.2343; auc: 0.8607 - val_auc: 0.7295                                                                                                    \n",
      "epoch: 0087, loss: 0.1824 - val_loss: 0.2360; auc: 0.8617 - val_auc: 0.7303                                                                                                    \n",
      "epoch: 0088, loss: 0.1792 - val_loss: 0.2339; auc: 0.8647 - val_auc: 0.7313                                                                                                    \n",
      "epoch: 0089, loss: 0.1807 - val_loss: 0.2418; auc: 0.8669 - val_auc: 0.7365                                                                                                    \n",
      "epoch: 0090, loss: 0.1795 - val_loss: 0.2371; auc: 0.8653 - val_auc: 0.7352                                                                                                    \n",
      "epoch: 0091, loss: 0.1768 - val_loss: 0.2360; auc: 0.8702 - val_auc: 0.7386                                                                                                    \n",
      "epoch: 0092, loss: 0.1783 - val_loss: 0.2331; auc: 0.8709 - val_auc: 0.7369                                                                                                    \n",
      "epoch: 0093, loss: 0.1760 - val_loss: 0.2347; auc: 0.8716 - val_auc: 0.7358                                                                                                    \n",
      "epoch: 0094, loss: 0.1748 - val_loss: 0.2365; auc: 0.8742 - val_auc: 0.7403                                                                                                    \n",
      "epoch: 0095, loss: 0.1778 - val_loss: 0.2341; auc: 0.8752 - val_auc: 0.7395                                                                                                    \n",
      "epoch: 0096, loss: 0.1728 - val_loss: 0.2343; auc: 0.8762 - val_auc: 0.7415                                                                                                    \n",
      "epoch: 0097, loss: 0.1739 - val_loss: 0.2326; auc: 0.8780 - val_auc: 0.7452                                                                                                    \n",
      "epoch: 0098, loss: 0.1766 - val_loss: 0.2319; auc: 0.8828 - val_auc: 0.7464                                                                                                    \n",
      "epoch: 0099, loss: 0.1718 - val_loss: 0.2320; auc: 0.8835 - val_auc: 0.7485                                                                                                    \n",
      "epoch: 0100, loss: 0.1729 - val_loss: 0.2328; auc: 0.8837 - val_auc: 0.7514                                                                                                    \n",
      "epoch: 0101, loss: 0.1710 - val_loss: 0.2332; auc: 0.8855 - val_auc: 0.7510                                                                                                    \n",
      "epoch: 0102, loss: 0.1714 - val_loss: 0.2317; auc: 0.8874 - val_auc: 0.7500                                                                                                    \n",
      "epoch: 0103, loss: 0.1667 - val_loss: 0.2334; auc: 0.8896 - val_auc: 0.7498                                                                                                    \n",
      "epoch: 0104, loss: 0.1681 - val_loss: 0.2307; auc: 0.8926 - val_auc: 0.7535                                                                                                    \n",
      "epoch: 0105, loss: 0.1687 - val_loss: 0.2296; auc: 0.8956 - val_auc: 0.7550                                                                                                    \n",
      "epoch: 0106, loss: 0.1650 - val_loss: 0.2310; auc: 0.8980 - val_auc: 0.7591                                                                                                    \n",
      "epoch: 0107, loss: 0.1653 - val_loss: 0.2290; auc: 0.8990 - val_auc: 0.7583                                                                                                    \n",
      "epoch: 0108, loss: 0.1648 - val_loss: 0.2318; auc: 0.9001 - val_auc: 0.7583                                                                                                    \n",
      "epoch: 0109, loss: 0.1653 - val_loss: 0.2298; auc: 0.9005 - val_auc: 0.7581                                                                                                    \n",
      "epoch: 0110, loss: 0.1624 - val_loss: 0.2286; auc: 0.9033 - val_auc: 0.7608                                                                                                    \n",
      "epoch: 0111, loss: 0.1613 - val_loss: 0.2281; auc: 0.9037 - val_auc: 0.7630                                                                                                    \n",
      "epoch: 0112, loss: 0.1601 - val_loss: 0.2340; auc: 0.9054 - val_auc: 0.7654                                                                                                    \n",
      "epoch: 0113, loss: 0.1636 - val_loss: 0.2276; auc: 0.9069 - val_auc: 0.7655                                                                                                    \n",
      "epoch: 0114, loss: 0.1666 - val_loss: 0.2303; auc: 0.9101 - val_auc: 0.7673                                                                                                    \n",
      "epoch: 0115, loss: 0.1600 - val_loss: 0.2637; auc: 0.9087 - val_auc: 0.7652                                                                                                    \n",
      "epoch: 0116, loss: 0.1768 - val_loss: 0.2264; auc: 0.9113 - val_auc: 0.7668                                                                                                    \n",
      "epoch: 0117, loss: 0.1627 - val_loss: 0.2284; auc: 0.9128 - val_auc: 0.7705                                                                                                    \n",
      "epoch: 0118, loss: 0.1565 - val_loss: 0.2313; auc: 0.9146 - val_auc: 0.7733                                                                                                    \n",
      "epoch: 0119, loss: 0.1756 - val_loss: 0.2341; auc: 0.9147 - val_auc: 0.7699                                                                                                    \n",
      "epoch: 0120, loss: 0.1566 - val_loss: 0.2247; auc: 0.9168 - val_auc: 0.7757                                                                                                    \n",
      "epoch: 0121, loss: 0.1571 - val_loss: 0.2518; auc: 0.9191 - val_auc: 0.7772                                                                                                    \n",
      "epoch: 0122, loss: 0.1633 - val_loss: 0.2248; auc: 0.9194 - val_auc: 0.7777                                                                                                    \n",
      "epoch: 0123, loss: 0.1600 - val_loss: 0.2305; auc: 0.9186 - val_auc: 0.7782                                                                                                    \n",
      "epoch: 0124, loss: 0.1568 - val_loss: 0.2308; auc: 0.9206 - val_auc: 0.7769                                                                                                    \n",
      "epoch: 0125, loss: 0.1528 - val_loss: 0.2456; auc: 0.9240 - val_auc: 0.7791                                                                                                    \n",
      "epoch: 0126, loss: 0.1535 - val_loss: 0.2238; auc: 0.9220 - val_auc: 0.7801                                                                                                    \n",
      "epoch: 0127, loss: 0.1512 - val_loss: 0.2241; auc: 0.9230 - val_auc: 0.7794                                                                                                    \n",
      "epoch: 0128, loss: 0.1499 - val_loss: 0.2246; auc: 0.9256 - val_auc: 0.7809                                                                                                    \n",
      "epoch: 0129, loss: 0.1491 - val_loss: 0.2269; auc: 0.9264 - val_auc: 0.7827                                                                                                    \n",
      "epoch: 0130, loss: 0.1486 - val_loss: 0.2270; auc: 0.9290 - val_auc: 0.7859                                                                                                    \n",
      "epoch: 0131, loss: 0.1547 - val_loss: 0.2408; auc: 0.9297 - val_auc: 0.7865                                                                                                    \n",
      "epoch: 0132, loss: 0.1479 - val_loss: 0.2215; auc: 0.9327 - val_auc: 0.7875                                                                                                    \n",
      "epoch: 0133, loss: 0.1471 - val_loss: 0.2250; auc: 0.9333 - val_auc: 0.7863                                                                                                    \n",
      "epoch: 0134, loss: 0.1458 - val_loss: 0.2315; auc: 0.9335 - val_auc: 0.7853                                                                                                    \n",
      "epoch: 0135, loss: 0.1531 - val_loss: 0.2243; auc: 0.9312 - val_auc: 0.7873                                                                                                    \n",
      "epoch: 0136, loss: 0.1490 - val_loss: 0.2217; auc: 0.9329 - val_auc: 0.7875                                                                                                    \n",
      "epoch: 0137, loss: 0.1428 - val_loss: 0.2289; auc: 0.9362 - val_auc: 0.7909                                                                                                    \n",
      "epoch: 0138, loss: 0.1474 - val_loss: 0.2340; auc: 0.9373 - val_auc: 0.7908                                                                                                    \n",
      "epoch: 0139, loss: 0.1463 - val_loss: 0.2227; auc: 0.9370 - val_auc: 0.7887                                                                                                    \n",
      "epoch: 0140, loss: 0.1432 - val_loss: 0.2211; auc: 0.9386 - val_auc: 0.7910                                                                                                    \n",
      "epoch: 0141, loss: 0.1410 - val_loss: 0.2215; auc: 0.9396 - val_auc: 0.7935                                                                                                    \n",
      "epoch: 0142, loss: 0.1441 - val_loss: 0.2212; auc: 0.9410 - val_auc: 0.7955                                                                                                    \n",
      "epoch: 0143, loss: 0.1429 - val_loss: 0.2217; auc: 0.9417 - val_auc: 0.7961                                                                                                    \n",
      "epoch: 0144, loss: 0.1380 - val_loss: 0.2207; auc: 0.9425 - val_auc: 0.7957                                                                                                    \n",
      "epoch: 0145, loss: 0.1379 - val_loss: 0.2227; auc: 0.9423 - val_auc: 0.7950                                                                                                    \n",
      "epoch: 0146, loss: 0.1373 - val_loss: 0.2332; auc: 0.9436 - val_auc: 0.7962                                                                                                    \n",
      "epoch: 0147, loss: 0.1465 - val_loss: 0.2261; auc: 0.9451 - val_auc: 0.7941                                                                                                    \n",
      "epoch: 0148, loss: 0.1372 - val_loss: 0.2194; auc: 0.9464 - val_auc: 0.7967                                                                                                    \n",
      "epoch: 0149, loss: 0.1333 - val_loss: 0.2336; auc: 0.9468 - val_auc: 0.7954                                                                                                    \n",
      "epoch: 0150, loss: 0.1416 - val_loss: 0.2206; auc: 0.9486 - val_auc: 0.7963                                                                                                    \n",
      "epoch: 0151, loss: 0.1326 - val_loss: 0.2278; auc: 0.9485 - val_auc: 0.7945                                                                                                    \n",
      "epoch: 0152, loss: 0.1398 - val_loss: 0.2207; auc: 0.9498 - val_auc: 0.7988                                                                                                    \n",
      "epoch: 0153, loss: 0.1309 - val_loss: 0.2420; auc: 0.9512 - val_auc: 0.8042                                                                                                    \n",
      "epoch: 0154, loss: 0.1399 - val_loss: 0.2230; auc: 0.9510 - val_auc: 0.8029                                                                                                    \n",
      "epoch: 0155, loss: 0.1339 - val_loss: 0.2200; auc: 0.9514 - val_auc: 0.8025                                                                                                    \n",
      "epoch: 0156, loss: 0.1310 - val_loss: 0.2628; auc: 0.9518 - val_auc: 0.7998                                                                                                    \n",
      "epoch: 0157, loss: 0.1528 - val_loss: 0.2229; auc: 0.9517 - val_auc: 0.8009                                                                                                    \n",
      "epoch: 0158, loss: 0.1432 - val_loss: 0.2473; auc: 0.9517 - val_auc: 0.7992                                                                                                    \n",
      "\n",
      "Restoring model weights from the end of the best epoch.\n",
      "\n",
      "Epoch 00158: early stopping\n"
     ]
    },
    {
     "data": {
      "text/plain": [
       "<tensorflow.python.keras.callbacks.History at 0x7f097c4d5a58>"
      ]
     },
     "execution_count": 8,
     "metadata": {},
     "output_type": "execute_result"
    }
   ],
   "source": [
    "model.fit(trainX, trainY, batch_size=128, \n",
    "      epochs=500, verbose= 0, shuffle = True, \n",
    "      validation_data = (validX, validY), \n",
    "      callbacks=[earlystop]) "
   ]
  },
  {
   "cell_type": "code",
   "execution_count": 9,
   "metadata": {},
   "outputs": [
    {
     "data": {
      "text/plain": [
       "<matplotlib.axes._subplots.AxesSubplot at 0x7f0888539208>"
      ]
     },
     "execution_count": 9,
     "metadata": {},
     "output_type": "execute_result"
    },
    {
     "data": {
      "image/png": "[encoded data removed]",
      "text/plain": [
       "<Figure size 432x288 with 1 Axes>"
      ]
     },
     "metadata": {
      "needs_background": "light"
     },
     "output_type": "display_data"
    }
   ],
   "source": [
    "dfp = pd.DataFrame(earlystop.history)[['loss', 'val_loss', 'auc', 'val_auc']]\n",
    "dfp.plot()"
   ]
  },
  {
   "cell_type": "code",
   "execution_count": 10,
   "metadata": {},
   "outputs": [
    {
     "name": "stdout",
     "output_type": "stream",
     "text": [
      "0.9464030289491998 0.7967178175618074 0.8653169771874809\n"
     ]
    }
   ],
   "source": [
    "train_auc = np.mean(earlystop.evaluate(trainX, trainY))\n",
    "valid_auc = np.mean(earlystop.evaluate(validX, validY))\n",
    "test_auc = np.mean(earlystop.evaluate(testX, testY))\n",
    "\n",
    "\n",
    "print(train_auc, valid_auc, test_auc)"
   ]
  },
  {
   "cell_type": "code",
   "execution_count": 11,
   "metadata": {},
   "outputs": [
    {
     "data": {
      "text/plain": [
       "[0.8784972022382095, 0.8521367521367522]"
      ]
     },
     "execution_count": 11,
     "metadata": {},
     "output_type": "execute_result"
    }
   ],
   "source": [
    "earlystop.evaluate(testX, testY)"
   ]
  },
  {
   "cell_type": "code",
   "execution_count": null,
   "metadata": {},
   "outputs": [],
   "source": []
  },
  {
   "cell_type": "code",
   "execution_count": null,
   "metadata": {},
   "outputs": [],
   "source": []
  },
  {
   "cell_type": "code",
   "execution_count": null,
   "metadata": {},
   "outputs": [],
   "source": []
  },
  {
   "cell_type": "code",
   "execution_count": null,
   "metadata": {},
   "outputs": [],
   "source": []
  }
 ],
 "metadata": {
  "kernelspec": {
   "display_name": "Python 3",
   "language": "python",
   "name": "python3"
  },
  "language_info": {
   "codemirror_mode": {
    "name": "ipython",
    "version": 3
   },
   "file_extension": ".py",
   "mimetype": "text/x-python",
   "name": "python",
   "nbconvert_exporter": "python",
   "pygments_lexer": "ipython3",
   "version": "3.6.9"
  }
 },
 "nbformat": 4,
 "nbformat_minor": 4
}
