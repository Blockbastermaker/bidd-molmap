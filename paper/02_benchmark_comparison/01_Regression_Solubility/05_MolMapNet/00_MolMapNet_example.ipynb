{
 "cells": [
  {
   "cell_type": "code",
   "execution_count": 43,
   "metadata": {},
   "outputs": [],
   "source": [
    "from molmap import loadmap\n",
    "import molmap\n",
    "\n",
    "import matplotlib.pyplot as plt\n",
    "from joblib import dump, load\n",
    "from tqdm import tqdm\n",
    "import pandas as pd\n",
    "tqdm.pandas(ascii=True)\n",
    "\n",
    "import numpy as np\n",
    "import tensorflow as tf\n",
    "from tensorflow.keras.utils import plot_model\n",
    "from tensorflow.keras import Model, Input\n",
    "from tensorflow.keras.layers import MaxPool2D, GlobalMaxPool2D, BatchNormalization, Activation\n",
    "from tensorflow.keras.layers import Conv2D, Concatenate,Flatten, Dense, Dropout\n",
    "\n",
    "%matplotlib inline\n",
    "#use the second GPU, if negative value, CPUs will be used\n",
    "import os\n",
    "os.environ[\"CUDA_VISIBLE_DEVICES\"]=\"6\"\n",
    "\n",
    "\n",
    "def Inception(inputs, units = 8, strides = 1):\n",
    "    \"\"\"\n",
    "    naive google inception block\n",
    "    \"\"\"\n",
    "    x1 = Conv2D(units, 5, padding='same', activation = 'relu', strides = strides)(inputs)\n",
    "    x2 = Conv2D(units, 3, padding='same', activation = 'relu', strides = strides)(inputs)\n",
    "    x3 = Conv2D(units, 1, padding='same', activation = 'relu', strides = strides)(inputs)\n",
    "    outputs = Concatenate()([x1, x2, x3])    \n",
    "    return outputs\n",
    "\n",
    "    \n",
    "def SinglePathClassificationModel(molmap_shape,  n_outputs = 1, strides = 1):\n",
    "    \"\"\"molmap_shape: w, h, c\"\"\"\n",
    "    \n",
    "    assert len(molmap_shape) == 3\n",
    "    inputs = Input(molmap_shape)\n",
    "    \n",
    "    conv1 = Conv2D(48, 13, padding = 'same', activation='relu', strides = 1)(inputs)\n",
    "    \n",
    "    conv1 = MaxPool2D(pool_size = 3, strides = 2, padding = 'same')(conv1) #p1\n",
    "    \n",
    "    incept1 = Inception(conv1, strides = 1, units = 32)\n",
    "    \n",
    "    incept1 = MaxPool2D(pool_size = 3, strides = 2, padding = 'same')(incept1) #p2\n",
    "    \n",
    "    incept2 = Inception(incept1, strides = 1, units = 64)\n",
    "    \n",
    "    #flatten\n",
    "    flat1 = GlobalMaxPool2D()(incept2)   \n",
    "    d1 = Dense(128,activation='tanh')(flat1)\n",
    "    d1 = Dense(64,activation='tanh')(d1)\n",
    "    \n",
    "    outputs = Dense(n_outputs,activation='linear')(d1)\n",
    "    \n",
    "    model = tf.keras.Model(inputs=inputs, outputs=outputs)\n",
    "    \n",
    "    return model"
   ]
  },
  {
   "cell_type": "code",
   "execution_count": 44,
   "metadata": {},
   "outputs": [],
   "source": [
    "seed = 77\n",
    "np.random.seed(seed)\n",
    "tf.set_random_seed(seed)"
   ]
  },
  {
   "cell_type": "code",
   "execution_count": 45,
   "metadata": {},
   "outputs": [],
   "source": [
    "df_train = pd.read_csv('../train.csv', index_col = 0)\n",
    "df_valid = pd.read_csv('../valid.csv',  index_col = 0)\n",
    "df_test = pd.read_csv('../test.csv',  index_col = 0)\n",
    "df_etc = pd.read_csv('../etc.csv')\n",
    "task = 'measured log solubility in mols per litre'\n",
    "df_etc[task] = df_etc.Exp_LogS"
   ]
  },
  {
   "cell_type": "code",
   "execution_count": 46,
   "metadata": {},
   "outputs": [
    {
     "data": {
      "text/plain": [
       "(901, 113, 113, 120)"
      ]
     },
     "execution_count": 46,
     "metadata": {},
     "output_type": "execute_result"
    }
   ],
   "source": [
    "len(df_train), len(df_valid), len(df_test), len(df_etc)"
   ]
  },
  {
   "cell_type": "code",
   "execution_count": 47,
   "metadata": {},
   "outputs": [
    {
     "data": {
      "text/plain": [
       "(901, 113, 113, 120)"
      ]
     },
     "execution_count": 47,
     "metadata": {},
     "output_type": "execute_result"
    }
   ],
   "source": [
    "df = df_train.append(df_valid).append(df_test).append(df_etc)\n",
    "df = df.reset_index(drop=True)\n",
    "\n",
    "train_idx = df.index[:len(df_train)]\n",
    "valid_idx = df.index[len(df_train): len(df_train)+len(df_valid)]\n",
    "test_idx = df.index[len(df_train)+len(df_valid): len(df_train)+len(df_valid) + len(df_test)]\n",
    "etc_idx = df.index[-len(df_etc):]\n",
    "len(train_idx), len(valid_idx), len(test_idx), len(etc_idx)"
   ]
  },
  {
   "cell_type": "code",
   "execution_count": 48,
   "metadata": {},
   "outputs": [],
   "source": [
    "# calculate feature\n",
    "X1_name =  './X_descriptor.data'\n",
    "X2_name =  './X_fingerprint.data'\n",
    "\n",
    "if os.path.exists(X1_name):\n",
    "    X1 = load(X1_name)\n",
    "else:\n",
    "    mp1 = loadmap('../../../descriptor_grid_split.mp')\n",
    "    X1 = mp1.batch_transform(df.smiles, n_jobs = 8)\n",
    "    dump(X1, X1_name)\n",
    "    \n",
    "if os.path.exists(X2_name):\n",
    "    X2 = load(X2_name)\n",
    "else:\n",
    "    mp2 = loadmap('../../../fingerprint_grid_split.mp')\n",
    "    X2 = mp2.batch_transform(df.smiles, n_jobs = 8)\n",
    "    dump(X2, X2_name)"
   ]
  },
  {
   "cell_type": "code",
   "execution_count": 49,
   "metadata": {},
   "outputs": [],
   "source": [
    "Y = df[[task]].values\n",
    "\n",
    "trainX = X1[train_idx]\n",
    "trainY = Y[train_idx]\n",
    "\n",
    "validX = X1[valid_idx]\n",
    "validY = Y[valid_idx]\n",
    "\n",
    "\n",
    "testX = X1[test_idx]\n",
    "testY = Y[test_idx]\n",
    "\n",
    "etcX = X1[etc_idx]\n",
    "etcY = Y[etc_idx]\n"
   ]
  },
  {
   "cell_type": "code",
   "execution_count": 50,
   "metadata": {},
   "outputs": [],
   "source": [
    "from cbks import RegressionPerformance, EarlyStoppingAtMinLoss\n",
    "molmap1_size = X1.shape[1:]\n",
    "model = SinglePathClassificationModel(molmap1_size, n_outputs = Y.shape[1])"
   ]
  },
  {
   "cell_type": "code",
   "execution_count": 51,
   "metadata": {},
   "outputs": [],
   "source": [
    "earlystop = EarlyStoppingAtMinLoss(patience=30, criteria = 'val_loss')\n",
    "performace = RegressionPerformance((trainX, trainY), (validX, validY))\n",
    "lr = tf.keras.optimizers.Adam(lr=0.0001, beta_1=0.9, beta_2=0.999, epsilon=1e-08, decay=0.0) #\n",
    "model.compile(optimizer = lr, loss = 'mse')"
   ]
  },
  {
   "cell_type": "code",
   "execution_count": 52,
   "metadata": {},
   "outputs": [
    {
     "name": "stdout",
     "output_type": "stream",
     "text": [
      "epoch: 0001, loss: 11.9928 - val_loss: 7.6152; rmse: 2.6929 - rmse_val: 2.7596;  r2: 0.1393 - r2_val: 0.0682                                                                                                    \n",
      "epoch: 0002, loss: 5.8854 - val_loss: 4.2944; rmse: 2.1179 - rmse_val: 2.0723;  r2: 0.2212 - r2_val: 0.1447                                                                                                    \n",
      "epoch: 0003, loss: 4.4443 - val_loss: 4.1081; rmse: 2.1288 - rmse_val: 2.0268;  r2: 0.2837 - r2_val: 0.2055                                                                                                    \n",
      "epoch: 0004, loss: 4.5027 - val_loss: 4.0381; rmse: 2.0957 - rmse_val: 2.0095;  r2: 0.3166 - r2_val: 0.2399                                                                                                    \n",
      "epoch: 0005, loss: 4.3556 - val_loss: 4.1057; rmse: 2.0783 - rmse_val: 2.0263;  r2: 0.3523 - r2_val: 0.2775                                                                                                    \n",
      "epoch: 0006, loss: 4.2900 - val_loss: 3.9971; rmse: 2.0592 - rmse_val: 1.9993;  r2: 0.3770 - r2_val: 0.3040                                                                                                    \n",
      "epoch: 0007, loss: 4.2317 - val_loss: 3.8996; rmse: 2.0494 - rmse_val: 1.9748;  r2: 0.3965 - r2_val: 0.3273                                                                                                    \n",
      "epoch: 0008, loss: 4.1785 - val_loss: 3.9209; rmse: 2.0304 - rmse_val: 1.9801;  r2: 0.4301 - r2_val: 0.3645                                                                                                    \n",
      "epoch: 0009, loss: 4.1026 - val_loss: 3.8749; rmse: 2.0146 - rmse_val: 1.9685;  r2: 0.4389 - r2_val: 0.3735                                                                                                    \n",
      "epoch: 0010, loss: 4.0217 - val_loss: 3.7623; rmse: 1.9918 - rmse_val: 1.9397;  r2: 0.4383 - r2_val: 0.3746                                                                                                    \n",
      "epoch: 0011, loss: 3.9514 - val_loss: 3.7198; rmse: 1.9728 - rmse_val: 1.9287;  r2: 0.4518 - r2_val: 0.3902                                                                                                    \n",
      "epoch: 0012, loss: 3.8559 - val_loss: 3.5953; rmse: 1.9464 - rmse_val: 1.8961;  r2: 0.4498 - r2_val: 0.3886                                                                                                    \n",
      "epoch: 0013, loss: 3.7692 - val_loss: 3.4794; rmse: 1.9235 - rmse_val: 1.8653;  r2: 0.4519 - r2_val: 0.3938                                                                                                    \n",
      "epoch: 0014, loss: 3.6385 - val_loss: 3.3960; rmse: 1.8835 - rmse_val: 1.8428;  r2: 0.4684 - r2_val: 0.4128                                                                                                    \n",
      "epoch: 0015, loss: 3.5068 - val_loss: 3.2494; rmse: 1.8454 - rmse_val: 1.8026;  r2: 0.4589 - r2_val: 0.4045                                                                                                    \n",
      "epoch: 0016, loss: 3.4420 - val_loss: 3.1590; rmse: 1.8294 - rmse_val: 1.7773;  r2: 0.4655 - r2_val: 0.4149                                                                                                    \n",
      "epoch: 0017, loss: 3.2347 - val_loss: 3.0423; rmse: 1.7683 - rmse_val: 1.7442;  r2: 0.5007 - r2_val: 0.4545                                                                                                    \n",
      "epoch: 0018, loss: 3.0473 - val_loss: 2.8558; rmse: 1.7222 - rmse_val: 1.6899;  r2: 0.4827 - r2_val: 0.4372                                                                                                    \n",
      "epoch: 0019, loss: 2.9061 - val_loss: 2.7041; rmse: 1.6664 - rmse_val: 1.6444;  r2: 0.5093 - r2_val: 0.4678                                                                                                    \n",
      "epoch: 0020, loss: 2.7301 - val_loss: 2.5583; rmse: 1.6189 - rmse_val: 1.5995;  r2: 0.5194 - r2_val: 0.4804                                                                                                    \n",
      "epoch: 0021, loss: 2.5757 - val_loss: 2.4144; rmse: 1.5698 - rmse_val: 1.5538;  r2: 0.5394 - r2_val: 0.5038                                                                                                    \n",
      "epoch: 0022, loss: 2.4387 - val_loss: 2.2789; rmse: 1.5249 - rmse_val: 1.5096;  r2: 0.5607 - r2_val: 0.5289                                                                                                    \n",
      "epoch: 0023, loss: 2.2851 - val_loss: 2.1649; rmse: 1.4866 - rmse_val: 1.4714;  r2: 0.5885 - r2_val: 0.5615                                                                                                    \n",
      "epoch: 0024, loss: 2.2100 - val_loss: 2.0928; rmse: 1.4585 - rmse_val: 1.4466;  r2: 0.5819 - r2_val: 0.5559                                                                                                    \n",
      "epoch: 0025, loss: 2.0576 - val_loss: 1.9465; rmse: 1.4127 - rmse_val: 1.3952;  r2: 0.6227 - r2_val: 0.6017                                                                                                    \n",
      "epoch: 0026, loss: 1.9462 - val_loss: 1.8319; rmse: 1.3666 - rmse_val: 1.3535;  r2: 0.6337 - r2_val: 0.6142                                                                                                    \n",
      "epoch: 0027, loss: 1.8232 - val_loss: 1.7036; rmse: 1.3186 - rmse_val: 1.3052;  r2: 0.6532 - r2_val: 0.6352                                                                                                    \n",
      "epoch: 0028, loss: 1.7077 - val_loss: 1.6265; rmse: 1.2859 - rmse_val: 1.2754;  r2: 0.6625 - r2_val: 0.6461                                                                                                    \n",
      "epoch: 0029, loss: 1.6318 - val_loss: 1.5365; rmse: 1.2504 - rmse_val: 1.2395;  r2: 0.6745 - r2_val: 0.6590                                                                                                    \n",
      "epoch: 0030, loss: 1.6080 - val_loss: 1.4599; rmse: 1.2201 - rmse_val: 1.2083;  r2: 0.6939 - r2_val: 0.6795                                                                                                    \n",
      "epoch: 0031, loss: 1.5902 - val_loss: 1.6305; rmse: 1.2964 - rmse_val: 1.2769;  r2: 0.7191 - r2_val: 0.7013                                                                                                    \n",
      "epoch: 0032, loss: 1.5936 - val_loss: 1.4175; rmse: 1.1890 - rmse_val: 1.1906;  r2: 0.7144 - r2_val: 0.6973                                                                                                    \n",
      "epoch: 0033, loss: 1.5201 - val_loss: 1.4428; rmse: 1.1977 - rmse_val: 1.2011;  r2: 0.7253 - r2_val: 0.7087                                                                                                    \n",
      "epoch: 0034, loss: 1.4312 - val_loss: 1.3096; rmse: 1.1515 - rmse_val: 1.1444;  r2: 0.7370 - r2_val: 0.7178                                                                                                    \n",
      "epoch: 0035, loss: 1.3141 - val_loss: 1.2671; rmse: 1.1356 - rmse_val: 1.1257;  r2: 0.7362 - r2_val: 0.7172                                                                                                    \n",
      "epoch: 0036, loss: 1.2834 - val_loss: 1.4483; rmse: 1.1840 - rmse_val: 1.2035;  r2: 0.7276 - r2_val: 0.7103                                                                                                    \n",
      "epoch: 0037, loss: 1.2916 - val_loss: 1.2812; rmse: 1.1381 - rmse_val: 1.1319;  r2: 0.7523 - r2_val: 0.7283                                                                                                    \n",
      "epoch: 0038, loss: 1.2278 - val_loss: 1.1898; rmse: 1.0816 - rmse_val: 1.0908;  r2: 0.7534 - r2_val: 0.7307                                                                                                    \n",
      "epoch: 0039, loss: 1.1697 - val_loss: 1.1546; rmse: 1.0663 - rmse_val: 1.0745;  r2: 0.7611 - r2_val: 0.7365                                                                                                    \n",
      "epoch: 0040, loss: 1.1351 - val_loss: 1.1652; rmse: 1.0770 - rmse_val: 1.0794;  r2: 0.7657 - r2_val: 0.7390                                                                                                    \n",
      "epoch: 0041, loss: 1.1632 - val_loss: 1.2891; rmse: 1.1036 - rmse_val: 1.1354;  r2: 0.7645 - r2_val: 0.7392                                                                                                    \n",
      "epoch: 0042, loss: 1.1559 - val_loss: 1.0980; rmse: 1.0276 - rmse_val: 1.0479;  r2: 0.7757 - r2_val: 0.7457                                                                                                    \n",
      "epoch: 0043, loss: 1.1537 - val_loss: 1.1000; rmse: 1.0325 - rmse_val: 1.0488;  r2: 0.7813 - r2_val: 0.7488                                                                                                    \n",
      "epoch: 0044, loss: 1.0628 - val_loss: 1.0608; rmse: 1.0151 - rmse_val: 1.0300;  r2: 0.7815 - r2_val: 0.7513                                                                                                    \n",
      "epoch: 0045, loss: 1.0279 - val_loss: 1.1373; rmse: 1.0288 - rmse_val: 1.0664;  r2: 0.7796 - r2_val: 0.7524                                                                                                    \n",
      "epoch: 0046, loss: 1.0147 - val_loss: 1.3032; rmse: 1.1438 - rmse_val: 1.1416;  r2: 0.7931 - r2_val: 0.7587                                                                                                    \n",
      "epoch: 0047, loss: 1.2943 - val_loss: 1.5060; rmse: 1.1760 - rmse_val: 1.2272;  r2: 0.7951 - r2_val: 0.7626                                                                                                    \n",
      "epoch: 0048, loss: 1.1970 - val_loss: 1.0288; rmse: 0.9787 - rmse_val: 1.0143;  r2: 0.8059 - r2_val: 0.7688                                                                                                    \n",
      "epoch: 0049, loss: 0.9945 - val_loss: 1.1117; rmse: 1.0395 - rmse_val: 1.0544;  r2: 0.8075 - r2_val: 0.7701                                                                                                    \n",
      "epoch: 0050, loss: 1.0551 - val_loss: 1.1219; rmse: 1.0041 - rmse_val: 1.0592;  r2: 0.8039 - r2_val: 0.7711                                                                                                    \n",
      "epoch: 0051, loss: 0.9596 - val_loss: 0.9680; rmse: 0.9485 - rmse_val: 0.9839;  r2: 0.8129 - r2_val: 0.7753                                                                                                    \n",
      "epoch: 0052, loss: 0.8980 - val_loss: 0.9889; rmse: 0.9426 - rmse_val: 0.9944;  r2: 0.8087 - r2_val: 0.7741                                                                                                    \n",
      "epoch: 0053, loss: 0.8700 - val_loss: 0.9401; rmse: 0.9375 - rmse_val: 0.9696;  r2: 0.8164 - r2_val: 0.7794                                                                                                    \n",
      "epoch: 0054, loss: 0.8613 - val_loss: 0.9170; rmse: 0.9158 - rmse_val: 0.9576;  r2: 0.8241 - r2_val: 0.7858                                                                                                    \n",
      "epoch: 0055, loss: 0.8491 - val_loss: 0.9492; rmse: 0.9183 - rmse_val: 0.9743;  r2: 0.8270 - r2_val: 0.7896                                                                                                    \n",
      "epoch: 0056, loss: 0.8272 - val_loss: 0.9229; rmse: 0.9281 - rmse_val: 0.9607;  r2: 0.8338 - r2_val: 0.7947                                                                                                    \n",
      "epoch: 0057, loss: 0.8483 - val_loss: 0.8941; rmse: 0.9067 - rmse_val: 0.9455;  r2: 0.8354 - r2_val: 0.7957                                                                                                    \n",
      "epoch: 0058, loss: 0.8306 - val_loss: 0.9636; rmse: 0.9110 - rmse_val: 0.9816;  r2: 0.8336 - r2_val: 0.7958                                                                                                    \n",
      "epoch: 0059, loss: 0.8068 - val_loss: 0.9000; rmse: 0.8805 - rmse_val: 0.9487;  r2: 0.8363 - r2_val: 0.7986                                                                                                    \n",
      "epoch: 0060, loss: 0.7773 - val_loss: 0.8416; rmse: 0.8585 - rmse_val: 0.9174;  r2: 0.8411 - r2_val: 0.8024                                                                                                    \n",
      "epoch: 0061, loss: 0.7413 - val_loss: 0.8258; rmse: 0.8644 - rmse_val: 0.9087;  r2: 0.8432 - r2_val: 0.8043                                                                                                    \n",
      "epoch: 0062, loss: 0.7316 - val_loss: 0.8208; rmse: 0.8430 - rmse_val: 0.9060;  r2: 0.8459 - r2_val: 0.8082                                                                                                    \n",
      "epoch: 0063, loss: 0.7147 - val_loss: 0.8097; rmse: 0.8405 - rmse_val: 0.8998;  r2: 0.8527 - r2_val: 0.8139                                                                                                    \n",
      "epoch: 0064, loss: 0.7085 - val_loss: 0.7940; rmse: 0.8303 - rmse_val: 0.8911;  r2: 0.8557 - r2_val: 0.8184                                                                                                    \n",
      "epoch: 0065, loss: 0.6850 - val_loss: 0.7946; rmse: 0.8569 - rmse_val: 0.8914;  r2: 0.8574 - r2_val: 0.8193                                                                                                    \n",
      "epoch: 0066, loss: 0.7673 - val_loss: 0.7635; rmse: 0.8186 - rmse_val: 0.8738;  r2: 0.8602 - r2_val: 0.8209                                                                                                    \n",
      "epoch: 0067, loss: 0.6978 - val_loss: 0.8518; rmse: 0.8388 - rmse_val: 0.9229;  r2: 0.8573 - r2_val: 0.8207                                                                                                    \n",
      "epoch: 0068, loss: 0.6790 - val_loss: 0.7979; rmse: 0.8147 - rmse_val: 0.8932;  r2: 0.8618 - r2_val: 0.8247                                                                                                    \n",
      "epoch: 0069, loss: 0.6502 - val_loss: 0.8003; rmse: 0.8139 - rmse_val: 0.8946;  r2: 0.8660 - r2_val: 0.8282                                                                                                    \n",
      "epoch: 0070, loss: 0.6610 - val_loss: 0.7176; rmse: 0.7919 - rmse_val: 0.8471;  r2: 0.8688 - r2_val: 0.8307                                                                                                    \n",
      "epoch: 0071, loss: 0.6200 - val_loss: 0.7099; rmse: 0.7892 - rmse_val: 0.8425;  r2: 0.8695 - r2_val: 0.8317                                                                                                    \n",
      "epoch: 0072, loss: 0.6203 - val_loss: 0.7523; rmse: 0.7823 - rmse_val: 0.8673;  r2: 0.8683 - r2_val: 0.8315                                                                                                    \n",
      "epoch: 0073, loss: 0.6084 - val_loss: 0.7166; rmse: 0.7657 - rmse_val: 0.8466;  r2: 0.8714 - r2_val: 0.8327                                                                                                    \n",
      "epoch: 0074, loss: 0.5973 - val_loss: 0.7663; rmse: 0.7859 - rmse_val: 0.8754;  r2: 0.8772 - r2_val: 0.8360                                                                                                    \n",
      "epoch: 0075, loss: 0.6764 - val_loss: 0.6914; rmse: 0.7742 - rmse_val: 0.8315;  r2: 0.8786 - r2_val: 0.8386                                                                                                    \n",
      "epoch: 0076, loss: 0.5747 - val_loss: 0.7152; rmse: 0.8076 - rmse_val: 0.8457;  r2: 0.8785 - r2_val: 0.8393                                                                                                    \n",
      "epoch: 0077, loss: 0.6675 - val_loss: 0.6828; rmse: 0.7441 - rmse_val: 0.8263;  r2: 0.8827 - r2_val: 0.8426                                                                                                    \n",
      "epoch: 0078, loss: 0.5615 - val_loss: 0.6734; rmse: 0.7417 - rmse_val: 0.8206;  r2: 0.8848 - r2_val: 0.8479                                                                                                    \n",
      "epoch: 0079, loss: 0.5449 - val_loss: 0.6412; rmse: 0.7391 - rmse_val: 0.8007;  r2: 0.8824 - r2_val: 0.8466                                                                                                    \n",
      "epoch: 0080, loss: 0.5512 - val_loss: 0.6656; rmse: 0.7324 - rmse_val: 0.8159;  r2: 0.8820 - r2_val: 0.8466                                                                                                    \n",
      "epoch: 0081, loss: 0.5330 - val_loss: 0.6882; rmse: 0.7879 - rmse_val: 0.8296;  r2: 0.8898 - r2_val: 0.8505                                                                                                    \n",
      "epoch: 0082, loss: 0.6092 - val_loss: 0.6922; rmse: 0.7865 - rmse_val: 0.8320;  r2: 0.8889 - r2_val: 0.8488                                                                                                    \n",
      "epoch: 0083, loss: 0.6410 - val_loss: 0.7393; rmse: 0.8210 - rmse_val: 0.8598;  r2: 0.8916 - r2_val: 0.8505                                                                                                    \n",
      "epoch: 0084, loss: 0.7213 - val_loss: 0.7461; rmse: 0.8327 - rmse_val: 0.8638;  r2: 0.8945 - r2_val: 0.8546                                                                                                    \n",
      "epoch: 0085, loss: 0.8826 - val_loss: 0.6836; rmse: 0.7271 - rmse_val: 0.8268;  r2: 0.8890 - r2_val: 0.8511                                                                                                    \n",
      "epoch: 0086, loss: 0.5798 - val_loss: 0.7083; rmse: 0.7376 - rmse_val: 0.8416;  r2: 0.8901 - r2_val: 0.8522                                                                                                    \n",
      "epoch: 0087, loss: 0.5258 - val_loss: 0.6524; rmse: 0.7127 - rmse_val: 0.8077;  r2: 0.8931 - r2_val: 0.8545                                                                                                    \n",
      "epoch: 0088, loss: 0.5050 - val_loss: 0.6526; rmse: 0.7104 - rmse_val: 0.8078;  r2: 0.8921 - r2_val: 0.8559                                                                                                    \n",
      "epoch: 0089, loss: 0.4864 - val_loss: 0.6071; rmse: 0.6913 - rmse_val: 0.7792;  r2: 0.8953 - r2_val: 0.8578                                                                                                    \n",
      "epoch: 0090, loss: 0.4822 - val_loss: 0.5952; rmse: 0.6870 - rmse_val: 0.7715;  r2: 0.8968 - r2_val: 0.8587                                                                                                    \n",
      "epoch: 0091, loss: 0.4784 - val_loss: 0.5786; rmse: 0.6893 - rmse_val: 0.7607;  r2: 0.8983 - r2_val: 0.8612                                                                                                    \n",
      "epoch: 0092, loss: 0.4892 - val_loss: 0.5966; rmse: 0.7076 - rmse_val: 0.7724;  r2: 0.9020 - r2_val: 0.8619                                                                                                    \n",
      "epoch: 0093, loss: 0.5090 - val_loss: 0.5748; rmse: 0.6740 - rmse_val: 0.7582;  r2: 0.9019 - r2_val: 0.8633                                                                                                    \n",
      "epoch: 0094, loss: 0.4557 - val_loss: 0.6018; rmse: 0.6720 - rmse_val: 0.7757;  r2: 0.9028 - r2_val: 0.8649                                                                                                    \n",
      "epoch: 0095, loss: 0.4511 - val_loss: 0.5895; rmse: 0.6970 - rmse_val: 0.7678;  r2: 0.9063 - r2_val: 0.8647                                                                                                    \n",
      "epoch: 0096, loss: 0.5805 - val_loss: 0.6042; rmse: 0.6843 - rmse_val: 0.7773;  r2: 0.9058 - r2_val: 0.8690                                                                                                    \n",
      "epoch: 0097, loss: 0.4726 - val_loss: 0.5668; rmse: 0.6618 - rmse_val: 0.7528;  r2: 0.9030 - r2_val: 0.8667                                                                                                    \n",
      "epoch: 0098, loss: 0.4720 - val_loss: 0.7484; rmse: 0.7354 - rmse_val: 0.8651;  r2: 0.9027 - r2_val: 0.8650                                                                                                    \n",
      "epoch: 0099, loss: 0.4891 - val_loss: 0.6381; rmse: 0.6853 - rmse_val: 0.7988;  r2: 0.9080 - r2_val: 0.8716                                                                                                    \n",
      "epoch: 0100, loss: 0.4953 - val_loss: 0.5884; rmse: 0.6558 - rmse_val: 0.7671;  r2: 0.9081 - r2_val: 0.8703                                                                                                    \n",
      "epoch: 0101, loss: 0.5109 - val_loss: 0.5824; rmse: 0.6509 - rmse_val: 0.7632;  r2: 0.9083 - r2_val: 0.8705                                                                                                    \n",
      "epoch: 0102, loss: 0.4438 - val_loss: 0.5377; rmse: 0.6485 - rmse_val: 0.7333;  r2: 0.9131 - r2_val: 0.8731                                                                                                    \n",
      "epoch: 0103, loss: 0.4223 - val_loss: 0.6621; rmse: 0.7663 - rmse_val: 0.8137;  r2: 0.9142 - r2_val: 0.8725                                                                                                    \n",
      "epoch: 0104, loss: 0.5095 - val_loss: 0.5941; rmse: 0.7140 - rmse_val: 0.7708;  r2: 0.9149 - r2_val: 0.8740                                                                                                    \n",
      "epoch: 0105, loss: 0.4962 - val_loss: 0.5183; rmse: 0.6376 - rmse_val: 0.7200;  r2: 0.9149 - r2_val: 0.8767                                                                                                    \n",
      "epoch: 0106, loss: 0.4101 - val_loss: 0.5416; rmse: 0.6713 - rmse_val: 0.7360;  r2: 0.9167 - r2_val: 0.8785                                                                                                    \n",
      "epoch: 0107, loss: 0.4748 - val_loss: 0.5482; rmse: 0.6863 - rmse_val: 0.7404;  r2: 0.9178 - r2_val: 0.8812                                                                                                    \n",
      "epoch: 0108, loss: 0.5081 - val_loss: 0.5130; rmse: 0.6252 - rmse_val: 0.7162;  r2: 0.9180 - r2_val: 0.8790                                                                                                    \n",
      "epoch: 0109, loss: 0.4174 - val_loss: 0.6088; rmse: 0.6530 - rmse_val: 0.7802;  r2: 0.9157 - r2_val: 0.8767                                                                                                    \n",
      "epoch: 0110, loss: 0.3942 - val_loss: 0.7533; rmse: 0.7362 - rmse_val: 0.8679;  r2: 0.9148 - r2_val: 0.8797                                                                                                    \n",
      "epoch: 0111, loss: 0.5038 - val_loss: 0.6165; rmse: 0.6672 - rmse_val: 0.7852;  r2: 0.9159 - r2_val: 0.8839                                                                                                    \n",
      "epoch: 0112, loss: 0.4996 - val_loss: 0.5024; rmse: 0.6273 - rmse_val: 0.7088;  r2: 0.9177 - r2_val: 0.8806                                                                                                    \n",
      "epoch: 0113, loss: 0.4014 - val_loss: 0.5025; rmse: 0.6278 - rmse_val: 0.7089;  r2: 0.9188 - r2_val: 0.8810                                                                                                    \n",
      "epoch: 0114, loss: 0.3903 - val_loss: 0.5147; rmse: 0.6296 - rmse_val: 0.7174;  r2: 0.9199 - r2_val: 0.8796                                                                                                    \n",
      "epoch: 0115, loss: 0.3871 - val_loss: 0.5023; rmse: 0.6252 - rmse_val: 0.7088;  r2: 0.9211 - r2_val: 0.8820                                                                                                    \n",
      "epoch: 0116, loss: 0.3766 - val_loss: 0.4864; rmse: 0.6154 - rmse_val: 0.6974;  r2: 0.9218 - r2_val: 0.8848                                                                                                    \n",
      "epoch: 0117, loss: 0.3720 - val_loss: 0.4796; rmse: 0.6066 - rmse_val: 0.6926;  r2: 0.9222 - r2_val: 0.8854                                                                                                    \n",
      "epoch: 0118, loss: 0.3801 - val_loss: 0.5368; rmse: 0.6783 - rmse_val: 0.7326;  r2: 0.9242 - r2_val: 0.8873                                                                                                    \n",
      "epoch: 0119, loss: 0.4270 - val_loss: 0.4765; rmse: 0.5951 - rmse_val: 0.6903;  r2: 0.9244 - r2_val: 0.8914                                                                                                    \n",
      "epoch: 0120, loss: 0.3617 - val_loss: 0.5486; rmse: 0.6315 - rmse_val: 0.7406;  r2: 0.9187 - r2_val: 0.8891                                                                                                    \n",
      "epoch: 0121, loss: 0.3714 - val_loss: 0.6217; rmse: 0.6624 - rmse_val: 0.7885;  r2: 0.9204 - r2_val: 0.8889                                                                                                    \n",
      "epoch: 0122, loss: 0.4255 - val_loss: 0.6404; rmse: 0.6708 - rmse_val: 0.8002;  r2: 0.9221 - r2_val: 0.8886                                                                                                    \n",
      "epoch: 0123, loss: 0.4300 - val_loss: 0.4819; rmse: 0.5905 - rmse_val: 0.6942;  r2: 0.9261 - r2_val: 0.8884                                                                                                    \n",
      "epoch: 0124, loss: 0.3680 - val_loss: 0.4975; rmse: 0.6146 - rmse_val: 0.7053;  r2: 0.9254 - r2_val: 0.8841                                                                                                    \n",
      "epoch: 0125, loss: 0.3534 - val_loss: 0.4703; rmse: 0.5877 - rmse_val: 0.6858;  r2: 0.9274 - r2_val: 0.8882                                                                                                    \n",
      "epoch: 0126, loss: 0.3358 - val_loss: 0.6058; rmse: 0.7419 - rmse_val: 0.7783;  r2: 0.9274 - r2_val: 0.8897                                                                                                    \n",
      "epoch: 0127, loss: 0.4706 - val_loss: 0.5016; rmse: 0.6356 - rmse_val: 0.7082;  r2: 0.9278 - r2_val: 0.8890                                                                                                    \n",
      "epoch: 0128, loss: 0.3838 - val_loss: 0.5048; rmse: 0.5879 - rmse_val: 0.7105;  r2: 0.9279 - r2_val: 0.8906                                                                                                    \n",
      "epoch: 0129, loss: 0.3368 - val_loss: 0.4651; rmse: 0.5733 - rmse_val: 0.6819;  r2: 0.9275 - r2_val: 0.8927                                                                                                    \n",
      "epoch: 0130, loss: 0.3374 - val_loss: 0.5105; rmse: 0.5879 - rmse_val: 0.7145;  r2: 0.9285 - r2_val: 0.8922                                                                                                    \n",
      "epoch: 0131, loss: 0.3342 - val_loss: 0.4595; rmse: 0.5644 - rmse_val: 0.6778;  r2: 0.9304 - r2_val: 0.8926                                                                                                    \n",
      "epoch: 0132, loss: 0.3261 - val_loss: 0.4457; rmse: 0.5836 - rmse_val: 0.6676;  r2: 0.9297 - r2_val: 0.8936                                                                                                    \n",
      "epoch: 0133, loss: 0.3330 - val_loss: 0.4382; rmse: 0.5653 - rmse_val: 0.6620;  r2: 0.9305 - r2_val: 0.8952                                                                                                    \n",
      "epoch: 0134, loss: 0.3225 - val_loss: 0.4478; rmse: 0.5845 - rmse_val: 0.6692;  r2: 0.9323 - r2_val: 0.8961                                                                                                    \n",
      "epoch: 0135, loss: 0.3240 - val_loss: 0.4352; rmse: 0.5558 - rmse_val: 0.6597;  r2: 0.9319 - r2_val: 0.8963                                                                                                    \n",
      "epoch: 0136, loss: 0.3120 - val_loss: 0.4383; rmse: 0.5515 - rmse_val: 0.6621;  r2: 0.9328 - r2_val: 0.8963                                                                                                    \n",
      "epoch: 0137, loss: 0.3346 - val_loss: 0.4865; rmse: 0.6135 - rmse_val: 0.6975;  r2: 0.9335 - r2_val: 0.8929                                                                                                    \n",
      "epoch: 0138, loss: 0.3333 - val_loss: 0.4564; rmse: 0.5503 - rmse_val: 0.6756;  r2: 0.9331 - r2_val: 0.8945                                                                                                    \n",
      "epoch: 0139, loss: 0.3370 - val_loss: 0.4291; rmse: 0.5535 - rmse_val: 0.6551;  r2: 0.9346 - r2_val: 0.8976                                                                                                    \n",
      "epoch: 0140, loss: 0.3118 - val_loss: 0.4508; rmse: 0.5645 - rmse_val: 0.6714;  r2: 0.9355 - r2_val: 0.8946                                                                                                    \n",
      "epoch: 0141, loss: 0.3176 - val_loss: 0.4394; rmse: 0.5467 - rmse_val: 0.6629;  r2: 0.9352 - r2_val: 0.8948                                                                                                    \n",
      "epoch: 0142, loss: 0.2965 - val_loss: 0.4514; rmse: 0.5843 - rmse_val: 0.6719;  r2: 0.9358 - r2_val: 0.8966                                                                                                    \n",
      "epoch: 0143, loss: 0.3212 - val_loss: 0.5362; rmse: 0.5944 - rmse_val: 0.7322;  r2: 0.9365 - r2_val: 0.8984                                                                                                    \n",
      "epoch: 0144, loss: 0.3830 - val_loss: 0.5360; rmse: 0.5990 - rmse_val: 0.7321;  r2: 0.9361 - r2_val: 0.9010                                                                                                    \n",
      "epoch: 0145, loss: 0.3188 - val_loss: 0.4412; rmse: 0.5390 - rmse_val: 0.6642;  r2: 0.9360 - r2_val: 0.8988                                                                                                    \n",
      "epoch: 0146, loss: 0.2953 - val_loss: 0.5070; rmse: 0.5668 - rmse_val: 0.7120;  r2: 0.9346 - r2_val: 0.8932                                                                                                    \n",
      "epoch: 0147, loss: 0.3273 - val_loss: 0.4676; rmse: 0.5487 - rmse_val: 0.6838;  r2: 0.9349 - r2_val: 0.8954                                                                                                    \n",
      "epoch: 0148, loss: 0.2977 - val_loss: 0.4519; rmse: 0.5602 - rmse_val: 0.6723;  r2: 0.9367 - r2_val: 0.8942                                                                                                    \n",
      "epoch: 0149, loss: 0.3314 - val_loss: 0.4527; rmse: 0.5391 - rmse_val: 0.6728;  r2: 0.9367 - r2_val: 0.8979                                                                                                    \n",
      "epoch: 0150, loss: 0.2935 - val_loss: 0.4091; rmse: 0.5426 - rmse_val: 0.6396;  r2: 0.9375 - r2_val: 0.9023                                                                                                    \n",
      "epoch: 0151, loss: 0.2959 - val_loss: 0.4192; rmse: 0.5362 - rmse_val: 0.6475;  r2: 0.9403 - r2_val: 0.9024                                                                                                    \n",
      "epoch: 0152, loss: 0.2852 - val_loss: 0.6837; rmse: 0.6875 - rmse_val: 0.8269;  r2: 0.9374 - r2_val: 0.9035                                                                                                    \n",
      "epoch: 0153, loss: 0.4355 - val_loss: 0.9827; rmse: 0.8644 - rmse_val: 0.9913;  r2: 0.9319 - r2_val: 0.9022                                                                                                    \n",
      "epoch: 0154, loss: 0.5046 - val_loss: 0.5675; rmse: 0.6206 - rmse_val: 0.7533;  r2: 0.9384 - r2_val: 0.9027                                                                                                    \n",
      "epoch: 0155, loss: 0.3209 - val_loss: 0.5072; rmse: 0.5665 - rmse_val: 0.7121;  r2: 0.9382 - r2_val: 0.8982                                                                                                    \n",
      "epoch: 0156, loss: 0.2927 - val_loss: 0.4235; rmse: 0.5236 - rmse_val: 0.6508;  r2: 0.9402 - r2_val: 0.9013                                                                                                    \n",
      "epoch: 0157, loss: 0.2830 - val_loss: 0.4196; rmse: 0.5243 - rmse_val: 0.6477;  r2: 0.9417 - r2_val: 0.9047                                                                                                    \n",
      "epoch: 0158, loss: 0.2748 - val_loss: 0.4407; rmse: 0.5320 - rmse_val: 0.6638;  r2: 0.9392 - r2_val: 0.9033                                                                                                    \n",
      "epoch: 0159, loss: 0.2917 - val_loss: 0.4214; rmse: 0.5238 - rmse_val: 0.6492;  r2: 0.9398 - r2_val: 0.9040                                                                                                    \n",
      "epoch: 0160, loss: 0.2768 - val_loss: 0.4360; rmse: 0.5335 - rmse_val: 0.6603;  r2: 0.9423 - r2_val: 0.9065                                                                                                    \n",
      "epoch: 0161, loss: 0.2814 - val_loss: 0.3976; rmse: 0.5167 - rmse_val: 0.6306;  r2: 0.9410 - r2_val: 0.9066                                                                                                    \n",
      "epoch: 0162, loss: 0.2830 - val_loss: 0.4131; rmse: 0.5395 - rmse_val: 0.6428;  r2: 0.9412 - r2_val: 0.9020                                                                                                    \n",
      "epoch: 0163, loss: 0.3216 - val_loss: 0.5164; rmse: 0.6457 - rmse_val: 0.7185;  r2: 0.9421 - r2_val: 0.9012                                                                                                    \n",
      "epoch: 0164, loss: 0.3393 - val_loss: 0.5309; rmse: 0.6667 - rmse_val: 0.7286;  r2: 0.9425 - r2_val: 0.9025                                                                                                    \n",
      "epoch: 0165, loss: 0.3376 - val_loss: 0.4036; rmse: 0.5239 - rmse_val: 0.6353;  r2: 0.9437 - r2_val: 0.9043                                                                                                    \n",
      "epoch: 0166, loss: 0.2783 - val_loss: 0.4025; rmse: 0.5371 - rmse_val: 0.6344;  r2: 0.9439 - r2_val: 0.9063                                                                                                    \n",
      "epoch: 0167, loss: 0.2756 - val_loss: 0.4294; rmse: 0.5594 - rmse_val: 0.6553;  r2: 0.9444 - r2_val: 0.9054                                                                                                    \n",
      "epoch: 0168, loss: 0.2906 - val_loss: 0.4008; rmse: 0.5199 - rmse_val: 0.6331;  r2: 0.9446 - r2_val: 0.9051                                                                                                    \n",
      "epoch: 0169, loss: 0.2646 - val_loss: 0.4026; rmse: 0.5059 - rmse_val: 0.6345;  r2: 0.9435 - r2_val: 0.9052                                                                                                    \n",
      "epoch: 0170, loss: 0.2717 - val_loss: 0.4198; rmse: 0.5433 - rmse_val: 0.6479;  r2: 0.9438 - r2_val: 0.9028                                                                                                    \n",
      "epoch: 0171, loss: 0.2784 - val_loss: 0.3939; rmse: 0.5114 - rmse_val: 0.6276;  r2: 0.9448 - r2_val: 0.9066                                                                                                    \n",
      "epoch: 0172, loss: 0.2670 - val_loss: 0.3881; rmse: 0.5295 - rmse_val: 0.6230;  r2: 0.9442 - r2_val: 0.9101                                                                                                    \n",
      "epoch: 0173, loss: 0.2622 - val_loss: 0.4065; rmse: 0.5074 - rmse_val: 0.6376;  r2: 0.9452 - r2_val: 0.9104                                                                                                    \n",
      "epoch: 0174, loss: 0.2507 - val_loss: 0.3859; rmse: 0.4928 - rmse_val: 0.6212;  r2: 0.9468 - r2_val: 0.9099                                                                                                    \n",
      "epoch: 0175, loss: 0.2475 - val_loss: 0.3910; rmse: 0.5133 - rmse_val: 0.6253;  r2: 0.9473 - r2_val: 0.9089                                                                                                    \n",
      "epoch: 0176, loss: 0.2564 - val_loss: 0.4010; rmse: 0.5396 - rmse_val: 0.6332;  r2: 0.9475 - r2_val: 0.9102                                                                                                    \n",
      "epoch: 0177, loss: 0.2557 - val_loss: 0.3877; rmse: 0.5055 - rmse_val: 0.6226;  r2: 0.9478 - r2_val: 0.9087                                                                                                    \n",
      "epoch: 0178, loss: 0.2464 - val_loss: 0.4134; rmse: 0.5029 - rmse_val: 0.6430;  r2: 0.9479 - r2_val: 0.9119                                                                                                    \n",
      "epoch: 0179, loss: 0.2974 - val_loss: 0.5284; rmse: 0.5884 - rmse_val: 0.7270;  r2: 0.9462 - r2_val: 0.9138                                                                                                    \n",
      "epoch: 0180, loss: 0.2777 - val_loss: 0.3761; rmse: 0.4912 - rmse_val: 0.6133;  r2: 0.9484 - r2_val: 0.9134                                                                                                    \n",
      "epoch: 0181, loss: 0.2488 - val_loss: 0.3732; rmse: 0.4956 - rmse_val: 0.6109;  r2: 0.9482 - r2_val: 0.9107                                                                                                    \n",
      "epoch: 0182, loss: 0.2426 - val_loss: 0.3761; rmse: 0.4800 - rmse_val: 0.6132;  r2: 0.9491 - r2_val: 0.9111                                                                                                    \n",
      "epoch: 0183, loss: 0.2336 - val_loss: 0.3733; rmse: 0.4819 - rmse_val: 0.6110;  r2: 0.9492 - r2_val: 0.9110                                                                                                    \n",
      "epoch: 0184, loss: 0.2385 - val_loss: 0.3693; rmse: 0.4776 - rmse_val: 0.6077;  r2: 0.9496 - r2_val: 0.9131                                                                                                    \n",
      "epoch: 0185, loss: 0.2302 - val_loss: 0.4103; rmse: 0.5381 - rmse_val: 0.6406;  r2: 0.9496 - r2_val: 0.9089                                                                                                    \n",
      "epoch: 0186, loss: 0.2629 - val_loss: 0.4358; rmse: 0.5612 - rmse_val: 0.6601;  r2: 0.9497 - r2_val: 0.9077                                                                                                    \n",
      "epoch: 0187, loss: 0.2807 - val_loss: 0.3786; rmse: 0.4730 - rmse_val: 0.6153;  r2: 0.9506 - r2_val: 0.9104                                                                                                    \n",
      "epoch: 0188, loss: 0.2422 - val_loss: 0.4262; rmse: 0.5047 - rmse_val: 0.6529;  r2: 0.9505 - r2_val: 0.9126                                                                                                    \n",
      "epoch: 0189, loss: 0.2417 - val_loss: 0.4104; rmse: 0.4917 - rmse_val: 0.6406;  r2: 0.9508 - r2_val: 0.9122                                                                                                    \n",
      "epoch: 0190, loss: 0.2300 - val_loss: 0.3829; rmse: 0.4807 - rmse_val: 0.6188;  r2: 0.9502 - r2_val: 0.9141                                                                                                    \n",
      "epoch: 0191, loss: 0.2285 - val_loss: 0.3806; rmse: 0.4825 - rmse_val: 0.6169;  r2: 0.9505 - r2_val: 0.9159                                                                                                    \n",
      "epoch: 0192, loss: 0.2385 - val_loss: 0.5063; rmse: 0.5633 - rmse_val: 0.7115;  r2: 0.9509 - r2_val: 0.9141                                                                                                    \n",
      "epoch: 0193, loss: 0.2738 - val_loss: 0.3968; rmse: 0.4805 - rmse_val: 0.6299;  r2: 0.9519 - r2_val: 0.9135                                                                                                    \n",
      "epoch: 0194, loss: 0.2403 - val_loss: 0.3789; rmse: 0.4762 - rmse_val: 0.6156;  r2: 0.9521 - r2_val: 0.9169                                                                                                    \n",
      "epoch: 0195, loss: 0.2253 - val_loss: 0.4711; rmse: 0.5989 - rmse_val: 0.6863;  r2: 0.9522 - r2_val: 0.9111                                                                                                    \n",
      "epoch: 0196, loss: 0.3493 - val_loss: 0.4354; rmse: 0.5486 - rmse_val: 0.6599;  r2: 0.9494 - r2_val: 0.9060                                                                                                    \n",
      "epoch: 0197, loss: 0.2690 - val_loss: 0.3647; rmse: 0.5101 - rmse_val: 0.6038;  r2: 0.9482 - r2_val: 0.9144                                                                                                    \n",
      "epoch: 0198, loss: 0.2428 - val_loss: 0.3684; rmse: 0.4791 - rmse_val: 0.6070;  r2: 0.9519 - r2_val: 0.9174                                                                                                    \n",
      "epoch: 0199, loss: 0.2324 - val_loss: 0.3547; rmse: 0.4726 - rmse_val: 0.5956;  r2: 0.9506 - r2_val: 0.9176                                                                                                    \n",
      "epoch: 0200, loss: 0.2610 - val_loss: 0.3948; rmse: 0.5102 - rmse_val: 0.6283;  r2: 0.9442 - r2_val: 0.9110                                                                                                    \n",
      "epoch: 0201, loss: 0.2628 - val_loss: 0.3835; rmse: 0.4881 - rmse_val: 0.6192;  r2: 0.9506 - r2_val: 0.9150                                                                                                    \n",
      "epoch: 0202, loss: 0.2564 - val_loss: 0.6258; rmse: 0.6594 - rmse_val: 0.7911;  r2: 0.9464 - r2_val: 0.9152                                                                                                    \n",
      "epoch: 0203, loss: 0.3375 - val_loss: 0.6541; rmse: 0.6639 - rmse_val: 0.8088;  r2: 0.9498 - r2_val: 0.9136                                                                                                    \n",
      "epoch: 0204, loss: 0.3645 - val_loss: 0.3735; rmse: 0.4678 - rmse_val: 0.6112;  r2: 0.9524 - r2_val: 0.9139                                                                                                    \n",
      "epoch: 0205, loss: 0.2605 - val_loss: 0.3880; rmse: 0.5222 - rmse_val: 0.6229;  r2: 0.9524 - r2_val: 0.9142                                                                                                    \n",
      "epoch: 0206, loss: 0.2401 - val_loss: 0.4350; rmse: 0.5551 - rmse_val: 0.6596;  r2: 0.9528 - r2_val: 0.9108                                                                                                    \n",
      "epoch: 0207, loss: 0.2731 - val_loss: 0.3657; rmse: 0.4593 - rmse_val: 0.6048;  r2: 0.9536 - r2_val: 0.9147                                                                                                    \n",
      "epoch: 0208, loss: 0.2862 - val_loss: 0.4339; rmse: 0.5227 - rmse_val: 0.6588;  r2: 0.9493 - r2_val: 0.9179                                                                                                    \n",
      "epoch: 0209, loss: 0.2327 - val_loss: 0.4416; rmse: 0.5167 - rmse_val: 0.6645;  r2: 0.9527 - r2_val: 0.9154                                                                                                    \n",
      "epoch: 0210, loss: 0.2404 - val_loss: 0.6972; rmse: 0.7683 - rmse_val: 0.8349;  r2: 0.9504 - r2_val: 0.9051                                                                                                    \n",
      "epoch: 0211, loss: 0.5214 - val_loss: 1.1854; rmse: 1.0442 - rmse_val: 1.0888;  r2: 0.9448 - r2_val: 0.8979                                                                                                    \n",
      "epoch: 0212, loss: 0.5894 - val_loss: 0.7575; rmse: 0.8193 - rmse_val: 0.8704;  r2: 0.9475 - r2_val: 0.9052                                                                                                    \n",
      "epoch: 0213, loss: 0.4194 - val_loss: 0.4715; rmse: 0.6112 - rmse_val: 0.6866;  r2: 0.9494 - r2_val: 0.9088                                                                                                    \n",
      "epoch: 0214, loss: 0.2770 - val_loss: 0.3936; rmse: 0.5337 - rmse_val: 0.6273;  r2: 0.9506 - r2_val: 0.9120                                                                                                    \n",
      "epoch: 0215, loss: 0.2528 - val_loss: 0.3686; rmse: 0.4715 - rmse_val: 0.6071;  r2: 0.9519 - r2_val: 0.9123                                                                                                    \n",
      "epoch: 0216, loss: 0.2233 - val_loss: 0.3791; rmse: 0.4955 - rmse_val: 0.6157;  r2: 0.9530 - r2_val: 0.9130                                                                                                    \n",
      "epoch: 0217, loss: 0.2343 - val_loss: 0.3549; rmse: 0.4718 - rmse_val: 0.5957;  r2: 0.9531 - r2_val: 0.9157                                                                                                    \n",
      "epoch: 0218, loss: 0.2185 - val_loss: 0.3735; rmse: 0.4610 - rmse_val: 0.6112;  r2: 0.9534 - r2_val: 0.9141                                                                                                    \n",
      "epoch: 0219, loss: 0.2130 - val_loss: 0.3718; rmse: 0.4568 - rmse_val: 0.6097;  r2: 0.9548 - r2_val: 0.9153                                                                                                    \n",
      "epoch: 0220, loss: 0.2185 - val_loss: 0.3933; rmse: 0.4750 - rmse_val: 0.6272;  r2: 0.9552 - r2_val: 0.9164                                                                                                    \n",
      "epoch: 0221, loss: 0.2251 - val_loss: 0.5195; rmse: 0.5641 - rmse_val: 0.7207;  r2: 0.9539 - r2_val: 0.9165                                                                                                    \n",
      "epoch: 0222, loss: 0.3064 - val_loss: 0.5039; rmse: 0.5525 - rmse_val: 0.7098;  r2: 0.9538 - r2_val: 0.9156                                                                                                    \n",
      "epoch: 0223, loss: 0.2578 - val_loss: 0.4471; rmse: 0.5133 - rmse_val: 0.6686;  r2: 0.9560 - r2_val: 0.9172                                                                                                    \n",
      "epoch: 0224, loss: 0.2265 - val_loss: 0.4208; rmse: 0.4894 - rmse_val: 0.6487;  r2: 0.9552 - r2_val: 0.9162                                                                                                    \n",
      "epoch: 0225, loss: 0.2198 - val_loss: 0.3537; rmse: 0.4579 - rmse_val: 0.5947;  r2: 0.9563 - r2_val: 0.9157                                                                                                    \n",
      "epoch: 0226, loss: 0.2279 - val_loss: 0.3619; rmse: 0.4589 - rmse_val: 0.6016;  r2: 0.9556 - r2_val: 0.9144                                                                                                    \n",
      "epoch: 0227, loss: 0.2147 - val_loss: 0.3580; rmse: 0.4436 - rmse_val: 0.5983;  r2: 0.9570 - r2_val: 0.9166                                                                                                    \n",
      "epoch: 0228, loss: 0.2040 - val_loss: 0.3511; rmse: 0.4497 - rmse_val: 0.5926;  r2: 0.9560 - r2_val: 0.9200                                                                                                    \n",
      "epoch: 0229, loss: 0.1977 - val_loss: 0.3462; rmse: 0.4421 - rmse_val: 0.5884;  r2: 0.9579 - r2_val: 0.9185                                                                                                    \n",
      "epoch: 0230, loss: 0.1972 - val_loss: 0.3452; rmse: 0.4405 - rmse_val: 0.5876;  r2: 0.9571 - r2_val: 0.9180                                                                                                    \n",
      "epoch: 0231, loss: 0.1949 - val_loss: 0.3507; rmse: 0.4381 - rmse_val: 0.5922;  r2: 0.9578 - r2_val: 0.9186                                                                                                    \n",
      "epoch: 0232, loss: 0.1939 - val_loss: 0.3964; rmse: 0.4791 - rmse_val: 0.6296;  r2: 0.9569 - r2_val: 0.9218                                                                                                    \n",
      "epoch: 0233, loss: 0.2267 - val_loss: 0.4874; rmse: 0.5482 - rmse_val: 0.6981;  r2: 0.9560 - r2_val: 0.9217                                                                                                    \n",
      "epoch: 0234, loss: 0.2376 - val_loss: 0.4662; rmse: 0.5205 - rmse_val: 0.6828;  r2: 0.9569 - r2_val: 0.9187                                                                                                    \n",
      "epoch: 0235, loss: 0.2360 - val_loss: 0.3365; rmse: 0.4408 - rmse_val: 0.5801;  r2: 0.9581 - r2_val: 0.9201                                                                                                    \n",
      "epoch: 0236, loss: 0.2780 - val_loss: 0.4287; rmse: 0.5527 - rmse_val: 0.6548;  r2: 0.9584 - r2_val: 0.9181                                                                                                    \n",
      "epoch: 0237, loss: 0.2957 - val_loss: 0.4408; rmse: 0.5694 - rmse_val: 0.6640;  r2: 0.9583 - r2_val: 0.9172                                                                                                    \n",
      "epoch: 0238, loss: 0.2466 - val_loss: 0.3530; rmse: 0.4407 - rmse_val: 0.5942;  r2: 0.9583 - r2_val: 0.9211                                                                                                    \n",
      "epoch: 0239, loss: 0.2622 - val_loss: 0.9132; rmse: 0.8126 - rmse_val: 0.9555;  r2: 0.9489 - r2_val: 0.9199                                                                                                    \n",
      "epoch: 0240, loss: 0.4891 - val_loss: 0.5320; rmse: 0.5757 - rmse_val: 0.7295;  r2: 0.9566 - r2_val: 0.9186                                                                                                    \n",
      "epoch: 0241, loss: 0.2738 - val_loss: 0.4617; rmse: 0.5206 - rmse_val: 0.6795;  r2: 0.9562 - r2_val: 0.9158                                                                                                    \n",
      "epoch: 0242, loss: 0.2332 - val_loss: 0.3714; rmse: 0.4616 - rmse_val: 0.6094;  r2: 0.9560 - r2_val: 0.9200                                                                                                    \n",
      "epoch: 0243, loss: 0.2098 - val_loss: 0.4218; rmse: 0.4888 - rmse_val: 0.6495;  r2: 0.9570 - r2_val: 0.9184                                                                                                    \n",
      "epoch: 0244, loss: 0.2255 - val_loss: 0.5136; rmse: 0.5526 - rmse_val: 0.7167;  r2: 0.9573 - r2_val: 0.9170                                                                                                    \n",
      "epoch: 0245, loss: 0.2446 - val_loss: 0.3924; rmse: 0.4717 - rmse_val: 0.6264;  r2: 0.9562 - r2_val: 0.9202                                                                                                    \n",
      "epoch: 0246, loss: 0.2026 - val_loss: 0.3813; rmse: 0.4608 - rmse_val: 0.6175;  r2: 0.9593 - r2_val: 0.9216                                                                                                    \n",
      "epoch: 0247, loss: 0.1959 - val_loss: 0.4489; rmse: 0.5106 - rmse_val: 0.6700;  r2: 0.9591 - r2_val: 0.9217                                                                                                    \n",
      "epoch: 0248, loss: 0.2213 - val_loss: 0.3629; rmse: 0.4439 - rmse_val: 0.6024;  r2: 0.9590 - r2_val: 0.9208                                                                                                    \n",
      "epoch: 0249, loss: 0.1986 - val_loss: 0.3461; rmse: 0.4516 - rmse_val: 0.5883;  r2: 0.9599 - r2_val: 0.9197                                                                                                    \n",
      "epoch: 0250, loss: 0.2040 - val_loss: 0.3614; rmse: 0.4632 - rmse_val: 0.6012;  r2: 0.9600 - r2_val: 0.9175                                                                                                    \n",
      "epoch: 0251, loss: 0.2051 - val_loss: 0.3293; rmse: 0.4268 - rmse_val: 0.5739;  r2: 0.9608 - r2_val: 0.9210                                                                                                    \n",
      "epoch: 0252, loss: 0.1919 - val_loss: 0.3383; rmse: 0.4239 - rmse_val: 0.5817;  r2: 0.9603 - r2_val: 0.9206                                                                                                    \n",
      "epoch: 0253, loss: 0.1845 - val_loss: 0.3437; rmse: 0.4295 - rmse_val: 0.5863;  r2: 0.9615 - r2_val: 0.9204                                                                                                    \n",
      "epoch: 0254, loss: 0.1872 - val_loss: 0.3318; rmse: 0.4383 - rmse_val: 0.5760;  r2: 0.9609 - r2_val: 0.9213                                                                                                    \n",
      "epoch: 0255, loss: 0.1904 - val_loss: 0.3412; rmse: 0.4245 - rmse_val: 0.5841;  r2: 0.9607 - r2_val: 0.9221                                                                                                    \n",
      "epoch: 0256, loss: 0.1885 - val_loss: 0.4024; rmse: 0.4663 - rmse_val: 0.6344;  r2: 0.9610 - r2_val: 0.9216                                                                                                    \n",
      "epoch: 0257, loss: 0.1897 - val_loss: 0.3532; rmse: 0.4295 - rmse_val: 0.5943;  r2: 0.9615 - r2_val: 0.9216                                                                                                    \n",
      "epoch: 0258, loss: 0.1946 - val_loss: 0.3740; rmse: 0.4508 - rmse_val: 0.6116;  r2: 0.9611 - r2_val: 0.9219                                                                                                    \n",
      "epoch: 0259, loss: 0.1821 - val_loss: 0.3515; rmse: 0.4235 - rmse_val: 0.5929;  r2: 0.9611 - r2_val: 0.9195                                                                                                    \n",
      "epoch: 0260, loss: 0.1767 - val_loss: 0.3723; rmse: 0.4408 - rmse_val: 0.6102;  r2: 0.9625 - r2_val: 0.9222                                                                                                    \n",
      "epoch: 0261, loss: 0.1815 - val_loss: 0.3219; rmse: 0.4139 - rmse_val: 0.5674;  r2: 0.9629 - r2_val: 0.9229                                                                                                    \n",
      "epoch: 0262, loss: 0.1780 - val_loss: 0.3326; rmse: 0.4275 - rmse_val: 0.5767;  r2: 0.9635 - r2_val: 0.9219                                                                                                    \n",
      "epoch: 0263, loss: 0.1848 - val_loss: 0.3410; rmse: 0.4142 - rmse_val: 0.5840;  r2: 0.9635 - r2_val: 0.9229                                                                                                    \n",
      "epoch: 0264, loss: 0.2185 - val_loss: 0.5171; rmse: 0.5714 - rmse_val: 0.7191;  r2: 0.9568 - r2_val: 0.9237                                                                                                    \n",
      "epoch: 0265, loss: 0.2589 - val_loss: 0.5854; rmse: 0.6129 - rmse_val: 0.7652;  r2: 0.9606 - r2_val: 0.9225                                                                                                    \n",
      "epoch: 0266, loss: 0.2882 - val_loss: 0.5411; rmse: 0.5745 - rmse_val: 0.7356;  r2: 0.9594 - r2_val: 0.9182                                                                                                    \n",
      "epoch: 0267, loss: 0.2305 - val_loss: 0.4432; rmse: 0.5062 - rmse_val: 0.6657;  r2: 0.9602 - r2_val: 0.9217                                                                                                    \n",
      "epoch: 0268, loss: 0.2153 - val_loss: 0.3724; rmse: 0.4385 - rmse_val: 0.6103;  r2: 0.9615 - r2_val: 0.9202                                                                                                    \n",
      "epoch: 0269, loss: 0.2118 - val_loss: 0.3476; rmse: 0.4205 - rmse_val: 0.5896;  r2: 0.9620 - r2_val: 0.9168                                                                                                    \n",
      "epoch: 0270, loss: 0.1777 - val_loss: 0.3312; rmse: 0.4156 - rmse_val: 0.5755;  r2: 0.9633 - r2_val: 0.9212                                                                                                    \n",
      "epoch: 0271, loss: 0.1711 - val_loss: 0.3397; rmse: 0.4130 - rmse_val: 0.5828;  r2: 0.9628 - r2_val: 0.9185                                                                                                    \n",
      "epoch: 0272, loss: 0.1857 - val_loss: 0.3593; rmse: 0.4288 - rmse_val: 0.5994;  r2: 0.9612 - r2_val: 0.9141                                                                                                    \n",
      "epoch: 0273, loss: 0.1853 - val_loss: 0.4144; rmse: 0.5322 - rmse_val: 0.6438;  r2: 0.9628 - r2_val: 0.9195                                                                                                    \n",
      "epoch: 0274, loss: 0.2198 - val_loss: 0.3462; rmse: 0.4249 - rmse_val: 0.5884;  r2: 0.9632 - r2_val: 0.9177                                                                                                    \n",
      "epoch: 0275, loss: 0.1841 - val_loss: 0.4193; rmse: 0.4723 - rmse_val: 0.6475;  r2: 0.9626 - r2_val: 0.9215                                                                                                    \n",
      "epoch: 0276, loss: 0.2326 - val_loss: 0.5061; rmse: 0.5469 - rmse_val: 0.7114;  r2: 0.9620 - r2_val: 0.9225                                                                                                    \n",
      "epoch: 0277, loss: 0.2326 - val_loss: 0.4292; rmse: 0.4755 - rmse_val: 0.6552;  r2: 0.9629 - r2_val: 0.9213                                                                                                    \n",
      "epoch: 0278, loss: 0.1952 - val_loss: 0.3521; rmse: 0.4131 - rmse_val: 0.5934;  r2: 0.9634 - r2_val: 0.9209                                                                                                    \n",
      "epoch: 0279, loss: 0.1668 - val_loss: 0.3307; rmse: 0.4026 - rmse_val: 0.5751;  r2: 0.9642 - r2_val: 0.9214                                                                                                    \n",
      "epoch: 0280, loss: 0.1647 - val_loss: 0.3250; rmse: 0.4175 - rmse_val: 0.5700;  r2: 0.9649 - r2_val: 0.9227                                                                                                    \n",
      "epoch: 0281, loss: 0.1665 - val_loss: 0.3660; rmse: 0.4296 - rmse_val: 0.6050;  r2: 0.9646 - r2_val: 0.9252                                                                                                    \n",
      "epoch: 0282, loss: 0.1909 - val_loss: 0.5532; rmse: 0.5875 - rmse_val: 0.7437;  r2: 0.9619 - r2_val: 0.9259                                                                                                    \n",
      "epoch: 0283, loss: 0.2661 - val_loss: 0.4378; rmse: 0.4889 - rmse_val: 0.6617;  r2: 0.9647 - r2_val: 0.9234                                                                                                    \n",
      "epoch: 0284, loss: 0.2100 - val_loss: 0.3309; rmse: 0.4068 - rmse_val: 0.5752;  r2: 0.9634 - r2_val: 0.9228                                                                                                    \n",
      "epoch: 0285, loss: 0.1821 - val_loss: 0.3584; rmse: 0.4521 - rmse_val: 0.5987;  r2: 0.9650 - r2_val: 0.9197                                                                                                    \n",
      "epoch: 0286, loss: 0.2011 - val_loss: 0.3314; rmse: 0.4078 - rmse_val: 0.5756;  r2: 0.9650 - r2_val: 0.9207                                                                                                    \n",
      "epoch: 0287, loss: 0.1617 - val_loss: 0.3165; rmse: 0.4006 - rmse_val: 0.5626;  r2: 0.9644 - r2_val: 0.9259                                                                                                    \n",
      "epoch: 0288, loss: 0.1691 - val_loss: 0.3219; rmse: 0.3951 - rmse_val: 0.5673;  r2: 0.9661 - r2_val: 0.9243                                                                                                    \n",
      "epoch: 0289, loss: 0.1638 - val_loss: 0.3303; rmse: 0.3924 - rmse_val: 0.5747;  r2: 0.9660 - r2_val: 0.9216                                                                                                    \n",
      "epoch: 0290, loss: 0.1587 - val_loss: 0.3242; rmse: 0.3921 - rmse_val: 0.5694;  r2: 0.9661 - r2_val: 0.9239                                                                                                    \n",
      "epoch: 0291, loss: 0.1567 - val_loss: 0.3455; rmse: 0.3979 - rmse_val: 0.5878;  r2: 0.9662 - r2_val: 0.9218                                                                                                    \n",
      "epoch: 0292, loss: 0.1584 - val_loss: 0.3202; rmse: 0.3905 - rmse_val: 0.5658;  r2: 0.9662 - r2_val: 0.9244                                                                                                    \n",
      "epoch: 0293, loss: 0.1605 - val_loss: 0.3243; rmse: 0.3877 - rmse_val: 0.5695;  r2: 0.9667 - r2_val: 0.9233                                                                                                    \n",
      "epoch: 0294, loss: 0.1563 - val_loss: 0.3174; rmse: 0.3903 - rmse_val: 0.5634;  r2: 0.9663 - r2_val: 0.9247                                                                                                    \n",
      "epoch: 0295, loss: 0.1538 - val_loss: 0.3173; rmse: 0.4071 - rmse_val: 0.5633;  r2: 0.9672 - r2_val: 0.9253                                                                                                    \n",
      "epoch: 0296, loss: 0.1594 - val_loss: 0.3172; rmse: 0.4093 - rmse_val: 0.5632;  r2: 0.9675 - r2_val: 0.9253                                                                                                    \n",
      "epoch: 0297, loss: 0.1549 - val_loss: 0.3185; rmse: 0.3828 - rmse_val: 0.5643;  r2: 0.9676 - r2_val: 0.9239                                                                                                    \n",
      "epoch: 0298, loss: 0.1494 - val_loss: 0.3238; rmse: 0.3884 - rmse_val: 0.5690;  r2: 0.9678 - r2_val: 0.9223                                                                                                    \n",
      "epoch: 0299, loss: 0.1495 - val_loss: 0.3200; rmse: 0.3806 - rmse_val: 0.5657;  r2: 0.9680 - r2_val: 0.9237                                                                                                    \n",
      "epoch: 0300, loss: 0.1481 - val_loss: 0.3351; rmse: 0.3925 - rmse_val: 0.5789;  r2: 0.9680 - r2_val: 0.9261                                                                                                    \n",
      "epoch: 0301, loss: 0.1487 - val_loss: 0.3122; rmse: 0.3807 - rmse_val: 0.5587;  r2: 0.9681 - r2_val: 0.9254                                                                                                    \n",
      "epoch: 0302, loss: 0.1500 - val_loss: 0.3061; rmse: 0.3882 - rmse_val: 0.5533;  r2: 0.9684 - r2_val: 0.9267                                                                                                    \n",
      "epoch: 0303, loss: 0.1528 - val_loss: 0.3402; rmse: 0.3935 - rmse_val: 0.5833;  r2: 0.9685 - r2_val: 0.9258                                                                                                    \n",
      "epoch: 0304, loss: 0.1711 - val_loss: 0.3620; rmse: 0.4229 - rmse_val: 0.6017;  r2: 0.9673 - r2_val: 0.9268                                                                                                    \n",
      "epoch: 0305, loss: 0.1645 - val_loss: 0.3089; rmse: 0.3791 - rmse_val: 0.5559;  r2: 0.9685 - r2_val: 0.9261                                                                                                    \n",
      "epoch: 0306, loss: 0.1465 - val_loss: 0.3810; rmse: 0.4273 - rmse_val: 0.6172;  r2: 0.9680 - r2_val: 0.9254                                                                                                    \n",
      "epoch: 0307, loss: 0.1700 - val_loss: 0.3992; rmse: 0.4533 - rmse_val: 0.6319;  r2: 0.9674 - r2_val: 0.9268                                                                                                    \n",
      "epoch: 0308, loss: 0.1826 - val_loss: 0.3440; rmse: 0.3961 - rmse_val: 0.5865;  r2: 0.9685 - r2_val: 0.9256                                                                                                    \n",
      "epoch: 0309, loss: 0.1534 - val_loss: 0.3312; rmse: 0.3897 - rmse_val: 0.5755;  r2: 0.9679 - r2_val: 0.9266                                                                                                    \n",
      "epoch: 0310, loss: 0.1478 - val_loss: 0.3309; rmse: 0.3784 - rmse_val: 0.5752;  r2: 0.9691 - r2_val: 0.9235                                                                                                    \n",
      "epoch: 0311, loss: 0.1443 - val_loss: 0.3308; rmse: 0.3865 - rmse_val: 0.5751;  r2: 0.9687 - r2_val: 0.9266                                                                                                    \n",
      "epoch: 0312, loss: 0.1469 - val_loss: 0.4036; rmse: 0.4437 - rmse_val: 0.6352;  r2: 0.9694 - r2_val: 0.9255                                                                                                    \n",
      "epoch: 0313, loss: 0.1582 - val_loss: 0.3627; rmse: 0.4096 - rmse_val: 0.6022;  r2: 0.9695 - r2_val: 0.9261                                                                                                    \n",
      "epoch: 0314, loss: 0.1558 - val_loss: 0.3129; rmse: 0.3756 - rmse_val: 0.5593;  r2: 0.9688 - r2_val: 0.9254                                                                                                    \n",
      "epoch: 0315, loss: 0.1464 - val_loss: 0.3391; rmse: 0.3841 - rmse_val: 0.5823;  r2: 0.9690 - r2_val: 0.9244                                                                                                    \n",
      "epoch: 0316, loss: 0.1555 - val_loss: 0.3859; rmse: 0.4859 - rmse_val: 0.6212;  r2: 0.9692 - r2_val: 0.9230                                                                                                    \n",
      "epoch: 0317, loss: 0.2216 - val_loss: 0.3419; rmse: 0.3991 - rmse_val: 0.5847;  r2: 0.9662 - r2_val: 0.9180                                                                                                    \n",
      "epoch: 0318, loss: 0.1839 - val_loss: 0.5031; rmse: 0.5290 - rmse_val: 0.7092;  r2: 0.9660 - r2_val: 0.9234                                                                                                    \n",
      "epoch: 0319, loss: 0.2200 - val_loss: 0.3293; rmse: 0.4068 - rmse_val: 0.5738;  r2: 0.9657 - r2_val: 0.9265                                                                                                    \n",
      "epoch: 0320, loss: 0.2075 - val_loss: 0.3318; rmse: 0.4272 - rmse_val: 0.5760;  r2: 0.9676 - r2_val: 0.9234                                                                                                    \n",
      "epoch: 0321, loss: 0.1693 - val_loss: 0.3733; rmse: 0.4021 - rmse_val: 0.6110;  r2: 0.9678 - r2_val: 0.9195                                                                                                    \n",
      "epoch: 0322, loss: 0.1821 - val_loss: 0.4593; rmse: 0.4954 - rmse_val: 0.6777;  r2: 0.9672 - r2_val: 0.9250                                                                                                    \n",
      "epoch: 0323, loss: 0.2027 - val_loss: 0.3316; rmse: 0.4073 - rmse_val: 0.5759;  r2: 0.9673 - r2_val: 0.9217                                                                                                    \n",
      "epoch: 0324, loss: 0.2122 - val_loss: 0.4218; rmse: 0.5103 - rmse_val: 0.6495;  r2: 0.9657 - r2_val: 0.9175                                                                                                    \n",
      "epoch: 0325, loss: 0.2013 - val_loss: 0.3265; rmse: 0.3896 - rmse_val: 0.5715;  r2: 0.9671 - r2_val: 0.9216                                                                                                    \n",
      "epoch: 0326, loss: 0.1709 - val_loss: 0.3213; rmse: 0.3832 - rmse_val: 0.5668;  r2: 0.9680 - r2_val: 0.9242                                                                                                    \n",
      "epoch: 0327, loss: 0.1627 - val_loss: 0.3215; rmse: 0.3765 - rmse_val: 0.5669;  r2: 0.9691 - r2_val: 0.9243                                                                                                    \n",
      "epoch: 0328, loss: 0.1754 - val_loss: 0.3321; rmse: 0.4123 - rmse_val: 0.5763;  r2: 0.9655 - r2_val: 0.9214                                                                                                    \n",
      "epoch: 0329, loss: 0.1642 - val_loss: 0.3760; rmse: 0.4087 - rmse_val: 0.6132;  r2: 0.9670 - r2_val: 0.9190                                                                                                    \n",
      "epoch: 0330, loss: 0.1632 - val_loss: 0.3682; rmse: 0.4141 - rmse_val: 0.6068;  r2: 0.9676 - r2_val: 0.9236                                                                                                    \n",
      "epoch: 0331, loss: 0.1673 - val_loss: 0.4881; rmse: 0.5163 - rmse_val: 0.6987;  r2: 0.9670 - r2_val: 0.9251                                                                                                    \n",
      "epoch: 0332, loss: 0.2352 - val_loss: 0.3169; rmse: 0.3943 - rmse_val: 0.5630;  r2: 0.9685 - r2_val: 0.9246                                                                                                    \n",
      "\n",
      "Restoring model weights from the end of the best epoch.\n",
      "\n",
      "Epoch 00332: early stopping\n"
     ]
    },
    {
     "data": {
      "text/plain": [
       "<tensorflow.python.keras.callbacks.History at 0x7f5b821fb470>"
      ]
     },
     "execution_count": 52,
     "metadata": {},
     "output_type": "execute_result"
    }
   ],
   "source": [
    "model.fit(trainX, trainY, batch_size=128, \n",
    "      epochs=500, verbose= 0, shuffle = True, \n",
    "      validation_data = (validX, validY), \n",
    "      callbacks=[performace, earlystop]) "
   ]
  },
  {
   "cell_type": "code",
   "execution_count": 53,
   "metadata": {},
   "outputs": [
    {
     "data": {
      "text/plain": [
       "<matplotlib.axes._subplots.AxesSubplot at 0x7f5b78ee3550>"
      ]
     },
     "execution_count": 53,
     "metadata": {},
     "output_type": "execute_result"
    },
    {
     "data": {
      "image/png": "[encoded data removed]",
      "text/plain": [
       "<Figure size 432x288 with 1 Axes>"
      ]
     },
     "metadata": {
      "needs_background": "light"
     },
     "output_type": "display_data"
    }
   ],
   "source": [
    "dfp = pd.DataFrame(performace.history)[['training_loss', 'validation_loss']]\n",
    "dfp.plot()"
   ]
  },
  {
   "cell_type": "code",
   "execution_count": 54,
   "metadata": {},
   "outputs": [
    {
     "data": {
      "text/plain": [
       "([0.3881588738853565], [0.9684018480949267])"
      ]
     },
     "execution_count": 54,
     "metadata": {},
     "output_type": "execute_result"
    }
   ],
   "source": [
    "performace.evaluate(trainX, trainY) # RMSE, R^2"
   ]
  },
  {
   "cell_type": "code",
   "execution_count": 55,
   "metadata": {},
   "outputs": [
    {
     "data": {
      "text/plain": [
       "([0.5532972697532323], [0.9266626374078654])"
      ]
     },
     "execution_count": 55,
     "metadata": {},
     "output_type": "execute_result"
    }
   ],
   "source": [
    "performace.evaluate(validX, validY) # RMSE, R^2"
   ]
  },
  {
   "cell_type": "code",
   "execution_count": 56,
   "metadata": {},
   "outputs": [
    {
     "data": {
      "text/plain": [
       "([0.4799582762858571], [0.9400108218334348])"
      ]
     },
     "execution_count": 56,
     "metadata": {},
     "output_type": "execute_result"
    }
   ],
   "source": [
    "performace.evaluate(testX, testY) # RMSE, R^2"
   ]
  },
  {
   "cell_type": "code",
   "execution_count": 57,
   "metadata": {},
   "outputs": [
    {
     "data": {
      "text/plain": [
       "([0.8109738607323443], [0.429108343674506])"
      ]
     },
     "execution_count": 57,
     "metadata": {},
     "output_type": "execute_result"
    }
   ],
   "source": [
    "performace.evaluate(etcX, etcY)  # RMSE, R^2"
   ]
  },
  {
   "cell_type": "code",
   "execution_count": 58,
   "metadata": {},
   "outputs": [
    {
     "data": {
      "text/html": [
       "<div>\n",
       "<style scoped>\n",
       "    .dataframe tbody tr th:only-of-type {\n",
       "        vertical-align: middle;\n",
       "    }\n",
       "\n",
       "    .dataframe tbody tr th {\n",
       "        vertical-align: top;\n",
       "    }\n",
       "\n",
       "    .dataframe thead th {\n",
       "        text-align: right;\n",
       "    }\n",
       "</style>\n",
       "<table border=\"1\" class=\"dataframe\">\n",
       "  <thead>\n",
       "    <tr style=\"text-align: right;\">\n",
       "      <th></th>\n",
       "      <th>Exp_LogS</th>\n",
       "      <th>Pred_LogS</th>\n",
       "    </tr>\n",
       "  </thead>\n",
       "  <tbody>\n",
       "    <tr>\n",
       "      <td>Exp_LogS</td>\n",
       "      <td>1.000000</td>\n",
       "      <td>0.655064</td>\n",
       "    </tr>\n",
       "    <tr>\n",
       "      <td>Pred_LogS</td>\n",
       "      <td>0.655064</td>\n",
       "      <td>1.000000</td>\n",
       "    </tr>\n",
       "  </tbody>\n",
       "</table>\n",
       "</div>"
      ],
      "text/plain": [
       "           Exp_LogS  Pred_LogS\n",
       "Exp_LogS   1.000000   0.655064\n",
       "Pred_LogS  0.655064   1.000000"
      ]
     },
     "execution_count": 58,
     "metadata": {},
     "output_type": "execute_result"
    }
   ],
   "source": [
    "dfr = df_etc[['Exp_LogS']].join(pd.DataFrame(performace.model.predict(etcX), columns= ['Pred_LogS']))\n",
    "dfr.corr()"
   ]
  },
  {
   "cell_type": "code",
   "execution_count": 59,
   "metadata": {},
   "outputs": [
    {
     "data": {
      "text/plain": [
       "<matplotlib.collections.PathCollection at 0x7f5b78dfbe10>"
      ]
     },
     "execution_count": 59,
     "metadata": {},
     "output_type": "execute_result"
    },
    {
     "data": {
      "image/png": "[encoded data removed]",
      "text/plain": [
       "<Figure size 576x432 with 1 Axes>"
      ]
     },
     "metadata": {
      "needs_background": "light"
     },
     "output_type": "display_data"
    }
   ],
   "source": [
    "plt.figure(figsize = (8,6))\n",
    "plt.scatter(dfr.Exp_LogS, dfr.Pred_LogS)"
   ]
  },
  {
   "cell_type": "code",
   "execution_count": null,
   "metadata": {},
   "outputs": [],
   "source": []
  },
  {
   "cell_type": "code",
   "execution_count": null,
   "metadata": {},
   "outputs": [],
   "source": []
  },
  {
   "cell_type": "code",
   "execution_count": null,
   "metadata": {},
   "outputs": [],
   "source": []
  },
  {
   "cell_type": "code",
   "execution_count": null,
   "metadata": {},
   "outputs": [],
   "source": []
  },
  {
   "cell_type": "code",
   "execution_count": null,
   "metadata": {},
   "outputs": [],
   "source": []
  }
 ],
 "metadata": {
  "kernelspec": {
   "display_name": "Python 3",
   "language": "python",
   "name": "python3"
  },
  "language_info": {
   "codemirror_mode": {
    "name": "ipython",
    "version": 3
   },
   "file_extension": ".py",
   "mimetype": "text/x-python",
   "name": "python",
   "nbconvert_exporter": "python",
   "pygments_lexer": "ipython3",
   "version": "3.6.9"
  }
 },
 "nbformat": 4,
 "nbformat_minor": 4
}
