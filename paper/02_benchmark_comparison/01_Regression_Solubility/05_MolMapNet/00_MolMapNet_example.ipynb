{
 "cells": [
  {
   "cell_type": "code",
   "execution_count": 1,
   "metadata": {},
   "outputs": [
    {
     "name": "stderr",
     "output_type": "stream",
     "text": [
      "/home/sxh/anaconda3/envs/my-rdkit-env/lib/python3.6/site-packages/tensorflow/python/framework/dtypes.py:516: FutureWarning: Passing (type, 1) or '1type' as a synonym of type is deprecated; in a future version of numpy, it will be understood as (type, (1,)) / '(1,)type'.\n",
      "  _np_qint8 = np.dtype([(\"qint8\", np.int8, 1)])\n",
      "/home/sxh/anaconda3/envs/my-rdkit-env/lib/python3.6/site-packages/tensorflow/python/framework/dtypes.py:517: FutureWarning: Passing (type, 1) or '1type' as a synonym of type is deprecated; in a future version of numpy, it will be understood as (type, (1,)) / '(1,)type'.\n",
      "  _np_quint8 = np.dtype([(\"quint8\", np.uint8, 1)])\n",
      "/home/sxh/anaconda3/envs/my-rdkit-env/lib/python3.6/site-packages/tensorflow/python/framework/dtypes.py:518: FutureWarning: Passing (type, 1) or '1type' as a synonym of type is deprecated; in a future version of numpy, it will be understood as (type, (1,)) / '(1,)type'.\n",
      "  _np_qint16 = np.dtype([(\"qint16\", np.int16, 1)])\n",
      "/home/sxh/anaconda3/envs/my-rdkit-env/lib/python3.6/site-packages/tensorflow/python/framework/dtypes.py:519: FutureWarning: Passing (type, 1) or '1type' as a synonym of type is deprecated; in a future version of numpy, it will be understood as (type, (1,)) / '(1,)type'.\n",
      "  _np_quint16 = np.dtype([(\"quint16\", np.uint16, 1)])\n",
      "/home/sxh/anaconda3/envs/my-rdkit-env/lib/python3.6/site-packages/tensorflow/python/framework/dtypes.py:520: FutureWarning: Passing (type, 1) or '1type' as a synonym of type is deprecated; in a future version of numpy, it will be understood as (type, (1,)) / '(1,)type'.\n",
      "  _np_qint32 = np.dtype([(\"qint32\", np.int32, 1)])\n",
      "/home/sxh/anaconda3/envs/my-rdkit-env/lib/python3.6/site-packages/tensorflow/python/framework/dtypes.py:525: FutureWarning: Passing (type, 1) or '1type' as a synonym of type is deprecated; in a future version of numpy, it will be understood as (type, (1,)) / '(1,)type'.\n",
      "  np_resource = np.dtype([(\"resource\", np.ubyte, 1)])\n",
      "/home/sxh/anaconda3/envs/my-rdkit-env/lib/python3.6/site-packages/tensorboard/compat/tensorflow_stub/dtypes.py:541: FutureWarning: Passing (type, 1) or '1type' as a synonym of type is deprecated; in a future version of numpy, it will be understood as (type, (1,)) / '(1,)type'.\n",
      "  _np_qint8 = np.dtype([(\"qint8\", np.int8, 1)])\n",
      "/home/sxh/anaconda3/envs/my-rdkit-env/lib/python3.6/site-packages/tensorboard/compat/tensorflow_stub/dtypes.py:542: FutureWarning: Passing (type, 1) or '1type' as a synonym of type is deprecated; in a future version of numpy, it will be understood as (type, (1,)) / '(1,)type'.\n",
      "  _np_quint8 = np.dtype([(\"quint8\", np.uint8, 1)])\n",
      "/home/sxh/anaconda3/envs/my-rdkit-env/lib/python3.6/site-packages/tensorboard/compat/tensorflow_stub/dtypes.py:543: FutureWarning: Passing (type, 1) or '1type' as a synonym of type is deprecated; in a future version of numpy, it will be understood as (type, (1,)) / '(1,)type'.\n",
      "  _np_qint16 = np.dtype([(\"qint16\", np.int16, 1)])\n",
      "/home/sxh/anaconda3/envs/my-rdkit-env/lib/python3.6/site-packages/tensorboard/compat/tensorflow_stub/dtypes.py:544: FutureWarning: Passing (type, 1) or '1type' as a synonym of type is deprecated; in a future version of numpy, it will be understood as (type, (1,)) / '(1,)type'.\n",
      "  _np_quint16 = np.dtype([(\"quint16\", np.uint16, 1)])\n",
      "/home/sxh/anaconda3/envs/my-rdkit-env/lib/python3.6/site-packages/tensorboard/compat/tensorflow_stub/dtypes.py:545: FutureWarning: Passing (type, 1) or '1type' as a synonym of type is deprecated; in a future version of numpy, it will be understood as (type, (1,)) / '(1,)type'.\n",
      "  _np_qint32 = np.dtype([(\"qint32\", np.int32, 1)])\n",
      "/home/sxh/anaconda3/envs/my-rdkit-env/lib/python3.6/site-packages/tensorboard/compat/tensorflow_stub/dtypes.py:550: FutureWarning: Passing (type, 1) or '1type' as a synonym of type is deprecated; in a future version of numpy, it will be understood as (type, (1,)) / '(1,)type'.\n",
      "  np_resource = np.dtype([(\"resource\", np.ubyte, 1)])\n"
     ]
    }
   ],
   "source": [
    "from molmap import loadmap\n",
    "import molmap\n",
    "\n",
    "import matplotlib.pyplot as plt\n",
    "from joblib import dump, load\n",
    "from tqdm import tqdm\n",
    "import pandas as pd\n",
    "tqdm.pandas(ascii=True)\n",
    "\n",
    "import numpy as np\n",
    "import tensorflow as tf\n",
    "from tensorflow.keras.utils import plot_model\n",
    "from tensorflow.keras import Model, Input\n",
    "from tensorflow.keras.layers import MaxPool2D, GlobalMaxPool2D, BatchNormalization, Activation\n",
    "from tensorflow.keras.layers import Conv2D, Concatenate,Flatten, Dense, Dropout\n",
    "\n",
    "%matplotlib inline\n",
    "#use the second GPU, if negative value, CPUs will be used\n",
    "import os\n",
    "os.environ[\"CUDA_VISIBLE_DEVICES\"]=\"6\"\n",
    "\n",
    "\n",
    "def Inception(inputs, units = 8, strides = 1):\n",
    "    \"\"\"\n",
    "    naive google inception block\n",
    "    \"\"\"\n",
    "    x1 = Conv2D(units, 5, padding='same', activation = 'relu', strides = strides)(inputs)\n",
    "    x2 = Conv2D(units, 3, padding='same', activation = 'relu', strides = strides)(inputs)\n",
    "    x3 = Conv2D(units, 1, padding='same', activation = 'relu', strides = strides)(inputs)\n",
    "    outputs = Concatenate()([x1, x2, x3])    \n",
    "    return outputs\n",
    "\n",
    "    \n",
    "def SinglePathClassificationModel(molmap_shape,  n_outputs = 1, strides = 1):\n",
    "    \"\"\"molmap_shape: w, h, c\"\"\"\n",
    "    \n",
    "    assert len(molmap_shape) == 3\n",
    "    inputs = Input(molmap_shape)\n",
    "    \n",
    "    conv1 = Conv2D(48, 13, padding = 'same', activation='relu', strides = 1)(inputs)\n",
    "    \n",
    "    conv1 = MaxPool2D(pool_size = 3, strides = 2, padding = 'same')(conv1) #p1\n",
    "    \n",
    "    incept1 = Inception(conv1, strides = 1, units = 32)\n",
    "    \n",
    "    incept1 = MaxPool2D(pool_size = 3, strides = 2, padding = 'same')(incept1) #p2\n",
    "    \n",
    "    incept2 = Inception(incept1, strides = 1, units = 64)\n",
    "    \n",
    "    #flatten\n",
    "    flat1 = GlobalMaxPool2D()(incept2)   \n",
    "    d1 = Dense(128,activation='tanh')(flat1)\n",
    "    d1 = Dense(64,activation='tanh')(d1)\n",
    "    \n",
    "    outputs = Dense(n_outputs,activation='linear')(d1)\n",
    "    \n",
    "    model = tf.keras.Model(inputs=inputs, outputs=outputs)\n",
    "    \n",
    "    return model"
   ]
  },
  {
   "cell_type": "code",
   "execution_count": 2,
   "metadata": {},
   "outputs": [],
   "source": [
    "seed = 77\n",
    "np.random.seed(seed)\n",
    "tf.set_random_seed(seed)"
   ]
  },
  {
   "cell_type": "code",
   "execution_count": 3,
   "metadata": {},
   "outputs": [],
   "source": [
    "df_train = pd.read_csv('../train.csv', index_col = 0)\n",
    "df_valid = pd.read_csv('../valid.csv',  index_col = 0)\n",
    "df_test = pd.read_csv('../test.csv',  index_col = 0)\n",
    "df_etc = pd.read_csv('../etc.csv')\n",
    "task = 'measured log solubility in mols per litre'\n",
    "df_etc[task] = df_etc.Exp_LogS"
   ]
  },
  {
   "cell_type": "code",
   "execution_count": 4,
   "metadata": {},
   "outputs": [
    {
     "data": {
      "text/plain": [
       "(901, 113, 113, 120)"
      ]
     },
     "execution_count": 4,
     "metadata": {},
     "output_type": "execute_result"
    }
   ],
   "source": [
    "len(df_train), len(df_valid), len(df_test), len(df_etc)"
   ]
  },
  {
   "cell_type": "code",
   "execution_count": 5,
   "metadata": {},
   "outputs": [
    {
     "name": "stderr",
     "output_type": "stream",
     "text": [
      "/home/sxh/anaconda3/envs/my-rdkit-env/lib/python3.6/site-packages/pandas/core/frame.py:7123: FutureWarning: Sorting because non-concatenation axis is not aligned. A future version\n",
      "of pandas will change to not sort by default.\n",
      "\n",
      "To accept the future behavior, pass 'sort=False'.\n",
      "\n",
      "To retain the current behavior and silence the warning, pass 'sort=True'.\n",
      "\n",
      "  sort=sort,\n"
     ]
    },
    {
     "data": {
      "text/plain": [
       "(901, 113, 113, 120)"
      ]
     },
     "execution_count": 5,
     "metadata": {},
     "output_type": "execute_result"
    }
   ],
   "source": [
    "df = df_train.append(df_valid).append(df_test).append(df_etc)\n",
    "df = df.reset_index(drop=True)\n",
    "\n",
    "train_idx = df.index[:len(df_train)]\n",
    "valid_idx = df.index[len(df_train): len(df_train)+len(df_valid)]\n",
    "test_idx = df.index[len(df_train)+len(df_valid): len(df_train)+len(df_valid) + len(df_test)]\n",
    "etc_idx = df.index[-len(df_etc):]\n",
    "len(train_idx), len(valid_idx), len(test_idx), len(etc_idx)"
   ]
  },
  {
   "cell_type": "code",
   "execution_count": 6,
   "metadata": {},
   "outputs": [
    {
     "name": "stderr",
     "output_type": "stream",
     "text": [
      "100%|##########| 1247/1247 [02:33<00:00,  6.52it/s]\n",
      "100%|##########| 1247/1247 [00:08<00:00, 150.23it/s]\n"
     ]
    }
   ],
   "source": [
    "# calculate feature\n",
    "X1_name =  './X_descriptor.data'\n",
    "X2_name =  './X_fingerprint.data'\n",
    "\n",
    "if os.path.exists(X1_name):\n",
    "    X1 = load(X1_name)\n",
    "else:\n",
    "    mp1 = loadmap('../../../descriptor_grid_split.mp')\n",
    "    X1 = mp1.batch_transform(df.smiles, n_jobs = 8)\n",
    "    dump(X1, X1_name)\n",
    "    \n",
    "if os.path.exists(X2_name):\n",
    "    X2 = load(X2_name)\n",
    "else:\n",
    "    mp2 = loadmap('../../../fingerprint_grid_split.mp')\n",
    "    X2 = mp2.batch_transform(df.smiles, n_jobs = 8)\n",
    "    dump(X2, X2_name)"
   ]
  },
  {
   "cell_type": "code",
   "execution_count": 7,
   "metadata": {},
   "outputs": [],
   "source": [
    "Y = df[[task]].values\n",
    "\n",
    "trainX = X1[train_idx]\n",
    "trainY = Y[train_idx]\n",
    "\n",
    "validX = X1[valid_idx]\n",
    "validY = Y[valid_idx]\n",
    "\n",
    "\n",
    "testX = X1[test_idx]\n",
    "testY = Y[test_idx]\n",
    "\n",
    "etcX = X1[etc_idx]\n",
    "etcY = Y[etc_idx]\n"
   ]
  },
  {
   "cell_type": "code",
   "execution_count": 8,
   "metadata": {},
   "outputs": [
    {
     "name": "stdout",
     "output_type": "stream",
     "text": [
      "WARNING:tensorflow:From /home/sxh/anaconda3/envs/my-rdkit-env/lib/python3.6/site-packages/tensorflow/python/ops/init_ops.py:1251: calling VarianceScaling.__init__ (from tensorflow.python.ops.init_ops) with dtype is deprecated and will be removed in a future version.\n",
      "Instructions for updating:\n",
      "Call initializer instance with the dtype argument instead of passing it to the constructor\n"
     ]
    }
   ],
   "source": [
    "from cbks import RegressionPerformance, EarlyStoppingAtMinLoss\n",
    "molmap1_size = X1.shape[1:]\n",
    "model = SinglePathClassificationModel(molmap1_size, n_outputs = Y.shape[1])"
   ]
  },
  {
   "cell_type": "code",
   "execution_count": 9,
   "metadata": {},
   "outputs": [],
   "source": [
    "earlystop = EarlyStoppingAtMinLoss(patience=30, criteria = 'val_loss')\n",
    "performace = RegressionPerformance((trainX, trainY), (validX, validY))\n",
    "lr = tf.keras.optimizers.Adam(lr=0.0001, beta_1=0.9, beta_2=0.999, epsilon=1e-08, decay=0.0) #\n",
    "model.compile(optimizer = lr, loss = 'mse')"
   ]
  },
  {
   "cell_type": "code",
   "execution_count": 10,
   "metadata": {},
   "outputs": [
    {
     "name": "stdout",
     "output_type": "stream",
     "text": [
      "epoch: 0001, loss: 12.0259 - val_loss: 7.6312; rmse: 2.6959 - rmse_val: 2.7625;  r2: 0.3512 - r2_val: 0.2868                                                                                                    \n",
      "epoch: 0002, loss: 5.9319 - val_loss: 4.3817; rmse: 2.1364 - rmse_val: 2.0932;  r2: 0.2852 - r2_val: 0.2419                                                                                                    \n",
      "epoch: 0003, loss: 4.4977 - val_loss: 4.1418; rmse: 2.1356 - rmse_val: 2.0351;  r2: 0.3826 - r2_val: 0.3387                                                                                                    \n",
      "epoch: 0004, loss: 4.5673 - val_loss: 4.1139; rmse: 2.1221 - rmse_val: 2.0283;  r2: 0.4288 - r2_val: 0.3788                                                                                                    \n",
      "epoch: 0005, loss: 4.4655 - val_loss: 4.1601; rmse: 2.1040 - rmse_val: 2.0396;  r2: 0.4579 - r2_val: 0.4022                                                                                                    \n",
      "epoch: 0006, loss: 4.4179 - val_loss: 4.1257; rmse: 2.0964 - rmse_val: 2.0312;  r2: 0.4882 - r2_val: 0.4378                                                                                                    \n",
      "epoch: 0007, loss: 4.3872 - val_loss: 4.0486; rmse: 2.0896 - rmse_val: 2.0121;  r2: 0.5044 - r2_val: 0.4591                                                                                                    \n",
      "epoch: 0008, loss: 4.3592 - val_loss: 4.0796; rmse: 2.0797 - rmse_val: 2.0198;  r2: 0.5262 - r2_val: 0.4803                                                                                                    \n",
      "epoch: 0009, loss: 4.3128 - val_loss: 4.0664; rmse: 2.0719 - rmse_val: 2.0165;  r2: 0.5244 - r2_val: 0.4767                                                                                                    \n",
      "epoch: 0010, loss: 4.2721 - val_loss: 3.9976; rmse: 2.0588 - rmse_val: 1.9994;  r2: 0.5138 - r2_val: 0.4680                                                                                                    \n",
      "epoch: 0011, loss: 4.2328 - val_loss: 3.9765; rmse: 2.0480 - rmse_val: 1.9941;  r2: 0.5198 - r2_val: 0.4710                                                                                                    \n",
      "epoch: 0012, loss: 4.1702 - val_loss: 3.8798; rmse: 2.0303 - rmse_val: 1.9697;  r2: 0.5119 - r2_val: 0.4620                                                                                                    \n",
      "epoch: 0013, loss: 4.1070 - val_loss: 3.7784; rmse: 2.0158 - rmse_val: 1.9438;  r2: 0.5087 - r2_val: 0.4597                                                                                                    \n",
      "epoch: 0014, loss: 4.0224 - val_loss: 3.7136; rmse: 1.9861 - rmse_val: 1.9271;  r2: 0.5174 - r2_val: 0.4685                                                                                                    \n",
      "epoch: 0015, loss: 3.9121 - val_loss: 3.6122; rmse: 1.9552 - rmse_val: 1.9006;  r2: 0.5012 - r2_val: 0.4531                                                                                                    \n",
      "epoch: 0016, loss: 3.8254 - val_loss: 3.5238; rmse: 1.9505 - rmse_val: 1.8772;  r2: 0.4894 - r2_val: 0.4442                                                                                                    \n",
      "epoch: 0017, loss: 3.6967 - val_loss: 3.4008; rmse: 1.8867 - rmse_val: 1.8441;  r2: 0.5144 - r2_val: 0.4724                                                                                                    \n",
      "epoch: 0018, loss: 3.5035 - val_loss: 3.2232; rmse: 1.8378 - rmse_val: 1.7953;  r2: 0.4985 - r2_val: 0.4583                                                                                                    \n",
      "epoch: 0019, loss: 3.3401 - val_loss: 3.0671; rmse: 1.7918 - rmse_val: 1.7513;  r2: 0.4944 - r2_val: 0.4565                                                                                                    \n",
      "epoch: 0020, loss: 3.1446 - val_loss: 2.9148; rmse: 1.7345 - rmse_val: 1.7073;  r2: 0.5060 - r2_val: 0.4700                                                                                                    \n",
      "epoch: 0021, loss: 2.9328 - val_loss: 2.7105; rmse: 1.6733 - rmse_val: 1.6464;  r2: 0.5053 - r2_val: 0.4724                                                                                                    \n",
      "epoch: 0022, loss: 2.7511 - val_loss: 2.5612; rmse: 1.6215 - rmse_val: 1.6004;  r2: 0.5247 - r2_val: 0.4953                                                                                                    \n",
      "epoch: 0023, loss: 2.5687 - val_loss: 2.3999; rmse: 1.5701 - rmse_val: 1.5492;  r2: 0.5400 - r2_val: 0.5139                                                                                                    \n",
      "epoch: 0024, loss: 2.4842 - val_loss: 2.2812; rmse: 1.5311 - rmse_val: 1.5104;  r2: 0.5381 - r2_val: 0.5142                                                                                                    \n",
      "epoch: 0025, loss: 2.3074 - val_loss: 2.1339; rmse: 1.4838 - rmse_val: 1.4608;  r2: 0.5740 - r2_val: 0.5536                                                                                                    \n",
      "epoch: 0026, loss: 2.1562 - val_loss: 2.0218; rmse: 1.4425 - rmse_val: 1.4219;  r2: 0.5875 - r2_val: 0.5698                                                                                                    \n",
      "epoch: 0027, loss: 2.0213 - val_loss: 1.8666; rmse: 1.3899 - rmse_val: 1.3662;  r2: 0.6165 - r2_val: 0.6008                                                                                                    \n",
      "epoch: 0028, loss: 1.8857 - val_loss: 1.7793; rmse: 1.3532 - rmse_val: 1.3339;  r2: 0.6258 - r2_val: 0.6124                                                                                                    \n",
      "epoch: 0029, loss: 1.7893 - val_loss: 1.6681; rmse: 1.3112 - rmse_val: 1.2916;  r2: 0.6445 - r2_val: 0.6325                                                                                                    \n",
      "epoch: 0030, loss: 1.7487 - val_loss: 1.5687; rmse: 1.2742 - rmse_val: 1.2525;  r2: 0.6705 - r2_val: 0.6600                                                                                                    \n",
      "epoch: 0031, loss: 1.7074 - val_loss: 1.6803; rmse: 1.3267 - rmse_val: 1.2963;  r2: 0.6999 - r2_val: 0.6868                                                                                                    \n",
      "epoch: 0032, loss: 1.7027 - val_loss: 1.5031; rmse: 1.2361 - rmse_val: 1.2260;  r2: 0.6960 - r2_val: 0.6853                                                                                                    \n",
      "epoch: 0033, loss: 1.5744 - val_loss: 1.4543; rmse: 1.2160 - rmse_val: 1.2059;  r2: 0.7148 - r2_val: 0.7042                                                                                                    \n",
      "epoch: 0034, loss: 1.4887 - val_loss: 1.3429; rmse: 1.1765 - rmse_val: 1.1588;  r2: 0.7268 - r2_val: 0.7136                                                                                                    \n",
      "epoch: 0035, loss: 1.3706 - val_loss: 1.2995; rmse: 1.1599 - rmse_val: 1.1399;  r2: 0.7277 - r2_val: 0.7134                                                                                                    \n",
      "epoch: 0036, loss: 1.3271 - val_loss: 1.4600; rmse: 1.1994 - rmse_val: 1.2083;  r2: 0.7219 - r2_val: 0.7095                                                                                                    \n",
      "epoch: 0037, loss: 1.3184 - val_loss: 1.2652; rmse: 1.1396 - rmse_val: 1.1248;  r2: 0.7490 - r2_val: 0.7297                                                                                                    \n",
      "epoch: 0038, loss: 1.2486 - val_loss: 1.1877; rmse: 1.0912 - rmse_val: 1.0898;  r2: 0.7528 - r2_val: 0.7346                                                                                                    \n",
      "epoch: 0039, loss: 1.1819 - val_loss: 1.1569; rmse: 1.0776 - rmse_val: 1.0756;  r2: 0.7628 - r2_val: 0.7417                                                                                                    \n",
      "epoch: 0040, loss: 1.1513 - val_loss: 1.1548; rmse: 1.0817 - rmse_val: 1.0747;  r2: 0.7659 - r2_val: 0.7440                                                                                                    \n",
      "epoch: 0041, loss: 1.1927 - val_loss: 1.3221; rmse: 1.1255 - rmse_val: 1.1498;  r2: 0.7654 - r2_val: 0.7456                                                                                                    \n",
      "epoch: 0042, loss: 1.1776 - val_loss: 1.0847; rmse: 1.0288 - rmse_val: 1.0415;  r2: 0.7778 - r2_val: 0.7529                                                                                                    \n",
      "epoch: 0043, loss: 1.1804 - val_loss: 1.1079; rmse: 1.0478 - rmse_val: 1.0525;  r2: 0.7841 - r2_val: 0.7558                                                                                                    \n",
      "epoch: 0044, loss: 1.0859 - val_loss: 1.0464; rmse: 1.0184 - rmse_val: 1.0229;  r2: 0.7834 - r2_val: 0.7577                                                                                                    \n",
      "epoch: 0045, loss: 1.0347 - val_loss: 1.1269; rmse: 1.0324 - rmse_val: 1.0615;  r2: 0.7812 - r2_val: 0.7587                                                                                                    \n",
      "epoch: 0046, loss: 1.0127 - val_loss: 1.2388; rmse: 1.1217 - rmse_val: 1.1130;  r2: 0.7950 - r2_val: 0.7655                                                                                                    \n",
      "epoch: 0047, loss: 1.2497 - val_loss: 1.3933; rmse: 1.1393 - rmse_val: 1.1804;  r2: 0.7979 - r2_val: 0.7703                                                                                                    \n",
      "epoch: 0048, loss: 1.1592 - val_loss: 1.0183; rmse: 0.9783 - rmse_val: 1.0091;  r2: 0.8081 - r2_val: 0.7766                                                                                                    \n",
      "epoch: 0049, loss: 0.9719 - val_loss: 1.1042; rmse: 1.0425 - rmse_val: 1.0508;  r2: 0.8107 - r2_val: 0.7776                                                                                                    \n",
      "epoch: 0050, loss: 1.0429 - val_loss: 1.0305; rmse: 0.9744 - rmse_val: 1.0152;  r2: 0.8091 - r2_val: 0.7803                                                                                                    \n",
      "epoch: 0051, loss: 0.9410 - val_loss: 0.9323; rmse: 0.9361 - rmse_val: 0.9656;  r2: 0.8158 - r2_val: 0.7841                                                                                                    \n",
      "epoch: 0052, loss: 0.8805 - val_loss: 0.9737; rmse: 0.9431 - rmse_val: 0.9867;  r2: 0.8134 - r2_val: 0.7844                                                                                                    \n",
      "epoch: 0053, loss: 0.8696 - val_loss: 0.9220; rmse: 0.9413 - rmse_val: 0.9602;  r2: 0.8199 - r2_val: 0.7882                                                                                                    \n",
      "epoch: 0054, loss: 0.8597 - val_loss: 0.8902; rmse: 0.9144 - rmse_val: 0.9435;  r2: 0.8262 - r2_val: 0.7933                                                                                                    \n",
      "epoch: 0055, loss: 0.8453 - val_loss: 0.9260; rmse: 0.9137 - rmse_val: 0.9623;  r2: 0.8294 - r2_val: 0.7971                                                                                                    \n",
      "epoch: 0056, loss: 0.8121 - val_loss: 0.8817; rmse: 0.9106 - rmse_val: 0.9390;  r2: 0.8367 - r2_val: 0.8026                                                                                                    \n",
      "epoch: 0057, loss: 0.8215 - val_loss: 0.8776; rmse: 0.9083 - rmse_val: 0.9368;  r2: 0.8392 - r2_val: 0.8044                                                                                                    \n",
      "epoch: 0058, loss: 0.8185 - val_loss: 0.9129; rmse: 0.8992 - rmse_val: 0.9555;  r2: 0.8386 - r2_val: 0.8067                                                                                                    \n",
      "epoch: 0059, loss: 0.7885 - val_loss: 0.8508; rmse: 0.8696 - rmse_val: 0.9223;  r2: 0.8395 - r2_val: 0.8084                                                                                                    \n",
      "epoch: 0060, loss: 0.7596 - val_loss: 0.8092; rmse: 0.8530 - rmse_val: 0.8996;  r2: 0.8430 - r2_val: 0.8112                                                                                                    \n",
      "epoch: 0061, loss: 0.7374 - val_loss: 0.7891; rmse: 0.8546 - rmse_val: 0.8883;  r2: 0.8453 - r2_val: 0.8133                                                                                                    \n",
      "epoch: 0062, loss: 0.7182 - val_loss: 0.7943; rmse: 0.8388 - rmse_val: 0.8913;  r2: 0.8484 - r2_val: 0.8175                                                                                                    \n",
      "epoch: 0063, loss: 0.7045 - val_loss: 0.7817; rmse: 0.8348 - rmse_val: 0.8841;  r2: 0.8555 - r2_val: 0.8240                                                                                                    \n",
      "epoch: 0064, loss: 0.6961 - val_loss: 0.7529; rmse: 0.8243 - rmse_val: 0.8677;  r2: 0.8590 - r2_val: 0.8286                                                                                                    \n",
      "epoch: 0065, loss: 0.6766 - val_loss: 0.7744; rmse: 0.8630 - rmse_val: 0.8800;  r2: 0.8607 - r2_val: 0.8295                                                                                                    \n",
      "epoch: 0066, loss: 0.7710 - val_loss: 0.7371; rmse: 0.8243 - rmse_val: 0.8585;  r2: 0.8631 - r2_val: 0.8308                                                                                                    \n",
      "epoch: 0067, loss: 0.6945 - val_loss: 0.8044; rmse: 0.8279 - rmse_val: 0.8969;  r2: 0.8603 - r2_val: 0.8298                                                                                                    \n",
      "epoch: 0068, loss: 0.6702 - val_loss: 0.7932; rmse: 0.8217 - rmse_val: 0.8907;  r2: 0.8629 - r2_val: 0.8324                                                                                                    \n",
      "epoch: 0069, loss: 0.6470 - val_loss: 0.7907; rmse: 0.8194 - rmse_val: 0.8892;  r2: 0.8672 - r2_val: 0.8363                                                                                                    \n",
      "epoch: 0070, loss: 0.6714 - val_loss: 0.6876; rmse: 0.7821 - rmse_val: 0.8292;  r2: 0.8707 - r2_val: 0.8391                                                                                                    \n",
      "epoch: 0071, loss: 0.6201 - val_loss: 0.6799; rmse: 0.7865 - rmse_val: 0.8245;  r2: 0.8717 - r2_val: 0.8405                                                                                                    \n",
      "epoch: 0072, loss: 0.6085 - val_loss: 0.7038; rmse: 0.7738 - rmse_val: 0.8389;  r2: 0.8702 - r2_val: 0.8399                                                                                                    \n",
      "epoch: 0073, loss: 0.6093 - val_loss: 0.6784; rmse: 0.7636 - rmse_val: 0.8237;  r2: 0.8716 - r2_val: 0.8404                                                                                                    \n",
      "epoch: 0074, loss: 0.5936 - val_loss: 0.7439; rmse: 0.7899 - rmse_val: 0.8625;  r2: 0.8776 - r2_val: 0.8444                                                                                                    \n",
      "epoch: 0075, loss: 0.6994 - val_loss: 0.6597; rmse: 0.7705 - rmse_val: 0.8123;  r2: 0.8799 - r2_val: 0.8477                                                                                                    \n",
      "epoch: 0076, loss: 0.5704 - val_loss: 0.6760; rmse: 0.7981 - rmse_val: 0.8223;  r2: 0.8792 - r2_val: 0.8479                                                                                                    \n",
      "epoch: 0077, loss: 0.6465 - val_loss: 0.6494; rmse: 0.7421 - rmse_val: 0.8059;  r2: 0.8814 - r2_val: 0.8498                                                                                                    \n",
      "epoch: 0078, loss: 0.5538 - val_loss: 0.6350; rmse: 0.7388 - rmse_val: 0.7968;  r2: 0.8843 - r2_val: 0.8548                                                                                                    \n",
      "epoch: 0079, loss: 0.5453 - val_loss: 0.6141; rmse: 0.7417 - rmse_val: 0.7837;  r2: 0.8839 - r2_val: 0.8546                                                                                                    \n",
      "epoch: 0080, loss: 0.5496 - val_loss: 0.6365; rmse: 0.7333 - rmse_val: 0.7978;  r2: 0.8819 - r2_val: 0.8532                                                                                                    \n",
      "epoch: 0081, loss: 0.5349 - val_loss: 0.6916; rmse: 0.8127 - rmse_val: 0.8316;  r2: 0.8884 - r2_val: 0.8568                                                                                                    \n",
      "epoch: 0082, loss: 0.6373 - val_loss: 0.6650; rmse: 0.7844 - rmse_val: 0.8155;  r2: 0.8894 - r2_val: 0.8573                                                                                                    \n",
      "epoch: 0083, loss: 0.6534 - val_loss: 0.6553; rmse: 0.7757 - rmse_val: 0.8095;  r2: 0.8910 - r2_val: 0.8585                                                                                                    \n",
      "epoch: 0084, loss: 0.6762 - val_loss: 0.6456; rmse: 0.7768 - rmse_val: 0.8035;  r2: 0.8925 - r2_val: 0.8615                                                                                                    \n",
      "epoch: 0085, loss: 0.8035 - val_loss: 0.6770; rmse: 0.7396 - rmse_val: 0.8228;  r2: 0.8870 - r2_val: 0.8568                                                                                                    \n",
      "epoch: 0086, loss: 0.5753 - val_loss: 0.6854; rmse: 0.7426 - rmse_val: 0.8279;  r2: 0.8886 - r2_val: 0.8586                                                                                                    \n",
      "epoch: 0087, loss: 0.5220 - val_loss: 0.6347; rmse: 0.7201 - rmse_val: 0.7967;  r2: 0.8925 - r2_val: 0.8624                                                                                                    \n",
      "epoch: 0088, loss: 0.5131 - val_loss: 0.6152; rmse: 0.7101 - rmse_val: 0.7843;  r2: 0.8926 - r2_val: 0.8635                                                                                                    \n",
      "epoch: 0089, loss: 0.4888 - val_loss: 0.5742; rmse: 0.6935 - rmse_val: 0.7578;  r2: 0.8949 - r2_val: 0.8645                                                                                                    \n",
      "epoch: 0090, loss: 0.4856 - val_loss: 0.5730; rmse: 0.6953 - rmse_val: 0.7569;  r2: 0.8951 - r2_val: 0.8634                                                                                                    \n",
      "epoch: 0091, loss: 0.4909 - val_loss: 0.5615; rmse: 0.6973 - rmse_val: 0.7494;  r2: 0.8966 - r2_val: 0.8657                                                                                                    \n",
      "epoch: 0092, loss: 0.5042 - val_loss: 0.5733; rmse: 0.7114 - rmse_val: 0.7572;  r2: 0.9000 - r2_val: 0.8679                                                                                                    \n",
      "epoch: 0093, loss: 0.5276 - val_loss: 0.5595; rmse: 0.6785 - rmse_val: 0.7480;  r2: 0.8997 - r2_val: 0.8688                                                                                                    \n",
      "epoch: 0094, loss: 0.4659 - val_loss: 0.5983; rmse: 0.6866 - rmse_val: 0.7735;  r2: 0.9001 - r2_val: 0.8696                                                                                                    \n",
      "epoch: 0095, loss: 0.4651 - val_loss: 0.5550; rmse: 0.6902 - rmse_val: 0.7450;  r2: 0.9032 - r2_val: 0.8702                                                                                                    \n",
      "epoch: 0096, loss: 0.5537 - val_loss: 0.5594; rmse: 0.6771 - rmse_val: 0.7479;  r2: 0.9029 - r2_val: 0.8733                                                                                                    \n",
      "epoch: 0097, loss: 0.4732 - val_loss: 0.5324; rmse: 0.6655 - rmse_val: 0.7297;  r2: 0.9031 - r2_val: 0.8734                                                                                                    \n",
      "epoch: 0098, loss: 0.4888 - val_loss: 0.7071; rmse: 0.7341 - rmse_val: 0.8409;  r2: 0.9021 - r2_val: 0.8715                                                                                                    \n",
      "epoch: 0099, loss: 0.4864 - val_loss: 0.6082; rmse: 0.6873 - rmse_val: 0.7799;  r2: 0.9048 - r2_val: 0.8751                                                                                                    \n",
      "epoch: 0100, loss: 0.4990 - val_loss: 0.5723; rmse: 0.6658 - rmse_val: 0.7565;  r2: 0.9064 - r2_val: 0.8755                                                                                                    \n",
      "epoch: 0101, loss: 0.5317 - val_loss: 0.5630; rmse: 0.6602 - rmse_val: 0.7503;  r2: 0.9064 - r2_val: 0.8755                                                                                                    \n",
      "epoch: 0102, loss: 0.4674 - val_loss: 0.5226; rmse: 0.6613 - rmse_val: 0.7228;  r2: 0.9097 - r2_val: 0.8769                                                                                                    \n",
      "epoch: 0103, loss: 0.4341 - val_loss: 0.6654; rmse: 0.7833 - rmse_val: 0.8157;  r2: 0.9111 - r2_val: 0.8761                                                                                                    \n",
      "epoch: 0104, loss: 0.5325 - val_loss: 0.5813; rmse: 0.7181 - rmse_val: 0.7624;  r2: 0.9118 - r2_val: 0.8776                                                                                                    \n",
      "epoch: 0105, loss: 0.5036 - val_loss: 0.5033; rmse: 0.6435 - rmse_val: 0.7094;  r2: 0.9104 - r2_val: 0.8800                                                                                                    \n",
      "epoch: 0106, loss: 0.4279 - val_loss: 0.5116; rmse: 0.6647 - rmse_val: 0.7152;  r2: 0.9125 - r2_val: 0.8819                                                                                                    \n",
      "epoch: 0107, loss: 0.4723 - val_loss: 0.5201; rmse: 0.6770 - rmse_val: 0.7212;  r2: 0.9145 - r2_val: 0.8847                                                                                                    \n",
      "epoch: 0108, loss: 0.5068 - val_loss: 0.5007; rmse: 0.6349 - rmse_val: 0.7076;  r2: 0.9147 - r2_val: 0.8834                                                                                                    \n",
      "epoch: 0109, loss: 0.4238 - val_loss: 0.6614; rmse: 0.7087 - rmse_val: 0.8133;  r2: 0.9118 - r2_val: 0.8814                                                                                                    \n",
      "epoch: 0110, loss: 0.4436 - val_loss: 0.7694; rmse: 0.7677 - rmse_val: 0.8771;  r2: 0.9106 - r2_val: 0.8817                                                                                                    \n",
      "epoch: 0111, loss: 0.5681 - val_loss: 0.5671; rmse: 0.6589 - rmse_val: 0.7531;  r2: 0.9128 - r2_val: 0.8851                                                                                                    \n",
      "epoch: 0112, loss: 0.5166 - val_loss: 0.5106; rmse: 0.6672 - rmse_val: 0.7146;  r2: 0.9141 - r2_val: 0.8831                                                                                                    \n",
      "epoch: 0113, loss: 0.4332 - val_loss: 0.5065; rmse: 0.6592 - rmse_val: 0.7117;  r2: 0.9145 - r2_val: 0.8830                                                                                                    \n",
      "epoch: 0114, loss: 0.4186 - val_loss: 0.5194; rmse: 0.6638 - rmse_val: 0.7207;  r2: 0.9156 - r2_val: 0.8824                                                                                                    \n",
      "epoch: 0115, loss: 0.4252 - val_loss: 0.4960; rmse: 0.6440 - rmse_val: 0.7042;  r2: 0.9174 - r2_val: 0.8855                                                                                                    \n",
      "epoch: 0116, loss: 0.4075 - val_loss: 0.4796; rmse: 0.6281 - rmse_val: 0.6925;  r2: 0.9173 - r2_val: 0.8867                                                                                                    \n",
      "epoch: 0117, loss: 0.4007 - val_loss: 0.4752; rmse: 0.6132 - rmse_val: 0.6894;  r2: 0.9172 - r2_val: 0.8872                                                                                                    \n",
      "epoch: 0118, loss: 0.3960 - val_loss: 0.4990; rmse: 0.6556 - rmse_val: 0.7064;  r2: 0.9197 - r2_val: 0.8888                                                                                                    \n",
      "epoch: 0119, loss: 0.4376 - val_loss: 0.5098; rmse: 0.6274 - rmse_val: 0.7140;  r2: 0.9205 - r2_val: 0.8923                                                                                                    \n",
      "epoch: 0120, loss: 0.3935 - val_loss: 0.5502; rmse: 0.6563 - rmse_val: 0.7418;  r2: 0.9154 - r2_val: 0.8909                                                                                                    \n",
      "epoch: 0121, loss: 0.3958 - val_loss: 0.6035; rmse: 0.6771 - rmse_val: 0.7769;  r2: 0.9156 - r2_val: 0.8896                                                                                                    \n",
      "epoch: 0122, loss: 0.4502 - val_loss: 0.5984; rmse: 0.6692 - rmse_val: 0.7735;  r2: 0.9165 - r2_val: 0.8879                                                                                                    \n",
      "epoch: 0123, loss: 0.4600 - val_loss: 0.4756; rmse: 0.6186 - rmse_val: 0.6896;  r2: 0.9215 - r2_val: 0.8897                                                                                                    \n",
      "epoch: 0124, loss: 0.3953 - val_loss: 0.5106; rmse: 0.6510 - rmse_val: 0.7145;  r2: 0.9215 - r2_val: 0.8874                                                                                                    \n",
      "epoch: 0125, loss: 0.3870 - val_loss: 0.4702; rmse: 0.6124 - rmse_val: 0.6857;  r2: 0.9229 - r2_val: 0.8900                                                                                                    \n",
      "epoch: 0126, loss: 0.3613 - val_loss: 0.5949; rmse: 0.7442 - rmse_val: 0.7713;  r2: 0.9227 - r2_val: 0.8907                                                                                                    \n",
      "epoch: 0127, loss: 0.5044 - val_loss: 0.4709; rmse: 0.6220 - rmse_val: 0.6862;  r2: 0.9226 - r2_val: 0.8903                                                                                                    \n",
      "epoch: 0128, loss: 0.4137 - val_loss: 0.5585; rmse: 0.6440 - rmse_val: 0.7473;  r2: 0.9226 - r2_val: 0.8925                                                                                                    \n",
      "epoch: 0129, loss: 0.3806 - val_loss: 0.5064; rmse: 0.6171 - rmse_val: 0.7116;  r2: 0.9214 - r2_val: 0.8925                                                                                                    \n",
      "epoch: 0130, loss: 0.3631 - val_loss: 0.5403; rmse: 0.6281 - rmse_val: 0.7349;  r2: 0.9229 - r2_val: 0.8920                                                                                                    \n",
      "epoch: 0131, loss: 0.3726 - val_loss: 0.4563; rmse: 0.5856 - rmse_val: 0.6755;  r2: 0.9250 - r2_val: 0.8921                                                                                                    \n",
      "epoch: 0132, loss: 0.3458 - val_loss: 0.4459; rmse: 0.5938 - rmse_val: 0.6677;  r2: 0.9255 - r2_val: 0.8938                                                                                                    \n",
      "epoch: 0133, loss: 0.3482 - val_loss: 0.4415; rmse: 0.5820 - rmse_val: 0.6645;  r2: 0.9255 - r2_val: 0.8945                                                                                                    \n",
      "epoch: 0134, loss: 0.3395 - val_loss: 0.4477; rmse: 0.6036 - rmse_val: 0.6691;  r2: 0.9274 - r2_val: 0.8962                                                                                                    \n",
      "epoch: 0135, loss: 0.3497 - val_loss: 0.4321; rmse: 0.5764 - rmse_val: 0.6573;  r2: 0.9277 - r2_val: 0.8969                                                                                                    \n",
      "epoch: 0136, loss: 0.3325 - val_loss: 0.4325; rmse: 0.5746 - rmse_val: 0.6576;  r2: 0.9283 - r2_val: 0.8967                                                                                                    \n",
      "epoch: 0137, loss: 0.3522 - val_loss: 0.5347; rmse: 0.6792 - rmse_val: 0.7312;  r2: 0.9284 - r2_val: 0.8934                                                                                                    \n",
      "epoch: 0138, loss: 0.3849 - val_loss: 0.4395; rmse: 0.5728 - rmse_val: 0.6630;  r2: 0.9287 - r2_val: 0.8949                                                                                                    \n",
      "epoch: 0139, loss: 0.3424 - val_loss: 0.4350; rmse: 0.5909 - rmse_val: 0.6596;  r2: 0.9299 - r2_val: 0.8983                                                                                                    \n",
      "epoch: 0140, loss: 0.3403 - val_loss: 0.4572; rmse: 0.6000 - rmse_val: 0.6762;  r2: 0.9306 - r2_val: 0.8960                                                                                                    \n",
      "epoch: 0141, loss: 0.3497 - val_loss: 0.4401; rmse: 0.5766 - rmse_val: 0.6634;  r2: 0.9309 - r2_val: 0.8963                                                                                                    \n",
      "epoch: 0142, loss: 0.3222 - val_loss: 0.4623; rmse: 0.6159 - rmse_val: 0.6799;  r2: 0.9307 - r2_val: 0.8972                                                                                                    \n",
      "epoch: 0143, loss: 0.3482 - val_loss: 0.5171; rmse: 0.6058 - rmse_val: 0.7191;  r2: 0.9313 - r2_val: 0.8985                                                                                                    \n",
      "epoch: 0144, loss: 0.4015 - val_loss: 0.5076; rmse: 0.6020 - rmse_val: 0.7125;  r2: 0.9318 - r2_val: 0.9000                                                                                                    \n",
      "epoch: 0145, loss: 0.3421 - val_loss: 0.4386; rmse: 0.5578 - rmse_val: 0.6623;  r2: 0.9318 - r2_val: 0.8989                                                                                                    \n",
      "epoch: 0146, loss: 0.3156 - val_loss: 0.4707; rmse: 0.5726 - rmse_val: 0.6861;  r2: 0.9304 - r2_val: 0.8966                                                                                                    \n",
      "epoch: 0147, loss: 0.3450 - val_loss: 0.4324; rmse: 0.5599 - rmse_val: 0.6576;  r2: 0.9305 - r2_val: 0.8976                                                                                                    \n",
      "epoch: 0148, loss: 0.3131 - val_loss: 0.4629; rmse: 0.5935 - rmse_val: 0.6804;  r2: 0.9319 - r2_val: 0.8947                                                                                                    \n",
      "epoch: 0149, loss: 0.3560 - val_loss: 0.4449; rmse: 0.5561 - rmse_val: 0.6670;  r2: 0.9329 - r2_val: 0.8988                                                                                                    \n",
      "epoch: 0150, loss: 0.3163 - val_loss: 0.4182; rmse: 0.5646 - rmse_val: 0.6466;  r2: 0.9317 - r2_val: 0.8999                                                                                                    \n",
      "epoch: 0151, loss: 0.3130 - val_loss: 0.4237; rmse: 0.5516 - rmse_val: 0.6509;  r2: 0.9353 - r2_val: 0.9010                                                                                                    \n",
      "epoch: 0152, loss: 0.3107 - val_loss: 0.6627; rmse: 0.6982 - rmse_val: 0.8141;  r2: 0.9340 - r2_val: 0.9031                                                                                                    \n",
      "epoch: 0153, loss: 0.4681 - val_loss: 0.9210; rmse: 0.8488 - rmse_val: 0.9596;  r2: 0.9281 - r2_val: 0.9012                                                                                                    \n",
      "epoch: 0154, loss: 0.5584 - val_loss: 0.5711; rmse: 0.6398 - rmse_val: 0.7557;  r2: 0.9329 - r2_val: 0.9013                                                                                                    \n",
      "epoch: 0155, loss: 0.3834 - val_loss: 0.4787; rmse: 0.5735 - rmse_val: 0.6919;  r2: 0.9334 - r2_val: 0.8982                                                                                                    \n",
      "epoch: 0156, loss: 0.3178 - val_loss: 0.4160; rmse: 0.5460 - rmse_val: 0.6450;  r2: 0.9357 - r2_val: 0.9025                                                                                                    \n",
      "epoch: 0157, loss: 0.3054 - val_loss: 0.4094; rmse: 0.5449 - rmse_val: 0.6398;  r2: 0.9367 - r2_val: 0.9046                                                                                                    \n",
      "epoch: 0158, loss: 0.2965 - val_loss: 0.4259; rmse: 0.5480 - rmse_val: 0.6526;  r2: 0.9345 - r2_val: 0.9039                                                                                                    \n",
      "epoch: 0159, loss: 0.3159 - val_loss: 0.4042; rmse: 0.5405 - rmse_val: 0.6358;  r2: 0.9352 - r2_val: 0.9047                                                                                                    \n",
      "epoch: 0160, loss: 0.2999 - val_loss: 0.4254; rmse: 0.5459 - rmse_val: 0.6523;  r2: 0.9372 - r2_val: 0.9056                                                                                                    \n",
      "epoch: 0161, loss: 0.3062 - val_loss: 0.3998; rmse: 0.5399 - rmse_val: 0.6323;  r2: 0.9362 - r2_val: 0.9058                                                                                                    \n",
      "epoch: 0162, loss: 0.2994 - val_loss: 0.4103; rmse: 0.5578 - rmse_val: 0.6405;  r2: 0.9358 - r2_val: 0.9026                                                                                                    \n",
      "epoch: 0163, loss: 0.3407 - val_loss: 0.4817; rmse: 0.6334 - rmse_val: 0.6940;  r2: 0.9374 - r2_val: 0.9029                                                                                                    \n",
      "epoch: 0164, loss: 0.3460 - val_loss: 0.5265; rmse: 0.6752 - rmse_val: 0.7255;  r2: 0.9377 - r2_val: 0.9039                                                                                                    \n",
      "epoch: 0165, loss: 0.3678 - val_loss: 0.4195; rmse: 0.5667 - rmse_val: 0.6477;  r2: 0.9382 - r2_val: 0.9046                                                                                                    \n",
      "epoch: 0166, loss: 0.2980 - val_loss: 0.4479; rmse: 0.6099 - rmse_val: 0.6693;  r2: 0.9387 - r2_val: 0.9066                                                                                                    \n",
      "epoch: 0167, loss: 0.3162 - val_loss: 0.4952; rmse: 0.6401 - rmse_val: 0.7038;  r2: 0.9391 - r2_val: 0.9053                                                                                                    \n",
      "epoch: 0168, loss: 0.3564 - val_loss: 0.4233; rmse: 0.5667 - rmse_val: 0.6506;  r2: 0.9396 - r2_val: 0.9052                                                                                                    \n",
      "epoch: 0169, loss: 0.2989 - val_loss: 0.3918; rmse: 0.5395 - rmse_val: 0.6259;  r2: 0.9379 - r2_val: 0.9061                                                                                                    \n",
      "epoch: 0170, loss: 0.3002 - val_loss: 0.4632; rmse: 0.6204 - rmse_val: 0.6805;  r2: 0.9379 - r2_val: 0.9036                                                                                                    \n",
      "epoch: 0171, loss: 0.3315 - val_loss: 0.4097; rmse: 0.5455 - rmse_val: 0.6400;  r2: 0.9394 - r2_val: 0.9046                                                                                                    \n",
      "epoch: 0172, loss: 0.2908 - val_loss: 0.4095; rmse: 0.5672 - rmse_val: 0.6400;  r2: 0.9395 - r2_val: 0.9091                                                                                                    \n",
      "epoch: 0173, loss: 0.2880 - val_loss: 0.3898; rmse: 0.5232 - rmse_val: 0.6243;  r2: 0.9401 - r2_val: 0.9102                                                                                                    \n",
      "epoch: 0174, loss: 0.2719 - val_loss: 0.3825; rmse: 0.5165 - rmse_val: 0.6184;  r2: 0.9412 - r2_val: 0.9098                                                                                                    \n",
      "epoch: 0175, loss: 0.2723 - val_loss: 0.3853; rmse: 0.5242 - rmse_val: 0.6207;  r2: 0.9421 - r2_val: 0.9093                                                                                                    \n",
      "epoch: 0176, loss: 0.2727 - val_loss: 0.3985; rmse: 0.5504 - rmse_val: 0.6313;  r2: 0.9422 - r2_val: 0.9097                                                                                                    \n",
      "epoch: 0177, loss: 0.2820 - val_loss: 0.3863; rmse: 0.5241 - rmse_val: 0.6215;  r2: 0.9425 - r2_val: 0.9087                                                                                                    \n",
      "epoch: 0178, loss: 0.2692 - val_loss: 0.4072; rmse: 0.5255 - rmse_val: 0.6381;  r2: 0.9428 - r2_val: 0.9116                                                                                                    \n",
      "epoch: 0179, loss: 0.3235 - val_loss: 0.4891; rmse: 0.5864 - rmse_val: 0.6993;  r2: 0.9410 - r2_val: 0.9121                                                                                                    \n",
      "epoch: 0180, loss: 0.2959 - val_loss: 0.3915; rmse: 0.5184 - rmse_val: 0.6258;  r2: 0.9428 - r2_val: 0.9118                                                                                                    \n",
      "epoch: 0181, loss: 0.2642 - val_loss: 0.3757; rmse: 0.5076 - rmse_val: 0.6129;  r2: 0.9433 - r2_val: 0.9111                                                                                                    \n",
      "epoch: 0182, loss: 0.2606 - val_loss: 0.3717; rmse: 0.5057 - rmse_val: 0.6097;  r2: 0.9435 - r2_val: 0.9111                                                                                                    \n",
      "epoch: 0183, loss: 0.2582 - val_loss: 0.3758; rmse: 0.5125 - rmse_val: 0.6131;  r2: 0.9432 - r2_val: 0.9102                                                                                                    \n",
      "epoch: 0184, loss: 0.2684 - val_loss: 0.3683; rmse: 0.5074 - rmse_val: 0.6069;  r2: 0.9440 - r2_val: 0.9121                                                                                                    \n",
      "epoch: 0185, loss: 0.2568 - val_loss: 0.4580; rmse: 0.6081 - rmse_val: 0.6767;  r2: 0.9439 - r2_val: 0.9085                                                                                                    \n",
      "epoch: 0186, loss: 0.3123 - val_loss: 0.4998; rmse: 0.6410 - rmse_val: 0.7070;  r2: 0.9438 - r2_val: 0.9070                                                                                                    \n",
      "epoch: 0187, loss: 0.3355 - val_loss: 0.3814; rmse: 0.5130 - rmse_val: 0.6176;  r2: 0.9448 - r2_val: 0.9096                                                                                                    \n",
      "epoch: 0188, loss: 0.2693 - val_loss: 0.3888; rmse: 0.5064 - rmse_val: 0.6235;  r2: 0.9447 - r2_val: 0.9112                                                                                                    \n",
      "epoch: 0189, loss: 0.2641 - val_loss: 0.4365; rmse: 0.5361 - rmse_val: 0.6606;  r2: 0.9451 - r2_val: 0.9109                                                                                                    \n",
      "epoch: 0190, loss: 0.2672 - val_loss: 0.4540; rmse: 0.5579 - rmse_val: 0.6738;  r2: 0.9440 - r2_val: 0.9142                                                                                                    \n",
      "epoch: 0191, loss: 0.2635 - val_loss: 0.4002; rmse: 0.5252 - rmse_val: 0.6326;  r2: 0.9444 - r2_val: 0.9161                                                                                                    \n",
      "epoch: 0192, loss: 0.2651 - val_loss: 0.4680; rmse: 0.5638 - rmse_val: 0.6841;  r2: 0.9458 - r2_val: 0.9134                                                                                                    \n",
      "epoch: 0193, loss: 0.2848 - val_loss: 0.3953; rmse: 0.5091 - rmse_val: 0.6287;  r2: 0.9463 - r2_val: 0.9136                                                                                                    \n",
      "epoch: 0194, loss: 0.2660 - val_loss: 0.4183; rmse: 0.5314 - rmse_val: 0.6467;  r2: 0.9462 - r2_val: 0.9161                                                                                                    \n",
      "epoch: 0195, loss: 0.2616 - val_loss: 0.4052; rmse: 0.5448 - rmse_val: 0.6365;  r2: 0.9470 - r2_val: 0.9111                                                                                                    \n",
      "epoch: 0196, loss: 0.3467 - val_loss: 0.4615; rmse: 0.5888 - rmse_val: 0.6794;  r2: 0.9429 - r2_val: 0.9037                                                                                                    \n",
      "epoch: 0197, loss: 0.2902 - val_loss: 0.4229; rmse: 0.5956 - rmse_val: 0.6503;  r2: 0.9424 - r2_val: 0.9128                                                                                                    \n",
      "epoch: 0198, loss: 0.2994 - val_loss: 0.3625; rmse: 0.4980 - rmse_val: 0.6021;  r2: 0.9470 - r2_val: 0.9153                                                                                                    \n",
      "epoch: 0199, loss: 0.2652 - val_loss: 0.3616; rmse: 0.4957 - rmse_val: 0.6013;  r2: 0.9462 - r2_val: 0.9153                                                                                                    \n",
      "epoch: 0200, loss: 0.2731 - val_loss: 0.4402; rmse: 0.5623 - rmse_val: 0.6635;  r2: 0.9371 - r2_val: 0.9097                                                                                                    \n",
      "epoch: 0201, loss: 0.2937 - val_loss: 0.3752; rmse: 0.5081 - rmse_val: 0.6125;  r2: 0.9451 - r2_val: 0.9156                                                                                                    \n",
      "epoch: 0202, loss: 0.2582 - val_loss: 0.5516; rmse: 0.6470 - rmse_val: 0.7427;  r2: 0.9451 - r2_val: 0.9178                                                                                                    \n",
      "epoch: 0203, loss: 0.3452 - val_loss: 0.6883; rmse: 0.7212 - rmse_val: 0.8297;  r2: 0.9442 - r2_val: 0.9153                                                                                                    \n",
      "epoch: 0204, loss: 0.3862 - val_loss: 0.4242; rmse: 0.5297 - rmse_val: 0.6514;  r2: 0.9468 - r2_val: 0.9148                                                                                                    \n",
      "epoch: 0205, loss: 0.2785 - val_loss: 0.3659; rmse: 0.5084 - rmse_val: 0.6049;  r2: 0.9475 - r2_val: 0.9147                                                                                                    \n",
      "epoch: 0206, loss: 0.2739 - val_loss: 0.4262; rmse: 0.5731 - rmse_val: 0.6529;  r2: 0.9480 - r2_val: 0.9138                                                                                                    \n",
      "epoch: 0207, loss: 0.3172 - val_loss: 0.3564; rmse: 0.4894 - rmse_val: 0.5970;  r2: 0.9483 - r2_val: 0.9149                                                                                                    \n",
      "epoch: 0208, loss: 0.2754 - val_loss: 0.3740; rmse: 0.5124 - rmse_val: 0.6115;  r2: 0.9449 - r2_val: 0.9189                                                                                                    \n",
      "epoch: 0209, loss: 0.2496 - val_loss: 0.4080; rmse: 0.5218 - rmse_val: 0.6387;  r2: 0.9482 - r2_val: 0.9172                                                                                                    \n",
      "epoch: 0210, loss: 0.2614 - val_loss: 0.6438; rmse: 0.7367 - rmse_val: 0.8025;  r2: 0.9472 - r2_val: 0.9081                                                                                                    \n",
      "epoch: 0211, loss: 0.4784 - val_loss: 1.0238; rmse: 0.9697 - rmse_val: 1.0120;  r2: 0.9445 - r2_val: 0.9069                                                                                                    \n",
      "epoch: 0212, loss: 0.5507 - val_loss: 0.7016; rmse: 0.7904 - rmse_val: 0.8376;  r2: 0.9453 - r2_val: 0.9112                                                                                                    \n",
      "epoch: 0213, loss: 0.4247 - val_loss: 0.4488; rmse: 0.6036 - rmse_val: 0.6699;  r2: 0.9459 - r2_val: 0.9127                                                                                                    \n",
      "epoch: 0214, loss: 0.2831 - val_loss: 0.3818; rmse: 0.5437 - rmse_val: 0.6179;  r2: 0.9461 - r2_val: 0.9144                                                                                                    \n",
      "epoch: 0215, loss: 0.2717 - val_loss: 0.3614; rmse: 0.4950 - rmse_val: 0.6012;  r2: 0.9478 - r2_val: 0.9140                                                                                                    \n",
      "epoch: 0216, loss: 0.2399 - val_loss: 0.3893; rmse: 0.5265 - rmse_val: 0.6240;  r2: 0.9486 - r2_val: 0.9137                                                                                                    \n",
      "epoch: 0217, loss: 0.2645 - val_loss: 0.3550; rmse: 0.4936 - rmse_val: 0.5957;  r2: 0.9489 - r2_val: 0.9164                                                                                                    \n",
      "epoch: 0218, loss: 0.2390 - val_loss: 0.3643; rmse: 0.4829 - rmse_val: 0.6036;  r2: 0.9484 - r2_val: 0.9146                                                                                                    \n",
      "epoch: 0219, loss: 0.2348 - val_loss: 0.3619; rmse: 0.4811 - rmse_val: 0.6015;  r2: 0.9497 - r2_val: 0.9170                                                                                                    \n",
      "epoch: 0220, loss: 0.2372 - val_loss: 0.3892; rmse: 0.5033 - rmse_val: 0.6239;  r2: 0.9503 - r2_val: 0.9177                                                                                                    \n",
      "epoch: 0221, loss: 0.2548 - val_loss: 0.5206; rmse: 0.5985 - rmse_val: 0.7215;  r2: 0.9499 - r2_val: 0.9176                                                                                                    \n",
      "epoch: 0222, loss: 0.3488 - val_loss: 0.4787; rmse: 0.5648 - rmse_val: 0.6918;  r2: 0.9487 - r2_val: 0.9165                                                                                                    \n",
      "epoch: 0223, loss: 0.2910 - val_loss: 0.4338; rmse: 0.5297 - rmse_val: 0.6586;  r2: 0.9506 - r2_val: 0.9166                                                                                                    \n",
      "epoch: 0224, loss: 0.2519 - val_loss: 0.4126; rmse: 0.5104 - rmse_val: 0.6423;  r2: 0.9507 - r2_val: 0.9158                                                                                                    \n",
      "epoch: 0225, loss: 0.2413 - val_loss: 0.3540; rmse: 0.4865 - rmse_val: 0.5950;  r2: 0.9511 - r2_val: 0.9165                                                                                                    \n",
      "epoch: 0226, loss: 0.2505 - val_loss: 0.3545; rmse: 0.4776 - rmse_val: 0.5954;  r2: 0.9506 - r2_val: 0.9156                                                                                                    \n",
      "epoch: 0227, loss: 0.2347 - val_loss: 0.3632; rmse: 0.4741 - rmse_val: 0.6027;  r2: 0.9518 - r2_val: 0.9164                                                                                                    \n",
      "epoch: 0228, loss: 0.2268 - val_loss: 0.3506; rmse: 0.4728 - rmse_val: 0.5921;  r2: 0.9515 - r2_val: 0.9196                                                                                                    \n",
      "epoch: 0229, loss: 0.2206 - val_loss: 0.3457; rmse: 0.4674 - rmse_val: 0.5880;  r2: 0.9529 - r2_val: 0.9185                                                                                                    \n",
      "epoch: 0230, loss: 0.2193 - val_loss: 0.3406; rmse: 0.4645 - rmse_val: 0.5836;  r2: 0.9529 - r2_val: 0.9190                                                                                                    \n",
      "epoch: 0231, loss: 0.2168 - val_loss: 0.3454; rmse: 0.4635 - rmse_val: 0.5877;  r2: 0.9526 - r2_val: 0.9190                                                                                                    \n",
      "epoch: 0232, loss: 0.2163 - val_loss: 0.3762; rmse: 0.4881 - rmse_val: 0.6133;  r2: 0.9523 - r2_val: 0.9207                                                                                                    \n",
      "epoch: 0233, loss: 0.2407 - val_loss: 0.4499; rmse: 0.5451 - rmse_val: 0.6707;  r2: 0.9518 - r2_val: 0.9213                                                                                                    \n",
      "epoch: 0234, loss: 0.2520 - val_loss: 0.4437; rmse: 0.5352 - rmse_val: 0.6661;  r2: 0.9524 - r2_val: 0.9197                                                                                                    \n",
      "epoch: 0235, loss: 0.2550 - val_loss: 0.3354; rmse: 0.4608 - rmse_val: 0.5791;  r2: 0.9532 - r2_val: 0.9206                                                                                                    \n",
      "epoch: 0236, loss: 0.2798 - val_loss: 0.4195; rmse: 0.5473 - rmse_val: 0.6477;  r2: 0.9540 - r2_val: 0.9163                                                                                                    \n",
      "epoch: 0237, loss: 0.3058 - val_loss: 0.4572; rmse: 0.5884 - rmse_val: 0.6762;  r2: 0.9539 - r2_val: 0.9161                                                                                                    \n",
      "epoch: 0238, loss: 0.2648 - val_loss: 0.3371; rmse: 0.4578 - rmse_val: 0.5807;  r2: 0.9536 - r2_val: 0.9204                                                                                                    \n",
      "epoch: 0239, loss: 0.2563 - val_loss: 0.7260; rmse: 0.7342 - rmse_val: 0.8520;  r2: 0.9468 - r2_val: 0.9195                                                                                                    \n",
      "epoch: 0240, loss: 0.4596 - val_loss: 0.5309; rmse: 0.5951 - rmse_val: 0.7286;  r2: 0.9509 - r2_val: 0.9171                                                                                                    \n",
      "epoch: 0241, loss: 0.2955 - val_loss: 0.4719; rmse: 0.5515 - rmse_val: 0.6869;  r2: 0.9528 - r2_val: 0.9157                                                                                                    \n",
      "epoch: 0242, loss: 0.2598 - val_loss: 0.3862; rmse: 0.4952 - rmse_val: 0.6215;  r2: 0.9523 - r2_val: 0.9196                                                                                                    \n",
      "epoch: 0243, loss: 0.2315 - val_loss: 0.4519; rmse: 0.5382 - rmse_val: 0.6721;  r2: 0.9519 - r2_val: 0.9177                                                                                                    \n",
      "epoch: 0244, loss: 0.2568 - val_loss: 0.5663; rmse: 0.6214 - rmse_val: 0.7526;  r2: 0.9530 - r2_val: 0.9165                                                                                                    \n",
      "epoch: 0245, loss: 0.2865 - val_loss: 0.3994; rmse: 0.5043 - rmse_val: 0.6320;  r2: 0.9520 - r2_val: 0.9207                                                                                                    \n",
      "epoch: 0246, loss: 0.2291 - val_loss: 0.3729; rmse: 0.4808 - rmse_val: 0.6107;  r2: 0.9543 - r2_val: 0.9213                                                                                                    \n",
      "epoch: 0247, loss: 0.2148 - val_loss: 0.4671; rmse: 0.5538 - rmse_val: 0.6834;  r2: 0.9549 - r2_val: 0.9211                                                                                                    \n",
      "epoch: 0248, loss: 0.2508 - val_loss: 0.3560; rmse: 0.4690 - rmse_val: 0.5967;  r2: 0.9543 - r2_val: 0.9219                                                                                                    \n",
      "epoch: 0249, loss: 0.2197 - val_loss: 0.3508; rmse: 0.4825 - rmse_val: 0.5923;  r2: 0.9550 - r2_val: 0.9200                                                                                                    \n",
      "epoch: 0250, loss: 0.2307 - val_loss: 0.3737; rmse: 0.4909 - rmse_val: 0.6113;  r2: 0.9549 - r2_val: 0.9161                                                                                                    \n",
      "epoch: 0251, loss: 0.2335 - val_loss: 0.3365; rmse: 0.4550 - rmse_val: 0.5802;  r2: 0.9561 - r2_val: 0.9199                                                                                                    \n",
      "epoch: 0252, loss: 0.2118 - val_loss: 0.3352; rmse: 0.4544 - rmse_val: 0.5790;  r2: 0.9546 - r2_val: 0.9206                                                                                                    \n",
      "epoch: 0253, loss: 0.2065 - val_loss: 0.3410; rmse: 0.4517 - rmse_val: 0.5840;  r2: 0.9564 - r2_val: 0.9199                                                                                                    \n",
      "epoch: 0254, loss: 0.2102 - val_loss: 0.3380; rmse: 0.4571 - rmse_val: 0.5813;  r2: 0.9563 - r2_val: 0.9203                                                                                                    \n",
      "epoch: 0255, loss: 0.2073 - val_loss: 0.3476; rmse: 0.4566 - rmse_val: 0.5896;  r2: 0.9552 - r2_val: 0.9216                                                                                                    \n",
      "epoch: 0256, loss: 0.2152 - val_loss: 0.4024; rmse: 0.4941 - rmse_val: 0.6344;  r2: 0.9561 - r2_val: 0.9213                                                                                                    \n",
      "epoch: 0257, loss: 0.2124 - val_loss: 0.3531; rmse: 0.4574 - rmse_val: 0.5942;  r2: 0.9567 - r2_val: 0.9217                                                                                                    \n",
      "epoch: 0258, loss: 0.2164 - val_loss: 0.3807; rmse: 0.4862 - rmse_val: 0.6170;  r2: 0.9559 - r2_val: 0.9220                                                                                                    \n",
      "epoch: 0259, loss: 0.2071 - val_loss: 0.3513; rmse: 0.4496 - rmse_val: 0.5927;  r2: 0.9564 - r2_val: 0.9193                                                                                                    \n",
      "epoch: 0260, loss: 0.1993 - val_loss: 0.3813; rmse: 0.4715 - rmse_val: 0.6175;  r2: 0.9576 - r2_val: 0.9203                                                                                                    \n",
      "epoch: 0261, loss: 0.2065 - val_loss: 0.3278; rmse: 0.4377 - rmse_val: 0.5725;  r2: 0.9578 - r2_val: 0.9217                                                                                                    \n",
      "epoch: 0262, loss: 0.1988 - val_loss: 0.3375; rmse: 0.4487 - rmse_val: 0.5809;  r2: 0.9586 - r2_val: 0.9205                                                                                                    \n",
      "epoch: 0263, loss: 0.2048 - val_loss: 0.3472; rmse: 0.4444 - rmse_val: 0.5893;  r2: 0.9587 - r2_val: 0.9217                                                                                                    \n",
      "epoch: 0264, loss: 0.2401 - val_loss: 0.5010; rmse: 0.5899 - rmse_val: 0.7078;  r2: 0.9524 - r2_val: 0.9234                                                                                                    \n",
      "epoch: 0265, loss: 0.2806 - val_loss: 0.5826; rmse: 0.6397 - rmse_val: 0.7633;  r2: 0.9560 - r2_val: 0.9230                                                                                                    \n",
      "epoch: 0266, loss: 0.3107 - val_loss: 0.5972; rmse: 0.6462 - rmse_val: 0.7727;  r2: 0.9555 - r2_val: 0.9198                                                                                                    \n",
      "epoch: 0267, loss: 0.2751 - val_loss: 0.4984; rmse: 0.5782 - rmse_val: 0.7059;  r2: 0.9558 - r2_val: 0.9224                                                                                                    \n",
      "epoch: 0268, loss: 0.2587 - val_loss: 0.4091; rmse: 0.4994 - rmse_val: 0.6396;  r2: 0.9569 - r2_val: 0.9214                                                                                                    \n",
      "epoch: 0269, loss: 0.2447 - val_loss: 0.3427; rmse: 0.4401 - rmse_val: 0.5855;  r2: 0.9573 - r2_val: 0.9182                                                                                                    \n",
      "epoch: 0270, loss: 0.2006 - val_loss: 0.3300; rmse: 0.4437 - rmse_val: 0.5744;  r2: 0.9580 - r2_val: 0.9216                                                                                                    \n",
      "epoch: 0271, loss: 0.1967 - val_loss: 0.3402; rmse: 0.4389 - rmse_val: 0.5833;  r2: 0.9581 - r2_val: 0.9186                                                                                                    \n",
      "epoch: 0272, loss: 0.2053 - val_loss: 0.3591; rmse: 0.4603 - rmse_val: 0.5993;  r2: 0.9569 - r2_val: 0.9154                                                                                                    \n",
      "epoch: 0273, loss: 0.2176 - val_loss: 0.4541; rmse: 0.5836 - rmse_val: 0.6739;  r2: 0.9581 - r2_val: 0.9191                                                                                                    \n",
      "epoch: 0274, loss: 0.2538 - val_loss: 0.3643; rmse: 0.4687 - rmse_val: 0.6036;  r2: 0.9582 - r2_val: 0.9167                                                                                                    \n",
      "epoch: 0275, loss: 0.2084 - val_loss: 0.3730; rmse: 0.4641 - rmse_val: 0.6107;  r2: 0.9578 - r2_val: 0.9209                                                                                                    \n",
      "epoch: 0276, loss: 0.2498 - val_loss: 0.4922; rmse: 0.5690 - rmse_val: 0.7017;  r2: 0.9568 - r2_val: 0.9225                                                                                                    \n",
      "epoch: 0277, loss: 0.2703 - val_loss: 0.4422; rmse: 0.5192 - rmse_val: 0.6649;  r2: 0.9580 - r2_val: 0.9212                                                                                                    \n",
      "epoch: 0278, loss: 0.2251 - val_loss: 0.3817; rmse: 0.4620 - rmse_val: 0.6178;  r2: 0.9580 - r2_val: 0.9194                                                                                                    \n",
      "epoch: 0279, loss: 0.1942 - val_loss: 0.3413; rmse: 0.4331 - rmse_val: 0.5843;  r2: 0.9591 - r2_val: 0.9208                                                                                                    \n",
      "epoch: 0280, loss: 0.1895 - val_loss: 0.3449; rmse: 0.4613 - rmse_val: 0.5873;  r2: 0.9597 - r2_val: 0.9209                                                                                                    \n",
      "epoch: 0281, loss: 0.2050 - val_loss: 0.3421; rmse: 0.4351 - rmse_val: 0.5849;  r2: 0.9600 - r2_val: 0.9232                                                                                                    \n",
      "epoch: 0282, loss: 0.2075 - val_loss: 0.5390; rmse: 0.6059 - rmse_val: 0.7341;  r2: 0.9555 - r2_val: 0.9250                                                                                                    \n",
      "epoch: 0283, loss: 0.2929 - val_loss: 0.4540; rmse: 0.5347 - rmse_val: 0.6738;  r2: 0.9594 - r2_val: 0.9232                                                                                                    \n",
      "epoch: 0284, loss: 0.2308 - val_loss: 0.3384; rmse: 0.4362 - rmse_val: 0.5817;  r2: 0.9591 - r2_val: 0.9232                                                                                                    \n",
      "epoch: 0285, loss: 0.2108 - val_loss: 0.3480; rmse: 0.4690 - rmse_val: 0.5899;  r2: 0.9598 - r2_val: 0.9211                                                                                                    \n",
      "epoch: 0286, loss: 0.2350 - val_loss: 0.3502; rmse: 0.4522 - rmse_val: 0.5918;  r2: 0.9596 - r2_val: 0.9185                                                                                                    \n",
      "epoch: 0287, loss: 0.1949 - val_loss: 0.3125; rmse: 0.4314 - rmse_val: 0.5590;  r2: 0.9602 - r2_val: 0.9252                                                                                                    \n",
      "epoch: 0288, loss: 0.1908 - val_loss: 0.3162; rmse: 0.4315 - rmse_val: 0.5623;  r2: 0.9607 - r2_val: 0.9246                                                                                                    \n",
      "epoch: 0289, loss: 0.1999 - val_loss: 0.3327; rmse: 0.4250 - rmse_val: 0.5768;  r2: 0.9608 - r2_val: 0.9208                                                                                                    \n",
      "epoch: 0290, loss: 0.1850 - val_loss: 0.3203; rmse: 0.4211 - rmse_val: 0.5660;  r2: 0.9607 - r2_val: 0.9243                                                                                                    \n",
      "epoch: 0291, loss: 0.1796 - val_loss: 0.3485; rmse: 0.4290 - rmse_val: 0.5903;  r2: 0.9613 - r2_val: 0.9215                                                                                                    \n",
      "epoch: 0292, loss: 0.1840 - val_loss: 0.3263; rmse: 0.4188 - rmse_val: 0.5712;  r2: 0.9616 - r2_val: 0.9241                                                                                                    \n",
      "epoch: 0293, loss: 0.1831 - val_loss: 0.3247; rmse: 0.4201 - rmse_val: 0.5697;  r2: 0.9611 - r2_val: 0.9236                                                                                                    \n",
      "epoch: 0294, loss: 0.1813 - val_loss: 0.3202; rmse: 0.4189 - rmse_val: 0.5659;  r2: 0.9618 - r2_val: 0.9231                                                                                                    \n",
      "epoch: 0295, loss: 0.1760 - val_loss: 0.3341; rmse: 0.4448 - rmse_val: 0.5781;  r2: 0.9624 - r2_val: 0.9235                                                                                                    \n",
      "epoch: 0296, loss: 0.1820 - val_loss: 0.3144; rmse: 0.4209 - rmse_val: 0.5608;  r2: 0.9627 - r2_val: 0.9249                                                                                                    \n",
      "epoch: 0297, loss: 0.1726 - val_loss: 0.3161; rmse: 0.4111 - rmse_val: 0.5622;  r2: 0.9626 - r2_val: 0.9245                                                                                                    \n",
      "epoch: 0298, loss: 0.1698 - val_loss: 0.3271; rmse: 0.4206 - rmse_val: 0.5720;  r2: 0.9628 - r2_val: 0.9221                                                                                                    \n",
      "epoch: 0299, loss: 0.1738 - val_loss: 0.3208; rmse: 0.4107 - rmse_val: 0.5664;  r2: 0.9631 - r2_val: 0.9231                                                                                                    \n",
      "epoch: 0300, loss: 0.1718 - val_loss: 0.3295; rmse: 0.4183 - rmse_val: 0.5741;  r2: 0.9631 - r2_val: 0.9256                                                                                                    \n",
      "epoch: 0301, loss: 0.1713 - val_loss: 0.3177; rmse: 0.4085 - rmse_val: 0.5636;  r2: 0.9630 - r2_val: 0.9242                                                                                                    \n",
      "epoch: 0302, loss: 0.1711 - val_loss: 0.3121; rmse: 0.4166 - rmse_val: 0.5586;  r2: 0.9634 - r2_val: 0.9254                                                                                                    \n",
      "epoch: 0303, loss: 0.1744 - val_loss: 0.3365; rmse: 0.4197 - rmse_val: 0.5800;  r2: 0.9638 - r2_val: 0.9252                                                                                                    \n",
      "epoch: 0304, loss: 0.1968 - val_loss: 0.3514; rmse: 0.4424 - rmse_val: 0.5929;  r2: 0.9627 - r2_val: 0.9261                                                                                                    \n",
      "epoch: 0305, loss: 0.1794 - val_loss: 0.3145; rmse: 0.4053 - rmse_val: 0.5607;  r2: 0.9636 - r2_val: 0.9251                                                                                                    \n",
      "epoch: 0306, loss: 0.1690 - val_loss: 0.3723; rmse: 0.4474 - rmse_val: 0.6102;  r2: 0.9633 - r2_val: 0.9243                                                                                                    \n",
      "epoch: 0307, loss: 0.1879 - val_loss: 0.3900; rmse: 0.4757 - rmse_val: 0.6245;  r2: 0.9626 - r2_val: 0.9268                                                                                                    \n",
      "epoch: 0308, loss: 0.2026 - val_loss: 0.3396; rmse: 0.4223 - rmse_val: 0.5828;  r2: 0.9637 - r2_val: 0.9250                                                                                                    \n",
      "epoch: 0309, loss: 0.1699 - val_loss: 0.3243; rmse: 0.4102 - rmse_val: 0.5695;  r2: 0.9634 - r2_val: 0.9251                                                                                                    \n",
      "epoch: 0310, loss: 0.1684 - val_loss: 0.3342; rmse: 0.4092 - rmse_val: 0.5781;  r2: 0.9643 - r2_val: 0.9235                                                                                                    \n",
      "epoch: 0311, loss: 0.1658 - val_loss: 0.3338; rmse: 0.4187 - rmse_val: 0.5779;  r2: 0.9647 - r2_val: 0.9265                                                                                                    \n",
      "epoch: 0312, loss: 0.1665 - val_loss: 0.3812; rmse: 0.4590 - rmse_val: 0.6175;  r2: 0.9644 - r2_val: 0.9262                                                                                                    \n",
      "epoch: 0313, loss: 0.1761 - val_loss: 0.3856; rmse: 0.4624 - rmse_val: 0.6211;  r2: 0.9648 - r2_val: 0.9255                                                                                                    \n",
      "epoch: 0314, loss: 0.1862 - val_loss: 0.3123; rmse: 0.4030 - rmse_val: 0.5589;  r2: 0.9643 - r2_val: 0.9255                                                                                                    \n",
      "epoch: 0315, loss: 0.1737 - val_loss: 0.3376; rmse: 0.4143 - rmse_val: 0.5809;  r2: 0.9639 - r2_val: 0.9243                                                                                                    \n",
      "epoch: 0316, loss: 0.1794 - val_loss: 0.3955; rmse: 0.4991 - rmse_val: 0.6289;  r2: 0.9637 - r2_val: 0.9199                                                                                                    \n",
      "epoch: 0317, loss: 0.2448 - val_loss: 0.3485; rmse: 0.4420 - rmse_val: 0.5904;  r2: 0.9620 - r2_val: 0.9188                                                                                                    \n",
      "epoch: 0318, loss: 0.1995 - val_loss: 0.4583; rmse: 0.5273 - rmse_val: 0.6769;  r2: 0.9611 - r2_val: 0.9249                                                                                                    \n",
      "epoch: 0319, loss: 0.2389 - val_loss: 0.3607; rmse: 0.4617 - rmse_val: 0.6005;  r2: 0.9615 - r2_val: 0.9271                                                                                                    \n",
      "epoch: 0320, loss: 0.2238 - val_loss: 0.3159; rmse: 0.4145 - rmse_val: 0.5620;  r2: 0.9633 - r2_val: 0.9242                                                                                                    \n",
      "epoch: 0321, loss: 0.1817 - val_loss: 0.3498; rmse: 0.4187 - rmse_val: 0.5914;  r2: 0.9634 - r2_val: 0.9222                                                                                                    \n",
      "epoch: 0322, loss: 0.1883 - val_loss: 0.4329; rmse: 0.5069 - rmse_val: 0.6579;  r2: 0.9640 - r2_val: 0.9263                                                                                                    \n",
      "epoch: 0323, loss: 0.2180 - val_loss: 0.3282; rmse: 0.4185 - rmse_val: 0.5729;  r2: 0.9630 - r2_val: 0.9218                                                                                                    \n",
      "epoch: 0324, loss: 0.2309 - val_loss: 0.4272; rmse: 0.5320 - rmse_val: 0.6537;  r2: 0.9608 - r2_val: 0.9186                                                                                                    \n",
      "epoch: 0325, loss: 0.2211 - val_loss: 0.3248; rmse: 0.4277 - rmse_val: 0.5699;  r2: 0.9626 - r2_val: 0.9235                                                                                                    \n",
      "epoch: 0326, loss: 0.1937 - val_loss: 0.3080; rmse: 0.4079 - rmse_val: 0.5549;  r2: 0.9640 - r2_val: 0.9263                                                                                                    \n",
      "epoch: 0327, loss: 0.1815 - val_loss: 0.3239; rmse: 0.4081 - rmse_val: 0.5691;  r2: 0.9644 - r2_val: 0.9244                                                                                                    \n",
      "epoch: 0328, loss: 0.1875 - val_loss: 0.3210; rmse: 0.4276 - rmse_val: 0.5666;  r2: 0.9614 - r2_val: 0.9236                                                                                                    \n",
      "epoch: 0329, loss: 0.1836 - val_loss: 0.3685; rmse: 0.4407 - rmse_val: 0.6070;  r2: 0.9617 - r2_val: 0.9210                                                                                                    \n",
      "epoch: 0330, loss: 0.1857 - val_loss: 0.3659; rmse: 0.4408 - rmse_val: 0.6049;  r2: 0.9641 - r2_val: 0.9242                                                                                                    \n",
      "epoch: 0331, loss: 0.1890 - val_loss: 0.4845; rmse: 0.5416 - rmse_val: 0.6960;  r2: 0.9635 - r2_val: 0.9248                                                                                                    \n",
      "epoch: 0332, loss: 0.2561 - val_loss: 0.3126; rmse: 0.4247 - rmse_val: 0.5591;  r2: 0.9632 - r2_val: 0.9260                                                                                                    \n",
      "epoch: 0333, loss: 0.2323 - val_loss: 0.4226; rmse: 0.5362 - rmse_val: 0.6501;  r2: 0.9627 - r2_val: 0.9202                                                                                                    \n",
      "epoch: 0334, loss: 0.2095 - val_loss: 0.3538; rmse: 0.4264 - rmse_val: 0.5948;  r2: 0.9639 - r2_val: 0.9239                                                                                                    \n",
      "epoch: 0335, loss: 0.2307 - val_loss: 0.3737; rmse: 0.4589 - rmse_val: 0.6113;  r2: 0.9620 - r2_val: 0.9275                                                                                                    \n",
      "epoch: 0336, loss: 0.1997 - val_loss: 0.3030; rmse: 0.4037 - rmse_val: 0.5504;  r2: 0.9638 - r2_val: 0.9280                                                                                                    \n",
      "epoch: 0337, loss: 0.1748 - val_loss: 0.3243; rmse: 0.4197 - rmse_val: 0.5694;  r2: 0.9651 - r2_val: 0.9302                                                                                                    \n",
      "epoch: 0338, loss: 0.1823 - val_loss: 0.3032; rmse: 0.4332 - rmse_val: 0.5507;  r2: 0.9643 - r2_val: 0.9296                                                                                                    \n",
      "epoch: 0339, loss: 0.1860 - val_loss: 0.4612; rmse: 0.5714 - rmse_val: 0.6792;  r2: 0.9639 - r2_val: 0.9196                                                                                                    \n",
      "epoch: 0340, loss: 0.2338 - val_loss: 0.3206; rmse: 0.4258 - rmse_val: 0.5662;  r2: 0.9651 - r2_val: 0.9255                                                                                                    \n",
      "epoch: 0341, loss: 0.1878 - val_loss: 0.3105; rmse: 0.3931 - rmse_val: 0.5572;  r2: 0.9663 - r2_val: 0.9269                                                                                                    \n",
      "epoch: 0342, loss: 0.1685 - val_loss: 0.3106; rmse: 0.3890 - rmse_val: 0.5573;  r2: 0.9665 - r2_val: 0.9263                                                                                                    \n",
      "epoch: 0343, loss: 0.1614 - val_loss: 0.3305; rmse: 0.4268 - rmse_val: 0.5749;  r2: 0.9666 - r2_val: 0.9248                                                                                                    \n",
      "epoch: 0344, loss: 0.1742 - val_loss: 0.3713; rmse: 0.4982 - rmse_val: 0.6093;  r2: 0.9666 - r2_val: 0.9281                                                                                                    \n",
      "epoch: 0345, loss: 0.1943 - val_loss: 0.3193; rmse: 0.4099 - rmse_val: 0.5651;  r2: 0.9674 - r2_val: 0.9257                                                                                                    \n",
      "epoch: 0346, loss: 0.1621 - val_loss: 0.3122; rmse: 0.3869 - rmse_val: 0.5588;  r2: 0.9668 - r2_val: 0.9253                                                                                                    \n",
      "epoch: 0347, loss: 0.1587 - val_loss: 0.3087; rmse: 0.3857 - rmse_val: 0.5556;  r2: 0.9676 - r2_val: 0.9275                                                                                                    \n",
      "epoch: 0348, loss: 0.1502 - val_loss: 0.2982; rmse: 0.3844 - rmse_val: 0.5461;  r2: 0.9678 - r2_val: 0.9284                                                                                                    \n",
      "epoch: 0349, loss: 0.1521 - val_loss: 0.3135; rmse: 0.3874 - rmse_val: 0.5599;  r2: 0.9683 - r2_val: 0.9275                                                                                                    \n",
      "epoch: 0350, loss: 0.1543 - val_loss: 0.3179; rmse: 0.3947 - rmse_val: 0.5639;  r2: 0.9682 - r2_val: 0.9292                                                                                                    \n",
      "epoch: 0351, loss: 0.1503 - val_loss: 0.3039; rmse: 0.3931 - rmse_val: 0.5513;  r2: 0.9679 - r2_val: 0.9276                                                                                                    \n",
      "epoch: 0352, loss: 0.1582 - val_loss: 0.3319; rmse: 0.4075 - rmse_val: 0.5761;  r2: 0.9668 - r2_val: 0.9217                                                                                                    \n",
      "epoch: 0353, loss: 0.1621 - val_loss: 0.4673; rmse: 0.5220 - rmse_val: 0.6835;  r2: 0.9661 - r2_val: 0.9279                                                                                                    \n",
      "epoch: 0354, loss: 0.2561 - val_loss: 0.4267; rmse: 0.4944 - rmse_val: 0.6533;  r2: 0.9648 - r2_val: 0.9277                                                                                                    \n",
      "epoch: 0355, loss: 0.1984 - val_loss: 0.3412; rmse: 0.4225 - rmse_val: 0.5842;  r2: 0.9654 - r2_val: 0.9203                                                                                                    \n",
      "epoch: 0356, loss: 0.1875 - val_loss: 0.4461; rmse: 0.5620 - rmse_val: 0.6679;  r2: 0.9650 - r2_val: 0.9227                                                                                                    \n",
      "epoch: 0357, loss: 0.2315 - val_loss: 0.3170; rmse: 0.4121 - rmse_val: 0.5631;  r2: 0.9652 - r2_val: 0.9251                                                                                                    \n",
      "epoch: 0358, loss: 0.1877 - val_loss: 0.3259; rmse: 0.3954 - rmse_val: 0.5709;  r2: 0.9671 - r2_val: 0.9252                                                                                                    \n",
      "epoch: 0359, loss: 0.1588 - val_loss: 0.3432; rmse: 0.4099 - rmse_val: 0.5859;  r2: 0.9675 - r2_val: 0.9259                                                                                                    \n",
      "epoch: 0360, loss: 0.1575 - val_loss: 0.3106; rmse: 0.3823 - rmse_val: 0.5573;  r2: 0.9683 - r2_val: 0.9274                                                                                                    \n",
      "epoch: 0361, loss: 0.1521 - val_loss: 0.3317; rmse: 0.4173 - rmse_val: 0.5759;  r2: 0.9687 - r2_val: 0.9247                                                                                                    \n",
      "epoch: 0362, loss: 0.1690 - val_loss: 0.3082; rmse: 0.3809 - rmse_val: 0.5551;  r2: 0.9679 - r2_val: 0.9273                                                                                                    \n",
      "epoch: 0363, loss: 0.1687 - val_loss: 0.3443; rmse: 0.3983 - rmse_val: 0.5868;  r2: 0.9663 - r2_val: 0.9211                                                                                                    \n",
      "epoch: 0364, loss: 0.1736 - val_loss: 0.3463; rmse: 0.4280 - rmse_val: 0.5885;  r2: 0.9663 - r2_val: 0.9217                                                                                                    \n",
      "epoch: 0365, loss: 0.1909 - val_loss: 0.3007; rmse: 0.3903 - rmse_val: 0.5484;  r2: 0.9666 - r2_val: 0.9285                                                                                                    \n",
      "epoch: 0366, loss: 0.1781 - val_loss: 0.3661; rmse: 0.4372 - rmse_val: 0.6051;  r2: 0.9672 - r2_val: 0.9273                                                                                                    \n",
      "epoch: 0367, loss: 0.1778 - val_loss: 0.3092; rmse: 0.3935 - rmse_val: 0.5560;  r2: 0.9687 - r2_val: 0.9271                                                                                                    \n",
      "epoch: 0368, loss: 0.1972 - val_loss: 0.3257; rmse: 0.3993 - rmse_val: 0.5707;  r2: 0.9668 - r2_val: 0.9225                                                                                                    \n",
      "epoch: 0369, loss: 0.1581 - val_loss: 0.3054; rmse: 0.3820 - rmse_val: 0.5526;  r2: 0.9677 - r2_val: 0.9269                                                                                                    \n",
      "epoch: 0370, loss: 0.1526 - val_loss: 0.4346; rmse: 0.4936 - rmse_val: 0.6592;  r2: 0.9688 - r2_val: 0.9271                                                                                                    \n",
      "epoch: 0371, loss: 0.1870 - val_loss: 0.2968; rmse: 0.3782 - rmse_val: 0.5448;  r2: 0.9689 - r2_val: 0.9287                                                                                                    \n",
      "epoch: 0372, loss: 0.1723 - val_loss: 0.3871; rmse: 0.4780 - rmse_val: 0.6222;  r2: 0.9687 - r2_val: 0.9228                                                                                                    \n",
      "epoch: 0373, loss: 0.1833 - val_loss: 0.3057; rmse: 0.3931 - rmse_val: 0.5529;  r2: 0.9687 - r2_val: 0.9278                                                                                                    \n",
      "epoch: 0374, loss: 0.1572 - val_loss: 0.3409; rmse: 0.4084 - rmse_val: 0.5839;  r2: 0.9693 - r2_val: 0.9294                                                                                                    \n",
      "epoch: 0375, loss: 0.1636 - val_loss: 0.3347; rmse: 0.4181 - rmse_val: 0.5784;  r2: 0.9695 - r2_val: 0.9244                                                                                                    \n",
      "epoch: 0376, loss: 0.1944 - val_loss: 0.3936; rmse: 0.4855 - rmse_val: 0.6274;  r2: 0.9685 - r2_val: 0.9223                                                                                                    \n",
      "epoch: 0377, loss: 0.1785 - val_loss: 0.3094; rmse: 0.3836 - rmse_val: 0.5563;  r2: 0.9688 - r2_val: 0.9263                                                                                                    \n",
      "epoch: 0378, loss: 0.1513 - val_loss: 0.3103; rmse: 0.3731 - rmse_val: 0.5570;  r2: 0.9694 - r2_val: 0.9256                                                                                                    \n",
      "epoch: 0379, loss: 0.1440 - val_loss: 0.3580; rmse: 0.4114 - rmse_val: 0.5984;  r2: 0.9683 - r2_val: 0.9254                                                                                                    \n",
      "epoch: 0380, loss: 0.1606 - val_loss: 0.3346; rmse: 0.4214 - rmse_val: 0.5785;  r2: 0.9691 - r2_val: 0.9248                                                                                                    \n",
      "epoch: 0381, loss: 0.1938 - val_loss: 0.3197; rmse: 0.3864 - rmse_val: 0.5654;  r2: 0.9678 - r2_val: 0.9233                                                                                                    \n",
      "epoch: 0382, loss: 0.1718 - val_loss: 0.5375; rmse: 0.5910 - rmse_val: 0.7331;  r2: 0.9663 - r2_val: 0.9311                                                                                                    \n",
      "epoch: 0383, loss: 0.2788 - val_loss: 0.3377; rmse: 0.3982 - rmse_val: 0.5811;  r2: 0.9672 - r2_val: 0.9255                                                                                                    \n",
      "epoch: 0384, loss: 0.2236 - val_loss: 0.3387; rmse: 0.4404 - rmse_val: 0.5819;  r2: 0.9665 - r2_val: 0.9252                                                                                                    \n",
      "epoch: 0385, loss: 0.1813 - val_loss: 0.3496; rmse: 0.4599 - rmse_val: 0.5912;  r2: 0.9676 - r2_val: 0.9266                                                                                                    \n",
      "epoch: 0386, loss: 0.1696 - val_loss: 0.2980; rmse: 0.3768 - rmse_val: 0.5459;  r2: 0.9693 - r2_val: 0.9285                                                                                                    \n",
      "epoch: 0387, loss: 0.1487 - val_loss: 0.3047; rmse: 0.3812 - rmse_val: 0.5521;  r2: 0.9685 - r2_val: 0.9298                                                                                                    \n",
      "epoch: 0388, loss: 0.1475 - val_loss: 0.3618; rmse: 0.4273 - rmse_val: 0.6015;  r2: 0.9694 - r2_val: 0.9289                                                                                                    \n",
      "epoch: 0389, loss: 0.1630 - val_loss: 0.3776; rmse: 0.4433 - rmse_val: 0.6145;  r2: 0.9698 - r2_val: 0.9295                                                                                                    \n",
      "epoch: 0390, loss: 0.1606 - val_loss: 0.3080; rmse: 0.3719 - rmse_val: 0.5550;  r2: 0.9703 - r2_val: 0.9262                                                                                                    \n",
      "epoch: 0391, loss: 0.1386 - val_loss: 0.3033; rmse: 0.3689 - rmse_val: 0.5508;  r2: 0.9712 - r2_val: 0.9275                                                                                                    \n",
      "epoch: 0392, loss: 0.1350 - val_loss: 0.3200; rmse: 0.4110 - rmse_val: 0.5655;  r2: 0.9714 - r2_val: 0.9286                                                                                                    \n",
      "epoch: 0393, loss: 0.1667 - val_loss: 0.3097; rmse: 0.3687 - rmse_val: 0.5565;  r2: 0.9699 - r2_val: 0.9268                                                                                                    \n",
      "epoch: 0394, loss: 0.1464 - val_loss: 0.3150; rmse: 0.4008 - rmse_val: 0.5613;  r2: 0.9690 - r2_val: 0.9321                                                                                                    \n",
      "epoch: 0395, loss: 0.1490 - val_loss: 0.3449; rmse: 0.4065 - rmse_val: 0.5872;  r2: 0.9711 - r2_val: 0.9301                                                                                                    \n",
      "epoch: 0396, loss: 0.1500 - val_loss: 0.3341; rmse: 0.3947 - rmse_val: 0.5780;  r2: 0.9707 - r2_val: 0.9297                                                                                                    \n",
      "epoch: 0397, loss: 0.1433 - val_loss: 0.2984; rmse: 0.3590 - rmse_val: 0.5463;  r2: 0.9717 - r2_val: 0.9292                                                                                                    \n",
      "epoch: 0398, loss: 0.1396 - val_loss: 0.3055; rmse: 0.3595 - rmse_val: 0.5527;  r2: 0.9719 - r2_val: 0.9286                                                                                                    \n",
      "epoch: 0399, loss: 0.1459 - val_loss: 0.4402; rmse: 0.4903 - rmse_val: 0.6635;  r2: 0.9710 - r2_val: 0.9292                                                                                                    \n",
      "epoch: 0400, loss: 0.1576 - val_loss: 0.3030; rmse: 0.3564 - rmse_val: 0.5505;  r2: 0.9722 - r2_val: 0.9286                                                                                                    \n",
      "epoch: 0401, loss: 0.1463 - val_loss: 0.2979; rmse: 0.3550 - rmse_val: 0.5458;  r2: 0.9722 - r2_val: 0.9288                                                                                                    \n",
      "\n",
      "Restoring model weights from the end of the best epoch.\n",
      "\n",
      "Epoch 00401: early stopping\n"
     ]
    },
    {
     "data": {
      "text/plain": [
       "<tensorflow.python.keras.callbacks.History at 0x7f2f4373bb70>"
      ]
     },
     "execution_count": 10,
     "metadata": {},
     "output_type": "execute_result"
    }
   ],
   "source": [
    "model.fit(trainX, trainY, batch_size=128, \n",
    "      epochs=500, verbose= 0, shuffle = True, \n",
    "      validation_data = (validX, validY), \n",
    "      callbacks=[performace, earlystop]) "
   ]
  },
  {
   "cell_type": "code",
   "execution_count": 11,
   "metadata": {},
   "outputs": [
    {
     "data": {
      "text/plain": [
       "<matplotlib.axes._subplots.AxesSubplot at 0x7f2f3ebec9b0>"
      ]
     },
     "execution_count": 11,
     "metadata": {},
     "output_type": "execute_result"
    },
    {
     "data": {
      "image/png": "[encoded data removed]",
      "text/plain": [
       "<Figure size 432x288 with 1 Axes>"
      ]
     },
     "metadata": {
      "needs_background": "light"
     },
     "output_type": "display_data"
    }
   ],
   "source": [
    "dfp = pd.DataFrame(performace.history)[['training_loss', 'validation_loss']]\n",
    "dfp.plot()"
   ]
  },
  {
   "cell_type": "code",
   "execution_count": 12,
   "metadata": {},
   "outputs": [
    {
     "data": {
      "text/plain": [
       "([0.3782315082973449], [0.9689053626423076])"
      ]
     },
     "execution_count": 12,
     "metadata": {},
     "output_type": "execute_result"
    }
   ],
   "source": [
    "performace.evaluate(trainX, trainY) # RMSE, R^2"
   ]
  },
  {
   "cell_type": "code",
   "execution_count": 13,
   "metadata": {},
   "outputs": [
    {
     "data": {
      "text/plain": [
       "([0.5448220219658583], [0.9287228042142672])"
      ]
     },
     "execution_count": 13,
     "metadata": {},
     "output_type": "execute_result"
    }
   ],
   "source": [
    "performace.evaluate(validX, validY) # RMSE, R^2"
   ]
  },
  {
   "cell_type": "code",
   "execution_count": 14,
   "metadata": {},
   "outputs": [
    {
     "data": {
      "text/plain": [
       "([0.4545474702059565], [0.9449136014657625])"
      ]
     },
     "execution_count": 14,
     "metadata": {},
     "output_type": "execute_result"
    }
   ],
   "source": [
    "performace.evaluate(testX, testY) # RMSE, R^2"
   ]
  },
  {
   "cell_type": "code",
   "execution_count": 15,
   "metadata": {},
   "outputs": [
    {
     "data": {
      "text/plain": [
       "([0.8982283815930661], [0.47507785628740673])"
      ]
     },
     "execution_count": 15,
     "metadata": {},
     "output_type": "execute_result"
    }
   ],
   "source": [
    "performace.evaluate(etcX, etcY)  # RMSE, R^2"
   ]
  },
  {
   "cell_type": "code",
   "execution_count": 16,
   "metadata": {},
   "outputs": [
    {
     "data": {
      "text/html": [
       "<div>\n",
       "<style scoped>\n",
       "    .dataframe tbody tr th:only-of-type {\n",
       "        vertical-align: middle;\n",
       "    }\n",
       "\n",
       "    .dataframe tbody tr th {\n",
       "        vertical-align: top;\n",
       "    }\n",
       "\n",
       "    .dataframe thead th {\n",
       "        text-align: right;\n",
       "    }\n",
       "</style>\n",
       "<table border=\"1\" class=\"dataframe\">\n",
       "  <thead>\n",
       "    <tr style=\"text-align: right;\">\n",
       "      <th></th>\n",
       "      <th>Exp_LogS</th>\n",
       "      <th>Pred_LogS</th>\n",
       "    </tr>\n",
       "  </thead>\n",
       "  <tbody>\n",
       "    <tr>\n",
       "      <td>Exp_LogS</td>\n",
       "      <td>1.000000</td>\n",
       "      <td>0.689259</td>\n",
       "    </tr>\n",
       "    <tr>\n",
       "      <td>Pred_LogS</td>\n",
       "      <td>0.689259</td>\n",
       "      <td>1.000000</td>\n",
       "    </tr>\n",
       "  </tbody>\n",
       "</table>\n",
       "</div>"
      ],
      "text/plain": [
       "           Exp_LogS  Pred_LogS\n",
       "Exp_LogS   1.000000   0.689259\n",
       "Pred_LogS  0.689259   1.000000"
      ]
     },
     "execution_count": 16,
     "metadata": {},
     "output_type": "execute_result"
    }
   ],
   "source": [
    "dfr = df_etc[['Exp_LogS']].join(pd.DataFrame(performace.model.predict(etcX), columns= ['Pred_LogS']))\n",
    "dfr.corr()"
   ]
  },
  {
   "cell_type": "code",
   "execution_count": 17,
   "metadata": {},
   "outputs": [
    {
     "data": {
      "text/plain": [
       "<matplotlib.collections.PathCollection at 0x7f2f3e8ac710>"
      ]
     },
     "execution_count": 17,
     "metadata": {},
     "output_type": "execute_result"
    },
    {
     "data": {
      "image/png": "[encoded data removed]",
      "text/plain": [
       "<Figure size 576x432 with 1 Axes>"
      ]
     },
     "metadata": {
      "needs_background": "light"
     },
     "output_type": "display_data"
    }
   ],
   "source": [
    "plt.figure(figsize = (8,6))\n",
    "plt.scatter(dfr.Exp_LogS, dfr.Pred_LogS)"
   ]
  },
  {
   "cell_type": "code",
   "execution_count": 18,
   "metadata": {},
   "outputs": [],
   "source": [
    "earlystop.model.save('solubility_MMND.h5')"
   ]
  },
  {
   "cell_type": "code",
   "execution_count": null,
   "metadata": {},
   "outputs": [],
   "source": []
  },
  {
   "cell_type": "code",
   "execution_count": null,
   "metadata": {},
   "outputs": [],
   "source": []
  },
  {
   "cell_type": "code",
   "execution_count": null,
   "metadata": {},
   "outputs": [],
   "source": []
  },
  {
   "cell_type": "code",
   "execution_count": null,
   "metadata": {},
   "outputs": [],
   "source": []
  }
 ],
 "metadata": {
  "kernelspec": {
   "display_name": "Python 3",
   "language": "python",
   "name": "python3"
  },
  "language_info": {
   "codemirror_mode": {
    "name": "ipython",
    "version": 3
   },
   "file_extension": ".py",
   "mimetype": "text/x-python",
   "name": "python",
   "nbconvert_exporter": "python",
   "pygments_lexer": "ipython3",
   "version": "3.6.9"
  }
 },
 "nbformat": 4,
 "nbformat_minor": 4
}
