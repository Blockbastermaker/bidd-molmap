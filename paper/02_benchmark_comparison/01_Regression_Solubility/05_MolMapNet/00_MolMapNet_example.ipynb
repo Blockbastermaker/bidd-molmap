{
 "cells": [
  {
   "cell_type": "code",
   "execution_count": 1,
   "metadata": {},
   "outputs": [
    {
     "name": "stderr",
     "output_type": "stream",
     "text": [
      "/home/shenwanxiang/anaconda3/envs/deepchem/lib/python3.6/site-packages/tensorflow/python/framework/dtypes.py:516: FutureWarning: Passing (type, 1) or '1type' as a synonym of type is deprecated; in a future version of numpy, it will be understood as (type, (1,)) / '(1,)type'.\n",
      "  _np_qint8 = np.dtype([(\"qint8\", np.int8, 1)])\n",
      "/home/shenwanxiang/anaconda3/envs/deepchem/lib/python3.6/site-packages/tensorflow/python/framework/dtypes.py:517: FutureWarning: Passing (type, 1) or '1type' as a synonym of type is deprecated; in a future version of numpy, it will be understood as (type, (1,)) / '(1,)type'.\n",
      "  _np_quint8 = np.dtype([(\"quint8\", np.uint8, 1)])\n",
      "/home/shenwanxiang/anaconda3/envs/deepchem/lib/python3.6/site-packages/tensorflow/python/framework/dtypes.py:518: FutureWarning: Passing (type, 1) or '1type' as a synonym of type is deprecated; in a future version of numpy, it will be understood as (type, (1,)) / '(1,)type'.\n",
      "  _np_qint16 = np.dtype([(\"qint16\", np.int16, 1)])\n",
      "/home/shenwanxiang/anaconda3/envs/deepchem/lib/python3.6/site-packages/tensorflow/python/framework/dtypes.py:519: FutureWarning: Passing (type, 1) or '1type' as a synonym of type is deprecated; in a future version of numpy, it will be understood as (type, (1,)) / '(1,)type'.\n",
      "  _np_quint16 = np.dtype([(\"quint16\", np.uint16, 1)])\n",
      "/home/shenwanxiang/anaconda3/envs/deepchem/lib/python3.6/site-packages/tensorflow/python/framework/dtypes.py:520: FutureWarning: Passing (type, 1) or '1type' as a synonym of type is deprecated; in a future version of numpy, it will be understood as (type, (1,)) / '(1,)type'.\n",
      "  _np_qint32 = np.dtype([(\"qint32\", np.int32, 1)])\n",
      "/home/shenwanxiang/anaconda3/envs/deepchem/lib/python3.6/site-packages/tensorflow/python/framework/dtypes.py:525: FutureWarning: Passing (type, 1) or '1type' as a synonym of type is deprecated; in a future version of numpy, it will be understood as (type, (1,)) / '(1,)type'.\n",
      "  np_resource = np.dtype([(\"resource\", np.ubyte, 1)])\n",
      "/home/shenwanxiang/anaconda3/envs/deepchem/lib/python3.6/site-packages/tensorboard/compat/tensorflow_stub/dtypes.py:541: FutureWarning: Passing (type, 1) or '1type' as a synonym of type is deprecated; in a future version of numpy, it will be understood as (type, (1,)) / '(1,)type'.\n",
      "  _np_qint8 = np.dtype([(\"qint8\", np.int8, 1)])\n",
      "/home/shenwanxiang/anaconda3/envs/deepchem/lib/python3.6/site-packages/tensorboard/compat/tensorflow_stub/dtypes.py:542: FutureWarning: Passing (type, 1) or '1type' as a synonym of type is deprecated; in a future version of numpy, it will be understood as (type, (1,)) / '(1,)type'.\n",
      "  _np_quint8 = np.dtype([(\"quint8\", np.uint8, 1)])\n",
      "/home/shenwanxiang/anaconda3/envs/deepchem/lib/python3.6/site-packages/tensorboard/compat/tensorflow_stub/dtypes.py:543: FutureWarning: Passing (type, 1) or '1type' as a synonym of type is deprecated; in a future version of numpy, it will be understood as (type, (1,)) / '(1,)type'.\n",
      "  _np_qint16 = np.dtype([(\"qint16\", np.int16, 1)])\n",
      "/home/shenwanxiang/anaconda3/envs/deepchem/lib/python3.6/site-packages/tensorboard/compat/tensorflow_stub/dtypes.py:544: FutureWarning: Passing (type, 1) or '1type' as a synonym of type is deprecated; in a future version of numpy, it will be understood as (type, (1,)) / '(1,)type'.\n",
      "  _np_quint16 = np.dtype([(\"quint16\", np.uint16, 1)])\n",
      "/home/shenwanxiang/anaconda3/envs/deepchem/lib/python3.6/site-packages/tensorboard/compat/tensorflow_stub/dtypes.py:545: FutureWarning: Passing (type, 1) or '1type' as a synonym of type is deprecated; in a future version of numpy, it will be understood as (type, (1,)) / '(1,)type'.\n",
      "  _np_qint32 = np.dtype([(\"qint32\", np.int32, 1)])\n",
      "/home/shenwanxiang/anaconda3/envs/deepchem/lib/python3.6/site-packages/tensorboard/compat/tensorflow_stub/dtypes.py:550: FutureWarning: Passing (type, 1) or '1type' as a synonym of type is deprecated; in a future version of numpy, it will be understood as (type, (1,)) / '(1,)type'.\n",
      "  np_resource = np.dtype([(\"resource\", np.ubyte, 1)])\n"
     ]
    }
   ],
   "source": [
    "from molmap import loadmap\n",
    "import molmap\n",
    "\n",
    "import matplotlib.pyplot as plt\n",
    "from joblib import dump, load\n",
    "from tqdm import tqdm\n",
    "import pandas as pd\n",
    "tqdm.pandas(ascii=True)\n",
    "\n",
    "import numpy as np\n",
    "import tensorflow as tf\n",
    "from tensorflow.keras.utils import plot_model\n",
    "from tensorflow.keras import Model, Input\n",
    "from tensorflow.keras.layers import MaxPool2D, GlobalMaxPool2D, BatchNormalization, Activation\n",
    "from tensorflow.keras.layers import Conv2D, Concatenate,Flatten, Dense, Dropout\n",
    "\n",
    "%matplotlib inline\n",
    "#use the second GPU, if negative value, CPUs will be used\n",
    "import os\n",
    "os.environ[\"CUDA_VISIBLE_DEVICES\"]=\"1\"\n",
    "\n",
    "\n",
    "def Inception(inputs, units = 8, strides = 1):\n",
    "    \"\"\"\n",
    "    naive google inception block\n",
    "    \"\"\"\n",
    "    x1 = Conv2D(units, 5, padding='same', activation = 'relu', strides = strides)(inputs)\n",
    "    x2 = Conv2D(units, 3, padding='same', activation = 'relu', strides = strides)(inputs)\n",
    "    x3 = Conv2D(units, 1, padding='same', activation = 'relu', strides = strides)(inputs)\n",
    "    outputs = Concatenate()([x1, x2, x3])    \n",
    "    return outputs\n",
    "\n",
    "    \n",
    "def SinglePathClassificationModel(molmap_shape,  n_outputs = 1, strides = 1):\n",
    "    \"\"\"molmap_shape: w, h, c\"\"\"\n",
    "    \n",
    "    assert len(molmap_shape) == 3\n",
    "    inputs = Input(molmap_shape)\n",
    "    \n",
    "    conv1 = Conv2D(48, 13, padding = 'same', activation='relu', strides = 1)(inputs)\n",
    "    \n",
    "    conv1 = MaxPool2D(pool_size = 3, strides = 2, padding = 'same')(conv1) #p1\n",
    "    \n",
    "    incept1 = Inception(conv1, strides = 1, units = 32)\n",
    "    \n",
    "    incept1 = MaxPool2D(pool_size = 3, strides = 2, padding = 'same')(incept1) #p2\n",
    "    \n",
    "    incept2 = Inception(incept1, strides = 1, units = 64)\n",
    "    \n",
    "    #flatten\n",
    "    flat1 = GlobalMaxPool2D()(incept2)   \n",
    "    d1 = Dense(128,activation='tanh')(flat1)\n",
    "    d1 = Dense(64,activation='tanh')(d1)\n",
    "    \n",
    "    outputs = Dense(n_outputs,activation='linear')(d1)\n",
    "    \n",
    "    model = tf.keras.Model(inputs=inputs, outputs=outputs)\n",
    "    \n",
    "    return model"
   ]
  },
  {
   "cell_type": "code",
   "execution_count": 2,
   "metadata": {},
   "outputs": [],
   "source": [
    "seed = 777\n",
    "np.random.seed(seed)\n",
    "tf.set_random_seed(seed)"
   ]
  },
  {
   "cell_type": "code",
   "execution_count": 3,
   "metadata": {},
   "outputs": [],
   "source": [
    "df_train = pd.read_csv('../train.csv', index_col = 0)\n",
    "df_valid = pd.read_csv('../valid.csv',  index_col = 0)\n",
    "df_test = pd.read_csv('../test.csv',  index_col = 0)\n",
    "df_etc = pd.read_csv('../etc.csv')\n",
    "task = 'measured log solubility in mols per litre'\n",
    "df_etc[task] = df_etc.Exp_LogS"
   ]
  },
  {
   "cell_type": "code",
   "execution_count": 4,
   "metadata": {},
   "outputs": [
    {
     "data": {
      "text/plain": [
       "(901, 113, 113, 120)"
      ]
     },
     "execution_count": 4,
     "metadata": {},
     "output_type": "execute_result"
    }
   ],
   "source": [
    "len(df_train), len(df_valid), len(df_test), len(df_etc)"
   ]
  },
  {
   "cell_type": "code",
   "execution_count": 5,
   "metadata": {},
   "outputs": [
    {
     "name": "stderr",
     "output_type": "stream",
     "text": [
      "/home/shenwanxiang/anaconda3/envs/deepchem/lib/python3.6/site-packages/pandas/core/frame.py:7123: FutureWarning: Sorting because non-concatenation axis is not aligned. A future version\n",
      "of pandas will change to not sort by default.\n",
      "\n",
      "To accept the future behavior, pass 'sort=False'.\n",
      "\n",
      "To retain the current behavior and silence the warning, pass 'sort=True'.\n",
      "\n",
      "  sort=sort,\n"
     ]
    },
    {
     "data": {
      "text/plain": [
       "(901, 113, 113, 120)"
      ]
     },
     "execution_count": 5,
     "metadata": {},
     "output_type": "execute_result"
    }
   ],
   "source": [
    "df = df_train.append(df_valid).append(df_test).append(df_etc)\n",
    "df = df.reset_index(drop=True)\n",
    "\n",
    "train_idx = df.index[:len(df_train)]\n",
    "valid_idx = df.index[len(df_train): len(df_train)+len(df_valid)]\n",
    "test_idx = df.index[len(df_train)+len(df_valid): len(df_train)+len(df_valid) + len(df_test)]\n",
    "etc_idx = df.index[-len(df_etc):]\n",
    "len(train_idx), len(valid_idx), len(test_idx), len(etc_idx)"
   ]
  },
  {
   "cell_type": "code",
   "execution_count": 6,
   "metadata": {},
   "outputs": [],
   "source": [
    "# calculate feature\n",
    "X1_name =  './X_descriptor.data'\n",
    "X2_name =  './X_fingerprint.data'\n",
    "\n",
    "if os.path.exists(X1_name):\n",
    "    X1 = load(X1_name)\n",
    "else:\n",
    "    mp1 = loadmap('../../descriptor_grid_split.mp')\n",
    "    X1 = mp1.batch_transform(df.smiles, n_jobs = 8)\n",
    "    dump(X1, X1_name)\n",
    "    \n",
    "if os.path.exists(X2_name):\n",
    "    X2 = load(X2_name)\n",
    "else:\n",
    "    mp2 = loadmap('../../fingerprint_grid_split.mp')\n",
    "    X2 = mp2.batch_transform(df.smiles, n_jobs = 8)\n",
    "    dump(X2, X2_name)"
   ]
  },
  {
   "cell_type": "code",
   "execution_count": 7,
   "metadata": {},
   "outputs": [],
   "source": [
    "Y = df[[task]].values\n",
    "\n",
    "trainX = X1[train_idx]\n",
    "trainY = Y[train_idx]\n",
    "\n",
    "validX = X1[valid_idx]\n",
    "validY = Y[valid_idx]\n",
    "\n",
    "\n",
    "testX = X1[test_idx]\n",
    "testY = Y[test_idx]\n",
    "\n",
    "etcX = X1[etc_idx]\n",
    "etcY = Y[etc_idx]\n"
   ]
  },
  {
   "cell_type": "code",
   "execution_count": 8,
   "metadata": {},
   "outputs": [
    {
     "name": "stdout",
     "output_type": "stream",
     "text": [
      "WARNING:tensorflow:From /home/shenwanxiang/anaconda3/envs/deepchem/lib/python3.6/site-packages/tensorflow/python/ops/init_ops.py:1251: calling VarianceScaling.__init__ (from tensorflow.python.ops.init_ops) with dtype is deprecated and will be removed in a future version.\n",
      "Instructions for updating:\n",
      "Call initializer instance with the dtype argument instead of passing it to the constructor\n"
     ]
    }
   ],
   "source": [
    "from cbks import RegressionPerformance, EarlyStoppingAtMinLoss\n",
    "molmap1_size = X1.shape[1:]\n",
    "model = SinglePathClassificationModel(molmap1_size, n_outputs = Y.shape[1])"
   ]
  },
  {
   "cell_type": "code",
   "execution_count": 9,
   "metadata": {},
   "outputs": [],
   "source": [
    "earlystop = EarlyStoppingAtMinLoss(patience=30, criteria = 'val_loss')\n",
    "performace = RegressionPerformance((trainX, trainY), (validX, validY))\n",
    "lr = tf.keras.optimizers.Adam(lr=0.0002, beta_1=0.9, beta_2=0.999, epsilon=1e-08, decay=0.0) #\n",
    "model.compile(optimizer = lr, loss = 'mse')"
   ]
  },
  {
   "cell_type": "code",
   "execution_count": 10,
   "metadata": {},
   "outputs": [
    {
     "name": "stdout",
     "output_type": "stream",
     "text": [
      "epoch: 0001, loss: 6.9838 - val_loss: 4.3066; rmse: 2.2026 - rmse_val: 2.0752;  r2: -0.0765 - r2_val: -0.0344                                                                                                    \n",
      "epoch: 0002, loss: 5.1664 - val_loss: 4.1401; rmse: 2.1461 - rmse_val: 2.0347;  r2: -0.0220 - r2_val: 0.0056                                                                                                    \n",
      "epoch: 0003, loss: 4.4305 - val_loss: 4.3197; rmse: 2.1120 - rmse_val: 2.0784;  r2: 0.0102 - r2_val: -0.0375                                                                                                    \n",
      "epoch: 0004, loss: 4.4346 - val_loss: 4.0411; rmse: 2.0610 - rmse_val: 2.0102;  r2: 0.0574 - r2_val: 0.0294                                                                                                    \n",
      "epoch: 0005, loss: 4.1900 - val_loss: 3.8425; rmse: 2.0322 - rmse_val: 1.9602;  r2: 0.0836 - r2_val: 0.0771                                                                                                    \n",
      "epoch: 0006, loss: 4.0649 - val_loss: 3.7325; rmse: 1.9878 - rmse_val: 1.9320;  r2: 0.1232 - r2_val: 0.1035                                                                                                    \n",
      "epoch: 0007, loss: 3.8866 - val_loss: 3.5197; rmse: 1.9292 - rmse_val: 1.8761;  r2: 0.1742 - r2_val: 0.1546                                                                                                    \n",
      "epoch: 0008, loss: 3.6428 - val_loss: 3.2775; rmse: 1.8522 - rmse_val: 1.8104;  r2: 0.2387 - r2_val: 0.2128                                                                                                    \n",
      "epoch: 0009, loss: 3.3347 - val_loss: 2.9921; rmse: 1.7608 - rmse_val: 1.7298;  r2: 0.3120 - r2_val: 0.2813                                                                                                    \n",
      "epoch: 0010, loss: 3.0213 - val_loss: 2.7169; rmse: 1.6710 - rmse_val: 1.6483;  r2: 0.3804 - r2_val: 0.3475                                                                                                    \n",
      "epoch: 0011, loss: 2.7007 - val_loss: 2.4764; rmse: 1.5935 - rmse_val: 1.5737;  r2: 0.4365 - r2_val: 0.4052                                                                                                    \n",
      "epoch: 0012, loss: 2.4034 - val_loss: 2.4263; rmse: 1.5833 - rmse_val: 1.5577;  r2: 0.4438 - r2_val: 0.4172                                                                                                    \n",
      "epoch: 0013, loss: 2.2934 - val_loss: 2.0275; rmse: 1.4341 - rmse_val: 1.4239;  r2: 0.5436 - r2_val: 0.5130                                                                                                    \n",
      "epoch: 0014, loss: 1.9435 - val_loss: 1.7653; rmse: 1.3422 - rmse_val: 1.3286;  r2: 0.6003 - r2_val: 0.5760                                                                                                    \n",
      "epoch: 0015, loss: 1.7426 - val_loss: 1.8365; rmse: 1.3921 - rmse_val: 1.3552;  r2: 0.5700 - r2_val: 0.5589                                                                                                    \n",
      "epoch: 0016, loss: 1.9861 - val_loss: 1.4669; rmse: 1.2218 - rmse_val: 1.2112;  r2: 0.6688 - r2_val: 0.6477                                                                                                    \n",
      "epoch: 0017, loss: 1.6556 - val_loss: 1.4450; rmse: 1.2041 - rmse_val: 1.2021;  r2: 0.6783 - r2_val: 0.6529                                                                                                    \n",
      "epoch: 0018, loss: 1.4234 - val_loss: 1.5371; rmse: 1.2227 - rmse_val: 1.2398;  r2: 0.6683 - r2_val: 0.6308                                                                                                    \n",
      "epoch: 0019, loss: 1.3878 - val_loss: 1.2479; rmse: 1.1112 - rmse_val: 1.1171;  r2: 0.7260 - r2_val: 0.7003                                                                                                    \n",
      "epoch: 0020, loss: 1.2052 - val_loss: 1.2996; rmse: 1.1526 - rmse_val: 1.1400;  r2: 0.7052 - r2_val: 0.6879                                                                                                    \n",
      "epoch: 0021, loss: 1.2348 - val_loss: 1.1284; rmse: 1.0584 - rmse_val: 1.0622;  r2: 0.7514 - r2_val: 0.7290                                                                                                    \n",
      "epoch: 0022, loss: 1.0745 - val_loss: 1.1838; rmse: 1.0574 - rmse_val: 1.0880;  r2: 0.7519 - r2_val: 0.7157                                                                                                    \n",
      "epoch: 0023, loss: 1.0598 - val_loss: 1.1114; rmse: 1.0186 - rmse_val: 1.0542;  r2: 0.7698 - r2_val: 0.7331                                                                                                    \n",
      "epoch: 0024, loss: 0.9831 - val_loss: 0.9712; rmse: 0.9635 - rmse_val: 0.9855;  r2: 0.7940 - r2_val: 0.7667                                                                                                    \n",
      "epoch: 0025, loss: 0.9236 - val_loss: 1.2532; rmse: 1.0591 - rmse_val: 1.1195;  r2: 0.7511 - r2_val: 0.6990                                                                                                    \n",
      "epoch: 0026, loss: 1.0035 - val_loss: 1.0095; rmse: 0.9633 - rmse_val: 1.0048;  r2: 0.7941 - r2_val: 0.7575                                                                                                    \n",
      "epoch: 0027, loss: 0.8762 - val_loss: 0.9477; rmse: 0.9565 - rmse_val: 0.9735;  r2: 0.7970 - r2_val: 0.7724                                                                                                    \n",
      "epoch: 0028, loss: 0.8622 - val_loss: 0.9454; rmse: 0.9468 - rmse_val: 0.9723;  r2: 0.8011 - r2_val: 0.7729                                                                                                    \n",
      "epoch: 0029, loss: 0.8322 - val_loss: 0.8897; rmse: 0.9141 - rmse_val: 0.9433;  r2: 0.8146 - r2_val: 0.7863                                                                                                    \n",
      "epoch: 0030, loss: 0.7813 - val_loss: 0.8192; rmse: 0.8576 - rmse_val: 0.9051;  r2: 0.8368 - r2_val: 0.8032                                                                                                    \n",
      "epoch: 0031, loss: 0.7086 - val_loss: 0.7910; rmse: 0.8174 - rmse_val: 0.8894;  r2: 0.8517 - r2_val: 0.8100                                                                                                    \n",
      "epoch: 0032, loss: 0.6836 - val_loss: 0.7801; rmse: 0.8019 - rmse_val: 0.8832;  r2: 0.8573 - r2_val: 0.8126                                                                                                    \n",
      "epoch: 0033, loss: 0.6341 - val_loss: 1.1889; rmse: 1.0901 - rmse_val: 1.0904;  r2: 0.7363 - r2_val: 0.7144                                                                                                    \n",
      "epoch: 0034, loss: 0.9075 - val_loss: 0.8000; rmse: 0.7979 - rmse_val: 0.8945;  r2: 0.8587 - r2_val: 0.8078                                                                                                    \n",
      "epoch: 0035, loss: 0.8581 - val_loss: 1.6260; rmse: 1.1724 - rmse_val: 1.2752;  r2: 0.6950 - r2_val: 0.6094                                                                                                    \n",
      "epoch: 0036, loss: 1.1337 - val_loss: 0.9816; rmse: 0.8968 - rmse_val: 0.9908;  r2: 0.8216 - r2_val: 0.7642                                                                                                    \n",
      "epoch: 0037, loss: 0.9178 - val_loss: 0.8207; rmse: 0.8132 - rmse_val: 0.9059;  r2: 0.8533 - r2_val: 0.8029                                                                                                    \n",
      "epoch: 0038, loss: 0.7749 - val_loss: 0.7101; rmse: 0.7817 - rmse_val: 0.8426;  r2: 0.8644 - r2_val: 0.8295                                                                                                    \n",
      "epoch: 0039, loss: 0.7032 - val_loss: 0.7578; rmse: 0.8304 - rmse_val: 0.8705;  r2: 0.8470 - r2_val: 0.8180                                                                                                    \n",
      "epoch: 0040, loss: 0.6119 - val_loss: 0.6792; rmse: 0.7537 - rmse_val: 0.8241;  r2: 0.8740 - r2_val: 0.8369                                                                                                    \n",
      "epoch: 0041, loss: 0.5693 - val_loss: 0.6956; rmse: 0.7803 - rmse_val: 0.8340;  r2: 0.8649 - r2_val: 0.8329                                                                                                    \n",
      "epoch: 0042, loss: 0.5670 - val_loss: 0.6392; rmse: 0.7220 - rmse_val: 0.7995;  r2: 0.8843 - r2_val: 0.8465                                                                                                    \n",
      "epoch: 0043, loss: 0.5259 - val_loss: 0.6822; rmse: 0.7201 - rmse_val: 0.8260;  r2: 0.8849 - r2_val: 0.8361                                                                                                    \n",
      "epoch: 0044, loss: 0.5243 - val_loss: 0.8455; rmse: 0.7935 - rmse_val: 0.9195;  r2: 0.8603 - r2_val: 0.7969                                                                                                    \n",
      "epoch: 0045, loss: 0.5562 - val_loss: 0.9392; rmse: 0.8318 - rmse_val: 0.9691;  r2: 0.8465 - r2_val: 0.7744                                                                                                    \n",
      "epoch: 0046, loss: 0.5676 - val_loss: 0.8116; rmse: 0.7844 - rmse_val: 0.9009;  r2: 0.8635 - r2_val: 0.8051                                                                                                    \n",
      "epoch: 0047, loss: 0.5342 - val_loss: 0.7060; rmse: 0.7174 - rmse_val: 0.8402;  r2: 0.8858 - r2_val: 0.8304                                                                                                    \n",
      "epoch: 0048, loss: 0.5405 - val_loss: 0.5819; rmse: 0.6907 - rmse_val: 0.7628;  r2: 0.8941 - r2_val: 0.8602                                                                                                    \n",
      "epoch: 0049, loss: 0.4768 - val_loss: 0.5787; rmse: 0.6786 - rmse_val: 0.7607;  r2: 0.8978 - r2_val: 0.8610                                                                                                    \n",
      "epoch: 0050, loss: 0.4498 - val_loss: 0.5617; rmse: 0.6523 - rmse_val: 0.7494;  r2: 0.9056 - r2_val: 0.8651                                                                                                    \n",
      "epoch: 0051, loss: 0.4742 - val_loss: 0.6365; rmse: 0.6773 - rmse_val: 0.7978;  r2: 0.8982 - r2_val: 0.8471                                                                                                    \n",
      "epoch: 0052, loss: 0.4537 - val_loss: 0.5485; rmse: 0.6392 - rmse_val: 0.7406;  r2: 0.9093 - r2_val: 0.8683                                                                                                    \n",
      "epoch: 0053, loss: 0.4290 - val_loss: 0.7696; rmse: 0.8337 - rmse_val: 0.8772;  r2: 0.8458 - r2_val: 0.8152                                                                                                    \n",
      "epoch: 0054, loss: 0.5714 - val_loss: 0.6578; rmse: 0.7630 - rmse_val: 0.8111;  r2: 0.8708 - r2_val: 0.8420                                                                                                    \n",
      "epoch: 0055, loss: 0.5186 - val_loss: 0.7870; rmse: 0.8548 - rmse_val: 0.8871;  r2: 0.8379 - r2_val: 0.8110                                                                                                    \n",
      "epoch: 0056, loss: 0.5481 - val_loss: 1.0027; rmse: 0.9708 - rmse_val: 1.0014;  r2: 0.7909 - r2_val: 0.7592                                                                                                    \n",
      "epoch: 0057, loss: 0.6798 - val_loss: 0.7437; rmse: 0.8233 - rmse_val: 0.8624;  r2: 0.8496 - r2_val: 0.8214                                                                                                    \n",
      "epoch: 0058, loss: 0.4953 - val_loss: 0.5568; rmse: 0.7038 - rmse_val: 0.7462;  r2: 0.8901 - r2_val: 0.8663                                                                                                    \n",
      "epoch: 0059, loss: 0.4455 - val_loss: 0.5168; rmse: 0.6402 - rmse_val: 0.7189;  r2: 0.9091 - r2_val: 0.8759                                                                                                    \n",
      "epoch: 0060, loss: 0.4049 - val_loss: 0.5174; rmse: 0.6118 - rmse_val: 0.7193;  r2: 0.9170 - r2_val: 0.8757                                                                                                    \n",
      "epoch: 0061, loss: 0.4087 - val_loss: 0.4802; rmse: 0.6113 - rmse_val: 0.6929;  r2: 0.9171 - r2_val: 0.8847                                                                                                    \n",
      "epoch: 0062, loss: 0.3937 - val_loss: 0.5606; rmse: 0.6307 - rmse_val: 0.7487;  r2: 0.9117 - r2_val: 0.8653                                                                                                    \n",
      "epoch: 0063, loss: 0.4280 - val_loss: 0.5466; rmse: 0.6214 - rmse_val: 0.7393;  r2: 0.9143 - r2_val: 0.8687                                                                                                    \n",
      "epoch: 0064, loss: 0.3801 - val_loss: 0.5173; rmse: 0.6030 - rmse_val: 0.7192;  r2: 0.9193 - r2_val: 0.8758                                                                                                    \n",
      "epoch: 0065, loss: 0.3735 - val_loss: 0.4751; rmse: 0.5877 - rmse_val: 0.6893;  r2: 0.9234 - r2_val: 0.8859                                                                                                    \n",
      "epoch: 0066, loss: 0.3450 - val_loss: 0.4677; rmse: 0.5855 - rmse_val: 0.6839;  r2: 0.9239 - r2_val: 0.8877                                                                                                    \n",
      "epoch: 0067, loss: 0.3443 - val_loss: 0.4560; rmse: 0.5767 - rmse_val: 0.6753;  r2: 0.9262 - r2_val: 0.8905                                                                                                    \n",
      "epoch: 0068, loss: 0.3381 - val_loss: 0.7071; rmse: 0.7959 - rmse_val: 0.8409;  r2: 0.8595 - r2_val: 0.8302                                                                                                    \n",
      "epoch: 0069, loss: 0.5213 - val_loss: 0.5073; rmse: 0.6231 - rmse_val: 0.7122;  r2: 0.9138 - r2_val: 0.8782                                                                                                    \n",
      "epoch: 0070, loss: 0.3836 - val_loss: 0.6111; rmse: 0.7323 - rmse_val: 0.7817;  r2: 0.8810 - r2_val: 0.8532                                                                                                    \n",
      "epoch: 0071, loss: 0.4480 - val_loss: 0.4841; rmse: 0.6054 - rmse_val: 0.6958;  r2: 0.9187 - r2_val: 0.8837                                                                                                    \n",
      "epoch: 0072, loss: 0.4384 - val_loss: 0.5016; rmse: 0.6043 - rmse_val: 0.7082;  r2: 0.9190 - r2_val: 0.8795                                                                                                    \n",
      "epoch: 0073, loss: 0.3439 - val_loss: 0.4748; rmse: 0.6002 - rmse_val: 0.6890;  r2: 0.9201 - r2_val: 0.8860                                                                                                    \n",
      "epoch: 0074, loss: 0.3335 - val_loss: 0.7093; rmse: 0.7118 - rmse_val: 0.8422;  r2: 0.8876 - r2_val: 0.8296                                                                                                    \n",
      "epoch: 0075, loss: 0.4300 - val_loss: 0.5852; rmse: 0.6319 - rmse_val: 0.7650;  r2: 0.9114 - r2_val: 0.8595                                                                                                    \n",
      "epoch: 0076, loss: 0.3582 - val_loss: 0.4408; rmse: 0.5703 - rmse_val: 0.6639;  r2: 0.9278 - r2_val: 0.8941                                                                                                    \n",
      "epoch: 0077, loss: 0.3416 - val_loss: 0.4404; rmse: 0.5548 - rmse_val: 0.6636;  r2: 0.9317 - r2_val: 0.8942                                                                                                    \n",
      "epoch: 0078, loss: 0.3529 - val_loss: 0.5735; rmse: 0.6175 - rmse_val: 0.7573;  r2: 0.9154 - r2_val: 0.8623                                                                                                    \n",
      "epoch: 0079, loss: 0.3421 - val_loss: 0.5763; rmse: 0.6123 - rmse_val: 0.7591;  r2: 0.9168 - r2_val: 0.8616                                                                                                    \n",
      "epoch: 0080, loss: 0.3295 - val_loss: 0.4356; rmse: 0.5625 - rmse_val: 0.6599;  r2: 0.9298 - r2_val: 0.8954                                                                                                    \n",
      "epoch: 0081, loss: 0.3433 - val_loss: 0.4268; rmse: 0.5468 - rmse_val: 0.6533;  r2: 0.9337 - r2_val: 0.8975                                                                                                    \n",
      "epoch: 0082, loss: 0.3144 - val_loss: 0.4711; rmse: 0.5635 - rmse_val: 0.6864;  r2: 0.9296 - r2_val: 0.8869                                                                                                    \n",
      "epoch: 0083, loss: 0.3109 - val_loss: 0.4533; rmse: 0.5535 - rmse_val: 0.6733;  r2: 0.9320 - r2_val: 0.8911                                                                                                    \n",
      "epoch: 0084, loss: 0.2963 - val_loss: 0.5049; rmse: 0.6532 - rmse_val: 0.7106;  r2: 0.9053 - r2_val: 0.8787                                                                                                    \n",
      "epoch: 0085, loss: 0.3957 - val_loss: 0.4053; rmse: 0.5355 - rmse_val: 0.6366;  r2: 0.9364 - r2_val: 0.9027                                                                                                    \n",
      "epoch: 0086, loss: 0.3251 - val_loss: 0.6199; rmse: 0.6565 - rmse_val: 0.7873;  r2: 0.9044 - r2_val: 0.8511                                                                                                    \n",
      "epoch: 0087, loss: 0.3705 - val_loss: 0.4120; rmse: 0.5353 - rmse_val: 0.6419;  r2: 0.9364 - r2_val: 0.9011                                                                                                    \n",
      "epoch: 0088, loss: 0.3058 - val_loss: 0.6696; rmse: 0.7580 - rmse_val: 0.8183;  r2: 0.8725 - r2_val: 0.8392                                                                                                    \n",
      "epoch: 0089, loss: 0.4736 - val_loss: 0.4245; rmse: 0.5231 - rmse_val: 0.6516;  r2: 0.9393 - r2_val: 0.8980                                                                                                    \n",
      "epoch: 0090, loss: 0.3116 - val_loss: 0.5327; rmse: 0.5877 - rmse_val: 0.7299;  r2: 0.9234 - r2_val: 0.8721                                                                                                    \n",
      "epoch: 0091, loss: 0.3397 - val_loss: 0.4119; rmse: 0.5122 - rmse_val: 0.6418;  r2: 0.9418 - r2_val: 0.9011                                                                                                    \n",
      "epoch: 0092, loss: 0.3009 - val_loss: 0.3945; rmse: 0.5397 - rmse_val: 0.6281;  r2: 0.9354 - r2_val: 0.9052                                                                                                    \n",
      "epoch: 0093, loss: 0.2915 - val_loss: 0.3830; rmse: 0.5138 - rmse_val: 0.6189;  r2: 0.9414 - r2_val: 0.9080                                                                                                    \n",
      "epoch: 0094, loss: 0.2855 - val_loss: 0.3975; rmse: 0.5091 - rmse_val: 0.6305;  r2: 0.9425 - r2_val: 0.9045                                                                                                    \n",
      "epoch: 0095, loss: 0.2729 - val_loss: 0.4541; rmse: 0.6222 - rmse_val: 0.6739;  r2: 0.9141 - r2_val: 0.8909                                                                                                    \n",
      "epoch: 0096, loss: 0.3272 - val_loss: 0.4426; rmse: 0.5882 - rmse_val: 0.6653;  r2: 0.9232 - r2_val: 0.8937                                                                                                    \n",
      "epoch: 0097, loss: 0.3303 - val_loss: 0.3870; rmse: 0.4937 - rmse_val: 0.6221;  r2: 0.9459 - r2_val: 0.9070                                                                                                    \n",
      "epoch: 0098, loss: 0.2570 - val_loss: 0.5125; rmse: 0.5700 - rmse_val: 0.7158;  r2: 0.9279 - r2_val: 0.8769                                                                                                    \n",
      "epoch: 0099, loss: 0.3002 - val_loss: 0.9876; rmse: 0.8470 - rmse_val: 0.9938;  r2: 0.8408 - r2_val: 0.7628                                                                                                    \n",
      "epoch: 0100, loss: 0.4461 - val_loss: 0.7158; rmse: 0.7096 - rmse_val: 0.8460;  r2: 0.8883 - r2_val: 0.8281                                                                                                    \n",
      "epoch: 0101, loss: 0.3824 - val_loss: 0.5858; rmse: 0.6295 - rmse_val: 0.7654;  r2: 0.9121 - r2_val: 0.8593                                                                                                    \n",
      "epoch: 0102, loss: 0.3673 - val_loss: 0.3920; rmse: 0.5188 - rmse_val: 0.6261;  r2: 0.9403 - r2_val: 0.9059                                                                                                    \n",
      "epoch: 0103, loss: 0.2715 - val_loss: 0.4148; rmse: 0.5027 - rmse_val: 0.6441;  r2: 0.9439 - r2_val: 0.9004                                                                                                    \n",
      "epoch: 0104, loss: 0.2546 - val_loss: 0.3751; rmse: 0.4920 - rmse_val: 0.6125;  r2: 0.9463 - r2_val: 0.9099                                                                                                    \n",
      "epoch: 0105, loss: 0.2458 - val_loss: 0.3672; rmse: 0.4855 - rmse_val: 0.6060;  r2: 0.9477 - r2_val: 0.9118                                                                                                    \n",
      "epoch: 0106, loss: 0.2367 - val_loss: 0.3882; rmse: 0.5423 - rmse_val: 0.6231;  r2: 0.9347 - r2_val: 0.9068                                                                                                    \n",
      "epoch: 0107, loss: 0.2684 - val_loss: 0.4042; rmse: 0.5009 - rmse_val: 0.6357;  r2: 0.9443 - r2_val: 0.9029                                                                                                    \n",
      "epoch: 0108, loss: 0.2565 - val_loss: 0.3525; rmse: 0.5001 - rmse_val: 0.5937;  r2: 0.9445 - r2_val: 0.9153                                                                                                    \n",
      "epoch: 0109, loss: 0.2868 - val_loss: 0.5649; rmse: 0.6855 - rmse_val: 0.7516;  r2: 0.8957 - r2_val: 0.8643                                                                                                    \n",
      "epoch: 0110, loss: 0.3409 - val_loss: 0.4002; rmse: 0.5059 - rmse_val: 0.6326;  r2: 0.9432 - r2_val: 0.9039                                                                                                    \n",
      "epoch: 0111, loss: 0.2734 - val_loss: 0.4656; rmse: 0.5473 - rmse_val: 0.6824;  r2: 0.9335 - r2_val: 0.8882                                                                                                    \n",
      "epoch: 0112, loss: 0.2576 - val_loss: 0.5374; rmse: 0.5898 - rmse_val: 0.7331;  r2: 0.9228 - r2_val: 0.8709                                                                                                    \n",
      "epoch: 0113, loss: 0.2845 - val_loss: 0.4149; rmse: 0.5291 - rmse_val: 0.6441;  r2: 0.9379 - r2_val: 0.9003                                                                                                    \n",
      "epoch: 0114, loss: 0.3383 - val_loss: 0.3731; rmse: 0.4779 - rmse_val: 0.6108;  r2: 0.9493 - r2_val: 0.9104                                                                                                    \n",
      "epoch: 0115, loss: 0.3270 - val_loss: 0.6709; rmse: 0.6773 - rmse_val: 0.8191;  r2: 0.8982 - r2_val: 0.8389                                                                                                    \n",
      "epoch: 0116, loss: 0.3425 - val_loss: 0.4285; rmse: 0.5529 - rmse_val: 0.6546;  r2: 0.9322 - r2_val: 0.8971                                                                                                    \n",
      "epoch: 0117, loss: 0.2969 - val_loss: 0.3799; rmse: 0.5030 - rmse_val: 0.6163;  r2: 0.9439 - r2_val: 0.9088                                                                                                    \n",
      "epoch: 0118, loss: 0.2563 - val_loss: 0.5724; rmse: 0.6127 - rmse_val: 0.7565;  r2: 0.9167 - r2_val: 0.8625                                                                                                    \n",
      "epoch: 0119, loss: 0.3168 - val_loss: 0.4716; rmse: 0.5508 - rmse_val: 0.6867;  r2: 0.9327 - r2_val: 0.8867                                                                                                    \n",
      "epoch: 0120, loss: 0.2764 - val_loss: 0.3859; rmse: 0.4869 - rmse_val: 0.6213;  r2: 0.9474 - r2_val: 0.9073                                                                                                    \n",
      "epoch: 0121, loss: 0.2457 - val_loss: 0.5423; rmse: 0.5820 - rmse_val: 0.7365;  r2: 0.9248 - r2_val: 0.8697                                                                                                    \n",
      "epoch: 0122, loss: 0.3907 - val_loss: 0.3745; rmse: 0.4772 - rmse_val: 0.6120;  r2: 0.9495 - r2_val: 0.9100                                                                                                    \n",
      "epoch: 0123, loss: 0.3052 - val_loss: 0.5255; rmse: 0.6062 - rmse_val: 0.7249;  r2: 0.9185 - r2_val: 0.8738                                                                                                    \n",
      "epoch: 0124, loss: 0.3354 - val_loss: 0.3981; rmse: 0.5303 - rmse_val: 0.6310;  r2: 0.9376 - r2_val: 0.9044                                                                                                    \n",
      "epoch: 0125, loss: 0.2996 - val_loss: 0.4067; rmse: 0.4897 - rmse_val: 0.6378;  r2: 0.9468 - r2_val: 0.9023                                                                                                    \n",
      "epoch: 0126, loss: 0.2392 - val_loss: 0.3663; rmse: 0.4686 - rmse_val: 0.6052;  r2: 0.9513 - r2_val: 0.9120                                                                                                    \n",
      "epoch: 0127, loss: 0.2267 - val_loss: 0.3881; rmse: 0.4882 - rmse_val: 0.6229;  r2: 0.9471 - r2_val: 0.9068                                                                                                    \n",
      "epoch: 0128, loss: 0.2394 - val_loss: 0.3805; rmse: 0.4643 - rmse_val: 0.6168;  r2: 0.9522 - r2_val: 0.9086                                                                                                    \n",
      "epoch: 0129, loss: 0.2236 - val_loss: 0.3744; rmse: 0.4611 - rmse_val: 0.6119;  r2: 0.9528 - r2_val: 0.9101                                                                                                    \n",
      "epoch: 0130, loss: 0.2108 - val_loss: 0.3524; rmse: 0.4535 - rmse_val: 0.5936;  r2: 0.9544 - r2_val: 0.9154                                                                                                    \n",
      "epoch: 0131, loss: 0.2065 - val_loss: 0.4515; rmse: 0.5661 - rmse_val: 0.6720;  r2: 0.9289 - r2_val: 0.8915                                                                                                    \n",
      "epoch: 0132, loss: 0.2547 - val_loss: 0.5402; rmse: 0.5964 - rmse_val: 0.7350;  r2: 0.9211 - r2_val: 0.8702                                                                                                    \n",
      "epoch: 0133, loss: 0.3546 - val_loss: 0.3708; rmse: 0.4757 - rmse_val: 0.6090;  r2: 0.9498 - r2_val: 0.9109                                                                                                    \n",
      "epoch: 0134, loss: 0.3017 - val_loss: 0.4012; rmse: 0.4803 - rmse_val: 0.6334;  r2: 0.9488 - r2_val: 0.9036                                                                                                    \n",
      "epoch: 0135, loss: 0.2515 - val_loss: 0.4011; rmse: 0.5137 - rmse_val: 0.6333;  r2: 0.9415 - r2_val: 0.9037                                                                                                    \n",
      "epoch: 0136, loss: 0.2502 - val_loss: 0.4450; rmse: 0.5557 - rmse_val: 0.6670;  r2: 0.9315 - r2_val: 0.8931                                                                                                    \n",
      "epoch: 0137, loss: 0.2598 - val_loss: 0.3735; rmse: 0.4535 - rmse_val: 0.6112;  r2: 0.9544 - r2_val: 0.9103                                                                                                    \n",
      "epoch: 0138, loss: 0.2266 - val_loss: 0.3933; rmse: 0.4660 - rmse_val: 0.6272;  r2: 0.9518 - r2_val: 0.9055                                                                                                    \n",
      "epoch: 0139, loss: 0.2165 - val_loss: 0.4400; rmse: 0.5389 - rmse_val: 0.6633;  r2: 0.9356 - r2_val: 0.8943                                                                                                    \n",
      "epoch: 0140, loss: 0.2813 - val_loss: 0.4898; rmse: 0.5440 - rmse_val: 0.6999;  r2: 0.9343 - r2_val: 0.8824                                                                                                    \n",
      "epoch: 0141, loss: 0.3662 - val_loss: 0.4368; rmse: 0.5074 - rmse_val: 0.6609;  r2: 0.9429 - r2_val: 0.8951                                                                                                    \n",
      "epoch: 0142, loss: 0.2895 - val_loss: 0.4231; rmse: 0.5259 - rmse_val: 0.6504;  r2: 0.9386 - r2_val: 0.8984                                                                                                    \n",
      "epoch: 0143, loss: 0.2482 - val_loss: 0.3778; rmse: 0.5042 - rmse_val: 0.6147;  r2: 0.9436 - r2_val: 0.9092                                                                                                    \n",
      "epoch: 0144, loss: 0.2145 - val_loss: 0.3756; rmse: 0.4569 - rmse_val: 0.6129;  r2: 0.9537 - r2_val: 0.9098                                                                                                    \n",
      "epoch: 0145, loss: 0.2069 - val_loss: 0.3886; rmse: 0.5125 - rmse_val: 0.6234;  r2: 0.9417 - r2_val: 0.9067                                                                                                    \n",
      "epoch: 0146, loss: 0.2335 - val_loss: 0.3479; rmse: 0.4368 - rmse_val: 0.5899;  r2: 0.9577 - r2_val: 0.9164                                                                                                    \n",
      "epoch: 0147, loss: 0.1953 - val_loss: 0.4272; rmse: 0.4964 - rmse_val: 0.6536;  r2: 0.9453 - r2_val: 0.8974                                                                                                    \n",
      "epoch: 0148, loss: 0.2115 - val_loss: 0.3890; rmse: 0.4603 - rmse_val: 0.6237;  r2: 0.9530 - r2_val: 0.9066                                                                                                    \n",
      "epoch: 0149, loss: 0.2179 - val_loss: 0.3479; rmse: 0.4365 - rmse_val: 0.5898;  r2: 0.9577 - r2_val: 0.9164                                                                                                    \n",
      "epoch: 0150, loss: 0.2312 - val_loss: 0.3994; rmse: 0.5161 - rmse_val: 0.6320;  r2: 0.9409 - r2_val: 0.9041                                                                                                    \n",
      "epoch: 0151, loss: 0.2309 - val_loss: 0.3431; rmse: 0.4349 - rmse_val: 0.5857;  r2: 0.9580 - r2_val: 0.9176                                                                                                    \n",
      "epoch: 0152, loss: 0.1932 - val_loss: 0.3906; rmse: 0.4565 - rmse_val: 0.6250;  r2: 0.9538 - r2_val: 0.9062                                                                                                    \n",
      "epoch: 0153, loss: 0.2085 - val_loss: 0.3824; rmse: 0.4783 - rmse_val: 0.6184;  r2: 0.9492 - r2_val: 0.9081                                                                                                    \n",
      "epoch: 0154, loss: 0.2301 - val_loss: 0.3654; rmse: 0.4491 - rmse_val: 0.6045;  r2: 0.9552 - r2_val: 0.9122                                                                                                    \n",
      "epoch: 0155, loss: 0.2257 - val_loss: 0.4204; rmse: 0.4867 - rmse_val: 0.6484;  r2: 0.9474 - r2_val: 0.8990                                                                                                    \n",
      "epoch: 0156, loss: 0.2145 - val_loss: 0.3570; rmse: 0.4551 - rmse_val: 0.5975;  r2: 0.9540 - r2_val: 0.9143                                                                                                    \n",
      "epoch: 0157, loss: 0.2234 - val_loss: 0.3153; rmse: 0.4213 - rmse_val: 0.5615;  r2: 0.9606 - r2_val: 0.9243                                                                                                    \n",
      "epoch: 0158, loss: 0.2044 - val_loss: 0.3194; rmse: 0.4236 - rmse_val: 0.5651;  r2: 0.9602 - r2_val: 0.9233                                                                                                    \n",
      "epoch: 0159, loss: 0.2245 - val_loss: 0.3801; rmse: 0.4944 - rmse_val: 0.6165;  r2: 0.9458 - r2_val: 0.9087                                                                                                    \n",
      "epoch: 0160, loss: 0.2041 - val_loss: 0.4785; rmse: 0.5803 - rmse_val: 0.6918;  r2: 0.9253 - r2_val: 0.8851                                                                                                    \n",
      "epoch: 0161, loss: 0.2737 - val_loss: 0.3667; rmse: 0.4449 - rmse_val: 0.6056;  r2: 0.9561 - r2_val: 0.9119                                                                                                    \n",
      "epoch: 0162, loss: 0.2676 - val_loss: 0.7269; rmse: 0.6925 - rmse_val: 0.8526;  r2: 0.8936 - r2_val: 0.8254                                                                                                    \n",
      "epoch: 0163, loss: 0.3024 - val_loss: 0.3735; rmse: 0.4549 - rmse_val: 0.6112;  r2: 0.9541 - r2_val: 0.9103                                                                                                    \n",
      "epoch: 0164, loss: 0.2199 - val_loss: 0.3253; rmse: 0.4481 - rmse_val: 0.5703;  r2: 0.9554 - r2_val: 0.9219                                                                                                    \n",
      "epoch: 0165, loss: 0.1973 - val_loss: 0.3478; rmse: 0.4418 - rmse_val: 0.5898;  r2: 0.9567 - r2_val: 0.9165                                                                                                    \n",
      "epoch: 0166, loss: 0.1861 - val_loss: 0.3382; rmse: 0.4267 - rmse_val: 0.5815;  r2: 0.9596 - r2_val: 0.9188                                                                                                    \n",
      "epoch: 0167, loss: 0.2149 - val_loss: 0.3218; rmse: 0.4136 - rmse_val: 0.5673;  r2: 0.9620 - r2_val: 0.9227                                                                                                    \n",
      "epoch: 0168, loss: 0.1969 - val_loss: 0.4239; rmse: 0.5588 - rmse_val: 0.6510;  r2: 0.9307 - r2_val: 0.8982                                                                                                    \n",
      "epoch: 0169, loss: 0.2392 - val_loss: 0.3387; rmse: 0.4362 - rmse_val: 0.5820;  r2: 0.9578 - r2_val: 0.9186                                                                                                    \n",
      "epoch: 0170, loss: 0.1890 - val_loss: 0.3204; rmse: 0.4026 - rmse_val: 0.5660;  r2: 0.9640 - r2_val: 0.9230                                                                                                    \n",
      "epoch: 0171, loss: 0.1696 - val_loss: 0.3326; rmse: 0.4041 - rmse_val: 0.5767;  r2: 0.9638 - r2_val: 0.9201                                                                                                    \n",
      "epoch: 0172, loss: 0.1586 - val_loss: 0.3391; rmse: 0.4107 - rmse_val: 0.5823;  r2: 0.9626 - r2_val: 0.9186                                                                                                    \n",
      "epoch: 0173, loss: 0.1642 - val_loss: 0.3192; rmse: 0.3986 - rmse_val: 0.5650;  r2: 0.9647 - r2_val: 0.9233                                                                                                    \n",
      "epoch: 0174, loss: 0.1618 - val_loss: 0.3156; rmse: 0.3925 - rmse_val: 0.5618;  r2: 0.9658 - r2_val: 0.9242                                                                                                    \n",
      "epoch: 0175, loss: 0.1601 - val_loss: 0.3241; rmse: 0.4105 - rmse_val: 0.5693;  r2: 0.9626 - r2_val: 0.9222                                                                                                    \n",
      "epoch: 0176, loss: 0.1845 - val_loss: 0.3058; rmse: 0.4017 - rmse_val: 0.5530;  r2: 0.9642 - r2_val: 0.9266                                                                                                    \n",
      "epoch: 0177, loss: 0.1635 - val_loss: 0.3030; rmse: 0.3939 - rmse_val: 0.5504;  r2: 0.9656 - r2_val: 0.9272                                                                                                    \n",
      "epoch: 0178, loss: 0.1772 - val_loss: 0.3036; rmse: 0.4034 - rmse_val: 0.5510;  r2: 0.9639 - r2_val: 0.9271                                                                                                    \n",
      "epoch: 0179, loss: 0.1639 - val_loss: 0.3118; rmse: 0.3854 - rmse_val: 0.5584;  r2: 0.9670 - r2_val: 0.9251                                                                                                    \n",
      "epoch: 0180, loss: 0.1607 - val_loss: 0.4219; rmse: 0.4754 - rmse_val: 0.6495;  r2: 0.9499 - r2_val: 0.8987                                                                                                    \n",
      "epoch: 0181, loss: 0.1992 - val_loss: 0.3228; rmse: 0.3853 - rmse_val: 0.5682;  r2: 0.9671 - r2_val: 0.9225                                                                                                    \n",
      "epoch: 0182, loss: 0.1670 - val_loss: 0.3434; rmse: 0.4021 - rmse_val: 0.5859;  r2: 0.9641 - r2_val: 0.9175                                                                                                    \n",
      "epoch: 0183, loss: 0.1854 - val_loss: 0.3707; rmse: 0.4313 - rmse_val: 0.6089;  r2: 0.9587 - r2_val: 0.9110                                                                                                    \n",
      "epoch: 0184, loss: 0.1784 - val_loss: 0.3315; rmse: 0.4333 - rmse_val: 0.5758;  r2: 0.9583 - r2_val: 0.9204                                                                                                    \n",
      "epoch: 0185, loss: 0.1747 - val_loss: 0.3025; rmse: 0.3848 - rmse_val: 0.5500;  r2: 0.9671 - r2_val: 0.9273                                                                                                    \n",
      "epoch: 0186, loss: 0.1606 - val_loss: 0.3169; rmse: 0.3944 - rmse_val: 0.5630;  r2: 0.9655 - r2_val: 0.9239                                                                                                    \n",
      "epoch: 0187, loss: 0.1514 - val_loss: 0.3080; rmse: 0.3947 - rmse_val: 0.5550;  r2: 0.9654 - r2_val: 0.9260                                                                                                    \n",
      "epoch: 0188, loss: 0.1521 - val_loss: 0.3502; rmse: 0.4105 - rmse_val: 0.5918;  r2: 0.9626 - r2_val: 0.9159                                                                                                    \n",
      "epoch: 0189, loss: 0.2014 - val_loss: 0.3105; rmse: 0.3986 - rmse_val: 0.5572;  r2: 0.9648 - r2_val: 0.9254                                                                                                    \n",
      "epoch: 0190, loss: 0.1933 - val_loss: 0.3045; rmse: 0.3858 - rmse_val: 0.5518;  r2: 0.9670 - r2_val: 0.9269                                                                                                    \n",
      "epoch: 0191, loss: 0.1647 - val_loss: 0.3183; rmse: 0.3893 - rmse_val: 0.5642;  r2: 0.9664 - r2_val: 0.9235                                                                                                    \n",
      "epoch: 0192, loss: 0.1592 - val_loss: 0.3216; rmse: 0.3744 - rmse_val: 0.5672;  r2: 0.9689 - r2_val: 0.9227                                                                                                    \n",
      "epoch: 0193, loss: 0.1585 - val_loss: 0.3049; rmse: 0.3775 - rmse_val: 0.5521;  r2: 0.9684 - r2_val: 0.9268                                                                                                    \n",
      "epoch: 0194, loss: 0.1547 - val_loss: 0.3398; rmse: 0.3997 - rmse_val: 0.5829;  r2: 0.9645 - r2_val: 0.9184                                                                                                    \n",
      "epoch: 0195, loss: 0.1508 - val_loss: 0.3263; rmse: 0.4091 - rmse_val: 0.5712;  r2: 0.9629 - r2_val: 0.9216                                                                                                    \n",
      "epoch: 0196, loss: 0.1436 - val_loss: 0.3672; rmse: 0.4084 - rmse_val: 0.6059;  r2: 0.9630 - r2_val: 0.9118                                                                                                    \n",
      "epoch: 0197, loss: 0.1714 - val_loss: 0.3513; rmse: 0.4445 - rmse_val: 0.5927;  r2: 0.9562 - r2_val: 0.9156                                                                                                    \n",
      "epoch: 0198, loss: 0.2070 - val_loss: 0.4706; rmse: 0.5154 - rmse_val: 0.6860;  r2: 0.9411 - r2_val: 0.8870                                                                                                    \n",
      "epoch: 0199, loss: 0.1987 - val_loss: 0.3177; rmse: 0.4247 - rmse_val: 0.5636;  r2: 0.9600 - r2_val: 0.9237                                                                                                    \n",
      "epoch: 0200, loss: 0.1723 - val_loss: 0.3374; rmse: 0.3985 - rmse_val: 0.5808;  r2: 0.9648 - r2_val: 0.9190                                                                                                    \n",
      "epoch: 0201, loss: 0.1621 - val_loss: 0.3701; rmse: 0.4204 - rmse_val: 0.6083;  r2: 0.9608 - r2_val: 0.9111                                                                                                    \n",
      "epoch: 0202, loss: 0.1650 - val_loss: 0.3086; rmse: 0.3612 - rmse_val: 0.5556;  r2: 0.9710 - r2_val: 0.9259                                                                                                    \n",
      "epoch: 0203, loss: 0.1380 - val_loss: 0.3391; rmse: 0.4097 - rmse_val: 0.5824;  r2: 0.9628 - r2_val: 0.9185                                                                                                    \n",
      "epoch: 0204, loss: 0.1738 - val_loss: 0.3143; rmse: 0.3664 - rmse_val: 0.5606;  r2: 0.9702 - r2_val: 0.9245                                                                                                    \n",
      "epoch: 0205, loss: 0.1404 - val_loss: 0.3165; rmse: 0.3699 - rmse_val: 0.5626;  r2: 0.9696 - r2_val: 0.9240                                                                                                    \n",
      "epoch: 0206, loss: 0.1345 - val_loss: 0.4231; rmse: 0.4682 - rmse_val: 0.6505;  r2: 0.9514 - r2_val: 0.8984                                                                                                    \n",
      "epoch: 0207, loss: 0.1706 - val_loss: 0.3747; rmse: 0.4591 - rmse_val: 0.6121;  r2: 0.9532 - r2_val: 0.9100                                                                                                    \n",
      "epoch: 0208, loss: 0.1743 - val_loss: 0.3884; rmse: 0.4273 - rmse_val: 0.6233;  r2: 0.9595 - r2_val: 0.9067                                                                                                    \n",
      "epoch: 0209, loss: 0.1629 - val_loss: 0.4700; rmse: 0.5740 - rmse_val: 0.6856;  r2: 0.9269 - r2_val: 0.8871                                                                                                    \n",
      "epoch: 0210, loss: 0.2361 - val_loss: 0.3468; rmse: 0.3938 - rmse_val: 0.5889;  r2: 0.9656 - r2_val: 0.9167                                                                                                    \n",
      "epoch: 0211, loss: 0.1485 - val_loss: 0.4372; rmse: 0.5536 - rmse_val: 0.6613;  r2: 0.9320 - r2_val: 0.8950                                                                                                    \n",
      "epoch: 0212, loss: 0.2495 - val_loss: 0.3711; rmse: 0.4268 - rmse_val: 0.6092;  r2: 0.9596 - r2_val: 0.9109                                                                                                    \n",
      "epoch: 0213, loss: 0.1664 - val_loss: 0.3227; rmse: 0.3994 - rmse_val: 0.5681;  r2: 0.9646 - r2_val: 0.9225                                                                                                    \n",
      "epoch: 0214, loss: 0.1744 - val_loss: 0.3376; rmse: 0.4060 - rmse_val: 0.5810;  r2: 0.9634 - r2_val: 0.9189                                                                                                    \n",
      "epoch: 0215, loss: 0.1592 - val_loss: 0.3508; rmse: 0.3787 - rmse_val: 0.5922;  r2: 0.9682 - r2_val: 0.9158                                                                                                    \n",
      "\n",
      "Restoring model weights from the end of the best epoch.\n",
      "\n",
      "Epoch 00215: early stopping\n"
     ]
    },
    {
     "data": {
      "text/plain": [
       "<tensorflow.python.keras.callbacks.History at 0x7f9b9c1443c8>"
      ]
     },
     "execution_count": 10,
     "metadata": {},
     "output_type": "execute_result"
    }
   ],
   "source": [
    "model.fit(trainX, trainY, batch_size=128, \n",
    "      epochs=500, verbose= 0, shuffle = True, \n",
    "      validation_data = (validX, validY), \n",
    "      callbacks=[performace, earlystop]) "
   ]
  },
  {
   "cell_type": "code",
   "execution_count": 11,
   "metadata": {},
   "outputs": [
    {
     "data": {
      "text/plain": [
       "<matplotlib.axes._subplots.AxesSubplot at 0x7f9aafa722b0>"
      ]
     },
     "execution_count": 11,
     "metadata": {},
     "output_type": "execute_result"
    },
    {
     "data": {
      "image/png": "[encoded data removed]",
      "text/plain": [
       "<Figure size 432x288 with 1 Axes>"
      ]
     },
     "metadata": {
      "needs_background": "light"
     },
     "output_type": "display_data"
    }
   ],
   "source": [
    "dfp = pd.DataFrame(performace.history)[['training_loss', 'validation_loss']]\n",
    "dfp.plot()"
   ]
  },
  {
   "cell_type": "code",
   "execution_count": 12,
   "metadata": {},
   "outputs": [
    {
     "data": {
      "text/plain": [
       "([0.3848314469722153], [0.9671383001793579])"
      ]
     },
     "execution_count": 12,
     "metadata": {},
     "output_type": "execute_result"
    }
   ],
   "source": [
    "performace.evaluate(trainX, trainY) # RMSE, R^2"
   ]
  },
  {
   "cell_type": "code",
   "execution_count": 13,
   "metadata": {},
   "outputs": [
    {
     "data": {
      "text/plain": [
       "([0.5499827000059236], [0.9273494400414741])"
      ]
     },
     "execution_count": 13,
     "metadata": {},
     "output_type": "execute_result"
    }
   ],
   "source": [
    "performace.evaluate(validX, validY) # RMSE, R^2"
   ]
  },
  {
   "cell_type": "code",
   "execution_count": 14,
   "metadata": {},
   "outputs": [
    {
     "data": {
      "text/plain": [
       "([0.4720537544829965], [0.9365011313362828])"
      ]
     },
     "execution_count": 14,
     "metadata": {},
     "output_type": "execute_result"
    }
   ],
   "source": [
    "performace.evaluate(testX, testY) # RMSE, R^2"
   ]
  },
  {
   "cell_type": "code",
   "execution_count": 15,
   "metadata": {},
   "outputs": [
    {
     "data": {
      "text/plain": [
       "([0.7808636959362991], [0.4052526532349201])"
      ]
     },
     "execution_count": 15,
     "metadata": {},
     "output_type": "execute_result"
    }
   ],
   "source": [
    "performace.evaluate(etcX, etcY)  # RMSE, R^2"
   ]
  },
  {
   "cell_type": "code",
   "execution_count": 16,
   "metadata": {},
   "outputs": [
    {
     "data": {
      "text/html": [
       "<div>\n",
       "<style scoped>\n",
       "    .dataframe tbody tr th:only-of-type {\n",
       "        vertical-align: middle;\n",
       "    }\n",
       "\n",
       "    .dataframe tbody tr th {\n",
       "        vertical-align: top;\n",
       "    }\n",
       "\n",
       "    .dataframe thead th {\n",
       "        text-align: right;\n",
       "    }\n",
       "</style>\n",
       "<table border=\"1\" class=\"dataframe\">\n",
       "  <thead>\n",
       "    <tr style=\"text-align: right;\">\n",
       "      <th></th>\n",
       "      <th>Exp_LogS</th>\n",
       "      <th>Pred_LogS</th>\n",
       "    </tr>\n",
       "  </thead>\n",
       "  <tbody>\n",
       "    <tr>\n",
       "      <td>Exp_LogS</td>\n",
       "      <td>1.000000</td>\n",
       "      <td>0.684575</td>\n",
       "    </tr>\n",
       "    <tr>\n",
       "      <td>Pred_LogS</td>\n",
       "      <td>0.684575</td>\n",
       "      <td>1.000000</td>\n",
       "    </tr>\n",
       "  </tbody>\n",
       "</table>\n",
       "</div>"
      ],
      "text/plain": [
       "           Exp_LogS  Pred_LogS\n",
       "Exp_LogS   1.000000   0.684575\n",
       "Pred_LogS  0.684575   1.000000"
      ]
     },
     "execution_count": 16,
     "metadata": {},
     "output_type": "execute_result"
    }
   ],
   "source": [
    "dfr = df_etc[['Exp_LogS']].join(pd.DataFrame(performace.model.predict(etcX), columns= ['Pred_LogS']))\n",
    "dfr.corr()"
   ]
  },
  {
   "cell_type": "code",
   "execution_count": 18,
   "metadata": {},
   "outputs": [
    {
     "data": {
      "text/plain": [
       "<matplotlib.collections.PathCollection at 0x7f9aae9faf28>"
      ]
     },
     "execution_count": 18,
     "metadata": {},
     "output_type": "execute_result"
    },
    {
     "data": {
      "image/png": "[encoded data removed]",
      "text/plain": [
       "<Figure size 576x432 with 1 Axes>"
      ]
     },
     "metadata": {
      "needs_background": "light"
     },
     "output_type": "display_data"
    }
   ],
   "source": [
    "plt.figure(figsize = (8,6))\n",
    "plt.scatter(dfr.Exp_LogS, dfr.Pred_LogS)"
   ]
  },
  {
   "cell_type": "code",
   "execution_count": null,
   "metadata": {},
   "outputs": [],
   "source": []
  },
  {
   "cell_type": "code",
   "execution_count": null,
   "metadata": {},
   "outputs": [],
   "source": []
  },
  {
   "cell_type": "code",
   "execution_count": null,
   "metadata": {},
   "outputs": [],
   "source": []
  },
  {
   "cell_type": "code",
   "execution_count": null,
   "metadata": {},
   "outputs": [],
   "source": []
  }
 ],
 "metadata": {
  "kernelspec": {
   "display_name": "Python 3",
   "language": "python",
   "name": "python3"
  },
  "language_info": {
   "codemirror_mode": {
    "name": "ipython",
    "version": 3
   },
   "file_extension": ".py",
   "mimetype": "text/x-python",
   "name": "python",
   "nbconvert_exporter": "python",
   "pygments_lexer": "ipython3",
   "version": "3.6.9"
  }
 },
 "nbformat": 4,
 "nbformat_minor": 4
}
