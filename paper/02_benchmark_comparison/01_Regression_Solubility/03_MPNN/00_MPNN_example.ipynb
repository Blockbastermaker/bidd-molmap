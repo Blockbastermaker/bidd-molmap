{
 "cells": [
  {
   "cell_type": "code",
   "execution_count": 1,
   "metadata": {},
   "outputs": [
    {
     "name": "stderr",
     "output_type": "stream",
     "text": [
      "/home/shenwanxiang/anaconda3/envs/deepchem/lib/python3.6/site-packages/tensorflow/python/framework/dtypes.py:516: FutureWarning: Passing (type, 1) or '1type' as a synonym of type is deprecated; in a future version of numpy, it will be understood as (type, (1,)) / '(1,)type'.\n",
      "  _np_qint8 = np.dtype([(\"qint8\", np.int8, 1)])\n",
      "/home/shenwanxiang/anaconda3/envs/deepchem/lib/python3.6/site-packages/tensorflow/python/framework/dtypes.py:517: FutureWarning: Passing (type, 1) or '1type' as a synonym of type is deprecated; in a future version of numpy, it will be understood as (type, (1,)) / '(1,)type'.\n",
      "  _np_quint8 = np.dtype([(\"quint8\", np.uint8, 1)])\n",
      "/home/shenwanxiang/anaconda3/envs/deepchem/lib/python3.6/site-packages/tensorflow/python/framework/dtypes.py:518: FutureWarning: Passing (type, 1) or '1type' as a synonym of type is deprecated; in a future version of numpy, it will be understood as (type, (1,)) / '(1,)type'.\n",
      "  _np_qint16 = np.dtype([(\"qint16\", np.int16, 1)])\n",
      "/home/shenwanxiang/anaconda3/envs/deepchem/lib/python3.6/site-packages/tensorflow/python/framework/dtypes.py:519: FutureWarning: Passing (type, 1) or '1type' as a synonym of type is deprecated; in a future version of numpy, it will be understood as (type, (1,)) / '(1,)type'.\n",
      "  _np_quint16 = np.dtype([(\"quint16\", np.uint16, 1)])\n",
      "/home/shenwanxiang/anaconda3/envs/deepchem/lib/python3.6/site-packages/tensorflow/python/framework/dtypes.py:520: FutureWarning: Passing (type, 1) or '1type' as a synonym of type is deprecated; in a future version of numpy, it will be understood as (type, (1,)) / '(1,)type'.\n",
      "  _np_qint32 = np.dtype([(\"qint32\", np.int32, 1)])\n",
      "/home/shenwanxiang/anaconda3/envs/deepchem/lib/python3.6/site-packages/tensorflow/python/framework/dtypes.py:525: FutureWarning: Passing (type, 1) or '1type' as a synonym of type is deprecated; in a future version of numpy, it will be understood as (type, (1,)) / '(1,)type'.\n",
      "  np_resource = np.dtype([(\"resource\", np.ubyte, 1)])\n",
      "/home/shenwanxiang/anaconda3/envs/deepchem/lib/python3.6/site-packages/tensorboard/compat/tensorflow_stub/dtypes.py:541: FutureWarning: Passing (type, 1) or '1type' as a synonym of type is deprecated; in a future version of numpy, it will be understood as (type, (1,)) / '(1,)type'.\n",
      "  _np_qint8 = np.dtype([(\"qint8\", np.int8, 1)])\n",
      "/home/shenwanxiang/anaconda3/envs/deepchem/lib/python3.6/site-packages/tensorboard/compat/tensorflow_stub/dtypes.py:542: FutureWarning: Passing (type, 1) or '1type' as a synonym of type is deprecated; in a future version of numpy, it will be understood as (type, (1,)) / '(1,)type'.\n",
      "  _np_quint8 = np.dtype([(\"quint8\", np.uint8, 1)])\n",
      "/home/shenwanxiang/anaconda3/envs/deepchem/lib/python3.6/site-packages/tensorboard/compat/tensorflow_stub/dtypes.py:543: FutureWarning: Passing (type, 1) or '1type' as a synonym of type is deprecated; in a future version of numpy, it will be understood as (type, (1,)) / '(1,)type'.\n",
      "  _np_qint16 = np.dtype([(\"qint16\", np.int16, 1)])\n",
      "/home/shenwanxiang/anaconda3/envs/deepchem/lib/python3.6/site-packages/tensorboard/compat/tensorflow_stub/dtypes.py:544: FutureWarning: Passing (type, 1) or '1type' as a synonym of type is deprecated; in a future version of numpy, it will be understood as (type, (1,)) / '(1,)type'.\n",
      "  _np_quint16 = np.dtype([(\"quint16\", np.uint16, 1)])\n",
      "/home/shenwanxiang/anaconda3/envs/deepchem/lib/python3.6/site-packages/tensorboard/compat/tensorflow_stub/dtypes.py:545: FutureWarning: Passing (type, 1) or '1type' as a synonym of type is deprecated; in a future version of numpy, it will be understood as (type, (1,)) / '(1,)type'.\n",
      "  _np_qint32 = np.dtype([(\"qint32\", np.int32, 1)])\n",
      "/home/shenwanxiang/anaconda3/envs/deepchem/lib/python3.6/site-packages/tensorboard/compat/tensorflow_stub/dtypes.py:550: FutureWarning: Passing (type, 1) or '1type' as a synonym of type is deprecated; in a future version of numpy, it will be understood as (type, (1,)) / '(1,)type'.\n",
      "  np_resource = np.dtype([(\"resource\", np.ubyte, 1)])\n",
      "/home/shenwanxiang/.local/lib/python3.6/site-packages/sklearn/ensemble/weight_boosting.py:29: DeprecationWarning: numpy.core.umath_tests is an internal NumPy module and should not be imported. It will be removed in a future NumPy release.\n",
      "  from numpy.core.umath_tests import inner1d\n"
     ]
    }
   ],
   "source": [
    "from __future__ import print_function\n",
    "from __future__ import division\n",
    "from __future__ import unicode_literals\n",
    "\n",
    "import numpy as np\n",
    "import tensorflow as tf\n",
    "from joblib import load,dump\n",
    "from rdkit import Chem\n",
    "import pandas as pd\n",
    "\n",
    "from deepchem.models import GraphConvModel, MPNNModel\n",
    "import deepchem as dc\n",
    "from deepchem.molnet.preset_hyper_parameters import hps\n",
    "from copy import deepcopy\n",
    "import os\n",
    "os.environ[\"CUDA_VISIBLE_DEVICES\"]=\"1\"\n",
    "%matplotlib inline\n",
    "#os.environ.setdefault('DEEPCHEM_DATA_DIR', os.popen('pwd').read().strip())"
   ]
  },
  {
   "cell_type": "code",
   "execution_count": 2,
   "metadata": {},
   "outputs": [
    {
     "data": {
      "text/plain": [
       "'2.1.1'"
      ]
     },
     "execution_count": 2,
     "metadata": {},
     "output_type": "execute_result"
    }
   ],
   "source": [
    "dc.__version__"
   ]
  },
  {
   "cell_type": "code",
   "execution_count": 3,
   "metadata": {},
   "outputs": [],
   "source": [
    "seed = 777\n",
    "np.random.seed(seed)\n",
    "tf.set_random_seed(seed)"
   ]
  },
  {
   "cell_type": "code",
   "execution_count": 4,
   "metadata": {},
   "outputs": [],
   "source": [
    "def featurize_data(tasks, smiles_col, featurizer, dataset_file, normalize = True):\n",
    "    loader = dc.data.CSVLoader(tasks=tasks, smiles_field=smiles_col, featurizer=featurizer)\n",
    "    dataset = loader.featurize(dataset_file, shard_size=8192)\n",
    "    move_mean = True\n",
    "    if normalize:\n",
    "        transformers = [dc.trans.NormalizationTransformer(\n",
    "            transform_y=True, dataset=dataset, move_mean=move_mean)]\n",
    "    else:\n",
    "        transformers = []\n",
    "    for transformer in transformers:\n",
    "        dataset = transformer.transform(dataset)\n",
    "    return dataset, transformers"
   ]
  },
  {
   "cell_type": "code",
   "execution_count": 5,
   "metadata": {},
   "outputs": [],
   "source": [
    "featurizer = dc.feat.graph_features.WeaveFeaturizer()\n",
    "metric = dc.metrics.Metric(dc.metrics.rms_score, np.mean)"
   ]
  },
  {
   "cell_type": "markdown",
   "metadata": {},
   "source": [
    "# use the same dataset as MolMapNet and attentivFP"
   ]
  },
  {
   "cell_type": "code",
   "execution_count": 6,
   "metadata": {},
   "outputs": [
    {
     "name": "stdout",
     "output_type": "stream",
     "text": [
      "Loading raw samples now.\n",
      "shard_size: 8192\n",
      "About to start loading CSV from ../train.csv\n",
      "Loading shard 1 of size 8192.\n",
      "Featurizing sample 0\n",
      "TIMING: featurizing shard 0 took 0.928 s\n",
      "TIMING: dataset construction took 1.143 s\n",
      "Loading dataset from disk.\n",
      "TIMING: dataset construction took 0.248 s\n",
      "Loading dataset from disk.\n",
      "Loading raw samples now.\n",
      "shard_size: 8192\n",
      "About to start loading CSV from ../valid.csv\n",
      "Loading shard 1 of size 8192.\n",
      "Featurizing sample 0\n",
      "TIMING: featurizing shard 0 took 0.118 s\n",
      "TIMING: dataset construction took 0.155 s\n",
      "Loading dataset from disk.\n",
      "TIMING: dataset construction took 0.038 s\n",
      "Loading dataset from disk.\n",
      "Loading raw samples now.\n",
      "shard_size: 8192\n",
      "About to start loading CSV from ../test.csv\n",
      "Loading shard 1 of size 8192.\n",
      "Featurizing sample 0\n",
      "TIMING: featurizing shard 0 took 0.096 s\n",
      "TIMING: dataset construction took 0.119 s\n",
      "Loading dataset from disk.\n",
      "TIMING: dataset construction took 0.026 s\n",
      "Loading dataset from disk.\n",
      "Loading raw samples now.\n",
      "shard_size: 8192\n",
      "About to start loading CSV from ../etc.csv\n",
      "Loading shard 1 of size 8192.\n",
      "Featurizing sample 0\n",
      "TIMING: featurizing shard 0 took 0.278 s\n",
      "TIMING: dataset construction took 0.360 s\n",
      "Loading dataset from disk.\n",
      "TIMING: dataset construction took 0.094 s\n",
      "Loading dataset from disk.\n"
     ]
    }
   ],
   "source": [
    "tasks = ['measured log solubility in mols per litre']\n",
    "smiles_col = 'smiles'\n",
    "\n",
    "# tasks, delaney_datasets, transformers = dc.molnet.load_delaney(featurizer='Weave', split='random')\n",
    "# train_dataset, valid_dataset, test_dataset = delaney_datasets\n",
    "train_dataset, transformers =  featurize_data(tasks = tasks, smiles_col = smiles_col, \n",
    "                                           featurizer =featurizer, dataset_file='../train.csv')\n",
    "\n",
    "valid_dataset, _ =  featurize_data(tasks = tasks, smiles_col = smiles_col, \n",
    "                                           featurizer =featurizer, dataset_file='../valid.csv')\n",
    "\n",
    "test_dataset, _ =  featurize_data(tasks = tasks, smiles_col = smiles_col, \n",
    "                                           featurizer =featurizer, dataset_file='../test.csv')\n",
    "\n",
    "etc_dataset, _ =  featurize_data(tasks = ['Exp_LogS'], smiles_col = smiles_col, \n",
    "                                           featurizer =featurizer, dataset_file='../etc.csv')\n"
   ]
  },
  {
   "cell_type": "code",
   "execution_count": 7,
   "metadata": {},
   "outputs": [],
   "source": [
    "# Fit trained model use best parameters\n",
    "n_atom_feat = 75\n",
    "n_pair_feat = 14\n",
    "\n",
    "# Batch size of models\n",
    "batch_size = 64\n",
    "patience = 30\n",
    "\n",
    "model = dc.models.MPNNModel(\n",
    "                            len(tasks),\n",
    "                            n_atom_feat=n_atom_feat,\n",
    "                            n_pair_feat=n_pair_feat,\n",
    "                            T=3,\n",
    "                            M=5,\n",
    "                            batch_size=batch_size,\n",
    "                            learning_rate=0.0001,\n",
    "                            use_queue=False,\n",
    "                            mode=\"regression\")\n",
    "\n",
    "\n",
    "\n",
    "def count_params(model):\n",
    "    trainable_paras = 0\n",
    "    for layer in model.layers.values():\n",
    "        x = model.get_layer_variable_values(layer)\n",
    "        for  i in x:\n",
    "            if type(i) == np.ndarray:\n",
    "                if len(i.shape) == 1:\n",
    "                    trainable_paras += i.shape[0]\n",
    "                else:\n",
    "                    a, b = i.shape\n",
    "                    trainable_paras += a*b\n",
    "    return trainable_paras"
   ]
  },
  {
   "cell_type": "code",
   "execution_count": 8,
   "metadata": {},
   "outputs": [],
   "source": [
    "#count_params(model)"
   ]
  },
  {
   "cell_type": "code",
   "execution_count": 9,
   "metadata": {},
   "outputs": [
    {
     "name": "stdout",
     "output_type": "stream",
     "text": [
      "WARNING:tensorflow:From /home/shenwanxiang/anaconda3/envs/deepchem/lib/python3.6/site-packages/deepchem/models/tensorgraph/tensor_graph.py:715: The name tf.placeholder is deprecated. Please use tf.compat.v1.placeholder instead.\n",
      "\n"
     ]
    },
    {
     "name": "stderr",
     "output_type": "stream",
     "text": [
      "WARNING:tensorflow:From /home/shenwanxiang/anaconda3/envs/deepchem/lib/python3.6/site-packages/deepchem/models/tensorgraph/tensor_graph.py:715: The name tf.placeholder is deprecated. Please use tf.compat.v1.placeholder instead.\n",
      "\n"
     ]
    },
    {
     "name": "stdout",
     "output_type": "stream",
     "text": [
      "WARNING:tensorflow:Entity <bound method MessagePassing.call of <deepchem.models.layers.MessagePassing object at 0x7f9dc1f73400>> could not be transformed and will be executed as-is. Please report this to the AutgoGraph team. When filing the bug, set the verbosity to 10 (on Linux, `export AUTOGRAPH_VERBOSITY=10`) and attach the full output. Cause: converting <bound method MessagePassing.call of <deepchem.models.layers.MessagePassing object at 0x7f9dc1f73400>>: AttributeError: module 'gast' has no attribute 'Num'\n"
     ]
    },
    {
     "name": "stderr",
     "output_type": "stream",
     "text": [
      "WARNING:tensorflow:Entity <bound method MessagePassing.call of <deepchem.models.layers.MessagePassing object at 0x7f9dc1f73400>> could not be transformed and will be executed as-is. Please report this to the AutgoGraph team. When filing the bug, set the verbosity to 10 (on Linux, `export AUTOGRAPH_VERBOSITY=10`) and attach the full output. Cause: converting <bound method MessagePassing.call of <deepchem.models.layers.MessagePassing object at 0x7f9dc1f73400>>: AttributeError: module 'gast' has no attribute 'Num'\n"
     ]
    },
    {
     "name": "stdout",
     "output_type": "stream",
     "text": [
      "WARNING: Entity <bound method MessagePassing.call of <deepchem.models.layers.MessagePassing object at 0x7f9dc1f73400>> could not be transformed and will be executed as-is. Please report this to the AutgoGraph team. When filing the bug, set the verbosity to 10 (on Linux, `export AUTOGRAPH_VERBOSITY=10`) and attach the full output. Cause: converting <bound method MessagePassing.call of <deepchem.models.layers.MessagePassing object at 0x7f9dc1f73400>>: AttributeError: module 'gast' has no attribute 'Num'\n",
      "WARNING:tensorflow:From /home/shenwanxiang/anaconda3/envs/deepchem/lib/python3.6/site-packages/deepchem/models/tensorgraph/model_ops.py:261: calling RandomUniform.__init__ (from tensorflow.python.ops.init_ops) with dtype is deprecated and will be removed in a future version.\n",
      "Instructions for updating:\n",
      "Call initializer instance with the dtype argument instead of passing it to the constructor\n"
     ]
    },
    {
     "name": "stderr",
     "output_type": "stream",
     "text": [
      "WARNING:tensorflow:From /home/shenwanxiang/anaconda3/envs/deepchem/lib/python3.6/site-packages/deepchem/models/tensorgraph/model_ops.py:261: calling RandomUniform.__init__ (from tensorflow.python.ops.init_ops) with dtype is deprecated and will be removed in a future version.\n",
      "Instructions for updating:\n",
      "Call initializer instance with the dtype argument instead of passing it to the constructor\n"
     ]
    },
    {
     "name": "stdout",
     "output_type": "stream",
     "text": [
      "WARNING:tensorflow:From /home/shenwanxiang/anaconda3/envs/deepchem/lib/python3.6/site-packages/deepchem/models/tensorgraph/model_ops.py:450: calling Constant.__init__ (from tensorflow.python.ops.init_ops) with dtype is deprecated and will be removed in a future version.\n",
      "Instructions for updating:\n",
      "Call initializer instance with the dtype argument instead of passing it to the constructor\n"
     ]
    },
    {
     "name": "stderr",
     "output_type": "stream",
     "text": [
      "WARNING:tensorflow:From /home/shenwanxiang/anaconda3/envs/deepchem/lib/python3.6/site-packages/deepchem/models/tensorgraph/model_ops.py:450: calling Constant.__init__ (from tensorflow.python.ops.init_ops) with dtype is deprecated and will be removed in a future version.\n",
      "Instructions for updating:\n",
      "Call initializer instance with the dtype argument instead of passing it to the constructor\n"
     ]
    },
    {
     "name": "stdout",
     "output_type": "stream",
     "text": [
      "WARNING:tensorflow:From /home/shenwanxiang/anaconda3/envs/deepchem/lib/python3.6/site-packages/tensorflow/python/autograph/converters/directives.py:117: The name tf.nn.xw_plus_b is deprecated. Please use tf.compat.v1.nn.xw_plus_b instead.\n",
      "\n"
     ]
    },
    {
     "name": "stderr",
     "output_type": "stream",
     "text": [
      "WARNING:tensorflow:From /home/shenwanxiang/anaconda3/envs/deepchem/lib/python3.6/site-packages/tensorflow/python/autograph/converters/directives.py:117: The name tf.nn.xw_plus_b is deprecated. Please use tf.compat.v1.nn.xw_plus_b instead.\n",
      "\n"
     ]
    },
    {
     "name": "stdout",
     "output_type": "stream",
     "text": [
      "WARNING:tensorflow:From /home/shenwanxiang/anaconda3/envs/deepchem/lib/python3.6/site-packages/tensorflow/python/autograph/converters/directives.py:117: The name tf.segment_sum is deprecated. Please use tf.math.segment_sum instead.\n",
      "\n"
     ]
    },
    {
     "name": "stderr",
     "output_type": "stream",
     "text": [
      "WARNING:tensorflow:From /home/shenwanxiang/anaconda3/envs/deepchem/lib/python3.6/site-packages/tensorflow/python/autograph/converters/directives.py:117: The name tf.segment_sum is deprecated. Please use tf.math.segment_sum instead.\n",
      "\n"
     ]
    },
    {
     "name": "stdout",
     "output_type": "stream",
     "text": [
      "WARNING:tensorflow:Entity <bound method EdgeNetwork.call of <deepchem.models.layers.EdgeNetwork object at 0x7f9d7e9145f8>> could not be transformed and will be executed as-is. Please report this to the AutgoGraph team. When filing the bug, set the verbosity to 10 (on Linux, `export AUTOGRAPH_VERBOSITY=10`) and attach the full output. Cause: converting <bound method EdgeNetwork.call of <deepchem.models.layers.EdgeNetwork object at 0x7f9d7e9145f8>>: AssertionError: Bad argument number for Name: 3, expecting 4\n"
     ]
    },
    {
     "name": "stderr",
     "output_type": "stream",
     "text": [
      "WARNING:tensorflow:Entity <bound method EdgeNetwork.call of <deepchem.models.layers.EdgeNetwork object at 0x7f9d7e9145f8>> could not be transformed and will be executed as-is. Please report this to the AutgoGraph team. When filing the bug, set the verbosity to 10 (on Linux, `export AUTOGRAPH_VERBOSITY=10`) and attach the full output. Cause: converting <bound method EdgeNetwork.call of <deepchem.models.layers.EdgeNetwork object at 0x7f9d7e9145f8>>: AssertionError: Bad argument number for Name: 3, expecting 4\n"
     ]
    },
    {
     "name": "stdout",
     "output_type": "stream",
     "text": [
      "WARNING: Entity <bound method EdgeNetwork.call of <deepchem.models.layers.EdgeNetwork object at 0x7f9d7e9145f8>> could not be transformed and will be executed as-is. Please report this to the AutgoGraph team. When filing the bug, set the verbosity to 10 (on Linux, `export AUTOGRAPH_VERBOSITY=10`) and attach the full output. Cause: converting <bound method EdgeNetwork.call of <deepchem.models.layers.EdgeNetwork object at 0x7f9d7e9145f8>>: AssertionError: Bad argument number for Name: 3, expecting 4\n",
      "WARNING:tensorflow:Entity <bound method GatedRecurrentUnit.call of <deepchem.models.layers.GatedRecurrentUnit object at 0x7f9d7e9147b8>> could not be transformed and will be executed as-is. Please report this to the AutgoGraph team. When filing the bug, set the verbosity to 10 (on Linux, `export AUTOGRAPH_VERBOSITY=10`) and attach the full output. Cause: converting <bound method GatedRecurrentUnit.call of <deepchem.models.layers.GatedRecurrentUnit object at 0x7f9d7e9147b8>>: AttributeError: module 'gast' has no attribute 'Num'\n"
     ]
    },
    {
     "name": "stderr",
     "output_type": "stream",
     "text": [
      "WARNING:tensorflow:Entity <bound method GatedRecurrentUnit.call of <deepchem.models.layers.GatedRecurrentUnit object at 0x7f9d7e9147b8>> could not be transformed and will be executed as-is. Please report this to the AutgoGraph team. When filing the bug, set the verbosity to 10 (on Linux, `export AUTOGRAPH_VERBOSITY=10`) and attach the full output. Cause: converting <bound method GatedRecurrentUnit.call of <deepchem.models.layers.GatedRecurrentUnit object at 0x7f9d7e9147b8>>: AttributeError: module 'gast' has no attribute 'Num'\n"
     ]
    },
    {
     "name": "stdout",
     "output_type": "stream",
     "text": [
      "WARNING: Entity <bound method GatedRecurrentUnit.call of <deepchem.models.layers.GatedRecurrentUnit object at 0x7f9d7e9147b8>> could not be transformed and will be executed as-is. Please report this to the AutgoGraph team. When filing the bug, set the verbosity to 10 (on Linux, `export AUTOGRAPH_VERBOSITY=10`) and attach the full output. Cause: converting <bound method GatedRecurrentUnit.call of <deepchem.models.layers.GatedRecurrentUnit object at 0x7f9d7e9147b8>>: AttributeError: module 'gast' has no attribute 'Num'\n",
      "WARNING:tensorflow:Entity <bound method EdgeNetwork.call of <deepchem.models.layers.EdgeNetwork object at 0x7f9d7e9145f8>> could not be transformed and will be executed as-is. Please report this to the AutgoGraph team. When filing the bug, set the verbosity to 10 (on Linux, `export AUTOGRAPH_VERBOSITY=10`) and attach the full output. Cause: converting <bound method EdgeNetwork.call of <deepchem.models.layers.EdgeNetwork object at 0x7f9d7e9145f8>>: AssertionError: Bad argument number for Name: 3, expecting 4\n"
     ]
    },
    {
     "name": "stderr",
     "output_type": "stream",
     "text": [
      "WARNING:tensorflow:Entity <bound method EdgeNetwork.call of <deepchem.models.layers.EdgeNetwork object at 0x7f9d7e9145f8>> could not be transformed and will be executed as-is. Please report this to the AutgoGraph team. When filing the bug, set the verbosity to 10 (on Linux, `export AUTOGRAPH_VERBOSITY=10`) and attach the full output. Cause: converting <bound method EdgeNetwork.call of <deepchem.models.layers.EdgeNetwork object at 0x7f9d7e9145f8>>: AssertionError: Bad argument number for Name: 3, expecting 4\n"
     ]
    },
    {
     "name": "stdout",
     "output_type": "stream",
     "text": [
      "WARNING: Entity <bound method EdgeNetwork.call of <deepchem.models.layers.EdgeNetwork object at 0x7f9d7e9145f8>> could not be transformed and will be executed as-is. Please report this to the AutgoGraph team. When filing the bug, set the verbosity to 10 (on Linux, `export AUTOGRAPH_VERBOSITY=10`) and attach the full output. Cause: converting <bound method EdgeNetwork.call of <deepchem.models.layers.EdgeNetwork object at 0x7f9d7e9145f8>>: AssertionError: Bad argument number for Name: 3, expecting 4\n",
      "WARNING:tensorflow:Entity <bound method GatedRecurrentUnit.call of <deepchem.models.layers.GatedRecurrentUnit object at 0x7f9d7e9147b8>> could not be transformed and will be executed as-is. Please report this to the AutgoGraph team. When filing the bug, set the verbosity to 10 (on Linux, `export AUTOGRAPH_VERBOSITY=10`) and attach the full output. Cause: converting <bound method GatedRecurrentUnit.call of <deepchem.models.layers.GatedRecurrentUnit object at 0x7f9d7e9147b8>>: AttributeError: module 'gast' has no attribute 'Num'\n"
     ]
    },
    {
     "name": "stderr",
     "output_type": "stream",
     "text": [
      "WARNING:tensorflow:Entity <bound method GatedRecurrentUnit.call of <deepchem.models.layers.GatedRecurrentUnit object at 0x7f9d7e9147b8>> could not be transformed and will be executed as-is. Please report this to the AutgoGraph team. When filing the bug, set the verbosity to 10 (on Linux, `export AUTOGRAPH_VERBOSITY=10`) and attach the full output. Cause: converting <bound method GatedRecurrentUnit.call of <deepchem.models.layers.GatedRecurrentUnit object at 0x7f9d7e9147b8>>: AttributeError: module 'gast' has no attribute 'Num'\n"
     ]
    },
    {
     "name": "stdout",
     "output_type": "stream",
     "text": [
      "WARNING: Entity <bound method GatedRecurrentUnit.call of <deepchem.models.layers.GatedRecurrentUnit object at 0x7f9d7e9147b8>> could not be transformed and will be executed as-is. Please report this to the AutgoGraph team. When filing the bug, set the verbosity to 10 (on Linux, `export AUTOGRAPH_VERBOSITY=10`) and attach the full output. Cause: converting <bound method GatedRecurrentUnit.call of <deepchem.models.layers.GatedRecurrentUnit object at 0x7f9d7e9147b8>>: AttributeError: module 'gast' has no attribute 'Num'\n",
      "WARNING:tensorflow:Entity <bound method EdgeNetwork.call of <deepchem.models.layers.EdgeNetwork object at 0x7f9d7e9145f8>> could not be transformed and will be executed as-is. Please report this to the AutgoGraph team. When filing the bug, set the verbosity to 10 (on Linux, `export AUTOGRAPH_VERBOSITY=10`) and attach the full output. Cause: converting <bound method EdgeNetwork.call of <deepchem.models.layers.EdgeNetwork object at 0x7f9d7e9145f8>>: AssertionError: Bad argument number for Name: 3, expecting 4\n"
     ]
    },
    {
     "name": "stderr",
     "output_type": "stream",
     "text": [
      "WARNING:tensorflow:Entity <bound method EdgeNetwork.call of <deepchem.models.layers.EdgeNetwork object at 0x7f9d7e9145f8>> could not be transformed and will be executed as-is. Please report this to the AutgoGraph team. When filing the bug, set the verbosity to 10 (on Linux, `export AUTOGRAPH_VERBOSITY=10`) and attach the full output. Cause: converting <bound method EdgeNetwork.call of <deepchem.models.layers.EdgeNetwork object at 0x7f9d7e9145f8>>: AssertionError: Bad argument number for Name: 3, expecting 4\n"
     ]
    },
    {
     "name": "stdout",
     "output_type": "stream",
     "text": [
      "WARNING: Entity <bound method EdgeNetwork.call of <deepchem.models.layers.EdgeNetwork object at 0x7f9d7e9145f8>> could not be transformed and will be executed as-is. Please report this to the AutgoGraph team. When filing the bug, set the verbosity to 10 (on Linux, `export AUTOGRAPH_VERBOSITY=10`) and attach the full output. Cause: converting <bound method EdgeNetwork.call of <deepchem.models.layers.EdgeNetwork object at 0x7f9d7e9145f8>>: AssertionError: Bad argument number for Name: 3, expecting 4\n",
      "WARNING:tensorflow:Entity <bound method GatedRecurrentUnit.call of <deepchem.models.layers.GatedRecurrentUnit object at 0x7f9d7e9147b8>> could not be transformed and will be executed as-is. Please report this to the AutgoGraph team. When filing the bug, set the verbosity to 10 (on Linux, `export AUTOGRAPH_VERBOSITY=10`) and attach the full output. Cause: converting <bound method GatedRecurrentUnit.call of <deepchem.models.layers.GatedRecurrentUnit object at 0x7f9d7e9147b8>>: AttributeError: module 'gast' has no attribute 'Num'\n"
     ]
    },
    {
     "name": "stderr",
     "output_type": "stream",
     "text": [
      "WARNING:tensorflow:Entity <bound method GatedRecurrentUnit.call of <deepchem.models.layers.GatedRecurrentUnit object at 0x7f9d7e9147b8>> could not be transformed and will be executed as-is. Please report this to the AutgoGraph team. When filing the bug, set the verbosity to 10 (on Linux, `export AUTOGRAPH_VERBOSITY=10`) and attach the full output. Cause: converting <bound method GatedRecurrentUnit.call of <deepchem.models.layers.GatedRecurrentUnit object at 0x7f9d7e9147b8>>: AttributeError: module 'gast' has no attribute 'Num'\n"
     ]
    },
    {
     "name": "stdout",
     "output_type": "stream",
     "text": [
      "WARNING: Entity <bound method GatedRecurrentUnit.call of <deepchem.models.layers.GatedRecurrentUnit object at 0x7f9d7e9147b8>> could not be transformed and will be executed as-is. Please report this to the AutgoGraph team. When filing the bug, set the verbosity to 10 (on Linux, `export AUTOGRAPH_VERBOSITY=10`) and attach the full output. Cause: converting <bound method GatedRecurrentUnit.call of <deepchem.models.layers.GatedRecurrentUnit object at 0x7f9d7e9147b8>>: AttributeError: module 'gast' has no attribute 'Num'\n",
      "WARNING:tensorflow:Entity <bound method SetGather.call of <deepchem.models.layers.SetGather object at 0x7f9d7e88cc50>> could not be transformed and will be executed as-is. Please report this to the AutgoGraph team. When filing the bug, set the verbosity to 10 (on Linux, `export AUTOGRAPH_VERBOSITY=10`) and attach the full output. Cause: converting <bound method SetGather.call of <deepchem.models.layers.SetGather object at 0x7f9d7e88cc50>>: AssertionError: Bad argument number for Name: 3, expecting 4\n"
     ]
    },
    {
     "name": "stderr",
     "output_type": "stream",
     "text": [
      "WARNING:tensorflow:Entity <bound method SetGather.call of <deepchem.models.layers.SetGather object at 0x7f9d7e88cc50>> could not be transformed and will be executed as-is. Please report this to the AutgoGraph team. When filing the bug, set the verbosity to 10 (on Linux, `export AUTOGRAPH_VERBOSITY=10`) and attach the full output. Cause: converting <bound method SetGather.call of <deepchem.models.layers.SetGather object at 0x7f9d7e88cc50>>: AssertionError: Bad argument number for Name: 3, expecting 4\n"
     ]
    },
    {
     "name": "stdout",
     "output_type": "stream",
     "text": [
      "WARNING: Entity <bound method SetGather.call of <deepchem.models.layers.SetGather object at 0x7f9d7e88cc50>> could not be transformed and will be executed as-is. Please report this to the AutgoGraph team. When filing the bug, set the verbosity to 10 (on Linux, `export AUTOGRAPH_VERBOSITY=10`) and attach the full output. Cause: converting <bound method SetGather.call of <deepchem.models.layers.SetGather object at 0x7f9d7e88cc50>>: AssertionError: Bad argument number for Name: 3, expecting 4\n",
      "WARNING:tensorflow:From /home/shenwanxiang/anaconda3/envs/deepchem/lib/python3.6/site-packages/deepchem/models/tensorgraph/tensor_graph.py:728: The name tf.Session is deprecated. Please use tf.compat.v1.Session instead.\n",
      "\n"
     ]
    },
    {
     "name": "stderr",
     "output_type": "stream",
     "text": [
      "WARNING:tensorflow:From /home/shenwanxiang/anaconda3/envs/deepchem/lib/python3.6/site-packages/deepchem/models/tensorgraph/tensor_graph.py:728: The name tf.Session is deprecated. Please use tf.compat.v1.Session instead.\n",
      "\n"
     ]
    },
    {
     "name": "stdout",
     "output_type": "stream",
     "text": [
      "WARNING:tensorflow:From /home/shenwanxiang/anaconda3/envs/deepchem/lib/python3.6/site-packages/deepchem/models/tensorgraph/optimizers.py:76: The name tf.train.AdamOptimizer is deprecated. Please use tf.compat.v1.train.AdamOptimizer instead.\n",
      "\n"
     ]
    },
    {
     "name": "stderr",
     "output_type": "stream",
     "text": [
      "WARNING:tensorflow:From /home/shenwanxiang/anaconda3/envs/deepchem/lib/python3.6/site-packages/deepchem/models/tensorgraph/optimizers.py:76: The name tf.train.AdamOptimizer is deprecated. Please use tf.compat.v1.train.AdamOptimizer instead.\n",
      "\n",
      "/home/shenwanxiang/anaconda3/envs/deepchem/lib/python3.6/site-packages/tensorflow/python/ops/gradients_util.py:93: UserWarning: Converting sparse IndexedSlices to a dense Tensor of unknown shape. This may consume a large amount of memory.\n",
      "  \"Converting sparse IndexedSlices to a dense Tensor of unknown shape. \"\n",
      "/home/shenwanxiang/anaconda3/envs/deepchem/lib/python3.6/site-packages/tensorflow/python/ops/gradients_util.py:93: UserWarning: Converting sparse IndexedSlices to a dense Tensor of unknown shape. This may consume a large amount of memory.\n",
      "  \"Converting sparse IndexedSlices to a dense Tensor of unknown shape. \"\n"
     ]
    },
    {
     "name": "stdout",
     "output_type": "stream",
     "text": [
      "WARNING:tensorflow:From /home/shenwanxiang/anaconda3/envs/deepchem/lib/python3.6/site-packages/deepchem/models/tensorgraph/tensor_graph.py:1013: The name tf.get_collection is deprecated. Please use tf.compat.v1.get_collection instead.\n",
      "\n"
     ]
    },
    {
     "name": "stderr",
     "output_type": "stream",
     "text": [
      "WARNING:tensorflow:From /home/shenwanxiang/anaconda3/envs/deepchem/lib/python3.6/site-packages/deepchem/models/tensorgraph/tensor_graph.py:1013: The name tf.get_collection is deprecated. Please use tf.compat.v1.get_collection instead.\n",
      "\n"
     ]
    },
    {
     "name": "stdout",
     "output_type": "stream",
     "text": [
      "WARNING:tensorflow:From /home/shenwanxiang/anaconda3/envs/deepchem/lib/python3.6/site-packages/deepchem/models/tensorgraph/tensor_graph.py:1013: The name tf.GraphKeys is deprecated. Please use tf.compat.v1.GraphKeys instead.\n",
      "\n"
     ]
    },
    {
     "name": "stderr",
     "output_type": "stream",
     "text": [
      "WARNING:tensorflow:From /home/shenwanxiang/anaconda3/envs/deepchem/lib/python3.6/site-packages/deepchem/models/tensorgraph/tensor_graph.py:1013: The name tf.GraphKeys is deprecated. Please use tf.compat.v1.GraphKeys instead.\n",
      "\n"
     ]
    },
    {
     "name": "stdout",
     "output_type": "stream",
     "text": [
      "WARNING:tensorflow:From /home/shenwanxiang/anaconda3/envs/deepchem/lib/python3.6/site-packages/deepchem/models/tensorgraph/tensor_graph.py:749: The name tf.summary.scalar is deprecated. Please use tf.compat.v1.summary.scalar instead.\n",
      "\n"
     ]
    },
    {
     "name": "stderr",
     "output_type": "stream",
     "text": [
      "WARNING:tensorflow:From /home/shenwanxiang/anaconda3/envs/deepchem/lib/python3.6/site-packages/deepchem/models/tensorgraph/tensor_graph.py:749: The name tf.summary.scalar is deprecated. Please use tf.compat.v1.summary.scalar instead.\n",
      "\n"
     ]
    },
    {
     "name": "stdout",
     "output_type": "stream",
     "text": [
      "computed_metrics: [1.8365340226500473]\n",
      "1.8365340226500473\n",
      "computed_metrics: [1.7377355107375914]\n",
      "computed_metrics: [1.8365340431520065]\n",
      "computed_metrics: [1.837692088594347]\n",
      "computed_metrics: [3.208917690687965]\n",
      "computed_metrics: [1.653404411182427]\n",
      "1.653404411182427\n",
      "computed_metrics: [1.484198635265741]\n",
      "computed_metrics: [1.6534044170240565]\n",
      "computed_metrics: [1.6528151216601832]\n",
      "computed_metrics: [4.037119195494609]\n",
      "computed_metrics: [1.5226645920823851]\n",
      "1.5226645920823851\n",
      "computed_metrics: [1.6263976488978245]\n",
      "computed_metrics: [1.5226646061884637]\n",
      "computed_metrics: [1.904109068541758]\n",
      "computed_metrics: [2.282652538295468]\n",
      "computed_metrics: [1.252935551846961]\n",
      "1.252935551846961\n",
      "computed_metrics: [1.1948324126818681]\n",
      "computed_metrics: [1.2529355541601261]\n",
      "computed_metrics: [1.4798588789964766]\n",
      "computed_metrics: [3.177506404383169]\n",
      "computed_metrics: [1.3408109036900535]\n",
      "computed_metrics: [1.1101421918897396]\n",
      "1.1101421918897396\n",
      "computed_metrics: [1.0574343249973144]\n",
      "computed_metrics: [1.1101422140865849]\n",
      "computed_metrics: [1.3272752699989392]\n",
      "computed_metrics: [3.0630690722848835]\n",
      "computed_metrics: [1.0512271877971748]\n",
      "1.0512271877971748\n",
      "computed_metrics: [1.0079954465579455]\n",
      "computed_metrics: [1.051227178366892]\n",
      "computed_metrics: [1.283800067732356]\n",
      "computed_metrics: [3.2017597158183864]\n",
      "computed_metrics: [1.2227097882495668]\n",
      "computed_metrics: [0.9705274422900336]\n",
      "0.9705274422900336\n",
      "computed_metrics: [0.9570340330870934]\n",
      "computed_metrics: [0.970527429787056]\n",
      "computed_metrics: [1.2354875302405512]\n",
      "computed_metrics: [2.6425873571054663]\n",
      "computed_metrics: [1.0090244418122754]\n",
      "computed_metrics: [0.8829628998251468]\n",
      "0.8829628998251468\n",
      "computed_metrics: [0.9073710426648701]\n",
      "computed_metrics: [0.8829628800866602]\n",
      "computed_metrics: [1.153530910637333]\n",
      "computed_metrics: [3.0660545895497493]\n",
      "computed_metrics: [0.8935653908323145]\n",
      "computed_metrics: [0.8785385117168789]\n",
      "0.8785385117168789\n",
      "computed_metrics: [0.7655337620632424]\n",
      "computed_metrics: [0.8785385359270586]\n",
      "computed_metrics: [0.9905600621802683]\n",
      "computed_metrics: [3.0024208379645945]\n",
      "computed_metrics: [0.8877428571711372]\n",
      "computed_metrics: [0.7849021710902672]\n",
      "0.7849021710902672\n",
      "computed_metrics: [0.7360206128919486]\n",
      "computed_metrics: [0.7849021748066092]\n",
      "computed_metrics: [1.0089423120095389]\n",
      "computed_metrics: [2.6631477821515896]\n",
      "computed_metrics: [0.7770307172866685]\n",
      "0.7770307172866685\n",
      "computed_metrics: [0.7054397405414434]\n",
      "computed_metrics: [0.7770307052789199]\n",
      "computed_metrics: [0.9944295605581035]\n",
      "computed_metrics: [2.6570679770559096]\n",
      "computed_metrics: [0.725411612099678]\n",
      "0.725411612099678\n",
      "computed_metrics: [0.7099025120864477]\n",
      "computed_metrics: [0.725411607447813]\n",
      "computed_metrics: [1.0448649127917595]\n",
      "computed_metrics: [2.5863962919642574]\n",
      "computed_metrics: [0.7490905373822033]\n",
      "computed_metrics: [0.7544120728672197]\n",
      "computed_metrics: [0.7735374427411312]\n",
      "computed_metrics: [0.8623800798388863]\n",
      "computed_metrics: [0.699636712282101]\n",
      "0.699636712282101\n",
      "computed_metrics: [0.6364973786861685]\n",
      "computed_metrics: [0.6996367212602662]\n",
      "computed_metrics: [0.964155994666088]\n",
      "computed_metrics: [2.4944196268815495]\n",
      "computed_metrics: [0.7243125096825643]\n",
      "computed_metrics: [0.7351248505337488]\n",
      "computed_metrics: [0.7553759064435909]\n",
      "computed_metrics: [0.8698946465319671]\n",
      "computed_metrics: [0.6806426879955916]\n",
      "0.6806426879955916\n",
      "computed_metrics: [0.5619028736412167]\n",
      "computed_metrics: [0.6806426842961799]\n",
      "computed_metrics: [0.8913060721422222]\n",
      "computed_metrics: [2.31070926727065]\n",
      "computed_metrics: [0.80084727585623]\n",
      "computed_metrics: [0.6415853896042311]\n",
      "0.6415853896042311\n",
      "computed_metrics: [0.5641590092443195]\n",
      "computed_metrics: [0.6415853921843943]\n",
      "computed_metrics: [0.937770865694817]\n",
      "computed_metrics: [2.3758663335806394]\n",
      "computed_metrics: [0.8520004429687366]\n",
      "computed_metrics: [0.8443547308165983]\n",
      "computed_metrics: [0.5949116066270389]\n",
      "0.5949116066270389\n",
      "computed_metrics: [0.6277534340763898]\n",
      "computed_metrics: [0.5949115878535816]\n",
      "computed_metrics: [1.0537500062627934]\n",
      "computed_metrics: [2.167931394236411]\n",
      "computed_metrics: [0.7074231509838974]\n",
      "computed_metrics: [0.631133412324781]\n",
      "computed_metrics: [0.609843833765841]\n",
      "computed_metrics: [0.6279217097169031]\n",
      "computed_metrics: [0.6277798727313162]\n",
      "computed_metrics: [0.5964986472290346]\n",
      "computed_metrics: [0.764444125597087]\n",
      "computed_metrics: [0.6973951552114777]\n",
      "computed_metrics: [0.6640303332564493]\n",
      "computed_metrics: [0.7256661412551216]\n",
      "computed_metrics: [0.8098855624381378]\n",
      "computed_metrics: [0.8667919563470342]\n",
      "computed_metrics: [0.614247363581025]\n",
      "computed_metrics: [0.597273617154107]\n",
      "computed_metrics: [0.604947834856098]\n",
      "computed_metrics: [0.6143347349616313]\n",
      "computed_metrics: [0.596901900082965]\n",
      "computed_metrics: [0.5809260852826873]\n",
      "0.5809260852826873\n",
      "computed_metrics: [0.5210802477581714]\n",
      "computed_metrics: [0.5809260955642795]\n",
      "computed_metrics: [1.0015173835224662]\n",
      "computed_metrics: [2.20992167401023]\n",
      "computed_metrics: [0.6049521770132948]\n",
      "computed_metrics: [0.5696078738272724]\n",
      "0.5696078738272724\n",
      "computed_metrics: [0.4502540444061679]\n",
      "computed_metrics: [0.5696078449534842]\n",
      "computed_metrics: [0.9210966305423697]\n",
      "computed_metrics: [2.336968390974435]\n",
      "computed_metrics: [0.5737438709830255]\n",
      "computed_metrics: [0.6540421709770352]\n",
      "computed_metrics: [0.6544939478637343]\n",
      "computed_metrics: [0.8427765386473015]\n",
      "computed_metrics: [0.7395695346896687]\n",
      "computed_metrics: [0.5884546937662689]\n",
      "computed_metrics: [0.5868909255138873]\n",
      "computed_metrics: [0.5858509496117544]\n",
      "computed_metrics: [0.6293896306958346]\n",
      "computed_metrics: [0.6754890238392566]\n",
      "computed_metrics: [0.6887122828645457]\n",
      "computed_metrics: [0.6136525132179385]\n",
      "computed_metrics: [0.5939519998007454]\n",
      "computed_metrics: [0.6560571466026951]\n",
      "computed_metrics: [0.6512583064281423]\n",
      "computed_metrics: [0.7257823213080209]\n",
      "computed_metrics: [0.6711708623364636]\n",
      "computed_metrics: [0.6327298602477889]\n",
      "computed_metrics: [0.8043972346875096]\n",
      "computed_metrics: [0.7869420455472182]\n",
      "computed_metrics: [0.7421836076277505]\n",
      "computed_metrics: [0.6632926544387703]\n",
      "computed_metrics: [0.6294513840957795]\n",
      "computed_metrics: [0.6613611896996877]\n",
      "computed_metrics: [0.7076550022353857]\n",
      "computed_metrics: [0.6934536655064601]\n",
      "computed_metrics: [0.6617662855244693]\n",
      "computed_metrics: [0.6095819437402077]\n",
      "computed_metrics: [0.5879648791240546]\n",
      "computed_metrics: [0.6719692002834552]\n",
      "early stopping at best_rmse : 0.5696078738272724...\n"
     ]
    }
   ],
   "source": [
    "## perform an early stopping strategy\n",
    "best_rmse = np.inf\n",
    "patience = 30\n",
    "epochs = 500\n",
    "model_performace = {}\n",
    "wait = 0\n",
    "\n",
    "for i in range(epochs):\n",
    "    model.fit(train_dataset, nb_epoch=1, verbos = 0)\n",
    "    valid_scores = model.evaluate(valid_dataset, [metric], transformers)\n",
    "    valid_rmse = valid_scores.get('mean-rms_score')\n",
    "    model_performace[i] = valid_rmse\n",
    "    \n",
    "    \n",
    "    if  valid_rmse < best_rmse:\n",
    "        best_rmse = valid_rmse\n",
    "        print(best_rmse)\n",
    "        wait = 0        \n",
    "        best_train_rmse = model.evaluate(train_dataset, [metric], transformers).get('mean-rms_score')\n",
    "        best_valid_rmse = model.evaluate(valid_dataset, [metric], transformers).get('mean-rms_score')        \n",
    "        best_test_rmse = model.evaluate(test_dataset, [metric], transformers).get('mean-rms_score')\n",
    "        best_etc_rmse = model.evaluate(etc_dataset, [metric], transformers).get('mean-rms_score')\n",
    "\n",
    "        best_train_pred_y = list(model.predict(train_dataset, transformers).reshape(-1,))\n",
    "        best_valid_pred_y = list(model.predict(valid_dataset, transformers).reshape(-1,))           \n",
    "        best_test_pred_y = list(model.predict(test_dataset, transformers).reshape(-1,))                 \n",
    "        best_etc_pred_y = list(model.predict(etc_dataset, transformers).reshape(-1,))             \n",
    "        \n",
    "        \n",
    "        best_epoch = i\n",
    "    else:\n",
    "        wait += 1\n",
    "        if wait >= patience:\n",
    "            print('early stopping at best_rmse : %s...' % best_rmse)\n",
    "            break"
   ]
  },
  {
   "cell_type": "code",
   "execution_count": 10,
   "metadata": {},
   "outputs": [
    {
     "data": {
      "text/plain": [
       "<matplotlib.axes._subplots.AxesSubplot at 0x7f9d7e6164e0>"
      ]
     },
     "execution_count": 10,
     "metadata": {},
     "output_type": "execute_result"
    },
    {
     "data": {
      "image/png": "[encoded data removed]",
      "text/plain": [
       "<Figure size 432x288 with 1 Axes>"
      ]
     },
     "metadata": {
      "needs_background": "light"
     },
     "output_type": "display_data"
    }
   ],
   "source": [
    "pd.Series(model_performace).plot()"
   ]
  },
  {
   "cell_type": "code",
   "execution_count": 11,
   "metadata": {},
   "outputs": [
    {
     "data": {
      "text/plain": [
       "{'train_rmse': 0.4502540444061679,\n",
       " 'valid_rmse': 0.5696078449534842,\n",
       " 'test_rmse': 0.9210966305423697,\n",
       " 'etc_rmse': 2.336968390974435,\n",
       " 'etc_pred_y': [-3.891404278113534,\n",
       "  -3.8408154110983523,\n",
       "  -3.8759108792609056,\n",
       "  -3.9195264198236575,\n",
       "  -4.063671146776451,\n",
       "  -3.8539289672001926,\n",
       "  -4.64571345635135,\n",
       "  -4.610955326596581,\n",
       "  -4.267910509392425,\n",
       "  -4.077086675162678,\n",
       "  -3.887970980406255,\n",
       "  -3.998552433787589,\n",
       "  -3.9644524682219,\n",
       "  -3.9835221476778298,\n",
       "  -3.945165720484442,\n",
       "  -4.064190124075598,\n",
       "  -3.796274783851689,\n",
       "  -4.052012916142401,\n",
       "  -4.119547027805751,\n",
       "  -4.288553190504906,\n",
       "  -4.15291214985936,\n",
       "  -4.358366424224148,\n",
       "  -3.932200967821294,\n",
       "  -4.11314158386425,\n",
       "  -3.8874795874180217,\n",
       "  -3.9659532824959904,\n",
       "  -4.072819964318539,\n",
       "  -4.062197347412361,\n",
       "  -3.9527049681779873,\n",
       "  -3.9572696022333522,\n",
       "  -3.793924929549005,\n",
       "  -3.7530049961768857,\n",
       "  -3.7537264271341173,\n",
       "  -3.8272384891865703,\n",
       "  -4.3006491639077975,\n",
       "  -3.774871066785113,\n",
       "  -4.042810321847383,\n",
       "  -3.9783055495766635,\n",
       "  -3.8484073600097677,\n",
       "  -4.009242113468008,\n",
       "  -5.048685568616925,\n",
       "  -3.9758453580303232,\n",
       "  -3.22583955372879,\n",
       "  -3.9010556235950498,\n",
       "  -3.964181117053298,\n",
       "  -4.164378998519752,\n",
       "  -4.139495419404538,\n",
       "  -3.929969359108285,\n",
       "  -3.8862567673231894,\n",
       "  -3.862585569286062,\n",
       "  -3.8987399333471675,\n",
       "  -3.975454116336074,\n",
       "  -4.050629651523535,\n",
       "  -4.543336563997443,\n",
       "  -4.634047950038962,\n",
       "  -3.846882188029939,\n",
       "  -3.8009119848901234,\n",
       "  -3.6581247097147895,\n",
       "  -3.998197570485027,\n",
       "  -3.4507872050958186,\n",
       "  -3.8961600410754844,\n",
       "  -4.1244710171042165,\n",
       "  -3.861020286175225,\n",
       "  -3.8147402024050034,\n",
       "  -4.268338066211593,\n",
       "  -3.4019136583321457,\n",
       "  -4.661723744699776,\n",
       "  -3.6614719013506143,\n",
       "  -3.779745265137043,\n",
       "  -3.994557770046501,\n",
       "  -4.528318678174241,\n",
       "  -4.150206862853201,\n",
       "  -3.860504978348631,\n",
       "  -4.081284741563373,\n",
       "  -3.748447890866931,\n",
       "  -3.9393307529913626,\n",
       "  -3.947581372226004,\n",
       "  -4.466405186193472,\n",
       "  -4.051503175791403,\n",
       "  -3.8898500666871234,\n",
       "  -3.749654198335276,\n",
       "  -3.8086076280345393,\n",
       "  -3.9749327348997374,\n",
       "  -3.911924980897019,\n",
       "  -4.100813294888706,\n",
       "  -4.442120743372652,\n",
       "  -4.370239319002537,\n",
       "  -4.51598962999748,\n",
       "  -3.7428564371644666,\n",
       "  -4.178584665573425,\n",
       "  -4.2617662939366205,\n",
       "  -3.951925268527288,\n",
       "  -3.926375300543133,\n",
       "  -3.984903071426273,\n",
       "  -4.00400160052848,\n",
       "  -3.9902362069143744,\n",
       "  -4.227040050633001,\n",
       "  -4.386352985250123,\n",
       "  -4.2545881729556845,\n",
       "  -4.058325041600878,\n",
       "  -4.0078416402882056,\n",
       "  -4.01573037360902,\n",
       "  -3.9177224311965846,\n",
       "  -4.017845191868021,\n",
       "  -4.560296739602896,\n",
       "  -3.83057353360291,\n",
       "  -4.360306056802138,\n",
       "  -3.9981368976543696,\n",
       "  -3.7973997935229598,\n",
       "  -3.9194041884275888,\n",
       "  -4.071540393932675,\n",
       "  -4.445915104525772,\n",
       "  -4.189492236003357,\n",
       "  -4.412286413116044,\n",
       "  -4.098206577507327,\n",
       "  -4.521576338692332,\n",
       "  -3.7110172462919047,\n",
       "  -4.260450598226142,\n",
       "  -4.378102745616091,\n",
       "  -4.643382075944966],\n",
       " '# trainable params': 341201,\n",
       " 'random_seed': 777,\n",
       " 'best_epoch': 51,\n",
       " 'batch_size': 64}"
      ]
     },
     "execution_count": 11,
     "metadata": {},
     "output_type": "execute_result"
    }
   ],
   "source": [
    "final_res = {'train_rmse':best_train_rmse, \n",
    "             'valid_rmse':best_valid_rmse, \n",
    "             'test_rmse':best_test_rmse,              \n",
    "             'etc_rmse':best_etc_rmse,\n",
    "\n",
    "#              'train_pred_y':best_train_pred_y,\n",
    "#              'test_pred_y':best_test_pred_y,\n",
    "             'etc_pred_y':best_etc_pred_y, \n",
    "\n",
    "\n",
    "             '# trainable params': count_params(model),\n",
    "             'random_seed':seed, \n",
    "             'best_epoch': best_epoch,\n",
    "\n",
    "             'batch_size':batch_size,\n",
    "             #'lr': lr,\n",
    "\n",
    "            }\n",
    "\n",
    "final_res"
   ]
  },
  {
   "cell_type": "code",
   "execution_count": null,
   "metadata": {},
   "outputs": [],
   "source": []
  },
  {
   "cell_type": "code",
   "execution_count": null,
   "metadata": {},
   "outputs": [],
   "source": []
  },
  {
   "cell_type": "code",
   "execution_count": null,
   "metadata": {},
   "outputs": [],
   "source": []
  },
  {
   "cell_type": "code",
   "execution_count": null,
   "metadata": {},
   "outputs": [],
   "source": []
  }
 ],
 "metadata": {
  "kernelspec": {
   "display_name": "Python 3",
   "language": "python",
   "name": "python3"
  },
  "language_info": {
   "codemirror_mode": {
    "name": "ipython",
    "version": 3
   },
   "file_extension": ".py",
   "mimetype": "text/x-python",
   "name": "python",
   "nbconvert_exporter": "python",
   "pygments_lexer": "ipython3",
   "version": "3.6.9"
  }
 },
 "nbformat": 4,
 "nbformat_minor": 4
}
