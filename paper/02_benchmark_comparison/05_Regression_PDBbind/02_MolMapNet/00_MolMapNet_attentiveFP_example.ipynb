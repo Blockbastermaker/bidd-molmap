{
 "cells": [
  {
   "cell_type": "code",
   "execution_count": 1,
   "metadata": {},
   "outputs": [
    {
     "name": "stderr",
     "output_type": "stream",
     "text": [
      "/home/shenwanxiang/anaconda3/envs/deepchem/lib/python3.6/site-packages/tensorflow/python/framework/dtypes.py:516: FutureWarning: Passing (type, 1) or '1type' as a synonym of type is deprecated; in a future version of numpy, it will be understood as (type, (1,)) / '(1,)type'.\n",
      "  _np_qint8 = np.dtype([(\"qint8\", np.int8, 1)])\n",
      "/home/shenwanxiang/anaconda3/envs/deepchem/lib/python3.6/site-packages/tensorflow/python/framework/dtypes.py:517: FutureWarning: Passing (type, 1) or '1type' as a synonym of type is deprecated; in a future version of numpy, it will be understood as (type, (1,)) / '(1,)type'.\n",
      "  _np_quint8 = np.dtype([(\"quint8\", np.uint8, 1)])\n",
      "/home/shenwanxiang/anaconda3/envs/deepchem/lib/python3.6/site-packages/tensorflow/python/framework/dtypes.py:518: FutureWarning: Passing (type, 1) or '1type' as a synonym of type is deprecated; in a future version of numpy, it will be understood as (type, (1,)) / '(1,)type'.\n",
      "  _np_qint16 = np.dtype([(\"qint16\", np.int16, 1)])\n",
      "/home/shenwanxiang/anaconda3/envs/deepchem/lib/python3.6/site-packages/tensorflow/python/framework/dtypes.py:519: FutureWarning: Passing (type, 1) or '1type' as a synonym of type is deprecated; in a future version of numpy, it will be understood as (type, (1,)) / '(1,)type'.\n",
      "  _np_quint16 = np.dtype([(\"quint16\", np.uint16, 1)])\n",
      "/home/shenwanxiang/anaconda3/envs/deepchem/lib/python3.6/site-packages/tensorflow/python/framework/dtypes.py:520: FutureWarning: Passing (type, 1) or '1type' as a synonym of type is deprecated; in a future version of numpy, it will be understood as (type, (1,)) / '(1,)type'.\n",
      "  _np_qint32 = np.dtype([(\"qint32\", np.int32, 1)])\n",
      "/home/shenwanxiang/anaconda3/envs/deepchem/lib/python3.6/site-packages/tensorflow/python/framework/dtypes.py:525: FutureWarning: Passing (type, 1) or '1type' as a synonym of type is deprecated; in a future version of numpy, it will be understood as (type, (1,)) / '(1,)type'.\n",
      "  np_resource = np.dtype([(\"resource\", np.ubyte, 1)])\n",
      "/home/shenwanxiang/anaconda3/envs/deepchem/lib/python3.6/site-packages/tensorboard/compat/tensorflow_stub/dtypes.py:541: FutureWarning: Passing (type, 1) or '1type' as a synonym of type is deprecated; in a future version of numpy, it will be understood as (type, (1,)) / '(1,)type'.\n",
      "  _np_qint8 = np.dtype([(\"qint8\", np.int8, 1)])\n",
      "/home/shenwanxiang/anaconda3/envs/deepchem/lib/python3.6/site-packages/tensorboard/compat/tensorflow_stub/dtypes.py:542: FutureWarning: Passing (type, 1) or '1type' as a synonym of type is deprecated; in a future version of numpy, it will be understood as (type, (1,)) / '(1,)type'.\n",
      "  _np_quint8 = np.dtype([(\"quint8\", np.uint8, 1)])\n",
      "/home/shenwanxiang/anaconda3/envs/deepchem/lib/python3.6/site-packages/tensorboard/compat/tensorflow_stub/dtypes.py:543: FutureWarning: Passing (type, 1) or '1type' as a synonym of type is deprecated; in a future version of numpy, it will be understood as (type, (1,)) / '(1,)type'.\n",
      "  _np_qint16 = np.dtype([(\"qint16\", np.int16, 1)])\n",
      "/home/shenwanxiang/anaconda3/envs/deepchem/lib/python3.6/site-packages/tensorboard/compat/tensorflow_stub/dtypes.py:544: FutureWarning: Passing (type, 1) or '1type' as a synonym of type is deprecated; in a future version of numpy, it will be understood as (type, (1,)) / '(1,)type'.\n",
      "  _np_quint16 = np.dtype([(\"quint16\", np.uint16, 1)])\n",
      "/home/shenwanxiang/anaconda3/envs/deepchem/lib/python3.6/site-packages/tensorboard/compat/tensorflow_stub/dtypes.py:545: FutureWarning: Passing (type, 1) or '1type' as a synonym of type is deprecated; in a future version of numpy, it will be understood as (type, (1,)) / '(1,)type'.\n",
      "  _np_qint32 = np.dtype([(\"qint32\", np.int32, 1)])\n",
      "/home/shenwanxiang/anaconda3/envs/deepchem/lib/python3.6/site-packages/tensorboard/compat/tensorflow_stub/dtypes.py:550: FutureWarning: Passing (type, 1) or '1type' as a synonym of type is deprecated; in a future version of numpy, it will be understood as (type, (1,)) / '(1,)type'.\n",
      "  np_resource = np.dtype([(\"resource\", np.ubyte, 1)])\n"
     ]
    }
   ],
   "source": [
    "from molmap import dataset\n",
    "from molmap import loadmap\n",
    "import molmap\n",
    "\n",
    "import matplotlib.pyplot as plt\n",
    "from joblib import dump, load\n",
    "from tqdm import tqdm\n",
    "import pandas as pd\n",
    "tqdm.pandas(ascii=True)\n",
    "\n",
    "import numpy as np\n",
    "import tensorflow as tf\n",
    "from tensorflow.keras.utils import plot_model\n",
    "from tensorflow.keras import Model, Input\n",
    "from tensorflow.keras.layers import MaxPool2D, GlobalMaxPool2D, BatchNormalization, Activation\n",
    "from tensorflow.keras.layers import Conv2D, Concatenate,Flatten, Dense, Dropout\n",
    "\n",
    "%matplotlib inline\n",
    "#use the second GPU, if negative value, CPUs will be used\n",
    "import os\n",
    "os.environ[\"CUDA_VISIBLE_DEVICES\"]=\"1\"\n",
    "\n"
   ]
  },
  {
   "cell_type": "code",
   "execution_count": 2,
   "metadata": {},
   "outputs": [],
   "source": [
    "\n",
    "def Inception(inputs, units = 8, strides = 1):\n",
    "    \"\"\"\n",
    "    naive google inception block\n",
    "    \"\"\"\n",
    "    x1 = Conv2D(units, 5, padding='same', activation = 'relu', strides = strides)(inputs)\n",
    "    x2 = Conv2D(units, 3, padding='same', activation = 'relu', strides = strides)(inputs)\n",
    "    x3 = Conv2D(units, 1, padding='same', activation = 'relu', strides = strides)(inputs)\n",
    "    outputs = Concatenate()([x1, x2, x3])    \n",
    "    return outputs\n",
    "\n",
    "\n",
    "def SinglePathClassificationModel(molmap_shape,  n_outputs = 1, strides = 1):\n",
    "    \"\"\"molmap_shape: w, h, c\"\"\"\n",
    "    \n",
    "    assert len(molmap_shape) == 3\n",
    "    inputs = Input(molmap_shape)\n",
    "    \n",
    "    conv1 = Conv2D(48, 13, padding = 'same', activation='relu', strides = 1)(inputs)\n",
    "    \n",
    "    conv1 = MaxPool2D(pool_size = 3, strides = 2, padding = 'same')(conv1) #p1\n",
    "    \n",
    "    incept1 = Inception(conv1, strides = 1, units = 32)\n",
    "    \n",
    "    incept1 = MaxPool2D(pool_size = 3, strides = 2, padding = 'same')(incept1) #p2\n",
    "    \n",
    "    incept2 = Inception(incept1, strides = 1, units = 64)\n",
    "    \n",
    "    #flatten\n",
    "    flat1 = GlobalMaxPool2D()(incept2)   \n",
    "    d1 = Dense(128,activation='relu')(flat1)\n",
    "    d1 = Dense(64,activation='relu')(d1)\n",
    "    outputs = Dense(n_outputs,activation='linear')(d1)\n",
    "    \n",
    "    model = tf.keras.Model(inputs=inputs, outputs=outputs)\n",
    "    \n",
    "    return model\n",
    "\n",
    "def DoublePathClassificationModel(molmap1_size, molmap2_size, n_outputs = 1):\n",
    "    \n",
    "    ## first inputs\n",
    "    d_inputs1 = Input(molmap1_size)\n",
    "    d_conv1 = Conv2D(48, 13, padding = 'same', activation='relu', strides = 1)(d_inputs1)\n",
    "    d_pool1 = MaxPool2D(pool_size = 3, strides = 2, padding = 'same')(d_conv1) #p1\n",
    "    d_incept1 = Inception(d_pool1, strides = 1, units = 32)\n",
    "    d_pool2 = MaxPool2D(pool_size = 3, strides = 2, padding = 'same')(d_incept1) #p2\n",
    "    d_incept2 = Inception(d_pool2, strides = 1, units = 64)\n",
    "    d_flat1 = GlobalMaxPool2D()(d_incept2)\n",
    "\n",
    "    \n",
    "    ## second inputs\n",
    "    f_inputs1 = Input(molmap2_size)\n",
    "    f_conv1 = Conv2D(48, 13, padding = 'same', activation='relu', strides = 1)(f_inputs1)\n",
    "    f_pool1 = MaxPool2D(pool_size = 3, strides = 2, padding = 'same')(f_conv1) #p1\n",
    "    f_incept1 = Inception(f_pool1, strides = 1, units = 32)\n",
    "    f_pool2 = MaxPool2D(pool_size = 3, strides = 2, padding = 'same')(f_incept1) #p2\n",
    "    f_incept2 = Inception(f_pool2, strides = 1, units = 64)\n",
    "    f_flat1 = GlobalMaxPool2D()(f_incept2)    \n",
    "    \n",
    "    ## concat\n",
    "    merge = Concatenate()([d_flat1, f_flat1]) \n",
    "    d1 = Dense(128,activation='relu')(merge)\n",
    "    d1 = Dense(64,activation='relu')(d1)\n",
    "    outputs = Dense(n_outputs, activation='linear')(d1)\n",
    "    \n",
    "    model = tf.keras.Model(inputs=[d_inputs1, f_inputs1], outputs=outputs)\n",
    "    \n",
    "    return model"
   ]
  },
  {
   "cell_type": "code",
   "execution_count": 3,
   "metadata": {},
   "outputs": [
    {
     "name": "stdout",
     "output_type": "stream",
     "text": [
      "7889 984 988\n"
     ]
    }
   ],
   "source": [
    "df = pd.read_csv('../01_AttentiveFP/pdb_bind_full_attentivefp.csv',index_col = 0)\n",
    "df = df.reset_index(drop=True)\n",
    "\n",
    "train_idx = df[df['group'] == 'train'].index\n",
    "valid_idx = df[df['group'] == 'valid'].index\n",
    "test_idx = df[df['group'] == 'test'].index\n",
    "print(len(train_idx), len(valid_idx), len(test_idx))\n"
   ]
  },
  {
   "cell_type": "code",
   "execution_count": 4,
   "metadata": {},
   "outputs": [
    {
     "name": "stderr",
     "output_type": "stream",
     "text": [
      "100%|##########| 9861/9861 [28:17<00:00,  7.75it/s]  \n",
      "100%|##########| 9861/9861 [05:42<00:00, 28.83it/s]\n"
     ]
    }
   ],
   "source": [
    "seed = 777\n",
    "np.random.seed(seed)\n",
    "tf.set_random_seed(seed)\n",
    "\n",
    "# #load dataset\n",
    "# data = dataset.load_malaria()\n",
    "# df = data.data\n",
    "\n",
    "# calculate feature\n",
    "X1_name =  './descriptor_grid_split_attentiveFP.data'\n",
    "X2_name =  './fingerprint_grid_split_attentiveFP.data'\n",
    "\n",
    "if os.path.exists(X1_name):\n",
    "    X1 = load(X1_name)\n",
    "else:\n",
    "    mp1 = loadmap('../../../descriptor_grid_split.mp')\n",
    "    X1 = mp1.batch_transform(df.smiles, n_jobs = 8)\n",
    "    dump(X1, X1_name)\n",
    "    \n",
    "if os.path.exists(X2_name):\n",
    "    X2 = load(X2_name)\n",
    "else:\n",
    "    mp2 = loadmap('../../../fingerprint_grid_split.mp')\n",
    "    X2 = mp2.batch_transform(df.smiles, n_jobs = 8)\n",
    "    dump(X2, X2_name)"
   ]
  },
  {
   "cell_type": "code",
   "execution_count": 5,
   "metadata": {},
   "outputs": [
    {
     "name": "stdout",
     "output_type": "stream",
     "text": [
      "7889 984 988\n"
     ]
    }
   ],
   "source": [
    "task = '-logKd/Ki'\n",
    "Y = df[[task]].values\n",
    "\n",
    "\n",
    "trainY = Y[train_idx]\n",
    "validY = Y[valid_idx]\n",
    "testY = Y[test_idx]\n",
    "\n",
    "\n",
    "# trainX = X2[train_idx]   \n",
    "# validX =  X2[valid_idx]                  \n",
    "# testX  = X2[test_idx]\n",
    "\n",
    "trainX = (X1[train_idx], X2[train_idx])    \n",
    "validX = (X1[valid_idx], X2[valid_idx])                    \n",
    "testX  = (X1[test_idx], X2[test_idx]) \n",
    "\n",
    "\n",
    "print(len(train_idx), len(valid_idx), len(test_idx))"
   ]
  },
  {
   "cell_type": "code",
   "execution_count": 6,
   "metadata": {},
   "outputs": [
    {
     "name": "stdout",
     "output_type": "stream",
     "text": [
      "WARNING:tensorflow:From /home/shenwanxiang/anaconda3/envs/deepchem/lib/python3.6/site-packages/tensorflow/python/ops/init_ops.py:1251: calling VarianceScaling.__init__ (from tensorflow.python.ops.init_ops) with dtype is deprecated and will be removed in a future version.\n",
      "Instructions for updating:\n",
      "Call initializer instance with the dtype argument instead of passing it to the constructor\n"
     ]
    }
   ],
   "source": [
    "from cbks import RegressionPerformance, EarlyStoppingAtMinLoss\n",
    "molmap1_size = X1.shape[1:]\n",
    "molmap2_size = X2.shape[1:]\n",
    "model = DoublePathClassificationModel(molmap1_size, molmap2_size, n_outputs = Y.shape[1]) \n",
    "#model = SinglePathClassificationModel(molmap2_size, n_outputs = Y.shape[1]) "
   ]
  },
  {
   "cell_type": "code",
   "execution_count": 7,
   "metadata": {},
   "outputs": [],
   "source": [
    "earlystop = EarlyStoppingAtMinLoss(patience=20, criteria = 'val_loss')\n",
    "performace = RegressionPerformance((trainX, trainY), (validX, validY))\n",
    "lr = tf.keras.optimizers.Adam(lr=0.0001, beta_1=0.9, beta_2=0.999, epsilon=1e-08, decay=0.0) #\n",
    "model.compile(optimizer = lr, loss = 'mse')"
   ]
  },
  {
   "cell_type": "code",
   "execution_count": 8,
   "metadata": {},
   "outputs": [
    {
     "name": "stdout",
     "output_type": "stream",
     "text": [
      "epoch: 0001, loss: 0.8999 - val_loss: 0.6605; rmse: 0.8732 - rmse_val: 0.8127;  r2: 0.2732 - r2_val: 0.2300                                                                                                    \n",
      "epoch: 0002, loss: 0.7453 - val_loss: 0.6079; rmse: 0.8388 - rmse_val: 0.7797;  r2: 0.3294 - r2_val: 0.2913                                                                                                    \n",
      "epoch: 0003, loss: 0.6991 - val_loss: 0.5755; rmse: 0.8162 - rmse_val: 0.7586;  r2: 0.3649 - r2_val: 0.3291                                                                                                    \n",
      "epoch: 0004, loss: 0.6617 - val_loss: 0.6099; rmse: 0.8060 - rmse_val: 0.7809;  r2: 0.3807 - r2_val: 0.2890                                                                                                    \n",
      "epoch: 0005, loss: 0.6439 - val_loss: 0.5932; rmse: 0.7880 - rmse_val: 0.7702;  r2: 0.4081 - r2_val: 0.3084                                                                                                    \n",
      "epoch: 0006, loss: 0.6169 - val_loss: 0.5720; rmse: 0.7689 - rmse_val: 0.7563;  r2: 0.4364 - r2_val: 0.3332                                                                                                    \n",
      "epoch: 0007, loss: 0.6018 - val_loss: 0.5686; rmse: 0.7543 - rmse_val: 0.7540;  r2: 0.4577 - r2_val: 0.3372                                                                                                    \n",
      "epoch: 0008, loss: 0.5742 - val_loss: 0.5503; rmse: 0.7355 - rmse_val: 0.7419;  r2: 0.4843 - r2_val: 0.3584                                                                                                    \n",
      "epoch: 0009, loss: 0.5526 - val_loss: 0.5389; rmse: 0.7215 - rmse_val: 0.7341;  r2: 0.5038 - r2_val: 0.3718                                                                                                    \n",
      "epoch: 0010, loss: 0.5421 - val_loss: 0.5677; rmse: 0.7121 - rmse_val: 0.7535;  r2: 0.5166 - r2_val: 0.3382                                                                                                    \n",
      "epoch: 0011, loss: 0.5079 - val_loss: 0.5778; rmse: 0.6983 - rmse_val: 0.7601;  r2: 0.5352 - r2_val: 0.3265                                                                                                    \n",
      "epoch: 0012, loss: 0.4849 - val_loss: 0.6702; rmse: 0.7257 - rmse_val: 0.8186;  r2: 0.4980 - r2_val: 0.2187                                                                                                    \n",
      "epoch: 0013, loss: 0.4672 - val_loss: 0.5244; rmse: 0.6633 - rmse_val: 0.7242;  r2: 0.5806 - r2_val: 0.3886                                                                                                    \n",
      "epoch: 0014, loss: 0.4410 - val_loss: 0.5449; rmse: 0.6389 - rmse_val: 0.7382;  r2: 0.6108 - r2_val: 0.3647                                                                                                    \n",
      "epoch: 0015, loss: 0.4541 - val_loss: 0.5388; rmse: 0.6308 - rmse_val: 0.7340;  r2: 0.6207 - r2_val: 0.3719                                                                                                    \n",
      "epoch: 0016, loss: 0.4125 - val_loss: 0.5431; rmse: 0.6347 - rmse_val: 0.7370;  r2: 0.6160 - r2_val: 0.3668                                                                                                    \n",
      "epoch: 0017, loss: 0.3984 - val_loss: 0.5570; rmse: 0.5984 - rmse_val: 0.7463;  r2: 0.6586 - r2_val: 0.3506                                                                                                    \n",
      "epoch: 0018, loss: 0.3723 - val_loss: 0.5749; rmse: 0.5855 - rmse_val: 0.7582;  r2: 0.6732 - r2_val: 0.3298                                                                                                    \n",
      "epoch: 0019, loss: 0.3553 - val_loss: 0.5673; rmse: 0.5691 - rmse_val: 0.7532;  r2: 0.6912 - r2_val: 0.3387                                                                                                    \n",
      "epoch: 0020, loss: 0.3520 - val_loss: 0.5899; rmse: 0.5635 - rmse_val: 0.7680;  r2: 0.6973 - r2_val: 0.3123                                                                                                    \n",
      "epoch: 0021, loss: 0.3444 - val_loss: 0.5657; rmse: 0.5849 - rmse_val: 0.7521;  r2: 0.6739 - r2_val: 0.3405                                                                                                    \n",
      "epoch: 0022, loss: 0.3124 - val_loss: 0.6069; rmse: 0.5394 - rmse_val: 0.7791;  r2: 0.7227 - r2_val: 0.2925                                                                                                    \n",
      "epoch: 0023, loss: 0.3027 - val_loss: 0.6808; rmse: 0.5738 - rmse_val: 0.8251;  r2: 0.6861 - r2_val: 0.2063                                                                                                    \n",
      "epoch: 0024, loss: 0.2908 - val_loss: 0.5946; rmse: 0.5171 - rmse_val: 0.7711;  r2: 0.7451 - r2_val: 0.3068                                                                                                    \n",
      "epoch: 0025, loss: 0.2807 - val_loss: 0.5817; rmse: 0.4948 - rmse_val: 0.7627;  r2: 0.7666 - r2_val: 0.3219                                                                                                    \n",
      "epoch: 0026, loss: 0.2625 - val_loss: 0.6334; rmse: 0.4971 - rmse_val: 0.7959;  r2: 0.7644 - r2_val: 0.2616                                                                                                    \n",
      "epoch: 0027, loss: 0.2470 - val_loss: 0.6850; rmse: 0.5173 - rmse_val: 0.8276;  r2: 0.7449 - r2_val: 0.2015                                                                                                    \n",
      "epoch: 0028, loss: 0.2505 - val_loss: 0.6445; rmse: 0.4762 - rmse_val: 0.8028;  r2: 0.7839 - r2_val: 0.2487                                                                                                    \n",
      "epoch: 0029, loss: 0.2304 - val_loss: 0.6500; rmse: 0.4729 - rmse_val: 0.8062;  r2: 0.7868 - r2_val: 0.2423                                                                                                    \n",
      "epoch: 0030, loss: 0.2371 - val_loss: 0.6041; rmse: 0.4433 - rmse_val: 0.7773;  r2: 0.8127 - r2_val: 0.2957                                                                                                    \n",
      "epoch: 0031, loss: 0.2189 - val_loss: 0.6198; rmse: 0.4329 - rmse_val: 0.7873;  r2: 0.8213 - r2_val: 0.2775                                                                                                    \n",
      "epoch: 0032, loss: 0.2366 - val_loss: 0.5909; rmse: 0.4325 - rmse_val: 0.7687;  r2: 0.8217 - r2_val: 0.3111                                                                                                    \n",
      "epoch: 0033, loss: 0.2048 - val_loss: 0.6561; rmse: 0.4353 - rmse_val: 0.8100;  r2: 0.8194 - r2_val: 0.2352                                                                                                    \n",
      "\n",
      "Restoring model weights from the end of the best epoch.\n",
      "\n",
      "Epoch 00033: early stopping\n"
     ]
    },
    {
     "data": {
      "text/plain": [
       "<tensorflow.python.keras.callbacks.History at 0x7fac5517d240>"
      ]
     },
     "execution_count": 8,
     "metadata": {},
     "output_type": "execute_result"
    }
   ],
   "source": [
    "model.fit(trainX, trainY, batch_size=128, \n",
    "      epochs=500, verbose= 0, shuffle = True, \n",
    "      validation_data = (validX, validY), \n",
    "      callbacks=[performace, earlystop]) "
   ]
  },
  {
   "cell_type": "code",
   "execution_count": 9,
   "metadata": {},
   "outputs": [
    {
     "data": {
      "text/plain": [
       "<matplotlib.axes._subplots.AxesSubplot at 0x7fac4c34cb70>"
      ]
     },
     "execution_count": 9,
     "metadata": {},
     "output_type": "execute_result"
    },
    {
     "data": {
      "image/png": "[encoded data removed]",
      "text/plain": [
       "<Figure size 432x288 with 1 Axes>"
      ]
     },
     "metadata": {
      "needs_background": "light"
     },
     "output_type": "display_data"
    }
   ],
   "source": [
    "pd.DataFrame(performace.history)[['training_loss','validation_loss']].plot()"
   ]
  },
  {
   "cell_type": "code",
   "execution_count": 10,
   "metadata": {},
   "outputs": [
    {
     "data": {
      "text/plain": [
       "([0.6632753956717073], [0.5806213408982319])"
      ]
     },
     "execution_count": 10,
     "metadata": {},
     "output_type": "execute_result"
    }
   ],
   "source": [
    "performace.evaluate(trainX, trainY)"
   ]
  },
  {
   "cell_type": "code",
   "execution_count": 11,
   "metadata": {},
   "outputs": [
    {
     "data": {
      "text/plain": [
       "([0.7241841655343672], [0.3886199556248515])"
      ]
     },
     "execution_count": 11,
     "metadata": {},
     "output_type": "execute_result"
    }
   ],
   "source": [
    "performace.evaluate(validX, validY)"
   ]
  },
  {
   "cell_type": "code",
   "execution_count": 12,
   "metadata": {},
   "outputs": [
    {
     "data": {
      "text/plain": [
       "([0.7444625546599932], [0.19028667926196596])"
      ]
     },
     "execution_count": 12,
     "metadata": {},
     "output_type": "execute_result"
    }
   ],
   "source": [
    "performace.evaluate(testX, testY)"
   ]
  },
  {
   "cell_type": "code",
   "execution_count": null,
   "metadata": {},
   "outputs": [],
   "source": []
  },
  {
   "cell_type": "code",
   "execution_count": null,
   "metadata": {},
   "outputs": [],
   "source": []
  },
  {
   "cell_type": "code",
   "execution_count": null,
   "metadata": {},
   "outputs": [],
   "source": []
  },
  {
   "cell_type": "code",
   "execution_count": null,
   "metadata": {},
   "outputs": [],
   "source": []
  }
 ],
 "metadata": {
  "kernelspec": {
   "display_name": "Python 3",
   "language": "python",
   "name": "python3"
  },
  "language_info": {
   "codemirror_mode": {
    "name": "ipython",
    "version": 3
   },
   "file_extension": ".py",
   "mimetype": "text/x-python",
   "name": "python",
   "nbconvert_exporter": "python",
   "pygments_lexer": "ipython3",
   "version": "3.6.9"
  }
 },
 "nbformat": 4,
 "nbformat_minor": 4
}
