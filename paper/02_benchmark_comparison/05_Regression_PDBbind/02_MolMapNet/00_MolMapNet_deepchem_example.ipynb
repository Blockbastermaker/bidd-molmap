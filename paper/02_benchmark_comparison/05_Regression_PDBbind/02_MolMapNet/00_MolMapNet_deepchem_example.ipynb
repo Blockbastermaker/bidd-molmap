{
 "cells": [
  {
   "cell_type": "code",
   "execution_count": 1,
   "metadata": {},
   "outputs": [
    {
     "name": "stderr",
     "output_type": "stream",
     "text": [
      "/home/shenwanxiang/anaconda3/envs/deepchem/lib/python3.6/site-packages/tensorflow/python/framework/dtypes.py:516: FutureWarning: Passing (type, 1) or '1type' as a synonym of type is deprecated; in a future version of numpy, it will be understood as (type, (1,)) / '(1,)type'.\n",
      "  _np_qint8 = np.dtype([(\"qint8\", np.int8, 1)])\n",
      "/home/shenwanxiang/anaconda3/envs/deepchem/lib/python3.6/site-packages/tensorflow/python/framework/dtypes.py:517: FutureWarning: Passing (type, 1) or '1type' as a synonym of type is deprecated; in a future version of numpy, it will be understood as (type, (1,)) / '(1,)type'.\n",
      "  _np_quint8 = np.dtype([(\"quint8\", np.uint8, 1)])\n",
      "/home/shenwanxiang/anaconda3/envs/deepchem/lib/python3.6/site-packages/tensorflow/python/framework/dtypes.py:518: FutureWarning: Passing (type, 1) or '1type' as a synonym of type is deprecated; in a future version of numpy, it will be understood as (type, (1,)) / '(1,)type'.\n",
      "  _np_qint16 = np.dtype([(\"qint16\", np.int16, 1)])\n",
      "/home/shenwanxiang/anaconda3/envs/deepchem/lib/python3.6/site-packages/tensorflow/python/framework/dtypes.py:519: FutureWarning: Passing (type, 1) or '1type' as a synonym of type is deprecated; in a future version of numpy, it will be understood as (type, (1,)) / '(1,)type'.\n",
      "  _np_quint16 = np.dtype([(\"quint16\", np.uint16, 1)])\n",
      "/home/shenwanxiang/anaconda3/envs/deepchem/lib/python3.6/site-packages/tensorflow/python/framework/dtypes.py:520: FutureWarning: Passing (type, 1) or '1type' as a synonym of type is deprecated; in a future version of numpy, it will be understood as (type, (1,)) / '(1,)type'.\n",
      "  _np_qint32 = np.dtype([(\"qint32\", np.int32, 1)])\n",
      "/home/shenwanxiang/anaconda3/envs/deepchem/lib/python3.6/site-packages/tensorflow/python/framework/dtypes.py:525: FutureWarning: Passing (type, 1) or '1type' as a synonym of type is deprecated; in a future version of numpy, it will be understood as (type, (1,)) / '(1,)type'.\n",
      "  np_resource = np.dtype([(\"resource\", np.ubyte, 1)])\n",
      "/home/shenwanxiang/anaconda3/envs/deepchem/lib/python3.6/site-packages/tensorboard/compat/tensorflow_stub/dtypes.py:541: FutureWarning: Passing (type, 1) or '1type' as a synonym of type is deprecated; in a future version of numpy, it will be understood as (type, (1,)) / '(1,)type'.\n",
      "  _np_qint8 = np.dtype([(\"qint8\", np.int8, 1)])\n",
      "/home/shenwanxiang/anaconda3/envs/deepchem/lib/python3.6/site-packages/tensorboard/compat/tensorflow_stub/dtypes.py:542: FutureWarning: Passing (type, 1) or '1type' as a synonym of type is deprecated; in a future version of numpy, it will be understood as (type, (1,)) / '(1,)type'.\n",
      "  _np_quint8 = np.dtype([(\"quint8\", np.uint8, 1)])\n",
      "/home/shenwanxiang/anaconda3/envs/deepchem/lib/python3.6/site-packages/tensorboard/compat/tensorflow_stub/dtypes.py:543: FutureWarning: Passing (type, 1) or '1type' as a synonym of type is deprecated; in a future version of numpy, it will be understood as (type, (1,)) / '(1,)type'.\n",
      "  _np_qint16 = np.dtype([(\"qint16\", np.int16, 1)])\n",
      "/home/shenwanxiang/anaconda3/envs/deepchem/lib/python3.6/site-packages/tensorboard/compat/tensorflow_stub/dtypes.py:544: FutureWarning: Passing (type, 1) or '1type' as a synonym of type is deprecated; in a future version of numpy, it will be understood as (type, (1,)) / '(1,)type'.\n",
      "  _np_quint16 = np.dtype([(\"quint16\", np.uint16, 1)])\n",
      "/home/shenwanxiang/anaconda3/envs/deepchem/lib/python3.6/site-packages/tensorboard/compat/tensorflow_stub/dtypes.py:545: FutureWarning: Passing (type, 1) or '1type' as a synonym of type is deprecated; in a future version of numpy, it will be understood as (type, (1,)) / '(1,)type'.\n",
      "  _np_qint32 = np.dtype([(\"qint32\", np.int32, 1)])\n",
      "/home/shenwanxiang/anaconda3/envs/deepchem/lib/python3.6/site-packages/tensorboard/compat/tensorflow_stub/dtypes.py:550: FutureWarning: Passing (type, 1) or '1type' as a synonym of type is deprecated; in a future version of numpy, it will be understood as (type, (1,)) / '(1,)type'.\n",
      "  np_resource = np.dtype([(\"resource\", np.ubyte, 1)])\n"
     ]
    }
   ],
   "source": [
    "from molmap import dataset\n",
    "from molmap import loadmap\n",
    "import molmap\n",
    "\n",
    "import matplotlib.pyplot as plt\n",
    "from joblib import dump, load\n",
    "from tqdm import tqdm\n",
    "import pandas as pd\n",
    "tqdm.pandas(ascii=True)\n",
    "\n",
    "import numpy as np\n",
    "import tensorflow as tf\n",
    "from tensorflow.keras.utils import plot_model\n",
    "from tensorflow.keras import Model, Input\n",
    "from tensorflow.keras.layers import MaxPool2D, GlobalMaxPool2D, BatchNormalization, Activation\n",
    "from tensorflow.keras.layers import Conv2D, Concatenate,Flatten, Dense, Dropout\n",
    "\n",
    "%matplotlib inline\n",
    "#use the second GPU, if negative value, CPUs will be used\n",
    "import os\n",
    "os.environ[\"CUDA_VISIBLE_DEVICES\"]=\"1\"\n",
    "\n"
   ]
  },
  {
   "cell_type": "code",
   "execution_count": 2,
   "metadata": {},
   "outputs": [],
   "source": [
    "\n",
    "def Inception(inputs, units = 8, strides = 1):\n",
    "    \"\"\"\n",
    "    naive google inception block\n",
    "    \"\"\"\n",
    "    x1 = Conv2D(units, 5, padding='same', activation = 'relu', strides = strides)(inputs)\n",
    "    x2 = Conv2D(units, 3, padding='same', activation = 'relu', strides = strides)(inputs)\n",
    "    x3 = Conv2D(units, 1, padding='same', activation = 'relu', strides = strides)(inputs)\n",
    "    outputs = Concatenate()([x1, x2, x3])    \n",
    "    return outputs\n",
    "\n",
    "\n",
    "def SinglePathClassificationModel(molmap_shape,  n_outputs = 1, strides = 1):\n",
    "    \"\"\"molmap_shape: w, h, c\"\"\"\n",
    "    \n",
    "    assert len(molmap_shape) == 3\n",
    "    inputs = Input(molmap_shape)\n",
    "    \n",
    "    conv1 = Conv2D(48, 13, padding = 'same', activation='relu', strides = 1)(inputs)\n",
    "    \n",
    "    conv1 = MaxPool2D(pool_size = 3, strides = 2, padding = 'same')(conv1) #p1\n",
    "    \n",
    "    incept1 = Inception(conv1, strides = 1, units = 32)\n",
    "    \n",
    "    incept1 = MaxPool2D(pool_size = 3, strides = 2, padding = 'same')(incept1) #p2\n",
    "    \n",
    "    incept2 = Inception(incept1, strides = 1, units = 64)\n",
    "    \n",
    "    #flatten\n",
    "    flat1 = GlobalMaxPool2D()(incept2)   \n",
    "    d1 = Dense(128,activation='relu')(flat1)\n",
    "    d1 = Dense(64,activation='relu')(d1)\n",
    "    outputs = Dense(n_outputs,activation='linear')(d1)\n",
    "    \n",
    "    model = tf.keras.Model(inputs=inputs, outputs=outputs)\n",
    "    \n",
    "    return model\n",
    "\n",
    "def DoublePathClassificationModel(molmap1_size, molmap2_size, n_outputs = 1):\n",
    "    \n",
    "    ## first inputs\n",
    "    d_inputs1 = Input(molmap1_size)\n",
    "    d_conv1 = Conv2D(48, 13, padding = 'same', activation='relu', strides = 1)(d_inputs1)\n",
    "    d_pool1 = MaxPool2D(pool_size = 3, strides = 2, padding = 'same')(d_conv1) #p1\n",
    "    d_incept1 = Inception(d_pool1, strides = 1, units = 32)\n",
    "    d_pool2 = MaxPool2D(pool_size = 3, strides = 2, padding = 'same')(d_incept1) #p2\n",
    "    d_incept2 = Inception(d_pool2, strides = 1, units = 64)\n",
    "    d_flat1 = GlobalMaxPool2D()(d_incept2)\n",
    "\n",
    "    \n",
    "    ## second inputs\n",
    "    f_inputs1 = Input(molmap2_size)\n",
    "    f_conv1 = Conv2D(48, 13, padding = 'same', activation='relu', strides = 1)(f_inputs1)\n",
    "    f_pool1 = MaxPool2D(pool_size = 3, strides = 2, padding = 'same')(f_conv1) #p1\n",
    "    f_incept1 = Inception(f_pool1, strides = 1, units = 32)\n",
    "    f_pool2 = MaxPool2D(pool_size = 3, strides = 2, padding = 'same')(f_incept1) #p2\n",
    "    f_incept2 = Inception(f_pool2, strides = 1, units = 64)\n",
    "    f_flat1 = GlobalMaxPool2D()(f_incept2)    \n",
    "    \n",
    "    ## concat\n",
    "    merge = Concatenate()([d_flat1, f_flat1]) \n",
    "    d1 = Dense(128,activation='relu')(merge)\n",
    "    d1 = Dense(64,activation='relu')(d1)\n",
    "    outputs = Dense(n_outputs, activation='linear')(d1)\n",
    "    \n",
    "    model = tf.keras.Model(inputs=[d_inputs1, f_inputs1], outputs=outputs)\n",
    "    \n",
    "    return model"
   ]
  },
  {
   "cell_type": "code",
   "execution_count": 3,
   "metadata": {},
   "outputs": [
    {
     "name": "stdout",
     "output_type": "stream",
     "text": [
      "7904 988 988\n"
     ]
    }
   ],
   "source": [
    "\n",
    "df_train = pd.read_csv('../train.csv', index_col = 0)\n",
    "df_valid = pd.read_csv('../valid.csv', index_col = 0)\n",
    "df_test = pd.read_csv('../test.csv', index_col = 0)\n",
    "\n",
    "df = df_train.append(df_valid).append(df_test)\n",
    "df =df.reset_index(drop=True)\n",
    "\n",
    "train_idx = df.index[:len(df_train)]\n",
    "valid_idx = df.index[len(df_train): len(df_train)+len(df_valid)]\n",
    "test_idx = df.index[len(df_train)+len(df_valid): len(df_train)+len(df_valid) + len(df_test)]\n",
    "\n",
    "\n",
    "print(len(df_train), len(df_valid), len(df_test))\n",
    "\n"
   ]
  },
  {
   "cell_type": "code",
   "execution_count": 4,
   "metadata": {},
   "outputs": [
    {
     "name": "stderr",
     "output_type": "stream",
     "text": [
      "100%|##########| 9880/9880 [33:59<00:00,  4.84it/s]  \n",
      "100%|##########| 9880/9880 [07:32<00:00, 21.86it/s]\n"
     ]
    }
   ],
   "source": [
    "seed = 777\n",
    "np.random.seed(seed)\n",
    "tf.set_random_seed(seed)\n",
    "\n",
    "# #load dataset\n",
    "# data = dataset.load_malaria()\n",
    "# df = data.data\n",
    "\n",
    "# calculate feature\n",
    "X1_name =  './descriptor_grid_split.data'\n",
    "X2_name =  './fingerprint_grid_split.data'\n",
    "\n",
    "if os.path.exists(X1_name):\n",
    "    X1 = load(X1_name)\n",
    "else:\n",
    "    mp1 = loadmap('../../../descriptor_grid_split.mp')\n",
    "    X1 = mp1.batch_transform(df.smiles, n_jobs = 8)\n",
    "    dump(X1, X1_name)\n",
    "    \n",
    "if os.path.exists(X2_name):\n",
    "    X2 = load(X2_name)\n",
    "else:\n",
    "    mp2 = loadmap('../../../fingerprint_grid_split.mp')\n",
    "    X2 = mp2.batch_transform(df.smiles, n_jobs = 8)\n",
    "    dump(X2, X2_name)"
   ]
  },
  {
   "cell_type": "code",
   "execution_count": 5,
   "metadata": {},
   "outputs": [
    {
     "name": "stdout",
     "output_type": "stream",
     "text": [
      "7904 988 988\n"
     ]
    }
   ],
   "source": [
    "task = '-logKd/Ki'\n",
    "Y = df[[task]].values\n",
    "\n",
    "\n",
    "trainY = Y[train_idx]\n",
    "validY = Y[valid_idx]\n",
    "testY = Y[test_idx]\n",
    "\n",
    "\n",
    "# trainX = X2[train_idx]   \n",
    "# validX =  X2[valid_idx]                  \n",
    "# testX  = X2[test_idx]\n",
    "\n",
    "trainX = (X1[train_idx], X2[train_idx])    \n",
    "validX = (X1[valid_idx], X2[valid_idx])                    \n",
    "testX  = (X1[test_idx], X2[test_idx]) \n",
    "\n",
    "\n",
    "print(len(train_idx), len(valid_idx), len(test_idx))"
   ]
  },
  {
   "cell_type": "code",
   "execution_count": 6,
   "metadata": {},
   "outputs": [
    {
     "name": "stdout",
     "output_type": "stream",
     "text": [
      "WARNING:tensorflow:From /home/shenwanxiang/anaconda3/envs/deepchem/lib/python3.6/site-packages/tensorflow/python/ops/init_ops.py:1251: calling VarianceScaling.__init__ (from tensorflow.python.ops.init_ops) with dtype is deprecated and will be removed in a future version.\n",
      "Instructions for updating:\n",
      "Call initializer instance with the dtype argument instead of passing it to the constructor\n"
     ]
    }
   ],
   "source": [
    "from cbks import RegressionPerformance, EarlyStoppingAtMinLoss\n",
    "molmap1_size = X1.shape[1:]\n",
    "molmap2_size = X2.shape[1:]\n",
    "model = DoublePathClassificationModel(molmap1_size, molmap2_size, n_outputs = Y.shape[1]) \n",
    "#model = SinglePathClassificationModel(molmap2_size, n_outputs = Y.shape[1]) "
   ]
  },
  {
   "cell_type": "code",
   "execution_count": 7,
   "metadata": {},
   "outputs": [],
   "source": [
    "earlystop = EarlyStoppingAtMinLoss(patience=20, criteria = 'val_loss')\n",
    "performace = RegressionPerformance((trainX, trainY), (validX, validY))\n",
    "lr = tf.keras.optimizers.Adam(lr=0.0001, beta_1=0.9, beta_2=0.999, epsilon=1e-08, decay=0.0) #\n",
    "model.compile(optimizer = lr, loss = 'mse')"
   ]
  },
  {
   "cell_type": "code",
   "execution_count": 8,
   "metadata": {},
   "outputs": [
    {
     "name": "stdout",
     "output_type": "stream",
     "text": [
      "epoch: 0001, loss: 0.8907 - val_loss: 0.6281; rmse: 0.8748 - rmse_val: 0.7925;  r2: 0.2703 - r2_val: 0.2660                                                                                                    \n",
      "epoch: 0002, loss: 0.7494 - val_loss: 0.5954; rmse: 0.8564 - rmse_val: 0.7716;  r2: 0.3006 - r2_val: 0.3042                                                                                                    \n",
      "epoch: 0003, loss: 0.7020 - val_loss: 0.6033; rmse: 0.8218 - rmse_val: 0.7767;  r2: 0.3559 - r2_val: 0.2950                                                                                                    \n",
      "epoch: 0004, loss: 0.6785 - val_loss: 0.5685; rmse: 0.8049 - rmse_val: 0.7540;  r2: 0.3822 - r2_val: 0.3357                                                                                                    \n",
      "epoch: 0005, loss: 0.6493 - val_loss: 0.6172; rmse: 0.8016 - rmse_val: 0.7856;  r2: 0.3872 - r2_val: 0.2787                                                                                                    \n",
      "epoch: 0006, loss: 0.6243 - val_loss: 0.6592; rmse: 0.8041 - rmse_val: 0.8119;  r2: 0.3834 - r2_val: 0.2297                                                                                                    \n",
      "epoch: 0007, loss: 0.6048 - val_loss: 0.5543; rmse: 0.7594 - rmse_val: 0.7445;  r2: 0.4502 - r2_val: 0.3522                                                                                                    \n",
      "epoch: 0008, loss: 0.5873 - val_loss: 0.5611; rmse: 0.7480 - rmse_val: 0.7490;  r2: 0.4664 - r2_val: 0.3443                                                                                                    \n",
      "epoch: 0009, loss: 0.5712 - val_loss: 0.5243; rmse: 0.7348 - rmse_val: 0.7241;  r2: 0.4852 - r2_val: 0.3873                                                                                                    \n",
      "epoch: 0010, loss: 0.5650 - val_loss: 0.5226; rmse: 0.7285 - rmse_val: 0.7229;  r2: 0.4939 - r2_val: 0.3893                                                                                                    \n",
      "epoch: 0011, loss: 0.5203 - val_loss: 0.5447; rmse: 0.6983 - rmse_val: 0.7380;  r2: 0.5350 - r2_val: 0.3634                                                                                                    \n",
      "epoch: 0012, loss: 0.5044 - val_loss: 0.5295; rmse: 0.6845 - rmse_val: 0.7277;  r2: 0.5533 - r2_val: 0.3812                                                                                                    \n",
      "epoch: 0013, loss: 0.4814 - val_loss: 0.5295; rmse: 0.6688 - rmse_val: 0.7277;  r2: 0.5735 - r2_val: 0.3812                                                                                                    \n",
      "epoch: 0014, loss: 0.4588 - val_loss: 0.5208; rmse: 0.6705 - rmse_val: 0.7217;  r2: 0.5713 - r2_val: 0.3914                                                                                                    \n",
      "epoch: 0015, loss: 0.4433 - val_loss: 0.5313; rmse: 0.6426 - rmse_val: 0.7289;  r2: 0.6062 - r2_val: 0.3792                                                                                                    \n",
      "epoch: 0016, loss: 0.4220 - val_loss: 0.5295; rmse: 0.6291 - rmse_val: 0.7277;  r2: 0.6227 - r2_val: 0.3811                                                                                                    \n",
      "epoch: 0017, loss: 0.4122 - val_loss: 0.5460; rmse: 0.6236 - rmse_val: 0.7389;  r2: 0.6291 - r2_val: 0.3619                                                                                                    \n",
      "epoch: 0018, loss: 0.3912 - val_loss: 0.5482; rmse: 0.5943 - rmse_val: 0.7404;  r2: 0.6632 - r2_val: 0.3593                                                                                                    \n",
      "epoch: 0019, loss: 0.3736 - val_loss: 0.5474; rmse: 0.6121 - rmse_val: 0.7399;  r2: 0.6428 - r2_val: 0.3602                                                                                                    \n",
      "epoch: 0020, loss: 0.3662 - val_loss: 0.5565; rmse: 0.5680 - rmse_val: 0.7460;  r2: 0.6924 - r2_val: 0.3497                                                                                                    \n",
      "epoch: 0021, loss: 0.3424 - val_loss: 0.5584; rmse: 0.5520 - rmse_val: 0.7472;  r2: 0.7094 - r2_val: 0.3475                                                                                                    \n",
      "epoch: 0022, loss: 0.3300 - val_loss: 0.5657; rmse: 0.5938 - rmse_val: 0.7521;  r2: 0.6638 - r2_val: 0.3389                                                                                                    \n",
      "epoch: 0023, loss: 0.3154 - val_loss: 0.5433; rmse: 0.5437 - rmse_val: 0.7371;  r2: 0.7181 - r2_val: 0.3651                                                                                                    \n",
      "epoch: 0024, loss: 0.3012 - val_loss: 0.5693; rmse: 0.5407 - rmse_val: 0.7545;  r2: 0.7212 - r2_val: 0.3347                                                                                                    \n",
      "epoch: 0025, loss: 0.2926 - val_loss: 0.5977; rmse: 0.5101 - rmse_val: 0.7731;  r2: 0.7519 - r2_val: 0.3015                                                                                                    \n",
      "epoch: 0026, loss: 0.2749 - val_loss: 0.5798; rmse: 0.4962 - rmse_val: 0.7615;  r2: 0.7653 - r2_val: 0.3224                                                                                                    \n",
      "epoch: 0027, loss: 0.2562 - val_loss: 0.6433; rmse: 0.5104 - rmse_val: 0.8021;  r2: 0.7516 - r2_val: 0.2482                                                                                                    \n",
      "epoch: 0028, loss: 0.2473 - val_loss: 0.5866; rmse: 0.5037 - rmse_val: 0.7659;  r2: 0.7581 - r2_val: 0.3145                                                                                                    \n",
      "epoch: 0029, loss: 0.2408 - val_loss: 0.5847; rmse: 0.4854 - rmse_val: 0.7646;  r2: 0.7753 - r2_val: 0.3167                                                                                                    \n",
      "epoch: 0030, loss: 0.2335 - val_loss: 0.5994; rmse: 0.4684 - rmse_val: 0.7742;  r2: 0.7908 - r2_val: 0.2996                                                                                                    \n",
      "epoch: 0031, loss: 0.2321 - val_loss: 0.6066; rmse: 0.4469 - rmse_val: 0.7788;  r2: 0.8096 - r2_val: 0.2912                                                                                                    \n",
      "epoch: 0032, loss: 0.2176 - val_loss: 0.6130; rmse: 0.4381 - rmse_val: 0.7829;  r2: 0.8169 - r2_val: 0.2837                                                                                                    \n",
      "epoch: 0033, loss: 0.2278 - val_loss: 0.6141; rmse: 0.4348 - rmse_val: 0.7836;  r2: 0.8197 - r2_val: 0.2823                                                                                                    \n",
      "epoch: 0034, loss: 0.2028 - val_loss: 0.6060; rmse: 0.4163 - rmse_val: 0.7784;  r2: 0.8347 - r2_val: 0.2918                                                                                                    \n",
      "\n",
      "Restoring model weights from the end of the best epoch.\n",
      "\n",
      "Epoch 00034: early stopping\n"
     ]
    },
    {
     "data": {
      "text/plain": [
       "<tensorflow.python.keras.callbacks.History at 0x7f6105f25358>"
      ]
     },
     "execution_count": 8,
     "metadata": {},
     "output_type": "execute_result"
    }
   ],
   "source": [
    "model.fit(trainX, trainY, batch_size=128, \n",
    "      epochs=500, verbose= 0, shuffle = True, \n",
    "      validation_data = (validX, validY), \n",
    "      callbacks=[performace, earlystop]) "
   ]
  },
  {
   "cell_type": "code",
   "execution_count": 15,
   "metadata": {},
   "outputs": [
    {
     "data": {
      "text/plain": [
       "<matplotlib.axes._subplots.AxesSubplot at 0x7f60306acf60>"
      ]
     },
     "execution_count": 15,
     "metadata": {},
     "output_type": "execute_result"
    },
    {
     "data": {
      "image/png": "[encoded data removed]",
      "text/plain": [
       "<Figure size 432x288 with 1 Axes>"
      ]
     },
     "metadata": {
      "needs_background": "light"
     },
     "output_type": "display_data"
    }
   ],
   "source": [
    "pd.DataFrame(performace.history)[['training_loss','validation_loss']].plot()"
   ]
  },
  {
   "cell_type": "code",
   "execution_count": 9,
   "metadata": {},
   "outputs": [
    {
     "data": {
      "text/plain": [
       "([0.6705302200486276], [0.5712723962587409])"
      ]
     },
     "execution_count": 9,
     "metadata": {},
     "output_type": "execute_result"
    }
   ],
   "source": [
    "performace.evaluate(trainX, trainY)"
   ]
  },
  {
   "cell_type": "code",
   "execution_count": 10,
   "metadata": {},
   "outputs": [
    {
     "data": {
      "text/plain": [
       "([0.7216673722851502], [0.39136290812125496])"
      ]
     },
     "execution_count": 10,
     "metadata": {},
     "output_type": "execute_result"
    }
   ],
   "source": [
    "performace.evaluate(validX, validY)"
   ]
  },
  {
   "cell_type": "code",
   "execution_count": 11,
   "metadata": {},
   "outputs": [
    {
     "data": {
      "text/plain": [
       "([0.7552520736285543], [0.16664619993492913])"
      ]
     },
     "execution_count": 11,
     "metadata": {},
     "output_type": "execute_result"
    }
   ],
   "source": [
    "performace.evaluate(testX, testY)"
   ]
  },
  {
   "cell_type": "code",
   "execution_count": null,
   "metadata": {},
   "outputs": [],
   "source": []
  },
  {
   "cell_type": "code",
   "execution_count": null,
   "metadata": {},
   "outputs": [],
   "source": []
  },
  {
   "cell_type": "code",
   "execution_count": null,
   "metadata": {},
   "outputs": [],
   "source": []
  },
  {
   "cell_type": "code",
   "execution_count": null,
   "metadata": {},
   "outputs": [],
   "source": []
  }
 ],
 "metadata": {
  "kernelspec": {
   "display_name": "Python 3",
   "language": "python",
   "name": "python3"
  },
  "language_info": {
   "codemirror_mode": {
    "name": "ipython",
    "version": 3
   },
   "file_extension": ".py",
   "mimetype": "text/x-python",
   "name": "python",
   "nbconvert_exporter": "python",
   "pygments_lexer": "ipython3",
   "version": "3.6.9"
  }
 },
 "nbformat": 4,
 "nbformat_minor": 4
}
