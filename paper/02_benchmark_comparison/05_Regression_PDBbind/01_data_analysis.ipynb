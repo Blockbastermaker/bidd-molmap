{
 "cells": [
  {
   "cell_type": "code",
   "execution_count": 2,
   "metadata": {},
   "outputs": [],
   "source": [
    "import pandas as pd\n",
    "from glob import glob\n",
    "from sklearn.metrics import mean_squared_error as mse\n",
    "from scipy.stats.stats import pearsonr as pcc\n",
    "import os"
   ]
  },
  {
   "cell_type": "code",
   "execution_count": 3,
   "metadata": {},
   "outputs": [
    {
     "name": "stdout",
     "output_type": "stream",
     "text": [
      "./results_attentivefp/results_AttentiveFP.csv\n",
      "./results_attentivefp/results_MolMapNet_fingerprint.csv\n",
      "./results_attentivefp/results_MolMapNet_descriptor.csv\n",
      "./results_attentivefp/results_MolMapNet_both.csv\n"
     ]
    }
   ],
   "source": [
    "csv_files = glob('./results_attentivefp/*.csv')\n",
    "csv_files = [i for i in csv_files if 'results.csv' not in i]\n",
    "\n",
    "def get_results(csv):\n",
    "    print(csv)\n",
    "    df = pd.read_csv(csv,index_col=0)\n",
    "\n",
    "    res = { 'model': os.path.basename(csv).split('results_')[-1].replace('.csv',''),\n",
    "            'random_seed': df.random_seed.tolist(),\n",
    "            'best_epoch': df.best_epoch.tolist(),\n",
    "            'batch_size': df.batch_size.iloc[0],\n",
    "            'lr': df.lr.iloc[0],\n",
    "            '# trainable params': df['# trainable params'].iloc[0],\n",
    "            'train_rmse': '%.3f ± %.3f' % (df.train_rmse.mean(), df.train_rmse.std()),  \n",
    "            'valid_rmse': '%.3f ± %.3f' % (df.valid_rmse.mean(), df.valid_rmse.std()),            \n",
    "            'test_rmse': '%.3f ± %.3f' % (df.test_rmse.mean(), df.test_rmse.std())}\n",
    "    \n",
    "    return res\n",
    "\n",
    "\n",
    "results = []\n",
    "for csv in csv_files:\n",
    "    res = get_results(csv)\n",
    "    results.append(res)\n",
    "    \n",
    "df_res = pd.DataFrame(results)\n",
    "df_res = df_res.sort_values('model')"
   ]
  },
  {
   "cell_type": "code",
   "execution_count": 4,
   "metadata": {},
   "outputs": [],
   "source": [
    "df_res.to_csv('./results_attentivefp/results.csv')"
   ]
  },
  {
   "cell_type": "code",
   "execution_count": 5,
   "metadata": {},
   "outputs": [
    {
     "data": {
      "text/html": [
       "<div>\n",
       "<style scoped>\n",
       "    .dataframe tbody tr th:only-of-type {\n",
       "        vertical-align: middle;\n",
       "    }\n",
       "\n",
       "    .dataframe tbody tr th {\n",
       "        vertical-align: top;\n",
       "    }\n",
       "\n",
       "    .dataframe thead th {\n",
       "        text-align: right;\n",
       "    }\n",
       "</style>\n",
       "<table border=\"1\" class=\"dataframe\">\n",
       "  <thead>\n",
       "    <tr style=\"text-align: right;\">\n",
       "      <th></th>\n",
       "      <th>model</th>\n",
       "      <th>random_seed</th>\n",
       "      <th>best_epoch</th>\n",
       "      <th>batch_size</th>\n",
       "      <th>lr</th>\n",
       "      <th># trainable params</th>\n",
       "      <th>train_rmse</th>\n",
       "      <th>valid_rmse</th>\n",
       "      <th>test_rmse</th>\n",
       "    </tr>\n",
       "  </thead>\n",
       "  <tbody>\n",
       "    <tr>\n",
       "      <td>0</td>\n",
       "      <td>AttentiveFP</td>\n",
       "      <td>[7, 77, 777]</td>\n",
       "      <td>[43, 43, 53]</td>\n",
       "      <td>200</td>\n",
       "      <td>0.0001</td>\n",
       "      <td>863604</td>\n",
       "      <td>0.813 ± 0.008</td>\n",
       "      <td>0.746 ± 0.002</td>\n",
       "      <td>0.766 ± 0.007</td>\n",
       "    </tr>\n",
       "    <tr>\n",
       "      <td>3</td>\n",
       "      <td>MolMapNet_both</td>\n",
       "      <td>[7, 77, 777]</td>\n",
       "      <td>[11, 7, 12]</td>\n",
       "      <td>128</td>\n",
       "      <td>0.0001</td>\n",
       "      <td>725665</td>\n",
       "      <td>0.708 ± 0.039</td>\n",
       "      <td>0.720 ± 0.005</td>\n",
       "      <td>0.753 ± 0.003</td>\n",
       "    </tr>\n",
       "    <tr>\n",
       "      <td>2</td>\n",
       "      <td>MolMapNet_descriptor</td>\n",
       "      <td>[7, 77, 777]</td>\n",
       "      <td>[33, 37, 25]</td>\n",
       "      <td>128</td>\n",
       "      <td>0.0001</td>\n",
       "      <td>407617</td>\n",
       "      <td>0.795 ± 0.010</td>\n",
       "      <td>0.733 ± 0.001</td>\n",
       "      <td>0.768 ± 0.004</td>\n",
       "    </tr>\n",
       "    <tr>\n",
       "      <td>1</td>\n",
       "      <td>MolMapNet_fingerprint</td>\n",
       "      <td>[7, 77, 777]</td>\n",
       "      <td>[11, 7, 12]</td>\n",
       "      <td>128</td>\n",
       "      <td>0.0001</td>\n",
       "      <td>326497</td>\n",
       "      <td>0.696 ± 0.045</td>\n",
       "      <td>0.731 ± 0.005</td>\n",
       "      <td>0.758 ± 0.012</td>\n",
       "    </tr>\n",
       "  </tbody>\n",
       "</table>\n",
       "</div>"
      ],
      "text/plain": [
       "                   model   random_seed    best_epoch  batch_size      lr  \\\n",
       "0            AttentiveFP  [7, 77, 777]  [43, 43, 53]         200  0.0001   \n",
       "3         MolMapNet_both  [7, 77, 777]   [11, 7, 12]         128  0.0001   \n",
       "2   MolMapNet_descriptor  [7, 77, 777]  [33, 37, 25]         128  0.0001   \n",
       "1  MolMapNet_fingerprint  [7, 77, 777]   [11, 7, 12]         128  0.0001   \n",
       "\n",
       "   # trainable params     train_rmse     valid_rmse      test_rmse  \n",
       "0              863604  0.813 ± 0.008  0.746 ± 0.002  0.766 ± 0.007  \n",
       "3              725665  0.708 ± 0.039  0.720 ± 0.005  0.753 ± 0.003  \n",
       "2              407617  0.795 ± 0.010  0.733 ± 0.001  0.768 ± 0.004  \n",
       "1              326497  0.696 ± 0.045  0.731 ± 0.005  0.758 ± 0.012  "
      ]
     },
     "execution_count": 5,
     "metadata": {},
     "output_type": "execute_result"
    }
   ],
   "source": [
    "df_res"
   ]
  },
  {
   "cell_type": "code",
   "execution_count": null,
   "metadata": {},
   "outputs": [],
   "source": []
  },
  {
   "cell_type": "code",
   "execution_count": 6,
   "metadata": {},
   "outputs": [
    {
     "name": "stdout",
     "output_type": "stream",
     "text": [
      "./results_deepchem/results_MolMapNet_fingerprint.csv\n",
      "./results_deepchem/results_MolMapNet_descriptor.csv\n",
      "./results_deepchem/results_MolMapNet_both.csv\n"
     ]
    }
   ],
   "source": [
    "csv_files = glob('./results_deepchem/*.csv')\n",
    "csv_files = [i for i in csv_files if 'results.csv' not in i]\n",
    "\n",
    "def get_results(csv):\n",
    "    print(csv)\n",
    "    df = pd.read_csv(csv,index_col=0)\n",
    "\n",
    "    res = { 'model': os.path.basename(csv).split('results_')[-1].replace('.csv',''),\n",
    "            'random_seed': df.random_seed.tolist(),\n",
    "            'best_epoch': df.best_epoch.tolist(),\n",
    "            'batch_size': df.batch_size.iloc[0],\n",
    "            'lr': df.lr.iloc[0],\n",
    "            '# trainable params': df['# trainable params'].iloc[0],\n",
    "            'train_rmse': '%.3f ± %.3f' % (df.train_rmse.mean(), df.train_rmse.std()),  \n",
    "            'valid_rmse': '%.3f ± %.3f' % (df.valid_rmse.mean(), df.valid_rmse.std()),            \n",
    "            'test_rmse': '%.3f ± %.3f' % (df.test_rmse.mean(), df.test_rmse.std())}\n",
    "    \n",
    "    return res\n",
    "\n",
    "\n",
    "results = []\n",
    "for csv in csv_files:\n",
    "    res = get_results(csv)\n",
    "    results.append(res)\n",
    "    \n",
    "df_res = pd.DataFrame(results)\n",
    "df_res = df_res.sort_values('model')"
   ]
  },
  {
   "cell_type": "code",
   "execution_count": 7,
   "metadata": {},
   "outputs": [],
   "source": [
    "df_res.to_csv('./results_deepchem/results.csv')"
   ]
  },
  {
   "cell_type": "code",
   "execution_count": 8,
   "metadata": {},
   "outputs": [
    {
     "data": {
      "text/html": [
       "<div>\n",
       "<style scoped>\n",
       "    .dataframe tbody tr th:only-of-type {\n",
       "        vertical-align: middle;\n",
       "    }\n",
       "\n",
       "    .dataframe tbody tr th {\n",
       "        vertical-align: top;\n",
       "    }\n",
       "\n",
       "    .dataframe thead th {\n",
       "        text-align: right;\n",
       "    }\n",
       "</style>\n",
       "<table border=\"1\" class=\"dataframe\">\n",
       "  <thead>\n",
       "    <tr style=\"text-align: right;\">\n",
       "      <th></th>\n",
       "      <th>model</th>\n",
       "      <th>random_seed</th>\n",
       "      <th>best_epoch</th>\n",
       "      <th>batch_size</th>\n",
       "      <th>lr</th>\n",
       "      <th># trainable params</th>\n",
       "      <th>train_rmse</th>\n",
       "      <th>valid_rmse</th>\n",
       "      <th>test_rmse</th>\n",
       "    </tr>\n",
       "  </thead>\n",
       "  <tbody>\n",
       "    <tr>\n",
       "      <td>2</td>\n",
       "      <td>MolMapNet_both</td>\n",
       "      <td>[7, 77, 777]</td>\n",
       "      <td>[12, 7, 9]</td>\n",
       "      <td>128</td>\n",
       "      <td>0.0001</td>\n",
       "      <td>725665</td>\n",
       "      <td>0.723 ± 0.030</td>\n",
       "      <td>0.720 ± 0.004</td>\n",
       "      <td>0.755 ± 0.000</td>\n",
       "    </tr>\n",
       "    <tr>\n",
       "      <td>1</td>\n",
       "      <td>MolMapNet_descriptor</td>\n",
       "      <td>[7, 77, 777]</td>\n",
       "      <td>[40, 33, 50]</td>\n",
       "      <td>128</td>\n",
       "      <td>0.0001</td>\n",
       "      <td>407617</td>\n",
       "      <td>0.784 ± 0.009</td>\n",
       "      <td>0.732 ± 0.002</td>\n",
       "      <td>0.769 ± 0.016</td>\n",
       "    </tr>\n",
       "    <tr>\n",
       "      <td>0</td>\n",
       "      <td>MolMapNet_fingerprint</td>\n",
       "      <td>[7, 77, 777]</td>\n",
       "      <td>[10, 17, 13]</td>\n",
       "      <td>128</td>\n",
       "      <td>0.0001</td>\n",
       "      <td>326497</td>\n",
       "      <td>0.654 ± 0.067</td>\n",
       "      <td>0.729 ± 0.003</td>\n",
       "      <td>0.767 ± 0.010</td>\n",
       "    </tr>\n",
       "  </tbody>\n",
       "</table>\n",
       "</div>"
      ],
      "text/plain": [
       "                   model   random_seed    best_epoch  batch_size      lr  \\\n",
       "2         MolMapNet_both  [7, 77, 777]    [12, 7, 9]         128  0.0001   \n",
       "1   MolMapNet_descriptor  [7, 77, 777]  [40, 33, 50]         128  0.0001   \n",
       "0  MolMapNet_fingerprint  [7, 77, 777]  [10, 17, 13]         128  0.0001   \n",
       "\n",
       "   # trainable params     train_rmse     valid_rmse      test_rmse  \n",
       "2              725665  0.723 ± 0.030  0.720 ± 0.004  0.755 ± 0.000  \n",
       "1              407617  0.784 ± 0.009  0.732 ± 0.002  0.769 ± 0.016  \n",
       "0              326497  0.654 ± 0.067  0.729 ± 0.003  0.767 ± 0.010  "
      ]
     },
     "execution_count": 8,
     "metadata": {},
     "output_type": "execute_result"
    }
   ],
   "source": [
    "df_res"
   ]
  },
  {
   "cell_type": "code",
   "execution_count": null,
   "metadata": {},
   "outputs": [],
   "source": []
  },
  {
   "cell_type": "code",
   "execution_count": null,
   "metadata": {},
   "outputs": [],
   "source": []
  },
  {
   "cell_type": "code",
   "execution_count": null,
   "metadata": {},
   "outputs": [],
   "source": []
  },
  {
   "cell_type": "code",
   "execution_count": null,
   "metadata": {},
   "outputs": [],
   "source": []
  },
  {
   "cell_type": "code",
   "execution_count": null,
   "metadata": {},
   "outputs": [],
   "source": []
  }
 ],
 "metadata": {
  "kernelspec": {
   "display_name": "Python 3",
   "language": "python",
   "name": "python3"
  },
  "language_info": {
   "codemirror_mode": {
    "name": "ipython",
    "version": 3
   },
   "file_extension": ".py",
   "mimetype": "text/x-python",
   "name": "python",
   "nbconvert_exporter": "python",
   "pygments_lexer": "ipython3",
   "version": "3.7.4"
  }
 },
 "nbformat": 4,
 "nbformat_minor": 4
}
