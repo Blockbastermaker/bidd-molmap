{
 "cells": [
  {
   "cell_type": "code",
   "execution_count": 1,
   "metadata": {},
   "outputs": [
    {
     "name": "stderr",
     "output_type": "stream",
     "text": [
      "/home/shenwanxiang/anaconda3/envs/deepchem/lib/python3.6/site-packages/tensorflow/python/framework/dtypes.py:516: FutureWarning: Passing (type, 1) or '1type' as a synonym of type is deprecated; in a future version of numpy, it will be understood as (type, (1,)) / '(1,)type'.\n",
      "  _np_qint8 = np.dtype([(\"qint8\", np.int8, 1)])\n",
      "/home/shenwanxiang/anaconda3/envs/deepchem/lib/python3.6/site-packages/tensorflow/python/framework/dtypes.py:517: FutureWarning: Passing (type, 1) or '1type' as a synonym of type is deprecated; in a future version of numpy, it will be understood as (type, (1,)) / '(1,)type'.\n",
      "  _np_quint8 = np.dtype([(\"quint8\", np.uint8, 1)])\n",
      "/home/shenwanxiang/anaconda3/envs/deepchem/lib/python3.6/site-packages/tensorflow/python/framework/dtypes.py:518: FutureWarning: Passing (type, 1) or '1type' as a synonym of type is deprecated; in a future version of numpy, it will be understood as (type, (1,)) / '(1,)type'.\n",
      "  _np_qint16 = np.dtype([(\"qint16\", np.int16, 1)])\n",
      "/home/shenwanxiang/anaconda3/envs/deepchem/lib/python3.6/site-packages/tensorflow/python/framework/dtypes.py:519: FutureWarning: Passing (type, 1) or '1type' as a synonym of type is deprecated; in a future version of numpy, it will be understood as (type, (1,)) / '(1,)type'.\n",
      "  _np_quint16 = np.dtype([(\"quint16\", np.uint16, 1)])\n",
      "/home/shenwanxiang/anaconda3/envs/deepchem/lib/python3.6/site-packages/tensorflow/python/framework/dtypes.py:520: FutureWarning: Passing (type, 1) or '1type' as a synonym of type is deprecated; in a future version of numpy, it will be understood as (type, (1,)) / '(1,)type'.\n",
      "  _np_qint32 = np.dtype([(\"qint32\", np.int32, 1)])\n",
      "/home/shenwanxiang/anaconda3/envs/deepchem/lib/python3.6/site-packages/tensorflow/python/framework/dtypes.py:525: FutureWarning: Passing (type, 1) or '1type' as a synonym of type is deprecated; in a future version of numpy, it will be understood as (type, (1,)) / '(1,)type'.\n",
      "  np_resource = np.dtype([(\"resource\", np.ubyte, 1)])\n",
      "/home/shenwanxiang/anaconda3/envs/deepchem/lib/python3.6/site-packages/tensorboard/compat/tensorflow_stub/dtypes.py:541: FutureWarning: Passing (type, 1) or '1type' as a synonym of type is deprecated; in a future version of numpy, it will be understood as (type, (1,)) / '(1,)type'.\n",
      "  _np_qint8 = np.dtype([(\"qint8\", np.int8, 1)])\n",
      "/home/shenwanxiang/anaconda3/envs/deepchem/lib/python3.6/site-packages/tensorboard/compat/tensorflow_stub/dtypes.py:542: FutureWarning: Passing (type, 1) or '1type' as a synonym of type is deprecated; in a future version of numpy, it will be understood as (type, (1,)) / '(1,)type'.\n",
      "  _np_quint8 = np.dtype([(\"quint8\", np.uint8, 1)])\n",
      "/home/shenwanxiang/anaconda3/envs/deepchem/lib/python3.6/site-packages/tensorboard/compat/tensorflow_stub/dtypes.py:543: FutureWarning: Passing (type, 1) or '1type' as a synonym of type is deprecated; in a future version of numpy, it will be understood as (type, (1,)) / '(1,)type'.\n",
      "  _np_qint16 = np.dtype([(\"qint16\", np.int16, 1)])\n",
      "/home/shenwanxiang/anaconda3/envs/deepchem/lib/python3.6/site-packages/tensorboard/compat/tensorflow_stub/dtypes.py:544: FutureWarning: Passing (type, 1) or '1type' as a synonym of type is deprecated; in a future version of numpy, it will be understood as (type, (1,)) / '(1,)type'.\n",
      "  _np_quint16 = np.dtype([(\"quint16\", np.uint16, 1)])\n",
      "/home/shenwanxiang/anaconda3/envs/deepchem/lib/python3.6/site-packages/tensorboard/compat/tensorflow_stub/dtypes.py:545: FutureWarning: Passing (type, 1) or '1type' as a synonym of type is deprecated; in a future version of numpy, it will be understood as (type, (1,)) / '(1,)type'.\n",
      "  _np_qint32 = np.dtype([(\"qint32\", np.int32, 1)])\n",
      "/home/shenwanxiang/anaconda3/envs/deepchem/lib/python3.6/site-packages/tensorboard/compat/tensorflow_stub/dtypes.py:550: FutureWarning: Passing (type, 1) or '1type' as a synonym of type is deprecated; in a future version of numpy, it will be understood as (type, (1,)) / '(1,)type'.\n",
      "  np_resource = np.dtype([(\"resource\", np.ubyte, 1)])\n"
     ]
    }
   ],
   "source": [
    "from molmap import dataset\n",
    "from molmap import loadmap\n",
    "import molmap\n",
    "\n",
    "import matplotlib.pyplot as plt\n",
    "from joblib import dump, load\n",
    "from tqdm import tqdm\n",
    "import pandas as pd\n",
    "tqdm.pandas(ascii=True)\n",
    "\n",
    "import numpy as np\n",
    "import tensorflow as tf\n",
    "from tensorflow.keras.utils import plot_model\n",
    "from tensorflow.keras import Model, Input\n",
    "from tensorflow.keras.layers import MaxPool2D, GlobalMaxPool2D, BatchNormalization, Activation\n",
    "from tensorflow.keras.layers import Conv2D, Concatenate,Flatten, Dense, Dropout\n",
    "\n",
    "\n",
    "#use the second GPU, if negative value, CPUs will be used\n",
    "import os\n",
    "os.environ[\"CUDA_VISIBLE_DEVICES\"]=\"0\"\n",
    "\n",
    "\n",
    "%matplotlib inline\n",
    "seed = 77\n",
    "np.random.seed(seed)\n",
    "tf.set_random_seed(seed)"
   ]
  },
  {
   "cell_type": "code",
   "execution_count": 2,
   "metadata": {},
   "outputs": [
    {
     "name": "stdout",
     "output_type": "stream",
     "text": [
      "total samples: 7831\n"
     ]
    }
   ],
   "source": [
    "def get_deepchem_idx(df):\n",
    "    \"\"\" deepchem dataset\"\"\"\n",
    "    deepchem_data_name = './tox21_deepchem.data'\n",
    "    if os.path.exists(deepchem_data_name):\n",
    "        train_df,valid_df,test_df = load(deepchem_data_name)\n",
    "    else:\n",
    "        import deepchem as dc\n",
    "        task, train_valid_test, _ = dc.molnet.load_tox21(featurizer='Raw',split = 'random')\n",
    "        print('training set: %s,  valid set: %s, test set %s' % (len(train.y), len(valid.y), len(test.y)))\n",
    "        train, valid, test = train_valid_test\n",
    "        train_df = df[df.smiles.isin(train.ids)]\n",
    "        valid_df = df[df.smiles.isin(valid.ids)]\n",
    "        test_df = df[df.smiles.isin(test.ids)]\n",
    "        dump((train_df,valid_df,test_df), deepchem_data_name)\n",
    "    train_idx = train_df.index\n",
    "    valid_idx = valid_df.index\n",
    "    test_idx = test_df.index\n",
    "    print('training set: %s,  valid set: %s, test set %s' % (len(train_idx), len(valid_idx), len(test_idx)))\n",
    "    return train_idx, valid_idx, test_idx\n",
    "\n",
    "def get_attentiveFP_idx(df):\n",
    "    \"\"\" attentiveFP dataset\"\"\"\n",
    "    train, valid,test = load('./tox21_attentiveFP.data')\n",
    "    train_idx = df[df.smiles.isin(train.smiles)].index\n",
    "    valid_idx = df[df.smiles.isin(valid.smiles)].index\n",
    "    test_idx = df[df.smiles.isin(test.smiles)].index\n",
    "    print('training set: %s,  valid set: %s, test set %s' % (len(train_idx), len(valid_idx), len(test_idx)))\n",
    "    return train_idx, valid_idx, test_idx  \n",
    "\n",
    "#load dataset\n",
    "data = dataset.load_Tox21()\n",
    "df = data.data"
   ]
  },
  {
   "cell_type": "code",
   "execution_count": 3,
   "metadata": {},
   "outputs": [],
   "source": [
    "MASK = -1\n",
    "Y = pd.DataFrame(data.y).fillna(MASK).values"
   ]
  },
  {
   "cell_type": "code",
   "execution_count": 4,
   "metadata": {},
   "outputs": [],
   "source": [
    "# calculate feature\n",
    "X1_name =  './descriptor_grid_split.data'\n",
    "X2_name =  './fingerprint_grid_split.data'\n",
    "\n",
    "if os.path.exists(X1_name):\n",
    "    X1 = load(X1_name)\n",
    "else:\n",
    "    mp = loadmap('../../descriptor_grid_split.mp')\n",
    "    X1 = mp.batch_transform(data.x, n_jobs = 8)\n",
    "    dump(X1, X1_name)\n",
    "    \n",
    "if os.path.exists(X2_name):\n",
    "    X2 = load(X2_name)\n",
    "else:\n",
    "    mp = loadmap('../../fingerprint_grid_split.mp')\n",
    "    X2 = mp.batch_transform(data.x, n_jobs = 8)\n",
    "    dump(X2, X2_name)"
   ]
  },
  {
   "cell_type": "code",
   "execution_count": 5,
   "metadata": {},
   "outputs": [
    {
     "name": "stdout",
     "output_type": "stream",
     "text": [
      "training set: 6264,  valid set: 783, test set 784\n",
      "6264 783 784\n"
     ]
    }
   ],
   "source": [
    "#train_idx, valid_idx, test_idx = get_attentiveFP_idx(df)\n",
    "train_idx, valid_idx, test_idx = get_deepchem_idx(df)\n",
    "\n",
    "\n",
    "trainX = (X1[train_idx], X2[train_idx])\n",
    "trainY = Y[train_idx]\n",
    "\n",
    "validX = (X1[valid_idx], X2[valid_idx])\n",
    "validY = Y[valid_idx]\n",
    "\n",
    "testX = (X1[test_idx], X2[test_idx])\n",
    "testY = Y[test_idx]\n",
    "\n",
    "print(len(train_idx), len(valid_idx), len(test_idx))"
   ]
  },
  {
   "cell_type": "code",
   "execution_count": 6,
   "metadata": {},
   "outputs": [
    {
     "data": {
      "text/plain": [
       "(array([23.78205128, 28.8121547 ,  7.66225166, 18.23966942,  6.88178914,\n",
       "        18.91397849, 34.97202797,  5.42699725, 26.17788462, 16.16887417,\n",
       "         5.39339752, 14.97633136]),\n",
       " array([0.04204852, 0.03470757, 0.13050994, 0.05482556, 0.14531105,\n",
       "        0.05287095, 0.02859428, 0.18426396, 0.03820018, 0.06184723,\n",
       "        0.18541188, 0.06677203]))"
      ]
     },
     "execution_count": 6,
     "metadata": {},
     "output_type": "execute_result"
    }
   ],
   "source": [
    "def get_pos_weights(trainY):\n",
    "    \"\"\"pos_weights: neg_n / pos_n \"\"\"\n",
    "    dfY = pd.DataFrame(trainY)\n",
    "    pos = dfY == 1\n",
    "    pos_n = pos.sum(axis=0)\n",
    "    neg = dfY == 0\n",
    "    neg_n = neg.sum(axis=0)\n",
    "    pos_weights = (neg_n / pos_n).values\n",
    "    neg_weights = (pos_n / neg_n).values\n",
    "    return pos_weights, neg_weights\n",
    "\n",
    "pos_weights, neg_weights = get_pos_weights(Y[train_idx])\n",
    "pos_weights, neg_weights"
   ]
  },
  {
   "cell_type": "code",
   "execution_count": 7,
   "metadata": {},
   "outputs": [
    {
     "name": "stdout",
     "output_type": "stream",
     "text": [
      "WARNING:tensorflow:From /home/shenwanxiang/anaconda3/envs/deepchem/lib/python3.6/site-packages/tensorflow/python/ops/init_ops.py:1251: calling VarianceScaling.__init__ (from tensorflow.python.ops.init_ops) with dtype is deprecated and will be removed in a future version.\n",
      "Instructions for updating:\n",
      "Call initializer instance with the dtype argument instead of passing it to the constructor\n"
     ]
    }
   ],
   "source": [
    "def Inception(inputs, units = 8, strides = 1):\n",
    "    \"\"\"\n",
    "    naive google inception block\n",
    "    \"\"\"\n",
    "    x1 = Conv2D(units, 5, padding='same', activation = 'relu', strides = strides)(inputs)\n",
    "    x2 = Conv2D(units, 3, padding='same', activation = 'relu', strides = strides)(inputs)\n",
    "    x3 = Conv2D(units, 1, padding='same', activation = 'relu', strides = strides)(inputs)\n",
    "    outputs = Concatenate()([x1, x2, x3])    \n",
    "    return outputs\n",
    "\n",
    "\n",
    "def DoublePathClassificationModel(molmap1_size, molmap2_size, n_outputs = 1):\n",
    "    \n",
    "    ## first inputs\n",
    "    d_inputs1 = Input(molmap1_size)\n",
    "    d_conv1 = Conv2D(48, 13, padding = 'same', activation='relu', strides = 1)(d_inputs1)\n",
    "    d_pool1 = MaxPool2D(pool_size = 3, strides = 2, padding = 'same')(d_conv1) #p1\n",
    "    d_incept1 = Inception(d_pool1, strides = 1, units = 32)\n",
    "    d_pool2 = MaxPool2D(pool_size = 3, strides = 2, padding = 'same')(d_incept1) #p2\n",
    "    d_incept2 = Inception(d_pool2, strides = 1, units = 64)\n",
    "    d_flat1 = GlobalMaxPool2D()(d_incept2)\n",
    "\n",
    "    ## second inputs\n",
    "    f_inputs1 = Input(molmap2_size)\n",
    "    f_conv1 = Conv2D(48, 13, padding = 'same', activation='relu', strides = 1)(f_inputs1)\n",
    "    f_pool1 = MaxPool2D(pool_size = 3, strides = 2, padding = 'same')(f_conv1) #p1\n",
    "    f_incept1 = Inception(f_pool1, strides = 1, units = 32)\n",
    "    f_pool2 = MaxPool2D(pool_size = 3, strides = 2, padding = 'same')(f_incept1) #p2\n",
    "    f_incept2 = Inception(f_pool2, strides = 1, units = 64)\n",
    "    f_flat1 = GlobalMaxPool2D()(f_incept2)    \n",
    "    \n",
    "    ## concat\n",
    "    merge = Concatenate()([d_flat1, f_flat1]) \n",
    "    d1 = Dense(256,activation='relu')(merge)\n",
    "\n",
    "    #since the sigmoid function is in loss function, so the activation function should be None\n",
    "    outputs = Dense(n_outputs, activation=None)(d1)\n",
    "    model = tf.keras.Model(inputs=[d_inputs1, f_inputs1], outputs=outputs)\n",
    "    return model\n",
    "\n",
    "\n",
    "from loss import cross_entropy, weighted_cross_entropy\n",
    "from cbks import ClassificationPerformance, EarlyStoppingAtMinLoss\n",
    "\n",
    "molmap1_size = X1.shape[1:]\n",
    "molmap2_size = X2.shape[1:]\n",
    "loss = lambda y_true, y_pred: weighted_cross_entropy(y_true,y_pred, pos_weights, MASK)\n",
    "model = DoublePathClassificationModel(molmap1_size,molmap2_size, n_outputs = Y.shape[1])"
   ]
  },
  {
   "cell_type": "code",
   "execution_count": 8,
   "metadata": {},
   "outputs": [],
   "source": [
    "earlystop = EarlyStoppingAtMinLoss(patience=50, criteria = 'val_loss')\n",
    "performace = ClassificationPerformance((trainX, trainY), (validX, validY), MASK)\n",
    "lr = tf.keras.optimizers.Adam(lr=0.0001, beta_1=0.9, beta_2=0.999, epsilon=1e-08, decay=0.0) #\n",
    "model.compile(optimizer = lr, loss = loss)"
   ]
  },
  {
   "cell_type": "code",
   "execution_count": 9,
   "metadata": {},
   "outputs": [
    {
     "name": "stdout",
     "output_type": "stream",
     "text": [
      "epoch: 0001, loss: 1.1720 - val_loss: 1.2053; auc: 0.7209 - auc_val: 0.7274                                                                                                    \n",
      "epoch: 0002, loss: 1.1386 - val_loss: 1.1568; auc: 0.7335 - auc_val: 0.7553                                                                                                    \n",
      "epoch: 0003, loss: 1.0883 - val_loss: 1.0966; auc: 0.7414 - auc_val: 0.7615                                                                                                    \n",
      "epoch: 0004, loss: 1.0481 - val_loss: 1.0570; auc: 0.7552 - auc_val: 0.7768                                                                                                    \n",
      "epoch: 0005, loss: 1.0265 - val_loss: 1.0349; auc: 0.7671 - auc_val: 0.7836                                                                                                    \n",
      "epoch: 0006, loss: 1.0081 - val_loss: 1.0285; auc: 0.7761 - auc_val: 0.7873                                                                                                    \n",
      "epoch: 0007, loss: 0.9969 - val_loss: 1.0141; auc: 0.7856 - auc_val: 0.7925                                                                                                    \n",
      "epoch: 0008, loss: 0.9770 - val_loss: 1.0039; auc: 0.7909 - auc_val: 0.7967                                                                                                    \n",
      "epoch: 0009, loss: 0.9648 - val_loss: 1.0002; auc: 0.8039 - auc_val: 0.8003                                                                                                    \n",
      "epoch: 0010, loss: 0.9548 - val_loss: 0.9919; auc: 0.8121 - auc_val: 0.8040                                                                                                    \n",
      "epoch: 0011, loss: 0.9412 - val_loss: 0.9794; auc: 0.8142 - auc_val: 0.8086                                                                                                    \n",
      "epoch: 0012, loss: 0.9305 - val_loss: 0.9803; auc: 0.8207 - auc_val: 0.8113                                                                                                    \n",
      "epoch: 0013, loss: 0.9143 - val_loss: 0.9837; auc: 0.8372 - auc_val: 0.8168                                                                                                    \n",
      "epoch: 0014, loss: 0.9034 - val_loss: 0.9416; auc: 0.8395 - auc_val: 0.8198                                                                                                    \n",
      "epoch: 0015, loss: 0.8939 - val_loss: 0.9583; auc: 0.8471 - auc_val: 0.8246                                                                                                    \n",
      "epoch: 0016, loss: 0.8753 - val_loss: 0.9360; auc: 0.8520 - auc_val: 0.8283                                                                                                    \n",
      "epoch: 0017, loss: 0.8696 - val_loss: 0.9267; auc: 0.8558 - auc_val: 0.8292                                                                                                    \n",
      "epoch: 0018, loss: 0.8551 - val_loss: 0.9203; auc: 0.8602 - auc_val: 0.8332                                                                                                    \n",
      "epoch: 0019, loss: 0.8475 - val_loss: 0.9162; auc: 0.8654 - auc_val: 0.8358                                                                                                    \n",
      "epoch: 0020, loss: 0.8348 - val_loss: 0.9277; auc: 0.8699 - auc_val: 0.8364                                                                                                    \n",
      "epoch: 0021, loss: 0.8276 - val_loss: 0.9060; auc: 0.8732 - auc_val: 0.8396                                                                                                    \n",
      "epoch: 0022, loss: 0.8187 - val_loss: 0.8975; auc: 0.8746 - auc_val: 0.8406                                                                                                    \n",
      "epoch: 0023, loss: 0.8056 - val_loss: 0.9103; auc: 0.8791 - auc_val: 0.8406                                                                                                    \n",
      "epoch: 0024, loss: 0.8036 - val_loss: 0.8907; auc: 0.8828 - auc_val: 0.8433                                                                                                    \n",
      "epoch: 0025, loss: 0.7938 - val_loss: 0.8885; auc: 0.8858 - auc_val: 0.8454                                                                                                    \n",
      "epoch: 0026, loss: 0.7799 - val_loss: 0.9003; auc: 0.8901 - auc_val: 0.8461                                                                                                    \n",
      "epoch: 0027, loss: 0.7727 - val_loss: 0.8940; auc: 0.8943 - auc_val: 0.8471                                                                                                    \n",
      "epoch: 0028, loss: 0.7674 - val_loss: 0.8840; auc: 0.8954 - auc_val: 0.8488                                                                                                    \n",
      "epoch: 0029, loss: 0.7638 - val_loss: 0.9129; auc: 0.8984 - auc_val: 0.8491                                                                                                    \n",
      "epoch: 0030, loss: 0.7556 - val_loss: 0.8822; auc: 0.9004 - auc_val: 0.8487                                                                                                    \n",
      "epoch: 0031, loss: 0.7439 - val_loss: 0.8748; auc: 0.9008 - auc_val: 0.8516                                                                                                    \n",
      "epoch: 0032, loss: 0.7355 - val_loss: 0.8933; auc: 0.9046 - auc_val: 0.8495                                                                                                    \n",
      "epoch: 0033, loss: 0.7262 - val_loss: 0.8826; auc: 0.9082 - auc_val: 0.8516                                                                                                    \n",
      "epoch: 0034, loss: 0.7194 - val_loss: 0.9518; auc: 0.9106 - auc_val: 0.8495                                                                                                    \n",
      "epoch: 0035, loss: 0.7167 - val_loss: 0.8981; auc: 0.9117 - auc_val: 0.8505                                                                                                    \n",
      "epoch: 0036, loss: 0.7130 - val_loss: 0.8730; auc: 0.9141 - auc_val: 0.8529                                                                                                    \n",
      "epoch: 0037, loss: 0.7020 - val_loss: 0.9079; auc: 0.9163 - auc_val: 0.8512                                                                                                    \n",
      "epoch: 0038, loss: 0.6894 - val_loss: 0.8709; auc: 0.9181 - auc_val: 0.8521                                                                                                    \n",
      "epoch: 0039, loss: 0.6882 - val_loss: 0.9406; auc: 0.9191 - auc_val: 0.8475                                                                                                    \n",
      "epoch: 0040, loss: 0.6810 - val_loss: 0.8982; auc: 0.9217 - auc_val: 0.8529                                                                                                    \n",
      "epoch: 0041, loss: 0.6707 - val_loss: 0.8868; auc: 0.9239 - auc_val: 0.8544                                                                                                    \n",
      "epoch: 0042, loss: 0.6686 - val_loss: 0.9102; auc: 0.9248 - auc_val: 0.8539                                                                                                    \n",
      "epoch: 0043, loss: 0.6570 - val_loss: 0.8731; auc: 0.9258 - auc_val: 0.8541                                                                                                    \n",
      "epoch: 0044, loss: 0.6547 - val_loss: 0.9289; auc: 0.9290 - auc_val: 0.8528                                                                                                    \n",
      "epoch: 0045, loss: 0.6478 - val_loss: 0.9051; auc: 0.9295 - auc_val: 0.8535                                                                                                    \n",
      "epoch: 0046, loss: 0.6384 - val_loss: 0.8785; auc: 0.9303 - auc_val: 0.8541                                                                                                    \n",
      "epoch: 0047, loss: 0.6298 - val_loss: 0.8925; auc: 0.9325 - auc_val: 0.8540                                                                                                    \n",
      "epoch: 0048, loss: 0.6238 - val_loss: 0.9203; auc: 0.9342 - auc_val: 0.8540                                                                                                    \n",
      "epoch: 0049, loss: 0.6203 - val_loss: 0.8742; auc: 0.9341 - auc_val: 0.8556                                                                                                    \n",
      "epoch: 0050, loss: 0.6177 - val_loss: 0.8938; auc: 0.9362 - auc_val: 0.8540                                                                                                    \n",
      "epoch: 0051, loss: 0.6100 - val_loss: 0.9007; auc: 0.9385 - auc_val: 0.8542                                                                                                    \n",
      "epoch: 0052, loss: 0.6047 - val_loss: 0.9372; auc: 0.9390 - auc_val: 0.8538                                                                                                    \n",
      "epoch: 0053, loss: 0.6016 - val_loss: 0.9494; auc: 0.9403 - auc_val: 0.8531                                                                                                    \n",
      "epoch: 0054, loss: 0.5884 - val_loss: 0.9175; auc: 0.9412 - auc_val: 0.8529                                                                                                    \n",
      "epoch: 0055, loss: 0.5854 - val_loss: 1.1287; auc: 0.9426 - auc_val: 0.8464                                                                                                    \n",
      "epoch: 0056, loss: 0.5789 - val_loss: 0.9211; auc: 0.9446 - auc_val: 0.8523                                                                                                    \n",
      "epoch: 0057, loss: 0.5741 - val_loss: 0.9480; auc: 0.9454 - auc_val: 0.8519                                                                                                    \n",
      "epoch: 0058, loss: 0.5725 - val_loss: 1.0341; auc: 0.9461 - auc_val: 0.8500                                                                                                    \n",
      "epoch: 0059, loss: 0.5622 - val_loss: 0.9183; auc: 0.9468 - auc_val: 0.8544                                                                                                    \n",
      "epoch: 0060, loss: 0.5544 - val_loss: 0.9723; auc: 0.9486 - auc_val: 0.8529                                                                                                    \n",
      "epoch: 0061, loss: 0.5586 - val_loss: 0.9671; auc: 0.9485 - auc_val: 0.8506                                                                                                    \n",
      "epoch: 0062, loss: 0.5486 - val_loss: 0.9640; auc: 0.9498 - auc_val: 0.8510                                                                                                    \n",
      "epoch: 0063, loss: 0.5466 - val_loss: 0.9662; auc: 0.9507 - auc_val: 0.8528                                                                                                    \n",
      "epoch: 0064, loss: 0.5397 - val_loss: 0.9484; auc: 0.9514 - auc_val: 0.8503                                                                                                    \n",
      "epoch: 0065, loss: 0.5366 - val_loss: 1.0084; auc: 0.9523 - auc_val: 0.8528                                                                                                    \n",
      "epoch: 0066, loss: 0.5313 - val_loss: 0.9044; auc: 0.9518 - auc_val: 0.8539                                                                                                    \n",
      "epoch: 0067, loss: 0.5313 - val_loss: 0.9655; auc: 0.9536 - auc_val: 0.8513                                                                                                    \n",
      "epoch: 0068, loss: 0.5191 - val_loss: 0.9263; auc: 0.9547 - auc_val: 0.8519                                                                                                    \n",
      "epoch: 0069, loss: 0.5190 - val_loss: 1.0248; auc: 0.9558 - auc_val: 0.8528                                                                                                    \n",
      "epoch: 0070, loss: 0.5152 - val_loss: 1.0328; auc: 0.9570 - auc_val: 0.8484                                                                                                    \n",
      "epoch: 0071, loss: 0.5056 - val_loss: 0.9902; auc: 0.9571 - auc_val: 0.8533                                                                                                    \n",
      "epoch: 0072, loss: 0.5056 - val_loss: 0.9634; auc: 0.9577 - auc_val: 0.8508                                                                                                    \n",
      "epoch: 0073, loss: 0.4996 - val_loss: 0.9603; auc: 0.9582 - auc_val: 0.8546                                                                                                    \n",
      "epoch: 0074, loss: 0.4926 - val_loss: 0.9623; auc: 0.9587 - auc_val: 0.8531                                                                                                    \n",
      "epoch: 0075, loss: 0.4912 - val_loss: 1.0510; auc: 0.9597 - auc_val: 0.8509                                                                                                    \n",
      "epoch: 0076, loss: 0.4821 - val_loss: 1.0085; auc: 0.9607 - auc_val: 0.8518                                                                                                    \n",
      "epoch: 0077, loss: 0.4892 - val_loss: 1.0439; auc: 0.9609 - auc_val: 0.8480                                                                                                    \n",
      "epoch: 0078, loss: 0.4778 - val_loss: 1.1673; auc: 0.9622 - auc_val: 0.8437                                                                                                    \n",
      "epoch: 0079, loss: 0.4825 - val_loss: 1.1749; auc: 0.9626 - auc_val: 0.8453                                                                                                    \n",
      "epoch: 0080, loss: 0.4754 - val_loss: 1.2305; auc: 0.9633 - auc_val: 0.8446                                                                                                    \n",
      "epoch: 0081, loss: 0.4659 - val_loss: 1.1852; auc: 0.9639 - auc_val: 0.8459                                                                                                    \n",
      "epoch: 0082, loss: 0.4655 - val_loss: 1.0806; auc: 0.9646 - auc_val: 0.8474                                                                                                    \n",
      "epoch: 0083, loss: 0.4594 - val_loss: 1.0600; auc: 0.9646 - auc_val: 0.8488                                                                                                    \n",
      "epoch: 0084, loss: 0.4585 - val_loss: 1.0885; auc: 0.9650 - auc_val: 0.8490                                                                                                    \n",
      "epoch: 0085, loss: 0.4560 - val_loss: 1.0456; auc: 0.9653 - auc_val: 0.8527                                                                                                    \n",
      "epoch: 0086, loss: 0.4458 - val_loss: 1.1769; auc: 0.9671 - auc_val: 0.8466                                                                                                    \n",
      "epoch: 0087, loss: 0.4460 - val_loss: 1.1765; auc: 0.9668 - auc_val: 0.8501                                                                                                    \n",
      "epoch: 0088, loss: 0.4471 - val_loss: 1.0042; auc: 0.9653 - auc_val: 0.8529                                                                                                    \n",
      "\n",
      "Restoring model weights from the end of the best epoch.\n",
      "\n",
      "Epoch 00088: early stopping\n"
     ]
    },
    {
     "data": {
      "text/plain": [
       "<tensorflow.python.keras.callbacks.History at 0x7f1be672ff98>"
      ]
     },
     "execution_count": 9,
     "metadata": {},
     "output_type": "execute_result"
    }
   ],
   "source": [
    "model.fit(trainX, trainY, batch_size=128, \n",
    "      epochs=500, verbose= 0, shuffle = True, \n",
    "      validation_data = (validX, validY), \n",
    "      callbacks=[performace, earlystop]) "
   ]
  },
  {
   "cell_type": "code",
   "execution_count": 10,
   "metadata": {},
   "outputs": [
    {
     "data": {
      "text/plain": [
       "<matplotlib.axes._subplots.AxesSubplot at 0x7f1b3cb7af60>"
      ]
     },
     "execution_count": 10,
     "metadata": {},
     "output_type": "execute_result"
    },
    {
     "data": {
      "image/png": "[encoded data removed]",
      "text/plain": [
       "<Figure size 432x288 with 1 Axes>"
      ]
     },
     "metadata": {
      "needs_background": "light"
     },
     "output_type": "display_data"
    }
   ],
   "source": [
    "dfp = pd.DataFrame(performace.history)[['training_loss', 'validation_loss', 'training_auc', 'validation_auc']]\n",
    "dfp.plot()"
   ]
  },
  {
   "cell_type": "code",
   "execution_count": 11,
   "metadata": {},
   "outputs": [
    {
     "name": "stdout",
     "output_type": "stream",
     "text": [
      "0.9181349663739051 0.8520746379717421 0.8466390021636451\n"
     ]
    }
   ],
   "source": [
    "train_auc = np.mean(performace.evaluate(trainX, trainY))\n",
    "valid_auc = np.mean(performace.evaluate(validX, validY))\n",
    "test_auc = np.mean(performace.evaluate(testX, testY))\n",
    "\n",
    "\n",
    "print(train_auc, valid_auc, test_auc)"
   ]
  },
  {
   "cell_type": "code",
   "execution_count": 12,
   "metadata": {},
   "outputs": [
    {
     "data": {
      "text/plain": [
       "[0.7872485632183909,\n",
       " 0.8123100303951367,\n",
       " 0.9017005721551177,\n",
       " 0.8788875832354094,\n",
       " 0.7165703520247242,\n",
       " 0.8048486360612108,\n",
       " 0.9038326300984529,\n",
       " 0.8651652331371662,\n",
       " 0.9144948570707389,\n",
       " 0.8115097753651971,\n",
       " 0.9139782357473036,\n",
       " 0.8491215574548908]"
      ]
     },
     "execution_count": 12,
     "metadata": {},
     "output_type": "execute_result"
    }
   ],
   "source": [
    "performace.evaluate(testX, testY)"
   ]
  },
  {
   "cell_type": "code",
   "execution_count": null,
   "metadata": {},
   "outputs": [],
   "source": []
  },
  {
   "cell_type": "code",
   "execution_count": null,
   "metadata": {},
   "outputs": [],
   "source": []
  },
  {
   "cell_type": "code",
   "execution_count": null,
   "metadata": {},
   "outputs": [],
   "source": []
  }
 ],
 "metadata": {
  "kernelspec": {
   "display_name": "Python 3",
   "language": "python",
   "name": "python3"
  },
  "language_info": {
   "codemirror_mode": {
    "name": "ipython",
    "version": 3
   },
   "file_extension": ".py",
   "mimetype": "text/x-python",
   "name": "python",
   "nbconvert_exporter": "python",
   "pygments_lexer": "ipython3",
   "version": "3.6.9"
  }
 },
 "nbformat": 4,
 "nbformat_minor": 4
}
