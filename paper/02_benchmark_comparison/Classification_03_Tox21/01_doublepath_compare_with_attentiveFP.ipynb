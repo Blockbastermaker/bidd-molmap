{
 "cells": [
  {
   "cell_type": "code",
   "execution_count": 1,
   "metadata": {},
   "outputs": [
    {
     "name": "stderr",
     "output_type": "stream",
     "text": [
      "/home/shenwanxiang/anaconda3/envs/deepchem/lib/python3.6/site-packages/tensorflow/python/framework/dtypes.py:516: FutureWarning: Passing (type, 1) or '1type' as a synonym of type is deprecated; in a future version of numpy, it will be understood as (type, (1,)) / '(1,)type'.\n",
      "  _np_qint8 = np.dtype([(\"qint8\", np.int8, 1)])\n",
      "/home/shenwanxiang/anaconda3/envs/deepchem/lib/python3.6/site-packages/tensorflow/python/framework/dtypes.py:517: FutureWarning: Passing (type, 1) or '1type' as a synonym of type is deprecated; in a future version of numpy, it will be understood as (type, (1,)) / '(1,)type'.\n",
      "  _np_quint8 = np.dtype([(\"quint8\", np.uint8, 1)])\n",
      "/home/shenwanxiang/anaconda3/envs/deepchem/lib/python3.6/site-packages/tensorflow/python/framework/dtypes.py:518: FutureWarning: Passing (type, 1) or '1type' as a synonym of type is deprecated; in a future version of numpy, it will be understood as (type, (1,)) / '(1,)type'.\n",
      "  _np_qint16 = np.dtype([(\"qint16\", np.int16, 1)])\n",
      "/home/shenwanxiang/anaconda3/envs/deepchem/lib/python3.6/site-packages/tensorflow/python/framework/dtypes.py:519: FutureWarning: Passing (type, 1) or '1type' as a synonym of type is deprecated; in a future version of numpy, it will be understood as (type, (1,)) / '(1,)type'.\n",
      "  _np_quint16 = np.dtype([(\"quint16\", np.uint16, 1)])\n",
      "/home/shenwanxiang/anaconda3/envs/deepchem/lib/python3.6/site-packages/tensorflow/python/framework/dtypes.py:520: FutureWarning: Passing (type, 1) or '1type' as a synonym of type is deprecated; in a future version of numpy, it will be understood as (type, (1,)) / '(1,)type'.\n",
      "  _np_qint32 = np.dtype([(\"qint32\", np.int32, 1)])\n",
      "/home/shenwanxiang/anaconda3/envs/deepchem/lib/python3.6/site-packages/tensorflow/python/framework/dtypes.py:525: FutureWarning: Passing (type, 1) or '1type' as a synonym of type is deprecated; in a future version of numpy, it will be understood as (type, (1,)) / '(1,)type'.\n",
      "  np_resource = np.dtype([(\"resource\", np.ubyte, 1)])\n",
      "/home/shenwanxiang/anaconda3/envs/deepchem/lib/python3.6/site-packages/tensorboard/compat/tensorflow_stub/dtypes.py:541: FutureWarning: Passing (type, 1) or '1type' as a synonym of type is deprecated; in a future version of numpy, it will be understood as (type, (1,)) / '(1,)type'.\n",
      "  _np_qint8 = np.dtype([(\"qint8\", np.int8, 1)])\n",
      "/home/shenwanxiang/anaconda3/envs/deepchem/lib/python3.6/site-packages/tensorboard/compat/tensorflow_stub/dtypes.py:542: FutureWarning: Passing (type, 1) or '1type' as a synonym of type is deprecated; in a future version of numpy, it will be understood as (type, (1,)) / '(1,)type'.\n",
      "  _np_quint8 = np.dtype([(\"quint8\", np.uint8, 1)])\n",
      "/home/shenwanxiang/anaconda3/envs/deepchem/lib/python3.6/site-packages/tensorboard/compat/tensorflow_stub/dtypes.py:543: FutureWarning: Passing (type, 1) or '1type' as a synonym of type is deprecated; in a future version of numpy, it will be understood as (type, (1,)) / '(1,)type'.\n",
      "  _np_qint16 = np.dtype([(\"qint16\", np.int16, 1)])\n",
      "/home/shenwanxiang/anaconda3/envs/deepchem/lib/python3.6/site-packages/tensorboard/compat/tensorflow_stub/dtypes.py:544: FutureWarning: Passing (type, 1) or '1type' as a synonym of type is deprecated; in a future version of numpy, it will be understood as (type, (1,)) / '(1,)type'.\n",
      "  _np_quint16 = np.dtype([(\"quint16\", np.uint16, 1)])\n",
      "/home/shenwanxiang/anaconda3/envs/deepchem/lib/python3.6/site-packages/tensorboard/compat/tensorflow_stub/dtypes.py:545: FutureWarning: Passing (type, 1) or '1type' as a synonym of type is deprecated; in a future version of numpy, it will be understood as (type, (1,)) / '(1,)type'.\n",
      "  _np_qint32 = np.dtype([(\"qint32\", np.int32, 1)])\n",
      "/home/shenwanxiang/anaconda3/envs/deepchem/lib/python3.6/site-packages/tensorboard/compat/tensorflow_stub/dtypes.py:550: FutureWarning: Passing (type, 1) or '1type' as a synonym of type is deprecated; in a future version of numpy, it will be understood as (type, (1,)) / '(1,)type'.\n",
      "  np_resource = np.dtype([(\"resource\", np.ubyte, 1)])\n"
     ]
    }
   ],
   "source": [
    "from molmap import dataset\n",
    "from molmap import loadmap\n",
    "import molmap\n",
    "\n",
    "import matplotlib.pyplot as plt\n",
    "from joblib import dump, load\n",
    "from tqdm import tqdm\n",
    "import pandas as pd\n",
    "tqdm.pandas(ascii=True)\n",
    "\n",
    "import numpy as np\n",
    "import tensorflow as tf\n",
    "from tensorflow.keras.utils import plot_model\n",
    "from tensorflow.keras import Model, Input\n",
    "from tensorflow.keras.layers import MaxPool2D, GlobalMaxPool2D, BatchNormalization, Activation\n",
    "from tensorflow.keras.layers import Conv2D, Concatenate,Flatten, Dense, Dropout\n",
    "\n",
    "\n",
    "#use the second GPU, if negative value, CPUs will be used\n",
    "import os\n",
    "os.environ[\"CUDA_VISIBLE_DEVICES\"]=\"0\"\n",
    "\n",
    "\n",
    "%matplotlib inline\n",
    "seed = 777\n",
    "np.random.seed(seed)\n",
    "tf.set_random_seed(seed)"
   ]
  },
  {
   "cell_type": "code",
   "execution_count": 2,
   "metadata": {},
   "outputs": [
    {
     "name": "stdout",
     "output_type": "stream",
     "text": [
      "total samples: 7831\n"
     ]
    }
   ],
   "source": [
    "def get_deepchem_idx(df):\n",
    "    \"\"\" deepchem dataset\"\"\"\n",
    "    deepchem_data_name = './tox21_deepchem.data'\n",
    "    if os.path.exists(deepchem_data_name):\n",
    "        train_df,valid_df,test_df = load(deepchem_data_name)\n",
    "    else:\n",
    "        import deepchem as dc\n",
    "        task, train_valid_test, _ = dc.molnet.load_tox21(featurizer='Raw',split = 'random')\n",
    "        train, valid, test = train_valid_test\n",
    "        print('training set: %s,  valid set: %s, test set %s' % (len(train.y), len(valid.y), len(test.y)))\n",
    "        train_df = df[df.smiles.isin(train.ids)]\n",
    "        valid_df = df[df.smiles.isin(valid.ids)]\n",
    "        test_df = df[df.smiles.isin(test.ids)]\n",
    "        dump((train_df,valid_df,test_df), deepchem_data_name)\n",
    "    train_idx = train_df.index\n",
    "    valid_idx = valid_df.index\n",
    "    test_idx = test_df.index\n",
    "    print('training set: %s,  valid set: %s, test set %s' % (len(train_idx), len(valid_idx), len(test_idx)))\n",
    "    return train_idx, valid_idx, test_idx\n",
    "\n",
    "def get_attentiveFP_idx(df):\n",
    "    \"\"\" attentiveFP dataset\"\"\"\n",
    "    train, valid,test = load('./tox21_attentiveFP.data')\n",
    "    print('training set: %s,  valid set: %s, test set %s' % (len(train), len(valid), len(test)))\n",
    "    train_idx = df[df.smiles.isin(train.smiles)].index\n",
    "    valid_idx = df[df.smiles.isin(valid.smiles)].index\n",
    "    test_idx = df[df.smiles.isin(test.smiles)].index\n",
    "    print('training set: %s,  valid set: %s, test set %s' % (len(train_idx), len(valid_idx), len(test_idx)))\n",
    "    return train_idx, valid_idx, test_idx  \n",
    "\n",
    "#load dataset\n",
    "data = dataset.load_Tox21()\n",
    "df = data.data"
   ]
  },
  {
   "cell_type": "code",
   "execution_count": 3,
   "metadata": {},
   "outputs": [],
   "source": [
    "MASK = -1\n",
    "Y = pd.DataFrame(data.y).fillna(MASK).values"
   ]
  },
  {
   "cell_type": "code",
   "execution_count": 4,
   "metadata": {},
   "outputs": [],
   "source": [
    "# calculate feature\n",
    "X1_name =  './descriptor_grid_split.data'\n",
    "X2_name =  './fingerprint_grid_split.data'\n",
    "\n",
    "if os.path.exists(X1_name):\n",
    "    X1 = load(X1_name)\n",
    "else:\n",
    "    mp = loadmap('../../descriptor_grid_split.mp')\n",
    "    X1 = mp.batch_transform(data.x, n_jobs = 8)\n",
    "    dump(X1, X1_name)\n",
    "    \n",
    "if os.path.exists(X2_name):\n",
    "    X2 = load(X2_name)\n",
    "else:\n",
    "    mp = loadmap('../../fingerprint_grid_split.mp')\n",
    "    X2 = mp.batch_transform(data.x, n_jobs = 8)\n",
    "    dump(X2, X2_name)"
   ]
  },
  {
   "cell_type": "code",
   "execution_count": 5,
   "metadata": {},
   "outputs": [
    {
     "name": "stdout",
     "output_type": "stream",
     "text": [
      "training set: 6249,  valid set: 781, test set 781\n",
      "training set: 6249,  valid set: 781, test set 781\n",
      "6249 781 781\n"
     ]
    }
   ],
   "source": [
    "train_idx, valid_idx, test_idx = get_attentiveFP_idx(df)\n",
    "#train_idx, valid_idx, test_idx = get_deepchem_idx(df)\n",
    "\n",
    "\n",
    "trainX = (X1[train_idx], X2[train_idx])\n",
    "trainY = Y[train_idx]\n",
    "\n",
    "validX = (X1[valid_idx], X2[valid_idx])\n",
    "validY = Y[valid_idx]\n",
    "\n",
    "testX = (X1[test_idx], X2[test_idx])\n",
    "testY = Y[test_idx]\n",
    "\n",
    "print(len(train_idx), len(valid_idx), len(test_idx))"
   ]
  },
  {
   "cell_type": "code",
   "execution_count": 6,
   "metadata": {},
   "outputs": [
    {
     "data": {
      "text/plain": [
       "(array([22.6       , 26.87564767,  7.42487884, 18.64529915,  6.8514377 ,\n",
       "        18.67021277, 32.80263158,  5.09305374, 25.66824645, 16.93379791,\n",
       "         5.19946452, 15.26888218]),\n",
       " array([0.04424779, 0.03720841, 0.13468233, 0.05363282, 0.14595477,\n",
       "        0.05356125, 0.03048536, 0.19634586, 0.03895864, 0.0590535 ,\n",
       "        0.1923275 , 0.06549268]))"
      ]
     },
     "execution_count": 6,
     "metadata": {},
     "output_type": "execute_result"
    }
   ],
   "source": [
    "def get_pos_weights(trainY):\n",
    "    \"\"\"pos_weights: neg_n / pos_n \"\"\"\n",
    "    dfY = pd.DataFrame(trainY)\n",
    "    pos = dfY == 1\n",
    "    pos_n = pos.sum(axis=0)\n",
    "    neg = dfY == 0\n",
    "    neg_n = neg.sum(axis=0)\n",
    "    pos_weights = (neg_n / pos_n).values\n",
    "    neg_weights = (pos_n / neg_n).values\n",
    "    return pos_weights, neg_weights\n",
    "\n",
    "pos_weights, neg_weights = get_pos_weights(Y[train_idx])\n",
    "pos_weights, neg_weights"
   ]
  },
  {
   "cell_type": "code",
   "execution_count": 19,
   "metadata": {},
   "outputs": [],
   "source": [
    "def Inception(inputs, units = 8, strides = 1):\n",
    "    \"\"\"\n",
    "    naive google inception block\n",
    "    \"\"\"\n",
    "    x1 = Conv2D(units, 5, padding='same', activation = 'relu', strides = strides)(inputs)\n",
    "    x2 = Conv2D(units, 3, padding='same', activation = 'relu', strides = strides)(inputs)\n",
    "    x3 = Conv2D(units, 1, padding='same', activation = 'relu', strides = strides)(inputs)\n",
    "    outputs = Concatenate()([x1, x2, x3])    \n",
    "    return outputs\n",
    "\n",
    "\n",
    "def DoublePathClassificationModel(molmap1_size, molmap2_size, n_outputs = 1):\n",
    "    \n",
    "    ## first inputs\n",
    "    d_inputs1 = Input(molmap1_size)\n",
    "    d_conv1 = Conv2D(48, 13, padding = 'same', activation='relu', strides = 1)(d_inputs1)\n",
    "    d_pool1 = MaxPool2D(pool_size = 3, strides = 2, padding = 'same')(d_conv1) #p1\n",
    "    d_incept1 = Inception(d_pool1, strides = 1, units = 32)\n",
    "    d_pool2 = MaxPool2D(pool_size = 3, strides = 2, padding = 'same')(d_incept1) #p2\n",
    "    d_incept2 = Inception(d_pool2, strides = 1, units = 64)\n",
    "    d_flat1 = GlobalMaxPool2D()(d_incept2)\n",
    "\n",
    "    \n",
    "    ## second inputs\n",
    "    f_inputs1 = Input(molmap2_size)\n",
    "    f_conv1 = Conv2D(48, 13, padding = 'same', activation='relu', strides = 1)(f_inputs1)\n",
    "    f_pool1 = MaxPool2D(pool_size = 3, strides = 2, padding = 'same')(f_conv1) #p1\n",
    "    f_incept1 = Inception(f_pool1, strides = 1, units = 32)\n",
    "    f_pool2 = MaxPool2D(pool_size = 3, strides = 2, padding = 'same')(f_incept1) #p2\n",
    "    f_incept2 = Inception(f_pool2, strides = 1, units = 64)\n",
    "    f_flat1 = GlobalMaxPool2D()(f_incept2)    \n",
    "    \n",
    "    ## concat\n",
    "    merge = Concatenate()([d_flat1, f_flat1]) \n",
    "    d1 = Dense(256,activation='relu')(merge)\n",
    "\n",
    "    #since the sigmoid function is in loss function, so the activation function should be None\n",
    "    outputs = Dense(n_outputs, activation=None)(d1)\n",
    "    \n",
    "    model = tf.keras.Model(inputs=[d_inputs1, f_inputs1], outputs=outputs)\n",
    "    \n",
    "    return model\n",
    "\n",
    "from loss import cross_entropy, weighted_cross_entropy\n",
    "from cbks import ClassificationPerformance, EarlyStoppingAtMinLoss\n",
    "\n",
    "molmap1_size = X1.shape[1:]\n",
    "molmap2_size = X2.shape[1:]\n",
    "loss = lambda y_true, y_pred: weighted_cross_entropy(y_true,y_pred, pos_weights, MASK)\n",
    "model = DoublePathClassificationModel(molmap1_size,molmap2_size, n_outputs = Y.shape[1])"
   ]
  },
  {
   "cell_type": "code",
   "execution_count": 20,
   "metadata": {},
   "outputs": [],
   "source": [
    "earlystop = EarlyStoppingAtMinLoss(patience=50, criteria = 'val_loss')\n",
    "performace = ClassificationPerformance((trainX, trainY), (validX, validY), MASK)\n",
    "lr = tf.keras.optimizers.Adam(lr=0.0001, beta_1=0.9, beta_2=0.999, epsilon=1e-08, decay=0.0) #\n",
    "model.compile(optimizer = lr, loss = loss)"
   ]
  },
  {
   "cell_type": "code",
   "execution_count": 21,
   "metadata": {},
   "outputs": [
    {
     "name": "stdout",
     "output_type": "stream",
     "text": [
      "epoch: 0001, loss: 1.1683 - val_loss: 1.1509; auc: 0.7310 - auc_val: 0.7039                                                                                                    \n",
      "epoch: 0002, loss: 1.1301 - val_loss: 1.1041; auc: 0.7341 - auc_val: 0.7084                                                                                                    \n",
      "epoch: 0003, loss: 1.0729 - val_loss: 1.0601; auc: 0.7405 - auc_val: 0.7202                                                                                                    \n",
      "epoch: 0004, loss: 1.0354 - val_loss: 1.0341; auc: 0.7555 - auc_val: 0.7366                                                                                                    \n",
      "epoch: 0005, loss: 1.0131 - val_loss: 1.0185; auc: 0.7678 - auc_val: 0.7495                                                                                                    \n",
      "epoch: 0006, loss: 0.9958 - val_loss: 1.0063; auc: 0.7777 - auc_val: 0.7575                                                                                                    \n",
      "epoch: 0007, loss: 0.9810 - val_loss: 0.9988; auc: 0.7892 - auc_val: 0.7637                                                                                                    \n",
      "epoch: 0008, loss: 0.9670 - val_loss: 0.9762; auc: 0.7999 - auc_val: 0.7741                                                                                                    \n",
      "epoch: 0009, loss: 0.9536 - val_loss: 0.9801; auc: 0.8063 - auc_val: 0.7746                                                                                                    \n",
      "epoch: 0010, loss: 0.9389 - val_loss: 0.9753; auc: 0.8131 - auc_val: 0.7797                                                                                                    \n",
      "epoch: 0011, loss: 0.9352 - val_loss: 0.9627; auc: 0.8283 - auc_val: 0.7926                                                                                                    \n",
      "epoch: 0012, loss: 0.9140 - val_loss: 0.9547; auc: 0.8304 - auc_val: 0.7898                                                                                                    \n",
      "epoch: 0013, loss: 0.9027 - val_loss: 0.9497; auc: 0.8374 - auc_val: 0.7938                                                                                                    \n",
      "epoch: 0014, loss: 0.8897 - val_loss: 0.9558; auc: 0.8491 - auc_val: 0.8027                                                                                                    \n",
      "epoch: 0015, loss: 0.8768 - val_loss: 0.9436; auc: 0.8474 - auc_val: 0.7997                                                                                                    \n",
      "epoch: 0016, loss: 0.8718 - val_loss: 0.9281; auc: 0.8550 - auc_val: 0.8076                                                                                                    \n",
      "epoch: 0017, loss: 0.8563 - val_loss: 0.9211; auc: 0.8618 - auc_val: 0.8109                                                                                                    \n",
      "epoch: 0018, loss: 0.8472 - val_loss: 0.9221; auc: 0.8637 - auc_val: 0.8097                                                                                                    \n",
      "epoch: 0019, loss: 0.8366 - val_loss: 0.9106; auc: 0.8686 - auc_val: 0.8154                                                                                                    \n",
      "epoch: 0020, loss: 0.8268 - val_loss: 0.9229; auc: 0.8684 - auc_val: 0.8136                                                                                                    \n",
      "epoch: 0021, loss: 0.8140 - val_loss: 0.9114; auc: 0.8769 - auc_val: 0.8206                                                                                                    \n",
      "epoch: 0022, loss: 0.8104 - val_loss: 0.8937; auc: 0.8808 - auc_val: 0.8218                                                                                                    \n",
      "epoch: 0023, loss: 0.8105 - val_loss: 0.9200; auc: 0.8858 - auc_val: 0.8249                                                                                                    \n",
      "epoch: 0024, loss: 0.7945 - val_loss: 0.8887; auc: 0.8868 - auc_val: 0.8253                                                                                                    \n",
      "epoch: 0025, loss: 0.7809 - val_loss: 0.8978; auc: 0.8909 - auc_val: 0.8285                                                                                                    \n",
      "epoch: 0026, loss: 0.7649 - val_loss: 0.8785; auc: 0.8934 - auc_val: 0.8319                                                                                                    \n",
      "epoch: 0027, loss: 0.7630 - val_loss: 0.8709; auc: 0.8949 - auc_val: 0.8313                                                                                                    \n",
      "epoch: 0028, loss: 0.7658 - val_loss: 0.8847; auc: 0.8981 - auc_val: 0.8323                                                                                                    \n",
      "epoch: 0029, loss: 0.7429 - val_loss: 0.8795; auc: 0.9031 - auc_val: 0.8327                                                                                                    \n",
      "epoch: 0030, loss: 0.7397 - val_loss: 0.8910; auc: 0.9036 - auc_val: 0.8355                                                                                                    \n",
      "epoch: 0031, loss: 0.7326 - val_loss: 0.8743; auc: 0.9042 - auc_val: 0.8343                                                                                                    \n",
      "epoch: 0032, loss: 0.7244 - val_loss: 0.8630; auc: 0.9072 - auc_val: 0.8366                                                                                                    \n",
      "epoch: 0033, loss: 0.7148 - val_loss: 0.8714; auc: 0.9098 - auc_val: 0.8369                                                                                                    \n",
      "epoch: 0034, loss: 0.7086 - val_loss: 0.8919; auc: 0.9130 - auc_val: 0.8383                                                                                                    \n",
      "epoch: 0035, loss: 0.7042 - val_loss: 0.8638; auc: 0.9148 - auc_val: 0.8389                                                                                                    \n",
      "epoch: 0036, loss: 0.6887 - val_loss: 0.8716; auc: 0.9171 - auc_val: 0.8405                                                                                                    \n",
      "epoch: 0037, loss: 0.6855 - val_loss: 0.8650; auc: 0.9175 - auc_val: 0.8411                                                                                                    \n",
      "epoch: 0038, loss: 0.6789 - val_loss: 0.8594; auc: 0.9208 - auc_val: 0.8422                                                                                                    \n",
      "epoch: 0039, loss: 0.6686 - val_loss: 0.9006; auc: 0.9231 - auc_val: 0.8419                                                                                                    \n",
      "epoch: 0040, loss: 0.6733 - val_loss: 0.8744; auc: 0.9238 - auc_val: 0.8411                                                                                                    \n",
      "epoch: 0041, loss: 0.6550 - val_loss: 0.8631; auc: 0.9261 - auc_val: 0.8436                                                                                                    \n",
      "epoch: 0042, loss: 0.6475 - val_loss: 0.8572; auc: 0.9279 - auc_val: 0.8425                                                                                                    \n",
      "epoch: 0043, loss: 0.6493 - val_loss: 0.8703; auc: 0.9272 - auc_val: 0.8417                                                                                                    \n",
      "epoch: 0044, loss: 0.6425 - val_loss: 0.8770; auc: 0.9314 - auc_val: 0.8453                                                                                                    \n",
      "epoch: 0045, loss: 0.6367 - val_loss: 0.8736; auc: 0.9315 - auc_val: 0.8430                                                                                                    \n",
      "epoch: 0046, loss: 0.6324 - val_loss: 0.8780; auc: 0.9338 - auc_val: 0.8440                                                                                                    \n",
      "epoch: 0047, loss: 0.6190 - val_loss: 0.9085; auc: 0.9340 - auc_val: 0.8450                                                                                                    \n",
      "epoch: 0048, loss: 0.6166 - val_loss: 0.8699; auc: 0.9371 - auc_val: 0.8454                                                                                                    \n",
      "epoch: 0049, loss: 0.6167 - val_loss: 0.8713; auc: 0.9345 - auc_val: 0.8466                                                                                                    \n",
      "epoch: 0050, loss: 0.6071 - val_loss: 0.8508; auc: 0.9376 - auc_val: 0.8476                                                                                                    \n",
      "epoch: 0051, loss: 0.6017 - val_loss: 0.9603; auc: 0.9391 - auc_val: 0.8461                                                                                                    \n",
      "epoch: 0052, loss: 0.6146 - val_loss: 0.8656; auc: 0.9394 - auc_val: 0.8457                                                                                                    \n",
      "epoch: 0053, loss: 0.5889 - val_loss: 0.8957; auc: 0.9424 - auc_val: 0.8476                                                                                                    \n",
      "epoch: 0054, loss: 0.5799 - val_loss: 0.9275; auc: 0.9433 - auc_val: 0.8469                                                                                                    \n",
      "epoch: 0055, loss: 0.5806 - val_loss: 0.9547; auc: 0.9439 - auc_val: 0.8468                                                                                                    \n",
      "epoch: 0056, loss: 0.5795 - val_loss: 0.9297; auc: 0.9450 - auc_val: 0.8486                                                                                                    \n",
      "epoch: 0057, loss: 0.5712 - val_loss: 0.9235; auc: 0.9448 - auc_val: 0.8489                                                                                                    \n",
      "epoch: 0058, loss: 0.5683 - val_loss: 0.8672; auc: 0.9454 - auc_val: 0.8486                                                                                                    \n",
      "epoch: 0059, loss: 0.5594 - val_loss: 0.9033; auc: 0.9477 - auc_val: 0.8483                                                                                                    \n",
      "epoch: 0060, loss: 0.5515 - val_loss: 0.8846; auc: 0.9479 - auc_val: 0.8496                                                                                                    \n",
      "epoch: 0061, loss: 0.5533 - val_loss: 0.9163; auc: 0.9492 - auc_val: 0.8493                                                                                                    \n",
      "epoch: 0062, loss: 0.5424 - val_loss: 0.9123; auc: 0.9497 - auc_val: 0.8489                                                                                                    \n",
      "epoch: 0063, loss: 0.5373 - val_loss: 0.9231; auc: 0.9505 - auc_val: 0.8497                                                                                                    \n",
      "epoch: 0064, loss: 0.5372 - val_loss: 1.0092; auc: 0.9511 - auc_val: 0.8508                                                                                                    \n",
      "epoch: 0065, loss: 0.5314 - val_loss: 0.9087; auc: 0.9520 - auc_val: 0.8505                                                                                                    \n",
      "epoch: 0066, loss: 0.5306 - val_loss: 0.9088; auc: 0.9531 - auc_val: 0.8500                                                                                                    \n",
      "epoch: 0067, loss: 0.5230 - val_loss: 0.9486; auc: 0.9542 - auc_val: 0.8485                                                                                                    \n",
      "epoch: 0068, loss: 0.5192 - val_loss: 0.9409; auc: 0.9551 - auc_val: 0.8495                                                                                                    \n",
      "epoch: 0069, loss: 0.5106 - val_loss: 0.8830; auc: 0.9543 - auc_val: 0.8506                                                                                                    \n",
      "epoch: 0070, loss: 0.5291 - val_loss: 0.8930; auc: 0.9544 - auc_val: 0.8509                                                                                                    \n",
      "epoch: 0071, loss: 0.5046 - val_loss: 0.9737; auc: 0.9569 - auc_val: 0.8504                                                                                                    \n",
      "epoch: 0072, loss: 0.5017 - val_loss: 0.9551; auc: 0.9577 - auc_val: 0.8497                                                                                                    \n",
      "epoch: 0073, loss: 0.4968 - val_loss: 1.0398; auc: 0.9580 - auc_val: 0.8490                                                                                                    \n",
      "epoch: 0074, loss: 0.5004 - val_loss: 1.0393; auc: 0.9589 - auc_val: 0.8489                                                                                                    \n",
      "epoch: 0075, loss: 0.4920 - val_loss: 0.9176; auc: 0.9592 - auc_val: 0.8505                                                                                                    \n",
      "epoch: 0076, loss: 0.4882 - val_loss: 0.9946; auc: 0.9596 - auc_val: 0.8489                                                                                                    \n",
      "epoch: 0077, loss: 0.4850 - val_loss: 0.9689; auc: 0.9607 - auc_val: 0.8507                                                                                                    \n",
      "epoch: 0078, loss: 0.4787 - val_loss: 0.9928; auc: 0.9611 - auc_val: 0.8507                                                                                                    \n",
      "epoch: 0079, loss: 0.4717 - val_loss: 1.0258; auc: 0.9616 - auc_val: 0.8511                                                                                                    \n",
      "epoch: 0080, loss: 0.4711 - val_loss: 1.0223; auc: 0.9626 - auc_val: 0.8508                                                                                                    \n",
      "epoch: 0081, loss: 0.4638 - val_loss: 0.9789; auc: 0.9629 - auc_val: 0.8523                                                                                                    \n",
      "epoch: 0082, loss: 0.4641 - val_loss: 0.9979; auc: 0.9631 - auc_val: 0.8526                                                                                                    \n",
      "epoch: 0083, loss: 0.4611 - val_loss: 1.0049; auc: 0.9637 - auc_val: 0.8524                                                                                                    \n",
      "epoch: 0084, loss: 0.4622 - val_loss: 1.0288; auc: 0.9646 - auc_val: 0.8508                                                                                                    \n",
      "epoch: 0085, loss: 0.4622 - val_loss: 1.0851; auc: 0.9652 - auc_val: 0.8500                                                                                                    \n",
      "epoch: 0086, loss: 0.4589 - val_loss: 0.9563; auc: 0.9647 - auc_val: 0.8528                                                                                                    \n",
      "epoch: 0087, loss: 0.4490 - val_loss: 0.9759; auc: 0.9660 - auc_val: 0.8518                                                                                                    \n",
      "epoch: 0088, loss: 0.4494 - val_loss: 1.0347; auc: 0.9665 - auc_val: 0.8514                                                                                                    \n",
      "epoch: 0089, loss: 0.4453 - val_loss: 1.0912; auc: 0.9672 - auc_val: 0.8525                                                                                                    \n",
      "epoch: 0090, loss: 0.4392 - val_loss: 1.0603; auc: 0.9674 - auc_val: 0.8496                                                                                                    \n",
      "epoch: 0091, loss: 0.4349 - val_loss: 1.0925; auc: 0.9680 - auc_val: 0.8510                                                                                                    \n",
      "epoch: 0092, loss: 0.4318 - val_loss: 1.0341; auc: 0.9683 - auc_val: 0.8520                                                                                                    \n",
      "epoch: 0093, loss: 0.4362 - val_loss: 1.1259; auc: 0.9691 - auc_val: 0.8493                                                                                                    \n",
      "epoch: 0094, loss: 0.4259 - val_loss: 1.0719; auc: 0.9693 - auc_val: 0.8515                                                                                                    \n",
      "epoch: 0095, loss: 0.4280 - val_loss: 1.1473; auc: 0.9692 - auc_val: 0.8503                                                                                                    \n",
      "epoch: 0096, loss: 0.4289 - val_loss: 1.0040; auc: 0.9697 - auc_val: 0.8521                                                                                                    \n",
      "epoch: 0097, loss: 0.4240 - val_loss: 1.0958; auc: 0.9705 - auc_val: 0.8526                                                                                                    \n",
      "epoch: 0098, loss: 0.4188 - val_loss: 1.1451; auc: 0.9704 - auc_val: 0.8514                                                                                                    \n",
      "epoch: 0099, loss: 0.4202 - val_loss: 1.0685; auc: 0.9710 - auc_val: 0.8527                                                                                                    \n",
      "epoch: 0100, loss: 0.4087 - val_loss: 1.0853; auc: 0.9718 - auc_val: 0.8523                                                                                                    \n",
      "\n",
      "Restoring model weights from the end of the best epoch.\n",
      "\n",
      "Epoch 00100: early stopping\n"
     ]
    },
    {
     "data": {
      "text/plain": [
       "<tensorflow.python.keras.callbacks.History at 0x7f51705657b8>"
      ]
     },
     "execution_count": 21,
     "metadata": {},
     "output_type": "execute_result"
    }
   ],
   "source": [
    "model.fit(trainX, trainY, batch_size=128, \n",
    "      epochs=500, verbose= 0, shuffle = True, \n",
    "      validation_data = (validX, validY), \n",
    "      callbacks=[performace, earlystop]) "
   ]
  },
  {
   "cell_type": "code",
   "execution_count": 22,
   "metadata": {},
   "outputs": [
    {
     "data": {
      "text/plain": [
       "<matplotlib.axes._subplots.AxesSubplot at 0x7f51505dfa90>"
      ]
     },
     "execution_count": 22,
     "metadata": {},
     "output_type": "execute_result"
    },
    {
     "data": {
      "image/png": "[encoded data removed]",
      "text/plain": [
       "<Figure size 432x288 with 1 Axes>"
      ]
     },
     "metadata": {
      "needs_background": "light"
     },
     "output_type": "display_data"
    }
   ],
   "source": [
    "dfp = pd.DataFrame(performace.history)[['training_loss', 'validation_loss']]\n",
    "dfp.plot()"
   ]
  },
  {
   "cell_type": "code",
   "execution_count": 23,
   "metadata": {},
   "outputs": [
    {
     "name": "stdout",
     "output_type": "stream",
     "text": [
      "0.9376415054067982 0.8476276273240809 0.8519855744922779\n"
     ]
    }
   ],
   "source": [
    "train_auc = np.mean(performace.evaluate(trainX, trainY))\n",
    "valid_auc = np.mean(performace.evaluate(validX, validY))\n",
    "test_auc = np.mean(performace.evaluate(testX, testY))\n",
    "\n",
    "\n",
    "print(train_auc, valid_auc, test_auc)"
   ]
  },
  {
   "cell_type": "code",
   "execution_count": 24,
   "metadata": {},
   "outputs": [
    {
     "data": {
      "text/plain": [
       "[0.7876436288801235,\n",
       " 0.913373077206153,\n",
       " 0.8850949173300673,\n",
       " 0.838339222614841,\n",
       " 0.7589654043435555,\n",
       " 0.870166539050536,\n",
       " 0.9288025889967637,\n",
       " 0.8489361702127659,\n",
       " 0.8763955342902712,\n",
       " 0.7677668640762675,\n",
       " 0.8843164794007492,\n",
       " 0.8640264675052411]"
      ]
     },
     "execution_count": 24,
     "metadata": {},
     "output_type": "execute_result"
    }
   ],
   "source": [
    "performace.evaluate(testX, testY)"
   ]
  },
  {
   "cell_type": "code",
   "execution_count": null,
   "metadata": {},
   "outputs": [],
   "source": []
  },
  {
   "cell_type": "code",
   "execution_count": null,
   "metadata": {},
   "outputs": [],
   "source": []
  },
  {
   "cell_type": "code",
   "execution_count": null,
   "metadata": {},
   "outputs": [],
   "source": []
  },
  {
   "cell_type": "code",
   "execution_count": null,
   "metadata": {},
   "outputs": [],
   "source": []
  }
 ],
 "metadata": {
  "kernelspec": {
   "display_name": "Python 3",
   "language": "python",
   "name": "python3"
  },
  "language_info": {
   "codemirror_mode": {
    "name": "ipython",
    "version": 3
   },
   "file_extension": ".py",
   "mimetype": "text/x-python",
   "name": "python",
   "nbconvert_exporter": "python",
   "pygments_lexer": "ipython3",
   "version": "3.6.9"
  }
 },
 "nbformat": 4,
 "nbformat_minor": 4
}
