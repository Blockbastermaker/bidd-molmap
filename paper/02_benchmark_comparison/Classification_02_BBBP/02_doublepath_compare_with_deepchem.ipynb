{
 "cells": [
  {
   "cell_type": "code",
   "execution_count": 1,
   "metadata": {},
   "outputs": [
    {
     "name": "stderr",
     "output_type": "stream",
     "text": [
      "/home/shenwanxiang/anaconda3/envs/deepchem/lib/python3.6/site-packages/tensorflow/python/framework/dtypes.py:516: FutureWarning: Passing (type, 1) or '1type' as a synonym of type is deprecated; in a future version of numpy, it will be understood as (type, (1,)) / '(1,)type'.\n",
      "  _np_qint8 = np.dtype([(\"qint8\", np.int8, 1)])\n",
      "/home/shenwanxiang/anaconda3/envs/deepchem/lib/python3.6/site-packages/tensorflow/python/framework/dtypes.py:517: FutureWarning: Passing (type, 1) or '1type' as a synonym of type is deprecated; in a future version of numpy, it will be understood as (type, (1,)) / '(1,)type'.\n",
      "  _np_quint8 = np.dtype([(\"quint8\", np.uint8, 1)])\n",
      "/home/shenwanxiang/anaconda3/envs/deepchem/lib/python3.6/site-packages/tensorflow/python/framework/dtypes.py:518: FutureWarning: Passing (type, 1) or '1type' as a synonym of type is deprecated; in a future version of numpy, it will be understood as (type, (1,)) / '(1,)type'.\n",
      "  _np_qint16 = np.dtype([(\"qint16\", np.int16, 1)])\n",
      "/home/shenwanxiang/anaconda3/envs/deepchem/lib/python3.6/site-packages/tensorflow/python/framework/dtypes.py:519: FutureWarning: Passing (type, 1) or '1type' as a synonym of type is deprecated; in a future version of numpy, it will be understood as (type, (1,)) / '(1,)type'.\n",
      "  _np_quint16 = np.dtype([(\"quint16\", np.uint16, 1)])\n",
      "/home/shenwanxiang/anaconda3/envs/deepchem/lib/python3.6/site-packages/tensorflow/python/framework/dtypes.py:520: FutureWarning: Passing (type, 1) or '1type' as a synonym of type is deprecated; in a future version of numpy, it will be understood as (type, (1,)) / '(1,)type'.\n",
      "  _np_qint32 = np.dtype([(\"qint32\", np.int32, 1)])\n",
      "/home/shenwanxiang/anaconda3/envs/deepchem/lib/python3.6/site-packages/tensorflow/python/framework/dtypes.py:525: FutureWarning: Passing (type, 1) or '1type' as a synonym of type is deprecated; in a future version of numpy, it will be understood as (type, (1,)) / '(1,)type'.\n",
      "  np_resource = np.dtype([(\"resource\", np.ubyte, 1)])\n",
      "/home/shenwanxiang/anaconda3/envs/deepchem/lib/python3.6/site-packages/tensorboard/compat/tensorflow_stub/dtypes.py:541: FutureWarning: Passing (type, 1) or '1type' as a synonym of type is deprecated; in a future version of numpy, it will be understood as (type, (1,)) / '(1,)type'.\n",
      "  _np_qint8 = np.dtype([(\"qint8\", np.int8, 1)])\n",
      "/home/shenwanxiang/anaconda3/envs/deepchem/lib/python3.6/site-packages/tensorboard/compat/tensorflow_stub/dtypes.py:542: FutureWarning: Passing (type, 1) or '1type' as a synonym of type is deprecated; in a future version of numpy, it will be understood as (type, (1,)) / '(1,)type'.\n",
      "  _np_quint8 = np.dtype([(\"quint8\", np.uint8, 1)])\n",
      "/home/shenwanxiang/anaconda3/envs/deepchem/lib/python3.6/site-packages/tensorboard/compat/tensorflow_stub/dtypes.py:543: FutureWarning: Passing (type, 1) or '1type' as a synonym of type is deprecated; in a future version of numpy, it will be understood as (type, (1,)) / '(1,)type'.\n",
      "  _np_qint16 = np.dtype([(\"qint16\", np.int16, 1)])\n",
      "/home/shenwanxiang/anaconda3/envs/deepchem/lib/python3.6/site-packages/tensorboard/compat/tensorflow_stub/dtypes.py:544: FutureWarning: Passing (type, 1) or '1type' as a synonym of type is deprecated; in a future version of numpy, it will be understood as (type, (1,)) / '(1,)type'.\n",
      "  _np_quint16 = np.dtype([(\"quint16\", np.uint16, 1)])\n",
      "/home/shenwanxiang/anaconda3/envs/deepchem/lib/python3.6/site-packages/tensorboard/compat/tensorflow_stub/dtypes.py:545: FutureWarning: Passing (type, 1) or '1type' as a synonym of type is deprecated; in a future version of numpy, it will be understood as (type, (1,)) / '(1,)type'.\n",
      "  _np_qint32 = np.dtype([(\"qint32\", np.int32, 1)])\n",
      "/home/shenwanxiang/anaconda3/envs/deepchem/lib/python3.6/site-packages/tensorboard/compat/tensorflow_stub/dtypes.py:550: FutureWarning: Passing (type, 1) or '1type' as a synonym of type is deprecated; in a future version of numpy, it will be understood as (type, (1,)) / '(1,)type'.\n",
      "  np_resource = np.dtype([(\"resource\", np.ubyte, 1)])\n"
     ]
    }
   ],
   "source": [
    "from molmap import dataset\n",
    "from molmap import loadmap\n",
    "import molmap\n",
    "\n",
    "import matplotlib.pyplot as plt\n",
    "from joblib import dump, load\n",
    "from tqdm import tqdm\n",
    "import pandas as pd\n",
    "tqdm.pandas(ascii=True)\n",
    "\n",
    "import numpy as np\n",
    "import tensorflow as tf\n",
    "from tensorflow.keras.utils import plot_model\n",
    "from tensorflow.keras import Model, Input\n",
    "from tensorflow.keras.layers import MaxPool2D, GlobalMaxPool2D, BatchNormalization, Activation\n",
    "from tensorflow.keras.layers import Conv2D, Concatenate,Flatten, Dense, Dropout\n",
    "\n",
    "\n",
    "#use the second GPU, if negative value, CPUs will be used\n",
    "import os\n",
    "os.environ[\"CUDA_VISIBLE_DEVICES\"]=\"0\"\n",
    "\n",
    "\n",
    "%matplotlib inline\n",
    "np.random.seed(777)\n",
    "tf.set_random_seed(777)"
   ]
  },
  {
   "cell_type": "code",
   "execution_count": 2,
   "metadata": {},
   "outputs": [
    {
     "name": "stdout",
     "output_type": "stream",
     "text": [
      "total samples: 2050\n"
     ]
    }
   ],
   "source": [
    "def get_deepchem_idx(df):\n",
    "    \"\"\" deepchem dataset\"\"\"\n",
    "    deepchem_data_name = './BBBP_deepchem.data'\n",
    "    if os.path.exists(deepchem_data_name):\n",
    "        train_df,valid_df,test_df = load(deepchem_data_name)\n",
    "    else:\n",
    "        import deepchem as dc\n",
    "        task, train_valid_test, _ = dc.molnet.load_bbbp(featurizer='Raw',split = 'scaffold')\n",
    "        train, valid, test = train_valid_test\n",
    "        print(train.ids.shape, valid.ids.shape, test.ids.shape)\n",
    "        \n",
    "        train_df = df[df.smiles.isin(train.ids)]\n",
    "        valid_df = df[df.smiles.isin(valid.ids)]\n",
    "        test_df = df[df.smiles.isin(test.ids)]\n",
    "        dump((train_df,valid_df,test_df), deepchem_data_name)\n",
    "    train_idx = train_df.index\n",
    "    valid_idx = valid_df.index\n",
    "    test_idx = test_df.index\n",
    "    print('training set: %s, valid set: %s, test set %s' % (len(train_idx), len(valid_idx), len(test_idx)))\n",
    "    return train_idx, valid_idx, test_idx\n",
    "\n",
    "\n",
    "def get_attentiveFP_idx(df):\n",
    "    \"\"\" attentiveFP dataset\"\"\"\n",
    "    train, valid,test = load('./BBBP_attentiveFP.data')\n",
    "    train_idx = df[df.smiles.isin(train.smiles)].index\n",
    "    valid_idx = df[df.smiles.isin(valid.smiles)].index\n",
    "    test_idx = df[df.smiles.isin(test.smiles)].index\n",
    "    print('training set: %s, valid set: %s, test set %s' % (len(train_idx), len(valid_idx), len(test_idx)))\n",
    "    return train_idx, valid_idx, test_idx \n",
    "\n",
    "#load dataset\n",
    "data = dataset.load_BBBP()\n",
    "df = data.data"
   ]
  },
  {
   "cell_type": "code",
   "execution_count": 3,
   "metadata": {},
   "outputs": [],
   "source": [
    "MASK = -1\n",
    "Y = pd.DataFrame(data.y).fillna(MASK).values"
   ]
  },
  {
   "cell_type": "code",
   "execution_count": 4,
   "metadata": {},
   "outputs": [],
   "source": [
    "# calculate feature\n",
    "X1_name =  './descriptor_grid_split.data'\n",
    "X2_name =  './fingerprint_grid_split.data'\n",
    "\n",
    "if os.path.exists(X1_name):\n",
    "    X1 = load(X1_name)\n",
    "else:\n",
    "    mp = loadmap('../../descriptor_grid_split.mp')\n",
    "    X1 = mp.batch_transform(data.x, n_jobs = 8)\n",
    "    dump(X1, X1_name)\n",
    "    \n",
    "if os.path.exists(X2_name):\n",
    "    X2 = load(X2_name)\n",
    "else:\n",
    "    mp = loadmap('../../fingerprint_grid_split.mp')\n",
    "    X2 = mp.batch_transform(data.x, n_jobs = 8)\n",
    "    dump(X2, X2_name)"
   ]
  },
  {
   "cell_type": "code",
   "execution_count": 5,
   "metadata": {},
   "outputs": [
    {
     "name": "stdout",
     "output_type": "stream",
     "text": [
      "training set: 1631, valid set: 204, test set 204\n",
      "1631 204 204\n"
     ]
    }
   ],
   "source": [
    "#train_idx, valid_idx, test_idx = get_attentiveFP_idx(df)\n",
    "train_idx, valid_idx, test_idx = get_deepchem_idx(df)\n",
    "\n",
    "\n",
    "trainX = (X1[train_idx], X2[train_idx])\n",
    "trainY = Y[train_idx]\n",
    "\n",
    "validX = (X1[valid_idx], X2[valid_idx])\n",
    "validY = Y[valid_idx]\n",
    "\n",
    "testX = (X1[test_idx], X2[test_idx])\n",
    "testY = Y[test_idx]\n",
    "\n",
    "print(len(train_idx), len(valid_idx), len(test_idx))"
   ]
  },
  {
   "cell_type": "code",
   "execution_count": 6,
   "metadata": {},
   "outputs": [
    {
     "data": {
      "text/plain": [
       "(array([0.21625652]), array([4.62413793]))"
      ]
     },
     "execution_count": 6,
     "metadata": {},
     "output_type": "execute_result"
    }
   ],
   "source": [
    "def get_pos_weights(trainY):\n",
    "    \"\"\"pos_weights: neg_n / pos_n \"\"\"\n",
    "    dfY = pd.DataFrame(trainY)\n",
    "    pos = dfY == 1\n",
    "    pos_n = pos.sum(axis=0)\n",
    "    neg = dfY == 0\n",
    "    neg_n = neg.sum(axis=0)\n",
    "    pos_weights = (neg_n / pos_n).values\n",
    "    neg_weights = (pos_n / neg_n).values\n",
    "    return pos_weights, neg_weights\n",
    "\n",
    "pos_weights, neg_weights = get_pos_weights(Y[train_idx])\n",
    "pos_weights, neg_weights"
   ]
  },
  {
   "cell_type": "code",
   "execution_count": 7,
   "metadata": {},
   "outputs": [
    {
     "name": "stdout",
     "output_type": "stream",
     "text": [
      "WARNING:tensorflow:From /home/shenwanxiang/anaconda3/envs/deepchem/lib/python3.6/site-packages/tensorflow/python/ops/init_ops.py:1251: calling VarianceScaling.__init__ (from tensorflow.python.ops.init_ops) with dtype is deprecated and will be removed in a future version.\n",
      "Instructions for updating:\n",
      "Call initializer instance with the dtype argument instead of passing it to the constructor\n"
     ]
    }
   ],
   "source": [
    "def Inception(inputs, units = 8, strides = 1):\n",
    "    \"\"\"\n",
    "    naive google inception block\n",
    "    \"\"\"\n",
    "    x1 = Conv2D(units, 5, padding='same', activation = 'relu', strides = strides)(inputs)\n",
    "    x2 = Conv2D(units, 3, padding='same', activation = 'relu', strides = strides)(inputs)\n",
    "    x3 = Conv2D(units, 1, padding='same', activation = 'relu', strides = strides)(inputs)\n",
    "    outputs = Concatenate()([x1, x2, x3])    \n",
    "    return outputs\n",
    "\n",
    "\n",
    "def DoublePathClassificationModel(molmap1_size, molmap2_size, n_outputs = 1):\n",
    "    \n",
    "    ## first inputs\n",
    "    d_inputs1 = Input(molmap1_size)\n",
    "    d_conv1 = Conv2D(48, 13, padding = 'same', activation='relu', strides = 1)(d_inputs1)\n",
    "    d_pool1 = MaxPool2D(pool_size = 3, strides = 2, padding = 'same')(d_conv1) #p1\n",
    "    d_incept1 = Inception(d_pool1, strides = 1, units = 32)\n",
    "    d_pool2 = MaxPool2D(pool_size = 3, strides = 2, padding = 'same')(d_incept1) #p2\n",
    "    d_incept2 = Inception(d_pool2, strides = 1, units = 64)\n",
    "    d_flat1 = GlobalMaxPool2D()(d_incept2)\n",
    "\n",
    "    \n",
    "    ## second inputs\n",
    "    f_inputs1 = Input(molmap2_size)\n",
    "    f_conv1 = Conv2D(48, 13, padding = 'same', activation='relu', strides = 1)(f_inputs1)\n",
    "    f_pool1 = MaxPool2D(pool_size = 3, strides = 2, padding = 'same')(f_conv1) #p1\n",
    "    f_incept1 = Inception(f_pool1, strides = 1, units = 32)\n",
    "    f_pool2 = MaxPool2D(pool_size = 3, strides = 2, padding = 'same')(f_incept1) #p2\n",
    "    f_incept2 = Inception(f_pool2, strides = 1, units = 64)\n",
    "    f_flat1 = GlobalMaxPool2D()(f_incept2)    \n",
    "    \n",
    "    ## concat\n",
    "    merge = Concatenate()([d_flat1, f_flat1]) \n",
    "    d1 = Dense(256,activation='relu')(merge)\n",
    "    d1 = Dense(128,activation='relu')(d1)\n",
    "    d1 = Dense(32,activation='relu')(d1)\n",
    "\n",
    "    #since the sigmoid function is in loss function, so the activation function should be None\n",
    "    outputs = Dense(n_outputs, activation=None)(d1)\n",
    "    \n",
    "    model = tf.keras.Model(inputs=[d_inputs1, f_inputs1], outputs=outputs)\n",
    "    \n",
    "    return model\n",
    "\n",
    "from loss import cross_entropy, weighted_cross_entropy\n",
    "from cbks import ClassificationPerformance, EarlyStoppingAtMinLoss\n",
    "\n",
    "molmap1_size = X1.shape[1:]\n",
    "molmap2_size = X2.shape[1:]\n",
    "loss = lambda y_true, y_pred: weighted_cross_entropy(y_true,y_pred, pos_weights, MASK)\n",
    "model = DoublePathClassificationModel(molmap1_size,molmap2_size, n_outputs = Y.shape[1])"
   ]
  },
  {
   "cell_type": "code",
   "execution_count": 9,
   "metadata": {},
   "outputs": [],
   "source": [
    "earlystop = EarlyStoppingAtMinLoss(patience=10, criteria = 'val_loss')\n",
    "performace = ClassificationPerformance((trainX, trainY), (validX, validY), MASK)\n",
    "lr = tf.keras.optimizers.Adam(lr=0.0001, beta_1=0.9, beta_2=0.999, epsilon=1e-08, decay=0.0) #\n",
    "model.compile(optimizer = lr, loss = loss)"
   ]
  },
  {
   "cell_type": "code",
   "execution_count": 10,
   "metadata": {},
   "outputs": [
    {
     "name": "stdout",
     "output_type": "stream",
     "text": [
      "epoch: 0001, loss: 0.2403 - val_loss: 0.3504; auc: 0.8717 - auc_val: 0.9617                                                                                                    \n",
      "epoch: 0002, loss: 0.2195 - val_loss: 0.3241; auc: 0.8726 - auc_val: 0.9568                                                                                                    \n",
      "epoch: 0003, loss: 0.1970 - val_loss: 0.2368; auc: 0.8718 - auc_val: 0.9569                                                                                                    \n",
      "epoch: 0004, loss: 0.1708 - val_loss: 0.1691; auc: 0.8785 - auc_val: 0.9573                                                                                                    \n",
      "epoch: 0005, loss: 0.1606 - val_loss: 0.1552; auc: 0.8887 - auc_val: 0.9581                                                                                                    \n",
      "epoch: 0006, loss: 0.1512 - val_loss: 0.1338; auc: 0.8993 - auc_val: 0.9594                                                                                                    \n",
      "epoch: 0007, loss: 0.1452 - val_loss: 0.1278; auc: 0.9063 - auc_val: 0.9606                                                                                                    \n",
      "epoch: 0008, loss: 0.1478 - val_loss: 0.1293; auc: 0.9182 - auc_val: 0.9605                                                                                                    \n",
      "epoch: 0009, loss: 0.1415 - val_loss: 0.1355; auc: 0.9254 - auc_val: 0.9607                                                                                                    \n",
      "epoch: 0010, loss: 0.1283 - val_loss: 0.1248; auc: 0.9303 - auc_val: 0.9610                                                                                                    \n",
      "epoch: 0011, loss: 0.1238 - val_loss: 0.1233; auc: 0.9353 - auc_val: 0.9610                                                                                                    \n",
      "epoch: 0012, loss: 0.1193 - val_loss: 0.1302; auc: 0.9431 - auc_val: 0.9605                                                                                                    \n",
      "epoch: 0013, loss: 0.1157 - val_loss: 0.1266; auc: 0.9481 - auc_val: 0.9610                                                                                                    \n",
      "epoch: 0014, loss: 0.1094 - val_loss: 0.1357; auc: 0.9532 - auc_val: 0.9601                                                                                                    \n",
      "epoch: 0015, loss: 0.1054 - val_loss: 0.1453; auc: 0.9591 - auc_val: 0.9593                                                                                                    \n",
      "epoch: 0016, loss: 0.1023 - val_loss: 0.1198; auc: 0.9600 - auc_val: 0.9620                                                                                                    \n",
      "epoch: 0017, loss: 0.0965 - val_loss: 0.1212; auc: 0.9647 - auc_val: 0.9617                                                                                                    \n",
      "epoch: 0018, loss: 0.0908 - val_loss: 0.1328; auc: 0.9690 - auc_val: 0.9606                                                                                                    \n",
      "epoch: 0019, loss: 0.0908 - val_loss: 0.1189; auc: 0.9708 - auc_val: 0.9621                                                                                                    \n",
      "epoch: 0020, loss: 0.0857 - val_loss: 0.1149; auc: 0.9719 - auc_val: 0.9629                                                                                                    \n",
      "epoch: 0021, loss: 0.0860 - val_loss: 0.1698; auc: 0.9767 - auc_val: 0.9584                                                                                                    \n",
      "epoch: 0022, loss: 0.0770 - val_loss: 0.1163; auc: 0.9780 - auc_val: 0.9618                                                                                                    \n",
      "epoch: 0023, loss: 0.0698 - val_loss: 0.1305; auc: 0.9823 - auc_val: 0.9609                                                                                                    \n",
      "epoch: 0024, loss: 0.0666 - val_loss: 0.1265; auc: 0.9836 - auc_val: 0.9614                                                                                                    \n",
      "epoch: 0025, loss: 0.0633 - val_loss: 0.1245; auc: 0.9864 - auc_val: 0.9612                                                                                                    \n",
      "epoch: 0026, loss: 0.0595 - val_loss: 0.1546; auc: 0.9881 - auc_val: 0.9611                                                                                                    \n",
      "epoch: 0027, loss: 0.0554 - val_loss: 0.1417; auc: 0.9903 - auc_val: 0.9606                                                                                                    \n",
      "epoch: 0028, loss: 0.0531 - val_loss: 0.1369; auc: 0.9913 - auc_val: 0.9640                                                                                                    \n",
      "epoch: 0029, loss: 0.0507 - val_loss: 0.1551; auc: 0.9920 - auc_val: 0.9632                                                                                                    \n",
      "epoch: 0030, loss: 0.0551 - val_loss: 0.1108; auc: 0.9915 - auc_val: 0.9670                                                                                                    \n",
      "epoch: 0031, loss: 0.0558 - val_loss: 0.2481; auc: 0.9932 - auc_val: 0.9589                                                                                                    \n",
      "epoch: 0032, loss: 0.0556 - val_loss: 0.1432; auc: 0.9935 - auc_val: 0.9622                                                                                                    \n",
      "epoch: 0033, loss: 0.0399 - val_loss: 0.1700; auc: 0.9948 - auc_val: 0.9615                                                                                                    \n",
      "epoch: 0034, loss: 0.0357 - val_loss: 0.1395; auc: 0.9954 - auc_val: 0.9657                                                                                                    \n",
      "epoch: 0035, loss: 0.0333 - val_loss: 0.1783; auc: 0.9962 - auc_val: 0.9627                                                                                                    \n",
      "epoch: 0036, loss: 0.0329 - val_loss: 0.1829; auc: 0.9968 - auc_val: 0.9624                                                                                                    \n",
      "epoch: 0037, loss: 0.0295 - val_loss: 0.1832; auc: 0.9974 - auc_val: 0.9615                                                                                                    \n",
      "epoch: 0038, loss: 0.0271 - val_loss: 0.2147; auc: 0.9978 - auc_val: 0.9627                                                                                                    \n",
      "epoch: 0039, loss: 0.0262 - val_loss: 0.1789; auc: 0.9980 - auc_val: 0.9649                                                                                                    \n",
      "epoch: 0040, loss: 0.0242 - val_loss: 0.1959; auc: 0.9984 - auc_val: 0.9622                                                                                                    \n",
      "\n",
      "Restoring model weights from the end of the best epoch.\n",
      "\n",
      "Epoch 00040: early stopping\n"
     ]
    },
    {
     "data": {
      "text/plain": [
       "<tensorflow.python.keras.callbacks.History at 0x7f699b797a90>"
      ]
     },
     "execution_count": 10,
     "metadata": {},
     "output_type": "execute_result"
    }
   ],
   "source": [
    "model.fit(trainX, trainY, batch_size=128, \n",
    "      epochs=500, verbose= 0, shuffle = True, \n",
    "      validation_data = (validX, validY), \n",
    "      callbacks=[performace, earlystop]) "
   ]
  },
  {
   "cell_type": "code",
   "execution_count": 11,
   "metadata": {},
   "outputs": [
    {
     "data": {
      "text/plain": [
       "<matplotlib.axes._subplots.AxesSubplot at 0x7f699b6a27f0>"
      ]
     },
     "execution_count": 11,
     "metadata": {},
     "output_type": "execute_result"
    },
    {
     "data": {
      "image/png": "[encoded data removed]",
      "text/plain": [
       "<Figure size 432x288 with 1 Axes>"
      ]
     },
     "metadata": {
      "needs_background": "light"
     },
     "output_type": "display_data"
    }
   ],
   "source": [
    "dfp = pd.DataFrame(performace.history)[['training_loss', 'validation_loss']]\n",
    "dfp.plot()"
   ]
  },
  {
   "cell_type": "code",
   "execution_count": 12,
   "metadata": {},
   "outputs": [
    {
     "name": "stdout",
     "output_type": "stream",
     "text": [
      "0.9914500244285016 0.9670031055900621 0.7468927642354755\n"
     ]
    }
   ],
   "source": [
    "train_auc = np.mean(performace.evaluate(trainX, trainY))\n",
    "valid_auc = np.mean(performace.evaluate(validX, validY))\n",
    "test_auc = np.mean(performace.evaluate(testX, testY))\n",
    "\n",
    "\n",
    "print(train_auc, valid_auc, test_auc)"
   ]
  },
  {
   "cell_type": "code",
   "execution_count": 13,
   "metadata": {},
   "outputs": [
    {
     "data": {
      "text/plain": [
       "[0.7468927642354755]"
      ]
     },
     "execution_count": 13,
     "metadata": {},
     "output_type": "execute_result"
    }
   ],
   "source": [
    "performace.evaluate(testX, testY)"
   ]
  },
  {
   "cell_type": "code",
   "execution_count": null,
   "metadata": {},
   "outputs": [],
   "source": []
  },
  {
   "cell_type": "code",
   "execution_count": null,
   "metadata": {},
   "outputs": [],
   "source": []
  },
  {
   "cell_type": "code",
   "execution_count": null,
   "metadata": {},
   "outputs": [],
   "source": []
  },
  {
   "cell_type": "code",
   "execution_count": null,
   "metadata": {},
   "outputs": [],
   "source": []
  },
  {
   "cell_type": "code",
   "execution_count": null,
   "metadata": {},
   "outputs": [],
   "source": []
  }
 ],
 "metadata": {
  "kernelspec": {
   "display_name": "Python 3",
   "language": "python",
   "name": "python3"
  },
  "language_info": {
   "codemirror_mode": {
    "name": "ipython",
    "version": 3
   },
   "file_extension": ".py",
   "mimetype": "text/x-python",
   "name": "python",
   "nbconvert_exporter": "python",
   "pygments_lexer": "ipython3",
   "version": "3.6.9"
  }
 },
 "nbformat": 4,
 "nbformat_minor": 4
}
