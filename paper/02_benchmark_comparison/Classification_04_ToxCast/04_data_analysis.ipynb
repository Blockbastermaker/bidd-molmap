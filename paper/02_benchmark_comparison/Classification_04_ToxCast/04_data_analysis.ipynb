{
 "cells": [
  {
   "cell_type": "code",
   "execution_count": 1,
   "metadata": {},
   "outputs": [],
   "source": [
    "import pandas as pd"
   ]
  },
  {
   "cell_type": "code",
   "execution_count": 2,
   "metadata": {},
   "outputs": [],
   "source": [
    "df = pd.read_csv('./result.csv', index_col = 0)\n",
    "\n",
    "\n",
    "def _apply_statics(g):\n",
    "    \n",
    "    res = {'trainable_paras': int(g.trainable_paras.mean()), \n",
    "            'best_epoch': g.best_epoch.tolist(),\n",
    "            'lr': g.lr.mean(),\n",
    "            'batch_size': int(g.batch_size.mean()),\n",
    "            'random_seed': g.random_seed.tolist(),\n",
    "            'train_samples': int(g.train_samples.mean()),\n",
    "            'valid_samples': int(g.valid_samples.mean()),\n",
    "            'test_samples': int(g.test_samples.mean()),\n",
    "            'train_roc_auc': '%.3f ± %.3f' % (g.train_roc_auc.mean(), g.train_roc_auc.std()),     \n",
    "            'valid_roc_auc': '%.3f ± %.3f' % (g.valid_roc_auc.mean(), g.valid_roc_auc.std()),     \n",
    "            'test_roc_auc':  '%.3f ± %.3f' % (g.test_roc_auc.mean(), g.test_roc_auc.std()),            \n",
    "             }\n",
    "\n",
    "    return pd.Series(res)"
   ]
  },
  {
   "cell_type": "code",
   "execution_count": 3,
   "metadata": {},
   "outputs": [],
   "source": [
    "df1 = df.groupby(['dataset', 'model']).apply(_apply_statics)"
   ]
  },
  {
   "cell_type": "code",
   "execution_count": 4,
   "metadata": {},
   "outputs": [],
   "source": [
    "df1.to_csv('./result.anlysis.csv')"
   ]
  },
  {
   "cell_type": "code",
   "execution_count": 5,
   "metadata": {},
   "outputs": [
    {
     "data": {
      "text/html": [
       "<div>\n",
       "<style scoped>\n",
       "    .dataframe tbody tr th:only-of-type {\n",
       "        vertical-align: middle;\n",
       "    }\n",
       "\n",
       "    .dataframe tbody tr th {\n",
       "        vertical-align: top;\n",
       "    }\n",
       "\n",
       "    .dataframe thead th {\n",
       "        text-align: right;\n",
       "    }\n",
       "</style>\n",
       "<table border=\"1\" class=\"dataframe\">\n",
       "  <thead>\n",
       "    <tr style=\"text-align: right;\">\n",
       "      <th></th>\n",
       "      <th></th>\n",
       "      <th>trainable_paras</th>\n",
       "      <th>best_epoch</th>\n",
       "      <th>lr</th>\n",
       "      <th>batch_size</th>\n",
       "      <th>random_seed</th>\n",
       "      <th>train_samples</th>\n",
       "      <th>valid_samples</th>\n",
       "      <th>test_samples</th>\n",
       "      <th>train_roc_auc</th>\n",
       "      <th>valid_roc_auc</th>\n",
       "      <th>test_roc_auc</th>\n",
       "    </tr>\n",
       "    <tr>\n",
       "      <th>dataset</th>\n",
       "      <th>model</th>\n",
       "      <th></th>\n",
       "      <th></th>\n",
       "      <th></th>\n",
       "      <th></th>\n",
       "      <th></th>\n",
       "      <th></th>\n",
       "      <th></th>\n",
       "      <th></th>\n",
       "      <th></th>\n",
       "      <th></th>\n",
       "      <th></th>\n",
       "    </tr>\n",
       "  </thead>\n",
       "  <tbody>\n",
       "    <tr>\n",
       "      <td rowspan=\"3\" valign=\"top\">deepchem</td>\n",
       "      <td>DoublePath_both</td>\n",
       "      <td>1438217</td>\n",
       "      <td>[67, 69, 89]</td>\n",
       "      <td>0.0001</td>\n",
       "      <td>128</td>\n",
       "      <td>[17, 42, 777]</td>\n",
       "      <td>6860</td>\n",
       "      <td>858</td>\n",
       "      <td>858</td>\n",
       "      <td>0.872 ± 0.008</td>\n",
       "      <td>0.775 ± 0.001</td>\n",
       "      <td>0.746 ± 0.002</td>\n",
       "    </tr>\n",
       "    <tr>\n",
       "      <td>SinglePath_descriptor</td>\n",
       "      <td>997289</td>\n",
       "      <td>[159, 258, 144]</td>\n",
       "      <td>0.0001</td>\n",
       "      <td>128</td>\n",
       "      <td>[17, 42, 777]</td>\n",
       "      <td>6860</td>\n",
       "      <td>858</td>\n",
       "      <td>858</td>\n",
       "      <td>0.855 ± 0.023</td>\n",
       "      <td>0.760 ± 0.002</td>\n",
       "      <td>0.746 ± 0.003</td>\n",
       "    </tr>\n",
       "    <tr>\n",
       "      <td>SinglePath_fingerprint</td>\n",
       "      <td>916169</td>\n",
       "      <td>[95, 82, 84]</td>\n",
       "      <td>0.0001</td>\n",
       "      <td>128</td>\n",
       "      <td>[17, 42, 777]</td>\n",
       "      <td>6860</td>\n",
       "      <td>858</td>\n",
       "      <td>858</td>\n",
       "      <td>0.869 ± 0.004</td>\n",
       "      <td>0.760 ± 0.005</td>\n",
       "      <td>0.731 ± 0.003</td>\n",
       "    </tr>\n",
       "  </tbody>\n",
       "</table>\n",
       "</div>"
      ],
      "text/plain": [
       "                                 trainable_paras       best_epoch      lr  \\\n",
       "dataset  model                                                              \n",
       "deepchem DoublePath_both                 1438217     [67, 69, 89]  0.0001   \n",
       "         SinglePath_descriptor            997289  [159, 258, 144]  0.0001   \n",
       "         SinglePath_fingerprint           916169     [95, 82, 84]  0.0001   \n",
       "\n",
       "                                 batch_size    random_seed  train_samples  \\\n",
       "dataset  model                                                              \n",
       "deepchem DoublePath_both                128  [17, 42, 777]           6860   \n",
       "         SinglePath_descriptor          128  [17, 42, 777]           6860   \n",
       "         SinglePath_fingerprint         128  [17, 42, 777]           6860   \n",
       "\n",
       "                                 valid_samples  test_samples  train_roc_auc  \\\n",
       "dataset  model                                                                \n",
       "deepchem DoublePath_both                   858           858  0.872 ± 0.008   \n",
       "         SinglePath_descriptor             858           858  0.855 ± 0.023   \n",
       "         SinglePath_fingerprint            858           858  0.869 ± 0.004   \n",
       "\n",
       "                                 valid_roc_auc   test_roc_auc  \n",
       "dataset  model                                                 \n",
       "deepchem DoublePath_both         0.775 ± 0.001  0.746 ± 0.002  \n",
       "         SinglePath_descriptor   0.760 ± 0.002  0.746 ± 0.003  \n",
       "         SinglePath_fingerprint  0.760 ± 0.005  0.731 ± 0.003  "
      ]
     },
     "execution_count": 5,
     "metadata": {},
     "output_type": "execute_result"
    }
   ],
   "source": [
    "df1"
   ]
  },
  {
   "cell_type": "code",
   "execution_count": null,
   "metadata": {},
   "outputs": [],
   "source": []
  },
  {
   "cell_type": "code",
   "execution_count": null,
   "metadata": {},
   "outputs": [],
   "source": []
  }
 ],
 "metadata": {
  "kernelspec": {
   "display_name": "Python 3",
   "language": "python",
   "name": "python3"
  },
  "language_info": {
   "codemirror_mode": {
    "name": "ipython",
    "version": 3
   },
   "file_extension": ".py",
   "mimetype": "text/x-python",
   "name": "python",
   "nbconvert_exporter": "python",
   "pygments_lexer": "ipython3",
   "version": "3.7.4"
  }
 },
 "nbformat": 4,
 "nbformat_minor": 4
}
