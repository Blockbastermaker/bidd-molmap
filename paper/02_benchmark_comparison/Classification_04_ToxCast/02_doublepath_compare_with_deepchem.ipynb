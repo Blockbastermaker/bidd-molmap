{
 "cells": [
  {
   "cell_type": "code",
   "execution_count": 1,
   "metadata": {},
   "outputs": [
    {
     "name": "stderr",
     "output_type": "stream",
     "text": [
      "/home/shenwanxiang/anaconda3/envs/deepchem/lib/python3.6/site-packages/tensorflow/python/framework/dtypes.py:516: FutureWarning: Passing (type, 1) or '1type' as a synonym of type is deprecated; in a future version of numpy, it will be understood as (type, (1,)) / '(1,)type'.\n",
      "  _np_qint8 = np.dtype([(\"qint8\", np.int8, 1)])\n",
      "/home/shenwanxiang/anaconda3/envs/deepchem/lib/python3.6/site-packages/tensorflow/python/framework/dtypes.py:517: FutureWarning: Passing (type, 1) or '1type' as a synonym of type is deprecated; in a future version of numpy, it will be understood as (type, (1,)) / '(1,)type'.\n",
      "  _np_quint8 = np.dtype([(\"quint8\", np.uint8, 1)])\n",
      "/home/shenwanxiang/anaconda3/envs/deepchem/lib/python3.6/site-packages/tensorflow/python/framework/dtypes.py:518: FutureWarning: Passing (type, 1) or '1type' as a synonym of type is deprecated; in a future version of numpy, it will be understood as (type, (1,)) / '(1,)type'.\n",
      "  _np_qint16 = np.dtype([(\"qint16\", np.int16, 1)])\n",
      "/home/shenwanxiang/anaconda3/envs/deepchem/lib/python3.6/site-packages/tensorflow/python/framework/dtypes.py:519: FutureWarning: Passing (type, 1) or '1type' as a synonym of type is deprecated; in a future version of numpy, it will be understood as (type, (1,)) / '(1,)type'.\n",
      "  _np_quint16 = np.dtype([(\"quint16\", np.uint16, 1)])\n",
      "/home/shenwanxiang/anaconda3/envs/deepchem/lib/python3.6/site-packages/tensorflow/python/framework/dtypes.py:520: FutureWarning: Passing (type, 1) or '1type' as a synonym of type is deprecated; in a future version of numpy, it will be understood as (type, (1,)) / '(1,)type'.\n",
      "  _np_qint32 = np.dtype([(\"qint32\", np.int32, 1)])\n",
      "/home/shenwanxiang/anaconda3/envs/deepchem/lib/python3.6/site-packages/tensorflow/python/framework/dtypes.py:525: FutureWarning: Passing (type, 1) or '1type' as a synonym of type is deprecated; in a future version of numpy, it will be understood as (type, (1,)) / '(1,)type'.\n",
      "  np_resource = np.dtype([(\"resource\", np.ubyte, 1)])\n",
      "/home/shenwanxiang/anaconda3/envs/deepchem/lib/python3.6/site-packages/tensorboard/compat/tensorflow_stub/dtypes.py:541: FutureWarning: Passing (type, 1) or '1type' as a synonym of type is deprecated; in a future version of numpy, it will be understood as (type, (1,)) / '(1,)type'.\n",
      "  _np_qint8 = np.dtype([(\"qint8\", np.int8, 1)])\n",
      "/home/shenwanxiang/anaconda3/envs/deepchem/lib/python3.6/site-packages/tensorboard/compat/tensorflow_stub/dtypes.py:542: FutureWarning: Passing (type, 1) or '1type' as a synonym of type is deprecated; in a future version of numpy, it will be understood as (type, (1,)) / '(1,)type'.\n",
      "  _np_quint8 = np.dtype([(\"quint8\", np.uint8, 1)])\n",
      "/home/shenwanxiang/anaconda3/envs/deepchem/lib/python3.6/site-packages/tensorboard/compat/tensorflow_stub/dtypes.py:543: FutureWarning: Passing (type, 1) or '1type' as a synonym of type is deprecated; in a future version of numpy, it will be understood as (type, (1,)) / '(1,)type'.\n",
      "  _np_qint16 = np.dtype([(\"qint16\", np.int16, 1)])\n",
      "/home/shenwanxiang/anaconda3/envs/deepchem/lib/python3.6/site-packages/tensorboard/compat/tensorflow_stub/dtypes.py:544: FutureWarning: Passing (type, 1) or '1type' as a synonym of type is deprecated; in a future version of numpy, it will be understood as (type, (1,)) / '(1,)type'.\n",
      "  _np_quint16 = np.dtype([(\"quint16\", np.uint16, 1)])\n",
      "/home/shenwanxiang/anaconda3/envs/deepchem/lib/python3.6/site-packages/tensorboard/compat/tensorflow_stub/dtypes.py:545: FutureWarning: Passing (type, 1) or '1type' as a synonym of type is deprecated; in a future version of numpy, it will be understood as (type, (1,)) / '(1,)type'.\n",
      "  _np_qint32 = np.dtype([(\"qint32\", np.int32, 1)])\n",
      "/home/shenwanxiang/anaconda3/envs/deepchem/lib/python3.6/site-packages/tensorboard/compat/tensorflow_stub/dtypes.py:550: FutureWarning: Passing (type, 1) or '1type' as a synonym of type is deprecated; in a future version of numpy, it will be understood as (type, (1,)) / '(1,)type'.\n",
      "  np_resource = np.dtype([(\"resource\", np.ubyte, 1)])\n"
     ]
    }
   ],
   "source": [
    "from molmap import dataset\n",
    "from molmap import loadmap\n",
    "import molmap\n",
    "\n",
    "import matplotlib.pyplot as plt\n",
    "from joblib import dump, load\n",
    "from tqdm import tqdm\n",
    "import pandas as pd\n",
    "tqdm.pandas(ascii=True)\n",
    "\n",
    "import numpy as np\n",
    "import tensorflow as tf\n",
    "\n",
    "#use the second GPU, if negative value, CPUs will be used\n",
    "import os\n",
    "os.environ[\"CUDA_VISIBLE_DEVICES\"]=\"0\"\n",
    "\n",
    "\n",
    "%matplotlib inline\n",
    "np.random.seed(777)\n",
    "tf.set_random_seed(777)\n",
    "\n",
    "\n",
    "\n",
    "def get_deepchem_idx(df):\n",
    "    \"\"\" deepchem dataset\"\"\"\n",
    "    deepchem_data_name = './ToxCast_deepchem.data'\n",
    "    if os.path.exists(deepchem_data_name):\n",
    "        train_df,valid_df,test_df = load(deepchem_data_name)\n",
    "    else:\n",
    "        import deepchem as dc\n",
    "        task, train_valid_test, _ = dc.molnet.load_toxcast(featurizer='Raw',split = 'random')\n",
    "        train, valid, test = train_valid_test\n",
    "        print('training set: %s, valid set: %s, test set %s' % (len(train.y), len(valid.y), len(test.y)))\n",
    "        train_df = df[df.smiles.isin(train.ids)]\n",
    "        valid_df = df[df.smiles.isin(valid.ids)]\n",
    "        test_df = df[df.smiles.isin(test.ids)]\n",
    "        dump((train_df,valid_df,test_df), deepchem_data_name)\n",
    "    train_idx = train_df.index\n",
    "    valid_idx = valid_df.index\n",
    "    test_idx = test_df.index\n",
    "    print('training set: %s, valid set: %s, test set %s' % (len(train_idx), len(valid_idx), len(test_idx)))\n",
    "    return train_idx, valid_idx, test_idx\n",
    "\n",
    "\n",
    "def get_pos_weights(trainY):\n",
    "    \"\"\"pos_weights: neg_n / pos_n \"\"\"\n",
    "    dfY = pd.DataFrame(trainY)\n",
    "    pos = dfY == 1\n",
    "    pos_n = pos.sum(axis=0)\n",
    "    neg = dfY == 0\n",
    "    neg_n = neg.sum(axis=0)\n",
    "    pos_weights = (neg_n / pos_n).values\n",
    "    neg_weights = (pos_n / neg_n).values\n",
    "    return pos_weights, neg_weights"
   ]
  },
  {
   "cell_type": "code",
   "execution_count": 2,
   "metadata": {},
   "outputs": [
    {
     "name": "stdout",
     "output_type": "stream",
     "text": [
      "total samples: 8597\n"
     ]
    }
   ],
   "source": [
    "#load dataset\n",
    "data = dataset.load_ToxCast()\n",
    "df = data.data"
   ]
  },
  {
   "cell_type": "code",
   "execution_count": 3,
   "metadata": {},
   "outputs": [],
   "source": [
    "MASK = -1\n",
    "Y = pd.DataFrame(data.y).fillna(MASK).values"
   ]
  },
  {
   "cell_type": "code",
   "execution_count": 4,
   "metadata": {},
   "outputs": [],
   "source": [
    "# calculate feature\n",
    "X1_name =  './descriptor_grid_split.data'\n",
    "X2_name =  './fingerprint_grid_split.data'\n",
    "\n",
    "if os.path.exists(X1_name):\n",
    "    X1 = load(X1_name)\n",
    "else:\n",
    "    mp = loadmap('../../descriptor_grid_split.mp')\n",
    "    X1 = mp.batch_transform(data.x, n_jobs = 8)\n",
    "    dump(X1, X1_name)\n",
    "    \n",
    "if os.path.exists(X2_name):\n",
    "    X2 = load(X2_name)\n",
    "else:\n",
    "    mp = loadmap('../../fingerprint_grid_split.mp')\n",
    "    X2 = mp.batch_transform(data.x, n_jobs = 8)\n",
    "    dump(X2, X2_name)"
   ]
  },
  {
   "cell_type": "code",
   "execution_count": 5,
   "metadata": {},
   "outputs": [
    {
     "name": "stdout",
     "output_type": "stream",
     "text": [
      "training set: 6860, valid set: 858, test set 858\n",
      "6860 858 858\n"
     ]
    }
   ],
   "source": [
    "train_idx, valid_idx, test_idx = get_deepchem_idx(df)\n",
    "\n",
    "trainX = (X1[train_idx], X2[train_idx])\n",
    "trainY = Y[train_idx]\n",
    "\n",
    "validX = (X1[valid_idx], X2[valid_idx])\n",
    "validY = Y[valid_idx]\n",
    "\n",
    "testX = (X1[test_idx], X2[test_idx])\n",
    "testY = Y[test_idx]\n",
    "\n",
    "print(len(train_idx), len(valid_idx), len(test_idx))"
   ]
  },
  {
   "cell_type": "code",
   "execution_count": 6,
   "metadata": {},
   "outputs": [
    {
     "name": "stdout",
     "output_type": "stream",
     "text": [
      "WARNING:tensorflow:From /home/shenwanxiang/anaconda3/envs/deepchem/lib/python3.6/site-packages/tensorflow/python/ops/init_ops.py:1251: calling VarianceScaling.__init__ (from tensorflow.python.ops.init_ops) with dtype is deprecated and will be removed in a future version.\n",
      "Instructions for updating:\n",
      "Call initializer instance with the dtype argument instead of passing it to the constructor\n"
     ]
    }
   ],
   "source": [
    "from loss import cross_entropy, weighted_cross_entropy\n",
    "from cbks import EarlyStoppingAndPerformance\n",
    "from model import DoublePathClassificationModel\n",
    "\n",
    "molmap1_size = X1.shape[1:]\n",
    "molmap2_size = X2.shape[1:]\n",
    "pos_weights, neg_weights = get_pos_weights(Y[train_idx])\n",
    "loss = lambda y_true, y_pred: weighted_cross_entropy(y_true,y_pred, pos_weights, MASK)\n",
    "model = DoublePathClassificationModel(molmap1_size,molmap2_size, n_outputs = Y.shape[1])"
   ]
  },
  {
   "cell_type": "code",
   "execution_count": 7,
   "metadata": {},
   "outputs": [
    {
     "data": {
      "text/plain": [
       "1438217"
      ]
     },
     "execution_count": 7,
     "metadata": {},
     "output_type": "execute_result"
    }
   ],
   "source": [
    "earlystop = EarlyStoppingAndPerformance((trainX, trainY), (validX, validY), MASK, patience=10, criteria = 'val_auc')\n",
    "lr = tf.keras.optimizers.Adam(lr=0.0001, beta_1=0.9, beta_2=0.999, epsilon=1e-08, decay=0.0) #\n",
    "model.compile(optimizer = lr, loss = loss)\n",
    "model.count_params()"
   ]
  },
  {
   "cell_type": "code",
   "execution_count": 8,
   "metadata": {},
   "outputs": [
    {
     "name": "stdout",
     "output_type": "stream",
     "text": [
      "epoch: 0001, loss: 0.8611 - val_loss: 0.8705; auc: 0.5562 - val_auc: 0.5479                                                                                                    \n",
      "epoch: 0002, loss: 0.8595 - val_loss: 0.8680; auc: 0.5883 - val_auc: 0.5743                                                                                                    \n",
      "epoch: 0003, loss: 0.8538 - val_loss: 0.8578; auc: 0.6272 - val_auc: 0.6159                                                                                                    \n",
      "epoch: 0004, loss: 0.8396 - val_loss: 0.8451; auc: 0.6619 - val_auc: 0.6501                                                                                                    \n",
      "epoch: 0005, loss: 0.8269 - val_loss: 0.8379; auc: 0.6833 - val_auc: 0.6675                                                                                                    \n",
      "epoch: 0006, loss: 0.8185 - val_loss: 0.8335; auc: 0.6943 - val_auc: 0.6774                                                                                                    \n",
      "epoch: 0007, loss: 0.8100 - val_loss: 0.8299; auc: 0.7068 - val_auc: 0.6880                                                                                                    \n",
      "epoch: 0008, loss: 0.8039 - val_loss: 0.8293; auc: 0.7141 - val_auc: 0.6912                                                                                                    \n",
      "epoch: 0009, loss: 0.7995 - val_loss: 0.8261; auc: 0.7227 - val_auc: 0.6966                                                                                                    \n",
      "epoch: 0010, loss: 0.7954 - val_loss: 0.8220; auc: 0.7309 - val_auc: 0.7033                                                                                                    \n",
      "epoch: 0011, loss: 0.7937 - val_loss: 0.8217; auc: 0.7372 - val_auc: 0.7056                                                                                                    \n",
      "epoch: 0012, loss: 0.7877 - val_loss: 0.8176; auc: 0.7438 - val_auc: 0.7097                                                                                                    \n",
      "epoch: 0013, loss: 0.7845 - val_loss: 0.8199; auc: 0.7496 - val_auc: 0.7125                                                                                                    \n",
      "epoch: 0014, loss: 0.7830 - val_loss: 0.8141; auc: 0.7535 - val_auc: 0.7159                                                                                                    \n",
      "epoch: 0015, loss: 0.7811 - val_loss: 0.8107; auc: 0.7591 - val_auc: 0.7219                                                                                                    \n",
      "epoch: 0016, loss: 0.7756 - val_loss: 0.8124; auc: 0.7631 - val_auc: 0.7247                                                                                                    \n",
      "epoch: 0017, loss: 0.7733 - val_loss: 0.8076; auc: 0.7698 - val_auc: 0.7285                                                                                                    \n",
      "epoch: 0018, loss: 0.7715 - val_loss: 0.8044; auc: 0.7731 - val_auc: 0.7293                                                                                                    \n",
      "epoch: 0019, loss: 0.7676 - val_loss: 0.8029; auc: 0.7781 - val_auc: 0.7324                                                                                                    \n",
      "epoch: 0020, loss: 0.7641 - val_loss: 0.8039; auc: 0.7814 - val_auc: 0.7348                                                                                                    \n",
      "epoch: 0021, loss: 0.7639 - val_loss: 0.8111; auc: 0.7853 - val_auc: 0.7371                                                                                                    \n",
      "epoch: 0022, loss: 0.7617 - val_loss: 0.8043; auc: 0.7906 - val_auc: 0.7395                                                                                                    \n",
      "epoch: 0023, loss: 0.7598 - val_loss: 0.8005; auc: 0.7919 - val_auc: 0.7393                                                                                                    \n",
      "epoch: 0024, loss: 0.7555 - val_loss: 0.7963; auc: 0.7965 - val_auc: 0.7436                                                                                                    \n",
      "epoch: 0025, loss: 0.7538 - val_loss: 0.7973; auc: 0.8005 - val_auc: 0.7440                                                                                                    \n",
      "epoch: 0026, loss: 0.7508 - val_loss: 0.7973; auc: 0.8032 - val_auc: 0.7445                                                                                                    \n",
      "epoch: 0027, loss: 0.7500 - val_loss: 0.7990; auc: 0.8062 - val_auc: 0.7464                                                                                                    \n",
      "epoch: 0028, loss: 0.7464 - val_loss: 0.8004; auc: 0.8082 - val_auc: 0.7459                                                                                                    \n",
      "epoch: 0029, loss: 0.7452 - val_loss: 0.7971; auc: 0.8117 - val_auc: 0.7491                                                                                                    \n",
      "epoch: 0030, loss: 0.7472 - val_loss: 0.8010; auc: 0.8141 - val_auc: 0.7517                                                                                                    \n",
      "epoch: 0031, loss: 0.7412 - val_loss: 0.7953; auc: 0.8161 - val_auc: 0.7514                                                                                                    \n",
      "epoch: 0032, loss: 0.7421 - val_loss: 0.7940; auc: 0.8187 - val_auc: 0.7521                                                                                                    \n",
      "epoch: 0033, loss: 0.7379 - val_loss: 0.7972; auc: 0.8215 - val_auc: 0.7536                                                                                                    \n",
      "epoch: 0034, loss: 0.7365 - val_loss: 0.8023; auc: 0.8236 - val_auc: 0.7546                                                                                                    \n",
      "epoch: 0035, loss: 0.7333 - val_loss: 0.7978; auc: 0.8242 - val_auc: 0.7561                                                                                                    \n",
      "epoch: 0036, loss: 0.7318 - val_loss: 0.7953; auc: 0.8269 - val_auc: 0.7560                                                                                                    \n",
      "epoch: 0037, loss: 0.7310 - val_loss: 0.7949; auc: 0.8291 - val_auc: 0.7556                                                                                                    \n",
      "epoch: 0038, loss: 0.7301 - val_loss: 0.8073; auc: 0.8314 - val_auc: 0.7584                                                                                                    \n",
      "epoch: 0039, loss: 0.7286 - val_loss: 0.7997; auc: 0.8335 - val_auc: 0.7589                                                                                                    \n",
      "epoch: 0040, loss: 0.7258 - val_loss: 0.8113; auc: 0.8345 - val_auc: 0.7590                                                                                                    \n",
      "epoch: 0041, loss: 0.7256 - val_loss: 0.8036; auc: 0.8369 - val_auc: 0.7602                                                                                                    \n",
      "epoch: 0042, loss: 0.7223 - val_loss: 0.8048; auc: 0.8378 - val_auc: 0.7615                                                                                                    \n",
      "epoch: 0043, loss: 0.7217 - val_loss: 0.7985; auc: 0.8398 - val_auc: 0.7620                                                                                                    \n",
      "epoch: 0044, loss: 0.7222 - val_loss: 0.8240; auc: 0.8403 - val_auc: 0.7630                                                                                                    \n",
      "epoch: 0045, loss: 0.7204 - val_loss: 0.8161; auc: 0.8427 - val_auc: 0.7623                                                                                                    \n",
      "epoch: 0046, loss: 0.7175 - val_loss: 0.7994; auc: 0.8445 - val_auc: 0.7626                                                                                                    \n",
      "epoch: 0047, loss: 0.7176 - val_loss: 0.7998; auc: 0.8450 - val_auc: 0.7641                                                                                                    \n",
      "epoch: 0048, loss: 0.7170 - val_loss: 0.8009; auc: 0.8465 - val_auc: 0.7649                                                                                                    \n",
      "epoch: 0049, loss: 0.7145 - val_loss: 0.7983; auc: 0.8477 - val_auc: 0.7655                                                                                                    \n",
      "epoch: 0050, loss: 0.7131 - val_loss: 0.7957; auc: 0.8489 - val_auc: 0.7676                                                                                                    \n",
      "epoch: 0051, loss: 0.7121 - val_loss: 0.8021; auc: 0.8512 - val_auc: 0.7664                                                                                                    \n",
      "epoch: 0052, loss: 0.7131 - val_loss: 0.7995; auc: 0.8520 - val_auc: 0.7654                                                                                                    \n",
      "epoch: 0053, loss: 0.7101 - val_loss: 0.8105; auc: 0.8527 - val_auc: 0.7670                                                                                                    \n",
      "epoch: 0054, loss: 0.7095 - val_loss: 0.8062; auc: 0.8535 - val_auc: 0.7683                                                                                                    \n",
      "epoch: 0055, loss: 0.7083 - val_loss: 0.8026; auc: 0.8549 - val_auc: 0.7668                                                                                                    \n",
      "epoch: 0056, loss: 0.7066 - val_loss: 0.7949; auc: 0.8554 - val_auc: 0.7673                                                                                                    \n",
      "epoch: 0057, loss: 0.7090 - val_loss: 0.8052; auc: 0.8569 - val_auc: 0.7686                                                                                                    \n",
      "epoch: 0058, loss: 0.7069 - val_loss: 0.8041; auc: 0.8578 - val_auc: 0.7693                                                                                                    \n",
      "epoch: 0059, loss: 0.7041 - val_loss: 0.8183; auc: 0.8597 - val_auc: 0.7692                                                                                                    \n",
      "epoch: 0060, loss: 0.7042 - val_loss: 0.8005; auc: 0.8599 - val_auc: 0.7695                                                                                                    \n",
      "epoch: 0061, loss: 0.7046 - val_loss: 0.8049; auc: 0.8613 - val_auc: 0.7699                                                                                                    \n",
      "epoch: 0062, loss: 0.7019 - val_loss: 0.8045; auc: 0.8623 - val_auc: 0.7685                                                                                                    \n",
      "epoch: 0063, loss: 0.7024 - val_loss: 0.8338; auc: 0.8632 - val_auc: 0.7690                                                                                                    \n",
      "epoch: 0064, loss: 0.6996 - val_loss: 0.8003; auc: 0.8634 - val_auc: 0.7682                                                                                                    \n",
      "epoch: 0065, loss: 0.6994 - val_loss: 0.8027; auc: 0.8653 - val_auc: 0.7689                                                                                                    \n",
      "epoch: 0066, loss: 0.6988 - val_loss: 0.8140; auc: 0.8656 - val_auc: 0.7697                                                                                                    \n",
      "epoch: 0067, loss: 0.6976 - val_loss: 0.8120; auc: 0.8665 - val_auc: 0.7691                                                                                                    \n",
      "epoch: 0068, loss: 0.6970 - val_loss: 0.8186; auc: 0.8674 - val_auc: 0.7698                                                                                                    \n",
      "epoch: 0069, loss: 0.6968 - val_loss: 0.8393; auc: 0.8680 - val_auc: 0.7686                                                                                                    \n",
      "epoch: 0070, loss: 0.6955 - val_loss: 0.8175; auc: 0.8690 - val_auc: 0.7712                                                                                                    \n",
      "epoch: 0071, loss: 0.6946 - val_loss: 0.8252; auc: 0.8697 - val_auc: 0.7698                                                                                                    \n",
      "epoch: 0072, loss: 0.6940 - val_loss: 0.8437; auc: 0.8709 - val_auc: 0.7707                                                                                                    \n",
      "epoch: 0073, loss: 0.6954 - val_loss: 0.8041; auc: 0.8715 - val_auc: 0.7704                                                                                                    \n",
      "epoch: 0074, loss: 0.6950 - val_loss: 0.8453; auc: 0.8722 - val_auc: 0.7702                                                                                                    \n",
      "epoch: 0075, loss: 0.6922 - val_loss: 0.8296; auc: 0.8733 - val_auc: 0.7711                                                                                                    \n",
      "epoch: 0076, loss: 0.6927 - val_loss: 0.8280; auc: 0.8735 - val_auc: 0.7702                                                                                                    \n",
      "epoch: 0077, loss: 0.6929 - val_loss: 0.8269; auc: 0.8748 - val_auc: 0.7709                                                                                                    \n",
      "epoch: 0078, loss: 0.6901 - val_loss: 0.8350; auc: 0.8755 - val_auc: 0.7720                                                                                                    \n",
      "epoch: 0079, loss: 0.6886 - val_loss: 0.8205; auc: 0.8765 - val_auc: 0.7704                                                                                                    \n",
      "epoch: 0080, loss: 0.6886 - val_loss: 0.8236; auc: 0.8766 - val_auc: 0.7711                                                                                                    \n",
      "epoch: 0081, loss: 0.6881 - val_loss: 0.8175; auc: 0.8780 - val_auc: 0.7722                                                                                                    \n",
      "epoch: 0082, loss: 0.6912 - val_loss: 0.8170; auc: 0.8781 - val_auc: 0.7709                                                                                                    \n",
      "epoch: 0083, loss: 0.6887 - val_loss: 0.8168; auc: 0.8793 - val_auc: 0.7698                                                                                                    \n",
      "epoch: 0084, loss: 0.6859 - val_loss: 0.8284; auc: 0.8798 - val_auc: 0.7711                                                                                                    \n",
      "epoch: 0085, loss: 0.6852 - val_loss: 0.8389; auc: 0.8808 - val_auc: 0.7707                                                                                                    \n",
      "epoch: 0086, loss: 0.6863 - val_loss: 0.8355; auc: 0.8816 - val_auc: 0.7697                                                                                                    \n",
      "epoch: 0087, loss: 0.6856 - val_loss: 0.8653; auc: 0.8817 - val_auc: 0.7708                                                                                                    \n",
      "epoch: 0088, loss: 0.6837 - val_loss: 0.8364; auc: 0.8833 - val_auc: 0.7700                                                                                                    \n",
      "epoch: 0089, loss: 0.6833 - val_loss: 0.8401; auc: 0.8838 - val_auc: 0.7704                                                                                                    \n",
      "epoch: 0090, loss: 0.6825 - val_loss: 0.8353; auc: 0.8845 - val_auc: 0.7706                                                                                                    \n",
      "epoch: 0091, loss: 0.6822 - val_loss: 0.8311; auc: 0.8851 - val_auc: 0.7689                                                                                                    \n",
      "\n",
      "Restoring model weights from the end of the best epoch.\n",
      "\n",
      "Epoch 00091: early stopping\n"
     ]
    },
    {
     "data": {
      "text/plain": [
       "<tensorflow.python.keras.callbacks.History at 0x7fba1d14eb70>"
      ]
     },
     "execution_count": 8,
     "metadata": {},
     "output_type": "execute_result"
    }
   ],
   "source": [
    "model.fit(trainX, trainY, batch_size=128,\n",
    "      epochs=500, verbose= 0, shuffle = True, \n",
    "      validation_data = (validX, validY), \n",
    "      callbacks=[earlystop]) "
   ]
  },
  {
   "cell_type": "code",
   "execution_count": 9,
   "metadata": {},
   "outputs": [
    {
     "data": {
      "text/plain": [
       "<matplotlib.axes._subplots.AxesSubplot at 0x7fb9541695c0>"
      ]
     },
     "execution_count": 9,
     "metadata": {},
     "output_type": "execute_result"
    },
    {
     "data": {
      "image/png": "[encoded data removed]",
      "text/plain": [
       "<Figure size 432x288 with 1 Axes>"
      ]
     },
     "metadata": {
      "needs_background": "light"
     },
     "output_type": "display_data"
    }
   ],
   "source": [
    "dfp = pd.DataFrame(earlystop.history)[['loss', 'val_loss', 'auc', 'val_auc']]\n",
    "dfp.plot()"
   ]
  },
  {
   "cell_type": "code",
   "execution_count": 10,
   "metadata": {},
   "outputs": [
    {
     "name": "stdout",
     "output_type": "stream",
     "text": [
      "0.8779716705603031 0.7721823084080628 0.7501532786652231\n"
     ]
    }
   ],
   "source": [
    "train_auc = np.nanmean(earlystop.evaluate(trainX, trainY))\n",
    "valid_auc = np.nanmean(earlystop.evaluate(validX, validY))\n",
    "test_auc = np.nanmean(earlystop.evaluate(testX, testY))\n",
    "\n",
    "\n",
    "print(train_auc, valid_auc, test_auc)"
   ]
  },
  {
   "cell_type": "code",
   "execution_count": null,
   "metadata": {},
   "outputs": [],
   "source": []
  },
  {
   "cell_type": "code",
   "execution_count": null,
   "metadata": {},
   "outputs": [],
   "source": []
  },
  {
   "cell_type": "code",
   "execution_count": null,
   "metadata": {},
   "outputs": [],
   "source": []
  },
  {
   "cell_type": "code",
   "execution_count": null,
   "metadata": {},
   "outputs": [],
   "source": []
  }
 ],
 "metadata": {
  "kernelspec": {
   "display_name": "Python 3",
   "language": "python",
   "name": "python3"
  },
  "language_info": {
   "codemirror_mode": {
    "name": "ipython",
    "version": 3
   },
   "file_extension": ".py",
   "mimetype": "text/x-python",
   "name": "python",
   "nbconvert_exporter": "python",
   "pygments_lexer": "ipython3",
   "version": "3.6.9"
  }
 },
 "nbformat": 4,
 "nbformat_minor": 4
}
