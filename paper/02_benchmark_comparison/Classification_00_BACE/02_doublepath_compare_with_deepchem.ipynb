{
 "cells": [
  {
   "cell_type": "code",
   "execution_count": 13,
   "metadata": {},
   "outputs": [],
   "source": [
    "from molmap import dataset\n",
    "from molmap import loadmap\n",
    "import molmap\n",
    "\n",
    "import matplotlib.pyplot as plt\n",
    "from joblib import dump, load\n",
    "from tqdm import tqdm\n",
    "import pandas as pd\n",
    "tqdm.pandas(ascii=True)\n",
    "\n",
    "import numpy as np\n",
    "import tensorflow as tf\n",
    "from tensorflow.keras.utils import plot_model\n",
    "from tensorflow.keras import Model, Input\n",
    "from tensorflow.keras.layers import MaxPool2D, GlobalMaxPool2D, BatchNormalization, Activation\n",
    "from tensorflow.keras.layers import Conv2D, Concatenate,Flatten, Dense, Dropout\n",
    "\n",
    "\n",
    "#use the second GPU, if negative value, CPUs will be used\n",
    "import os\n",
    "os.environ[\"CUDA_VISIBLE_DEVICES\"]=\"1\"\n",
    "\n",
    "\n",
    "%matplotlib inline\n",
    "np.random.seed(777)\n",
    "tf.set_random_seed(777)"
   ]
  },
  {
   "cell_type": "code",
   "execution_count": 14,
   "metadata": {},
   "outputs": [
    {
     "name": "stdout",
     "output_type": "stream",
     "text": [
      "total samples: 1513\n"
     ]
    }
   ],
   "source": [
    "def get_deepchem_idx(df):\n",
    "    \"\"\" deepchem dataset\"\"\"\n",
    "    deepchem_data_name = './BACE_deepchem.data'\n",
    "    if os.path.exists(deepchem_data_name):\n",
    "        train_df,valid_df,test_df = load(deepchem_data_name)\n",
    "    else:\n",
    "        import deepchem as dc\n",
    "        task, train_valid_test, _ = dc.molnet.load_bace_classification(featurizer='Raw',split = 'scaffold')\n",
    "        train, valid, test = train_valid_test\n",
    "        train_df = df[df.smiles.isin(train.ids)]\n",
    "        valid_df = df[df.smiles.isin(valid.ids)]\n",
    "        test_df = df[df.smiles.isin(test.ids)]\n",
    "        dump((train_df,valid_df,test_df), deepchem_data_name)\n",
    "    train_idx = train_df.index\n",
    "    valid_idx = valid_df.index\n",
    "    test_idx = test_df.index\n",
    "    print('training set: %s, valid set: %s, test set %s' % (len(train_idx), len(valid_idx), len(test_idx)))\n",
    "    return train_idx, valid_idx, test_idx\n",
    "\n",
    "\n",
    "def get_attentiveFP_idx(df):\n",
    "    \"\"\" attentiveFP dataset\"\"\"\n",
    "    train, valid,test = load('./BACE_attentiveFP.data')\n",
    "    train_idx = df[df.smiles.isin(train.mol)].index\n",
    "    valid_idx = df[df.smiles.isin(valid.mol)].index\n",
    "    test_idx = df[df.smiles.isin(test.mol)].index\n",
    "    print('training set: %s, valid set: %s, test set %s' % (len(train_idx), len(valid_idx), len(test_idx)))\n",
    "    return train_idx, valid_idx, test_idx \n",
    "\n",
    "#load dataset\n",
    "data = dataset.load_BACE()\n",
    "df = data.data"
   ]
  },
  {
   "cell_type": "code",
   "execution_count": 15,
   "metadata": {},
   "outputs": [],
   "source": [
    "MASK = -1\n",
    "Y = pd.DataFrame(data.y).fillna(MASK).values"
   ]
  },
  {
   "cell_type": "code",
   "execution_count": 16,
   "metadata": {},
   "outputs": [],
   "source": [
    "# calculate feature\n",
    "X1_name =  './descriptor_grid_split.data'\n",
    "X2_name =  './fingerprint_grid_split.data'\n",
    "\n",
    "if os.path.exists(X1_name):\n",
    "    X1 = load(X1_name)\n",
    "else:\n",
    "    mp = loadmap('../../descriptor_grid_split.mp')\n",
    "    X1 = mp.batch_transform(data.x, n_jobs = 8)\n",
    "    dump(X1, X1_name)\n",
    "    \n",
    "if os.path.exists(X2_name):\n",
    "    X2 = load(X2_name)\n",
    "else:\n",
    "    mp = loadmap('../../fingerprint_grid_split.mp')\n",
    "    X2 = mp.batch_transform(data.x, n_jobs = 8)\n",
    "    dump(X2, X2_name)"
   ]
  },
  {
   "cell_type": "code",
   "execution_count": 17,
   "metadata": {},
   "outputs": [
    {
     "name": "stdout",
     "output_type": "stream",
     "text": [
      "training set: 1210, valid set: 151, test set 152\n",
      "1210 151 152\n"
     ]
    }
   ],
   "source": [
    "#train_idx, valid_idx, test_idx = get_attentiveFP_idx(df)\n",
    "train_idx, valid_idx, test_idx = get_deepchem_idx(df)\n",
    "\n",
    "\n",
    "trainX = (X1[train_idx], X2[train_idx])\n",
    "trainY = Y[train_idx]\n",
    "\n",
    "validX = (X1[valid_idx], X2[valid_idx])\n",
    "validY = Y[valid_idx]\n",
    "\n",
    "testX = (X1[test_idx], X2[test_idx])\n",
    "testY = Y[test_idx]\n",
    "\n",
    "print(len(train_idx), len(valid_idx), len(test_idx))"
   ]
  },
  {
   "cell_type": "code",
   "execution_count": 18,
   "metadata": {},
   "outputs": [
    {
     "data": {
      "text/plain": [
       "(array([1.34951456]), array([0.74100719]))"
      ]
     },
     "execution_count": 18,
     "metadata": {},
     "output_type": "execute_result"
    }
   ],
   "source": [
    "def get_pos_weights(trainY):\n",
    "    \"\"\"pos_weights: neg_n / pos_n \"\"\"\n",
    "    dfY = pd.DataFrame(trainY)\n",
    "    pos = dfY == 1\n",
    "    pos_n = pos.sum(axis=0)\n",
    "    neg = dfY == 0\n",
    "    neg_n = neg.sum(axis=0)\n",
    "    pos_weights = (neg_n / pos_n).values\n",
    "    neg_weights = (pos_n / neg_n).values\n",
    "    return pos_weights, neg_weights\n",
    "\n",
    "pos_weights, neg_weights = get_pos_weights(Y[train_idx])\n",
    "pos_weights, neg_weights"
   ]
  },
  {
   "cell_type": "code",
   "execution_count": 19,
   "metadata": {},
   "outputs": [],
   "source": [
    "def Inception(inputs, units = 8, strides = 1):\n",
    "    \"\"\"\n",
    "    naive google inception block\n",
    "    \"\"\"\n",
    "    x1 = Conv2D(units, 5, padding='same', activation = 'relu', strides = strides)(inputs)\n",
    "    x2 = Conv2D(units, 3, padding='same', activation = 'relu', strides = strides)(inputs)\n",
    "    x3 = Conv2D(units, 1, padding='same', activation = 'relu', strides = strides)(inputs)\n",
    "    outputs = Concatenate()([x1, x2, x3])    \n",
    "    return outputs\n",
    "\n",
    "\n",
    "def DoublePathClassificationModel(molmap1_size, molmap2_size, n_outputs = 1):\n",
    "    \n",
    "    ## first inputs\n",
    "    d_inputs1 = Input(molmap1_size)\n",
    "    d_conv1 = Conv2D(48, 13, padding = 'same', activation='relu', strides = 1)(d_inputs1)\n",
    "    d_pool1 = MaxPool2D(pool_size = 3, strides = 2, padding = 'same')(d_conv1) #p1\n",
    "    d_incept1 = Inception(d_pool1, strides = 1, units = 32)\n",
    "    d_pool2 = MaxPool2D(pool_size = 3, strides = 2, padding = 'same')(d_incept1) #p2\n",
    "    d_incept2 = Inception(d_pool2, strides = 1, units = 64)\n",
    "    d_flat1 = GlobalMaxPool2D()(d_incept2)\n",
    "\n",
    "    \n",
    "    ## second inputs\n",
    "    f_inputs1 = Input(molmap2_size)\n",
    "    f_conv1 = Conv2D(48, 13, padding = 'same', activation='relu', strides = 1)(f_inputs1)\n",
    "    f_pool1 = MaxPool2D(pool_size = 3, strides = 2, padding = 'same')(f_conv1) #p1\n",
    "    f_incept1 = Inception(f_pool1, strides = 1, units = 32)\n",
    "    f_pool2 = MaxPool2D(pool_size = 3, strides = 2, padding = 'same')(f_incept1) #p2\n",
    "    f_incept2 = Inception(f_pool2, strides = 1, units = 64)\n",
    "    f_flat1 = GlobalMaxPool2D()(f_incept2)    \n",
    "    \n",
    "    ## concat\n",
    "    merge = Concatenate()([d_flat1, f_flat1]) \n",
    "    d1 = Dense(256,activation='relu')(merge)\n",
    "    d1 = Dense(128,activation='relu')(d1)\n",
    "    d1 = Dense(32,activation='relu')(d1)\n",
    "\n",
    "    #since the sigmoid function is in loss function, so the activation function should be None\n",
    "    outputs = Dense(n_outputs, activation=None)(d1)\n",
    "    \n",
    "    model = tf.keras.Model(inputs=[d_inputs1, f_inputs1], outputs=outputs)\n",
    "    \n",
    "    return model\n",
    "\n",
    "from loss import cross_entropy, weighted_cross_entropy\n",
    "from cbks import ClassificationPerformance, EarlyStoppingAtMinLoss\n",
    "\n",
    "molmap1_size = X1.shape[1:]\n",
    "molmap2_size = X2.shape[1:]\n",
    "loss = lambda y_true, y_pred: weighted_cross_entropy(y_true,y_pred, pos_weights, MASK)\n",
    "model = DoublePathClassificationModel(molmap1_size,molmap2_size, n_outputs = Y.shape[1])"
   ]
  },
  {
   "cell_type": "code",
   "execution_count": 20,
   "metadata": {},
   "outputs": [],
   "source": [
    "earlystop = EarlyStoppingAtMinLoss(patience=20, criteria = 'val_loss')\n",
    "performace = ClassificationPerformance((trainX, trainY), (validX, validY), MASK)\n",
    "lr = tf.keras.optimizers.Adam(lr=0.0001, beta_1=0.9, beta_2=0.999, epsilon=1e-08, decay=0.0) #\n",
    "model.compile(optimizer = lr, loss = loss)"
   ]
  },
  {
   "cell_type": "code",
   "execution_count": 21,
   "metadata": {},
   "outputs": [
    {
     "name": "stdout",
     "output_type": "stream",
     "text": [
      "epoch: 0001, loss: 0.7966 - val_loss: 0.8220; auc: 0.8005 - auc_val: 0.5896                                                                                                    \n",
      "epoch: 0002, loss: 0.7758 - val_loss: 0.8288; auc: 0.8366 - auc_val: 0.6052                                                                                                    \n",
      "epoch: 0003, loss: 0.7543 - val_loss: 0.7921; auc: 0.8373 - auc_val: 0.6151                                                                                                    \n",
      "epoch: 0004, loss: 0.7289 - val_loss: 0.7896; auc: 0.8505 - auc_val: 0.6306                                                                                                    \n",
      "epoch: 0005, loss: 0.6985 - val_loss: 0.7748; auc: 0.8678 - auc_val: 0.6588                                                                                                    \n",
      "epoch: 0006, loss: 0.6621 - val_loss: 0.7877; auc: 0.8765 - auc_val: 0.6612                                                                                                    \n",
      "epoch: 0007, loss: 0.6348 - val_loss: 0.7778; auc: 0.8837 - auc_val: 0.6706                                                                                                    \n",
      "epoch: 0008, loss: 0.5883 - val_loss: 0.7990; auc: 0.8905 - auc_val: 0.6798                                                                                                    \n",
      "epoch: 0009, loss: 0.5558 - val_loss: 0.7408; auc: 0.8942 - auc_val: 0.6860                                                                                                    \n",
      "epoch: 0010, loss: 0.5273 - val_loss: 0.7640; auc: 0.9021 - auc_val: 0.6939                                                                                                    \n",
      "epoch: 0011, loss: 0.4971 - val_loss: 0.7308; auc: 0.9062 - auc_val: 0.6971                                                                                                    \n",
      "epoch: 0012, loss: 0.4748 - val_loss: 0.7330; auc: 0.9127 - auc_val: 0.7038                                                                                                    \n",
      "epoch: 0013, loss: 0.4542 - val_loss: 0.7286; auc: 0.9187 - auc_val: 0.7136                                                                                                    \n",
      "epoch: 0014, loss: 0.4497 - val_loss: 0.8370; auc: 0.9254 - auc_val: 0.7198                                                                                                    \n",
      "epoch: 0015, loss: 0.4269 - val_loss: 0.7207; auc: 0.9277 - auc_val: 0.7209                                                                                                    \n",
      "epoch: 0016, loss: 0.4069 - val_loss: 0.7260; auc: 0.9325 - auc_val: 0.7257                                                                                                    \n",
      "epoch: 0017, loss: 0.4057 - val_loss: 0.7255; auc: 0.9365 - auc_val: 0.7312                                                                                                    \n",
      "epoch: 0018, loss: 0.4044 - val_loss: 0.8399; auc: 0.9415 - auc_val: 0.7285                                                                                                    \n",
      "epoch: 0019, loss: 0.4011 - val_loss: 0.7385; auc: 0.9411 - auc_val: 0.7292                                                                                                    \n",
      "epoch: 0020, loss: 0.4052 - val_loss: 0.7700; auc: 0.9456 - auc_val: 0.7321                                                                                                    \n",
      "epoch: 0021, loss: 0.3901 - val_loss: 0.8263; auc: 0.9502 - auc_val: 0.7381                                                                                                    \n",
      "epoch: 0022, loss: 0.3637 - val_loss: 0.7439; auc: 0.9506 - auc_val: 0.7349                                                                                                    \n",
      "epoch: 0023, loss: 0.3593 - val_loss: 0.7039; auc: 0.9520 - auc_val: 0.7395                                                                                                    \n",
      "epoch: 0024, loss: 0.3577 - val_loss: 0.7073; auc: 0.9534 - auc_val: 0.7406                                                                                                    \n",
      "epoch: 0025, loss: 0.3588 - val_loss: 0.7368; auc: 0.9561 - auc_val: 0.7427                                                                                                    \n",
      "epoch: 0026, loss: 0.3336 - val_loss: 0.7986; auc: 0.9591 - auc_val: 0.7438                                                                                                    \n",
      "epoch: 0027, loss: 0.3282 - val_loss: 0.7544; auc: 0.9606 - auc_val: 0.7470                                                                                                    \n",
      "epoch: 0028, loss: 0.3244 - val_loss: 0.7420; auc: 0.9623 - auc_val: 0.7445                                                                                                    \n",
      "epoch: 0029, loss: 0.3126 - val_loss: 0.7067; auc: 0.9631 - auc_val: 0.7456                                                                                                    \n",
      "epoch: 0030, loss: 0.3518 - val_loss: 0.7160; auc: 0.9640 - auc_val: 0.7440                                                                                                    \n",
      "epoch: 0031, loss: 0.3071 - val_loss: 0.7203; auc: 0.9663 - auc_val: 0.7466                                                                                                    \n",
      "epoch: 0032, loss: 0.2939 - val_loss: 0.7178; auc: 0.9680 - auc_val: 0.7514                                                                                                    \n",
      "epoch: 0033, loss: 0.2908 - val_loss: 0.7095; auc: 0.9690 - auc_val: 0.7488                                                                                                    \n",
      "epoch: 0034, loss: 0.2960 - val_loss: 0.8546; auc: 0.9711 - auc_val: 0.7475                                                                                                    \n",
      "epoch: 0035, loss: 0.2902 - val_loss: 0.8573; auc: 0.9730 - auc_val: 0.7479                                                                                                    \n",
      "epoch: 0036, loss: 0.2854 - val_loss: 0.7136; auc: 0.9731 - auc_val: 0.7493                                                                                                    \n",
      "epoch: 0037, loss: 0.2667 - val_loss: 0.7152; auc: 0.9751 - auc_val: 0.7520                                                                                                    \n",
      "epoch: 0038, loss: 0.2599 - val_loss: 0.7470; auc: 0.9769 - auc_val: 0.7512                                                                                                    \n",
      "epoch: 0039, loss: 0.2546 - val_loss: 0.7136; auc: 0.9784 - auc_val: 0.7466                                                                                                    \n",
      "epoch: 0040, loss: 0.2639 - val_loss: 0.7543; auc: 0.9787 - auc_val: 0.7463                                                                                                    \n",
      "epoch: 0041, loss: 0.2578 - val_loss: 0.8721; auc: 0.9804 - auc_val: 0.7495                                                                                                    \n",
      "epoch: 0042, loss: 0.2459 - val_loss: 0.7338; auc: 0.9809 - auc_val: 0.7525                                                                                                    \n",
      "epoch: 0043, loss: 0.2335 - val_loss: 0.7560; auc: 0.9824 - auc_val: 0.7520                                                                                                    \n",
      "\n",
      "Restoring model weights from the end of the best epoch.\n",
      "\n",
      "Epoch 00043: early stopping\n"
     ]
    },
    {
     "data": {
      "text/plain": [
       "<tensorflow.python.keras.callbacks.History at 0x7f7d26bfa278>"
      ]
     },
     "execution_count": 21,
     "metadata": {},
     "output_type": "execute_result"
    }
   ],
   "source": [
    "model.fit(trainX, trainY, batch_size=128, \n",
    "      epochs=500, verbose= 0, shuffle = True, \n",
    "      validation_data = (validX, validY), \n",
    "      callbacks=[performace, earlystop]) "
   ]
  },
  {
   "cell_type": "code",
   "execution_count": 22,
   "metadata": {},
   "outputs": [
    {
     "data": {
      "text/plain": [
       "<matplotlib.axes._subplots.AxesSubplot at 0x7f7d26096828>"
      ]
     },
     "execution_count": 22,
     "metadata": {},
     "output_type": "execute_result"
    },
    {
     "data": {
      "image/png": "[encoded data removed]",
      "text/plain": [
       "<Figure size 432x288 with 1 Axes>"
      ]
     },
     "metadata": {
      "needs_background": "light"
     },
     "output_type": "display_data"
    }
   ],
   "source": [
    "dfp = pd.DataFrame(performace.history)[['training_loss', 'validation_loss']]\n",
    "dfp.plot()"
   ]
  },
  {
   "cell_type": "code",
   "execution_count": 23,
   "metadata": {},
   "outputs": [
    {
     "name": "stdout",
     "output_type": "stream",
     "text": [
      "0.9519787665013619 0.7395167022032694 0.8536231884057971\n"
     ]
    }
   ],
   "source": [
    "train_auc = np.mean(performace.evaluate(trainX, trainY))\n",
    "valid_auc = np.mean(performace.evaluate(validX, validY))\n",
    "test_auc = np.mean(performace.evaluate(testX, testY))\n",
    "\n",
    "\n",
    "print(train_auc, valid_auc, test_auc)"
   ]
  },
  {
   "cell_type": "code",
   "execution_count": 24,
   "metadata": {},
   "outputs": [
    {
     "data": {
      "text/plain": [
       "[0.8536231884057971]"
      ]
     },
     "execution_count": 24,
     "metadata": {},
     "output_type": "execute_result"
    }
   ],
   "source": [
    "performace.evaluate(testX, testY)"
   ]
  },
  {
   "cell_type": "code",
   "execution_count": null,
   "metadata": {},
   "outputs": [],
   "source": []
  },
  {
   "cell_type": "code",
   "execution_count": null,
   "metadata": {},
   "outputs": [],
   "source": []
  },
  {
   "cell_type": "code",
   "execution_count": null,
   "metadata": {},
   "outputs": [],
   "source": []
  }
 ],
 "metadata": {
  "kernelspec": {
   "display_name": "Python 3",
   "language": "python",
   "name": "python3"
  },
  "language_info": {
   "codemirror_mode": {
    "name": "ipython",
    "version": 3
   },
   "file_extension": ".py",
   "mimetype": "text/x-python",
   "name": "python",
   "nbconvert_exporter": "python",
   "pygments_lexer": "ipython3",
   "version": "3.6.9"
  }
 },
 "nbformat": 4,
 "nbformat_minor": 4
}
