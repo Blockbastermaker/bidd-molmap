{
 "cells": [
  {
   "cell_type": "code",
   "execution_count": 1,
   "metadata": {},
   "outputs": [
    {
     "name": "stderr",
     "output_type": "stream",
     "text": [
      "/home/shenwanxiang/anaconda3/envs/deepchem/lib/python3.6/site-packages/tensorflow/python/framework/dtypes.py:516: FutureWarning: Passing (type, 1) or '1type' as a synonym of type is deprecated; in a future version of numpy, it will be understood as (type, (1,)) / '(1,)type'.\n",
      "  _np_qint8 = np.dtype([(\"qint8\", np.int8, 1)])\n",
      "/home/shenwanxiang/anaconda3/envs/deepchem/lib/python3.6/site-packages/tensorflow/python/framework/dtypes.py:517: FutureWarning: Passing (type, 1) or '1type' as a synonym of type is deprecated; in a future version of numpy, it will be understood as (type, (1,)) / '(1,)type'.\n",
      "  _np_quint8 = np.dtype([(\"quint8\", np.uint8, 1)])\n",
      "/home/shenwanxiang/anaconda3/envs/deepchem/lib/python3.6/site-packages/tensorflow/python/framework/dtypes.py:518: FutureWarning: Passing (type, 1) or '1type' as a synonym of type is deprecated; in a future version of numpy, it will be understood as (type, (1,)) / '(1,)type'.\n",
      "  _np_qint16 = np.dtype([(\"qint16\", np.int16, 1)])\n",
      "/home/shenwanxiang/anaconda3/envs/deepchem/lib/python3.6/site-packages/tensorflow/python/framework/dtypes.py:519: FutureWarning: Passing (type, 1) or '1type' as a synonym of type is deprecated; in a future version of numpy, it will be understood as (type, (1,)) / '(1,)type'.\n",
      "  _np_quint16 = np.dtype([(\"quint16\", np.uint16, 1)])\n",
      "/home/shenwanxiang/anaconda3/envs/deepchem/lib/python3.6/site-packages/tensorflow/python/framework/dtypes.py:520: FutureWarning: Passing (type, 1) or '1type' as a synonym of type is deprecated; in a future version of numpy, it will be understood as (type, (1,)) / '(1,)type'.\n",
      "  _np_qint32 = np.dtype([(\"qint32\", np.int32, 1)])\n",
      "/home/shenwanxiang/anaconda3/envs/deepchem/lib/python3.6/site-packages/tensorflow/python/framework/dtypes.py:525: FutureWarning: Passing (type, 1) or '1type' as a synonym of type is deprecated; in a future version of numpy, it will be understood as (type, (1,)) / '(1,)type'.\n",
      "  np_resource = np.dtype([(\"resource\", np.ubyte, 1)])\n",
      "/home/shenwanxiang/anaconda3/envs/deepchem/lib/python3.6/site-packages/tensorboard/compat/tensorflow_stub/dtypes.py:541: FutureWarning: Passing (type, 1) or '1type' as a synonym of type is deprecated; in a future version of numpy, it will be understood as (type, (1,)) / '(1,)type'.\n",
      "  _np_qint8 = np.dtype([(\"qint8\", np.int8, 1)])\n",
      "/home/shenwanxiang/anaconda3/envs/deepchem/lib/python3.6/site-packages/tensorboard/compat/tensorflow_stub/dtypes.py:542: FutureWarning: Passing (type, 1) or '1type' as a synonym of type is deprecated; in a future version of numpy, it will be understood as (type, (1,)) / '(1,)type'.\n",
      "  _np_quint8 = np.dtype([(\"quint8\", np.uint8, 1)])\n",
      "/home/shenwanxiang/anaconda3/envs/deepchem/lib/python3.6/site-packages/tensorboard/compat/tensorflow_stub/dtypes.py:543: FutureWarning: Passing (type, 1) or '1type' as a synonym of type is deprecated; in a future version of numpy, it will be understood as (type, (1,)) / '(1,)type'.\n",
      "  _np_qint16 = np.dtype([(\"qint16\", np.int16, 1)])\n",
      "/home/shenwanxiang/anaconda3/envs/deepchem/lib/python3.6/site-packages/tensorboard/compat/tensorflow_stub/dtypes.py:544: FutureWarning: Passing (type, 1) or '1type' as a synonym of type is deprecated; in a future version of numpy, it will be understood as (type, (1,)) / '(1,)type'.\n",
      "  _np_quint16 = np.dtype([(\"quint16\", np.uint16, 1)])\n",
      "/home/shenwanxiang/anaconda3/envs/deepchem/lib/python3.6/site-packages/tensorboard/compat/tensorflow_stub/dtypes.py:545: FutureWarning: Passing (type, 1) or '1type' as a synonym of type is deprecated; in a future version of numpy, it will be understood as (type, (1,)) / '(1,)type'.\n",
      "  _np_qint32 = np.dtype([(\"qint32\", np.int32, 1)])\n",
      "/home/shenwanxiang/anaconda3/envs/deepchem/lib/python3.6/site-packages/tensorboard/compat/tensorflow_stub/dtypes.py:550: FutureWarning: Passing (type, 1) or '1type' as a synonym of type is deprecated; in a future version of numpy, it will be understood as (type, (1,)) / '(1,)type'.\n",
      "  np_resource = np.dtype([(\"resource\", np.ubyte, 1)])\n"
     ]
    }
   ],
   "source": [
    "from molmap import dataset\n",
    "from molmap import loadmap\n",
    "import molmap\n",
    "\n",
    "import matplotlib.pyplot as plt\n",
    "from joblib import dump, load\n",
    "from tqdm import tqdm\n",
    "import pandas as pd\n",
    "tqdm.pandas(ascii=True)\n",
    "\n",
    "import numpy as np\n",
    "import tensorflow as tf\n",
    "from tensorflow.keras.utils import plot_model\n",
    "from tensorflow.keras import Model, Input\n",
    "from tensorflow.keras.layers import MaxPool2D, GlobalMaxPool2D, BatchNormalization, Activation\n",
    "from tensorflow.keras.layers import Conv2D, Concatenate,Flatten, Dense, Dropout\n",
    "\n",
    "\n",
    "#use the second GPU, if negative value, CPUs will be used\n",
    "import os\n",
    "os.environ[\"CUDA_VISIBLE_DEVICES\"]=\"0\"\n",
    "\n",
    "\n",
    "%matplotlib inline\n",
    "np.random.seed(777)\n",
    "tf.set_random_seed(777)"
   ]
  },
  {
   "cell_type": "code",
   "execution_count": 2,
   "metadata": {},
   "outputs": [
    {
     "name": "stdout",
     "output_type": "stream",
     "text": [
      "total samples: 1513\n"
     ]
    }
   ],
   "source": [
    "def get_deepchem_idx(df):\n",
    "    \"\"\" deepchem dataset\"\"\"\n",
    "    deepchem_data_name = './BACE_deepchem.data'\n",
    "    if os.path.exists(deepchem_data_name):\n",
    "        train_df,valid_df,test_df = load(deepchem_data_name)\n",
    "    else:\n",
    "        import deepchem as dc\n",
    "        task, train_valid_test, _ = dc.molnet.load_bace_classification(featurizer='Raw',split = 'scaffold')\n",
    "        train, valid, test = train_valid_test\n",
    "        train_df = df[df.smiles.isin(train.ids)]\n",
    "        valid_df = df[df.smiles.isin(valid.ids)]\n",
    "        test_df = df[df.smiles.isin(test.ids)]\n",
    "        dump((train_df,valid_df,test_df), deepchem_data_name)\n",
    "    train_idx = train_df.index\n",
    "    valid_idx = valid_df.index\n",
    "    test_idx = test_df.index\n",
    "    print('training set: %s, valid set: %s, test set %s' % (len(train_idx), len(valid_idx), len(test_idx)))\n",
    "    return train_idx, valid_idx, test_idx\n",
    "\n",
    "\n",
    "def get_attentiveFP_idx(df):\n",
    "    \"\"\" attentiveFP dataset\"\"\"\n",
    "    train, valid,test = load('./BACE_attentiveFP.data')\n",
    "    train_idx = df[df.smiles.isin(train.mol)].index\n",
    "    valid_idx = df[df.smiles.isin(valid.mol)].index\n",
    "    test_idx = df[df.smiles.isin(test.mol)].index\n",
    "    print('training set: %s, valid set: %s, test set %s' % (len(train_idx), len(valid_idx), len(test_idx)))\n",
    "    return train_idx, valid_idx, test_idx \n",
    "\n",
    "#load dataset\n",
    "data = dataset.load_BACE()\n",
    "df = data.data"
   ]
  },
  {
   "cell_type": "code",
   "execution_count": 3,
   "metadata": {},
   "outputs": [],
   "source": [
    "MASK = -1\n",
    "Y = pd.DataFrame(data.y).fillna(MASK).values"
   ]
  },
  {
   "cell_type": "code",
   "execution_count": 5,
   "metadata": {},
   "outputs": [
    {
     "name": "stderr",
     "output_type": "stream",
     "text": [
      "100%|##########| 1513/1513 [03:56<00:00,  6.39it/s]\n",
      "100%|##########| 1513/1513 [00:37<00:00, 39.88it/s]\n"
     ]
    }
   ],
   "source": [
    "# calculate feature\n",
    "X1_name =  './descriptor_grid_split.data'\n",
    "X2_name =  './fingerprint_grid_split.data'\n",
    "\n",
    "if os.path.exists(X1_name):\n",
    "    X1 = load(X1_name)\n",
    "else:\n",
    "    mp = loadmap('../../descriptor_grid_split.mp')\n",
    "    X1 = mp.batch_transform(data.x, n_jobs = 8)\n",
    "    dump(X1, X1_name)\n",
    "    \n",
    "if os.path.exists(X2_name):\n",
    "    X2 = load(X2_name)\n",
    "else:\n",
    "    mp = loadmap('../../fingerprint_grid_split.mp')\n",
    "    X2 = mp.batch_transform(data.x, n_jobs = 8)\n",
    "    dump(X2, X2_name)"
   ]
  },
  {
   "cell_type": "code",
   "execution_count": 14,
   "metadata": {},
   "outputs": [
    {
     "name": "stdout",
     "output_type": "stream",
     "text": [
      "training set: 1211, valid set: 151, test set 151\n",
      "1211 151 151\n"
     ]
    }
   ],
   "source": [
    "train_idx, valid_idx, test_idx = get_attentiveFP_idx(df)\n",
    "#train_idx, valid_idx, test_idx = get_deepchem_idx(df)\n",
    "\n",
    "\n",
    "trainX = (X1[train_idx], X2[train_idx])\n",
    "trainY = Y[train_idx]\n",
    "\n",
    "validX = (X1[valid_idx], X2[valid_idx])\n",
    "validY = Y[valid_idx]\n",
    "\n",
    "testX = (X1[test_idx], X2[test_idx])\n",
    "testY = Y[test_idx]\n",
    "\n",
    "print(len(train_idx), len(valid_idx), len(test_idx))"
   ]
  },
  {
   "cell_type": "code",
   "execution_count": 15,
   "metadata": {},
   "outputs": [
    {
     "data": {
      "text/plain": [
       "(array([1.21794872]), array([0.82105263]))"
      ]
     },
     "execution_count": 15,
     "metadata": {},
     "output_type": "execute_result"
    }
   ],
   "source": [
    "def get_pos_weights(trainY):\n",
    "    \"\"\"pos_weights: neg_n / pos_n \"\"\"\n",
    "    dfY = pd.DataFrame(trainY)\n",
    "    pos = dfY == 1\n",
    "    pos_n = pos.sum(axis=0)\n",
    "    neg = dfY == 0\n",
    "    neg_n = neg.sum(axis=0)\n",
    "    pos_weights = (neg_n / pos_n).values\n",
    "    neg_weights = (pos_n / neg_n).values\n",
    "    return pos_weights, neg_weights\n",
    "\n",
    "pos_weights, neg_weights = get_pos_weights(Y[train_idx])\n",
    "pos_weights, neg_weights"
   ]
  },
  {
   "cell_type": "code",
   "execution_count": 28,
   "metadata": {},
   "outputs": [],
   "source": [
    "def Inception(inputs, units = 8, strides = 1):\n",
    "    \"\"\"\n",
    "    naive google inception block\n",
    "    \"\"\"\n",
    "    x1 = Conv2D(units, 5, padding='same', activation = 'relu', strides = strides)(inputs)\n",
    "    x2 = Conv2D(units, 3, padding='same', activation = 'relu', strides = strides)(inputs)\n",
    "    x3 = Conv2D(units, 1, padding='same', activation = 'relu', strides = strides)(inputs)\n",
    "    outputs = Concatenate()([x1, x2, x3])    \n",
    "    return outputs\n",
    "\n",
    "\n",
    "def DoublePathClassificationModel(molmap1_size, molmap2_size, n_outputs = 1):\n",
    "    \n",
    "    ## first inputs\n",
    "    d_inputs1 = Input(molmap1_size)\n",
    "    d_conv1 = Conv2D(48, 13, padding = 'same', activation='relu', strides = 1)(d_inputs1)\n",
    "    d_pool1 = MaxPool2D(pool_size = 3, strides = 2, padding = 'same')(d_conv1) #p1\n",
    "    d_incept1 = Inception(d_pool1, strides = 1, units = 32)\n",
    "    d_pool2 = MaxPool2D(pool_size = 3, strides = 2, padding = 'same')(d_incept1) #p2\n",
    "    d_incept2 = Inception(d_pool2, strides = 1, units = 64)\n",
    "    d_flat1 = GlobalMaxPool2D()(d_incept2)\n",
    "\n",
    "    \n",
    "    ## second inputs\n",
    "    f_inputs1 = Input(molmap2_size)\n",
    "    f_conv1 = Conv2D(48, 13, padding = 'same', activation='relu', strides = 1)(f_inputs1)\n",
    "    f_pool1 = MaxPool2D(pool_size = 3, strides = 2, padding = 'same')(f_conv1) #p1\n",
    "    f_incept1 = Inception(f_pool1, strides = 1, units = 32)\n",
    "    f_pool2 = MaxPool2D(pool_size = 3, strides = 2, padding = 'same')(f_incept1) #p2\n",
    "    f_incept2 = Inception(f_pool2, strides = 1, units = 64)\n",
    "    f_flat1 = GlobalMaxPool2D()(f_incept2)    \n",
    "    \n",
    "    ## concat\n",
    "    merge = Concatenate()([d_flat1, f_flat1]) \n",
    "    d1 = Dense(256,activation='relu')(merge)\n",
    "    d1 = Dense(128,activation='relu')(d1)\n",
    "    d1 = Dense(32,activation='relu')(d1)\n",
    "\n",
    "    #since the sigmoid function is in loss function, so the activation function should be None\n",
    "    outputs = Dense(n_outputs, activation=None)(d1)\n",
    "    \n",
    "    model = tf.keras.Model(inputs=[d_inputs1, f_inputs1], outputs=outputs)\n",
    "    \n",
    "    return model\n",
    "\n",
    "from loss import cross_entropy, weighted_cross_entropy\n",
    "from cbks import ClassificationPerformance, EarlyStoppingAtMinLoss\n",
    "\n",
    "molmap1_size = X1.shape[1:]\n",
    "molmap2_size = X2.shape[1:]\n",
    "loss = lambda y_true, y_pred: weighted_cross_entropy(y_true,y_pred, pos_weights, MASK)\n",
    "model = DoublePathClassificationModel(molmap1_size,molmap2_size, n_outputs = Y.shape[1])"
   ]
  },
  {
   "cell_type": "code",
   "execution_count": 29,
   "metadata": {},
   "outputs": [],
   "source": [
    "earlystop = EarlyStoppingAtMinLoss(patience=20, criteria = 'val_loss')\n",
    "performace = ClassificationPerformance((trainX, trainY), (validX, validY), MASK)\n",
    "lr = tf.keras.optimizers.Adam(lr=0.0001, beta_1=0.9, beta_2=0.999, epsilon=1e-08, decay=0.0) #\n",
    "model.compile(optimizer = lr, loss = loss)"
   ]
  },
  {
   "cell_type": "code",
   "execution_count": 30,
   "metadata": {},
   "outputs": [
    {
     "name": "stdout",
     "output_type": "stream",
     "text": [
      "epoch: 0001, loss: 0.7547 - val_loss: 0.7592; auc: 0.7849 - auc_val: 0.7206                                                                                                    \n",
      "epoch: 0002, loss: 0.7340 - val_loss: 0.7482; auc: 0.7770 - auc_val: 0.7107                                                                                                    \n",
      "epoch: 0003, loss: 0.7156 - val_loss: 0.7180; auc: 0.7933 - auc_val: 0.7250                                                                                                    \n",
      "epoch: 0004, loss: 0.6969 - val_loss: 0.6960; auc: 0.8045 - auc_val: 0.7370                                                                                                    \n",
      "epoch: 0005, loss: 0.6750 - val_loss: 0.6784; auc: 0.8191 - auc_val: 0.7556                                                                                                    \n",
      "epoch: 0006, loss: 0.6594 - val_loss: 0.6650; auc: 0.8358 - auc_val: 0.7764                                                                                                    \n",
      "epoch: 0007, loss: 0.6254 - val_loss: 0.6554; auc: 0.8487 - auc_val: 0.7877                                                                                                    \n",
      "epoch: 0008, loss: 0.6073 - val_loss: 0.6214; auc: 0.8573 - auc_val: 0.7996                                                                                                    \n",
      "epoch: 0009, loss: 0.5774 - val_loss: 0.6110; auc: 0.8673 - auc_val: 0.8063                                                                                                    \n",
      "epoch: 0010, loss: 0.5527 - val_loss: 0.5967; auc: 0.8752 - auc_val: 0.8157                                                                                                    \n",
      "epoch: 0011, loss: 0.5355 - val_loss: 0.6160; auc: 0.8837 - auc_val: 0.8202                                                                                                    \n",
      "epoch: 0012, loss: 0.5145 - val_loss: 0.5636; auc: 0.8881 - auc_val: 0.8262                                                                                                    \n",
      "epoch: 0013, loss: 0.5113 - val_loss: 0.5612; auc: 0.8940 - auc_val: 0.8342                                                                                                    \n",
      "epoch: 0014, loss: 0.4868 - val_loss: 0.5791; auc: 0.9044 - auc_val: 0.8340                                                                                                    \n",
      "epoch: 0015, loss: 0.4808 - val_loss: 0.5995; auc: 0.9092 - auc_val: 0.8380                                                                                                    \n",
      "epoch: 0016, loss: 0.4611 - val_loss: 0.6281; auc: 0.9145 - auc_val: 0.8379                                                                                                    \n",
      "epoch: 0017, loss: 0.4475 - val_loss: 0.5361; auc: 0.9156 - auc_val: 0.8415                                                                                                    \n",
      "epoch: 0018, loss: 0.4272 - val_loss: 0.5336; auc: 0.9208 - auc_val: 0.8407                                                                                                    \n",
      "epoch: 0019, loss: 0.4131 - val_loss: 0.5377; auc: 0.9272 - auc_val: 0.8407                                                                                                    \n",
      "epoch: 0020, loss: 0.4040 - val_loss: 0.5368; auc: 0.9308 - auc_val: 0.8421                                                                                                    \n",
      "epoch: 0021, loss: 0.4074 - val_loss: 0.5259; auc: 0.9348 - auc_val: 0.8458                                                                                                    \n",
      "epoch: 0022, loss: 0.3893 - val_loss: 0.6361; auc: 0.9413 - auc_val: 0.8445                                                                                                    \n",
      "epoch: 0023, loss: 0.3952 - val_loss: 0.5248; auc: 0.9415 - auc_val: 0.8486                                                                                                    \n",
      "epoch: 0024, loss: 0.3858 - val_loss: 0.5197; auc: 0.9453 - auc_val: 0.8511                                                                                                    \n",
      "epoch: 0025, loss: 0.3654 - val_loss: 0.5443; auc: 0.9487 - auc_val: 0.8521                                                                                                    \n",
      "epoch: 0026, loss: 0.3501 - val_loss: 0.5204; auc: 0.9511 - auc_val: 0.8528                                                                                                    \n",
      "epoch: 0027, loss: 0.3462 - val_loss: 0.5189; auc: 0.9527 - auc_val: 0.8544                                                                                                    \n",
      "epoch: 0028, loss: 0.3343 - val_loss: 0.5698; auc: 0.9566 - auc_val: 0.8542                                                                                                    \n",
      "epoch: 0029, loss: 0.3614 - val_loss: 0.5191; auc: 0.9567 - auc_val: 0.8549                                                                                                    \n",
      "epoch: 0030, loss: 0.3268 - val_loss: 0.5323; auc: 0.9593 - auc_val: 0.8553                                                                                                    \n",
      "epoch: 0031, loss: 0.3322 - val_loss: 0.5171; auc: 0.9617 - auc_val: 0.8569                                                                                                    \n",
      "epoch: 0032, loss: 0.3182 - val_loss: 0.5623; auc: 0.9640 - auc_val: 0.8555                                                                                                    \n",
      "epoch: 0033, loss: 0.3012 - val_loss: 0.5244; auc: 0.9661 - auc_val: 0.8563                                                                                                    \n",
      "epoch: 0034, loss: 0.3003 - val_loss: 0.5143; auc: 0.9676 - auc_val: 0.8572                                                                                                    \n",
      "epoch: 0035, loss: 0.2991 - val_loss: 0.6362; auc: 0.9696 - auc_val: 0.8556                                                                                                    \n",
      "epoch: 0036, loss: 0.2959 - val_loss: 0.5165; auc: 0.9697 - auc_val: 0.8621                                                                                                    \n",
      "epoch: 0037, loss: 0.2697 - val_loss: 0.5317; auc: 0.9724 - auc_val: 0.8588                                                                                                    \n",
      "epoch: 0038, loss: 0.2644 - val_loss: 0.5175; auc: 0.9730 - auc_val: 0.8618                                                                                                    \n",
      "epoch: 0039, loss: 0.2662 - val_loss: 0.5208; auc: 0.9748 - auc_val: 0.8620                                                                                                    \n",
      "epoch: 0040, loss: 0.2615 - val_loss: 0.5200; auc: 0.9769 - auc_val: 0.8616                                                                                                    \n",
      "epoch: 0041, loss: 0.2913 - val_loss: 0.5796; auc: 0.9769 - auc_val: 0.8634                                                                                                    \n",
      "epoch: 0042, loss: 0.2777 - val_loss: 0.5588; auc: 0.9759 - auc_val: 0.8657                                                                                                    \n",
      "epoch: 0043, loss: 0.2622 - val_loss: 0.5285; auc: 0.9783 - auc_val: 0.8641                                                                                                    \n",
      "epoch: 0044, loss: 0.2450 - val_loss: 0.5208; auc: 0.9799 - auc_val: 0.8671                                                                                                    \n",
      "epoch: 0045, loss: 0.2372 - val_loss: 0.5312; auc: 0.9815 - auc_val: 0.8658                                                                                                    \n",
      "epoch: 0046, loss: 0.2309 - val_loss: 0.5380; auc: 0.9817 - auc_val: 0.8681                                                                                                    \n",
      "epoch: 0047, loss: 0.2373 - val_loss: 0.5272; auc: 0.9829 - auc_val: 0.8665                                                                                                    \n",
      "epoch: 0048, loss: 0.2128 - val_loss: 0.5297; auc: 0.9836 - auc_val: 0.8680                                                                                                    \n",
      "epoch: 0049, loss: 0.2239 - val_loss: 0.5615; auc: 0.9847 - auc_val: 0.8669                                                                                                    \n",
      "epoch: 0050, loss: 0.2018 - val_loss: 0.5319; auc: 0.9851 - auc_val: 0.8701                                                                                                    \n",
      "epoch: 0051, loss: 0.1979 - val_loss: 0.5691; auc: 0.9867 - auc_val: 0.8680                                                                                                    \n",
      "epoch: 0052, loss: 0.2007 - val_loss: 0.5340; auc: 0.9871 - auc_val: 0.8717                                                                                                    \n",
      "epoch: 0053, loss: 0.1910 - val_loss: 0.5457; auc: 0.9886 - auc_val: 0.8671                                                                                                    \n",
      "epoch: 0054, loss: 0.1839 - val_loss: 0.5402; auc: 0.9892 - auc_val: 0.8697                                                                                                    \n",
      "\n",
      "Restoring model weights from the end of the best epoch.\n",
      "\n",
      "Epoch 00054: early stopping\n"
     ]
    },
    {
     "data": {
      "text/plain": [
       "<tensorflow.python.keras.callbacks.History at 0x7f998f292c18>"
      ]
     },
     "execution_count": 30,
     "metadata": {},
     "output_type": "execute_result"
    }
   ],
   "source": [
    "model.fit(trainX, trainY, batch_size=128, \n",
    "      epochs=500, verbose= 0, shuffle = True, \n",
    "      validation_data = (validX, validY), \n",
    "      callbacks=[performace, earlystop]) "
   ]
  },
  {
   "cell_type": "code",
   "execution_count": 31,
   "metadata": {},
   "outputs": [
    {
     "data": {
      "text/plain": [
       "<matplotlib.axes._subplots.AxesSubplot at 0x7f998d0b25f8>"
      ]
     },
     "execution_count": 31,
     "metadata": {},
     "output_type": "execute_result"
    },
    {
     "data": {
      "image/png": "[encoded data removed]",
      "text/plain": [
       "<Figure size 432x288 with 1 Axes>"
      ]
     },
     "metadata": {
      "needs_background": "light"
     },
     "output_type": "display_data"
    }
   ],
   "source": [
    "dfp = pd.DataFrame(performace.history)[['training_loss', 'validation_loss', 'training_auc', 'validation_auc']]\n",
    "dfp.plot()"
   ]
  },
  {
   "cell_type": "code",
   "execution_count": 32,
   "metadata": {},
   "outputs": [
    {
     "name": "stdout",
     "output_type": "stream",
     "text": [
      "0.967630614999036 0.857218309859155 0.872093023255814\n"
     ]
    }
   ],
   "source": [
    "train_auc = np.mean(performace.evaluate(trainX, trainY))\n",
    "valid_auc = np.mean(performace.evaluate(validX, validY))\n",
    "test_auc = np.mean(performace.evaluate(testX, testY))\n",
    "\n",
    "\n",
    "print(train_auc, valid_auc, test_auc)"
   ]
  },
  {
   "cell_type": "code",
   "execution_count": 33,
   "metadata": {},
   "outputs": [
    {
     "data": {
      "text/plain": [
       "[0.872093023255814]"
      ]
     },
     "execution_count": 33,
     "metadata": {},
     "output_type": "execute_result"
    }
   ],
   "source": [
    "performace.evaluate(testX, testY)"
   ]
  },
  {
   "cell_type": "code",
   "execution_count": null,
   "metadata": {},
   "outputs": [],
   "source": []
  },
  {
   "cell_type": "code",
   "execution_count": null,
   "metadata": {},
   "outputs": [],
   "source": []
  },
  {
   "cell_type": "code",
   "execution_count": null,
   "metadata": {},
   "outputs": [],
   "source": []
  }
 ],
 "metadata": {
  "kernelspec": {
   "display_name": "Python 3",
   "language": "python",
   "name": "python3"
  },
  "language_info": {
   "codemirror_mode": {
    "name": "ipython",
    "version": 3
   },
   "file_extension": ".py",
   "mimetype": "text/x-python",
   "name": "python",
   "nbconvert_exporter": "python",
   "pygments_lexer": "ipython3",
   "version": "3.6.9"
  }
 },
 "nbformat": 4,
 "nbformat_minor": 4
}
