{
 "cells": [
  {
   "cell_type": "code",
   "execution_count": 1,
   "metadata": {},
   "outputs": [
    {
     "name": "stderr",
     "output_type": "stream",
     "text": [
      "/home/shenwanxiang/anaconda3/envs/deepchem/lib/python3.6/site-packages/tensorflow/python/framework/dtypes.py:516: FutureWarning: Passing (type, 1) or '1type' as a synonym of type is deprecated; in a future version of numpy, it will be understood as (type, (1,)) / '(1,)type'.\n",
      "  _np_qint8 = np.dtype([(\"qint8\", np.int8, 1)])\n",
      "/home/shenwanxiang/anaconda3/envs/deepchem/lib/python3.6/site-packages/tensorflow/python/framework/dtypes.py:517: FutureWarning: Passing (type, 1) or '1type' as a synonym of type is deprecated; in a future version of numpy, it will be understood as (type, (1,)) / '(1,)type'.\n",
      "  _np_quint8 = np.dtype([(\"quint8\", np.uint8, 1)])\n",
      "/home/shenwanxiang/anaconda3/envs/deepchem/lib/python3.6/site-packages/tensorflow/python/framework/dtypes.py:518: FutureWarning: Passing (type, 1) or '1type' as a synonym of type is deprecated; in a future version of numpy, it will be understood as (type, (1,)) / '(1,)type'.\n",
      "  _np_qint16 = np.dtype([(\"qint16\", np.int16, 1)])\n",
      "/home/shenwanxiang/anaconda3/envs/deepchem/lib/python3.6/site-packages/tensorflow/python/framework/dtypes.py:519: FutureWarning: Passing (type, 1) or '1type' as a synonym of type is deprecated; in a future version of numpy, it will be understood as (type, (1,)) / '(1,)type'.\n",
      "  _np_quint16 = np.dtype([(\"quint16\", np.uint16, 1)])\n",
      "/home/shenwanxiang/anaconda3/envs/deepchem/lib/python3.6/site-packages/tensorflow/python/framework/dtypes.py:520: FutureWarning: Passing (type, 1) or '1type' as a synonym of type is deprecated; in a future version of numpy, it will be understood as (type, (1,)) / '(1,)type'.\n",
      "  _np_qint32 = np.dtype([(\"qint32\", np.int32, 1)])\n",
      "/home/shenwanxiang/anaconda3/envs/deepchem/lib/python3.6/site-packages/tensorflow/python/framework/dtypes.py:525: FutureWarning: Passing (type, 1) or '1type' as a synonym of type is deprecated; in a future version of numpy, it will be understood as (type, (1,)) / '(1,)type'.\n",
      "  np_resource = np.dtype([(\"resource\", np.ubyte, 1)])\n",
      "/home/shenwanxiang/anaconda3/envs/deepchem/lib/python3.6/site-packages/tensorboard/compat/tensorflow_stub/dtypes.py:541: FutureWarning: Passing (type, 1) or '1type' as a synonym of type is deprecated; in a future version of numpy, it will be understood as (type, (1,)) / '(1,)type'.\n",
      "  _np_qint8 = np.dtype([(\"qint8\", np.int8, 1)])\n",
      "/home/shenwanxiang/anaconda3/envs/deepchem/lib/python3.6/site-packages/tensorboard/compat/tensorflow_stub/dtypes.py:542: FutureWarning: Passing (type, 1) or '1type' as a synonym of type is deprecated; in a future version of numpy, it will be understood as (type, (1,)) / '(1,)type'.\n",
      "  _np_quint8 = np.dtype([(\"quint8\", np.uint8, 1)])\n",
      "/home/shenwanxiang/anaconda3/envs/deepchem/lib/python3.6/site-packages/tensorboard/compat/tensorflow_stub/dtypes.py:543: FutureWarning: Passing (type, 1) or '1type' as a synonym of type is deprecated; in a future version of numpy, it will be understood as (type, (1,)) / '(1,)type'.\n",
      "  _np_qint16 = np.dtype([(\"qint16\", np.int16, 1)])\n",
      "/home/shenwanxiang/anaconda3/envs/deepchem/lib/python3.6/site-packages/tensorboard/compat/tensorflow_stub/dtypes.py:544: FutureWarning: Passing (type, 1) or '1type' as a synonym of type is deprecated; in a future version of numpy, it will be understood as (type, (1,)) / '(1,)type'.\n",
      "  _np_quint16 = np.dtype([(\"quint16\", np.uint16, 1)])\n",
      "/home/shenwanxiang/anaconda3/envs/deepchem/lib/python3.6/site-packages/tensorboard/compat/tensorflow_stub/dtypes.py:545: FutureWarning: Passing (type, 1) or '1type' as a synonym of type is deprecated; in a future version of numpy, it will be understood as (type, (1,)) / '(1,)type'.\n",
      "  _np_qint32 = np.dtype([(\"qint32\", np.int32, 1)])\n",
      "/home/shenwanxiang/anaconda3/envs/deepchem/lib/python3.6/site-packages/tensorboard/compat/tensorflow_stub/dtypes.py:550: FutureWarning: Passing (type, 1) or '1type' as a synonym of type is deprecated; in a future version of numpy, it will be understood as (type, (1,)) / '(1,)type'.\n",
      "  np_resource = np.dtype([(\"resource\", np.ubyte, 1)])\n"
     ]
    }
   ],
   "source": [
    "from molmap import dataset\n",
    "from molmap import loadmap\n",
    "import molmap\n",
    "\n",
    "import matplotlib.pyplot as plt\n",
    "from joblib import dump, load\n",
    "from tqdm import tqdm\n",
    "import pandas as pd\n",
    "tqdm.pandas(ascii=True)\n",
    "\n",
    "import numpy as np\n",
    "import tensorflow as tf\n",
    "\n",
    "#use the second GPU, if negative value, CPUs will be used\n",
    "import os\n",
    "os.environ[\"CUDA_VISIBLE_DEVICES\"]=\"1\"\n",
    "\n",
    "\n",
    "%matplotlib inline\n",
    "np.random.seed(777)\n",
    "tf.set_random_seed(777)\n",
    "\n",
    "\n",
    "def get_deepchem_idx(df):\n",
    "    \"\"\" deepchem dataset\"\"\"\n",
    "    deepchem_data_name = './SIDER_deepchem.data'\n",
    "    if os.path.exists(deepchem_data_name):\n",
    "        train_df,valid_df,test_df = load(deepchem_data_name)\n",
    "    else:\n",
    "        import deepchem as dc\n",
    "        task, train_valid_test, _ = dc.molnet.load_sider(featurizer='Raw',split = 'random')\n",
    "        train, valid, test = train_valid_test\n",
    "        train_df = df[df.smiles.isin(train.ids)]\n",
    "        valid_df = df[df.smiles.isin(valid.ids)]\n",
    "        test_df = df[df.smiles.isin(test.ids)]\n",
    "        dump((train_df,valid_df,test_df), deepchem_data_name)\n",
    "    train_idx = train_df.index\n",
    "    valid_idx = valid_df.index\n",
    "    test_idx = test_df.index\n",
    "    print('training set: %s, valid set: %s, test set %s' % (len(train_idx), len(valid_idx), len(test_idx)))\n",
    "    return train_idx, valid_idx, test_idx\n",
    "\n",
    "\n",
    "def get_attentiveFP_idx(df):\n",
    "    \"\"\" attentiveFP dataset\"\"\"\n",
    "    train, valid,test = load('./SIDER_attentiveFP.data')\n",
    "    print('training set: %s, valid set: %s, test set %s' % (len(train), len(valid), len(test)))\n",
    "    train_idx = df[df.smiles.isin(train.smiles)].index\n",
    "    valid_idx = df[df.smiles.isin(valid.smiles)].index\n",
    "    test_idx = df[df.smiles.isin(test.smiles)].index\n",
    "    print('training set: %s, valid set: %s, test set %s' % (len(train_idx), len(valid_idx), len(test_idx)))\n",
    "    return train_idx, valid_idx, test_idx \n",
    "\n",
    "def get_pos_weights(trainY):\n",
    "    \"\"\"pos_weights: neg_n / pos_n \"\"\"\n",
    "    dfY = pd.DataFrame(trainY)\n",
    "    pos = dfY == 1\n",
    "    pos_n = pos.sum(axis=0)\n",
    "    neg = dfY == 0\n",
    "    neg_n = neg.sum(axis=0)\n",
    "    pos_weights = (neg_n / pos_n).values\n",
    "    neg_weights = (pos_n / neg_n).values\n",
    "    return pos_weights, neg_weights"
   ]
  },
  {
   "cell_type": "code",
   "execution_count": 2,
   "metadata": {},
   "outputs": [
    {
     "name": "stdout",
     "output_type": "stream",
     "text": [
      "total samples: 1427\n"
     ]
    }
   ],
   "source": [
    "#load dataset\n",
    "data = dataset.load_SIDER()\n",
    "df = data.data"
   ]
  },
  {
   "cell_type": "code",
   "execution_count": 3,
   "metadata": {},
   "outputs": [],
   "source": [
    "MASK = -1\n",
    "Y = pd.DataFrame(data.y).fillna(MASK).values"
   ]
  },
  {
   "cell_type": "code",
   "execution_count": 4,
   "metadata": {},
   "outputs": [],
   "source": [
    "# calculate feature\n",
    "X1_name =  './descriptor_grid_split.data'\n",
    "X2_name =  './fingerprint_grid_split.data'\n",
    "\n",
    "if os.path.exists(X1_name):\n",
    "    X1 = load(X1_name)\n",
    "else:\n",
    "    mp = loadmap('../../descriptor_grid_split.mp')\n",
    "    X1 = mp.batch_transform(data.x, n_jobs = 8)\n",
    "    dump(X1, X1_name)\n",
    "    \n",
    "if os.path.exists(X2_name):\n",
    "    X2 = load(X2_name)\n",
    "else:\n",
    "    mp = loadmap('../../fingerprint_grid_split.mp')\n",
    "    X2 = mp.batch_transform(data.x, n_jobs = 8)\n",
    "    dump(X2, X2_name)"
   ]
  },
  {
   "cell_type": "code",
   "execution_count": 5,
   "metadata": {},
   "outputs": [
    {
     "name": "stdout",
     "output_type": "stream",
     "text": [
      "training set: 1141, valid set: 143, test set 143\n",
      "1141 143 143\n"
     ]
    }
   ],
   "source": [
    "#train_idx, valid_idx, test_idx = get_attentiveFP_idx(df)\n",
    "train_idx, valid_idx, test_idx = get_deepchem_idx(df)\n",
    "\n",
    "\n",
    "trainX = (X1[train_idx], X2[train_idx])\n",
    "trainY = Y[train_idx]\n",
    "\n",
    "validX = (X1[valid_idx], X2[valid_idx])\n",
    "validY = Y[valid_idx]\n",
    "\n",
    "testX = (X1[test_idx], X2[test_idx])\n",
    "testY = Y[test_idx]\n",
    "\n",
    "print(len(train_idx), len(valid_idx), len(test_idx))"
   ]
  },
  {
   "cell_type": "code",
   "execution_count": 6,
   "metadata": {},
   "outputs": [
    {
     "name": "stdout",
     "output_type": "stream",
     "text": [
      "WARNING:tensorflow:From /home/shenwanxiang/anaconda3/envs/deepchem/lib/python3.6/site-packages/tensorflow/python/ops/init_ops.py:1251: calling VarianceScaling.__init__ (from tensorflow.python.ops.init_ops) with dtype is deprecated and will be removed in a future version.\n",
      "Instructions for updating:\n",
      "Call initializer instance with the dtype argument instead of passing it to the constructor\n"
     ]
    }
   ],
   "source": [
    "from loss import cross_entropy, weighted_cross_entropy\n",
    "from cbks import EarlyStoppingAndPerformance\n",
    "from model import DoublePathClassificationModel\n",
    "\n",
    "molmap1_size = X1.shape[1:]\n",
    "molmap2_size = X2.shape[1:]\n",
    "pos_weights, neg_weights = get_pos_weights(Y[train_idx])\n",
    "loss = lambda y_true, y_pred: weighted_cross_entropy(y_true,y_pred, pos_weights, MASK)\n",
    "model = DoublePathClassificationModel(molmap1_size,molmap2_size, n_outputs = Y.shape[1])"
   ]
  },
  {
   "cell_type": "code",
   "execution_count": 7,
   "metadata": {},
   "outputs": [
    {
     "data": {
      "text/plain": [
       "784827"
      ]
     },
     "execution_count": 7,
     "metadata": {},
     "output_type": "execute_result"
    }
   ],
   "source": [
    "earlystop = EarlyStoppingAndPerformance((trainX, trainY), (validX, validY), MASK, patience=10, criteria = 'val_auc')\n",
    "lr = tf.keras.optimizers.Adam(lr=0.0001, beta_1=0.9, beta_2=0.999, epsilon=1e-08, decay=0.0) #\n",
    "model.compile(optimizer = lr, loss = loss)\n",
    "model.count_params()"
   ]
  },
  {
   "cell_type": "code",
   "execution_count": 8,
   "metadata": {},
   "outputs": [
    {
     "name": "stdout",
     "output_type": "stream",
     "text": [
      "epoch: 0001, loss: 0.6060 - val_loss: 0.5903; auc: 0.5728 - val_auc: 0.5419                                                                                                    \n",
      "epoch: 0002, loss: 0.6022 - val_loss: 0.5897; auc: 0.5994 - val_auc: 0.5678                                                                                                    \n",
      "epoch: 0003, loss: 0.6011 - val_loss: 0.5895; auc: 0.6078 - val_auc: 0.5739                                                                                                    \n",
      "epoch: 0004, loss: 0.6000 - val_loss: 0.5893; auc: 0.6202 - val_auc: 0.5778                                                                                                    \n",
      "epoch: 0005, loss: 0.5989 - val_loss: 0.5885; auc: 0.6358 - val_auc: 0.5830                                                                                                    \n",
      "epoch: 0006, loss: 0.5976 - val_loss: 0.5881; auc: 0.6353 - val_auc: 0.5722                                                                                                    \n",
      "epoch: 0007, loss: 0.5969 - val_loss: 0.5879; auc: 0.6389 - val_auc: 0.5803                                                                                                    \n",
      "epoch: 0008, loss: 0.5953 - val_loss: 0.5874; auc: 0.6459 - val_auc: 0.5804                                                                                                    \n",
      "epoch: 0009, loss: 0.5938 - val_loss: 0.5867; auc: 0.6468 - val_auc: 0.5894                                                                                                    \n",
      "epoch: 0010, loss: 0.5928 - val_loss: 0.5867; auc: 0.6475 - val_auc: 0.5875                                                                                                    \n",
      "epoch: 0011, loss: 0.5911 - val_loss: 0.5856; auc: 0.6539 - val_auc: 0.5960                                                                                                    \n",
      "epoch: 0012, loss: 0.5895 - val_loss: 0.5857; auc: 0.6516 - val_auc: 0.5985                                                                                                    \n",
      "epoch: 0013, loss: 0.5883 - val_loss: 0.5862; auc: 0.6563 - val_auc: 0.5911                                                                                                    \n",
      "epoch: 0014, loss: 0.5869 - val_loss: 0.5841; auc: 0.6580 - val_auc: 0.6099                                                                                                    \n",
      "epoch: 0015, loss: 0.5853 - val_loss: 0.5854; auc: 0.6570 - val_auc: 0.6150                                                                                                    \n",
      "epoch: 0016, loss: 0.5835 - val_loss: 0.5828; auc: 0.6597 - val_auc: 0.6180                                                                                                    \n",
      "epoch: 0017, loss: 0.5817 - val_loss: 0.5826; auc: 0.6628 - val_auc: 0.6179                                                                                                    \n",
      "epoch: 0018, loss: 0.5783 - val_loss: 0.5833; auc: 0.6656 - val_auc: 0.6167                                                                                                    \n",
      "epoch: 0019, loss: 0.5767 - val_loss: 0.5798; auc: 0.6629 - val_auc: 0.6232                                                                                                    \n",
      "epoch: 0020, loss: 0.5775 - val_loss: 0.5890; auc: 0.6693 - val_auc: 0.6133                                                                                                    \n",
      "epoch: 0021, loss: 0.5725 - val_loss: 0.5804; auc: 0.6662 - val_auc: 0.6251                                                                                                    \n",
      "epoch: 0022, loss: 0.5719 - val_loss: 0.5789; auc: 0.6704 - val_auc: 0.6266                                                                                                    \n",
      "epoch: 0023, loss: 0.5682 - val_loss: 0.5959; auc: 0.6706 - val_auc: 0.6201                                                                                                    \n",
      "epoch: 0024, loss: 0.5697 - val_loss: 0.5777; auc: 0.6700 - val_auc: 0.6333                                                                                                    \n",
      "epoch: 0025, loss: 0.5675 - val_loss: 0.5943; auc: 0.6766 - val_auc: 0.6184                                                                                                    \n",
      "epoch: 0026, loss: 0.5641 - val_loss: 0.5773; auc: 0.6775 - val_auc: 0.6360                                                                                                    \n",
      "epoch: 0027, loss: 0.5607 - val_loss: 0.5873; auc: 0.6773 - val_auc: 0.6308                                                                                                    \n",
      "epoch: 0028, loss: 0.5588 - val_loss: 0.5861; auc: 0.6818 - val_auc: 0.6264                                                                                                    \n",
      "epoch: 0029, loss: 0.5560 - val_loss: 0.5791; auc: 0.6825 - val_auc: 0.6382                                                                                                    \n",
      "epoch: 0030, loss: 0.5517 - val_loss: 0.5902; auc: 0.6852 - val_auc: 0.6331                                                                                                    \n",
      "epoch: 0031, loss: 0.5499 - val_loss: 0.5779; auc: 0.6828 - val_auc: 0.6414                                                                                                    \n",
      "epoch: 0032, loss: 0.5486 - val_loss: 0.5925; auc: 0.6872 - val_auc: 0.6283                                                                                                    \n",
      "epoch: 0033, loss: 0.5470 - val_loss: 0.5890; auc: 0.6899 - val_auc: 0.6376                                                                                                    \n",
      "epoch: 0034, loss: 0.5432 - val_loss: 0.6056; auc: 0.6892 - val_auc: 0.6269                                                                                                    \n",
      "epoch: 0035, loss: 0.5437 - val_loss: 0.5764; auc: 0.6917 - val_auc: 0.6435                                                                                                    \n",
      "epoch: 0036, loss: 0.5404 - val_loss: 0.5908; auc: 0.6932 - val_auc: 0.6411                                                                                                    \n",
      "epoch: 0037, loss: 0.5371 - val_loss: 0.6017; auc: 0.6967 - val_auc: 0.6339                                                                                                    \n",
      "epoch: 0038, loss: 0.5334 - val_loss: 0.5990; auc: 0.6989 - val_auc: 0.6371                                                                                                    \n",
      "epoch: 0039, loss: 0.5310 - val_loss: 0.5872; auc: 0.6999 - val_auc: 0.6375                                                                                                    \n",
      "epoch: 0040, loss: 0.5288 - val_loss: 0.6009; auc: 0.7010 - val_auc: 0.6410                                                                                                    \n",
      "epoch: 0041, loss: 0.5272 - val_loss: 0.6033; auc: 0.7027 - val_auc: 0.6405                                                                                                    \n",
      "epoch: 0042, loss: 0.5249 - val_loss: 0.5960; auc: 0.7060 - val_auc: 0.6401                                                                                                    \n",
      "epoch: 0043, loss: 0.5223 - val_loss: 0.5939; auc: 0.7078 - val_auc: 0.6415                                                                                                    \n",
      "epoch: 0044, loss: 0.5197 - val_loss: 0.6132; auc: 0.7105 - val_auc: 0.6334                                                                                                    \n",
      "epoch: 0045, loss: 0.5172 - val_loss: 0.5982; auc: 0.7105 - val_auc: 0.6453                                                                                                    \n",
      "epoch: 0046, loss: 0.5170 - val_loss: 0.6084; auc: 0.7145 - val_auc: 0.6374                                                                                                    \n",
      "epoch: 0047, loss: 0.5142 - val_loss: 0.6521; auc: 0.7160 - val_auc: 0.6271                                                                                                    \n",
      "epoch: 0048, loss: 0.5156 - val_loss: 0.6248; auc: 0.7197 - val_auc: 0.6349                                                                                                    \n",
      "epoch: 0049, loss: 0.5125 - val_loss: 0.6002; auc: 0.7201 - val_auc: 0.6437                                                                                                    \n",
      "epoch: 0050, loss: 0.5149 - val_loss: 0.5927; auc: 0.7218 - val_auc: 0.6477                                                                                                    \n",
      "epoch: 0051, loss: 0.5079 - val_loss: 0.6051; auc: 0.7240 - val_auc: 0.6480                                                                                                    \n",
      "epoch: 0052, loss: 0.5054 - val_loss: 0.6004; auc: 0.7278 - val_auc: 0.6464                                                                                                    \n",
      "epoch: 0053, loss: 0.5025 - val_loss: 0.6419; auc: 0.7299 - val_auc: 0.6363                                                                                                    \n",
      "epoch: 0054, loss: 0.5029 - val_loss: 0.6174; auc: 0.7323 - val_auc: 0.6451                                                                                                    \n",
      "epoch: 0055, loss: 0.4991 - val_loss: 0.6159; auc: 0.7349 - val_auc: 0.6452                                                                                                    \n",
      "epoch: 0056, loss: 0.4964 - val_loss: 0.6360; auc: 0.7375 - val_auc: 0.6431                                                                                                    \n",
      "epoch: 0057, loss: 0.4938 - val_loss: 0.6272; auc: 0.7397 - val_auc: 0.6451                                                                                                    \n",
      "epoch: 0058, loss: 0.4921 - val_loss: 0.6452; auc: 0.7419 - val_auc: 0.6446                                                                                                    \n",
      "epoch: 0059, loss: 0.4922 - val_loss: 0.6192; auc: 0.7445 - val_auc: 0.6500                                                                                                    \n",
      "epoch: 0060, loss: 0.4937 - val_loss: 0.6471; auc: 0.7479 - val_auc: 0.6425                                                                                                    \n",
      "epoch: 0061, loss: 0.4904 - val_loss: 0.6431; auc: 0.7510 - val_auc: 0.6479                                                                                                    \n",
      "epoch: 0062, loss: 0.4855 - val_loss: 0.6358; auc: 0.7529 - val_auc: 0.6467                                                                                                    \n",
      "epoch: 0063, loss: 0.4826 - val_loss: 0.6040; auc: 0.7549 - val_auc: 0.6562                                                                                                    \n",
      "epoch: 0064, loss: 0.4791 - val_loss: 0.6647; auc: 0.7579 - val_auc: 0.6467                                                                                                    \n",
      "epoch: 0065, loss: 0.4810 - val_loss: 0.6479; auc: 0.7608 - val_auc: 0.6496                                                                                                    \n",
      "epoch: 0066, loss: 0.4770 - val_loss: 0.6292; auc: 0.7627 - val_auc: 0.6531                                                                                                    \n",
      "epoch: 0067, loss: 0.4745 - val_loss: 0.6398; auc: 0.7651 - val_auc: 0.6549                                                                                                    \n",
      "epoch: 0068, loss: 0.4729 - val_loss: 0.6253; auc: 0.7676 - val_auc: 0.6566                                                                                                    \n",
      "epoch: 0069, loss: 0.4703 - val_loss: 0.6304; auc: 0.7695 - val_auc: 0.6585                                                                                                    \n",
      "epoch: 0070, loss: 0.4671 - val_loss: 0.6525; auc: 0.7731 - val_auc: 0.6589                                                                                                    \n",
      "epoch: 0071, loss: 0.4662 - val_loss: 0.6483; auc: 0.7763 - val_auc: 0.6586                                                                                                    \n",
      "epoch: 0072, loss: 0.4625 - val_loss: 0.6543; auc: 0.7791 - val_auc: 0.6592                                                                                                    \n",
      "epoch: 0073, loss: 0.4600 - val_loss: 0.6598; auc: 0.7814 - val_auc: 0.6612                                                                                                    \n",
      "epoch: 0074, loss: 0.4571 - val_loss: 0.6262; auc: 0.7828 - val_auc: 0.6637                                                                                                    \n",
      "epoch: 0075, loss: 0.4585 - val_loss: 0.6869; auc: 0.7874 - val_auc: 0.6558                                                                                                    \n",
      "epoch: 0076, loss: 0.4548 - val_loss: 0.6566; auc: 0.7894 - val_auc: 0.6622                                                                                                    \n",
      "epoch: 0077, loss: 0.4491 - val_loss: 0.6270; auc: 0.7908 - val_auc: 0.6674                                                                                                    \n",
      "epoch: 0078, loss: 0.4477 - val_loss: 0.6378; auc: 0.7938 - val_auc: 0.6682                                                                                                    \n",
      "epoch: 0079, loss: 0.4450 - val_loss: 0.6730; auc: 0.7978 - val_auc: 0.6638                                                                                                    \n",
      "epoch: 0080, loss: 0.4434 - val_loss: 0.6865; auc: 0.8002 - val_auc: 0.6639                                                                                                    \n",
      "epoch: 0081, loss: 0.4399 - val_loss: 0.6622; auc: 0.8027 - val_auc: 0.6660                                                                                                    \n",
      "epoch: 0082, loss: 0.4375 - val_loss: 0.6508; auc: 0.8033 - val_auc: 0.6728                                                                                                    \n",
      "epoch: 0083, loss: 0.4349 - val_loss: 0.6727; auc: 0.8078 - val_auc: 0.6684                                                                                                    \n",
      "epoch: 0084, loss: 0.4327 - val_loss: 0.6481; auc: 0.8095 - val_auc: 0.6696                                                                                                    \n",
      "epoch: 0085, loss: 0.4368 - val_loss: 0.6530; auc: 0.8114 - val_auc: 0.6716                                                                                                    \n",
      "epoch: 0086, loss: 0.4325 - val_loss: 0.6777; auc: 0.8153 - val_auc: 0.6690                                                                                                    \n",
      "epoch: 0087, loss: 0.4260 - val_loss: 0.6547; auc: 0.8161 - val_auc: 0.6758                                                                                                    \n",
      "epoch: 0088, loss: 0.4223 - val_loss: 0.6466; auc: 0.8175 - val_auc: 0.6750                                                                                                    \n",
      "epoch: 0089, loss: 0.4238 - val_loss: 0.6592; auc: 0.8214 - val_auc: 0.6737                                                                                                    \n",
      "epoch: 0090, loss: 0.4193 - val_loss: 0.6696; auc: 0.8230 - val_auc: 0.6749                                                                                                    \n",
      "epoch: 0091, loss: 0.4144 - val_loss: 0.6613; auc: 0.8264 - val_auc: 0.6740                                                                                                    \n",
      "epoch: 0092, loss: 0.4117 - val_loss: 0.6777; auc: 0.8264 - val_auc: 0.6776                                                                                                    \n",
      "epoch: 0093, loss: 0.4119 - val_loss: 0.6667; auc: 0.8292 - val_auc: 0.6777                                                                                                    \n",
      "epoch: 0094, loss: 0.4067 - val_loss: 0.6833; auc: 0.8321 - val_auc: 0.6756                                                                                                    \n",
      "epoch: 0095, loss: 0.4070 - val_loss: 0.6797; auc: 0.8345 - val_auc: 0.6742                                                                                                    \n",
      "epoch: 0096, loss: 0.4051 - val_loss: 0.6840; auc: 0.8360 - val_auc: 0.6753                                                                                                    \n",
      "epoch: 0097, loss: 0.4123 - val_loss: 0.6939; auc: 0.8387 - val_auc: 0.6754                                                                                                    \n",
      "epoch: 0098, loss: 0.4090 - val_loss: 0.6708; auc: 0.8389 - val_auc: 0.6789                                                                                                    \n",
      "epoch: 0099, loss: 0.3977 - val_loss: 0.6837; auc: 0.8410 - val_auc: 0.6799                                                                                                    \n",
      "epoch: 0100, loss: 0.3933 - val_loss: 0.7153; auc: 0.8443 - val_auc: 0.6744                                                                                                    \n",
      "epoch: 0101, loss: 0.3906 - val_loss: 0.6622; auc: 0.8436 - val_auc: 0.6815                                                                                                    \n",
      "epoch: 0102, loss: 0.3883 - val_loss: 0.7175; auc: 0.8474 - val_auc: 0.6756                                                                                                    \n",
      "epoch: 0103, loss: 0.3880 - val_loss: 0.6634; auc: 0.8462 - val_auc: 0.6833                                                                                                    \n",
      "epoch: 0104, loss: 0.3856 - val_loss: 0.7057; auc: 0.8492 - val_auc: 0.6777                                                                                                    \n",
      "epoch: 0105, loss: 0.3822 - val_loss: 0.6750; auc: 0.8507 - val_auc: 0.6833                                                                                                    \n",
      "epoch: 0106, loss: 0.3804 - val_loss: 0.7104; auc: 0.8532 - val_auc: 0.6754                                                                                                    \n",
      "epoch: 0107, loss: 0.3775 - val_loss: 0.6867; auc: 0.8543 - val_auc: 0.6812                                                                                                    \n",
      "epoch: 0108, loss: 0.3752 - val_loss: 0.7199; auc: 0.8560 - val_auc: 0.6784                                                                                                    \n",
      "epoch: 0109, loss: 0.3758 - val_loss: 0.6718; auc: 0.8557 - val_auc: 0.6846                                                                                                    \n",
      "epoch: 0110, loss: 0.3724 - val_loss: 0.7104; auc: 0.8593 - val_auc: 0.6769                                                                                                    \n",
      "epoch: 0111, loss: 0.3694 - val_loss: 0.7190; auc: 0.8612 - val_auc: 0.6769                                                                                                    \n",
      "epoch: 0112, loss: 0.3677 - val_loss: 0.7313; auc: 0.8627 - val_auc: 0.6762                                                                                                    \n",
      "epoch: 0113, loss: 0.3668 - val_loss: 0.6793; auc: 0.8617 - val_auc: 0.6844                                                                                                    \n",
      "epoch: 0114, loss: 0.3659 - val_loss: 0.6984; auc: 0.8624 - val_auc: 0.6845                                                                                                    \n",
      "epoch: 0115, loss: 0.3634 - val_loss: 0.7136; auc: 0.8654 - val_auc: 0.6805                                                                                                    \n",
      "epoch: 0116, loss: 0.3585 - val_loss: 0.7020; auc: 0.8646 - val_auc: 0.6840                                                                                                    \n",
      "epoch: 0117, loss: 0.3616 - val_loss: 0.6982; auc: 0.8666 - val_auc: 0.6846                                                                                                    \n",
      "epoch: 0118, loss: 0.3570 - val_loss: 0.7113; auc: 0.8687 - val_auc: 0.6811                                                                                                    \n",
      "epoch: 0119, loss: 0.3536 - val_loss: 0.7087; auc: 0.8697 - val_auc: 0.6827                                                                                                    \n",
      "\n",
      "Restoring model weights from the end of the best epoch.\n",
      "\n",
      "Epoch 00119: early stopping\n"
     ]
    },
    {
     "data": {
      "text/plain": [
       "<tensorflow.python.keras.callbacks.History at 0x7fadcfe38320>"
      ]
     },
     "execution_count": 8,
     "metadata": {},
     "output_type": "execute_result"
    }
   ],
   "source": [
    "model.fit(trainX, trainY, batch_size=128,\n",
    "      epochs=500, verbose= 0, shuffle = True, \n",
    "      validation_data = (validX, validY), \n",
    "      callbacks=[earlystop]) "
   ]
  },
  {
   "cell_type": "code",
   "execution_count": 13,
   "metadata": {},
   "outputs": [
    {
     "data": {
      "text/plain": [
       "<matplotlib.axes._subplots.AxesSubplot at 0x7fadaa83a748>"
      ]
     },
     "execution_count": 13,
     "metadata": {},
     "output_type": "execute_result"
    },
    {
     "data": {
      "image/png": "[encoded data removed]",
      "text/plain": [
       "<Figure size 432x288 with 1 Axes>"
      ]
     },
     "metadata": {
      "needs_background": "light"
     },
     "output_type": "display_data"
    }
   ],
   "source": [
    "dfp = pd.DataFrame(earlystop.history)[[ 'auc', 'val_auc']]\n",
    "dfp.plot()"
   ]
  },
  {
   "cell_type": "code",
   "execution_count": 11,
   "metadata": {},
   "outputs": [
    {
     "name": "stdout",
     "output_type": "stream",
     "text": [
      "0.8556826478791948 0.6846483961145772 0.65786148450346\n"
     ]
    }
   ],
   "source": [
    "train_auc = np.nanmean(earlystop.evaluate(trainX, trainY))\n",
    "valid_auc = np.nanmean(earlystop.evaluate(validX, validY))\n",
    "test_auc = np.nanmean(earlystop.evaluate(testX, testY))\n",
    "\n",
    "\n",
    "print(train_auc, valid_auc, test_auc)"
   ]
  },
  {
   "cell_type": "code",
   "execution_count": 12,
   "metadata": {},
   "outputs": [
    {
     "data": {
      "text/plain": [
       "[0.6845238095238095,\n",
       " 0.6068262411347518,\n",
       " 0.7943262411347518,\n",
       " 0.6354042214257267,\n",
       " 0.6952542372881356,\n",
       " 0.6358135365307037,\n",
       " 0.887741046831956,\n",
       " 0.5679271708683473,\n",
       " 0.6685796269727403,\n",
       " 0.6188686708860759,\n",
       " 0.6427842937276899,\n",
       " 0.6843853820598007,\n",
       " 0.647189349112426,\n",
       " 0.5297777777777778,\n",
       " 0.7129476584022039,\n",
       " 0.7570247933884299,\n",
       " 0.6370370370370371,\n",
       " 0.6684365781710914,\n",
       " 0.7273182957393484,\n",
       " 0.48326159732185553,\n",
       " 0.5815053763440861,\n",
       " 0.733458177278402,\n",
       " 0.4910569105691058,\n",
       " 0.5694942254082039,\n",
       " 0.6972789115646257,\n",
       " 0.7744791666666667,\n",
       " 0.6295597484276729]"
      ]
     },
     "execution_count": 12,
     "metadata": {},
     "output_type": "execute_result"
    }
   ],
   "source": [
    "earlystop.evaluate(testX, testY)"
   ]
  },
  {
   "cell_type": "code",
   "execution_count": null,
   "metadata": {},
   "outputs": [],
   "source": []
  },
  {
   "cell_type": "code",
   "execution_count": null,
   "metadata": {},
   "outputs": [],
   "source": []
  },
  {
   "cell_type": "code",
   "execution_count": null,
   "metadata": {},
   "outputs": [],
   "source": []
  }
 ],
 "metadata": {
  "kernelspec": {
   "display_name": "Python 3",
   "language": "python",
   "name": "python3"
  },
  "language_info": {
   "codemirror_mode": {
    "name": "ipython",
    "version": 3
   },
   "file_extension": ".py",
   "mimetype": "text/x-python",
   "name": "python",
   "nbconvert_exporter": "python",
   "pygments_lexer": "ipython3",
   "version": "3.6.9"
  }
 },
 "nbformat": 4,
 "nbformat_minor": 4
}
