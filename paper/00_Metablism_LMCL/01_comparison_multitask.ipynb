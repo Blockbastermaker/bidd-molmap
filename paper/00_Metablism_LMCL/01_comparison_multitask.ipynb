{
 "cells": [
  {
   "cell_type": "markdown",
   "metadata": {},
   "source": [
    "# multi-task alternate training strategy--clearence prediction"
   ]
  },
  {
   "cell_type": "code",
   "execution_count": 2,
   "metadata": {},
   "outputs": [],
   "source": [
    "from molmap import loadmap, dataset\n",
    "import molmap\n",
    "\n",
    "import matplotlib.pyplot as plt\n",
    "from joblib import dump, load\n",
    "from tqdm import tqdm\n",
    "import pandas as pd\n",
    "tqdm.pandas(ascii=True)\n",
    "\n",
    "import numpy as np\n",
    "import tensorflow as tf\n",
    "from tensorflow.keras.utils import plot_model\n",
    "from tensorflow.keras import Model, Input\n",
    "from tensorflow.keras.layers import MaxPool2D, GlobalMaxPool2D, BatchNormalization, Activation\n",
    "from tensorflow.keras.layers import Conv2D, Concatenate,Flatten, Dense, Dropout\n",
    "\n",
    "%matplotlib inline\n",
    "#use the second GPU, if negative value, CPUs will be used\n",
    "import os\n",
    "os.environ[\"CUDA_VISIBLE_DEVICES\"]=\"0\"\n"
   ]
  },
  {
   "cell_type": "code",
   "execution_count": 3,
   "metadata": {},
   "outputs": [],
   "source": [
    "# just for repeatable results\n",
    "seed = 1234\n",
    "np.random.seed(seed)\n",
    "tf.set_random_seed(seed)"
   ]
  },
  {
   "cell_type": "code",
   "execution_count": 4,
   "metadata": {},
   "outputs": [],
   "source": [
    "\n",
    "def Inception(inputs, units = 8, strides = 1):\n",
    "    \"\"\"\n",
    "    naive google inception block\n",
    "    \"\"\"\n",
    "    x1 = Conv2D(units, 5, padding='same', activation = 'relu', strides = strides)(inputs)\n",
    "    x2 = Conv2D(units, 3, padding='same', activation = 'relu', strides = strides)(inputs)\n",
    "    x3 = Conv2D(units, 1, padding='same', activation = 'relu', strides = strides)(inputs)\n",
    "    outputs = Concatenate()([x1, x2, x3])    \n",
    "    return outputs\n",
    "\n",
    "\n",
    "def DoublePathModel(molmap1_size, molmap2_size, n_outputs = 1):\n",
    "    \n",
    "    ## first inputs\n",
    "    d_inputs1 = Input(molmap1_size)\n",
    "    d_conv1 = Conv2D(48, 13, padding = 'same', activation='relu', strides = 1)(d_inputs1)\n",
    "    d_pool1 = MaxPool2D(pool_size = 3, strides = 2, padding = 'same')(d_conv1) #p1\n",
    "    d_incept1 = Inception(d_pool1, strides = 1, units = 32)\n",
    "    d_pool2 = MaxPool2D(pool_size = 3, strides = 2, padding = 'same')(d_incept1) #p2\n",
    "    d_incept2 = Inception(d_pool2, strides = 1, units = 64)\n",
    "    d_flat1 = GlobalMaxPool2D()(d_incept2)\n",
    "\n",
    "    \n",
    "    ## second inputs\n",
    "    f_inputs1 = Input(molmap2_size)\n",
    "    f_conv1 = Conv2D(48, 13, padding = 'same', activation='relu', strides = 1)(f_inputs1)\n",
    "    f_pool1 = MaxPool2D(pool_size = 3, strides = 2, padding = 'same')(f_conv1) #p1\n",
    "    f_incept1 = Inception(f_pool1, strides = 1, units = 32)\n",
    "    f_pool2 = MaxPool2D(pool_size = 3, strides = 2, padding = 'same')(f_incept1) #p2\n",
    "    f_incept2 = Inception(f_pool2, strides = 1, units = 64)\n",
    "    f_flat1 = GlobalMaxPool2D()(f_incept2)    \n",
    "    \n",
    "    ## concat\n",
    "    merge = Concatenate()([d_flat1, f_flat1]) \n",
    "    d1 = Dense(256,activation='relu')(merge)\n",
    "    d1 = Dense(128,activation='relu')(d1)\n",
    "    d1 = Dense(64,activation='relu')(d1)\n",
    "    outputs = Dense(n_outputs, activation='linear')(d1)\n",
    "    \n",
    "    model = tf.keras.Model(inputs=[d_inputs1, f_inputs1], outputs=outputs)\n",
    "    \n",
    "    return model"
   ]
  },
  {
   "cell_type": "code",
   "execution_count": 5,
   "metadata": {},
   "outputs": [],
   "source": [
    "df = pd.read_csv('./Dataset_chembl_clearcaco.txt',sep=';')"
   ]
  },
  {
   "cell_type": "markdown",
   "metadata": {},
   "source": [
    "# featurizer"
   ]
  },
  {
   "cell_type": "code",
   "execution_count": 6,
   "metadata": {},
   "outputs": [],
   "source": [
    "X1_name =  './X_descriptor.data'\n",
    "X2_name =  './X_fingerprint.data'\n",
    "X_smiles = df.Canonical_Smiles.tolist()\n",
    "\n",
    "if os.path.exists(X1_name):\n",
    "    X1 = load(X1_name)\n",
    "else:\n",
    "    mp1 = loadmap('../descriptor_grid_split.mp')\n",
    "    X1 = mp1.batch_transform(X_smiles, n_jobs = 8)\n",
    "    dump(X1, X1_name)\n",
    "    \n",
    "if os.path.exists(X2_name):\n",
    "    X2 = load(X2_name)\n",
    "else:\n",
    "    mp2 = loadmap('../fingerprint_grid_split.mp')\n",
    "    X2 = mp2.batch_transform(X_smiles, n_jobs = 8)\n",
    "    dump(X2, X2_name)"
   ]
  },
  {
   "cell_type": "code",
   "execution_count": 7,
   "metadata": {},
   "outputs": [],
   "source": [
    "def get_idx_and_Y(df, task, split):\n",
    "    train_idx = df[df[split] == 'Train'].index\n",
    "    valid_idx = df[df[split] == 'Test'].index ##according to the paper<page 1256, Data Preparation>, they use this for early stopping\n",
    "    test_idx = df[df[split] == 'Ext'].index #their Ext set is our final test set\n",
    "    def _apply_float(x):\n",
    "        if type(x) == float:\n",
    "            return x\n",
    "        else:\n",
    "            x = x.replace(',','.')\n",
    "            return float(x)\n",
    "    Y = df[task].apply(_apply_float).to_frame().values\n",
    "    Y = np.log10(Y + 1e-8)\n",
    "    print(len(train_idx), len(valid_idx), len(test_idx))\n",
    "    return (train_idx, valid_idx, test_idx), Y"
   ]
  },
  {
   "cell_type": "code",
   "execution_count": 8,
   "metadata": {},
   "outputs": [
    {
     "data": {
      "text/plain": [
       "Index(['ID', 'Canonical_Smiles', 'hlm_clearance[mL.min-1.g-1]',\n",
       "       'rlm_clearance[mL.min-1.g-1]', 'mlm_clearance[mL.min-1.g-1]',\n",
       "       'caco2_PAPP[10^-7cm/s]', 'Set_hlm', 'Set_rlm', 'Set_mlm', 'Set_caco'],\n",
       "      dtype='object')"
      ]
     },
     "execution_count": 8,
     "metadata": {},
     "output_type": "execute_result"
    }
   ],
   "source": [
    "df.columns"
   ]
  },
  {
   "cell_type": "code",
   "execution_count": 9,
   "metadata": {},
   "outputs": [],
   "source": [
    "t = ['hlm_clearance[mL.min-1.g-1]','rlm_clearance[mL.min-1.g-1]', 'mlm_clearance[mL.min-1.g-1]']\n",
    "m = ['Set_hlm', 'Set_rlm', 'Set_mlm']\n",
    "\n",
    "\n",
    "task_epochs = 500\n",
    "alternate_epochs = 1\n",
    "alternate_rounds = 40"
   ]
  },
  {
   "cell_type": "code",
   "execution_count": 10,
   "metadata": {},
   "outputs": [
    {
     "name": "stdout",
     "output_type": "stream",
     "text": [
      "4020 801 527\n",
      "1636 331 199\n",
      "617 117 56\n"
     ]
    }
   ],
   "source": [
    "from sklearn.utils import shuffle\n",
    "basemodel_data = []\n",
    "for i, j in zip(t, m):\n",
    "    (train_idx, valid_idx, test_idx), Y = get_idx_and_Y(df, i, j)\n",
    "    trainY = Y[train_idx]\n",
    "    trainX = (X1[train_idx], X2[train_idx])\n",
    "    basemodel_data.append([trainX, trainY])"
   ]
  },
  {
   "cell_type": "markdown",
   "metadata": {},
   "source": [
    "## alternate strategy to train a base model"
   ]
  },
  {
   "cell_type": "code",
   "execution_count": 11,
   "metadata": {},
   "outputs": [
    {
     "name": "stderr",
     "output_type": "stream",
     "text": [
      "  0%|          | 0/40 [00:00<?, ?it/s]"
     ]
    },
    {
     "name": "stdout",
     "output_type": "stream",
     "text": [
      "WARNING:tensorflow:From /home/sxh/anaconda3/envs/my-rdkit-env/lib/python3.6/site-packages/tensorflow/python/ops/init_ops.py:1251: calling VarianceScaling.__init__ (from tensorflow.python.ops.init_ops) with dtype is deprecated and will be removed in a future version.\n",
      "Instructions for updating:\n",
      "Call initializer instance with the dtype argument instead of passing it to the constructor\n"
     ]
    },
    {
     "name": "stderr",
     "output_type": "stream",
     "text": [
      "100%|██████████| 40/40 [00:57<00:00,  1.24s/it]\n"
     ]
    }
   ],
   "source": [
    "model = None\n",
    "for i in tqdm(range(alternate_rounds)):\n",
    "    basemodel_data = shuffle(basemodel_data) #shffule\n",
    "    for trainX,trainY in basemodel_data:\n",
    "        if model == None:\n",
    "            molmap1_size = X1.shape[1:]\n",
    "            molmap2_size = X2.shape[1:]\n",
    "            model = DoublePathModel(molmap1_size, molmap2_size, n_outputs = trainY.shape[1])\n",
    "            lr = tf.keras.optimizers.Adam(lr=0.0001, beta_1=0.9, beta_2=0.999, epsilon=1e-08, decay=0.0) #\n",
    "            model.compile(optimizer = lr, loss = 'mse')\n",
    "        model.fit(trainX, trainY, batch_size=128, epochs=alternate_epochs, verbose= 0, shuffle = True) #\n",
    "        \n",
    "model.save('./basemodel.h5')"
   ]
  },
  {
   "cell_type": "markdown",
   "metadata": {},
   "source": [
    "## 01.branch training for task of hlm"
   ]
  },
  {
   "cell_type": "code",
   "execution_count": 12,
   "metadata": {},
   "outputs": [
    {
     "name": "stdout",
     "output_type": "stream",
     "text": [
      "4020 801 527\n",
      "epoch: 0001, loss: 0.0643 - val_loss: 0.1738; rmse: 0.2062 - rmse_val: 0.4169;  r2: 0.9115 - r2_val: 0.6138                                                                                                    \n",
      "epoch: 0002, loss: 0.0430 - val_loss: 0.1704; rmse: 0.1913 - rmse_val: 0.4128;  r2: 0.9238 - r2_val: 0.6198                                                                                                    \n",
      "epoch: 0003, loss: 0.0407 - val_loss: 0.1756; rmse: 0.1922 - rmse_val: 0.4190;  r2: 0.9311 - r2_val: 0.6196                                                                                                    \n",
      "epoch: 0004, loss: 0.0330 - val_loss: 0.1658; rmse: 0.1673 - rmse_val: 0.4072;  r2: 0.9383 - r2_val: 0.6265                                                                                                    \n",
      "epoch: 0005, loss: 0.0294 - val_loss: 0.1655; rmse: 0.1580 - rmse_val: 0.4068;  r2: 0.9446 - r2_val: 0.6269                                                                                                    \n",
      "epoch: 0006, loss: 0.0274 - val_loss: 0.1658; rmse: 0.1546 - rmse_val: 0.4072;  r2: 0.9490 - r2_val: 0.6281                                                                                                    \n",
      "epoch: 0007, loss: 0.0314 - val_loss: 0.1665; rmse: 0.1513 - rmse_val: 0.4080;  r2: 0.9502 - r2_val: 0.6252                                                                                                    \n",
      "epoch: 0008, loss: 0.0271 - val_loss: 0.1644; rmse: 0.1434 - rmse_val: 0.4055;  r2: 0.9541 - r2_val: 0.6289                                                                                                    \n",
      "epoch: 0009, loss: 0.0245 - val_loss: 0.1662; rmse: 0.1421 - rmse_val: 0.4076;  r2: 0.9571 - r2_val: 0.6292                                                                                                    \n",
      "epoch: 0010, loss: 0.0223 - val_loss: 0.1648; rmse: 0.1385 - rmse_val: 0.4060;  r2: 0.9596 - r2_val: 0.6309                                                                                                    \n",
      "epoch: 0011, loss: 0.0228 - val_loss: 0.1675; rmse: 0.1390 - rmse_val: 0.4092;  r2: 0.9618 - r2_val: 0.6287                                                                                                    \n",
      "epoch: 0012, loss: 0.0239 - val_loss: 0.1647; rmse: 0.1295 - rmse_val: 0.4058;  r2: 0.9641 - r2_val: 0.6299                                                                                                    \n",
      "epoch: 0013, loss: 0.0180 - val_loss: 0.1645; rmse: 0.1237 - rmse_val: 0.4056;  r2: 0.9662 - r2_val: 0.6300                                                                                                    \n",
      "epoch: 0014, loss: 0.0177 - val_loss: 0.1633; rmse: 0.1205 - rmse_val: 0.4042;  r2: 0.9680 - r2_val: 0.6325                                                                                                    \n",
      "epoch: 0015, loss: 0.0190 - val_loss: 0.1674; rmse: 0.1287 - rmse_val: 0.4091;  r2: 0.9699 - r2_val: 0.6297                                                                                                    \n",
      "epoch: 0016, loss: 0.0163 - val_loss: 0.1690; rmse: 0.1295 - rmse_val: 0.4111;  r2: 0.9704 - r2_val: 0.6291                                                                                                    \n",
      "epoch: 0017, loss: 0.0149 - val_loss: 0.1646; rmse: 0.1127 - rmse_val: 0.4058;  r2: 0.9723 - r2_val: 0.6306                                                                                                    \n",
      "epoch: 0018, loss: 0.0143 - val_loss: 0.1651; rmse: 0.1126 - rmse_val: 0.4063;  r2: 0.9747 - r2_val: 0.6307                                                                                                    \n",
      "epoch: 0019, loss: 0.0139 - val_loss: 0.1659; rmse: 0.1075 - rmse_val: 0.4073;  r2: 0.9751 - r2_val: 0.6293                                                                                                    \n",
      "epoch: 0020, loss: 0.0140 - val_loss: 0.1638; rmse: 0.1022 - rmse_val: 0.4047;  r2: 0.9767 - r2_val: 0.6311                                                                                                    \n",
      "epoch: 0021, loss: 0.0133 - val_loss: 0.1641; rmse: 0.1006 - rmse_val: 0.4051;  r2: 0.9772 - r2_val: 0.6315                                                                                                    \n",
      "epoch: 0022, loss: 0.0126 - val_loss: 0.1640; rmse: 0.0999 - rmse_val: 0.4050;  r2: 0.9788 - r2_val: 0.6326                                                                                                    \n",
      "epoch: 0023, loss: 0.0109 - val_loss: 0.1649; rmse: 0.1010 - rmse_val: 0.4061;  r2: 0.9796 - r2_val: 0.6323                                                                                                    \n",
      "epoch: 0024, loss: 0.0120 - val_loss: 0.1682; rmse: 0.1055 - rmse_val: 0.4102;  r2: 0.9802 - r2_val: 0.6283                                                                                                    \n",
      "\n",
      "Restoring model weights from the end of the best epoch.\n",
      "\n",
      "Epoch 00024: early stopping\n"
     ]
    },
    {
     "data": {
      "text/plain": [
       "<tensorflow.python.keras.callbacks.History at 0x7fdcab7f0e10>"
      ]
     },
     "execution_count": 12,
     "metadata": {},
     "output_type": "execute_result"
    }
   ],
   "source": [
    "task = 'hlm_clearance[mL.min-1.g-1]'\n",
    "split = 'Set_hlm'\n",
    "\n",
    "(train_idx, valid_idx, test_idx), Y = get_idx_and_Y(df, task, split)\n",
    "\n",
    "trainY = Y[train_idx]\n",
    "validY = Y[valid_idx]\n",
    "testY = Y[test_idx]\n",
    "\n",
    "trainX = (X1[train_idx], X2[train_idx])\n",
    "validX = (X1[valid_idx], X2[valid_idx])\n",
    "testX  = (X1[test_idx], X2[test_idx])\n",
    "\n",
    "#model = DoublePathModel(molmap1_size, molmap2_size, n_outputs = Y.shape[1])\n",
    "#model = SinglePathModel(molmap_size, n_outputs = Y.shape[1])\n",
    "from cbks import RegressionPerformance, EarlyStoppingAtMinLoss\n",
    "\n",
    "earlystop = EarlyStoppingAtMinLoss(patience=10, criteria = 'val_loss')\n",
    "performace = RegressionPerformance((trainX, trainY), (validX, validY), MASK = 1e8)\n",
    "lr = tf.keras.optimizers.Adam(lr=0.0001, beta_1=0.9, beta_2=0.999, epsilon=1e-08, decay=0.0) #\n",
    "#model.compile(optimizer = lr, loss = 'mse')\n",
    "\n",
    "\n",
    "model.load_weights('./basemodel.h5')\n",
    "model.fit(trainX, trainY, batch_size=128, \n",
    "      epochs=task_epochs, verbose= 0, shuffle = True, \n",
    "      validation_data = (validX, validY), \n",
    "      callbacks=[performace, earlystop]) #"
   ]
  },
  {
   "cell_type": "code",
   "execution_count": 13,
   "metadata": {},
   "outputs": [
    {
     "data": {
      "text/plain": [
       "<matplotlib.axes._subplots.AxesSubplot at 0x7fdc69bbabe0>"
      ]
     },
     "execution_count": 13,
     "metadata": {},
     "output_type": "execute_result"
    },
    {
     "data": {
      "image/png": "[encoded data removed]",
      "text/plain": [
       "<Figure size 432x288 with 1 Axes>"
      ]
     },
     "metadata": {
      "needs_background": "light"
     },
     "output_type": "display_data"
    }
   ],
   "source": [
    "dfp = pd.DataFrame(performace.history)[['training_loss', 'validation_loss']]\n",
    "dfp.plot()"
   ]
  },
  {
   "cell_type": "code",
   "execution_count": 14,
   "metadata": {},
   "outputs": [
    {
     "data": {
      "text/plain": [
       "([0.12045979863049863], [0.9680065802428959])"
      ]
     },
     "execution_count": 14,
     "metadata": {},
     "output_type": "execute_result"
    }
   ],
   "source": [
    "performace.evaluate(trainX, trainY) # RMSE, R^2"
   ]
  },
  {
   "cell_type": "code",
   "execution_count": 15,
   "metadata": {},
   "outputs": [
    {
     "data": {
      "text/plain": [
       "([0.4041687690487111], [0.6325221017162455])"
      ]
     },
     "execution_count": 15,
     "metadata": {},
     "output_type": "execute_result"
    }
   ],
   "source": [
    "performace.evaluate(validX, validY) # RMSE, R^2"
   ]
  },
  {
   "cell_type": "code",
   "execution_count": 16,
   "metadata": {},
   "outputs": [
    {
     "data": {
      "text/plain": [
       "([0.4376502905204572], [0.5683216931754771])"
      ]
     },
     "execution_count": 16,
     "metadata": {},
     "output_type": "execute_result"
    }
   ],
   "source": [
    "performace.evaluate(testX, testY) # RMSE, R^2"
   ]
  },
  {
   "cell_type": "markdown",
   "metadata": {},
   "source": [
    "## 02.branch training for task of rlm"
   ]
  },
  {
   "cell_type": "code",
   "execution_count": 17,
   "metadata": {},
   "outputs": [
    {
     "name": "stdout",
     "output_type": "stream",
     "text": [
      "1636 331 199\n",
      "epoch: 0001, loss: 0.0613 - val_loss: 0.1748; rmse: 0.2086 - rmse_val: 0.4181;  r2: 0.9313 - r2_val: 0.7219                                                                                                    \n",
      "epoch: 0002, loss: 0.0458 - val_loss: 0.1727; rmse: 0.1882 - rmse_val: 0.4156;  r2: 0.9427 - r2_val: 0.7275                                                                                                    \n",
      "epoch: 0003, loss: 0.0367 - val_loss: 0.1729; rmse: 0.1764 - rmse_val: 0.4158;  r2: 0.9514 - r2_val: 0.7309                                                                                                    \n",
      "epoch: 0004, loss: 0.0316 - val_loss: 0.1654; rmse: 0.1631 - rmse_val: 0.4067;  r2: 0.9574 - r2_val: 0.7374                                                                                                    \n",
      "epoch: 0005, loss: 0.0273 - val_loss: 0.1667; rmse: 0.1570 - rmse_val: 0.4083;  r2: 0.9618 - r2_val: 0.7355                                                                                                    \n",
      "epoch: 0006, loss: 0.0260 - val_loss: 0.1662; rmse: 0.1636 - rmse_val: 0.4077;  r2: 0.9646 - r2_val: 0.7403                                                                                                    \n",
      "epoch: 0007, loss: 0.0268 - val_loss: 0.1644; rmse: 0.1407 - rmse_val: 0.4054;  r2: 0.9680 - r2_val: 0.7398                                                                                                    \n",
      "epoch: 0008, loss: 0.0237 - val_loss: 0.1762; rmse: 0.1656 - rmse_val: 0.4197;  r2: 0.9699 - r2_val: 0.7416                                                                                                    \n",
      "epoch: 0009, loss: 0.0259 - val_loss: 0.1949; rmse: 0.1991 - rmse_val: 0.4415;  r2: 0.9711 - r2_val: 0.7369                                                                                                    \n",
      "epoch: 0010, loss: 0.0323 - val_loss: 0.1821; rmse: 0.1736 - rmse_val: 0.4267;  r2: 0.9726 - r2_val: 0.7407                                                                                                    \n",
      "epoch: 0011, loss: 0.0246 - val_loss: 0.1659; rmse: 0.1436 - rmse_val: 0.4073;  r2: 0.9738 - r2_val: 0.7397                                                                                                    \n",
      "epoch: 0012, loss: 0.0182 - val_loss: 0.1652; rmse: 0.1235 - rmse_val: 0.4065;  r2: 0.9762 - r2_val: 0.7411                                                                                                    \n",
      "epoch: 0013, loss: 0.0156 - val_loss: 0.1618; rmse: 0.1175 - rmse_val: 0.4022;  r2: 0.9788 - r2_val: 0.7434                                                                                                    \n",
      "epoch: 0014, loss: 0.0139 - val_loss: 0.1635; rmse: 0.1114 - rmse_val: 0.4043;  r2: 0.9801 - r2_val: 0.7432                                                                                                    \n",
      "epoch: 0015, loss: 0.0132 - val_loss: 0.1662; rmse: 0.1163 - rmse_val: 0.4077;  r2: 0.9816 - r2_val: 0.7431                                                                                                    \n",
      "epoch: 0016, loss: 0.0144 - val_loss: 0.1657; rmse: 0.1127 - rmse_val: 0.4071;  r2: 0.9823 - r2_val: 0.7436                                                                                                    \n",
      "epoch: 0017, loss: 0.0129 - val_loss: 0.1609; rmse: 0.1038 - rmse_val: 0.4012;  r2: 0.9834 - r2_val: 0.7450                                                                                                    \n",
      "epoch: 0018, loss: 0.0134 - val_loss: 0.1630; rmse: 0.1166 - rmse_val: 0.4038;  r2: 0.9836 - r2_val: 0.7444                                                                                                    \n",
      "epoch: 0019, loss: 0.0121 - val_loss: 0.1630; rmse: 0.0983 - rmse_val: 0.4037;  r2: 0.9845 - r2_val: 0.7420                                                                                                    \n",
      "epoch: 0020, loss: 0.0114 - val_loss: 0.1592; rmse: 0.0973 - rmse_val: 0.3990;  r2: 0.9852 - r2_val: 0.7477                                                                                                    \n",
      "epoch: 0021, loss: 0.0108 - val_loss: 0.1686; rmse: 0.1179 - rmse_val: 0.4106;  r2: 0.9862 - r2_val: 0.7461                                                                                                    \n",
      "epoch: 0022, loss: 0.0117 - val_loss: 0.1661; rmse: 0.1063 - rmse_val: 0.4076;  r2: 0.9865 - r2_val: 0.7452                                                                                                    \n",
      "epoch: 0023, loss: 0.0111 - val_loss: 0.1650; rmse: 0.1041 - rmse_val: 0.4062;  r2: 0.9864 - r2_val: 0.7460                                                                                                    \n",
      "epoch: 0024, loss: 0.0102 - val_loss: 0.1613; rmse: 0.0975 - rmse_val: 0.4017;  r2: 0.9870 - r2_val: 0.7455                                                                                                    \n",
      "epoch: 0025, loss: 0.0101 - val_loss: 0.1607; rmse: 0.0896 - rmse_val: 0.4008;  r2: 0.9876 - r2_val: 0.7478                                                                                                    \n",
      "epoch: 0026, loss: 0.0087 - val_loss: 0.1684; rmse: 0.1055 - rmse_val: 0.4103;  r2: 0.9884 - r2_val: 0.7441                                                                                                    \n",
      "epoch: 0027, loss: 0.0093 - val_loss: 0.1650; rmse: 0.0961 - rmse_val: 0.4061;  r2: 0.9889 - r2_val: 0.7458                                                                                                    \n",
      "epoch: 0028, loss: 0.0101 - val_loss: 0.1618; rmse: 0.1103 - rmse_val: 0.4022;  r2: 0.9889 - r2_val: 0.7485                                                                                                    \n",
      "epoch: 0029, loss: 0.0113 - val_loss: 0.1618; rmse: 0.0846 - rmse_val: 0.4023;  r2: 0.9888 - r2_val: 0.7454                                                                                                    \n",
      "epoch: 0030, loss: 0.0086 - val_loss: 0.1620; rmse: 0.0817 - rmse_val: 0.4024;  r2: 0.9894 - r2_val: 0.7451                                                                                                    \n",
      "\n",
      "Restoring model weights from the end of the best epoch.\n",
      "\n",
      "Epoch 00030: early stopping\n"
     ]
    },
    {
     "data": {
      "text/plain": [
       "<matplotlib.axes._subplots.AxesSubplot at 0x7fdc6b5394a8>"
      ]
     },
     "execution_count": 17,
     "metadata": {},
     "output_type": "execute_result"
    },
    {
     "data": {
      "image/png": "[encoded data removed]",
      "text/plain": [
       "<Figure size 432x288 with 1 Axes>"
      ]
     },
     "metadata": {
      "needs_background": "light"
     },
     "output_type": "display_data"
    }
   ],
   "source": [
    "task = 'rlm_clearance[mL.min-1.g-1]'\n",
    "split = 'Set_rlm'\n",
    "\n",
    "(train_idx, valid_idx, test_idx), Y = get_idx_and_Y(df, task, split)\n",
    "\n",
    "trainY = Y[train_idx]\n",
    "validY = Y[valid_idx]\n",
    "testY = Y[test_idx]\n",
    "\n",
    "trainX = (X1[train_idx], X2[train_idx])\n",
    "validX = (X1[valid_idx], X2[valid_idx])\n",
    "testX  = (X1[test_idx], X2[test_idx])\n",
    "\n",
    "\n",
    "#model = DoublePathModel(molmap1_size, molmap2_size, n_outputs = Y.shape[1])\n",
    "#model = SinglePathModel(molmap_size, n_outputs = Y.shape[1])\n",
    "from cbks import RegressionPerformance, EarlyStoppingAtMinLoss\n",
    "\n",
    "earlystop = EarlyStoppingAtMinLoss(patience=10, criteria = 'val_loss')\n",
    "performace = RegressionPerformance((trainX, trainY), (validX, validY), MASK = 1e8)\n",
    "lr = tf.keras.optimizers.Adam(lr=0.0001, beta_1=0.9, beta_2=0.999, epsilon=1e-08, decay=0.0) #\n",
    "#model.compile(optimizer = lr, loss = 'mse')\n",
    "\n",
    "model.load_weights('./basemodel.h5')\n",
    "model.fit(trainX, trainY, batch_size=128, \n",
    "      epochs=task_epochs, verbose= 0, shuffle = True, \n",
    "      validation_data = (validX, validY), \n",
    "      callbacks=[performace, earlystop]) #\n",
    "\n",
    "dfp = pd.DataFrame(performace.history)[['training_loss', 'validation_loss']]\n",
    "dfp.plot()"
   ]
  },
  {
   "cell_type": "code",
   "execution_count": 19,
   "metadata": {},
   "outputs": [
    {
     "data": {
      "text/plain": [
       "([0.0972633666511306], [0.9851837898634245])"
      ]
     },
     "execution_count": 19,
     "metadata": {},
     "output_type": "execute_result"
    }
   ],
   "source": [
    "performace.evaluate(trainX, trainY) # RMSE, R^2"
   ]
  },
  {
   "cell_type": "code",
   "execution_count": 20,
   "metadata": {},
   "outputs": [
    {
     "data": {
      "text/plain": [
       "([0.39900672996308106], [0.7477203936104417])"
      ]
     },
     "execution_count": 20,
     "metadata": {},
     "output_type": "execute_result"
    }
   ],
   "source": [
    "performace.evaluate(validX, validY) # RMSE, R^2"
   ]
  },
  {
   "cell_type": "code",
   "execution_count": 21,
   "metadata": {},
   "outputs": [
    {
     "data": {
      "text/plain": [
       "([0.3425560217813767], [0.7948089031445207])"
      ]
     },
     "execution_count": 21,
     "metadata": {},
     "output_type": "execute_result"
    }
   ],
   "source": [
    "performace.evaluate(testX, testY) # RMSE, R^2"
   ]
  },
  {
   "cell_type": "code",
   "execution_count": null,
   "metadata": {},
   "outputs": [],
   "source": []
  },
  {
   "cell_type": "markdown",
   "metadata": {},
   "source": [
    "## 03.branch training for task of mlm"
   ]
  },
  {
   "cell_type": "code",
   "execution_count": 22,
   "metadata": {},
   "outputs": [
    {
     "name": "stdout",
     "output_type": "stream",
     "text": [
      "617 117 56\n",
      "epoch: 0001, loss: 0.1062 - val_loss: 0.2195; rmse: 0.2866 - rmse_val: 0.4686;  r2: 0.8896 - r2_val: 0.6403                                                                                                    \n",
      "epoch: 0002, loss: 0.0867 - val_loss: 0.2441; rmse: 0.2890 - rmse_val: 0.4941;  r2: 0.9094 - r2_val: 0.6327                                                                                                    \n",
      "epoch: 0003, loss: 0.0678 - val_loss: 0.2261; rmse: 0.2518 - rmse_val: 0.4755;  r2: 0.9224 - r2_val: 0.6325                                                                                                    \n",
      "epoch: 0004, loss: 0.0550 - val_loss: 0.2058; rmse: 0.2147 - rmse_val: 0.4537;  r2: 0.9340 - r2_val: 0.6409                                                                                                    \n",
      "epoch: 0005, loss: 0.0411 - val_loss: 0.2105; rmse: 0.2059 - rmse_val: 0.4589;  r2: 0.9431 - r2_val: 0.6430                                                                                                    \n",
      "epoch: 0006, loss: 0.0371 - val_loss: 0.2076; rmse: 0.1838 - rmse_val: 0.4557;  r2: 0.9500 - r2_val: 0.6363                                                                                                    \n",
      "epoch: 0007, loss: 0.0310 - val_loss: 0.1988; rmse: 0.1635 - rmse_val: 0.4459;  r2: 0.9556 - r2_val: 0.6375                                                                                                    \n",
      "epoch: 0008, loss: 0.0276 - val_loss: 0.1942; rmse: 0.1628 - rmse_val: 0.4406;  r2: 0.9613 - r2_val: 0.6365                                                                                                    \n",
      "epoch: 0009, loss: 0.0270 - val_loss: 0.1959; rmse: 0.1653 - rmse_val: 0.4426;  r2: 0.9650 - r2_val: 0.6345                                                                                                    \n",
      "epoch: 0010, loss: 0.0240 - val_loss: 0.2012; rmse: 0.1695 - rmse_val: 0.4486;  r2: 0.9678 - r2_val: 0.6275                                                                                                    \n",
      "epoch: 0011, loss: 0.0235 - val_loss: 0.2017; rmse: 0.1368 - rmse_val: 0.4491;  r2: 0.9703 - r2_val: 0.6261                                                                                                    \n",
      "epoch: 0012, loss: 0.0208 - val_loss: 0.2037; rmse: 0.1286 - rmse_val: 0.4514;  r2: 0.9727 - r2_val: 0.6279                                                                                                    \n",
      "epoch: 0013, loss: 0.0168 - val_loss: 0.2007; rmse: 0.1275 - rmse_val: 0.4480;  r2: 0.9745 - r2_val: 0.6275                                                                                                    \n",
      "epoch: 0014, loss: 0.0172 - val_loss: 0.2017; rmse: 0.1262 - rmse_val: 0.4492;  r2: 0.9759 - r2_val: 0.6253                                                                                                    \n",
      "epoch: 0015, loss: 0.0165 - val_loss: 0.2089; rmse: 0.1177 - rmse_val: 0.4571;  r2: 0.9772 - r2_val: 0.6230                                                                                                    \n",
      "epoch: 0016, loss: 0.0147 - val_loss: 0.2110; rmse: 0.1161 - rmse_val: 0.4593;  r2: 0.9786 - r2_val: 0.6219                                                                                                    \n",
      "epoch: 0017, loss: 0.0144 - val_loss: 0.2207; rmse: 0.1302 - rmse_val: 0.4698;  r2: 0.9796 - r2_val: 0.6216                                                                                                    \n",
      "epoch: 0018, loss: 0.0155 - val_loss: 0.2207; rmse: 0.1234 - rmse_val: 0.4698;  r2: 0.9801 - r2_val: 0.6184                                                                                                    \n",
      "\n",
      "Restoring model weights from the end of the best epoch.\n",
      "\n",
      "Epoch 00018: early stopping\n"
     ]
    },
    {
     "data": {
      "text/plain": [
       "<matplotlib.axes._subplots.AxesSubplot at 0x7fdc6b4bd4a8>"
      ]
     },
     "execution_count": 22,
     "metadata": {},
     "output_type": "execute_result"
    },
    {
     "data": {
      "image/png": "[encoded data removed]",
      "text/plain": [
       "<Figure size 432x288 with 1 Axes>"
      ]
     },
     "metadata": {
      "needs_background": "light"
     },
     "output_type": "display_data"
    }
   ],
   "source": [
    "task = 'mlm_clearance[mL.min-1.g-1]'\n",
    "split = 'Set_mlm'\n",
    "\n",
    "\n",
    "(train_idx, valid_idx, test_idx), Y = get_idx_and_Y(df, task, split)\n",
    "\n",
    "trainY = Y[train_idx]\n",
    "validY = Y[valid_idx]\n",
    "testY = Y[test_idx]\n",
    "\n",
    "trainX = (X1[train_idx], X2[train_idx])\n",
    "validX = (X1[valid_idx], X2[valid_idx])\n",
    "testX  = (X1[test_idx], X2[test_idx])\n",
    "\n",
    "\n",
    "#model = DoublePathModel(molmap1_size, molmap2_size, n_outputs = Y.shape[1])\n",
    "#model = SinglePathModel(molmap_size, n_outputs = Y.shape[1])\n",
    "from cbks import RegressionPerformance, EarlyStoppingAtMinLoss\n",
    "\n",
    "earlystop = EarlyStoppingAtMinLoss(patience=10, criteria = 'val_loss')\n",
    "performace = RegressionPerformance((trainX, trainY), (validX, validY), MASK = 1e8)\n",
    "lr = tf.keras.optimizers.Adam(lr=0.0001, beta_1=0.9, beta_2=0.999, epsilon=1e-08, decay=0.0) #\n",
    "#model.compile(optimizer = lr, loss = 'mse')\n",
    "\n",
    "model.load_weights('./basemodel.h5')\n",
    "model.fit(trainX, trainY, batch_size=128, \n",
    "      epochs=task_epochs, verbose= 0, shuffle = True, \n",
    "      validation_data = (validX, validY), \n",
    "      callbacks=[performace, earlystop]) #\n",
    "\n",
    "dfp = pd.DataFrame(performace.history)[['training_loss', 'validation_loss']]\n",
    "dfp.plot()"
   ]
  },
  {
   "cell_type": "code",
   "execution_count": 23,
   "metadata": {},
   "outputs": [
    {
     "data": {
      "text/plain": [
       "([0.16281332874987348], [0.9613257943225114])"
      ]
     },
     "execution_count": 23,
     "metadata": {},
     "output_type": "execute_result"
    }
   ],
   "source": [
    "performace.evaluate(trainX, trainY) # RMSE, R^2"
   ]
  },
  {
   "cell_type": "code",
   "execution_count": 24,
   "metadata": {},
   "outputs": [
    {
     "data": {
      "text/plain": [
       "([0.4406488647575921], [0.6364576115616642])"
      ]
     },
     "execution_count": 24,
     "metadata": {},
     "output_type": "execute_result"
    }
   ],
   "source": [
    "performace.evaluate(validX, validY) # RMSE, R^2"
   ]
  },
  {
   "cell_type": "code",
   "execution_count": 25,
   "metadata": {},
   "outputs": [
    {
     "data": {
      "text/plain": [
       "([0.523125967247297], [0.4879611179209996])"
      ]
     },
     "execution_count": 25,
     "metadata": {},
     "output_type": "execute_result"
    }
   ],
   "source": [
    "performace.evaluate(testX, testY) # RMSE, R^2"
   ]
  },
  {
   "cell_type": "code",
   "execution_count": 26,
   "metadata": {},
   "outputs": [
    {
     "data": {
      "text/plain": [
       "807841"
      ]
     },
     "execution_count": 26,
     "metadata": {},
     "output_type": "execute_result"
    }
   ],
   "source": [
    "model.count_params()"
   ]
  },
  {
   "cell_type": "code",
   "execution_count": null,
   "metadata": {},
   "outputs": [],
   "source": []
  },
  {
   "cell_type": "code",
   "execution_count": null,
   "metadata": {},
   "outputs": [],
   "source": []
  },
  {
   "cell_type": "code",
   "execution_count": null,
   "metadata": {},
   "outputs": [],
   "source": []
  }
 ],
 "metadata": {
  "kernelspec": {
   "display_name": "Python 3",
   "language": "python",
   "name": "python3"
  },
  "language_info": {
   "codemirror_mode": {
    "name": "ipython",
    "version": 3
   },
   "file_extension": ".py",
   "mimetype": "text/x-python",
   "name": "python",
   "nbconvert_exporter": "python",
   "pygments_lexer": "ipython3",
   "version": "3.6.9"
  }
 },
 "nbformat": 4,
 "nbformat_minor": 4
}
