{
 "cells": [
  {
   "cell_type": "markdown",
   "metadata": {},
   "source": [
    "# multi-task alternate training strategy--clearence prediction"
   ]
  },
  {
   "cell_type": "code",
   "execution_count": 1,
   "metadata": {},
   "outputs": [
    {
     "name": "stderr",
     "output_type": "stream",
     "text": [
      "/home/shenwanxiang/anaconda3/envs/deepchem/lib/python3.6/site-packages/tensorflow/python/framework/dtypes.py:516: FutureWarning: Passing (type, 1) or '1type' as a synonym of type is deprecated; in a future version of numpy, it will be understood as (type, (1,)) / '(1,)type'.\n",
      "  _np_qint8 = np.dtype([(\"qint8\", np.int8, 1)])\n",
      "/home/shenwanxiang/anaconda3/envs/deepchem/lib/python3.6/site-packages/tensorflow/python/framework/dtypes.py:517: FutureWarning: Passing (type, 1) or '1type' as a synonym of type is deprecated; in a future version of numpy, it will be understood as (type, (1,)) / '(1,)type'.\n",
      "  _np_quint8 = np.dtype([(\"quint8\", np.uint8, 1)])\n",
      "/home/shenwanxiang/anaconda3/envs/deepchem/lib/python3.6/site-packages/tensorflow/python/framework/dtypes.py:518: FutureWarning: Passing (type, 1) or '1type' as a synonym of type is deprecated; in a future version of numpy, it will be understood as (type, (1,)) / '(1,)type'.\n",
      "  _np_qint16 = np.dtype([(\"qint16\", np.int16, 1)])\n",
      "/home/shenwanxiang/anaconda3/envs/deepchem/lib/python3.6/site-packages/tensorflow/python/framework/dtypes.py:519: FutureWarning: Passing (type, 1) or '1type' as a synonym of type is deprecated; in a future version of numpy, it will be understood as (type, (1,)) / '(1,)type'.\n",
      "  _np_quint16 = np.dtype([(\"quint16\", np.uint16, 1)])\n",
      "/home/shenwanxiang/anaconda3/envs/deepchem/lib/python3.6/site-packages/tensorflow/python/framework/dtypes.py:520: FutureWarning: Passing (type, 1) or '1type' as a synonym of type is deprecated; in a future version of numpy, it will be understood as (type, (1,)) / '(1,)type'.\n",
      "  _np_qint32 = np.dtype([(\"qint32\", np.int32, 1)])\n",
      "/home/shenwanxiang/anaconda3/envs/deepchem/lib/python3.6/site-packages/tensorflow/python/framework/dtypes.py:525: FutureWarning: Passing (type, 1) or '1type' as a synonym of type is deprecated; in a future version of numpy, it will be understood as (type, (1,)) / '(1,)type'.\n",
      "  np_resource = np.dtype([(\"resource\", np.ubyte, 1)])\n",
      "/home/shenwanxiang/anaconda3/envs/deepchem/lib/python3.6/site-packages/tensorboard/compat/tensorflow_stub/dtypes.py:541: FutureWarning: Passing (type, 1) or '1type' as a synonym of type is deprecated; in a future version of numpy, it will be understood as (type, (1,)) / '(1,)type'.\n",
      "  _np_qint8 = np.dtype([(\"qint8\", np.int8, 1)])\n",
      "/home/shenwanxiang/anaconda3/envs/deepchem/lib/python3.6/site-packages/tensorboard/compat/tensorflow_stub/dtypes.py:542: FutureWarning: Passing (type, 1) or '1type' as a synonym of type is deprecated; in a future version of numpy, it will be understood as (type, (1,)) / '(1,)type'.\n",
      "  _np_quint8 = np.dtype([(\"quint8\", np.uint8, 1)])\n",
      "/home/shenwanxiang/anaconda3/envs/deepchem/lib/python3.6/site-packages/tensorboard/compat/tensorflow_stub/dtypes.py:543: FutureWarning: Passing (type, 1) or '1type' as a synonym of type is deprecated; in a future version of numpy, it will be understood as (type, (1,)) / '(1,)type'.\n",
      "  _np_qint16 = np.dtype([(\"qint16\", np.int16, 1)])\n",
      "/home/shenwanxiang/anaconda3/envs/deepchem/lib/python3.6/site-packages/tensorboard/compat/tensorflow_stub/dtypes.py:544: FutureWarning: Passing (type, 1) or '1type' as a synonym of type is deprecated; in a future version of numpy, it will be understood as (type, (1,)) / '(1,)type'.\n",
      "  _np_quint16 = np.dtype([(\"quint16\", np.uint16, 1)])\n",
      "/home/shenwanxiang/anaconda3/envs/deepchem/lib/python3.6/site-packages/tensorboard/compat/tensorflow_stub/dtypes.py:545: FutureWarning: Passing (type, 1) or '1type' as a synonym of type is deprecated; in a future version of numpy, it will be understood as (type, (1,)) / '(1,)type'.\n",
      "  _np_qint32 = np.dtype([(\"qint32\", np.int32, 1)])\n",
      "/home/shenwanxiang/anaconda3/envs/deepchem/lib/python3.6/site-packages/tensorboard/compat/tensorflow_stub/dtypes.py:550: FutureWarning: Passing (type, 1) or '1type' as a synonym of type is deprecated; in a future version of numpy, it will be understood as (type, (1,)) / '(1,)type'.\n",
      "  np_resource = np.dtype([(\"resource\", np.ubyte, 1)])\n"
     ]
    }
   ],
   "source": [
    "from molmap import loadmap, dataset\n",
    "import molmap\n",
    "\n",
    "import matplotlib.pyplot as plt\n",
    "from joblib import dump, load\n",
    "from tqdm import tqdm\n",
    "import pandas as pd\n",
    "tqdm.pandas(ascii=True)\n",
    "\n",
    "import numpy as np\n",
    "import tensorflow as tf\n",
    "from tensorflow.keras.utils import plot_model\n",
    "from tensorflow.keras import Model, Input\n",
    "from tensorflow.keras.layers import MaxPool2D, GlobalMaxPool2D, BatchNormalization, Activation\n",
    "from tensorflow.keras.layers import Conv2D, Concatenate,Flatten, Dense, Dropout\n",
    "\n",
    "%matplotlib inline\n",
    "#use the second GPU, if negative value, CPUs will be used\n",
    "import os\n",
    "os.environ[\"CUDA_VISIBLE_DEVICES\"]=\"0\"\n"
   ]
  },
  {
   "cell_type": "code",
   "execution_count": 2,
   "metadata": {},
   "outputs": [],
   "source": [
    "# just for repeatable results\n",
    "seed = 1234\n",
    "np.random.seed(seed)\n",
    "tf.set_random_seed(seed)"
   ]
  },
  {
   "cell_type": "code",
   "execution_count": 3,
   "metadata": {},
   "outputs": [],
   "source": [
    "\n",
    "def Inception(inputs, units = 8, strides = 1):\n",
    "    \"\"\"\n",
    "    naive google inception block\n",
    "    \"\"\"\n",
    "    x1 = Conv2D(units, 5, padding='same', activation = 'relu', strides = strides)(inputs)\n",
    "    x2 = Conv2D(units, 3, padding='same', activation = 'relu', strides = strides)(inputs)\n",
    "    x3 = Conv2D(units, 1, padding='same', activation = 'relu', strides = strides)(inputs)\n",
    "    outputs = Concatenate()([x1, x2, x3])    \n",
    "    return outputs\n",
    "\n",
    "\n",
    "def DoublePathModel(molmap1_size, molmap2_size, n_outputs = 1):\n",
    "    \n",
    "    ## first inputs\n",
    "    d_inputs1 = Input(molmap1_size)\n",
    "    d_conv1 = Conv2D(48, 13, padding = 'same', activation='relu', strides = 1)(d_inputs1)\n",
    "    d_pool1 = MaxPool2D(pool_size = 3, strides = 2, padding = 'same')(d_conv1) #p1\n",
    "    d_incept1 = Inception(d_pool1, strides = 1, units = 32)\n",
    "    d_pool2 = MaxPool2D(pool_size = 3, strides = 2, padding = 'same')(d_incept1) #p2\n",
    "    d_incept2 = Inception(d_pool2, strides = 1, units = 64)\n",
    "    d_flat1 = GlobalMaxPool2D()(d_incept2)\n",
    "\n",
    "    \n",
    "    ## second inputs\n",
    "    f_inputs1 = Input(molmap2_size)\n",
    "    f_conv1 = Conv2D(48, 13, padding = 'same', activation='relu', strides = 1)(f_inputs1)\n",
    "    f_pool1 = MaxPool2D(pool_size = 3, strides = 2, padding = 'same')(f_conv1) #p1\n",
    "    f_incept1 = Inception(f_pool1, strides = 1, units = 32)\n",
    "    f_pool2 = MaxPool2D(pool_size = 3, strides = 2, padding = 'same')(f_incept1) #p2\n",
    "    f_incept2 = Inception(f_pool2, strides = 1, units = 64)\n",
    "    f_flat1 = GlobalMaxPool2D()(f_incept2)    \n",
    "    \n",
    "    ## concat\n",
    "    merge = Concatenate()([d_flat1, f_flat1]) \n",
    "    d1 = Dense(256,activation='relu')(merge)\n",
    "    d1 = Dense(128,activation='relu')(d1)\n",
    "    d1 = Dense(64,activation='relu')(d1)\n",
    "    outputs = Dense(n_outputs, activation='linear')(d1)\n",
    "    \n",
    "    model = tf.keras.Model(inputs=[d_inputs1, f_inputs1], outputs=outputs)\n",
    "    \n",
    "    return model"
   ]
  },
  {
   "cell_type": "code",
   "execution_count": 4,
   "metadata": {},
   "outputs": [],
   "source": [
    "df = pd.read_csv('./Dataset_chembl_clearcaco.txt',sep=';')"
   ]
  },
  {
   "cell_type": "markdown",
   "metadata": {},
   "source": [
    "# featurizer"
   ]
  },
  {
   "cell_type": "code",
   "execution_count": 5,
   "metadata": {},
   "outputs": [
    {
     "name": "stderr",
     "output_type": "stream",
     "text": [
      "100%|##########| 8755/8755 [13:18<00:00, 10.97it/s]\n"
     ]
    }
   ],
   "source": [
    "X1_name =  './X_descriptor.data'\n",
    "X2_name =  './X_fingerprint.data'\n",
    "X_smiles = df.Canonical_Smiles.tolist()\n",
    "\n",
    "if os.path.exists(X1_name):\n",
    "    X1 = load(X1_name)\n",
    "else:\n",
    "    mp1 = loadmap('../descriptor_grid_split.mp')\n",
    "    X1 = mp1.batch_transform(X_smiles, n_jobs = 8)\n",
    "    dump(X1, X1_name)\n",
    "    \n",
    "if os.path.exists(X2_name):\n",
    "    X2 = load(X2_name)\n",
    "else:\n",
    "    mp2 = loadmap('../fingerprint_grid_split.mp')\n",
    "    X2 = mp2.batch_transform(X_smiles, n_jobs = 8)\n",
    "    dump(X2, X2_name)"
   ]
  },
  {
   "cell_type": "code",
   "execution_count": 6,
   "metadata": {},
   "outputs": [],
   "source": [
    "def get_idx_and_Y(df, task, split):\n",
    "    train_idx = df[df[split] == 'Train'].index\n",
    "    valid_idx = df[df[split] == 'Test'].index ##according to the paper<page 1256, Data Preparation>, they use this for early stopping\n",
    "    test_idx = df[df[split] == 'Ext'].index #their Ext set is our final test set\n",
    "    def _apply_float(x):\n",
    "        if type(x) == float:\n",
    "            return x\n",
    "        else:\n",
    "            x = x.replace(',','.')\n",
    "            return float(x)\n",
    "    Y = df[task].apply(_apply_float).to_frame().values\n",
    "    Y = np.log10(Y + 1e-8)\n",
    "    print(len(train_idx), len(valid_idx), len(test_idx))\n",
    "    return (train_idx, valid_idx, test_idx), Y"
   ]
  },
  {
   "cell_type": "code",
   "execution_count": 7,
   "metadata": {},
   "outputs": [
    {
     "data": {
      "text/plain": [
       "Index(['ID', 'Canonical_Smiles', 'hlm_clearance[mL.min-1.g-1]',\n",
       "       'rlm_clearance[mL.min-1.g-1]', 'mlm_clearance[mL.min-1.g-1]',\n",
       "       'caco2_PAPP[10^-7cm/s]', 'Set_hlm', 'Set_rlm', 'Set_mlm', 'Set_caco'],\n",
       "      dtype='object')"
      ]
     },
     "execution_count": 7,
     "metadata": {},
     "output_type": "execute_result"
    }
   ],
   "source": [
    "df.columns"
   ]
  },
  {
   "cell_type": "code",
   "execution_count": 26,
   "metadata": {},
   "outputs": [],
   "source": [
    "t = ['hlm_clearance[mL.min-1.g-1]','rlm_clearance[mL.min-1.g-1]', 'mlm_clearance[mL.min-1.g-1]']\n",
    "m = ['Set_hlm', 'Set_rlm', 'Set_mlm']\n",
    "\n",
    "\n",
    "task_epochs = 500\n",
    "alternate_epochs = 1\n",
    "alternate_rounds = 40"
   ]
  },
  {
   "cell_type": "code",
   "execution_count": 27,
   "metadata": {},
   "outputs": [
    {
     "name": "stdout",
     "output_type": "stream",
     "text": [
      "4020 801 527\n",
      "1636 331 199\n",
      "617 117 56\n"
     ]
    }
   ],
   "source": [
    "from sklearn.utils import shuffle\n",
    "basemodel_data = []\n",
    "for i, j in zip(t, m):\n",
    "    (train_idx, valid_idx, test_idx), Y = get_idx_and_Y(df, i, j)\n",
    "    trainY = Y[train_idx]\n",
    "    trainX = (X1[train_idx], X2[train_idx])\n",
    "    basemodel_data.append([trainX, trainY])"
   ]
  },
  {
   "cell_type": "markdown",
   "metadata": {},
   "source": [
    "## alternate strategy to train a base model"
   ]
  },
  {
   "cell_type": "code",
   "execution_count": 28,
   "metadata": {},
   "outputs": [
    {
     "name": "stderr",
     "output_type": "stream",
     "text": [
      "100%|██████████| 40/40 [01:57<00:00,  2.95s/it]\n"
     ]
    }
   ],
   "source": [
    "model = None\n",
    "for i in tqdm(range(alternate_rounds)):\n",
    "    basemodel_data = shuffle(basemodel_data) #shffule\n",
    "    for trainX,trainY in basemodel_data:\n",
    "        if model == None:\n",
    "            molmap1_size = X1.shape[1:]\n",
    "            molmap2_size = X2.shape[1:]\n",
    "            model = DoublePathModel(molmap1_size, molmap2_size, n_outputs = trainY.shape[1])\n",
    "            lr = tf.keras.optimizers.Adam(lr=0.0001, beta_1=0.9, beta_2=0.999, epsilon=1e-08, decay=0.0) #\n",
    "            model.compile(optimizer = lr, loss = 'mse')\n",
    "        model.fit(trainX, trainY, batch_size=128, epochs=alternate_epochs, verbose= 0, shuffle = True) #\n",
    "        \n",
    "model.save('./basemodel.h5')"
   ]
  },
  {
   "cell_type": "markdown",
   "metadata": {},
   "source": [
    "## 01.branch training for task of hlm"
   ]
  },
  {
   "cell_type": "code",
   "execution_count": 29,
   "metadata": {},
   "outputs": [
    {
     "name": "stdout",
     "output_type": "stream",
     "text": [
      "4020 801 527\n",
      "epoch: 0001, loss: 0.0467 - val_loss: 0.2296; rmse: 0.2859 - rmse_val: 0.4791;  r2: 0.8139 - r2_val: 0.4753                                                                                                    \n",
      "epoch: 0002, loss: 0.0477 - val_loss: 0.1810; rmse: 0.1937 - rmse_val: 0.4255;  r2: 0.9146 - r2_val: 0.5862                                                                                                    \n",
      "epoch: 0003, loss: 0.0411 - val_loss: 0.1735; rmse: 0.1778 - rmse_val: 0.4166;  r2: 0.9281 - r2_val: 0.6034                                                                                                    \n",
      "epoch: 0004, loss: 0.0341 - val_loss: 0.1736; rmse: 0.1715 - rmse_val: 0.4166;  r2: 0.9331 - r2_val: 0.6033                                                                                                    \n",
      "epoch: 0005, loss: 0.0314 - val_loss: 0.1737; rmse: 0.1691 - rmse_val: 0.4168;  r2: 0.9349 - r2_val: 0.6029                                                                                                    \n",
      "epoch: 0006, loss: 0.0301 - val_loss: 0.1738; rmse: 0.1581 - rmse_val: 0.4169;  r2: 0.9431 - r2_val: 0.6027                                                                                                    \n",
      "epoch: 0007, loss: 0.0280 - val_loss: 0.1737; rmse: 0.1522 - rmse_val: 0.4167;  r2: 0.9473 - r2_val: 0.6031                                                                                                    \n",
      "epoch: 0008, loss: 0.0270 - val_loss: 0.1743; rmse: 0.1487 - rmse_val: 0.4174;  r2: 0.9496 - r2_val: 0.6017                                                                                                    \n",
      "epoch: 0009, loss: 0.0270 - val_loss: 0.1751; rmse: 0.1472 - rmse_val: 0.4184;  r2: 0.9507 - r2_val: 0.5999                                                                                                    \n",
      "epoch: 0010, loss: 0.0228 - val_loss: 0.1748; rmse: 0.1396 - rmse_val: 0.4181;  r2: 0.9557 - r2_val: 0.6005                                                                                                    \n",
      "epoch: 0011, loss: 0.0210 - val_loss: 0.1728; rmse: 0.1348 - rmse_val: 0.4157;  r2: 0.9586 - r2_val: 0.6051                                                                                                    \n",
      "epoch: 0012, loss: 0.0204 - val_loss: 0.1722; rmse: 0.1305 - rmse_val: 0.4150;  r2: 0.9612 - r2_val: 0.6064                                                                                                    \n",
      "epoch: 0013, loss: 0.0192 - val_loss: 0.1757; rmse: 0.1440 - rmse_val: 0.4191;  r2: 0.9528 - r2_val: 0.5985                                                                                                    \n",
      "epoch: 0014, loss: 0.0187 - val_loss: 0.1900; rmse: 0.1628 - rmse_val: 0.4359;  r2: 0.9396 - r2_val: 0.5657                                                                                                    \n",
      "epoch: 0015, loss: 0.0219 - val_loss: 0.1762; rmse: 0.1248 - rmse_val: 0.4198;  r2: 0.9645 - r2_val: 0.5973                                                                                                    \n",
      "epoch: 0016, loss: 0.0168 - val_loss: 0.1887; rmse: 0.1542 - rmse_val: 0.4344;  r2: 0.9459 - r2_val: 0.5686                                                                                                    \n",
      "epoch: 0017, loss: 0.0198 - val_loss: 0.1798; rmse: 0.1280 - rmse_val: 0.4241;  r2: 0.9627 - r2_val: 0.5890                                                                                                    \n",
      "epoch: 0018, loss: 0.0148 - val_loss: 0.1735; rmse: 0.1101 - rmse_val: 0.4165;  r2: 0.9724 - r2_val: 0.6035                                                                                                    \n",
      "epoch: 0019, loss: 0.0149 - val_loss: 0.1805; rmse: 0.1226 - rmse_val: 0.4249;  r2: 0.9658 - r2_val: 0.5874                                                                                                    \n",
      "epoch: 0020, loss: 0.0149 - val_loss: 0.1738; rmse: 0.1108 - rmse_val: 0.4169;  r2: 0.9721 - r2_val: 0.6028                                                                                                    \n",
      "epoch: 0021, loss: 0.0157 - val_loss: 0.1762; rmse: 0.1176 - rmse_val: 0.4197;  r2: 0.9685 - r2_val: 0.5973                                                                                                    \n",
      "epoch: 0022, loss: 0.0247 - val_loss: 0.1811; rmse: 0.1423 - rmse_val: 0.4256;  r2: 0.9539 - r2_val: 0.5861                                                                                                    \n",
      "\n",
      "Restoring model weights from the end of the best epoch.\n",
      "\n",
      "Epoch 00022: early stopping\n"
     ]
    },
    {
     "data": {
      "text/plain": [
       "<tensorflow.python.keras.callbacks.History at 0x7fa90e4df240>"
      ]
     },
     "execution_count": 29,
     "metadata": {},
     "output_type": "execute_result"
    }
   ],
   "source": [
    "task = 'hlm_clearance[mL.min-1.g-1]'\n",
    "split = 'Set_hlm'\n",
    "\n",
    "(train_idx, valid_idx, test_idx), Y = get_idx_and_Y(df, task, split)\n",
    "\n",
    "trainY = Y[train_idx]\n",
    "validY = Y[valid_idx]\n",
    "testY = Y[test_idx]\n",
    "\n",
    "trainX = (X1[train_idx], X2[train_idx])\n",
    "validX = (X1[valid_idx], X2[valid_idx])\n",
    "testX  = (X1[test_idx], X2[test_idx])\n",
    "\n",
    "#model = DoublePathModel(molmap1_size, molmap2_size, n_outputs = Y.shape[1])\n",
    "#model = SinglePathModel(molmap_size, n_outputs = Y.shape[1])\n",
    "from cbks import RegressionPerformance, EarlyStoppingAtMinLoss\n",
    "\n",
    "earlystop = EarlyStoppingAtMinLoss(patience=10, criteria = 'val_loss')\n",
    "performace = RegressionPerformance((trainX, trainY), (validX, validY), MASK = 1e8)\n",
    "lr = tf.keras.optimizers.Adam(lr=0.0001, beta_1=0.9, beta_2=0.999, epsilon=1e-08, decay=0.0) #\n",
    "#model.compile(optimizer = lr, loss = 'mse')\n",
    "\n",
    "\n",
    "model.load_weights('./basemodel.h5')\n",
    "model.fit(trainX, trainY, batch_size=128, \n",
    "      epochs=task_epochs, verbose= 0, shuffle = True, \n",
    "      validation_data = (validX, validY), \n",
    "      callbacks=[performace, earlystop]) #"
   ]
  },
  {
   "cell_type": "code",
   "execution_count": 30,
   "metadata": {},
   "outputs": [
    {
     "data": {
      "text/plain": [
       "<matplotlib.axes._subplots.AxesSubplot at 0x7fa9cccbfb38>"
      ]
     },
     "execution_count": 30,
     "metadata": {},
     "output_type": "execute_result"
    },
    {
     "data": {
      "image/png": "[encoded data removed]",
      "text/plain": [
       "<Figure size 432x288 with 1 Axes>"
      ]
     },
     "metadata": {
      "needs_background": "light"
     },
     "output_type": "display_data"
    }
   ],
   "source": [
    "dfp = pd.DataFrame(performace.history)[['training_loss', 'validation_loss']]\n",
    "dfp.plot()"
   ]
  },
  {
   "cell_type": "code",
   "execution_count": 31,
   "metadata": {},
   "outputs": [
    {
     "data": {
      "text/plain": [
       "([0.13048797584118355], [0.9612370144959105])"
      ]
     },
     "execution_count": 31,
     "metadata": {},
     "output_type": "execute_result"
    }
   ],
   "source": [
    "performace.evaluate(trainX, trainY) # RMSE, R^2"
   ]
  },
  {
   "cell_type": "code",
   "execution_count": 32,
   "metadata": {},
   "outputs": [
    {
     "data": {
      "text/plain": [
       "([0.41496974180397933], [0.6064217164069795])"
      ]
     },
     "execution_count": 32,
     "metadata": {},
     "output_type": "execute_result"
    }
   ],
   "source": [
    "performace.evaluate(validX, validY) # RMSE, R^2"
   ]
  },
  {
   "cell_type": "code",
   "execution_count": 33,
   "metadata": {},
   "outputs": [
    {
     "data": {
      "text/plain": [
       "([0.4260110439949051], [0.5735418147435182])"
      ]
     },
     "execution_count": 33,
     "metadata": {},
     "output_type": "execute_result"
    }
   ],
   "source": [
    "performace.evaluate(testX, testY) # RMSE, R^2"
   ]
  },
  {
   "cell_type": "markdown",
   "metadata": {},
   "source": [
    "## 02.branch training for task of rlm"
   ]
  },
  {
   "cell_type": "code",
   "execution_count": 34,
   "metadata": {},
   "outputs": [
    {
     "name": "stdout",
     "output_type": "stream",
     "text": [
      "1636 331 199\n",
      "epoch: 0001, loss: 0.0841 - val_loss: 0.2016; rmse: 0.2521 - rmse_val: 0.4490;  r2: 0.8954 - r2_val: 0.6791                                                                                                    \n",
      "epoch: 0002, loss: 0.0532 - val_loss: 0.1846; rmse: 0.2078 - rmse_val: 0.4297;  r2: 0.9289 - r2_val: 0.7062                                                                                                    \n",
      "epoch: 0003, loss: 0.0416 - val_loss: 0.1744; rmse: 0.1849 - rmse_val: 0.4176;  r2: 0.9438 - r2_val: 0.7224                                                                                                    \n",
      "epoch: 0004, loss: 0.0341 - val_loss: 0.1747; rmse: 0.1740 - rmse_val: 0.4179;  r2: 0.9502 - r2_val: 0.7220                                                                                                    \n",
      "epoch: 0005, loss: 0.0311 - val_loss: 0.1774; rmse: 0.1699 - rmse_val: 0.4212;  r2: 0.9525 - r2_val: 0.7176                                                                                                    \n",
      "epoch: 0006, loss: 0.0301 - val_loss: 0.1706; rmse: 0.1536 - rmse_val: 0.4131;  r2: 0.9612 - r2_val: 0.7284                                                                                                    \n",
      "epoch: 0007, loss: 0.0272 - val_loss: 0.1757; rmse: 0.1762 - rmse_val: 0.4192;  r2: 0.9489 - r2_val: 0.7203                                                                                                    \n",
      "epoch: 0008, loss: 0.0251 - val_loss: 0.1807; rmse: 0.1690 - rmse_val: 0.4250;  r2: 0.9530 - r2_val: 0.7125                                                                                                    \n",
      "epoch: 0009, loss: 0.0289 - val_loss: 0.1821; rmse: 0.1746 - rmse_val: 0.4267;  r2: 0.9498 - r2_val: 0.7101                                                                                                    \n",
      "epoch: 0010, loss: 0.0274 - val_loss: 0.1743; rmse: 0.1474 - rmse_val: 0.4174;  r2: 0.9643 - r2_val: 0.7226                                                                                                    \n",
      "epoch: 0011, loss: 0.0268 - val_loss: 0.1665; rmse: 0.1382 - rmse_val: 0.4081;  r2: 0.9686 - r2_val: 0.7349                                                                                                    \n",
      "epoch: 0012, loss: 0.0218 - val_loss: 0.1699; rmse: 0.1509 - rmse_val: 0.4122;  r2: 0.9625 - r2_val: 0.7295                                                                                                    \n",
      "epoch: 0013, loss: 0.0192 - val_loss: 0.1654; rmse: 0.1315 - rmse_val: 0.4067;  r2: 0.9716 - r2_val: 0.7367                                                                                                    \n",
      "epoch: 0014, loss: 0.0167 - val_loss: 0.1647; rmse: 0.1260 - rmse_val: 0.4059;  r2: 0.9739 - r2_val: 0.7378                                                                                                    \n",
      "epoch: 0015, loss: 0.0159 - val_loss: 0.1664; rmse: 0.1230 - rmse_val: 0.4079;  r2: 0.9751 - r2_val: 0.7352                                                                                                    \n",
      "epoch: 0016, loss: 0.0152 - val_loss: 0.1637; rmse: 0.1135 - rmse_val: 0.4046;  r2: 0.9788 - r2_val: 0.7394                                                                                                    \n",
      "epoch: 0017, loss: 0.0137 - val_loss: 0.1658; rmse: 0.1095 - rmse_val: 0.4072;  r2: 0.9803 - r2_val: 0.7361                                                                                                    \n",
      "epoch: 0018, loss: 0.0125 - val_loss: 0.1768; rmse: 0.1345 - rmse_val: 0.4205;  r2: 0.9702 - r2_val: 0.7185                                                                                                    \n",
      "epoch: 0019, loss: 0.0176 - val_loss: 0.1661; rmse: 0.1067 - rmse_val: 0.4076;  r2: 0.9813 - r2_val: 0.7356                                                                                                    \n",
      "epoch: 0020, loss: 0.0144 - val_loss: 0.1649; rmse: 0.1014 - rmse_val: 0.4061;  r2: 0.9831 - r2_val: 0.7375                                                                                                    \n",
      "epoch: 0021, loss: 0.0109 - val_loss: 0.1672; rmse: 0.1036 - rmse_val: 0.4089;  r2: 0.9823 - r2_val: 0.7338                                                                                                    \n",
      "epoch: 0022, loss: 0.0104 - val_loss: 0.1651; rmse: 0.0961 - rmse_val: 0.4063;  r2: 0.9848 - r2_val: 0.7372                                                                                                    \n",
      "epoch: 0023, loss: 0.0102 - val_loss: 0.1662; rmse: 0.0940 - rmse_val: 0.4076;  r2: 0.9855 - r2_val: 0.7355                                                                                                    \n",
      "epoch: 0024, loss: 0.0097 - val_loss: 0.1626; rmse: 0.0916 - rmse_val: 0.4032;  r2: 0.9862 - r2_val: 0.7412                                                                                                    \n",
      "epoch: 0025, loss: 0.0092 - val_loss: 0.1635; rmse: 0.0974 - rmse_val: 0.4044;  r2: 0.9844 - r2_val: 0.7397                                                                                                    \n",
      "epoch: 0026, loss: 0.0091 - val_loss: 0.1676; rmse: 0.0990 - rmse_val: 0.4094;  r2: 0.9839 - r2_val: 0.7333                                                                                                    \n",
      "epoch: 0027, loss: 0.0098 - val_loss: 0.1645; rmse: 0.0874 - rmse_val: 0.4056;  r2: 0.9874 - r2_val: 0.7382                                                                                                    \n",
      "epoch: 0028, loss: 0.0085 - val_loss: 0.1624; rmse: 0.0860 - rmse_val: 0.4030;  r2: 0.9878 - r2_val: 0.7414                                                                                                    \n",
      "epoch: 0029, loss: 0.0080 - val_loss: 0.1627; rmse: 0.0885 - rmse_val: 0.4034;  r2: 0.9871 - r2_val: 0.7410                                                                                                    \n",
      "epoch: 0030, loss: 0.0081 - val_loss: 0.1628; rmse: 0.0817 - rmse_val: 0.4035;  r2: 0.9890 - r2_val: 0.7408                                                                                                    \n",
      "epoch: 0031, loss: 0.0078 - val_loss: 0.1630; rmse: 0.0796 - rmse_val: 0.4037;  r2: 0.9896 - r2_val: 0.7406                                                                                                    \n",
      "epoch: 0032, loss: 0.0074 - val_loss: 0.1701; rmse: 0.0995 - rmse_val: 0.4124;  r2: 0.9837 - r2_val: 0.7293                                                                                                    \n",
      "epoch: 0033, loss: 0.0104 - val_loss: 0.1648; rmse: 0.1119 - rmse_val: 0.4059;  r2: 0.9794 - r2_val: 0.7377                                                                                                    \n",
      "epoch: 0034, loss: 0.0092 - val_loss: 0.1635; rmse: 0.0813 - rmse_val: 0.4044;  r2: 0.9891 - r2_val: 0.7397                                                                                                    \n",
      "epoch: 0035, loss: 0.0073 - val_loss: 0.1634; rmse: 0.0894 - rmse_val: 0.4042;  r2: 0.9868 - r2_val: 0.7399                                                                                                    \n",
      "epoch: 0036, loss: 0.0072 - val_loss: 0.1653; rmse: 0.0815 - rmse_val: 0.4066;  r2: 0.9891 - r2_val: 0.7369                                                                                                    \n",
      "epoch: 0037, loss: 0.0067 - val_loss: 0.1620; rmse: 0.0752 - rmse_val: 0.4025;  r2: 0.9907 - r2_val: 0.7421                                                                                                    \n",
      "epoch: 0038, loss: 0.0063 - val_loss: 0.1625; rmse: 0.0729 - rmse_val: 0.4031;  r2: 0.9913 - r2_val: 0.7413                                                                                                    \n",
      "epoch: 0039, loss: 0.0059 - val_loss: 0.1639; rmse: 0.0709 - rmse_val: 0.4048;  r2: 0.9917 - r2_val: 0.7391                                                                                                    \n",
      "epoch: 0040, loss: 0.0059 - val_loss: 0.1687; rmse: 0.0924 - rmse_val: 0.4107;  r2: 0.9860 - r2_val: 0.7315                                                                                                    \n",
      "epoch: 0041, loss: 0.0071 - val_loss: 0.1634; rmse: 0.0723 - rmse_val: 0.4042;  r2: 0.9914 - r2_val: 0.7399                                                                                                    \n",
      "epoch: 0042, loss: 0.0057 - val_loss: 0.1617; rmse: 0.0726 - rmse_val: 0.4021;  r2: 0.9913 - r2_val: 0.7426                                                                                                    \n",
      "epoch: 0043, loss: 0.0061 - val_loss: 0.1637; rmse: 0.0720 - rmse_val: 0.4046;  r2: 0.9915 - r2_val: 0.7394                                                                                                    \n",
      "epoch: 0044, loss: 0.0074 - val_loss: 0.1643; rmse: 0.0888 - rmse_val: 0.4054;  r2: 0.9870 - r2_val: 0.7385                                                                                                    \n",
      "epoch: 0045, loss: 0.0061 - val_loss: 0.1628; rmse: 0.0685 - rmse_val: 0.4035;  r2: 0.9923 - r2_val: 0.7408                                                                                                    \n",
      "epoch: 0046, loss: 0.0056 - val_loss: 0.1646; rmse: 0.0718 - rmse_val: 0.4057;  r2: 0.9915 - r2_val: 0.7380                                                                                                    \n",
      "epoch: 0047, loss: 0.0064 - val_loss: 0.1641; rmse: 0.0666 - rmse_val: 0.4051;  r2: 0.9927 - r2_val: 0.7388                                                                                                    \n",
      "epoch: 0048, loss: 0.0056 - val_loss: 0.1631; rmse: 0.0726 - rmse_val: 0.4039;  r2: 0.9913 - r2_val: 0.7404                                                                                                    \n",
      "epoch: 0049, loss: 0.0067 - val_loss: 0.1645; rmse: 0.0716 - rmse_val: 0.4055;  r2: 0.9916 - r2_val: 0.7382                                                                                                    \n",
      "epoch: 0050, loss: 0.0057 - val_loss: 0.1619; rmse: 0.0663 - rmse_val: 0.4023;  r2: 0.9928 - r2_val: 0.7423                                                                                                    \n",
      "epoch: 0051, loss: 0.0055 - val_loss: 0.1667; rmse: 0.0695 - rmse_val: 0.4084;  r2: 0.9920 - r2_val: 0.7346                                                                                                    \n",
      "epoch: 0052, loss: 0.0050 - val_loss: 0.1639; rmse: 0.0652 - rmse_val: 0.4048;  r2: 0.9930 - r2_val: 0.7391                                                                                                    \n",
      "\n",
      "Restoring model weights from the end of the best epoch.\n",
      "\n",
      "Epoch 00052: early stopping\n"
     ]
    },
    {
     "data": {
      "text/plain": [
       "<matplotlib.axes._subplots.AxesSubplot at 0x7fa90e38a4a8>"
      ]
     },
     "execution_count": 34,
     "metadata": {},
     "output_type": "execute_result"
    },
    {
     "data": {
      "image/png": "[encoded data removed]",
      "text/plain": [
       "<Figure size 432x288 with 1 Axes>"
      ]
     },
     "metadata": {
      "needs_background": "light"
     },
     "output_type": "display_data"
    }
   ],
   "source": [
    "task = 'rlm_clearance[mL.min-1.g-1]'\n",
    "split = 'Set_rlm'\n",
    "\n",
    "(train_idx, valid_idx, test_idx), Y = get_idx_and_Y(df, task, split)\n",
    "\n",
    "trainY = Y[train_idx]\n",
    "validY = Y[valid_idx]\n",
    "testY = Y[test_idx]\n",
    "\n",
    "trainX = (X1[train_idx], X2[train_idx])\n",
    "validX = (X1[valid_idx], X2[valid_idx])\n",
    "testX  = (X1[test_idx], X2[test_idx])\n",
    "\n",
    "\n",
    "#model = DoublePathModel(molmap1_size, molmap2_size, n_outputs = Y.shape[1])\n",
    "#model = SinglePathModel(molmap_size, n_outputs = Y.shape[1])\n",
    "from cbks import RegressionPerformance, EarlyStoppingAtMinLoss\n",
    "\n",
    "earlystop = EarlyStoppingAtMinLoss(patience=10, criteria = 'val_loss')\n",
    "performace = RegressionPerformance((trainX, trainY), (validX, validY), MASK = 1e8)\n",
    "lr = tf.keras.optimizers.Adam(lr=0.0001, beta_1=0.9, beta_2=0.999, epsilon=1e-08, decay=0.0) #\n",
    "#model.compile(optimizer = lr, loss = 'mse')\n",
    "\n",
    "model.load_weights('./basemodel.h5')\n",
    "model.fit(trainX, trainY, batch_size=128, \n",
    "      epochs=task_epochs, verbose= 0, shuffle = True, \n",
    "      validation_data = (validX, validY), \n",
    "      callbacks=[performace, earlystop]) #\n",
    "\n",
    "dfp = pd.DataFrame(performace.history)[['training_loss', 'validation_loss']]\n",
    "dfp.plot()"
   ]
  },
  {
   "cell_type": "code",
   "execution_count": 35,
   "metadata": {},
   "outputs": [
    {
     "data": {
      "text/plain": [
       "([0.072593091377548], [0.9913289004948034])"
      ]
     },
     "execution_count": 35,
     "metadata": {},
     "output_type": "execute_result"
    }
   ],
   "source": [
    "performace.evaluate(trainX, trainY) # RMSE, R^2"
   ]
  },
  {
   "cell_type": "code",
   "execution_count": 36,
   "metadata": {},
   "outputs": [
    {
     "data": {
      "text/plain": [
       "([0.40213480570813265], [0.7426007176454081])"
      ]
     },
     "execution_count": 36,
     "metadata": {},
     "output_type": "execute_result"
    }
   ],
   "source": [
    "performace.evaluate(validX, validY) # RMSE, R^2"
   ]
  },
  {
   "cell_type": "code",
   "execution_count": 37,
   "metadata": {},
   "outputs": [
    {
     "data": {
      "text/plain": [
       "([0.33595938929052566], [0.8024916307613159])"
      ]
     },
     "execution_count": 37,
     "metadata": {},
     "output_type": "execute_result"
    }
   ],
   "source": [
    "performace.evaluate(testX, testY) # RMSE, R^2"
   ]
  },
  {
   "cell_type": "code",
   "execution_count": null,
   "metadata": {},
   "outputs": [],
   "source": []
  },
  {
   "cell_type": "markdown",
   "metadata": {},
   "source": [
    "## 03.branch training for task of mlm"
   ]
  },
  {
   "cell_type": "code",
   "execution_count": 38,
   "metadata": {},
   "outputs": [
    {
     "name": "stdout",
     "output_type": "stream",
     "text": [
      "617 117 56\n",
      "epoch: 0001, loss: 0.1176 - val_loss: 0.2736; rmse: 0.3381 - rmse_val: 0.5230;  r2: 0.8047 - r2_val: 0.4860                                                                                                    \n",
      "epoch: 0002, loss: 0.0856 - val_loss: 0.2489; rmse: 0.2738 - rmse_val: 0.4989;  r2: 0.8718 - r2_val: 0.5323                                                                                                    \n",
      "epoch: 0003, loss: 0.0612 - val_loss: 0.2388; rmse: 0.2470 - rmse_val: 0.4887;  r2: 0.8957 - r2_val: 0.5512                                                                                                    \n",
      "epoch: 0004, loss: 0.0511 - val_loss: 0.1993; rmse: 0.2018 - rmse_val: 0.4464;  r2: 0.9304 - r2_val: 0.6255                                                                                                    \n",
      "epoch: 0005, loss: 0.0397 - val_loss: 0.1955; rmse: 0.1903 - rmse_val: 0.4421;  r2: 0.9381 - r2_val: 0.6327                                                                                                    \n",
      "epoch: 0006, loss: 0.0346 - val_loss: 0.1979; rmse: 0.1828 - rmse_val: 0.4448;  r2: 0.9429 - r2_val: 0.6282                                                                                                    \n",
      "epoch: 0007, loss: 0.0346 - val_loss: 0.1981; rmse: 0.1713 - rmse_val: 0.4451;  r2: 0.9498 - r2_val: 0.6277                                                                                                    \n",
      "epoch: 0008, loss: 0.0313 - val_loss: 0.2007; rmse: 0.1542 - rmse_val: 0.4480;  r2: 0.9593 - r2_val: 0.6229                                                                                                    \n",
      "epoch: 0009, loss: 0.0247 - val_loss: 0.2065; rmse: 0.1461 - rmse_val: 0.4545;  r2: 0.9635 - r2_val: 0.6119                                                                                                    \n",
      "epoch: 0010, loss: 0.0224 - val_loss: 0.2059; rmse: 0.1402 - rmse_val: 0.4538;  r2: 0.9664 - r2_val: 0.6131                                                                                                    \n",
      "epoch: 0011, loss: 0.0189 - val_loss: 0.2015; rmse: 0.1322 - rmse_val: 0.4489;  r2: 0.9702 - r2_val: 0.6214                                                                                                    \n",
      "epoch: 0012, loss: 0.0178 - val_loss: 0.2049; rmse: 0.1271 - rmse_val: 0.4527;  r2: 0.9724 - r2_val: 0.6150                                                                                                    \n",
      "epoch: 0013, loss: 0.0164 - val_loss: 0.2070; rmse: 0.1234 - rmse_val: 0.4549;  r2: 0.9740 - r2_val: 0.6111                                                                                                    \n",
      "epoch: 0014, loss: 0.0167 - val_loss: 0.2020; rmse: 0.1347 - rmse_val: 0.4494;  r2: 0.9690 - r2_val: 0.6204                                                                                                    \n",
      "epoch: 0015, loss: 0.0167 - val_loss: 0.2063; rmse: 0.1151 - rmse_val: 0.4543;  r2: 0.9773 - r2_val: 0.6123                                                                                                    \n",
      "\n",
      "Restoring model weights from the end of the best epoch.\n",
      "\n",
      "Epoch 00015: early stopping\n"
     ]
    },
    {
     "data": {
      "text/plain": [
       "<matplotlib.axes._subplots.AxesSubplot at 0x7fa90e310780>"
      ]
     },
     "execution_count": 38,
     "metadata": {},
     "output_type": "execute_result"
    },
    {
     "data": {
      "image/png": "[encoded data removed]",
      "text/plain": [
       "<Figure size 432x288 with 1 Axes>"
      ]
     },
     "metadata": {
      "needs_background": "light"
     },
     "output_type": "display_data"
    }
   ],
   "source": [
    "task = 'mlm_clearance[mL.min-1.g-1]'\n",
    "split = 'Set_mlm'\n",
    "\n",
    "\n",
    "(train_idx, valid_idx, test_idx), Y = get_idx_and_Y(df, task, split)\n",
    "\n",
    "trainY = Y[train_idx]\n",
    "validY = Y[valid_idx]\n",
    "testY = Y[test_idx]\n",
    "\n",
    "trainX = (X1[train_idx], X2[train_idx])\n",
    "validX = (X1[valid_idx], X2[valid_idx])\n",
    "testX  = (X1[test_idx], X2[test_idx])\n",
    "\n",
    "\n",
    "#model = DoublePathModel(molmap1_size, molmap2_size, n_outputs = Y.shape[1])\n",
    "#model = SinglePathModel(molmap_size, n_outputs = Y.shape[1])\n",
    "from cbks import RegressionPerformance, EarlyStoppingAtMinLoss\n",
    "\n",
    "earlystop = EarlyStoppingAtMinLoss(patience=10, criteria = 'val_loss')\n",
    "performace = RegressionPerformance((trainX, trainY), (validX, validY), MASK = 1e8)\n",
    "lr = tf.keras.optimizers.Adam(lr=0.0001, beta_1=0.9, beta_2=0.999, epsilon=1e-08, decay=0.0) #\n",
    "#model.compile(optimizer = lr, loss = 'mse')\n",
    "\n",
    "model.load_weights('./basemodel.h5')\n",
    "model.fit(trainX, trainY, batch_size=128, \n",
    "      epochs=task_epochs, verbose= 0, shuffle = True, \n",
    "      validation_data = (validX, validY), \n",
    "      callbacks=[performace, earlystop]) #\n",
    "\n",
    "dfp = pd.DataFrame(performace.history)[['training_loss', 'validation_loss']]\n",
    "dfp.plot()"
   ]
  },
  {
   "cell_type": "code",
   "execution_count": 39,
   "metadata": {},
   "outputs": [
    {
     "data": {
      "text/plain": [
       "([0.19031432606061108], [0.9380972577183597])"
      ]
     },
     "execution_count": 39,
     "metadata": {},
     "output_type": "execute_result"
    }
   ],
   "source": [
    "performace.evaluate(trainX, trainY) # RMSE, R^2"
   ]
  },
  {
   "cell_type": "code",
   "execution_count": 40,
   "metadata": {},
   "outputs": [
    {
     "data": {
      "text/plain": [
       "([0.44213626007764495], [0.6326692372908661])"
      ]
     },
     "execution_count": 40,
     "metadata": {},
     "output_type": "execute_result"
    }
   ],
   "source": [
    "performace.evaluate(validX, validY) # RMSE, R^2"
   ]
  },
  {
   "cell_type": "code",
   "execution_count": 41,
   "metadata": {},
   "outputs": [
    {
     "data": {
      "text/plain": [
       "([0.507498513036698], [0.47742443686463865])"
      ]
     },
     "execution_count": 41,
     "metadata": {},
     "output_type": "execute_result"
    }
   ],
   "source": [
    "performace.evaluate(testX, testY) # RMSE, R^2"
   ]
  },
  {
   "cell_type": "code",
   "execution_count": 42,
   "metadata": {},
   "outputs": [
    {
     "data": {
      "text/plain": [
       "807841"
      ]
     },
     "execution_count": 42,
     "metadata": {},
     "output_type": "execute_result"
    }
   ],
   "source": [
    "model.count_params()"
   ]
  },
  {
   "cell_type": "code",
   "execution_count": null,
   "metadata": {},
   "outputs": [],
   "source": []
  },
  {
   "cell_type": "code",
   "execution_count": null,
   "metadata": {},
   "outputs": [],
   "source": []
  },
  {
   "cell_type": "code",
   "execution_count": null,
   "metadata": {},
   "outputs": [],
   "source": []
  }
 ],
 "metadata": {
  "kernelspec": {
   "display_name": "Python 3",
   "language": "python",
   "name": "python3"
  },
  "language_info": {
   "codemirror_mode": {
    "name": "ipython",
    "version": 3
   },
   "file_extension": ".py",
   "mimetype": "text/x-python",
   "name": "python",
   "nbconvert_exporter": "python",
   "pygments_lexer": "ipython3",
   "version": "3.6.9"
  }
 },
 "nbformat": 4,
 "nbformat_minor": 4
}
