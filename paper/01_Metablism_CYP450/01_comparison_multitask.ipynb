{
 "cells": [
  {
   "cell_type": "code",
   "execution_count": 1,
   "metadata": {},
   "outputs": [
    {
     "name": "stderr",
     "output_type": "stream",
     "text": [
      "/home/shenwanxiang/anaconda3/envs/deepchem/lib/python3.6/site-packages/tensorflow/python/framework/dtypes.py:516: FutureWarning: Passing (type, 1) or '1type' as a synonym of type is deprecated; in a future version of numpy, it will be understood as (type, (1,)) / '(1,)type'.\n",
      "  _np_qint8 = np.dtype([(\"qint8\", np.int8, 1)])\n",
      "/home/shenwanxiang/anaconda3/envs/deepchem/lib/python3.6/site-packages/tensorflow/python/framework/dtypes.py:517: FutureWarning: Passing (type, 1) or '1type' as a synonym of type is deprecated; in a future version of numpy, it will be understood as (type, (1,)) / '(1,)type'.\n",
      "  _np_quint8 = np.dtype([(\"quint8\", np.uint8, 1)])\n",
      "/home/shenwanxiang/anaconda3/envs/deepchem/lib/python3.6/site-packages/tensorflow/python/framework/dtypes.py:518: FutureWarning: Passing (type, 1) or '1type' as a synonym of type is deprecated; in a future version of numpy, it will be understood as (type, (1,)) / '(1,)type'.\n",
      "  _np_qint16 = np.dtype([(\"qint16\", np.int16, 1)])\n",
      "/home/shenwanxiang/anaconda3/envs/deepchem/lib/python3.6/site-packages/tensorflow/python/framework/dtypes.py:519: FutureWarning: Passing (type, 1) or '1type' as a synonym of type is deprecated; in a future version of numpy, it will be understood as (type, (1,)) / '(1,)type'.\n",
      "  _np_quint16 = np.dtype([(\"quint16\", np.uint16, 1)])\n",
      "/home/shenwanxiang/anaconda3/envs/deepchem/lib/python3.6/site-packages/tensorflow/python/framework/dtypes.py:520: FutureWarning: Passing (type, 1) or '1type' as a synonym of type is deprecated; in a future version of numpy, it will be understood as (type, (1,)) / '(1,)type'.\n",
      "  _np_qint32 = np.dtype([(\"qint32\", np.int32, 1)])\n",
      "/home/shenwanxiang/anaconda3/envs/deepchem/lib/python3.6/site-packages/tensorflow/python/framework/dtypes.py:525: FutureWarning: Passing (type, 1) or '1type' as a synonym of type is deprecated; in a future version of numpy, it will be understood as (type, (1,)) / '(1,)type'.\n",
      "  np_resource = np.dtype([(\"resource\", np.ubyte, 1)])\n",
      "/home/shenwanxiang/anaconda3/envs/deepchem/lib/python3.6/site-packages/tensorboard/compat/tensorflow_stub/dtypes.py:541: FutureWarning: Passing (type, 1) or '1type' as a synonym of type is deprecated; in a future version of numpy, it will be understood as (type, (1,)) / '(1,)type'.\n",
      "  _np_qint8 = np.dtype([(\"qint8\", np.int8, 1)])\n",
      "/home/shenwanxiang/anaconda3/envs/deepchem/lib/python3.6/site-packages/tensorboard/compat/tensorflow_stub/dtypes.py:542: FutureWarning: Passing (type, 1) or '1type' as a synonym of type is deprecated; in a future version of numpy, it will be understood as (type, (1,)) / '(1,)type'.\n",
      "  _np_quint8 = np.dtype([(\"quint8\", np.uint8, 1)])\n",
      "/home/shenwanxiang/anaconda3/envs/deepchem/lib/python3.6/site-packages/tensorboard/compat/tensorflow_stub/dtypes.py:543: FutureWarning: Passing (type, 1) or '1type' as a synonym of type is deprecated; in a future version of numpy, it will be understood as (type, (1,)) / '(1,)type'.\n",
      "  _np_qint16 = np.dtype([(\"qint16\", np.int16, 1)])\n",
      "/home/shenwanxiang/anaconda3/envs/deepchem/lib/python3.6/site-packages/tensorboard/compat/tensorflow_stub/dtypes.py:544: FutureWarning: Passing (type, 1) or '1type' as a synonym of type is deprecated; in a future version of numpy, it will be understood as (type, (1,)) / '(1,)type'.\n",
      "  _np_quint16 = np.dtype([(\"quint16\", np.uint16, 1)])\n",
      "/home/shenwanxiang/anaconda3/envs/deepchem/lib/python3.6/site-packages/tensorboard/compat/tensorflow_stub/dtypes.py:545: FutureWarning: Passing (type, 1) or '1type' as a synonym of type is deprecated; in a future version of numpy, it will be understood as (type, (1,)) / '(1,)type'.\n",
      "  _np_qint32 = np.dtype([(\"qint32\", np.int32, 1)])\n",
      "/home/shenwanxiang/anaconda3/envs/deepchem/lib/python3.6/site-packages/tensorboard/compat/tensorflow_stub/dtypes.py:550: FutureWarning: Passing (type, 1) or '1type' as a synonym of type is deprecated; in a future version of numpy, it will be understood as (type, (1,)) / '(1,)type'.\n",
      "  np_resource = np.dtype([(\"resource\", np.ubyte, 1)])\n"
     ]
    }
   ],
   "source": [
    "from molmap import dataset\n",
    "from molmap import loadmap\n",
    "import molmap\n",
    "\n",
    "import matplotlib.pyplot as plt\n",
    "from joblib import dump, load\n",
    "from tqdm import tqdm\n",
    "import pandas as pd\n",
    "tqdm.pandas(ascii=True)\n",
    "\n",
    "import numpy as np\n",
    "import tensorflow as tf\n",
    "from tensorflow.keras.utils import plot_model\n",
    "from tensorflow.keras import Model, Input\n",
    "from tensorflow.keras.layers import MaxPool2D, GlobalMaxPool2D, BatchNormalization, Activation\n",
    "from tensorflow.keras.layers import Conv2D, Concatenate,Flatten, Dense, Dropout\n",
    "\n",
    "# just for repeatable results\n",
    "seed = 123\n",
    "np.random.seed(seed)\n",
    "tf.set_random_seed(seed)\n",
    "\n",
    "#use the second GPU, if negative value, CPUs will be used\n",
    "import os\n",
    "os.environ[\"CUDA_VISIBLE_DEVICES\"]=\"0\"\n",
    "\n",
    "\n",
    "%matplotlib inline"
   ]
  },
  {
   "cell_type": "code",
   "execution_count": 2,
   "metadata": {},
   "outputs": [],
   "source": [
    "def Inception(inputs, units = 8, strides = 1):\n",
    "    \"\"\"\n",
    "    naive google inception block\n",
    "    \"\"\"\n",
    "    x1 = Conv2D(units, 5, padding='same', activation = 'relu', strides = strides)(inputs)\n",
    "    x2 = Conv2D(units, 3, padding='same', activation = 'relu', strides = strides)(inputs)\n",
    "    x3 = Conv2D(units, 1, padding='same', activation = 'relu', strides = strides)(inputs)\n",
    "    outputs = Concatenate()([x1, x2, x3])    \n",
    "    return outputs\n",
    "\n",
    "\n",
    "def DoublePathClassificationModel(molmap1_size, molmap2_size, n_outputs = 1):\n",
    "    \n",
    "    ## first inputs\n",
    "    d_inputs1 = Input(molmap1_size)\n",
    "    d_conv1 = Conv2D(48, 13, padding = 'same', activation='relu', strides = 1)(d_inputs1)\n",
    "    d_pool1 = MaxPool2D(pool_size = 3, strides = 2, padding = 'same')(d_conv1) #p1\n",
    "    d_incept1 = Inception(d_pool1, strides = 1, units = 32)\n",
    "    d_pool2 = MaxPool2D(pool_size = 3, strides = 2, padding = 'same')(d_incept1) #p2\n",
    "    d_incept2 = Inception(d_pool2, strides = 1, units = 64)\n",
    "    d_flat1 = GlobalMaxPool2D()(d_incept2)\n",
    "\n",
    "    \n",
    "    ## second inputs\n",
    "    f_inputs1 = Input(molmap2_size)\n",
    "    f_conv1 = Conv2D(48, 13, padding = 'same', activation='relu', strides = 1)(f_inputs1)\n",
    "    f_pool1 = MaxPool2D(pool_size = 3, strides = 2, padding = 'same')(f_conv1) #p1\n",
    "    f_incept1 = Inception(f_pool1, strides = 1, units = 32)\n",
    "    f_pool2 = MaxPool2D(pool_size = 3, strides = 2, padding = 'same')(f_incept1) #p2\n",
    "    f_incept2 = Inception(f_pool2, strides = 1, units = 64)\n",
    "    f_flat1 = GlobalMaxPool2D()(f_incept2)    \n",
    "    \n",
    "    ## concat\n",
    "    merge = Concatenate()([d_flat1, f_flat1]) \n",
    "    d1 = Dense(256,activation='relu')(merge)\n",
    "    d1 = Dense(128,activation='relu')(d1)\n",
    "    d1 = Dense(64,activation='relu')(d1)\n",
    "\n",
    "    #since the sigmoid function is in loss function, so the activation function should be None\n",
    "    outputs = Dense(n_outputs, activation=None)(d1)\n",
    "    \n",
    "    model = tf.keras.Model(inputs=[d_inputs1, f_inputs1], outputs=outputs)\n",
    "    \n",
    "    return model"
   ]
  },
  {
   "cell_type": "code",
   "execution_count": 3,
   "metadata": {},
   "outputs": [
    {
     "name": "stdout",
     "output_type": "stream",
     "text": [
      "total samples: 16896\n"
     ]
    }
   ],
   "source": [
    "#load dataset\n",
    "data = dataset.load_CYP450()\n",
    "df = data.data"
   ]
  },
  {
   "cell_type": "markdown",
   "metadata": {},
   "source": [
    "# featurizer"
   ]
  },
  {
   "cell_type": "code",
   "execution_count": 4,
   "metadata": {},
   "outputs": [],
   "source": [
    "X1_name =  './X_descriptor.data'\n",
    "X2_name =  './X_fingerprint.data'\n",
    "X_smiles = df.smiles.tolist()\n",
    "\n",
    "if os.path.exists(X1_name):\n",
    "    X1 = load(X1_name)\n",
    "else:\n",
    "    mp1 = loadmap('../descriptor_grid_split.mp')\n",
    "    X1 = mp1.batch_transform(X_smiles, n_jobs = 8)\n",
    "    dump(X1, X1_name)\n",
    "    \n",
    "if os.path.exists(X2_name):\n",
    "    X2 = load(X2_name)\n",
    "else:\n",
    "    mp2 = loadmap('../fingerprint_grid_split.mp')\n",
    "    X2 = mp2.batch_transform(X_smiles, n_jobs = 8)\n",
    "    dump(X2, X2_name)\n",
    "    \n",
    "MASK = -1\n",
    "Y = pd.DataFrame(data.y).fillna(MASK).values"
   ]
  },
  {
   "cell_type": "markdown",
   "metadata": {},
   "source": [
    "# splitting valid set from training set by scaffold"
   ]
  },
  {
   "cell_type": "code",
   "execution_count": 5,
   "metadata": {},
   "outputs": [
    {
     "name": "stderr",
     "output_type": "stream",
     "text": [
      "100%|##########| 16896/16896 [00:05<00:00, 3203.96it/s]\n",
      "100%|##########| 8163/8163 [00:00<00:00, 271737.45it/s]\n"
     ]
    },
    {
     "name": "stdout",
     "output_type": "stream",
     "text": [
      "13392 195 3309\n"
     ]
    }
   ],
   "source": [
    "from rdkit.Chem.Scaffolds.MurckoScaffold import GetScaffoldForMol\n",
    "from rdkit import Chem\n",
    "getSFD = lambda x:Chem.MolToSmiles(GetScaffoldForMol(Chem.MolFromSmiles(x)))\n",
    "\n",
    "df['scaffold'] = df.smiles.progress_apply(getSFD)\n",
    "df_train = df[df['group'] == 'training set'][['scaffold']]\n",
    "def getValidIdx(x):\n",
    "    if (len(x) > 5): # set as valid only if this scaffold group larger than 5\n",
    "        return x.index.tolist()[0]\n",
    "    else:\n",
    "        return \n",
    "valid_idx = df_train.groupby('scaffold').progress_apply(getValidIdx).dropna().astype(int).tolist()\n",
    "train_idx = list(set(df_train.index.tolist()) - set(valid_idx))\n",
    "test_idx = df[df.group == 'test set'].index.tolist()\n",
    "print(len(train_idx), len(valid_idx), len(test_idx))\n",
    "\n",
    "train_df = df.iloc[train_idx]\n",
    "valid_df = df.iloc[valid_idx]\n",
    "test_df = df.iloc[test_idx]\n",
    "\n",
    "train_df.to_csv('./train.csv')\n",
    "valid_df.to_csv('./valid.csv')\n",
    "test_df.to_csv('./test.csv')"
   ]
  },
  {
   "cell_type": "code",
   "execution_count": 6,
   "metadata": {},
   "outputs": [],
   "source": [
    "trainX = (X1[train_idx], X2[train_idx])\n",
    "trainY = Y[train_idx]\n",
    "\n",
    "validX = (X1[valid_idx], X2[valid_idx])\n",
    "validY = Y[valid_idx]\n",
    "\n",
    "testX = (X1[test_idx], X2[test_idx])\n",
    "testY = Y[test_idx]"
   ]
  },
  {
   "cell_type": "code",
   "execution_count": 7,
   "metadata": {},
   "outputs": [
    {
     "data": {
      "text/plain": [
       "array([1.67457821, 2.64418146, 1.25175936, 6.46067416, 1.9529957 ])"
      ]
     },
     "execution_count": 7,
     "metadata": {},
     "output_type": "execute_result"
    }
   ],
   "source": [
    "def get_pos_weights(trainY):\n",
    "    \"\"\"pos_weights: neg_n / pos_n \"\"\"\n",
    "    dfY = pd.DataFrame(trainY)\n",
    "    pos = dfY == 1\n",
    "    pos_n = pos.sum(axis=0)\n",
    "    neg = dfY == 0\n",
    "    neg_n = neg.sum(axis=0)\n",
    "    pos_weights = (neg_n / pos_n).values\n",
    "    neg_weights = (pos_n / neg_n).values\n",
    "    return pos_weights, neg_weights\n",
    "\n",
    "pos_weights, neg_weights = get_pos_weights(Y[train_idx])\n",
    "pos_weights"
   ]
  },
  {
   "cell_type": "code",
   "execution_count": 8,
   "metadata": {},
   "outputs": [
    {
     "name": "stdout",
     "output_type": "stream",
     "text": [
      "WARNING:tensorflow:From /home/shenwanxiang/anaconda3/envs/deepchem/lib/python3.6/site-packages/tensorflow/python/ops/init_ops.py:1251: calling VarianceScaling.__init__ (from tensorflow.python.ops.init_ops) with dtype is deprecated and will be removed in a future version.\n",
      "Instructions for updating:\n",
      "Call initializer instance with the dtype argument instead of passing it to the constructor\n"
     ]
    }
   ],
   "source": [
    "#from model import SinglePathClassificationModel\n",
    "from loss import cross_entropy, weighted_cross_entropy\n",
    "from cbks import ClassificationPerformance, EarlyStoppingAtMinLoss\n",
    "\n",
    "molmap1_size = X1.shape[1:]\n",
    "molmap2_size = X2.shape[1:]\n",
    "loss = lambda y_true, y_pred: weighted_cross_entropy(y_true,y_pred, pos_weights.mean(), MASK)\n",
    "model = DoublePathClassificationModel(molmap1_size,molmap2_size, n_outputs = Y.shape[1])\n",
    "earlystop = EarlyStoppingAtMinLoss(patience=10, criteria = 'val_loss')\n",
    "performace = ClassificationPerformance((trainX, trainY), (validX, validY), MASK)\n",
    "lr = tf.keras.optimizers.Adam(lr=0.0001, beta_1=0.9, beta_2=0.999, epsilon=1e-08, decay=0.0) #\n",
    "model.compile(optimizer = lr, loss = loss)"
   ]
  },
  {
   "cell_type": "code",
   "execution_count": 9,
   "metadata": {},
   "outputs": [
    {
     "data": {
      "text/plain": [
       "808101"
      ]
     },
     "execution_count": 9,
     "metadata": {},
     "output_type": "execute_result"
    }
   ],
   "source": [
    "model.count_params()"
   ]
  },
  {
   "cell_type": "code",
   "execution_count": 10,
   "metadata": {},
   "outputs": [
    {
     "name": "stdout",
     "output_type": "stream",
     "text": [
      "epoch: 0001, loss: 0.8892 - val_loss: 0.7758; auc: 0.7890 - auc_val: 0.7961                                                                                                    \n",
      "epoch: 0002, loss: 0.7744 - val_loss: 0.6906; auc: 0.8308 - auc_val: 0.8593                                                                                                    \n",
      "epoch: 0003, loss: 0.7223 - val_loss: 0.6347; auc: 0.8562 - auc_val: 0.8819                                                                                                    \n",
      "epoch: 0004, loss: 0.6926 - val_loss: 0.6036; auc: 0.8701 - auc_val: 0.8981                                                                                                    \n",
      "epoch: 0005, loss: 0.6750 - val_loss: 0.5975; auc: 0.8771 - auc_val: 0.9041                                                                                                    \n",
      "epoch: 0006, loss: 0.6643 - val_loss: 0.5824; auc: 0.8832 - auc_val: 0.9124                                                                                                    \n",
      "epoch: 0007, loss: 0.6528 - val_loss: 0.5741; auc: 0.8884 - auc_val: 0.9170                                                                                                    \n",
      "epoch: 0008, loss: 0.6457 - val_loss: 0.5678; auc: 0.8920 - auc_val: 0.9222                                                                                                    \n",
      "epoch: 0009, loss: 0.6350 - val_loss: 0.5561; auc: 0.8963 - auc_val: 0.9263                                                                                                    \n",
      "epoch: 0010, loss: 0.6249 - val_loss: 0.5638; auc: 0.9001 - auc_val: 0.9263                                                                                                    \n",
      "epoch: 0011, loss: 0.6212 - val_loss: 0.5569; auc: 0.9026 - auc_val: 0.9279                                                                                                    \n",
      "epoch: 0012, loss: 0.6121 - val_loss: 0.5540; auc: 0.9071 - auc_val: 0.9313                                                                                                    \n",
      "epoch: 0013, loss: 0.6073 - val_loss: 0.5278; auc: 0.9105 - auc_val: 0.9355                                                                                                    \n",
      "epoch: 0014, loss: 0.5976 - val_loss: 0.5521; auc: 0.9139 - auc_val: 0.9358                                                                                                    \n",
      "epoch: 0015, loss: 0.5941 - val_loss: 0.5279; auc: 0.9164 - auc_val: 0.9377                                                                                                    \n",
      "epoch: 0016, loss: 0.5855 - val_loss: 0.5250; auc: 0.9197 - auc_val: 0.9400                                                                                                    \n",
      "epoch: 0017, loss: 0.5820 - val_loss: 0.5183; auc: 0.9232 - auc_val: 0.9408                                                                                                    \n",
      "epoch: 0018, loss: 0.5768 - val_loss: 0.5296; auc: 0.9244 - auc_val: 0.9418                                                                                                    \n",
      "epoch: 0019, loss: 0.5674 - val_loss: 0.5261; auc: 0.9283 - auc_val: 0.9407                                                                                                    \n",
      "epoch: 0020, loss: 0.5607 - val_loss: 0.5157; auc: 0.9313 - auc_val: 0.9422                                                                                                    \n",
      "epoch: 0021, loss: 0.5572 - val_loss: 0.5101; auc: 0.9328 - auc_val: 0.9460                                                                                                    \n",
      "epoch: 0022, loss: 0.5480 - val_loss: 0.5140; auc: 0.9371 - auc_val: 0.9460                                                                                                    \n",
      "epoch: 0023, loss: 0.5434 - val_loss: 0.5101; auc: 0.9391 - auc_val: 0.9443                                                                                                    \n",
      "epoch: 0024, loss: 0.5339 - val_loss: 0.5212; auc: 0.9429 - auc_val: 0.9465                                                                                                    \n",
      "epoch: 0025, loss: 0.5289 - val_loss: 0.5156; auc: 0.9455 - auc_val: 0.9477                                                                                                    \n",
      "epoch: 0026, loss: 0.5215 - val_loss: 0.5123; auc: 0.9479 - auc_val: 0.9450                                                                                                    \n",
      "epoch: 0027, loss: 0.5149 - val_loss: 0.5294; auc: 0.9496 - auc_val: 0.9424                                                                                                    \n",
      "epoch: 0028, loss: 0.5163 - val_loss: 0.5191; auc: 0.9522 - auc_val: 0.9434                                                                                                    \n",
      "epoch: 0029, loss: 0.5029 - val_loss: 0.5009; auc: 0.9551 - auc_val: 0.9473                                                                                                    \n",
      "epoch: 0030, loss: 0.4979 - val_loss: 0.5238; auc: 0.9560 - auc_val: 0.9443                                                                                                    \n",
      "epoch: 0031, loss: 0.4975 - val_loss: 0.5203; auc: 0.9580 - auc_val: 0.9441                                                                                                    \n",
      "epoch: 0032, loss: 0.4852 - val_loss: 0.5211; auc: 0.9601 - auc_val: 0.9436                                                                                                    \n",
      "epoch: 0033, loss: 0.4771 - val_loss: 0.5227; auc: 0.9624 - auc_val: 0.9450                                                                                                    \n",
      "epoch: 0034, loss: 0.4754 - val_loss: 0.4935; auc: 0.9651 - auc_val: 0.9480                                                                                                    \n",
      "epoch: 0035, loss: 0.4623 - val_loss: 0.5023; auc: 0.9661 - auc_val: 0.9466                                                                                                    \n",
      "epoch: 0036, loss: 0.4605 - val_loss: 0.4975; auc: 0.9678 - auc_val: 0.9483                                                                                                    \n",
      "epoch: 0037, loss: 0.4511 - val_loss: 0.4943; auc: 0.9701 - auc_val: 0.9468                                                                                                    \n",
      "epoch: 0038, loss: 0.4529 - val_loss: 0.5029; auc: 0.9719 - auc_val: 0.9451                                                                                                    \n",
      "epoch: 0039, loss: 0.4414 - val_loss: 0.4944; auc: 0.9737 - auc_val: 0.9454                                                                                                    \n",
      "epoch: 0040, loss: 0.4377 - val_loss: 0.5046; auc: 0.9750 - auc_val: 0.9427                                                                                                    \n",
      "epoch: 0041, loss: 0.4316 - val_loss: 0.5100; auc: 0.9763 - auc_val: 0.9442                                                                                                    \n",
      "epoch: 0042, loss: 0.4273 - val_loss: 0.5280; auc: 0.9766 - auc_val: 0.9428                                                                                                    \n",
      "epoch: 0043, loss: 0.4240 - val_loss: 0.5164; auc: 0.9787 - auc_val: 0.9441                                                                                                    \n",
      "epoch: 0044, loss: 0.4115 - val_loss: 0.5094; auc: 0.9800 - auc_val: 0.9443                                                                                                    \n",
      "\n",
      "Restoring model weights from the end of the best epoch.\n",
      "\n",
      "Epoch 00044: early stopping\n"
     ]
    },
    {
     "data": {
      "text/plain": [
       "<tensorflow.python.keras.callbacks.History at 0x7f93b0586fd0>"
      ]
     },
     "execution_count": 10,
     "metadata": {},
     "output_type": "execute_result"
    }
   ],
   "source": [
    "model.fit(trainX, trainY, batch_size=128, \n",
    "      epochs=500, verbose= 0, shuffle = True, \n",
    "      validation_data = (validX, validY), \n",
    "      callbacks=[performace, earlystop]) "
   ]
  },
  {
   "cell_type": "code",
   "execution_count": 11,
   "metadata": {},
   "outputs": [
    {
     "data": {
      "text/plain": [
       "<matplotlib.axes._subplots.AxesSubplot at 0x7f93b0410c88>"
      ]
     },
     "execution_count": 11,
     "metadata": {},
     "output_type": "execute_result"
    },
    {
     "data": {
      "image/png": "[encoded data removed]",
      "text/plain": [
       "<Figure size 432x288 with 1 Axes>"
      ]
     },
     "metadata": {
      "needs_background": "light"
     },
     "output_type": "display_data"
    }
   ],
   "source": [
    "pd.DataFrame(performace.history)[['training_loss', 'validation_loss', 'training_auc', 'validation_auc']].plot()"
   ]
  },
  {
   "cell_type": "code",
   "execution_count": 12,
   "metadata": {},
   "outputs": [
    {
     "data": {
      "text/plain": [
       "0.8900608386921828"
      ]
     },
     "execution_count": 12,
     "metadata": {},
     "output_type": "execute_result"
    }
   ],
   "source": [
    "np.mean(performace.evaluate(testX, testY))"
   ]
  },
  {
   "cell_type": "code",
   "execution_count": 13,
   "metadata": {},
   "outputs": [],
   "source": [
    "model.save('./model.h5')"
   ]
  },
  {
   "cell_type": "code",
   "execution_count": 14,
   "metadata": {},
   "outputs": [
    {
     "name": "stdout",
     "output_type": "stream",
     "text": [
      "0.9651081903490754 0.9479956209805822 0.8900608386921828\n"
     ]
    }
   ],
   "source": [
    "train_auc = np.mean(performace.evaluate(trainX, trainY))\n",
    "valid_auc = np.mean(performace.evaluate(validX, validY))\n",
    "test_auc = np.mean(performace.evaluate(testX, testY))\n",
    "\n",
    "print(train_auc, valid_auc, test_auc)"
   ]
  },
  {
   "cell_type": "code",
   "execution_count": 15,
   "metadata": {},
   "outputs": [
    {
     "data": {
      "text/plain": [
       "[0.9591250552364118,\n",
       " 0.9466063348416289,\n",
       " 0.9352245862884161,\n",
       " 0.9547244094488188,\n",
       " 0.9442977190876352]"
      ]
     },
     "execution_count": 15,
     "metadata": {},
     "output_type": "execute_result"
    }
   ],
   "source": [
    "performace.evaluate(validX, validY)"
   ]
  },
  {
   "cell_type": "code",
   "execution_count": 16,
   "metadata": {},
   "outputs": [
    {
     "data": {
      "text/plain": [
       "[0.981700268422187,\n",
       " 0.8108890185779594,\n",
       " 0.826703631278002,\n",
       " 0.9097102599338068,\n",
       " 0.9213010152489585]"
      ]
     },
     "execution_count": 16,
     "metadata": {},
     "output_type": "execute_result"
    }
   ],
   "source": [
    "performace.evaluate(testX, testY)"
   ]
  },
  {
   "cell_type": "code",
   "execution_count": 17,
   "metadata": {},
   "outputs": [],
   "source": [
    "dfp = pd.DataFrame(performace.history)[['training_loss', 'validation_loss', 'training_auc', 'validation_auc']]\n",
    "dfp.to_csv('DoublePathModel.csv')"
   ]
  },
  {
   "cell_type": "code",
   "execution_count": 18,
   "metadata": {},
   "outputs": [
    {
     "data": {
      "text/plain": [
       "33"
      ]
     },
     "execution_count": 18,
     "metadata": {},
     "output_type": "execute_result"
    }
   ],
   "source": [
    "earlystop.best_epoch"
   ]
  },
  {
   "cell_type": "code",
   "execution_count": 19,
   "metadata": {},
   "outputs": [
    {
     "name": "stdout",
     "output_type": "stream",
     "text": [
      "total 2.8G\n",
      "-rw-rw-r-- 1 shenwanxiang shenwanxiang  87K Nov 10 11:45 00_count_parameters.ipynb\n",
      "-rw-rw-r-- 1 shenwanxiang shenwanxiang  55K Nov 10 12:32 01_comparison_multitask.ipynb\n",
      "-rw-rw-r-- 1 shenwanxiang shenwanxiang 3.5K Nov 10 12:28 DoublePathModel.csv\n",
      "-rw-rw-r-- 1 shenwanxiang shenwanxiang 2.3G Nov  9 21:00 X_descriptor.data\n",
      "-rw-rw-r-- 1 shenwanxiang shenwanxiang 516M Nov  9 21:15 X_fingerprint.data\n",
      "drwxrwxr-x 2 shenwanxiang shenwanxiang 4.0K Nov 10 11:04 __pycache__/\n",
      "-rw-rw-r-- 1 shenwanxiang shenwanxiang 4.6K Nov 10 11:02 cbks.py\n",
      "-rw-rw-r-- 1 shenwanxiang shenwanxiang  798 Nov  9 15:23 loss.py\n",
      "-rw-rw-r-- 1 shenwanxiang shenwanxiang 9.5M Nov 10 12:27 model.h5\n",
      "-rw-rw-r-- 1 shenwanxiang shenwanxiang 368K Nov 10 12:26 test.csv\n",
      "-rw-rw-r-- 1 shenwanxiang shenwanxiang 1.6M Nov 10 12:26 train.csv\n",
      "-rw-rw-r-- 1 shenwanxiang shenwanxiang  23K Nov 10 12:26 valid.csv\n"
     ]
    }
   ],
   "source": [
    "ls -lh"
   ]
  },
  {
   "cell_type": "code",
   "execution_count": null,
   "metadata": {},
   "outputs": [],
   "source": []
  },
  {
   "cell_type": "code",
   "execution_count": null,
   "metadata": {},
   "outputs": [],
   "source": []
  },
  {
   "cell_type": "code",
   "execution_count": null,
   "metadata": {},
   "outputs": [],
   "source": []
  },
  {
   "cell_type": "code",
   "execution_count": null,
   "metadata": {},
   "outputs": [],
   "source": []
  },
  {
   "cell_type": "code",
   "execution_count": null,
   "metadata": {},
   "outputs": [],
   "source": []
  },
  {
   "cell_type": "code",
   "execution_count": null,
   "metadata": {},
   "outputs": [],
   "source": []
  },
  {
   "cell_type": "code",
   "execution_count": null,
   "metadata": {},
   "outputs": [],
   "source": []
  },
  {
   "cell_type": "code",
   "execution_count": null,
   "metadata": {},
   "outputs": [],
   "source": []
  }
 ],
 "metadata": {
  "kernelspec": {
   "display_name": "Python 3",
   "language": "python",
   "name": "python3"
  },
  "language_info": {
   "codemirror_mode": {
    "name": "ipython",
    "version": 3
   },
   "file_extension": ".py",
   "mimetype": "text/x-python",
   "name": "python",
   "nbconvert_exporter": "python",
   "pygments_lexer": "ipython3",
   "version": "3.6.9"
  }
 },
 "nbformat": 4,
 "nbformat_minor": 4
}
