{
 "cells": [
  {
   "cell_type": "code",
   "execution_count": 1,
   "metadata": {},
   "outputs": [
    {
     "name": "stderr",
     "output_type": "stream",
     "text": [
      "/home/shenwanxiang/anaconda3/envs/deepchem/lib/python3.6/site-packages/tensorflow/python/framework/dtypes.py:516: FutureWarning: Passing (type, 1) or '1type' as a synonym of type is deprecated; in a future version of numpy, it will be understood as (type, (1,)) / '(1,)type'.\n",
      "  _np_qint8 = np.dtype([(\"qint8\", np.int8, 1)])\n",
      "/home/shenwanxiang/anaconda3/envs/deepchem/lib/python3.6/site-packages/tensorflow/python/framework/dtypes.py:517: FutureWarning: Passing (type, 1) or '1type' as a synonym of type is deprecated; in a future version of numpy, it will be understood as (type, (1,)) / '(1,)type'.\n",
      "  _np_quint8 = np.dtype([(\"quint8\", np.uint8, 1)])\n",
      "/home/shenwanxiang/anaconda3/envs/deepchem/lib/python3.6/site-packages/tensorflow/python/framework/dtypes.py:518: FutureWarning: Passing (type, 1) or '1type' as a synonym of type is deprecated; in a future version of numpy, it will be understood as (type, (1,)) / '(1,)type'.\n",
      "  _np_qint16 = np.dtype([(\"qint16\", np.int16, 1)])\n",
      "/home/shenwanxiang/anaconda3/envs/deepchem/lib/python3.6/site-packages/tensorflow/python/framework/dtypes.py:519: FutureWarning: Passing (type, 1) or '1type' as a synonym of type is deprecated; in a future version of numpy, it will be understood as (type, (1,)) / '(1,)type'.\n",
      "  _np_quint16 = np.dtype([(\"quint16\", np.uint16, 1)])\n",
      "/home/shenwanxiang/anaconda3/envs/deepchem/lib/python3.6/site-packages/tensorflow/python/framework/dtypes.py:520: FutureWarning: Passing (type, 1) or '1type' as a synonym of type is deprecated; in a future version of numpy, it will be understood as (type, (1,)) / '(1,)type'.\n",
      "  _np_qint32 = np.dtype([(\"qint32\", np.int32, 1)])\n",
      "/home/shenwanxiang/anaconda3/envs/deepchem/lib/python3.6/site-packages/tensorflow/python/framework/dtypes.py:525: FutureWarning: Passing (type, 1) or '1type' as a synonym of type is deprecated; in a future version of numpy, it will be understood as (type, (1,)) / '(1,)type'.\n",
      "  np_resource = np.dtype([(\"resource\", np.ubyte, 1)])\n",
      "/home/shenwanxiang/anaconda3/envs/deepchem/lib/python3.6/site-packages/tensorboard/compat/tensorflow_stub/dtypes.py:541: FutureWarning: Passing (type, 1) or '1type' as a synonym of type is deprecated; in a future version of numpy, it will be understood as (type, (1,)) / '(1,)type'.\n",
      "  _np_qint8 = np.dtype([(\"qint8\", np.int8, 1)])\n",
      "/home/shenwanxiang/anaconda3/envs/deepchem/lib/python3.6/site-packages/tensorboard/compat/tensorflow_stub/dtypes.py:542: FutureWarning: Passing (type, 1) or '1type' as a synonym of type is deprecated; in a future version of numpy, it will be understood as (type, (1,)) / '(1,)type'.\n",
      "  _np_quint8 = np.dtype([(\"quint8\", np.uint8, 1)])\n",
      "/home/shenwanxiang/anaconda3/envs/deepchem/lib/python3.6/site-packages/tensorboard/compat/tensorflow_stub/dtypes.py:543: FutureWarning: Passing (type, 1) or '1type' as a synonym of type is deprecated; in a future version of numpy, it will be understood as (type, (1,)) / '(1,)type'.\n",
      "  _np_qint16 = np.dtype([(\"qint16\", np.int16, 1)])\n",
      "/home/shenwanxiang/anaconda3/envs/deepchem/lib/python3.6/site-packages/tensorboard/compat/tensorflow_stub/dtypes.py:544: FutureWarning: Passing (type, 1) or '1type' as a synonym of type is deprecated; in a future version of numpy, it will be understood as (type, (1,)) / '(1,)type'.\n",
      "  _np_quint16 = np.dtype([(\"quint16\", np.uint16, 1)])\n",
      "/home/shenwanxiang/anaconda3/envs/deepchem/lib/python3.6/site-packages/tensorboard/compat/tensorflow_stub/dtypes.py:545: FutureWarning: Passing (type, 1) or '1type' as a synonym of type is deprecated; in a future version of numpy, it will be understood as (type, (1,)) / '(1,)type'.\n",
      "  _np_qint32 = np.dtype([(\"qint32\", np.int32, 1)])\n",
      "/home/shenwanxiang/anaconda3/envs/deepchem/lib/python3.6/site-packages/tensorboard/compat/tensorflow_stub/dtypes.py:550: FutureWarning: Passing (type, 1) or '1type' as a synonym of type is deprecated; in a future version of numpy, it will be understood as (type, (1,)) / '(1,)type'.\n",
      "  np_resource = np.dtype([(\"resource\", np.ubyte, 1)])\n"
     ]
    }
   ],
   "source": [
    "from molmap import dataset\n",
    "from molmap import loadmap\n",
    "import molmap\n",
    "\n",
    "import matplotlib.pyplot as plt\n",
    "from joblib import dump, load\n",
    "from tqdm import tqdm\n",
    "import pandas as pd\n",
    "tqdm.pandas(ascii=True)\n",
    "\n",
    "import numpy as np\n",
    "import tensorflow as tf\n",
    "from tensorflow.keras.utils import plot_model\n",
    "from tensorflow.keras import Model, Input\n",
    "from tensorflow.keras.layers import MaxPool2D, GlobalMaxPool2D, BatchNormalization, Activation\n",
    "from tensorflow.keras.layers import Conv2D, Concatenate,Flatten, Dense, Dropout\n",
    "\n",
    "# just for repeatable results\n",
    "seed = 123\n",
    "np.random.seed(seed)\n",
    "tf.set_random_seed(seed)\n",
    "\n",
    "#use the second GPU, if negative value, CPUs will be used\n",
    "import os\n",
    "os.environ[\"CUDA_VISIBLE_DEVICES\"]=\"0\"\n",
    "\n",
    "\n",
    "%matplotlib inline"
   ]
  },
  {
   "cell_type": "code",
   "execution_count": 2,
   "metadata": {},
   "outputs": [],
   "source": [
    "def Inception(inputs, units = 8, strides = 1):\n",
    "    \"\"\"\n",
    "    naive google inception block\n",
    "    \"\"\"\n",
    "    x1 = Conv2D(units, 5, padding='same', activation = 'relu', strides = strides)(inputs)\n",
    "    x2 = Conv2D(units, 3, padding='same', activation = 'relu', strides = strides)(inputs)\n",
    "    x3 = Conv2D(units, 1, padding='same', activation = 'relu', strides = strides)(inputs)\n",
    "    outputs = Concatenate()([x1, x2, x3])    \n",
    "    return outputs\n",
    "\n",
    "\n",
    "def DoublePathClassificationModel(molmap1_size, molmap2_size, n_outputs = 1):\n",
    "    \n",
    "    ## first inputs\n",
    "    d_inputs1 = Input(molmap1_size)\n",
    "    d_conv1 = Conv2D(48, 13, padding = 'same', activation='relu', strides = 1)(d_inputs1)\n",
    "    d_pool1 = MaxPool2D(pool_size = 3, strides = 2, padding = 'same')(d_conv1) #p1\n",
    "    d_incept1 = Inception(d_pool1, strides = 1, units = 32)\n",
    "    d_pool2 = MaxPool2D(pool_size = 3, strides = 2, padding = 'same')(d_incept1) #p2\n",
    "    d_incept2 = Inception(d_pool2, strides = 1, units = 64)\n",
    "    d_flat1 = GlobalMaxPool2D()(d_incept2)\n",
    "\n",
    "    \n",
    "    ## second inputs\n",
    "    f_inputs1 = Input(molmap2_size)\n",
    "    f_conv1 = Conv2D(48, 13, padding = 'same', activation='relu', strides = 1)(f_inputs1)\n",
    "    f_pool1 = MaxPool2D(pool_size = 3, strides = 2, padding = 'same')(f_conv1) #p1\n",
    "    f_incept1 = Inception(f_pool1, strides = 1, units = 32)\n",
    "    f_pool2 = MaxPool2D(pool_size = 3, strides = 2, padding = 'same')(f_incept1) #p2\n",
    "    f_incept2 = Inception(f_pool2, strides = 1, units = 64)\n",
    "    f_flat1 = GlobalMaxPool2D()(f_incept2)    \n",
    "    \n",
    "    ## concat\n",
    "    merge = Concatenate()([d_flat1, f_flat1]) \n",
    "    d1 = Dense(256,activation='relu')(merge)\n",
    "    d1 = Dense(128,activation='relu')(d1)\n",
    "    d1 = Dense(64,activation='relu')(d1)\n",
    "\n",
    "    #since the sigmoid function is in loss function, so the activation function should be None\n",
    "    outputs = Dense(n_outputs, activation=None)(d1)\n",
    "    \n",
    "    model = tf.keras.Model(inputs=[d_inputs1, f_inputs1], outputs=outputs)\n",
    "    \n",
    "    return model"
   ]
  },
  {
   "cell_type": "code",
   "execution_count": 3,
   "metadata": {},
   "outputs": [
    {
     "name": "stdout",
     "output_type": "stream",
     "text": [
      "total samples: 16896\n"
     ]
    }
   ],
   "source": [
    "#load dataset\n",
    "data = dataset.load_CYP450()\n",
    "df = data.data"
   ]
  },
  {
   "cell_type": "markdown",
   "metadata": {},
   "source": [
    "# featurizer"
   ]
  },
  {
   "cell_type": "code",
   "execution_count": 4,
   "metadata": {},
   "outputs": [],
   "source": [
    "X1_name =  './X_descriptor.data'\n",
    "X2_name =  './X_fingerprint.data'\n",
    "X_smiles = df.smiles.tolist()\n",
    "\n",
    "if os.path.exists(X1_name):\n",
    "    X1 = load(X1_name)\n",
    "else:\n",
    "    mp1 = loadmap('../descriptor_grid_split.mp')\n",
    "    X1 = mp1.batch_transform(X_smiles, n_jobs = 8)\n",
    "    dump(X1, X1_name)\n",
    "    \n",
    "if os.path.exists(X2_name):\n",
    "    X2 = load(X2_name)\n",
    "else:\n",
    "    mp2 = loadmap('../fingerprint_grid_split.mp')\n",
    "    X2 = mp2.batch_transform(X_smiles, n_jobs = 8)\n",
    "    dump(X2, X2_name)\n",
    "    \n",
    "MASK = -1\n",
    "Y = pd.DataFrame(data.y).fillna(MASK).values"
   ]
  },
  {
   "cell_type": "markdown",
   "metadata": {},
   "source": [
    "# splitting valid set from training set by scaffold"
   ]
  },
  {
   "cell_type": "code",
   "execution_count": 5,
   "metadata": {},
   "outputs": [
    {
     "name": "stderr",
     "output_type": "stream",
     "text": [
      "100%|##########| 16896/16896 [00:04<00:00, 3699.02it/s]\n",
      "100%|##########| 8163/8163 [00:00<00:00, 352559.43it/s]\n"
     ]
    },
    {
     "name": "stdout",
     "output_type": "stream",
     "text": [
      "13392 195 3309\n"
     ]
    }
   ],
   "source": [
    "from rdkit.Chem.Scaffolds.MurckoScaffold import GetScaffoldForMol\n",
    "from rdkit import Chem\n",
    "getSFD = lambda x:Chem.MolToSmiles(GetScaffoldForMol(Chem.MolFromSmiles(x)))\n",
    "\n",
    "df['scaffold'] = df.smiles.progress_apply(getSFD)\n",
    "df_train = df[df['group'] == 'training set'][['scaffold']]\n",
    "def getValidIdx(x):\n",
    "    if (len(x) > 5): # set as valid only if this scaffold group larger than 5\n",
    "        return x.index.tolist()[0]\n",
    "    else:\n",
    "        return \n",
    "valid_idx = df_train.groupby('scaffold').progress_apply(getValidIdx).dropna().astype(int).tolist()\n",
    "train_idx = list(set(df_train.index.tolist()) - set(valid_idx))\n",
    "test_idx = df[df.group == 'test set'].index.tolist()\n",
    "print(len(train_idx), len(valid_idx), len(test_idx))\n",
    "\n",
    "train_df = df.iloc[train_idx]\n",
    "valid_df = df.iloc[valid_idx]\n",
    "test_df = df.iloc[test_idx]\n",
    "\n",
    "train_df.to_csv('./train.csv')\n",
    "valid_df.to_csv('./valid.csv')\n",
    "test_df.to_csv('./test.csv')"
   ]
  },
  {
   "cell_type": "code",
   "execution_count": 6,
   "metadata": {},
   "outputs": [],
   "source": [
    "trainX = (X1[train_idx], X2[train_idx])\n",
    "trainY = Y[train_idx]\n",
    "\n",
    "validX = (X1[valid_idx], X2[valid_idx])\n",
    "validY = Y[valid_idx]\n",
    "\n",
    "testX = (X1[test_idx], X2[test_idx])\n",
    "testY = Y[test_idx]"
   ]
  },
  {
   "cell_type": "code",
   "execution_count": 7,
   "metadata": {},
   "outputs": [
    {
     "data": {
      "text/plain": [
       "array([1.67457821, 2.64418146, 1.25175936, 6.46067416, 1.9529957 ])"
      ]
     },
     "execution_count": 7,
     "metadata": {},
     "output_type": "execute_result"
    }
   ],
   "source": [
    "def get_pos_weights(trainY):\n",
    "    \"\"\"pos_weights: neg_n / pos_n \"\"\"\n",
    "    dfY = pd.DataFrame(trainY)\n",
    "    pos = dfY == 1\n",
    "    pos_n = pos.sum(axis=0)\n",
    "    neg = dfY == 0\n",
    "    neg_n = neg.sum(axis=0)\n",
    "    pos_weights = (neg_n / pos_n).values\n",
    "    neg_weights = (pos_n / neg_n).values\n",
    "    return pos_weights, neg_weights\n",
    "\n",
    "pos_weights, neg_weights = get_pos_weights(Y[train_idx])\n",
    "pos_weights"
   ]
  },
  {
   "cell_type": "code",
   "execution_count": 8,
   "metadata": {},
   "outputs": [
    {
     "name": "stdout",
     "output_type": "stream",
     "text": [
      "WARNING:tensorflow:From /home/shenwanxiang/anaconda3/envs/deepchem/lib/python3.6/site-packages/tensorflow/python/ops/init_ops.py:1251: calling VarianceScaling.__init__ (from tensorflow.python.ops.init_ops) with dtype is deprecated and will be removed in a future version.\n",
      "Instructions for updating:\n",
      "Call initializer instance with the dtype argument instead of passing it to the constructor\n"
     ]
    }
   ],
   "source": [
    "#from model import SinglePathClassificationModel\n",
    "from loss import cross_entropy, weighted_cross_entropy\n",
    "from cbks import ClassificationPerformance, EarlyStoppingAtMinLoss\n",
    "\n",
    "molmap1_size = X1.shape[1:]\n",
    "molmap2_size = X2.shape[1:]\n",
    "loss = lambda y_true, y_pred: weighted_cross_entropy(y_true,y_pred, pos_weights.mean(), MASK)\n",
    "model = DoublePathClassificationModel(molmap1_size,molmap2_size, n_outputs = Y.shape[1])\n",
    "earlystop = EarlyStoppingAtMinLoss(patience=10, criteria = 'val_loss')\n",
    "performace = ClassificationPerformance((trainX, trainY), (validX, validY), MASK)\n",
    "lr = tf.keras.optimizers.Adam(lr=0.0001, beta_1=0.9, beta_2=0.999, epsilon=1e-08, decay=0.0) #\n",
    "model.compile(optimizer = lr, loss = loss)"
   ]
  },
  {
   "cell_type": "code",
   "execution_count": 9,
   "metadata": {},
   "outputs": [
    {
     "data": {
      "text/plain": [
       "808101"
      ]
     },
     "execution_count": 9,
     "metadata": {},
     "output_type": "execute_result"
    }
   ],
   "source": [
    "model.count_params()"
   ]
  },
  {
   "cell_type": "code",
   "execution_count": 10,
   "metadata": {},
   "outputs": [
    {
     "name": "stdout",
     "output_type": "stream",
     "text": [
      "epoch: 0001, loss: 0.8878 - val_loss: 0.7683; auc: 0.7902 - auc_val: 0.8090                                                                                                    \n",
      "epoch: 0002, loss: 0.7674 - val_loss: 0.6909; auc: 0.8307 - auc_val: 0.8542                                                                                                    \n",
      "epoch: 0003, loss: 0.7168 - val_loss: 0.6370; auc: 0.8566 - auc_val: 0.8799                                                                                                    \n",
      "epoch: 0004, loss: 0.6912 - val_loss: 0.6064; auc: 0.8683 - auc_val: 0.8931                                                                                                    \n",
      "epoch: 0005, loss: 0.6762 - val_loss: 0.6050; auc: 0.8758 - auc_val: 0.8996                                                                                                    \n",
      "epoch: 0006, loss: 0.6652 - val_loss: 0.5874; auc: 0.8811 - auc_val: 0.9069                                                                                                    \n",
      "epoch: 0007, loss: 0.6551 - val_loss: 0.5834; auc: 0.8860 - auc_val: 0.9113                                                                                                    \n",
      "epoch: 0008, loss: 0.6482 - val_loss: 0.5708; auc: 0.8898 - auc_val: 0.9172                                                                                                    \n",
      "epoch: 0009, loss: 0.6377 - val_loss: 0.5569; auc: 0.8943 - auc_val: 0.9220                                                                                                    \n",
      "epoch: 0010, loss: 0.6281 - val_loss: 0.5597; auc: 0.8983 - auc_val: 0.9232                                                                                                    \n",
      "epoch: 0011, loss: 0.6251 - val_loss: 0.5594; auc: 0.9003 - auc_val: 0.9240                                                                                                    \n",
      "epoch: 0012, loss: 0.6169 - val_loss: 0.5489; auc: 0.9052 - auc_val: 0.9292                                                                                                    \n",
      "epoch: 0013, loss: 0.6093 - val_loss: 0.5296; auc: 0.9081 - auc_val: 0.9342                                                                                                    \n",
      "epoch: 0014, loss: 0.6028 - val_loss: 0.5452; auc: 0.9113 - auc_val: 0.9333                                                                                                    \n",
      "epoch: 0015, loss: 0.5982 - val_loss: 0.5231; auc: 0.9139 - auc_val: 0.9362                                                                                                    \n",
      "epoch: 0016, loss: 0.5900 - val_loss: 0.5148; auc: 0.9178 - auc_val: 0.9410                                                                                                    \n",
      "epoch: 0017, loss: 0.5876 - val_loss: 0.5163; auc: 0.9203 - auc_val: 0.9399                                                                                                    \n",
      "epoch: 0018, loss: 0.5809 - val_loss: 0.5148; auc: 0.9223 - auc_val: 0.9435                                                                                                    \n",
      "epoch: 0019, loss: 0.5728 - val_loss: 0.5228; auc: 0.9252 - auc_val: 0.9431                                                                                                    \n",
      "epoch: 0020, loss: 0.5673 - val_loss: 0.5089; auc: 0.9281 - auc_val: 0.9451                                                                                                    \n",
      "epoch: 0021, loss: 0.5651 - val_loss: 0.4923; auc: 0.9293 - auc_val: 0.9496                                                                                                    \n",
      "epoch: 0022, loss: 0.5602 - val_loss: 0.4918; auc: 0.9328 - auc_val: 0.9479                                                                                                    \n",
      "epoch: 0023, loss: 0.5516 - val_loss: 0.5045; auc: 0.9352 - auc_val: 0.9487                                                                                                    \n",
      "epoch: 0024, loss: 0.5477 - val_loss: 0.4977; auc: 0.9383 - auc_val: 0.9515                                                                                                    \n",
      "epoch: 0025, loss: 0.5402 - val_loss: 0.4997; auc: 0.9404 - auc_val: 0.9514                                                                                                    \n",
      "epoch: 0026, loss: 0.5327 - val_loss: 0.5108; auc: 0.9425 - auc_val: 0.9504                                                                                                    \n",
      "epoch: 0027, loss: 0.5300 - val_loss: 0.4859; auc: 0.9448 - auc_val: 0.9525                                                                                                    \n",
      "epoch: 0028, loss: 0.5233 - val_loss: 0.5056; auc: 0.9474 - auc_val: 0.9507                                                                                                    \n",
      "epoch: 0029, loss: 0.5152 - val_loss: 0.4997; auc: 0.9503 - auc_val: 0.9545                                                                                                    \n",
      "epoch: 0030, loss: 0.5092 - val_loss: 0.5058; auc: 0.9513 - auc_val: 0.9514                                                                                                    \n",
      "epoch: 0031, loss: 0.5125 - val_loss: 0.4862; auc: 0.9541 - auc_val: 0.9536                                                                                                    \n",
      "epoch: 0032, loss: 0.4982 - val_loss: 0.5101; auc: 0.9553 - auc_val: 0.9484                                                                                                    \n",
      "epoch: 0033, loss: 0.4948 - val_loss: 0.4973; auc: 0.9580 - auc_val: 0.9519                                                                                                    \n",
      "epoch: 0034, loss: 0.4842 - val_loss: 0.4865; auc: 0.9609 - auc_val: 0.9540                                                                                                    \n",
      "epoch: 0035, loss: 0.4765 - val_loss: 0.4895; auc: 0.9617 - auc_val: 0.9535                                                                                                    \n",
      "epoch: 0036, loss: 0.4744 - val_loss: 0.4806; auc: 0.9636 - auc_val: 0.9535                                                                                                    \n",
      "epoch: 0037, loss: 0.4696 - val_loss: 0.4789; auc: 0.9656 - auc_val: 0.9546                                                                                                    \n",
      "epoch: 0038, loss: 0.4650 - val_loss: 0.4986; auc: 0.9682 - auc_val: 0.9533                                                                                                    \n",
      "epoch: 0039, loss: 0.4543 - val_loss: 0.4812; auc: 0.9698 - auc_val: 0.9520                                                                                                    \n",
      "epoch: 0040, loss: 0.4488 - val_loss: 0.4925; auc: 0.9705 - auc_val: 0.9498                                                                                                    \n",
      "epoch: 0041, loss: 0.4437 - val_loss: 0.4826; auc: 0.9722 - auc_val: 0.9526                                                                                                    \n",
      "epoch: 0042, loss: 0.4413 - val_loss: 0.4916; auc: 0.9736 - auc_val: 0.9513                                                                                                    \n",
      "epoch: 0043, loss: 0.4381 - val_loss: 0.5010; auc: 0.9754 - auc_val: 0.9535                                                                                                    \n",
      "epoch: 0044, loss: 0.4249 - val_loss: 0.4944; auc: 0.9773 - auc_val: 0.9528                                                                                                    \n",
      "epoch: 0045, loss: 0.4213 - val_loss: 0.5137; auc: 0.9772 - auc_val: 0.9507                                                                                                    \n",
      "epoch: 0046, loss: 0.4169 - val_loss: 0.4789; auc: 0.9792 - auc_val: 0.9549                                                                                                    \n",
      "epoch: 0047, loss: 0.4112 - val_loss: 0.4865; auc: 0.9809 - auc_val: 0.9547                                                                                                    \n",
      "\n",
      "Restoring model weights from the end of the best epoch.\n",
      "\n",
      "Epoch 00047: early stopping\n"
     ]
    },
    {
     "data": {
      "text/plain": [
       "<tensorflow.python.keras.callbacks.History at 0x7f28e018b780>"
      ]
     },
     "execution_count": 10,
     "metadata": {},
     "output_type": "execute_result"
    }
   ],
   "source": [
    "model.fit(trainX, trainY, batch_size=128, \n",
    "      epochs=500, verbose= 0, shuffle = True, \n",
    "      validation_data = (validX, validY), \n",
    "      callbacks=[performace, earlystop]) "
   ]
  },
  {
   "cell_type": "code",
   "execution_count": 11,
   "metadata": {},
   "outputs": [
    {
     "data": {
      "text/plain": [
       "<matplotlib.axes._subplots.AxesSubplot at 0x7f26a3e30a90>"
      ]
     },
     "execution_count": 11,
     "metadata": {},
     "output_type": "execute_result"
    },
    {
     "data": {
      "image/png": "[encoded data removed]",
      "text/plain": [
       "<Figure size 432x288 with 1 Axes>"
      ]
     },
     "metadata": {
      "needs_background": "light"
     },
     "output_type": "display_data"
    }
   ],
   "source": [
    "pd.DataFrame(performace.history)[['training_loss', 'validation_loss', 'training_auc', 'validation_auc']].plot()"
   ]
  },
  {
   "cell_type": "code",
   "execution_count": 12,
   "metadata": {},
   "outputs": [
    {
     "data": {
      "text/plain": [
       "0.886407752722049"
      ]
     },
     "execution_count": 12,
     "metadata": {},
     "output_type": "execute_result"
    }
   ],
   "source": [
    "np.mean(performace.evaluate(testX, testY))"
   ]
  },
  {
   "cell_type": "code",
   "execution_count": 13,
   "metadata": {},
   "outputs": [],
   "source": [
    "model.save('./model.h5')"
   ]
  },
  {
   "cell_type": "code",
   "execution_count": 14,
   "metadata": {},
   "outputs": [
    {
     "name": "stdout",
     "output_type": "stream",
     "text": [
      "0.9656081541934946 0.9546350758409018 0.886407752722049\n"
     ]
    }
   ],
   "source": [
    "train_auc = np.mean(performace.evaluate(trainX, trainY))\n",
    "valid_auc = np.mean(performace.evaluate(validX, validY))\n",
    "test_auc = np.mean(performace.evaluate(testX, testY))\n",
    "\n",
    "print(train_auc, valid_auc, test_auc)"
   ]
  },
  {
   "cell_type": "code",
   "execution_count": 15,
   "metadata": {},
   "outputs": [
    {
     "data": {
      "text/plain": [
       "[0.9608926204153778,\n",
       " 0.9538461538461538,\n",
       " 0.9427895981087471,\n",
       " 0.9670275590551182,\n",
       " 0.9486194477791117]"
      ]
     },
     "execution_count": 15,
     "metadata": {},
     "output_type": "execute_result"
    }
   ],
   "source": [
    "performace.evaluate(validX, validY)"
   ]
  },
  {
   "cell_type": "code",
   "execution_count": 16,
   "metadata": {},
   "outputs": [
    {
     "data": {
      "text/plain": [
       "[0.977, 0.819, 0.818, 0.895, 0.924]"
      ]
     },
     "execution_count": 16,
     "metadata": {},
     "output_type": "execute_result"
    }
   ],
   "source": [
    "[round(i, 3) for i in performace.evaluate(testX, testY)]"
   ]
  },
  {
   "cell_type": "code",
   "execution_count": 17,
   "metadata": {},
   "outputs": [],
   "source": [
    "dfp = pd.DataFrame(performace.history)[['training_loss', 'validation_loss', 'training_auc', 'validation_auc']]\n",
    "dfp.to_csv('DoublePathModel.csv')"
   ]
  },
  {
   "cell_type": "code",
   "execution_count": 18,
   "metadata": {},
   "outputs": [
    {
     "data": {
      "text/plain": [
       "36"
      ]
     },
     "execution_count": 18,
     "metadata": {},
     "output_type": "execute_result"
    }
   ],
   "source": [
    "earlystop.best_epoch"
   ]
  },
  {
   "cell_type": "code",
   "execution_count": 19,
   "metadata": {},
   "outputs": [
    {
     "data": {
      "text/plain": [
       "[0.961, 0.954, 0.943, 0.967, 0.949]"
      ]
     },
     "execution_count": 19,
     "metadata": {},
     "output_type": "execute_result"
    }
   ],
   "source": [
    "[round(i, 3) for i in performace.evaluate(validX, validY)]"
   ]
  },
  {
   "cell_type": "code",
   "execution_count": null,
   "metadata": {},
   "outputs": [],
   "source": []
  },
  {
   "cell_type": "code",
   "execution_count": null,
   "metadata": {},
   "outputs": [],
   "source": []
  },
  {
   "cell_type": "code",
   "execution_count": null,
   "metadata": {},
   "outputs": [],
   "source": []
  },
  {
   "cell_type": "code",
   "execution_count": null,
   "metadata": {},
   "outputs": [],
   "source": []
  },
  {
   "cell_type": "code",
   "execution_count": null,
   "metadata": {},
   "outputs": [],
   "source": []
  },
  {
   "cell_type": "code",
   "execution_count": null,
   "metadata": {},
   "outputs": [],
   "source": []
  },
  {
   "cell_type": "code",
   "execution_count": null,
   "metadata": {},
   "outputs": [],
   "source": []
  }
 ],
 "metadata": {
  "kernelspec": {
   "display_name": "Python 3",
   "language": "python",
   "name": "python3"
  },
  "language_info": {
   "codemirror_mode": {
    "name": "ipython",
    "version": 3
   },
   "file_extension": ".py",
   "mimetype": "text/x-python",
   "name": "python",
   "nbconvert_exporter": "python",
   "pygments_lexer": "ipython3",
   "version": "3.6.9"
  }
 },
 "nbformat": 4,
 "nbformat_minor": 4
}
