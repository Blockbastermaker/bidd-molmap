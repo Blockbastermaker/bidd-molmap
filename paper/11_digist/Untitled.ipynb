{
 "cells": [
  {
   "cell_type": "code",
   "execution_count": 1,
   "metadata": {},
   "outputs": [
    {
     "name": "stderr",
     "output_type": "stream",
     "text": [
      "RDKit WARNING: [20:06:54] Enabling RDKit 2019.09.2 jupyter extensions\n"
     ]
    }
   ],
   "source": [
    "from sklearn.datasets import load_digits\n",
    "import matplotlib.pyplot as plt\n",
    "from molmap import AggMap\n",
    "import pandas as pd\n",
    "import numpy as np\n",
    "\n",
    "from molmap.utils.matrixopt import smartpadding, conv2"
   ]
  },
  {
   "cell_type": "code",
   "execution_count": 2,
   "metadata": {},
   "outputs": [],
   "source": [
    "data = load_digits(n_class = 3)"
   ]
  },
  {
   "cell_type": "code",
   "execution_count": 3,
   "metadata": {},
   "outputs": [],
   "source": [
    "X = data.data"
   ]
  },
  {
   "cell_type": "code",
   "execution_count": 4,
   "metadata": {},
   "outputs": [],
   "source": [
    "from sklearn.utils import shuffle\n",
    "idx = range(X.shape[1])\n",
    "idx = shuffle(idx, random_state = 0)"
   ]
  },
  {
   "cell_type": "code",
   "execution_count": 5,
   "metadata": {},
   "outputs": [
    {
     "data": {
      "text/plain": [
       "<matplotlib.image.AxesImage at 0x7fb2ef072cf8>"
      ]
     },
     "execution_count": 5,
     "metadata": {},
     "output_type": "execute_result"
    },
    {
     "data": {
      "image/png": "[encoded data removed]",
      "text/plain": [
       "<Figure size 432x288 with 1 Axes>"
      ]
     },
     "metadata": {
      "needs_background": "light"
     },
     "output_type": "display_data"
    }
   ],
   "source": [
    "shuffled_X = X.T[idx].T\n",
    "plt.imshow(shuffled_X[0].reshape(8,8))"
   ]
  },
  {
   "cell_type": "code",
   "execution_count": null,
   "metadata": {},
   "outputs": [],
   "source": []
  },
  {
   "cell_type": "code",
   "execution_count": 6,
   "metadata": {},
   "outputs": [],
   "source": [
    "dfx = pd.DataFrame(shuffled_X)"
   ]
  },
  {
   "cell_type": "code",
   "execution_count": 7,
   "metadata": {},
   "outputs": [
    {
     "name": "stdout",
     "output_type": "stream",
     "text": [
      "2020-09-08 20:06:56,603 - \u001b[32mINFO\u001b[0m - [bidd-molmap]\u001b[0m - Calculating distance ...\u001b[0m\n",
      "2020-09-08 20:06:56,604 - \u001b[32mINFO\u001b[0m - [bidd-molmap]\u001b[0m - the number of process is 16\u001b[0m\n"
     ]
    },
    {
     "name": "stderr",
     "output_type": "stream",
     "text": [
      "100%|##########| 2016/2016 [00:00<00:00, 3444.22it/s]\n",
      "100%|##########| 2016/2016 [00:00<00:00, 2113929.22it/s]\n",
      "100%|##########| 64/64 [00:00<00:00, 1240.59it/s]\n"
     ]
    }
   ],
   "source": [
    "mp = AggMap(dfx, \"correlation\")"
   ]
  },
  {
   "cell_type": "code",
   "execution_count": 8,
   "metadata": {},
   "outputs": [
    {
     "name": "stdout",
     "output_type": "stream",
     "text": [
      "2020-09-08 20:07:00,121 - \u001b[32mINFO\u001b[0m - [bidd-molmap]\u001b[0m - applying hierarchical clustering to obtain group information ...\u001b[0m\n",
      "UMAP(metric='precomputed', random_state=32, verbose=2)\n",
      "Construct fuzzy simplicial set\n",
      "Tue Sep  8 20:07:00 2020 Finding Nearest Neighbors\n",
      "Tue Sep  8 20:07:00 2020 Finished Nearest Neighbor Search\n",
      "Tue Sep  8 20:07:01 2020 Construct embedding\n",
      "\tcompleted  0  /  500 epochs\n",
      "\tcompleted  50  /  500 epochs\n",
      "\tcompleted  100  /  500 epochs\n",
      "\tcompleted  150  /  500 epochs\n",
      "\tcompleted  200  /  500 epochs\n",
      "\tcompleted  250  /  500 epochs\n",
      "\tcompleted  300  /  500 epochs\n",
      "\tcompleted  350  /  500 epochs\n",
      "\tcompleted  400  /  500 epochs\n",
      "\tcompleted  450  /  500 epochs\n",
      "Tue Sep  8 20:07:02 2020 Finished embedding\n",
      "2020-09-08 20:07:02,604 - \u001b[32mINFO\u001b[0m - [bidd-molmap]\u001b[0m - Applying grid feature map(assignment), this may take several minutes(1~30 min)\u001b[0m\n",
      "2020-09-08 20:07:02,610 - \u001b[32mINFO\u001b[0m - [bidd-molmap]\u001b[0m - Finished\u001b[0m\n"
     ]
    },
    {
     "data": {
      "text/plain": [
       "<molmap.map2.AggMap at 0x7fb2eee6a6d8>"
      ]
     },
     "execution_count": 8,
     "metadata": {},
     "output_type": "execute_result"
    }
   ],
   "source": [
    "mp.fit(cluster_channels = 1, var_thr = 0, fmap_shape = (10,10))"
   ]
  },
  {
   "cell_type": "code",
   "execution_count": 13,
   "metadata": {},
   "outputs": [
    {
     "name": "stderr",
     "output_type": "stream",
     "text": [
      "100%|##########| 537/537 [00:02<00:00, 188.09it/s]\n"
     ]
    }
   ],
   "source": [
    "new_X = mp.batch_transform(shuffled_X,scale=False)"
   ]
  },
  {
   "cell_type": "code",
   "execution_count": 16,
   "metadata": {},
   "outputs": [
    {
     "data": {
      "text/plain": [
       "<matplotlib.image.AxesImage at 0x7fb2ef6afcc0>"
      ]
     },
     "execution_count": 16,
     "metadata": {},
     "output_type": "execute_result"
    },
    {
     "data": {
      "image/png": "[encoded data removed]",
      "text/plain": [
       "<Figure size 432x288 with 1 Axes>"
      ]
     },
     "metadata": {
      "needs_background": "light"
     },
     "output_type": "display_data"
    }
   ],
   "source": [
    "plt.imshow(new_X[3].reshape(10,10))"
   ]
  },
  {
   "cell_type": "code",
   "execution_count": 45,
   "metadata": {},
   "outputs": [
    {
     "name": "stdout",
     "output_type": "stream",
     "text": [
      "2020-09-08 19:32:05,198 - \u001b[32mINFO\u001b[0m - [bidd-molmap]\u001b[0m - generate file: ./feature points_56_correlation_umap_scatter\u001b[0m\n",
      "2020-09-08 19:32:05,210 - \u001b[32mINFO\u001b[0m - [bidd-molmap]\u001b[0m - save html file to ./feature points_56_correlation_umap_scatter\u001b[0m\n"
     ]
    },
    {
     "data": {
      "text/html": [
       "<iframe style=\"border:0;outline:none;overflow:hidden\" srcdoc=\"&lt;!DOCTYPE html&gt; &lt;html lang=&quot;en&quot;&gt; &lt;head&gt; &lt;meta charset=&quot;utf-8&quot; /&gt; &lt;link href=&quot;https://www.highcharts.com/highslide/highslide.css&quot; rel=&quot;stylesheet&quot; /&gt; &lt;script type=&quot;text/javascript&quot; src=&quot;https://ajax.googleapis.com/ajax/libs/jquery/1.9.1/jquery.min.js&quot;&gt;&lt;/script&gt; &lt;script type=&quot;text/javascript&quot; src=&quot;https://code.highcharts.com/6/highcharts.js&quot;&gt;&lt;/script&gt; &lt;script type=&quot;text/javascript&quot; src=&quot;https://code.highcharts.com/6/highcharts-more.js&quot;&gt;&lt;/script&gt; &lt;script type=&quot;text/javascript&quot; src=&quot;https://code.highcharts.com/6/modules/heatmap.js&quot;&gt;&lt;/script&gt; &lt;script type=&quot;text/javascript&quot; src=&quot;https://code.highcharts.com/6/modules/exporting.js&quot;&gt;&lt;/script&gt; &lt;/head&gt; &lt;body style=&quot;margin:0;padding:0&quot;&gt; &lt;div id=&quot;container&quot; style=&quot;width:1000px;height:850px;&quot;&gt;Loading....&lt;/div&gt; &lt;script&gt; $(function(){ Highcharts.setOptions({&quot;global&quot;: {}, &quot;lang&quot;: {}}); var option = {&quot;chart&quot;: {&quot;renderTo&quot;: &quot;container&quot;, &quot;width&quot;: 1000, &quot;height&quot;: 850, &quot;type&quot;: &quot;scatter&quot;, &quot;zoomType&quot;: &quot;xy&quot;}, &quot;colors&quot;: {}, &quot;credits&quot;: {&quot;enabled&quot;: false}, &quot;drilldown&quot;: {}, &quot;exporting&quot;: {}, &quot;labels&quot;: {}, &quot;legend&quot;: {&quot;align&quot;: &quot;right&quot;, &quot;layout&quot;: &quot;vertical&quot;, &quot;margin&quot;: 1, &quot;verticalAlign&quot;: &quot;top&quot;, &quot;y&quot;: 40, &quot;symbolHeight&quot;: 12, &quot;floating&quot;: false}, &quot;loading&quot;: {}, &quot;navigation&quot;: {}, &quot;pane&quot;: {}, &quot;plotOptions&quot;: {&quot;scatter&quot;: {&quot;marker&quot;: {&quot;radius&quot;: 2, &quot;states&quot;: {&quot;hover&quot;: {&quot;enabled&quot;: true, &quot;lineColor&quot;: &quot;rgb(100,100,100)&quot;}}}, &quot;states&quot;: {&quot;hover&quot;: {&quot;marker&quot;: {&quot;enabled&quot;: false}}}, &quot;tooltip&quot;: {&quot;headerFormat&quot;: &quot;&lt;b&gt;{series.name}&lt;/b&gt;&lt;br&gt;&quot;, &quot;pointFormat&quot;: &quot;{point.IDs}&quot;}}, &quot;series&quot;: {&quot;turboThreshold&quot;: 5000, &quot;dataLabels&quot;: {&quot;enabled&quot;: false, &quot;format&quot;: &quot;{point.IDs}&quot;}}}, &quot;series&quot;: {}, &quot;subtitle&quot;: {&quot;text&quot;: &quot;number of feature points: 56, metric method: correlation&quot;}, &quot;title&quot;: {&quot;text&quot;: &quot;2D emmbedding of feature points based on umap method&quot;}, &quot;tooltip&quot;: {}, &quot;xAxis&quot;: {&quot;title&quot;: {&quot;enabled&quot;: true, &quot;text&quot;: &quot;X&quot;, &quot;style&quot;: {&quot;fontSize&quot;: 20}}, &quot;labels&quot;: {&quot;style&quot;: {&quot;fontSize&quot;: 20}}, &quot;gridLineWidth&quot;: 1, &quot;startOnTick&quot;: true, &quot;endOnTick&quot;: true, &quot;showLastLabel&quot;: true}, &quot;yAxis&quot;: {&quot;title&quot;: {&quot;text&quot;: &quot;Y&quot;, &quot;style&quot;: {&quot;fontSize&quot;: 20}}, &quot;labels&quot;: {&quot;style&quot;: {&quot;fontSize&quot;: 20}}, &quot;gridLineWidth&quot;: 1}}; var chart = new Highcharts.Chart(option); var data = [{&quot;data&quot;: [{&quot;x&quot;: -1.5501487255096436, &quot;y&quot;: 3.1654086112976074, &quot;IDs&quot;: 0, &quot;Subtypes&quot;: &quot;cluster_01&quot;, &quot;colors&quot;: &quot;#00fff6&quot;}, {&quot;x&quot;: -2.238807439804077, &quot;y&quot;: 3.029628038406372, &quot;IDs&quot;: 1, &quot;Subtypes&quot;: &quot;cluster_01&quot;, &quot;colors&quot;: &quot;#00fff6&quot;}, {&quot;x&quot;: -0.15579082071781158, &quot;y&quot;: 7.001039505004883, &quot;IDs&quot;: 2, &quot;Subtypes&quot;: &quot;cluster_01&quot;, &quot;colors&quot;: &quot;#00fff6&quot;}, {&quot;x&quot;: -2.7073373794555664, &quot;y&quot;: 7.733285903930664, &quot;IDs&quot;: 3, &quot;Subtypes&quot;: &quot;cluster_01&quot;, &quot;colors&quot;: &quot;#00fff6&quot;}, {&quot;x&quot;: -0.2637600898742676, &quot;y&quot;: 3.0969161987304688, &quot;IDs&quot;: 4, &quot;Subtypes&quot;: &quot;cluster_01&quot;, &quot;colors&quot;: &quot;#00fff6&quot;}, {&quot;x&quot;: -0.7738397717475891, &quot;y&quot;: 3.463883876800537, &quot;IDs&quot;: 5, &quot;Subtypes&quot;: &quot;cluster_01&quot;, &quot;colors&quot;: &quot;#00fff6&quot;}, {&quot;x&quot;: -0.5782850980758667, &quot;y&quot;: 3.9469153881073, &quot;IDs&quot;: 8, &quot;Subtypes&quot;: &quot;cluster_01&quot;, &quot;colors&quot;: &quot;#00fff6&quot;}, {&quot;x&quot;: -2.589374542236328, &quot;y&quot;: 7.443113803863525, &quot;IDs&quot;: 9, &quot;Subtypes&quot;: &quot;cluster_01&quot;, &quot;colors&quot;: &quot;#00fff6&quot;}, {&quot;x&quot;: -1.4299336671829224, &quot;y&quot;: 2.687570810317993, &quot;IDs&quot;: 10, &quot;Subtypes&quot;: &quot;cluster_01&quot;, &quot;colors&quot;: &quot;#00fff6&quot;}, {&quot;x&quot;: -2.0292327404022217, &quot;y&quot;: 6.614716053009033, &quot;IDs&quot;: 11, &quot;Subtypes&quot;: &quot;cluster_01&quot;, &quot;colors&quot;: &quot;#00fff6&quot;}, {&quot;x&quot;: -1.042297124862671, &quot;y&quot;: 6.814276695251465, &quot;IDs&quot;: 12, &quot;Subtypes&quot;: &quot;cluster_01&quot;, &quot;colors&quot;: &quot;#00fff6&quot;}, {&quot;x&quot;: 0.4916832447052002, &quot;y&quot;: 7.936013221740723, &quot;IDs&quot;: 13, &quot;Subtypes&quot;: &quot;cluster_01&quot;, &quot;colors&quot;: &quot;#00fff6&quot;}, {&quot;x&quot;: -2.633272409439087, &quot;y&quot;: 7.248532772064209, &quot;IDs&quot;: 14, &quot;Subtypes&quot;: &quot;cluster_01&quot;, &quot;colors&quot;: &quot;#00fff6&quot;}, {&quot;x&quot;: -2.4111785888671875, &quot;y&quot;: 3.6119282245635986, &quot;IDs&quot;: 15, &quot;Subtypes&quot;: &quot;cluster_01&quot;, &quot;colors&quot;: &quot;#00fff6&quot;}, {&quot;x&quot;: -1.5893504619598389, &quot;y&quot;: 6.096953392028809, &quot;IDs&quot;: 16, &quot;Subtypes&quot;: &quot;cluster_01&quot;, &quot;colors&quot;: &quot;#00fff6&quot;}, {&quot;x&quot;: 0.4431716799736023, &quot;y&quot;: 7.450711250305176, &quot;IDs&quot;: 17, &quot;Subtypes&quot;: &quot;cluster_01&quot;, &quot;colors&quot;: &quot;#00fff6&quot;}, {&quot;x&quot;: -0.2503718435764313, &quot;y&quot;: 7.710076332092285, &quot;IDs&quot;: 18, &quot;Subtypes&quot;: &quot;cluster_01&quot;, &quot;colors&quot;: &quot;#00fff6&quot;}, {&quot;x&quot;: -0.9942259192466736, &quot;y&quot;: 3.355660915374756, &quot;IDs&quot;: 19, &quot;Subtypes&quot;: &quot;cluster_01&quot;, &quot;colors&quot;: &quot;#00fff6&quot;}, {&quot;x&quot;: -0.9282041192054749, &quot;y&quot;: 2.6747586727142334, &quot;IDs&quot;: 20, &quot;Subtypes&quot;: &quot;cluster_01&quot;, &quot;colors&quot;: &quot;#00fff6&quot;}, {&quot;x&quot;: -2.3583168983459473, &quot;y&quot;: 2.575049877166748, &quot;IDs&quot;: 22, &quot;Subtypes&quot;: &quot;cluster_01&quot;, &quot;colors&quot;: &quot;#00fff6&quot;}, {&quot;x&quot;: 0.7317534685134888, &quot;y&quot;: 7.315118789672852, &quot;IDs&quot;: 23, &quot;Subtypes&quot;: &quot;cluster_01&quot;, &quot;colors&quot;: &quot;#00fff6&quot;}, {&quot;x&quot;: -2.283337354660034, &quot;y&quot;: 7.690988540649414, &quot;IDs&quot;: 24, &quot;Subtypes&quot;: &quot;cluster_01&quot;, &quot;colors&quot;: &quot;#00fff6&quot;}, {&quot;x&quot;: -1.9502190351486206, &quot;y&quot;: 7.906680583953857, &quot;IDs&quot;: 25, &quot;Subtypes&quot;: &quot;cluster_01&quot;, &quot;colors&quot;: &quot;#00fff6&quot;}, {&quot;x&quot;: -0.6626058220863342, &quot;y&quot;: 2.935397148132324, &quot;IDs&quot;: 26, &quot;Subtypes&quot;: &quot;cluster_01&quot;, &quot;colors&quot;: &quot;#00fff6&quot;}, {&quot;x&quot;: -0.37887951731681824, &quot;y&quot;: 3.4188246726989746, &quot;IDs&quot;: 27, &quot;Subtypes&quot;: &quot;cluster_01&quot;, &quot;colors&quot;: &quot;#00fff6&quot;}, {&quot;x&quot;: -2.177180290222168, &quot;y&quot;: 6.363624095916748, &quot;IDs&quot;: 28, &quot;Subtypes&quot;: &quot;cluster_01&quot;, &quot;colors&quot;: &quot;#00fff6&quot;}, {&quot;x&quot;: -0.8532437682151794, &quot;y&quot;: 4.069204807281494, &quot;IDs&quot;: 29, &quot;Subtypes&quot;: &quot;cluster_01&quot;, &quot;colors&quot;: &quot;#00fff6&quot;}, {&quot;x&quot;: -1.8746336698532104, &quot;y&quot;: 7.234070301055908, &quot;IDs&quot;: 30, &quot;Subtypes&quot;: &quot;cluster_01&quot;, &quot;colors&quot;: &quot;#00fff6&quot;}, {&quot;x&quot;: -2.8386483192443848, &quot;y&quot;: 3.0121283531188965, &quot;IDs&quot;: 33, &quot;Subtypes&quot;: &quot;cluster_01&quot;, &quot;colors&quot;: &quot;#00fff6&quot;}, {&quot;x&quot;: -0.6325764656066895, &quot;y&quot;: 6.040372371673584, &quot;IDs&quot;: 34, &quot;Subtypes&quot;: &quot;cluster_01&quot;, &quot;colors&quot;: &quot;#00fff6&quot;}, {&quot;x&quot;: 0.28386855125427246, &quot;y&quot;: 7.701900482177734, &quot;IDs&quot;: 35, &quot;Subtypes&quot;: &quot;cluster_01&quot;, &quot;colors&quot;: &quot;#00fff6&quot;}, {&quot;x&quot;: -2.8836870193481445, &quot;y&quot;: 5.225625038146973, &quot;IDs&quot;: 36, &quot;Subtypes&quot;: &quot;cluster_01&quot;, &quot;colors&quot;: &quot;#00fff6&quot;}, {&quot;x&quot;: -2.7986066341400146, &quot;y&quot;: 6.750301361083984, &quot;IDs&quot;: 37, &quot;Subtypes&quot;: &quot;cluster_01&quot;, &quot;colors&quot;: &quot;#00fff6&quot;}, {&quot;x&quot;: -2.4854736328125, &quot;y&quot;: 3.2113006114959717, &quot;IDs&quot;: 38, &quot;Subtypes&quot;: &quot;cluster_01&quot;, &quot;colors&quot;: &quot;#00fff6&quot;}, {&quot;x&quot;: -1.0399911403656006, &quot;y&quot;: 3.8825583457946777, &quot;IDs&quot;: 39, &quot;Subtypes&quot;: &quot;cluster_01&quot;, &quot;colors&quot;: &quot;#00fff6&quot;}, {&quot;x&quot;: -1.9339197874069214, &quot;y&quot;: 2.9205198287963867, &quot;IDs&quot;: 40, &quot;Subtypes&quot;: &quot;cluster_01&quot;, &quot;colors&quot;: &quot;#00fff6&quot;}, {&quot;x&quot;: -1.8702996969223022, &quot;y&quot;: 6.019245147705078, &quot;IDs&quot;: 41, &quot;Subtypes&quot;: &quot;cluster_01&quot;, &quot;colors&quot;: &quot;#00fff6&quot;}, {&quot;x&quot;: -2.7686543464660645, &quot;y&quot;: 5.338350296020508, &quot;IDs&quot;: 42, &quot;Subtypes&quot;: &quot;cluster_01&quot;, &quot;colors&quot;: &quot;#00fff6&quot;}, {&quot;x&quot;: -0.7736124396324158, &quot;y&quot;: 6.996642112731934, &quot;IDs&quot;: 43, &quot;Subtypes&quot;: &quot;cluster_01&quot;, &quot;colors&quot;: &quot;#00fff6&quot;}, {&quot;x&quot;: -2.6871023178100586, &quot;y&quot;: 6.076547622680664, &quot;IDs&quot;: 44, &quot;Subtypes&quot;: &quot;cluster_01&quot;, &quot;colors&quot;: &quot;#00fff6&quot;}, {&quot;x&quot;: -0.9618162512779236, &quot;y&quot;: 3.035533905029297, &quot;IDs&quot;: 45, &quot;Subtypes&quot;: &quot;cluster_01&quot;, &quot;colors&quot;: &quot;#00fff6&quot;}, {&quot;x&quot;: -2.448415756225586, &quot;y&quot;: 6.413221836090088, &quot;IDs&quot;: 46, &quot;Subtypes&quot;: &quot;cluster_01&quot;, &quot;colors&quot;: &quot;#00fff6&quot;}, {&quot;x&quot;: -0.0008580869762226939, &quot;y&quot;: 7.476327419281006, &quot;IDs&quot;: 47, &quot;Subtypes&quot;: &quot;cluster_01&quot;, &quot;colors&quot;: &quot;#00fff6&quot;}, {&quot;x&quot;: -2.5650224685668945, &quot;y&quot;: 5.652670383453369, &quot;IDs&quot;: 48, &quot;Subtypes&quot;: &quot;cluster_01&quot;, &quot;colors&quot;: &quot;#00fff6&quot;}, {&quot;x&quot;: -0.6598066091537476, &quot;y&quot;: 6.010936260223389, &quot;IDs&quot;: 49, &quot;Subtypes&quot;: &quot;cluster_01&quot;, &quot;colors&quot;: &quot;#00fff6&quot;}, {&quot;x&quot;: -2.6647861003875732, &quot;y&quot;: 2.7291247844696045, &quot;IDs&quot;: 50, &quot;Subtypes&quot;: &quot;cluster_01&quot;, &quot;colors&quot;: &quot;#00fff6&quot;}, {&quot;x&quot;: -0.11642593145370483, &quot;y&quot;: 7.911588668823242, &quot;IDs&quot;: 52, &quot;Subtypes&quot;: &quot;cluster_01&quot;, &quot;colors&quot;: &quot;#00fff6&quot;}, {&quot;x&quot;: -1.883169174194336, &quot;y&quot;: 5.564517974853516, &quot;IDs&quot;: 53, &quot;Subtypes&quot;: &quot;cluster_01&quot;, &quot;colors&quot;: &quot;#00fff6&quot;}, {&quot;x&quot;: -2.034852981567383, &quot;y&quot;: 3.3470547199249268, &quot;IDs&quot;: 54, &quot;Subtypes&quot;: &quot;cluster_01&quot;, &quot;colors&quot;: &quot;#00fff6&quot;}, {&quot;x&quot;: 0.3539864122867584, &quot;y&quot;: 7.083521842956543, &quot;IDs&quot;: 55, &quot;Subtypes&quot;: &quot;cluster_01&quot;, &quot;colors&quot;: &quot;#00fff6&quot;}, {&quot;x&quot;: -2.5051462650299072, &quot;y&quot;: 6.658350944519043, &quot;IDs&quot;: 56, &quot;Subtypes&quot;: &quot;cluster_01&quot;, &quot;colors&quot;: &quot;#00fff6&quot;}, {&quot;x&quot;: -1.6471213102340698, &quot;y&quot;: 6.7432026863098145, &quot;IDs&quot;: 58, &quot;Subtypes&quot;: &quot;cluster_01&quot;, &quot;colors&quot;: &quot;#00fff6&quot;}, {&quot;x&quot;: -1.44588303565979, &quot;y&quot;: 6.5225701332092285, &quot;IDs&quot;: 59, &quot;Subtypes&quot;: &quot;cluster_01&quot;, &quot;colors&quot;: &quot;#00fff6&quot;}, {&quot;x&quot;: -1.4628424644470215, &quot;y&quot;: 3.419405937194824, &quot;IDs&quot;: 61, &quot;Subtypes&quot;: &quot;cluster_01&quot;, &quot;colors&quot;: &quot;#00fff6&quot;}, {&quot;x&quot;: -1.516830563545227, &quot;y&quot;: 7.776573181152344, &quot;IDs&quot;: 62, &quot;Subtypes&quot;: &quot;cluster_01&quot;, &quot;colors&quot;: &quot;#00fff6&quot;}, {&quot;x&quot;: 0.013201403431594372, &quot;y&quot;: 8.060114860534668, &quot;IDs&quot;: 63, &quot;Subtypes&quot;: &quot;cluster_01&quot;, &quot;colors&quot;: &quot;#00fff6&quot;}], &quot;type&quot;: &quot;scatter&quot;, &quot;color&quot;: &quot;#00fff6&quot;, &quot;name&quot;: &quot;cluster_01&quot;}]; var dataLen = data.length; for (var ix = 0; ix &lt; dataLen; ix++) { chart.addSeries(data[ix]); } }); &lt;/script&gt; &lt;/body&gt; &lt;/html&gt;\" height=850 width=1000></iframe>"
      ],
      "text/plain": [
       "<highcharts.highcharts.highcharts.Highchart at 0x7f02eb5b9b38>"
      ]
     },
     "execution_count": 45,
     "metadata": {},
     "output_type": "execute_result"
    }
   ],
   "source": [
    "mp.plot_scatter()"
   ]
  },
  {
   "cell_type": "code",
   "execution_count": 46,
   "metadata": {},
   "outputs": [
    {
     "data": {
      "text/plain": [
       "(537, 8, 7, 1)"
      ]
     },
     "execution_count": 46,
     "metadata": {},
     "output_type": "execute_result"
    }
   ],
   "source": [
    "new_X.shape"
   ]
  },
  {
   "cell_type": "code",
   "execution_count": null,
   "metadata": {},
   "outputs": [],
   "source": []
  },
  {
   "cell_type": "code",
   "execution_count": null,
   "metadata": {},
   "outputs": [],
   "source": []
  }
 ],
 "metadata": {
  "kernelspec": {
   "display_name": "Python 3",
   "language": "python",
   "name": "python3"
  },
  "language_info": {
   "codemirror_mode": {
    "name": "ipython",
    "version": 3
   },
   "file_extension": ".py",
   "mimetype": "text/x-python",
   "name": "python",
   "nbconvert_exporter": "python",
   "pygments_lexer": "ipython3",
   "version": "3.6.10"
  }
 },
 "nbformat": 4,
 "nbformat_minor": 4
}
