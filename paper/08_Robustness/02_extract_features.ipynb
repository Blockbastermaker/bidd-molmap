{
 "cells": [
  {
   "cell_type": "code",
   "execution_count": 11,
   "metadata": {},
   "outputs": [],
   "source": [
    "import numpy as np\n",
    "import pandas as pd\n",
    "from tqdm import tqdm\n",
    "from rdkit import Chem\n",
    "import seaborn as sns\n",
    "\n",
    "import tmap, os\n",
    "\n",
    "\n",
    "from molmap import loadmap, dataset\n",
    "from molmap.show import imshow_wrap\n",
    "\n",
    "from sklearn.utils import shuffle \n",
    "from joblib import load, dump\n",
    "import numpy as np\n",
    "import pandas as pd\n",
    "import os\n",
    "from sklearn.model_selection import KFold\n",
    "\n",
    "import matplotlib.pyplot as plt\n",
    "%matplotlib inline\n",
    "tqdm.pandas(ascii=True)\n",
    "np.random.seed(123)\n",
    "\n"
   ]
  },
  {
   "cell_type": "code",
   "execution_count": 9,
   "metadata": {
    "collapsed": true,
    "jupyter": {
     "outputs_hidden": true
    }
   },
   "outputs": [
    {
     "name": "stdout",
     "output_type": "stream",
     "text": [
      "total samples: 1128\n",
      "total samples: 4200\n",
      "total samples: 9999\n"
     ]
    },
    {
     "name": "stderr",
     "output_type": "stream",
     "text": [
      "RDKit WARNING: [19:24:51] WARNING: not removing hydrogen atom without neighbors\n",
      "RDKit WARNING: [19:24:51] WARNING: not removing hydrogen atom without neighbors\n"
     ]
    },
    {
     "name": "stdout",
     "output_type": "stream",
     "text": [
      "total samples: 41127\n",
      "total samples: 1513\n"
     ]
    },
    {
     "name": "stderr",
     "output_type": "stream",
     "text": [
      "RDKit ERROR: [19:24:54] Explicit valence for atom # 1 N, 4, is greater than permitted\n",
      "RDKit WARNING: [19:24:54] WARNING: not removing hydrogen atom without neighbors\n",
      "RDKit ERROR: [19:24:54] Explicit valence for atom # 6 N, 4, is greater than permitted\n",
      "RDKit WARNING: [19:24:54] WARNING: not removing hydrogen atom without neighbors\n",
      "RDKit WARNING: [19:24:54] WARNING: not removing hydrogen atom without neighbors\n",
      "RDKit WARNING: [19:24:54] WARNING: not removing hydrogen atom without neighbors\n",
      "RDKit WARNING: [19:24:54] WARNING: not removing hydrogen atom without neighbors\n",
      "RDKit WARNING: [19:24:54] WARNING: not removing hydrogen atom without neighbors\n",
      "RDKit WARNING: [19:24:54] WARNING: not removing hydrogen atom without neighbors\n",
      "RDKit ERROR: [19:24:54] Explicit valence for atom # 6 N, 4, is greater than permitted\n",
      "RDKit WARNING: [19:24:54] WARNING: not removing hydrogen atom without neighbors\n",
      "RDKit WARNING: [19:24:54] WARNING: not removing hydrogen atom without neighbors\n",
      "RDKit WARNING: [19:24:54] WARNING: not removing hydrogen atom without neighbors\n",
      "RDKit WARNING: [19:24:54] WARNING: not removing hydrogen atom without neighbors\n",
      "RDKit ERROR: [19:24:54] Explicit valence for atom # 11 N, 4, is greater than permitted\n",
      "RDKit ERROR: [19:24:54] Explicit valence for atom # 12 N, 4, is greater than permitted\n",
      "RDKit ERROR: [19:24:54] Explicit valence for atom # 5 N, 4, is greater than permitted\n",
      "RDKit ERROR: [19:24:54] Explicit valence for atom # 5 N, 4, is greater than permitted\n",
      "RDKit ERROR: [19:24:54] Explicit valence for atom # 5 N, 4, is greater than permitted\n",
      "RDKit ERROR: [19:24:54] Explicit valence for atom # 5 N, 4, is greater than permitted\n",
      "RDKit ERROR: [19:24:54] Explicit valence for atom # 5 N, 4, is greater than permitted\n",
      "RDKit WARNING: [19:24:54] WARNING: not removing hydrogen atom without neighbors\n",
      "RDKit WARNING: [19:24:54] WARNING: not removing hydrogen atom without neighbors\n",
      "RDKit ERROR: [19:24:54] Explicit valence for atom # 5 N, 4, is greater than permitted\n",
      "RDKit WARNING: [19:24:54] WARNING: not removing hydrogen atom without neighbors\n",
      "RDKit WARNING: [19:24:54] WARNING: not removing hydrogen atom without neighbors\n",
      "RDKit WARNING: [19:24:54] WARNING: not removing hydrogen atom without neighbors\n",
      "RDKit WARNING: [19:24:54] WARNING: not removing hydrogen atom without neighbors\n",
      "RDKit WARNING: [19:24:54] WARNING: not removing hydrogen atom without neighbors\n",
      "RDKit WARNING: [19:24:54] WARNING: not removing hydrogen atom without neighbors\n",
      "RDKit WARNING: [19:24:55] WARNING: not removing hydrogen atom without neighbors\n",
      "RDKit WARNING: [19:24:55] WARNING: not removing hydrogen atom without neighbors\n",
      "RDKit WARNING: [19:24:55] WARNING: not removing hydrogen atom without neighbors\n",
      "RDKit WARNING: [19:24:55] WARNING: not removing hydrogen atom without neighbors\n",
      "RDKit WARNING: [19:24:55] WARNING: not removing hydrogen atom without neighbors\n",
      "RDKit WARNING: [19:24:55] WARNING: not removing hydrogen atom without neighbors\n",
      "RDKit WARNING: [19:24:55] WARNING: not removing hydrogen atom without neighbors\n",
      "RDKit WARNING: [19:24:55] WARNING: not removing hydrogen atom without neighbors\n",
      "RDKit WARNING: [19:24:55] WARNING: not removing hydrogen atom without neighbors\n",
      "RDKit WARNING: [19:24:55] WARNING: not removing hydrogen atom without neighbors\n",
      "RDKit WARNING: [19:24:55] WARNING: not removing hydrogen atom without neighbors\n",
      "RDKit WARNING: [19:24:55] WARNING: not removing hydrogen atom without neighbors\n",
      "RDKit WARNING: [19:24:55] WARNING: not removing hydrogen atom without neighbors\n",
      "RDKit WARNING: [19:24:55] WARNING: not removing hydrogen atom without neighbors\n",
      "RDKit WARNING: [19:24:55] WARNING: not removing hydrogen atom without neighbors\n",
      "RDKit WARNING: [19:24:55] WARNING: not removing hydrogen atom without neighbors\n",
      "RDKit WARNING: [19:24:55] WARNING: not removing hydrogen atom without neighbors\n",
      "RDKit WARNING: [19:24:55] WARNING: not removing hydrogen atom without neighbors\n",
      "RDKit WARNING: [19:24:55] WARNING: not removing hydrogen atom without neighbors\n",
      "RDKit WARNING: [19:24:55] WARNING: not removing hydrogen atom without neighbors\n"
     ]
    },
    {
     "name": "stdout",
     "output_type": "stream",
     "text": [
      "11 invalid smiles are removed\n",
      "total samples: 2039\n"
     ]
    },
    {
     "name": "stderr",
     "output_type": "stream",
     "text": [
      "RDKit WARNING: [19:24:55] WARNING: not removing hydrogen atom without neighbors\n"
     ]
    }
   ],
   "source": [
    "esol = dataset.load_ESOL(True)\n",
    "lipop = dataset.load_Lipop(True)\n",
    "malaria = dataset.load_malaria(True)\n",
    "hiv = dataset.load_HIV(True)\n",
    "bace = dataset.load_BACE(True)\n",
    "bbbp = dataset.load_BBBP(True)"
   ]
  },
  {
   "cell_type": "code",
   "execution_count": 12,
   "metadata": {},
   "outputs": [],
   "source": [
    "mp1 = loadmap('../descriptor.mp')\n",
    "mp2 = loadmap('../fingerprint.mp')\n",
    "\n",
    "tmp_feature_dir = '/raid/shenwanxiang/08_Robustness/tempignore'\n",
    "if not os.path.exists(tmp_feature_dir):\n",
    "    os.makedirs(tmp_feature_dir)"
   ]
  },
  {
   "cell_type": "code",
   "execution_count": null,
   "metadata": {},
   "outputs": [
    {
     "name": "stderr",
     "output_type": "stream",
     "text": [
      "  0%|          | 0/1128 [00:00<?, ?it/s]"
     ]
    },
    {
     "name": "stdout",
     "output_type": "stream",
     "text": [
      "ESOL\n"
     ]
    },
    {
     "name": "stderr",
     "output_type": "stream",
     "text": [
      "100%|##########| 1128/1128 [01:31<00:00, 15.00it/s]\n",
      "100%|##########| 1128/1128 [00:37<00:00, 30.10it/s]\n",
      "  0%|          | 0/4200 [00:00<?, ?it/s]"
     ]
    },
    {
     "name": "stdout",
     "output_type": "stream",
     "text": [
      "Lipop\n"
     ]
    },
    {
     "name": "stderr",
     "output_type": "stream",
     "text": [
      "100%|##########| 4200/4200 [08:44<00:00,  8.00it/s]\n",
      "100%|##########| 4200/4200 [01:30<00:00, 46.27it/s]\n",
      "  0%|          | 0/9999 [00:00<?, ?it/s]"
     ]
    },
    {
     "name": "stdout",
     "output_type": "stream",
     "text": [
      "malaria\n"
     ]
    },
    {
     "name": "stderr",
     "output_type": "stream",
     "text": [
      "100%|##########| 9999/9999 [24:42<00:00,  5.72it/s]\n",
      "100%|##########| 9999/9999 [06:05<00:00, 27.35it/s]\n",
      "  0%|          | 0/41127 [00:00<?, ?it/s]"
     ]
    },
    {
     "name": "stdout",
     "output_type": "stream",
     "text": [
      "HIV\n"
     ]
    },
    {
     "name": "stderr",
     "output_type": "stream",
     "text": [
      " 63%|######2   | 25837/41127 [48:44<25:22, 10.04it/s]  "
     ]
    }
   ],
   "source": [
    "for data in [esol, lipop, malaria, hiv, bace, bbbp]:\n",
    "    \n",
    "    task_name = data.task_name\n",
    "    smiles = data.x\n",
    "    \n",
    "    print(task_name)\n",
    "    \n",
    "    X1_name = os.path.join(tmp_feature_dir, 'X1_%s.data' % task_name)\n",
    "\n",
    "    if not os.path.exists(X1_name):\n",
    "        X1 = mp1.batch_transform(smiles, n_jobs = 16)\n",
    "        dump(X1, X1_name)\n",
    "    else:\n",
    "        X1 = load(X1_name)\n",
    "\n",
    "    X2_name = os.path.join(tmp_feature_dir, 'X2_%s.data' % task_name)\n",
    "\n",
    "    if not os.path.exists(X2_name): \n",
    "        X2 = mp2.batch_transform(smiles, n_jobs = 8)\n",
    "        dump(X2, X2_name)\n",
    "    else:\n",
    "        X2 = load(X2_name)"
   ]
  },
  {
   "cell_type": "code",
   "execution_count": null,
   "metadata": {},
   "outputs": [],
   "source": []
  },
  {
   "cell_type": "code",
   "execution_count": 16,
   "metadata": {},
   "outputs": [
    {
     "name": "stdout",
     "output_type": "stream",
     "text": [
      "total 5.8G\n",
      "-rw-rw-r-- 1 sxh sxh  24M Sep  2 01:40 X2_BACE_AtomPairFP.data\n",
      "-rw-rw-r-- 1 sxh sxh  24M Sep  2 01:45 X2_BACE_AvalonFP.data\n",
      "-rw-rw-r-- 1 sxh sxh 663K Sep  2 01:47 X2_BACE_EstateFP.data\n",
      "-rw-rw-r-- 1 sxh sxh 2.0M Sep  2 01:48 X2_BACE_MACCSFP.data\n",
      "-rw-rw-r-- 1 sxh sxh  24M Sep  2 01:58 X2_BACE_MAP4.data\n",
      "-rw-rw-r-- 1 sxh sxh  24M Sep  2 01:55 X2_BACE_MHFP6.data\n",
      "-rw-rw-r-- 1 sxh sxh  24M Sep  2 01:34 X2_BACE_MorganFP.data\n",
      "-rw-rw-r-- 1 sxh sxh 5.1M Sep  2 01:49 X2_BACE_PharmacoErGFP.data\n",
      "-rw-rw-r-- 1 sxh sxh 3.4M Sep  2 01:51 X2_BACE_PharmacoPFP.data\n",
      "-rw-rw-r-- 1 sxh sxh 8.5M Sep  2 01:52 X2_BACE_PubChemFP.data\n",
      "-rw-rw-r-- 1 sxh sxh  24M Sep  2 01:37 X2_BACE_RDkitFP.data\n",
      "-rw-rw-r-- 1 sxh sxh  23M Sep  2 01:43 X2_BACE_TorsionFP.data\n",
      "-rw-rw-r-- 1 sxh sxh  33M Sep  2 02:02 X2_BBBP_MorganFP.data\n",
      "-rw-rw-r-- 1 sxh sxh  18M Sep  1 15:40 X2_ESOL_AtomPairFP.data\n",
      "-rw-rw-r-- 1 sxh sxh  18M Sep  1 15:52 X2_ESOL_AvalonFP.data\n",
      "-rw-rw-r-- 1 sxh sxh 494K Sep  1 15:56 X2_ESOL_EstateFP.data\n",
      "-rw-rw-r-- 1 sxh sxh 1.5M Sep  1 15:58 X2_ESOL_MACCSFP.data\n",
      "-rw-rw-r-- 1 sxh sxh  18M Sep  1 16:21 X2_ESOL_MAP4.data\n",
      "-rw-rw-r-- 1 sxh sxh  18M Sep  1 16:15 X2_ESOL_MHFP6.data\n",
      "-rw-rw-r-- 1 sxh sxh  18M Sep  1 15:11 X2_ESOL_MorganFP.data\n",
      "-rw-rw-r-- 1 sxh sxh 3.8M Sep  1 16:01 X2_ESOL_PharmacoErGFP.data\n",
      "-rw-rw-r-- 1 sxh sxh 2.5M Sep  1 16:05 X2_ESOL_PharmacoPFP.data\n",
      "-rw-rw-r-- 1 sxh sxh 6.3M Sep  1 16:08 X2_ESOL_PubChemFP.data\n",
      "-rw-rw-r-- 1 sxh sxh  18M Sep  1 15:34 X2_ESOL_RDkitFP.data\n",
      "-rw-rw-r-- 1 sxh sxh  17M Sep  1 15:47 X2_ESOL_TorsionFP.data\n",
      "-rw-rw-r-- 1 sxh sxh 650M Sep  1 17:52 X2_HIV_AtomPairFP.data\n",
      "-rw-rw-r-- 1 sxh sxh 650M Sep  1 20:27 X2_HIV_AvalonFP.data\n",
      "-rw-rw-r-- 1 sxh sxh  18M Sep  1 21:04 X2_HIV_EstateFP.data\n",
      "-rw-rw-r-- 1 sxh sxh  54M Sep  1 21:37 X2_HIV_MACCSFP.data\n",
      "-rw-rw-r-- 1 sxh sxh 650M Sep  2 01:13 X2_HIV_MAP4.data\n",
      "-rw-rw-r-- 1 sxh sxh 650M Sep  2 00:04 X2_HIV_MHFP6.data\n",
      "-rw-rw-r-- 1 sxh sxh 650M Sep  1 14:57 X2_HIV_MorganFP.data\n",
      "-rw-rw-r-- 1 sxh sxh 139M Sep  1 22:02 X2_HIV_PharmacoErGFP.data\n",
      "-rw-rw-r-- 1 sxh sxh  91M Sep  1 22:27 X2_HIV_PharmacoPFP.data\n",
      "-rw-rw-r-- 1 sxh sxh 229M Sep  1 22:58 X2_HIV_PubChemFP.data\n",
      "-rw-rw-r-- 1 sxh sxh 650M Sep  1 16:47 X2_HIV_RDkitFP.data\n",
      "-rw-rw-r-- 1 sxh sxh 608M Sep  1 19:04 X2_HIV_TorsionFP.data\n",
      "-rw-rw-r-- 1 sxh sxh  67M Sep  1 16:52 X2_Lipop_AtomPairFP.data\n",
      "-rw-rw-r-- 1 sxh sxh  67M Sep  1 17:10 X2_Lipop_AvalonFP.data\n",
      "-rw-rw-r-- 1 sxh sxh 1.8M Sep  1 17:15 X2_Lipop_EstateFP.data\n",
      "-rw-rw-r-- 1 sxh sxh 5.5M Sep  1 17:18 X2_Lipop_MACCSFP.data\n",
      "-rw-rw-r-- 1 sxh sxh  67M Sep  1 17:50 X2_Lipop_MAP4.data\n",
      "-rw-rw-r-- 1 sxh sxh  67M Sep  1 17:41 X2_Lipop_MHFP6.data\n",
      "-rw-rw-r-- 1 sxh sxh  67M Sep  1 16:31 X2_Lipop_MorganFP.data\n",
      "-rw-rw-r-- 1 sxh sxh  15M Sep  1 17:22 X2_Lipop_PharmacoErGFP.data\n",
      "-rw-rw-r-- 1 sxh sxh 9.3M Sep  1 17:27 X2_Lipop_PharmacoPFP.data\n",
      "-rw-rw-r-- 1 sxh sxh  24M Sep  1 17:32 X2_Lipop_PubChemFP.data\n",
      "-rw-rw-r-- 1 sxh sxh  67M Sep  1 16:42 X2_Lipop_RDkitFP.data\n",
      "-rw-rw-r-- 1 sxh sxh  63M Sep  1 17:02 X2_Lipop_TorsionFP.data\n"
     ]
    }
   ],
   "source": [
    "ls -lh /raid/shenwanxiang/10_FP_effect/tempignore"
   ]
  },
  {
   "cell_type": "code",
   "execution_count": null,
   "metadata": {},
   "outputs": [],
   "source": []
  },
  {
   "cell_type": "code",
   "execution_count": null,
   "metadata": {},
   "outputs": [],
   "source": []
  },
  {
   "cell_type": "code",
   "execution_count": null,
   "metadata": {},
   "outputs": [],
   "source": []
  },
  {
   "cell_type": "code",
   "execution_count": null,
   "metadata": {},
   "outputs": [],
   "source": []
  }
 ],
 "metadata": {
  "kernelspec": {
   "display_name": "Python 3",
   "language": "python",
   "name": "python3"
  },
  "language_info": {
   "codemirror_mode": {
    "name": "ipython",
    "version": 3
   },
   "file_extension": ".py",
   "mimetype": "text/x-python",
   "name": "python",
   "nbconvert_exporter": "python",
   "pygments_lexer": "ipython3",
   "version": "3.6.9"
  }
 },
 "nbformat": 4,
 "nbformat_minor": 4
}
