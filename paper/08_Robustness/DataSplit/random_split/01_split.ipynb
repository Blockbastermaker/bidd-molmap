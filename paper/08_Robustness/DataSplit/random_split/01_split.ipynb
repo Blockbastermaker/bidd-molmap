{
 "cells": [
  {
   "cell_type": "code",
   "execution_count": 11,
   "metadata": {},
   "outputs": [],
   "source": [
    "import numpy as np\n",
    "import pandas as pd\n",
    "from tqdm import tqdm\n",
    "from rdkit import Chem\n",
    "import seaborn as sns\n",
    "\n",
    "import tmap, os\n",
    "\n",
    "from molmap import dataset\n",
    "\n",
    "from sklearn.model_selection import KFold\n",
    "\n",
    "import matplotlib.pyplot as plt\n",
    "%matplotlib inline\n",
    "tqdm.pandas(ascii=True)\n",
    "np.random.seed(123)\n",
    "\n"
   ]
  },
  {
   "cell_type": "code",
   "execution_count": 5,
   "metadata": {},
   "outputs": [],
   "source": [
    "n_fold = 5"
   ]
  },
  {
   "cell_type": "code",
   "execution_count": 3,
   "metadata": {
    "collapsed": true,
    "jupyter": {
     "outputs_hidden": true
    }
   },
   "outputs": [
    {
     "name": "stdout",
     "output_type": "stream",
     "text": [
      "total samples: 1128\n",
      "total samples: 4200\n",
      "total samples: 9999\n"
     ]
    },
    {
     "name": "stderr",
     "output_type": "stream",
     "text": [
      "RDKit WARNING: [17:33:37] WARNING: not removing hydrogen atom without neighbors\n",
      "RDKit WARNING: [17:33:37] WARNING: not removing hydrogen atom without neighbors\n"
     ]
    },
    {
     "name": "stdout",
     "output_type": "stream",
     "text": [
      "total samples: 41127\n",
      "total samples: 1513\n"
     ]
    },
    {
     "name": "stderr",
     "output_type": "stream",
     "text": [
      "RDKit ERROR: [17:33:39] Explicit valence for atom # 1 N, 4, is greater than permitted\n",
      "RDKit WARNING: [17:33:39] WARNING: not removing hydrogen atom without neighbors\n",
      "RDKit ERROR: [17:33:39] Explicit valence for atom # 6 N, 4, is greater than permitted\n",
      "RDKit WARNING: [17:33:39] WARNING: not removing hydrogen atom without neighbors\n",
      "RDKit WARNING: [17:33:39] WARNING: not removing hydrogen atom without neighbors\n",
      "RDKit WARNING: [17:33:39] WARNING: not removing hydrogen atom without neighbors\n",
      "RDKit WARNING: [17:33:39] WARNING: not removing hydrogen atom without neighbors\n",
      "RDKit WARNING: [17:33:39] WARNING: not removing hydrogen atom without neighbors\n",
      "RDKit WARNING: [17:33:39] WARNING: not removing hydrogen atom without neighbors\n",
      "RDKit ERROR: [17:33:39] Explicit valence for atom # 6 N, 4, is greater than permitted\n",
      "RDKit WARNING: [17:33:39] WARNING: not removing hydrogen atom without neighbors\n",
      "RDKit WARNING: [17:33:39] WARNING: not removing hydrogen atom without neighbors\n",
      "RDKit WARNING: [17:33:39] WARNING: not removing hydrogen atom without neighbors\n",
      "RDKit WARNING: [17:33:39] WARNING: not removing hydrogen atom without neighbors\n",
      "RDKit ERROR: [17:33:39] Explicit valence for atom # 11 N, 4, is greater than permitted\n",
      "RDKit ERROR: [17:33:39] Explicit valence for atom # 12 N, 4, is greater than permitted\n",
      "RDKit ERROR: [17:33:39] Explicit valence for atom # 5 N, 4, is greater than permitted\n",
      "RDKit ERROR: [17:33:39] Explicit valence for atom # 5 N, 4, is greater than permitted\n",
      "RDKit ERROR: [17:33:39] Explicit valence for atom # 5 N, 4, is greater than permitted\n",
      "RDKit ERROR: [17:33:39] Explicit valence for atom # 5 N, 4, is greater than permitted\n",
      "RDKit ERROR: [17:33:39] Explicit valence for atom # 5 N, 4, is greater than permitted\n",
      "RDKit WARNING: [17:33:39] WARNING: not removing hydrogen atom without neighbors\n",
      "RDKit WARNING: [17:33:39] WARNING: not removing hydrogen atom without neighbors\n",
      "RDKit ERROR: [17:33:39] Explicit valence for atom # 5 N, 4, is greater than permitted\n",
      "RDKit WARNING: [17:33:39] WARNING: not removing hydrogen atom without neighbors\n",
      "RDKit WARNING: [17:33:39] WARNING: not removing hydrogen atom without neighbors\n",
      "RDKit WARNING: [17:33:40] WARNING: not removing hydrogen atom without neighbors\n",
      "RDKit WARNING: [17:33:40] WARNING: not removing hydrogen atom without neighbors\n",
      "RDKit WARNING: [17:33:40] WARNING: not removing hydrogen atom without neighbors\n",
      "RDKit WARNING: [17:33:40] WARNING: not removing hydrogen atom without neighbors\n",
      "RDKit WARNING: [17:33:40] WARNING: not removing hydrogen atom without neighbors\n",
      "RDKit WARNING: [17:33:40] WARNING: not removing hydrogen atom without neighbors\n",
      "RDKit WARNING: [17:33:40] WARNING: not removing hydrogen atom without neighbors\n",
      "RDKit WARNING: [17:33:40] WARNING: not removing hydrogen atom without neighbors\n",
      "RDKit WARNING: [17:33:40] WARNING: not removing hydrogen atom without neighbors\n",
      "RDKit WARNING: [17:33:40] WARNING: not removing hydrogen atom without neighbors\n",
      "RDKit WARNING: [17:33:40] WARNING: not removing hydrogen atom without neighbors\n",
      "RDKit WARNING: [17:33:40] WARNING: not removing hydrogen atom without neighbors\n",
      "RDKit WARNING: [17:33:40] WARNING: not removing hydrogen atom without neighbors\n",
      "RDKit WARNING: [17:33:40] WARNING: not removing hydrogen atom without neighbors\n",
      "RDKit WARNING: [17:33:40] WARNING: not removing hydrogen atom without neighbors\n",
      "RDKit WARNING: [17:33:40] WARNING: not removing hydrogen atom without neighbors\n",
      "RDKit WARNING: [17:33:40] WARNING: not removing hydrogen atom without neighbors\n",
      "RDKit WARNING: [17:33:40] WARNING: not removing hydrogen atom without neighbors\n",
      "RDKit WARNING: [17:33:40] WARNING: not removing hydrogen atom without neighbors\n",
      "RDKit WARNING: [17:33:40] WARNING: not removing hydrogen atom without neighbors\n",
      "RDKit WARNING: [17:33:40] WARNING: not removing hydrogen atom without neighbors\n",
      "RDKit WARNING: [17:33:40] WARNING: not removing hydrogen atom without neighbors\n",
      "RDKit WARNING: [17:33:40] WARNING: not removing hydrogen atom without neighbors\n",
      "RDKit WARNING: [17:33:40] WARNING: not removing hydrogen atom without neighbors\n",
      "RDKit WARNING: [17:33:40] WARNING: not removing hydrogen atom without neighbors\n"
     ]
    },
    {
     "name": "stdout",
     "output_type": "stream",
     "text": [
      "11 invalid smiles are removed\n",
      "total samples: 2039\n"
     ]
    }
   ],
   "source": [
    "esol = dataset.load_ESOL(True)\n",
    "lipop = dataset.load_Lipop(True)\n",
    "malaria = dataset.load_malaria(True)\n",
    "hiv = dataset.load_HIV(True)\n",
    "bace = dataset.load_BACE(True)\n",
    "bbbp = dataset.load_BBBP(True)"
   ]
  },
  {
   "cell_type": "code",
   "execution_count": 53,
   "metadata": {},
   "outputs": [],
   "source": [
    "random_seeds = [8, 32, 64, 128, 512, 1024, 2048, 4096, 8192, 16384]\n",
    "cols = ['rd_%s' % i for i in random_seeds]\n",
    "\n",
    "data_save_folder = './rand_split_results/'\n",
    "if not os.path.exists(data_save_folder):\n",
    "    os.makedirs(data_save_folder)\n",
    "    \n",
    "    \n",
    "for data in [esol, lipop, malaria, hiv, bace, bbbp ]:\n",
    "    \n",
    "    task_name = data.task_name\n",
    "    df = pd.DataFrame(data.x, columns = ['smiles'])\n",
    "    df[task_name] = data.y\n",
    "        \n",
    "    ncols = []\n",
    "    for seed, col in zip(random_seeds, cols):\n",
    "        kf = KFold(n_splits=5, shuffle = True, random_state=seed)\n",
    "        gb = {}\n",
    "        i = 1\n",
    "        for tr, ts in kf.split(range(len(df))):\n",
    "            gb.update(dict(zip(ts, [i for x in ts])))\n",
    "            i += 1\n",
    "        ncol = pd.Series(gb).sort_index()\n",
    "        ncols.append(ncol)\n",
    "        \n",
    "    dfc = pd.concat(ncols, axis=1)\n",
    "    dfc.columns = cols\n",
    "    df.join(dfc).to_csv(os.path.join(data_save_folder, 'rd_split_%s.csv' % task_name))"
   ]
  },
  {
   "cell_type": "code",
   "execution_count": null,
   "metadata": {},
   "outputs": [],
   "source": []
  },
  {
   "cell_type": "code",
   "execution_count": null,
   "metadata": {},
   "outputs": [],
   "source": []
  }
 ],
 "metadata": {
  "kernelspec": {
   "display_name": "Python 3",
   "language": "python",
   "name": "python3"
  },
  "language_info": {
   "codemirror_mode": {
    "name": "ipython",
    "version": 3
   },
   "file_extension": ".py",
   "mimetype": "text/x-python",
   "name": "python",
   "nbconvert_exporter": "python",
   "pygments_lexer": "ipython3",
   "version": "3.6.9"
  }
 },
 "nbformat": 4,
 "nbformat_minor": 4
}
