{
 "cells": [
  {
   "cell_type": "code",
   "execution_count": 13,
   "metadata": {},
   "outputs": [],
   "source": [
    "from molmap import model as molmodel\n",
    "import molmap\n",
    "from molmap import dataset\n",
    "import matplotlib.pyplot as plt\n",
    "\n",
    "import pandas as pd\n",
    "from tqdm import tqdm\n",
    "from joblib import load, dump\n",
    "tqdm.pandas(ascii=True)\n",
    "import numpy as np\n",
    "\n",
    "import tensorflow as tf\n",
    "import os\n",
    "os.environ[\"CUDA_VISIBLE_DEVICES\"]=\"0\"\n"
   ]
  },
  {
   "cell_type": "code",
   "execution_count": 8,
   "metadata": {},
   "outputs": [],
   "source": [
    "seed = 77\n",
    "np.random.seed(seed)\n",
    "tf.compat.v1.set_random_seed(seed)"
   ]
  },
  {
   "cell_type": "code",
   "execution_count": 9,
   "metadata": {},
   "outputs": [],
   "source": [
    "df_train = pd.read_csv('../train.csv', index_col = 0)\n",
    "df_valid = pd.read_csv('../valid.csv',  index_col = 0)\n",
    "df_test = pd.read_csv('../test.csv',  index_col = 0)\n",
    "df_etc = pd.read_csv('../etc.csv')\n",
    "task = 'measured log solubility in mols per litre'\n",
    "df_etc[task] = df_etc.Exp_LogS"
   ]
  },
  {
   "cell_type": "code",
   "execution_count": 10,
   "metadata": {},
   "outputs": [
    {
     "data": {
      "text/plain": [
       "(901, 113, 113, 120)"
      ]
     },
     "execution_count": 10,
     "metadata": {},
     "output_type": "execute_result"
    }
   ],
   "source": [
    "len(df_train), len(df_valid), len(df_test), len(df_etc)"
   ]
  },
  {
   "cell_type": "code",
   "execution_count": 11,
   "metadata": {},
   "outputs": [
    {
     "name": "stderr",
     "output_type": "stream",
     "text": [
      "/home/shenwanxiang/.local/lib/python3.6/site-packages/pandas/core/frame.py:7123: FutureWarning: Sorting because non-concatenation axis is not aligned. A future version\n",
      "of pandas will change to not sort by default.\n",
      "\n",
      "To accept the future behavior, pass 'sort=False'.\n",
      "\n",
      "To retain the current behavior and silence the warning, pass 'sort=True'.\n",
      "\n",
      "  sort=sort,\n"
     ]
    },
    {
     "data": {
      "text/plain": [
       "(901, 113, 113, 120)"
      ]
     },
     "execution_count": 11,
     "metadata": {},
     "output_type": "execute_result"
    }
   ],
   "source": [
    "df = df_train.append(df_valid).append(df_test).append(df_etc)\n",
    "df = df.reset_index(drop=True)\n",
    "\n",
    "train_idx = df.index[:len(df_train)]\n",
    "valid_idx = df.index[len(df_train): len(df_train)+len(df_valid)]\n",
    "test_idx = df.index[len(df_train)+len(df_valid): len(df_train)+len(df_valid) + len(df_test)]\n",
    "etc_idx = df.index[-len(df_etc):]\n",
    "len(train_idx), len(valid_idx), len(test_idx), len(etc_idx)"
   ]
  },
  {
   "cell_type": "code",
   "execution_count": 12,
   "metadata": {},
   "outputs": [
    {
     "name": "stderr",
     "output_type": "stream",
     "text": [
      "100%|##########| 1247/1247 [02:04<00:00,  9.06it/s]\n"
     ]
    }
   ],
   "source": [
    "# calculate feature\n",
    "X1_name =  './X_descriptor.data'\n",
    "\n",
    "if os.path.exists(X1_name):\n",
    "    X1 = load(X1_name)\n",
    "else:\n",
    "    mp1 = loadmap('../../descriptor.mp')\n",
    "    X1 = mp1.batch_transform(df.smiles, n_jobs = 8)\n",
    "    dump(X1, X1_name)\n"
   ]
  },
  {
   "cell_type": "code",
   "execution_count": 17,
   "metadata": {},
   "outputs": [],
   "source": [
    "Y = df[[task]].values\n",
    "\n",
    "trainX = X1[train_idx]\n",
    "trainY = Y[train_idx]\n",
    "\n",
    "validX = X1[valid_idx]\n",
    "validY = Y[valid_idx]\n",
    "\n",
    "\n",
    "testX = X1[test_idx]\n",
    "testY = Y[test_idx]\n",
    "\n",
    "etcX = X1[etc_idx]\n",
    "etcY = Y[etc_idx]\n"
   ]
  },
  {
   "cell_type": "code",
   "execution_count": 18,
   "metadata": {},
   "outputs": [],
   "source": [
    "epochs = 800\n",
    "patience = 50 #early stopping\n",
    "\n",
    "dense_layers = [256, 128, 32]\n",
    "batch_size = 128\n",
    "lr = 1e-4\n",
    "weight_decay = 0\n",
    "\n",
    "loss = 'mse'\n",
    "monitor = 'val_loss'\n",
    "dense_avf = 'tanh'\n",
    "last_avf = 'linear'\n"
   ]
  },
  {
   "cell_type": "code",
   "execution_count": 22,
   "metadata": {},
   "outputs": [],
   "source": [
    "\n",
    "model = molmodel.net.SinglePathNet(X1.shape[1:], \n",
    "                                   n_outputs=Y.shape[-1], \n",
    "                                   dense_layers=dense_layers, \n",
    "                                   dense_avf = dense_avf, \n",
    "                                   last_avf=last_avf)\n",
    "\n",
    "opt = tf.keras.optimizers.Adam(lr=lr, beta_1=0.9, beta_2=0.999, epsilon=1e-08, decay=0.0) #\n",
    "#import tensorflow_addons as tfa\n",
    "#opt = tfa.optimizers.AdamW(weight_decay = 0.1,learning_rate=0.001,beta1=0.9,beta2=0.999, epsilon=1e-08)\n",
    "model.compile(optimizer = opt, loss = loss)\n",
    "performance = molmodel.cbks.Reg_EarlyStoppingAndPerformance((trainX, trainY), \n",
    "                                                           (validX, validY), \n",
    "                                                           patience = patience, \n",
    "                                                           criteria = monitor)"
   ]
  },
  {
   "cell_type": "code",
   "execution_count": 23,
   "metadata": {},
   "outputs": [
    {
     "name": "stdout",
     "output_type": "stream",
     "text": [
      "epoch: 0001, loss: 9.8089 - val_loss: 5.1351; rmse: 2.2622 - rmse_val: 2.2661;  r2: 0.1866 - r2_val: 0.0977                                                                                                    \n",
      "epoch: 0002, loss: 4.7283 - val_loss: 4.2758; rmse: 2.1898 - rmse_val: 2.0678;  r2: 0.3555 - r2_val: 0.2957                                                                                                    \n",
      "epoch: 0003, loss: 4.7382 - val_loss: 4.0866; rmse: 2.1176 - rmse_val: 2.0215;  r2: 0.4617 - r2_val: 0.4299                                                                                                    \n",
      "epoch: 0004, loss: 4.4339 - val_loss: 4.1609; rmse: 2.0935 - rmse_val: 2.0398;  r2: 0.4740 - r2_val: 0.4385                                                                                                    \n",
      "epoch: 0005, loss: 4.3466 - val_loss: 4.0125; rmse: 2.0733 - rmse_val: 2.0031;  r2: 0.4727 - r2_val: 0.4483                                                                                                    \n",
      "epoch: 0006, loss: 4.2807 - val_loss: 3.9470; rmse: 2.0605 - rmse_val: 1.9867;  r2: 0.4758 - r2_val: 0.4594                                                                                                    \n",
      "epoch: 0007, loss: 4.2224 - val_loss: 3.9030; rmse: 2.0418 - rmse_val: 1.9756;  r2: 0.4853 - r2_val: 0.4654                                                                                                    \n",
      "epoch: 0008, loss: 4.1378 - val_loss: 3.8570; rmse: 2.0226 - rmse_val: 1.9639;  r2: 0.4997 - r2_val: 0.4803                                                                                                    \n",
      "epoch: 0009, loss: 4.0563 - val_loss: 3.7790; rmse: 1.9993 - rmse_val: 1.9440;  r2: 0.5063 - r2_val: 0.4871                                                                                                    \n",
      "epoch: 0010, loss: 3.9722 - val_loss: 3.6999; rmse: 1.9728 - rmse_val: 1.9235;  r2: 0.5121 - r2_val: 0.4923                                                                                                    \n",
      "epoch: 0011, loss: 3.8979 - val_loss: 3.5493; rmse: 1.9476 - rmse_val: 1.8839;  r2: 0.5051 - r2_val: 0.4871                                                                                                    \n",
      "epoch: 0012, loss: 3.7910 - val_loss: 3.5763; rmse: 1.9243 - rmse_val: 1.8911;  r2: 0.5360 - r2_val: 0.5145                                                                                                    \n",
      "epoch: 0013, loss: 3.6034 - val_loss: 3.3514; rmse: 1.8938 - rmse_val: 1.8307;  r2: 0.5048 - r2_val: 0.4858                                                                                                    \n",
      "epoch: 0014, loss: 3.5328 - val_loss: 3.1591; rmse: 1.8215 - rmse_val: 1.7774;  r2: 0.5385 - r2_val: 0.5183                                                                                                    \n",
      "epoch: 0015, loss: 3.2546 - val_loss: 3.0022; rmse: 1.7672 - rmse_val: 1.7327;  r2: 0.5466 - r2_val: 0.5243                                                                                                    \n",
      "epoch: 0016, loss: 3.0374 - val_loss: 2.7659; rmse: 1.6986 - rmse_val: 1.6631;  r2: 0.5393 - r2_val: 0.5174                                                                                                    \n",
      "epoch: 0017, loss: 2.7982 - val_loss: 2.5563; rmse: 1.6297 - rmse_val: 1.5988;  r2: 0.5565 - r2_val: 0.5373                                                                                                    \n",
      "epoch: 0018, loss: 2.5956 - val_loss: 2.4675; rmse: 1.5944 - rmse_val: 1.5708;  r2: 0.5938 - r2_val: 0.5759                                                                                                    \n",
      "epoch: 0019, loss: 2.4737 - val_loss: 2.2139; rmse: 1.5136 - rmse_val: 1.4879;  r2: 0.5817 - r2_val: 0.5666                                                                                                    \n",
      "epoch: 0020, loss: 2.2055 - val_loss: 2.0032; rmse: 1.4398 - rmse_val: 1.4153;  r2: 0.6165 - r2_val: 0.6037                                                                                                    \n",
      "epoch: 0021, loss: 2.0391 - val_loss: 1.9971; rmse: 1.4432 - rmse_val: 1.4132;  r2: 0.6629 - r2_val: 0.6508                                                                                                    \n",
      "epoch: 0022, loss: 1.9977 - val_loss: 1.7300; rmse: 1.3350 - rmse_val: 1.3153;  r2: 0.6569 - r2_val: 0.6468                                                                                                    \n",
      "epoch: 0023, loss: 1.9329 - val_loss: 2.0406; rmse: 1.4307 - rmse_val: 1.4285;  r2: 0.6382 - r2_val: 0.6300                                                                                                    \n",
      "epoch: 0024, loss: 1.8700 - val_loss: 1.8741; rmse: 1.4034 - rmse_val: 1.3690;  r2: 0.7204 - r2_val: 0.7080                                                                                                    \n",
      "epoch: 0025, loss: 1.6963 - val_loss: 1.5018; rmse: 1.2357 - rmse_val: 1.2255;  r2: 0.6942 - r2_val: 0.6832                                                                                                    \n",
      "epoch: 0026, loss: 1.4976 - val_loss: 1.3646; rmse: 1.1866 - rmse_val: 1.1681;  r2: 0.7236 - r2_val: 0.7109                                                                                                    \n",
      "epoch: 0027, loss: 1.3830 - val_loss: 1.2927; rmse: 1.1488 - rmse_val: 1.1370;  r2: 0.7386 - r2_val: 0.7245                                                                                                    \n",
      "epoch: 0028, loss: 1.3085 - val_loss: 1.2320; rmse: 1.1174 - rmse_val: 1.1100;  r2: 0.7473 - r2_val: 0.7324                                                                                                    \n",
      "epoch: 0029, loss: 1.2400 - val_loss: 1.1752; rmse: 1.0880 - rmse_val: 1.0841;  r2: 0.7653 - r2_val: 0.7469                                                                                                    \n",
      "epoch: 0030, loss: 1.2054 - val_loss: 1.1443; rmse: 1.0677 - rmse_val: 1.0697;  r2: 0.7775 - r2_val: 0.7558                                                                                                    \n",
      "epoch: 0031, loss: 1.1442 - val_loss: 1.1764; rmse: 1.0683 - rmse_val: 1.0846;  r2: 0.7626 - r2_val: 0.7418                                                                                                    \n",
      "epoch: 0032, loss: 1.1067 - val_loss: 1.1108; rmse: 1.0361 - rmse_val: 1.0539;  r2: 0.7749 - r2_val: 0.7506                                                                                                    \n",
      "epoch: 0033, loss: 1.0459 - val_loss: 1.1579; rmse: 1.0464 - rmse_val: 1.0761;  r2: 0.7741 - r2_val: 0.7500                                                                                                    \n",
      "epoch: 0034, loss: 1.1316 - val_loss: 1.0981; rmse: 1.0180 - rmse_val: 1.0479;  r2: 0.7914 - r2_val: 0.7626                                                                                                    \n",
      "epoch: 0035, loss: 1.1440 - val_loss: 1.0368; rmse: 1.0077 - rmse_val: 1.0183;  r2: 0.8036 - r2_val: 0.7707                                                                                                    \n",
      "epoch: 0036, loss: 1.0727 - val_loss: 0.9962; rmse: 0.9824 - rmse_val: 0.9981;  r2: 0.8047 - r2_val: 0.7733                                                                                                    \n",
      "epoch: 0037, loss: 1.0670 - val_loss: 1.2987; rmse: 1.1495 - rmse_val: 1.1396;  r2: 0.8189 - r2_val: 0.7873                                                                                                    \n",
      "epoch: 0038, loss: 1.1581 - val_loss: 1.0033; rmse: 0.9963 - rmse_val: 1.0016;  r2: 0.8146 - r2_val: 0.7843                                                                                                    \n",
      "epoch: 0039, loss: 1.0859 - val_loss: 1.3183; rmse: 1.0899 - rmse_val: 1.1482;  r2: 0.7913 - r2_val: 0.7644                                                                                                    \n",
      "epoch: 0040, loss: 0.9984 - val_loss: 1.0052; rmse: 0.9605 - rmse_val: 1.0026;  r2: 0.8103 - r2_val: 0.7803                                                                                                    \n",
      "epoch: 0041, loss: 0.9352 - val_loss: 0.9311; rmse: 0.9407 - rmse_val: 0.9649;  r2: 0.8232 - r2_val: 0.7906                                                                                                    \n",
      "epoch: 0042, loss: 0.8624 - val_loss: 0.9128; rmse: 0.9268 - rmse_val: 0.9554;  r2: 0.8246 - r2_val: 0.7904                                                                                                    \n",
      "epoch: 0043, loss: 0.8685 - val_loss: 0.9865; rmse: 0.9398 - rmse_val: 0.9932;  r2: 0.8252 - r2_val: 0.7908                                                                                                    \n",
      "epoch: 0044, loss: 0.8728 - val_loss: 0.8956; rmse: 0.9213 - rmse_val: 0.9464;  r2: 0.8273 - r2_val: 0.7915                                                                                                    \n",
      "epoch: 0045, loss: 0.8280 - val_loss: 0.9280; rmse: 0.9371 - rmse_val: 0.9633;  r2: 0.8428 - r2_val: 0.8039                                                                                                    \n",
      "epoch: 0046, loss: 0.8550 - val_loss: 0.8724; rmse: 0.8962 - rmse_val: 0.9340;  r2: 0.8460 - r2_val: 0.8077                                                                                                    \n",
      "epoch: 0047, loss: 0.8169 - val_loss: 0.8362; rmse: 0.8843 - rmse_val: 0.9144;  r2: 0.8409 - r2_val: 0.8062                                                                                                    \n",
      "epoch: 0048, loss: 0.7952 - val_loss: 0.8579; rmse: 0.8695 - rmse_val: 0.9262;  r2: 0.8375 - r2_val: 0.8039                                                                                                    \n",
      "epoch: 0049, loss: 0.7498 - val_loss: 0.8230; rmse: 0.8549 - rmse_val: 0.9072;  r2: 0.8513 - r2_val: 0.8153                                                                                                    \n",
      "epoch: 0050, loss: 0.7370 - val_loss: 0.8250; rmse: 0.8732 - rmse_val: 0.9083;  r2: 0.8596 - r2_val: 0.8219                                                                                                    \n",
      "epoch: 0051, loss: 0.7950 - val_loss: 0.7971; rmse: 0.8419 - rmse_val: 0.8928;  r2: 0.8496 - r2_val: 0.8135                                                                                                    \n",
      "epoch: 0052, loss: 0.7167 - val_loss: 0.8678; rmse: 0.9125 - rmse_val: 0.9316;  r2: 0.8590 - r2_val: 0.8200                                                                                                    \n",
      "epoch: 0053, loss: 0.7566 - val_loss: 0.7798; rmse: 0.8414 - rmse_val: 0.8830;  r2: 0.8623 - r2_val: 0.8235                                                                                                    \n",
      "epoch: 0054, loss: 0.6994 - val_loss: 0.7708; rmse: 0.8129 - rmse_val: 0.8780;  r2: 0.8578 - r2_val: 0.8205                                                                                                    \n",
      "epoch: 0055, loss: 0.6813 - val_loss: 0.8446; rmse: 0.8352 - rmse_val: 0.9190;  r2: 0.8618 - r2_val: 0.8251                                                                                                    \n",
      "epoch: 0056, loss: 0.6687 - val_loss: 0.7873; rmse: 0.8084 - rmse_val: 0.8873;  r2: 0.8597 - r2_val: 0.8233                                                                                                    \n",
      "epoch: 0057, loss: 0.6625 - val_loss: 0.7793; rmse: 0.8003 - rmse_val: 0.8827;  r2: 0.8704 - r2_val: 0.8304                                                                                                    \n",
      "epoch: 0058, loss: 0.6320 - val_loss: 0.8481; rmse: 0.8244 - rmse_val: 0.9209;  r2: 0.8653 - r2_val: 0.8274                                                                                                    \n",
      "epoch: 0059, loss: 0.6464 - val_loss: 0.7918; rmse: 0.8085 - rmse_val: 0.8898;  r2: 0.8670 - r2_val: 0.8332                                                                                                    \n",
      "epoch: 0060, loss: 0.6256 - val_loss: 0.7258; rmse: 0.7749 - rmse_val: 0.8519;  r2: 0.8786 - r2_val: 0.8410                                                                                                    \n",
      "epoch: 0061, loss: 0.6140 - val_loss: 0.6875; rmse: 0.7632 - rmse_val: 0.8291;  r2: 0.8779 - r2_val: 0.8381                                                                                                    \n",
      "epoch: 0062, loss: 0.5843 - val_loss: 0.6767; rmse: 0.7508 - rmse_val: 0.8227;  r2: 0.8815 - r2_val: 0.8418                                                                                                    \n",
      "epoch: 0063, loss: 0.5805 - val_loss: 0.6619; rmse: 0.7527 - rmse_val: 0.8136;  r2: 0.8868 - r2_val: 0.8473                                                                                                    \n",
      "epoch: 0064, loss: 0.5588 - val_loss: 0.6589; rmse: 0.7381 - rmse_val: 0.8117;  r2: 0.8830 - r2_val: 0.8438                                                                                                    \n",
      "epoch: 0065, loss: 0.5622 - val_loss: 0.6419; rmse: 0.7332 - rmse_val: 0.8012;  r2: 0.8868 - r2_val: 0.8483                                                                                                    \n",
      "epoch: 0066, loss: 0.5513 - val_loss: 0.7702; rmse: 0.8579 - rmse_val: 0.8776;  r2: 0.8956 - r2_val: 0.8582                                                                                                    \n",
      "epoch: 0067, loss: 0.6192 - val_loss: 0.9200; rmse: 0.9541 - rmse_val: 0.9592;  r2: 0.8951 - r2_val: 0.8543                                                                                                    \n",
      "epoch: 0068, loss: 0.6690 - val_loss: 0.6400; rmse: 0.7201 - rmse_val: 0.8000;  r2: 0.8906 - r2_val: 0.8489                                                                                                    \n",
      "epoch: 0069, loss: 0.5968 - val_loss: 1.0538; rmse: 0.9019 - rmse_val: 1.0266;  r2: 0.8743 - r2_val: 0.8361                                                                                                    \n",
      "epoch: 0070, loss: 0.7185 - val_loss: 1.3903; rmse: 1.0678 - rmse_val: 1.1791;  r2: 0.8827 - r2_val: 0.8458                                                                                                    \n",
      "epoch: 0071, loss: 0.8217 - val_loss: 0.8409; rmse: 0.7969 - rmse_val: 0.9171;  r2: 0.8842 - r2_val: 0.8450                                                                                                    \n",
      "epoch: 0072, loss: 0.5758 - val_loss: 0.6679; rmse: 0.7164 - rmse_val: 0.8172;  r2: 0.8905 - r2_val: 0.8505                                                                                                    \n",
      "epoch: 0073, loss: 0.5161 - val_loss: 0.7048; rmse: 0.7330 - rmse_val: 0.8395;  r2: 0.8953 - r2_val: 0.8545                                                                                                    \n",
      "epoch: 0074, loss: 0.5230 - val_loss: 0.6301; rmse: 0.7019 - rmse_val: 0.7938;  r2: 0.8926 - r2_val: 0.8496                                                                                                    \n",
      "epoch: 0075, loss: 0.4926 - val_loss: 0.6168; rmse: 0.6935 - rmse_val: 0.7854;  r2: 0.9039 - r2_val: 0.8617                                                                                                    \n",
      "epoch: 0076, loss: 0.5134 - val_loss: 0.6022; rmse: 0.7042 - rmse_val: 0.7760;  r2: 0.8982 - r2_val: 0.8678                                                                                                    \n",
      "epoch: 0077, loss: 0.4984 - val_loss: 0.6137; rmse: 0.6956 - rmse_val: 0.7834;  r2: 0.8981 - r2_val: 0.8663                                                                                                    \n",
      "epoch: 0078, loss: 0.4908 - val_loss: 0.6072; rmse: 0.6840 - rmse_val: 0.7792;  r2: 0.9049 - r2_val: 0.8654                                                                                                    \n",
      "epoch: 0079, loss: 0.4697 - val_loss: 0.6032; rmse: 0.6747 - rmse_val: 0.7766;  r2: 0.9006 - r2_val: 0.8608                                                                                                    \n",
      "epoch: 0080, loss: 0.4514 - val_loss: 0.5734; rmse: 0.6949 - rmse_val: 0.7572;  r2: 0.9105 - r2_val: 0.8723                                                                                                    \n",
      "epoch: 0081, loss: 0.4705 - val_loss: 0.6881; rmse: 0.8081 - rmse_val: 0.8296;  r2: 0.9102 - r2_val: 0.8720                                                                                                    \n",
      "epoch: 0082, loss: 0.5161 - val_loss: 0.5430; rmse: 0.6775 - rmse_val: 0.7369;  r2: 0.9122 - r2_val: 0.8773                                                                                                    \n",
      "epoch: 0083, loss: 0.4542 - val_loss: 0.5294; rmse: 0.6505 - rmse_val: 0.7276;  r2: 0.9108 - r2_val: 0.8755                                                                                                    \n",
      "epoch: 0084, loss: 0.4340 - val_loss: 0.6131; rmse: 0.6794 - rmse_val: 0.7831;  r2: 0.9045 - r2_val: 0.8685                                                                                                    \n",
      "epoch: 0085, loss: 0.4714 - val_loss: 0.7964; rmse: 0.7854 - rmse_val: 0.8925;  r2: 0.9060 - r2_val: 0.8740                                                                                                    \n",
      "epoch: 0086, loss: 0.5221 - val_loss: 0.5369; rmse: 0.6427 - rmse_val: 0.7328;  r2: 0.9120 - r2_val: 0.8773                                                                                                    \n",
      "epoch: 0087, loss: 0.4270 - val_loss: 0.5164; rmse: 0.6470 - rmse_val: 0.7186;  r2: 0.9096 - r2_val: 0.8826                                                                                                    \n",
      "epoch: 0088, loss: 0.4258 - val_loss: 0.5756; rmse: 0.6652 - rmse_val: 0.7587;  r2: 0.9088 - r2_val: 0.8808                                                                                                    \n",
      "epoch: 0089, loss: 0.4439 - val_loss: 0.5303; rmse: 0.6795 - rmse_val: 0.7282;  r2: 0.9178 - r2_val: 0.8845                                                                                                    \n",
      "epoch: 0090, loss: 0.4255 - val_loss: 0.5387; rmse: 0.6334 - rmse_val: 0.7340;  r2: 0.9152 - r2_val: 0.8816                                                                                                    \n",
      "epoch: 0091, loss: 0.4310 - val_loss: 0.5019; rmse: 0.6373 - rmse_val: 0.7084;  r2: 0.9174 - r2_val: 0.8815                                                                                                    \n",
      "epoch: 0092, loss: 0.4533 - val_loss: 0.5190; rmse: 0.6329 - rmse_val: 0.7205;  r2: 0.9143 - r2_val: 0.8766                                                                                                    \n",
      "epoch: 0093, loss: 0.4212 - val_loss: 0.5101; rmse: 0.6505 - rmse_val: 0.7142;  r2: 0.9184 - r2_val: 0.8849                                                                                                    \n",
      "epoch: 0094, loss: 0.4300 - val_loss: 0.5617; rmse: 0.6468 - rmse_val: 0.7494;  r2: 0.9212 - r2_val: 0.8896                                                                                                    \n",
      "epoch: 0095, loss: 0.4263 - val_loss: 0.6110; rmse: 0.6575 - rmse_val: 0.7817;  r2: 0.9137 - r2_val: 0.8778                                                                                                    \n",
      "epoch: 0096, loss: 0.3872 - val_loss: 0.5057; rmse: 0.6090 - rmse_val: 0.7111;  r2: 0.9232 - r2_val: 0.8887                                                                                                    \n",
      "epoch: 0097, loss: 0.3687 - val_loss: 0.4924; rmse: 0.6141 - rmse_val: 0.7017;  r2: 0.9250 - r2_val: 0.8860                                                                                                    \n",
      "epoch: 0098, loss: 0.3835 - val_loss: 0.6867; rmse: 0.7884 - rmse_val: 0.8287;  r2: 0.9257 - r2_val: 0.8850                                                                                                    \n",
      "epoch: 0099, loss: 0.5050 - val_loss: 0.5062; rmse: 0.6025 - rmse_val: 0.7114;  r2: 0.9255 - r2_val: 0.8889                                                                                                    \n",
      "epoch: 0100, loss: 0.4187 - val_loss: 0.5793; rmse: 0.6411 - rmse_val: 0.7611;  r2: 0.9204 - r2_val: 0.8873                                                                                                    \n",
      "epoch: 0101, loss: 0.3880 - val_loss: 0.6576; rmse: 0.6848 - rmse_val: 0.8109;  r2: 0.9204 - r2_val: 0.8869                                                                                                    \n",
      "epoch: 0102, loss: 0.4169 - val_loss: 0.4624; rmse: 0.6008 - rmse_val: 0.6800;  r2: 0.9263 - r2_val: 0.8915                                                                                                    \n",
      "epoch: 0103, loss: 0.3729 - val_loss: 0.5939; rmse: 0.7383 - rmse_val: 0.7707;  r2: 0.9292 - r2_val: 0.8950                                                                                                    \n",
      "epoch: 0104, loss: 0.4430 - val_loss: 0.5549; rmse: 0.6895 - rmse_val: 0.7448;  r2: 0.9273 - r2_val: 0.8890                                                                                                    \n",
      "epoch: 0105, loss: 0.4126 - val_loss: 0.6515; rmse: 0.6817 - rmse_val: 0.8071;  r2: 0.9237 - r2_val: 0.8890                                                                                                    \n",
      "epoch: 0106, loss: 0.5152 - val_loss: 0.6801; rmse: 0.7050 - rmse_val: 0.8246;  r2: 0.9239 - r2_val: 0.8929                                                                                                    \n",
      "epoch: 0107, loss: 0.4179 - val_loss: 0.5424; rmse: 0.6155 - rmse_val: 0.7365;  r2: 0.9288 - r2_val: 0.8922                                                                                                    \n",
      "epoch: 0108, loss: 0.3440 - val_loss: 0.5567; rmse: 0.6229 - rmse_val: 0.7461;  r2: 0.9253 - r2_val: 0.8897                                                                                                    \n",
      "epoch: 0109, loss: 0.3607 - val_loss: 0.4520; rmse: 0.5812 - rmse_val: 0.6723;  r2: 0.9307 - r2_val: 0.8941                                                                                                    \n",
      "epoch: 0110, loss: 0.4189 - val_loss: 0.4740; rmse: 0.6006 - rmse_val: 0.6884;  r2: 0.9287 - r2_val: 0.8899                                                                                                    \n",
      "epoch: 0111, loss: 0.3543 - val_loss: 0.4968; rmse: 0.6083 - rmse_val: 0.7048;  r2: 0.9272 - r2_val: 0.8992                                                                                                    \n",
      "epoch: 0112, loss: 0.4118 - val_loss: 0.4629; rmse: 0.5918 - rmse_val: 0.6804;  r2: 0.9312 - r2_val: 0.8934                                                                                                    \n",
      "epoch: 0113, loss: 0.4843 - val_loss: 0.5510; rmse: 0.6811 - rmse_val: 0.7422;  r2: 0.9274 - r2_val: 0.8874                                                                                                    \n",
      "epoch: 0114, loss: 0.4009 - val_loss: 0.4364; rmse: 0.5877 - rmse_val: 0.6606;  r2: 0.9291 - r2_val: 0.9012                                                                                                    \n",
      "epoch: 0115, loss: 0.3702 - val_loss: 0.5297; rmse: 0.6182 - rmse_val: 0.7278;  r2: 0.9279 - r2_val: 0.8965                                                                                                    \n",
      "epoch: 0116, loss: 0.3857 - val_loss: 0.6962; rmse: 0.7072 - rmse_val: 0.8344;  r2: 0.9234 - r2_val: 0.8898                                                                                                    \n",
      "epoch: 0117, loss: 0.3968 - val_loss: 0.4307; rmse: 0.5670 - rmse_val: 0.6563;  r2: 0.9345 - r2_val: 0.9052                                                                                                    \n",
      "epoch: 0118, loss: 0.3528 - val_loss: 0.4163; rmse: 0.5663 - rmse_val: 0.6452;  r2: 0.9336 - r2_val: 0.9066                                                                                                    \n",
      "epoch: 0119, loss: 0.3190 - val_loss: 0.4955; rmse: 0.5836 - rmse_val: 0.7039;  r2: 0.9304 - r2_val: 0.8974                                                                                                    \n",
      "epoch: 0120, loss: 0.3244 - val_loss: 0.4250; rmse: 0.5497 - rmse_val: 0.6519;  r2: 0.9360 - r2_val: 0.8999                                                                                                    \n",
      "epoch: 0121, loss: 0.3151 - val_loss: 0.6359; rmse: 0.6612 - rmse_val: 0.7975;  r2: 0.9304 - r2_val: 0.8954                                                                                                    \n",
      "epoch: 0122, loss: 0.4579 - val_loss: 0.5400; rmse: 0.6066 - rmse_val: 0.7348;  r2: 0.9267 - r2_val: 0.8918                                                                                                    \n",
      "epoch: 0123, loss: 0.3931 - val_loss: 0.4351; rmse: 0.5814 - rmse_val: 0.6597;  r2: 0.9377 - r2_val: 0.9039                                                                                                    \n",
      "epoch: 0124, loss: 0.3589 - val_loss: 0.4967; rmse: 0.6372 - rmse_val: 0.7048;  r2: 0.9385 - r2_val: 0.9009                                                                                                    \n",
      "epoch: 0125, loss: 0.3420 - val_loss: 0.4470; rmse: 0.5644 - rmse_val: 0.6686;  r2: 0.9366 - r2_val: 0.8956                                                                                                    \n",
      "epoch: 0126, loss: 0.3190 - val_loss: 0.4199; rmse: 0.5360 - rmse_val: 0.6480;  r2: 0.9383 - r2_val: 0.9018                                                                                                    \n",
      "epoch: 0127, loss: 0.2875 - val_loss: 0.4207; rmse: 0.5556 - rmse_val: 0.6486;  r2: 0.9408 - r2_val: 0.9044                                                                                                    \n",
      "epoch: 0128, loss: 0.3132 - val_loss: 0.4099; rmse: 0.5446 - rmse_val: 0.6403;  r2: 0.9401 - r2_val: 0.9051                                                                                                    \n",
      "epoch: 0129, loss: 0.3071 - val_loss: 0.4152; rmse: 0.5375 - rmse_val: 0.6443;  r2: 0.9376 - r2_val: 0.9068                                                                                                    \n",
      "epoch: 0130, loss: 0.2872 - val_loss: 0.4035; rmse: 0.5287 - rmse_val: 0.6353;  r2: 0.9410 - r2_val: 0.9053                                                                                                    \n",
      "epoch: 0131, loss: 0.2820 - val_loss: 0.4019; rmse: 0.5284 - rmse_val: 0.6339;  r2: 0.9413 - r2_val: 0.9050                                                                                                    \n",
      "epoch: 0132, loss: 0.2774 - val_loss: 0.4057; rmse: 0.5240 - rmse_val: 0.6369;  r2: 0.9417 - r2_val: 0.9036                                                                                                    \n",
      "epoch: 0133, loss: 0.2807 - val_loss: 0.3938; rmse: 0.5498 - rmse_val: 0.6275;  r2: 0.9415 - r2_val: 0.9097                                                                                                    \n",
      "epoch: 0134, loss: 0.2830 - val_loss: 0.5649; rmse: 0.7031 - rmse_val: 0.7515;  r2: 0.9437 - r2_val: 0.9084                                                                                                    \n",
      "epoch: 0135, loss: 0.3818 - val_loss: 0.4403; rmse: 0.5548 - rmse_val: 0.6635;  r2: 0.9401 - r2_val: 0.8994                                                                                                    \n",
      "epoch: 0136, loss: 0.2972 - val_loss: 0.4614; rmse: 0.5437 - rmse_val: 0.6792;  r2: 0.9394 - r2_val: 0.9011                                                                                                    \n",
      "epoch: 0137, loss: 0.2854 - val_loss: 0.4566; rmse: 0.5468 - rmse_val: 0.6758;  r2: 0.9400 - r2_val: 0.9048                                                                                                    \n",
      "epoch: 0138, loss: 0.2844 - val_loss: 0.5638; rmse: 0.6255 - rmse_val: 0.7509;  r2: 0.9394 - r2_val: 0.9072                                                                                                    \n",
      "epoch: 0139, loss: 0.3345 - val_loss: 0.4027; rmse: 0.5578 - rmse_val: 0.6345;  r2: 0.9438 - r2_val: 0.9111                                                                                                    \n",
      "epoch: 0140, loss: 0.3406 - val_loss: 0.4672; rmse: 0.5925 - rmse_val: 0.6836;  r2: 0.9420 - r2_val: 0.9019                                                                                                    \n",
      "epoch: 0141, loss: 0.2985 - val_loss: 0.3907; rmse: 0.5129 - rmse_val: 0.6251;  r2: 0.9449 - r2_val: 0.9081                                                                                                    \n",
      "epoch: 0142, loss: 0.2625 - val_loss: 0.4942; rmse: 0.6108 - rmse_val: 0.7030;  r2: 0.9456 - r2_val: 0.9036                                                                                                    \n",
      "epoch: 0143, loss: 0.3053 - val_loss: 0.4393; rmse: 0.5189 - rmse_val: 0.6628;  r2: 0.9429 - r2_val: 0.9003                                                                                                    \n",
      "epoch: 0144, loss: 0.3001 - val_loss: 0.7481; rmse: 0.7348 - rmse_val: 0.8649;  r2: 0.9378 - r2_val: 0.9040                                                                                                    \n",
      "epoch: 0145, loss: 0.3600 - val_loss: 0.3700; rmse: 0.5070 - rmse_val: 0.6083;  r2: 0.9454 - r2_val: 0.9128                                                                                                    \n",
      "epoch: 0146, loss: 0.2666 - val_loss: 0.4645; rmse: 0.6062 - rmse_val: 0.6815;  r2: 0.9477 - r2_val: 0.9114                                                                                                    \n",
      "epoch: 0147, loss: 0.3027 - val_loss: 0.4646; rmse: 0.6180 - rmse_val: 0.6816;  r2: 0.9479 - r2_val: 0.9121                                                                                                    \n",
      "epoch: 0148, loss: 0.3023 - val_loss: 0.4532; rmse: 0.5345 - rmse_val: 0.6732;  r2: 0.9461 - r2_val: 0.9088                                                                                                    \n",
      "epoch: 0149, loss: 0.2926 - val_loss: 0.3997; rmse: 0.5033 - rmse_val: 0.6322;  r2: 0.9453 - r2_val: 0.9091                                                                                                    \n",
      "epoch: 0150, loss: 0.3055 - val_loss: 0.5107; rmse: 0.6511 - rmse_val: 0.7147;  r2: 0.9469 - r2_val: 0.9099                                                                                                    \n",
      "epoch: 0151, loss: 0.3432 - val_loss: 0.4150; rmse: 0.5446 - rmse_val: 0.6443;  r2: 0.9453 - r2_val: 0.9081                                                                                                    \n",
      "epoch: 0152, loss: 0.2849 - val_loss: 0.4949; rmse: 0.5717 - rmse_val: 0.7035;  r2: 0.9401 - r2_val: 0.9069                                                                                                    \n",
      "epoch: 0153, loss: 0.2833 - val_loss: 0.4036; rmse: 0.5042 - rmse_val: 0.6353;  r2: 0.9445 - r2_val: 0.9080                                                                                                    \n",
      "epoch: 0154, loss: 0.2566 - val_loss: 0.6241; rmse: 0.7357 - rmse_val: 0.7900;  r2: 0.9473 - r2_val: 0.9073                                                                                                    \n",
      "epoch: 0155, loss: 0.4139 - val_loss: 0.3956; rmse: 0.4959 - rmse_val: 0.6289;  r2: 0.9468 - r2_val: 0.9076                                                                                                    \n",
      "epoch: 0156, loss: 0.3040 - val_loss: 0.5881; rmse: 0.6342 - rmse_val: 0.7669;  r2: 0.9412 - r2_val: 0.9069                                                                                                    \n",
      "epoch: 0157, loss: 0.3304 - val_loss: 0.4833; rmse: 0.5511 - rmse_val: 0.6952;  r2: 0.9449 - r2_val: 0.9058                                                                                                    \n",
      "epoch: 0158, loss: 0.3011 - val_loss: 0.4952; rmse: 0.6194 - rmse_val: 0.7036;  r2: 0.9507 - r2_val: 0.9127                                                                                                    \n",
      "epoch: 0159, loss: 0.3619 - val_loss: 0.4600; rmse: 0.5670 - rmse_val: 0.6783;  r2: 0.9479 - r2_val: 0.9031                                                                                                    \n",
      "epoch: 0160, loss: 0.2920 - val_loss: 0.3974; rmse: 0.4948 - rmse_val: 0.6304;  r2: 0.9498 - r2_val: 0.9112                                                                                                    \n",
      "epoch: 0161, loss: 0.2583 - val_loss: 0.5763; rmse: 0.6007 - rmse_val: 0.7591;  r2: 0.9443 - r2_val: 0.9022                                                                                                    \n",
      "epoch: 0162, loss: 0.2951 - val_loss: 0.4013; rmse: 0.4884 - rmse_val: 0.6335;  r2: 0.9486 - r2_val: 0.9096                                                                                                    \n",
      "epoch: 0163, loss: 0.2466 - val_loss: 0.3890; rmse: 0.4864 - rmse_val: 0.6237;  r2: 0.9504 - r2_val: 0.9111                                                                                                    \n",
      "epoch: 0164, loss: 0.2398 - val_loss: 0.3784; rmse: 0.4875 - rmse_val: 0.6152;  r2: 0.9498 - r2_val: 0.9094                                                                                                    \n",
      "epoch: 0165, loss: 0.2371 - val_loss: 0.4554; rmse: 0.5751 - rmse_val: 0.6748;  r2: 0.9519 - r2_val: 0.9116                                                                                                    \n",
      "epoch: 0166, loss: 0.2766 - val_loss: 0.3846; rmse: 0.4999 - rmse_val: 0.6202;  r2: 0.9498 - r2_val: 0.9191                                                                                                    \n",
      "epoch: 0167, loss: 0.2415 - val_loss: 0.4608; rmse: 0.5259 - rmse_val: 0.6789;  r2: 0.9488 - r2_val: 0.9103                                                                                                    \n",
      "epoch: 0168, loss: 0.2411 - val_loss: 0.3697; rmse: 0.4772 - rmse_val: 0.6080;  r2: 0.9535 - r2_val: 0.9143                                                                                                    \n",
      "epoch: 0169, loss: 0.2315 - val_loss: 0.3557; rmse: 0.4739 - rmse_val: 0.5964;  r2: 0.9534 - r2_val: 0.9160                                                                                                    \n",
      "epoch: 0170, loss: 0.2244 - val_loss: 0.3663; rmse: 0.4683 - rmse_val: 0.6052;  r2: 0.9544 - r2_val: 0.9176                                                                                                    \n",
      "epoch: 0171, loss: 0.2303 - val_loss: 0.4320; rmse: 0.5292 - rmse_val: 0.6574;  r2: 0.9491 - r2_val: 0.9176                                                                                                    \n",
      "epoch: 0172, loss: 0.2732 - val_loss: 0.3944; rmse: 0.4878 - rmse_val: 0.6280;  r2: 0.9488 - r2_val: 0.9121                                                                                                    \n",
      "epoch: 0173, loss: 0.2605 - val_loss: 0.3669; rmse: 0.4796 - rmse_val: 0.6057;  r2: 0.9531 - r2_val: 0.9142                                                                                                    \n",
      "epoch: 0174, loss: 0.2231 - val_loss: 0.4319; rmse: 0.5051 - rmse_val: 0.6572;  r2: 0.9511 - r2_val: 0.9107                                                                                                    \n",
      "epoch: 0175, loss: 0.2377 - val_loss: 0.4339; rmse: 0.5406 - rmse_val: 0.6587;  r2: 0.9543 - r2_val: 0.9119                                                                                                    \n",
      "epoch: 0176, loss: 0.3347 - val_loss: 0.4862; rmse: 0.5691 - rmse_val: 0.6973;  r2: 0.9516 - r2_val: 0.9037                                                                                                    \n",
      "epoch: 0177, loss: 0.2829 - val_loss: 0.5451; rmse: 0.5888 - rmse_val: 0.7383;  r2: 0.9498 - r2_val: 0.9086                                                                                                    \n",
      "epoch: 0178, loss: 0.2859 - val_loss: 0.4285; rmse: 0.5031 - rmse_val: 0.6546;  r2: 0.9540 - r2_val: 0.9135                                                                                                    \n",
      "epoch: 0179, loss: 0.2350 - val_loss: 0.3509; rmse: 0.4601 - rmse_val: 0.5924;  r2: 0.9550 - r2_val: 0.9169                                                                                                    \n",
      "epoch: 0180, loss: 0.2300 - val_loss: 0.3482; rmse: 0.4676 - rmse_val: 0.5900;  r2: 0.9548 - r2_val: 0.9223                                                                                                    \n",
      "epoch: 0181, loss: 0.2535 - val_loss: 0.4044; rmse: 0.4853 - rmse_val: 0.6359;  r2: 0.9517 - r2_val: 0.9130                                                                                                    \n",
      "epoch: 0182, loss: 0.2295 - val_loss: 0.3677; rmse: 0.4633 - rmse_val: 0.6064;  r2: 0.9543 - r2_val: 0.9126                                                                                                    \n",
      "epoch: 0183, loss: 0.2175 - val_loss: 0.3726; rmse: 0.4933 - rmse_val: 0.6104;  r2: 0.9545 - r2_val: 0.9142                                                                                                    \n",
      "epoch: 0184, loss: 0.2214 - val_loss: 0.3485; rmse: 0.4639 - rmse_val: 0.5903;  r2: 0.9571 - r2_val: 0.9187                                                                                                    \n",
      "epoch: 0185, loss: 0.2139 - val_loss: 0.3822; rmse: 0.4521 - rmse_val: 0.6183;  r2: 0.9548 - r2_val: 0.9106                                                                                                    \n",
      "epoch: 0186, loss: 0.2074 - val_loss: 0.3456; rmse: 0.4530 - rmse_val: 0.5879;  r2: 0.9581 - r2_val: 0.9193                                                                                                    \n",
      "epoch: 0187, loss: 0.2091 - val_loss: 0.3425; rmse: 0.4418 - rmse_val: 0.5852;  r2: 0.9576 - r2_val: 0.9188                                                                                                    \n",
      "epoch: 0188, loss: 0.2021 - val_loss: 0.4551; rmse: 0.5116 - rmse_val: 0.6746;  r2: 0.9552 - r2_val: 0.9126                                                                                                    \n",
      "epoch: 0189, loss: 0.2284 - val_loss: 0.3513; rmse: 0.4562 - rmse_val: 0.5927;  r2: 0.9584 - r2_val: 0.9180                                                                                                    \n",
      "epoch: 0190, loss: 0.2206 - val_loss: 0.4075; rmse: 0.4783 - rmse_val: 0.6384;  r2: 0.9555 - r2_val: 0.9148                                                                                                    \n",
      "epoch: 0191, loss: 0.2773 - val_loss: 0.3843; rmse: 0.4731 - rmse_val: 0.6199;  r2: 0.9572 - r2_val: 0.9168                                                                                                    \n",
      "epoch: 0192, loss: 0.2724 - val_loss: 0.3550; rmse: 0.4574 - rmse_val: 0.5959;  r2: 0.9556 - r2_val: 0.9201                                                                                                    \n",
      "epoch: 0193, loss: 0.2459 - val_loss: 0.3717; rmse: 0.4894 - rmse_val: 0.6096;  r2: 0.9558 - r2_val: 0.9146                                                                                                    \n",
      "epoch: 0194, loss: 0.2282 - val_loss: 0.3794; rmse: 0.4759 - rmse_val: 0.6160;  r2: 0.9584 - r2_val: 0.9157                                                                                                    \n",
      "epoch: 0195, loss: 0.2103 - val_loss: 0.3700; rmse: 0.4478 - rmse_val: 0.6083;  r2: 0.9557 - r2_val: 0.9138                                                                                                    \n",
      "epoch: 0196, loss: 0.2111 - val_loss: 0.6098; rmse: 0.7113 - rmse_val: 0.7810;  r2: 0.9600 - r2_val: 0.9203                                                                                                    \n",
      "epoch: 0197, loss: 0.3495 - val_loss: 0.4559; rmse: 0.5020 - rmse_val: 0.6752;  r2: 0.9576 - r2_val: 0.9137                                                                                                    \n",
      "epoch: 0198, loss: 0.2518 - val_loss: 0.3649; rmse: 0.4549 - rmse_val: 0.6041;  r2: 0.9583 - r2_val: 0.9212                                                                                                    \n",
      "epoch: 0199, loss: 0.2058 - val_loss: 0.3509; rmse: 0.4483 - rmse_val: 0.5924;  r2: 0.9593 - r2_val: 0.9181                                                                                                    \n",
      "epoch: 0200, loss: 0.1980 - val_loss: 0.3686; rmse: 0.4418 - rmse_val: 0.6071;  r2: 0.9594 - r2_val: 0.9172                                                                                                    \n",
      "epoch: 0201, loss: 0.1922 - val_loss: 0.6379; rmse: 0.6496 - rmse_val: 0.7987;  r2: 0.9544 - r2_val: 0.9145                                                                                                    \n",
      "epoch: 0202, loss: 0.3330 - val_loss: 0.3293; rmse: 0.4572 - rmse_val: 0.5739;  r2: 0.9562 - r2_val: 0.9271                                                                                                    \n",
      "epoch: 0203, loss: 0.2341 - val_loss: 0.4327; rmse: 0.5469 - rmse_val: 0.6579;  r2: 0.9588 - r2_val: 0.9157                                                                                                    \n",
      "epoch: 0204, loss: 0.2313 - val_loss: 0.3492; rmse: 0.4303 - rmse_val: 0.5910;  r2: 0.9608 - r2_val: 0.9197                                                                                                    \n",
      "epoch: 0205, loss: 0.1916 - val_loss: 0.3267; rmse: 0.4274 - rmse_val: 0.5716;  r2: 0.9612 - r2_val: 0.9248                                                                                                    \n",
      "epoch: 0206, loss: 0.1966 - val_loss: 0.3359; rmse: 0.4284 - rmse_val: 0.5796;  r2: 0.9596 - r2_val: 0.9216                                                                                                    \n",
      "epoch: 0207, loss: 0.1806 - val_loss: 0.5936; rmse: 0.6751 - rmse_val: 0.7705;  r2: 0.9604 - r2_val: 0.9160                                                                                                    \n",
      "epoch: 0208, loss: 0.3578 - val_loss: 0.3663; rmse: 0.4424 - rmse_val: 0.6052;  r2: 0.9588 - r2_val: 0.9163                                                                                                    \n",
      "epoch: 0209, loss: 0.2229 - val_loss: 0.9312; rmse: 0.8532 - rmse_val: 0.9650;  r2: 0.9523 - r2_val: 0.9176                                                                                                    \n",
      "epoch: 0210, loss: 0.4347 - val_loss: 0.4483; rmse: 0.5332 - rmse_val: 0.6696;  r2: 0.9547 - r2_val: 0.9199                                                                                                    \n",
      "epoch: 0211, loss: 0.2786 - val_loss: 0.4059; rmse: 0.5149 - rmse_val: 0.6371;  r2: 0.9606 - r2_val: 0.9185                                                                                                    \n",
      "epoch: 0212, loss: 0.2500 - val_loss: 0.3610; rmse: 0.4563 - rmse_val: 0.6009;  r2: 0.9602 - r2_val: 0.9168                                                                                                    \n",
      "epoch: 0213, loss: 0.2258 - val_loss: 0.5990; rmse: 0.6296 - rmse_val: 0.7739;  r2: 0.9573 - r2_val: 0.9193                                                                                                    \n",
      "epoch: 0214, loss: 0.3006 - val_loss: 0.3576; rmse: 0.4328 - rmse_val: 0.5980;  r2: 0.9610 - r2_val: 0.9195                                                                                                    \n",
      "epoch: 0215, loss: 0.2263 - val_loss: 0.3720; rmse: 0.4516 - rmse_val: 0.6099;  r2: 0.9593 - r2_val: 0.9183                                                                                                    \n",
      "epoch: 0216, loss: 0.2104 - val_loss: 0.3247; rmse: 0.4386 - rmse_val: 0.5698;  r2: 0.9584 - r2_val: 0.9229                                                                                                    \n",
      "epoch: 0217, loss: 0.2068 - val_loss: 0.3548; rmse: 0.4518 - rmse_val: 0.5957;  r2: 0.9599 - r2_val: 0.9234                                                                                                    \n",
      "epoch: 0218, loss: 0.1933 - val_loss: 0.3247; rmse: 0.4307 - rmse_val: 0.5698;  r2: 0.9592 - r2_val: 0.9224                                                                                                    \n",
      "epoch: 0219, loss: 0.1873 - val_loss: 0.3297; rmse: 0.4504 - rmse_val: 0.5742;  r2: 0.9630 - r2_val: 0.9273                                                                                                    \n",
      "epoch: 0220, loss: 0.1980 - val_loss: 0.3457; rmse: 0.4274 - rmse_val: 0.5880;  r2: 0.9625 - r2_val: 0.9245                                                                                                    \n",
      "epoch: 0221, loss: 0.1850 - val_loss: 0.3133; rmse: 0.4091 - rmse_val: 0.5597;  r2: 0.9630 - r2_val: 0.9255                                                                                                    \n",
      "epoch: 0222, loss: 0.1736 - val_loss: 0.3312; rmse: 0.4257 - rmse_val: 0.5754;  r2: 0.9645 - r2_val: 0.9228                                                                                                    \n",
      "epoch: 0223, loss: 0.1730 - val_loss: 0.4459; rmse: 0.5125 - rmse_val: 0.6677;  r2: 0.9630 - r2_val: 0.9252                                                                                                    \n",
      "epoch: 0224, loss: 0.2158 - val_loss: 0.3850; rmse: 0.4871 - rmse_val: 0.6204;  r2: 0.9635 - r2_val: 0.9210                                                                                                    \n",
      "epoch: 0225, loss: 0.2909 - val_loss: 0.3379; rmse: 0.4220 - rmse_val: 0.5812;  r2: 0.9609 - r2_val: 0.9189                                                                                                    \n",
      "epoch: 0226, loss: 0.2764 - val_loss: 0.4433; rmse: 0.5371 - rmse_val: 0.6658;  r2: 0.9563 - r2_val: 0.9252                                                                                                    \n",
      "epoch: 0227, loss: 0.2587 - val_loss: 0.3180; rmse: 0.4433 - rmse_val: 0.5639;  r2: 0.9618 - r2_val: 0.9260                                                                                                    \n",
      "epoch: 0228, loss: 0.2363 - val_loss: 0.3332; rmse: 0.4486 - rmse_val: 0.5772;  r2: 0.9625 - r2_val: 0.9238                                                                                                    \n",
      "epoch: 0229, loss: 0.1992 - val_loss: 0.3472; rmse: 0.4198 - rmse_val: 0.5892;  r2: 0.9629 - r2_val: 0.9203                                                                                                    \n",
      "epoch: 0230, loss: 0.1807 - val_loss: 0.3275; rmse: 0.4182 - rmse_val: 0.5724;  r2: 0.9637 - r2_val: 0.9222                                                                                                    \n",
      "epoch: 0231, loss: 0.1781 - val_loss: 0.3272; rmse: 0.4070 - rmse_val: 0.5721;  r2: 0.9642 - r2_val: 0.9228                                                                                                    \n",
      "epoch: 0232, loss: 0.1768 - val_loss: 0.3266; rmse: 0.4189 - rmse_val: 0.5715;  r2: 0.9627 - r2_val: 0.9266                                                                                                    \n",
      "epoch: 0233, loss: 0.1885 - val_loss: 0.3078; rmse: 0.4189 - rmse_val: 0.5547;  r2: 0.9654 - r2_val: 0.9280                                                                                                    \n",
      "epoch: 0234, loss: 0.1819 - val_loss: 0.3410; rmse: 0.4025 - rmse_val: 0.5840;  r2: 0.9642 - r2_val: 0.9186                                                                                                    \n",
      "epoch: 0235, loss: 0.1601 - val_loss: 0.3905; rmse: 0.4956 - rmse_val: 0.6249;  r2: 0.9672 - r2_val: 0.9246                                                                                                    \n",
      "epoch: 0236, loss: 0.2132 - val_loss: 0.3258; rmse: 0.4078 - rmse_val: 0.5708;  r2: 0.9649 - r2_val: 0.9219                                                                                                    \n",
      "epoch: 0237, loss: 0.1950 - val_loss: 0.4038; rmse: 0.4649 - rmse_val: 0.6355;  r2: 0.9649 - r2_val: 0.9237                                                                                                    \n",
      "epoch: 0238, loss: 0.1829 - val_loss: 0.3610; rmse: 0.4549 - rmse_val: 0.6008;  r2: 0.9663 - r2_val: 0.9217                                                                                                    \n",
      "epoch: 0239, loss: 0.2036 - val_loss: 0.3279; rmse: 0.4050 - rmse_val: 0.5726;  r2: 0.9646 - r2_val: 0.9250                                                                                                    \n",
      "epoch: 0240, loss: 0.2343 - val_loss: 0.3286; rmse: 0.4190 - rmse_val: 0.5732;  r2: 0.9648 - r2_val: 0.9273                                                                                                    \n",
      "epoch: 0241, loss: 0.2104 - val_loss: 0.3717; rmse: 0.5242 - rmse_val: 0.6096;  r2: 0.9633 - r2_val: 0.9315                                                                                                    \n",
      "epoch: 0242, loss: 0.2506 - val_loss: 0.3363; rmse: 0.4197 - rmse_val: 0.5800;  r2: 0.9621 - r2_val: 0.9239                                                                                                    \n",
      "epoch: 0243, loss: 0.2046 - val_loss: 0.3730; rmse: 0.4668 - rmse_val: 0.6107;  r2: 0.9647 - r2_val: 0.9292                                                                                                    \n",
      "epoch: 0244, loss: 0.1856 - val_loss: 0.3405; rmse: 0.4444 - rmse_val: 0.5836;  r2: 0.9666 - r2_val: 0.9248                                                                                                    \n",
      "epoch: 0245, loss: 0.1824 - val_loss: 0.3301; rmse: 0.3993 - rmse_val: 0.5745;  r2: 0.9660 - r2_val: 0.9210                                                                                                    \n",
      "epoch: 0246, loss: 0.1711 - val_loss: 0.4042; rmse: 0.4724 - rmse_val: 0.6357;  r2: 0.9649 - r2_val: 0.9262                                                                                                    \n",
      "epoch: 0247, loss: 0.1838 - val_loss: 0.3189; rmse: 0.3852 - rmse_val: 0.5648;  r2: 0.9677 - r2_val: 0.9255                                                                                                    \n",
      "epoch: 0248, loss: 0.1518 - val_loss: 0.3714; rmse: 0.4178 - rmse_val: 0.6095;  r2: 0.9673 - r2_val: 0.9224                                                                                                    \n",
      "epoch: 0249, loss: 0.1616 - val_loss: 0.3138; rmse: 0.3919 - rmse_val: 0.5601;  r2: 0.9682 - r2_val: 0.9258                                                                                                    \n",
      "epoch: 0250, loss: 0.1647 - val_loss: 0.4144; rmse: 0.4868 - rmse_val: 0.6437;  r2: 0.9659 - r2_val: 0.9292                                                                                                    \n",
      "epoch: 0251, loss: 0.2101 - val_loss: 0.3109; rmse: 0.3837 - rmse_val: 0.5575;  r2: 0.9679 - r2_val: 0.9257                                                                                                    \n",
      "epoch: 0252, loss: 0.1806 - val_loss: 0.3553; rmse: 0.4467 - rmse_val: 0.5959;  r2: 0.9670 - r2_val: 0.9238                                                                                                    \n",
      "epoch: 0253, loss: 0.1944 - val_loss: 0.3445; rmse: 0.4174 - rmse_val: 0.5869;  r2: 0.9659 - r2_val: 0.9256                                                                                                    \n",
      "epoch: 0254, loss: 0.1667 - val_loss: 0.4322; rmse: 0.4873 - rmse_val: 0.6574;  r2: 0.9640 - r2_val: 0.9212                                                                                                    \n",
      "epoch: 0255, loss: 0.1854 - val_loss: 0.3087; rmse: 0.3966 - rmse_val: 0.5556;  r2: 0.9665 - r2_val: 0.9264                                                                                                    \n",
      "epoch: 0256, loss: 0.1753 - val_loss: 0.3572; rmse: 0.4667 - rmse_val: 0.5977;  r2: 0.9678 - r2_val: 0.9278                                                                                                    \n",
      "epoch: 0257, loss: 0.1929 - val_loss: 0.3172; rmse: 0.4264 - rmse_val: 0.5632;  r2: 0.9636 - r2_val: 0.9311                                                                                                    \n",
      "epoch: 0258, loss: 0.1777 - val_loss: 0.3275; rmse: 0.4121 - rmse_val: 0.5722;  r2: 0.9674 - r2_val: 0.9244                                                                                                    \n",
      "epoch: 0259, loss: 0.1790 - val_loss: 0.3066; rmse: 0.4021 - rmse_val: 0.5537;  r2: 0.9665 - r2_val: 0.9281                                                                                                    \n",
      "epoch: 0260, loss: 0.1701 - val_loss: 0.3254; rmse: 0.3950 - rmse_val: 0.5705;  r2: 0.9674 - r2_val: 0.9223                                                                                                    \n",
      "epoch: 0261, loss: 0.1606 - val_loss: 0.3389; rmse: 0.3927 - rmse_val: 0.5822;  r2: 0.9682 - r2_val: 0.9229                                                                                                    \n",
      "epoch: 0262, loss: 0.1716 - val_loss: 0.3121; rmse: 0.3791 - rmse_val: 0.5586;  r2: 0.9686 - r2_val: 0.9255                                                                                                    \n",
      "epoch: 0263, loss: 0.1618 - val_loss: 0.3300; rmse: 0.4032 - rmse_val: 0.5745;  r2: 0.9676 - r2_val: 0.9282                                                                                                    \n",
      "epoch: 0264, loss: 0.1789 - val_loss: 0.3982; rmse: 0.4656 - rmse_val: 0.6311;  r2: 0.9668 - r2_val: 0.9275                                                                                                    \n",
      "epoch: 0265, loss: 0.1646 - val_loss: 0.3624; rmse: 0.4403 - rmse_val: 0.6019;  r2: 0.9690 - r2_val: 0.9217                                                                                                    \n",
      "epoch: 0266, loss: 0.1898 - val_loss: 0.3409; rmse: 0.3927 - rmse_val: 0.5839;  r2: 0.9691 - r2_val: 0.9252                                                                                                    \n",
      "epoch: 0267, loss: 0.1504 - val_loss: 0.3050; rmse: 0.3724 - rmse_val: 0.5522;  r2: 0.9706 - r2_val: 0.9271                                                                                                    \n",
      "epoch: 0268, loss: 0.1755 - val_loss: 0.3256; rmse: 0.3880 - rmse_val: 0.5705;  r2: 0.9671 - r2_val: 0.9220                                                                                                    \n",
      "epoch: 0269, loss: 0.1633 - val_loss: 0.3263; rmse: 0.3821 - rmse_val: 0.5712;  r2: 0.9678 - r2_val: 0.9223                                                                                                    \n",
      "epoch: 0270, loss: 0.1604 - val_loss: 0.3192; rmse: 0.3797 - rmse_val: 0.5650;  r2: 0.9694 - r2_val: 0.9238                                                                                                    \n",
      "epoch: 0271, loss: 0.1488 - val_loss: 0.3647; rmse: 0.4095 - rmse_val: 0.6038;  r2: 0.9692 - r2_val: 0.9242                                                                                                    \n",
      "epoch: 0272, loss: 0.1575 - val_loss: 0.3535; rmse: 0.4421 - rmse_val: 0.5946;  r2: 0.9714 - r2_val: 0.9261                                                                                                    \n",
      "epoch: 0273, loss: 0.1550 - val_loss: 0.3204; rmse: 0.3668 - rmse_val: 0.5660;  r2: 0.9703 - r2_val: 0.9236                                                                                                    \n",
      "epoch: 0274, loss: 0.1482 - val_loss: 0.3313; rmse: 0.3895 - rmse_val: 0.5756;  r2: 0.9713 - r2_val: 0.9234                                                                                                    \n",
      "epoch: 0275, loss: 0.1428 - val_loss: 0.3151; rmse: 0.3600 - rmse_val: 0.5613;  r2: 0.9722 - r2_val: 0.9261                                                                                                    \n",
      "epoch: 0276, loss: 0.1317 - val_loss: 0.3389; rmse: 0.4159 - rmse_val: 0.5822;  r2: 0.9730 - r2_val: 0.9272                                                                                                    \n",
      "epoch: 0277, loss: 0.1547 - val_loss: 0.3555; rmse: 0.4093 - rmse_val: 0.5962;  r2: 0.9712 - r2_val: 0.9260                                                                                                    \n",
      "epoch: 0278, loss: 0.1477 - val_loss: 0.3121; rmse: 0.3559 - rmse_val: 0.5586;  r2: 0.9721 - r2_val: 0.9252                                                                                                    \n",
      "epoch: 0279, loss: 0.1325 - val_loss: 0.3064; rmse: 0.3546 - rmse_val: 0.5536;  r2: 0.9731 - r2_val: 0.9272                                                                                                    \n",
      "epoch: 0280, loss: 0.1396 - val_loss: 0.3862; rmse: 0.4351 - rmse_val: 0.6214;  r2: 0.9706 - r2_val: 0.9268                                                                                                    \n",
      "epoch: 0281, loss: 0.1580 - val_loss: 0.5282; rmse: 0.5385 - rmse_val: 0.7268;  r2: 0.9685 - r2_val: 0.9184                                                                                                    \n",
      "epoch: 0282, loss: 0.2093 - val_loss: 0.3908; rmse: 0.4759 - rmse_val: 0.6252;  r2: 0.9703 - r2_val: 0.9265                                                                                                    \n",
      "epoch: 0283, loss: 0.1937 - val_loss: 0.4374; rmse: 0.5070 - rmse_val: 0.6614;  r2: 0.9641 - r2_val: 0.9263                                                                                                    \n",
      "epoch: 0284, loss: 0.2013 - val_loss: 0.4236; rmse: 0.5160 - rmse_val: 0.6509;  r2: 0.9683 - r2_val: 0.9214                                                                                                    \n",
      "epoch: 0285, loss: 0.2061 - val_loss: 0.3990; rmse: 0.4659 - rmse_val: 0.6315;  r2: 0.9700 - r2_val: 0.9286                                                                                                    \n",
      "epoch: 0286, loss: 0.1604 - val_loss: 0.3973; rmse: 0.4827 - rmse_val: 0.6303;  r2: 0.9719 - r2_val: 0.9237                                                                                                    \n",
      "epoch: 0287, loss: 0.1875 - val_loss: 0.6692; rmse: 0.6541 - rmse_val: 0.8180;  r2: 0.9685 - r2_val: 0.9208                                                                                                    \n",
      "epoch: 0288, loss: 0.2706 - val_loss: 0.5427; rmse: 0.6145 - rmse_val: 0.7367;  r2: 0.9719 - r2_val: 0.9219                                                                                                    \n",
      "epoch: 0289, loss: 0.2681 - val_loss: 0.5442; rmse: 0.5655 - rmse_val: 0.7377;  r2: 0.9706 - r2_val: 0.9255                                                                                                    \n",
      "epoch: 0290, loss: 0.2487 - val_loss: 0.3606; rmse: 0.4177 - rmse_val: 0.6004;  r2: 0.9706 - r2_val: 0.9283                                                                                                    \n",
      "epoch: 0291, loss: 0.1506 - val_loss: 0.3245; rmse: 0.3626 - rmse_val: 0.5697;  r2: 0.9715 - r2_val: 0.9240                                                                                                    \n",
      "epoch: 0292, loss: 0.1319 - val_loss: 0.3104; rmse: 0.3607 - rmse_val: 0.5572;  r2: 0.9727 - r2_val: 0.9276                                                                                                    \n",
      "epoch: 0293, loss: 0.1413 - val_loss: 0.3010; rmse: 0.3864 - rmse_val: 0.5487;  r2: 0.9715 - r2_val: 0.9301                                                                                                    \n",
      "epoch: 0294, loss: 0.1423 - val_loss: 0.3209; rmse: 0.3585 - rmse_val: 0.5665;  r2: 0.9723 - r2_val: 0.9255                                                                                                    \n",
      "epoch: 0295, loss: 0.1354 - val_loss: 0.3104; rmse: 0.3642 - rmse_val: 0.5571;  r2: 0.9740 - r2_val: 0.9274                                                                                                    \n",
      "epoch: 0296, loss: 0.1369 - val_loss: 0.3316; rmse: 0.3680 - rmse_val: 0.5759;  r2: 0.9732 - r2_val: 0.9272                                                                                                    \n",
      "epoch: 0297, loss: 0.1428 - val_loss: 0.3123; rmse: 0.3557 - rmse_val: 0.5588;  r2: 0.9737 - r2_val: 0.9258                                                                                                    \n",
      "epoch: 0298, loss: 0.1299 - val_loss: 0.3219; rmse: 0.3886 - rmse_val: 0.5674;  r2: 0.9747 - r2_val: 0.9287                                                                                                    \n",
      "epoch: 0299, loss: 0.1381 - val_loss: 0.6077; rmse: 0.5956 - rmse_val: 0.7796;  r2: 0.9704 - r2_val: 0.9206                                                                                                    \n",
      "epoch: 0300, loss: 0.2525 - val_loss: 0.4575; rmse: 0.5301 - rmse_val: 0.6764;  r2: 0.9731 - r2_val: 0.9236                                                                                                    \n",
      "epoch: 0301, loss: 0.2200 - val_loss: 0.3445; rmse: 0.3863 - rmse_val: 0.5870;  r2: 0.9701 - r2_val: 0.9238                                                                                                    \n",
      "epoch: 0302, loss: 0.1887 - val_loss: 0.3569; rmse: 0.4192 - rmse_val: 0.5974;  r2: 0.9724 - r2_val: 0.9277                                                                                                    \n",
      "epoch: 0303, loss: 0.1711 - val_loss: 0.3411; rmse: 0.3956 - rmse_val: 0.5840;  r2: 0.9697 - r2_val: 0.9273                                                                                                    \n",
      "epoch: 0304, loss: 0.1740 - val_loss: 0.3928; rmse: 0.4199 - rmse_val: 0.6267;  r2: 0.9709 - r2_val: 0.9225                                                                                                    \n",
      "epoch: 0305, loss: 0.1670 - val_loss: 0.3329; rmse: 0.3722 - rmse_val: 0.5770;  r2: 0.9714 - r2_val: 0.9210                                                                                                    \n",
      "epoch: 0306, loss: 0.1495 - val_loss: 0.3643; rmse: 0.3929 - rmse_val: 0.6036;  r2: 0.9724 - r2_val: 0.9226                                                                                                    \n",
      "epoch: 0307, loss: 0.1579 - val_loss: 0.3827; rmse: 0.4977 - rmse_val: 0.6186;  r2: 0.9741 - r2_val: 0.9297                                                                                                    \n",
      "epoch: 0308, loss: 0.1942 - val_loss: 0.3363; rmse: 0.3751 - rmse_val: 0.5798;  r2: 0.9739 - r2_val: 0.9288                                                                                                    \n",
      "epoch: 0309, loss: 0.1416 - val_loss: 0.3199; rmse: 0.3555 - rmse_val: 0.5657;  r2: 0.9736 - r2_val: 0.9274                                                                                                    \n",
      "epoch: 0310, loss: 0.1249 - val_loss: 0.2975; rmse: 0.3520 - rmse_val: 0.5454;  r2: 0.9733 - r2_val: 0.9287                                                                                                    \n",
      "epoch: 0311, loss: 0.1247 - val_loss: 0.4559; rmse: 0.4816 - rmse_val: 0.6752;  r2: 0.9714 - r2_val: 0.9261                                                                                                    \n",
      "epoch: 0312, loss: 0.1889 - val_loss: 0.3109; rmse: 0.3652 - rmse_val: 0.5577;  r2: 0.9720 - r2_val: 0.9257                                                                                                    \n",
      "epoch: 0313, loss: 0.1432 - val_loss: 0.2837; rmse: 0.3498 - rmse_val: 0.5326;  r2: 0.9736 - r2_val: 0.9325                                                                                                    \n",
      "epoch: 0314, loss: 0.1308 - val_loss: 0.3049; rmse: 0.3507 - rmse_val: 0.5522;  r2: 0.9733 - r2_val: 0.9268                                                                                                    \n",
      "epoch: 0315, loss: 0.1228 - val_loss: 0.2876; rmse: 0.3547 - rmse_val: 0.5363;  r2: 0.9733 - r2_val: 0.9314                                                                                                    \n",
      "epoch: 0316, loss: 0.1240 - val_loss: 0.2991; rmse: 0.3387 - rmse_val: 0.5470;  r2: 0.9752 - r2_val: 0.9283                                                                                                    \n",
      "epoch: 0317, loss: 0.1166 - val_loss: 0.3062; rmse: 0.3399 - rmse_val: 0.5532;  r2: 0.9753 - r2_val: 0.9296                                                                                                    \n",
      "epoch: 0318, loss: 0.1216 - val_loss: 0.3279; rmse: 0.3707 - rmse_val: 0.5727;  r2: 0.9746 - r2_val: 0.9241                                                                                                    \n",
      "epoch: 0319, loss: 0.1374 - val_loss: 0.4687; rmse: 0.4826 - rmse_val: 0.6846;  r2: 0.9722 - r2_val: 0.9232                                                                                                    \n",
      "epoch: 0320, loss: 0.1794 - val_loss: 0.3459; rmse: 0.4144 - rmse_val: 0.5882;  r2: 0.9729 - r2_val: 0.9238                                                                                                    \n",
      "epoch: 0321, loss: 0.1663 - val_loss: 0.3625; rmse: 0.3916 - rmse_val: 0.6021;  r2: 0.9745 - r2_val: 0.9268                                                                                                    \n",
      "epoch: 0322, loss: 0.1301 - val_loss: 0.3316; rmse: 0.3635 - rmse_val: 0.5758;  r2: 0.9741 - r2_val: 0.9270                                                                                                    \n",
      "epoch: 0323, loss: 0.1290 - val_loss: 0.3058; rmse: 0.3346 - rmse_val: 0.5530;  r2: 0.9756 - r2_val: 0.9267                                                                                                    \n",
      "epoch: 0324, loss: 0.1152 - val_loss: 0.3405; rmse: 0.3658 - rmse_val: 0.5835;  r2: 0.9752 - r2_val: 0.9269                                                                                                    \n",
      "epoch: 0325, loss: 0.1191 - val_loss: 0.3050; rmse: 0.3298 - rmse_val: 0.5523;  r2: 0.9768 - r2_val: 0.9268                                                                                                    \n",
      "epoch: 0326, loss: 0.1086 - val_loss: 0.2994; rmse: 0.3406 - rmse_val: 0.5473;  r2: 0.9775 - r2_val: 0.9294                                                                                                    \n",
      "epoch: 0327, loss: 0.1120 - val_loss: 0.2998; rmse: 0.3327 - rmse_val: 0.5476;  r2: 0.9779 - r2_val: 0.9290                                                                                                    \n",
      "epoch: 0328, loss: 0.1168 - val_loss: 0.5096; rmse: 0.5201 - rmse_val: 0.7138;  r2: 0.9727 - r2_val: 0.9271                                                                                                    \n",
      "epoch: 0329, loss: 0.2098 - val_loss: 0.4613; rmse: 0.5171 - rmse_val: 0.6793;  r2: 0.9727 - r2_val: 0.9202                                                                                                    \n",
      "epoch: 0330, loss: 0.1904 - val_loss: 0.3046; rmse: 0.3421 - rmse_val: 0.5519;  r2: 0.9748 - r2_val: 0.9295                                                                                                    \n",
      "epoch: 0331, loss: 0.1194 - val_loss: 0.3548; rmse: 0.3950 - rmse_val: 0.5957;  r2: 0.9759 - r2_val: 0.9223                                                                                                    \n",
      "epoch: 0332, loss: 0.1262 - val_loss: 0.3415; rmse: 0.3677 - rmse_val: 0.5845;  r2: 0.9770 - r2_val: 0.9289                                                                                                    \n",
      "epoch: 0333, loss: 0.1242 - val_loss: 0.3317; rmse: 0.3885 - rmse_val: 0.5759;  r2: 0.9780 - r2_val: 0.9285                                                                                                    \n",
      "epoch: 0334, loss: 0.1270 - val_loss: 0.3300; rmse: 0.3596 - rmse_val: 0.5744;  r2: 0.9780 - r2_val: 0.9303                                                                                                    \n",
      "epoch: 0335, loss: 0.1275 - val_loss: 0.3211; rmse: 0.3848 - rmse_val: 0.5666;  r2: 0.9751 - r2_val: 0.9282                                                                                                    \n",
      "epoch: 0336, loss: 0.1193 - val_loss: 0.3057; rmse: 0.3689 - rmse_val: 0.5529;  r2: 0.9769 - r2_val: 0.9311                                                                                                    \n",
      "epoch: 0337, loss: 0.1339 - val_loss: 0.2994; rmse: 0.3284 - rmse_val: 0.5472;  r2: 0.9761 - r2_val: 0.9297                                                                                                    \n",
      "epoch: 0338, loss: 0.1146 - val_loss: 0.3138; rmse: 0.3350 - rmse_val: 0.5602;  r2: 0.9751 - r2_val: 0.9250                                                                                                    \n",
      "epoch: 0339, loss: 0.1117 - val_loss: 0.3206; rmse: 0.3661 - rmse_val: 0.5662;  r2: 0.9774 - r2_val: 0.9276                                                                                                    \n",
      "epoch: 0340, loss: 0.1153 - val_loss: 0.3000; rmse: 0.3200 - rmse_val: 0.5478;  r2: 0.9780 - r2_val: 0.9296                                                                                                    \n",
      "epoch: 0341, loss: 0.1027 - val_loss: 0.3062; rmse: 0.3445 - rmse_val: 0.5534;  r2: 0.9781 - r2_val: 0.9292                                                                                                    \n",
      "epoch: 0342, loss: 0.1063 - val_loss: 0.3322; rmse: 0.3502 - rmse_val: 0.5763;  r2: 0.9784 - r2_val: 0.9281                                                                                                    \n",
      "epoch: 0343, loss: 0.1169 - val_loss: 0.3041; rmse: 0.3515 - rmse_val: 0.5514;  r2: 0.9787 - r2_val: 0.9309                                                                                                    \n",
      "epoch: 0344, loss: 0.1130 - val_loss: 0.3092; rmse: 0.3226 - rmse_val: 0.5560;  r2: 0.9788 - r2_val: 0.9288                                                                                                    \n",
      "epoch: 0345, loss: 0.1085 - val_loss: 0.2942; rmse: 0.3184 - rmse_val: 0.5424;  r2: 0.9776 - r2_val: 0.9298                                                                                                    \n",
      "epoch: 0346, loss: 0.1109 - val_loss: 0.3040; rmse: 0.3255 - rmse_val: 0.5514;  r2: 0.9777 - r2_val: 0.9288                                                                                                    \n",
      "epoch: 0347, loss: 0.1085 - val_loss: 0.2879; rmse: 0.3171 - rmse_val: 0.5366;  r2: 0.9788 - r2_val: 0.9310                                                                                                    \n",
      "epoch: 0348, loss: 0.0999 - val_loss: 0.3187; rmse: 0.3370 - rmse_val: 0.5644;  r2: 0.9791 - r2_val: 0.9317                                                                                                    \n",
      "epoch: 0349, loss: 0.1027 - val_loss: 0.3120; rmse: 0.3243 - rmse_val: 0.5586;  r2: 0.9794 - r2_val: 0.9310                                                                                                    \n",
      "epoch: 0350, loss: 0.1121 - val_loss: 0.4031; rmse: 0.4826 - rmse_val: 0.6349;  r2: 0.9785 - r2_val: 0.9299                                                                                                    \n",
      "epoch: 0351, loss: 0.1711 - val_loss: 0.5240; rmse: 0.5516 - rmse_val: 0.7238;  r2: 0.9757 - r2_val: 0.9267                                                                                                    \n",
      "epoch: 0352, loss: 0.1988 - val_loss: 0.5283; rmse: 0.5802 - rmse_val: 0.7268;  r2: 0.9750 - r2_val: 0.9224                                                                                                    \n",
      "epoch: 0353, loss: 0.1999 - val_loss: 0.4165; rmse: 0.4548 - rmse_val: 0.6454;  r2: 0.9697 - r2_val: 0.9284                                                                                                    \n",
      "epoch: 0354, loss: 0.1762 - val_loss: 0.3228; rmse: 0.3637 - rmse_val: 0.5682;  r2: 0.9753 - r2_val: 0.9258                                                                                                    \n",
      "epoch: 0355, loss: 0.1442 - val_loss: 0.3073; rmse: 0.3547 - rmse_val: 0.5544;  r2: 0.9753 - r2_val: 0.9283                                                                                                    \n",
      "epoch: 0356, loss: 0.1385 - val_loss: 0.3909; rmse: 0.4302 - rmse_val: 0.6253;  r2: 0.9775 - r2_val: 0.9281                                                                                                    \n",
      "epoch: 0357, loss: 0.1925 - val_loss: 0.5386; rmse: 0.6113 - rmse_val: 0.7338;  r2: 0.9759 - r2_val: 0.9276                                                                                                    \n",
      "epoch: 0358, loss: 0.2579 - val_loss: 0.4114; rmse: 0.4330 - rmse_val: 0.6414;  r2: 0.9722 - r2_val: 0.9248                                                                                                    \n",
      "epoch: 0359, loss: 0.1428 - val_loss: 0.2955; rmse: 0.3362 - rmse_val: 0.5435;  r2: 0.9779 - r2_val: 0.9304                                                                                                    \n",
      "epoch: 0360, loss: 0.1120 - val_loss: 0.3046; rmse: 0.3228 - rmse_val: 0.5519;  r2: 0.9785 - r2_val: 0.9271                                                                                                    \n",
      "epoch: 0361, loss: 0.1034 - val_loss: 0.3084; rmse: 0.3152 - rmse_val: 0.5553;  r2: 0.9787 - r2_val: 0.9287                                                                                                    \n",
      "epoch: 0362, loss: 0.1005 - val_loss: 0.3337; rmse: 0.3778 - rmse_val: 0.5776;  r2: 0.9796 - r2_val: 0.9286                                                                                                    \n",
      "epoch: 0363, loss: 0.1446 - val_loss: 0.4672; rmse: 0.4926 - rmse_val: 0.6835;  r2: 0.9744 - r2_val: 0.9259                                                                                                    \n",
      "\n",
      "Restoring model weights from the end of the best epoch.\n",
      "\n",
      "Epoch 00363: early stopping\n"
     ]
    },
    {
     "data": {
      "text/plain": [
       "<tensorflow.python.keras.callbacks.History at 0x7f36db4de7f0>"
      ]
     },
     "execution_count": 23,
     "metadata": {},
     "output_type": "execute_result"
    }
   ],
   "source": [
    "model.fit(trainX, trainY, batch_size=batch_size, \n",
    "          epochs=epochs, verbose= 0, shuffle = True, \n",
    "          validation_data = (validX, validY), \n",
    "          callbacks=[performance]) "
   ]
  },
  {
   "cell_type": "code",
   "execution_count": 25,
   "metadata": {},
   "outputs": [
    {
     "data": {
      "text/plain": [
       "<matplotlib.axes._subplots.AxesSubplot at 0x7f31f56e60f0>"
      ]
     },
     "execution_count": 25,
     "metadata": {},
     "output_type": "execute_result"
    },
    {
     "data": {
      "image/png": "[encoded data removed]",
      "text/plain": [
       "<Figure size 432x288 with 1 Axes>"
      ]
     },
     "metadata": {
      "needs_background": "light"
     },
     "output_type": "display_data"
    }
   ],
   "source": [
    "dfp = pd.DataFrame(performance.history)[['loss', 'val_loss']]\n",
    "dfp.plot()"
   ]
  },
  {
   "cell_type": "code",
   "execution_count": 26,
   "metadata": {},
   "outputs": [
    {
     "data": {
      "text/plain": [
       "([0.34981658852517117], [0.9736469307670366])"
      ]
     },
     "execution_count": 26,
     "metadata": {},
     "output_type": "execute_result"
    }
   ],
   "source": [
    "performance.evaluate(trainX, trainY) # RMSE, R^2"
   ]
  },
  {
   "cell_type": "code",
   "execution_count": 27,
   "metadata": {},
   "outputs": [
    {
     "data": {
      "text/plain": [
       "([0.53259015768776], [0.9324969996515037])"
      ]
     },
     "execution_count": 27,
     "metadata": {},
     "output_type": "execute_result"
    }
   ],
   "source": [
    "performance.evaluate(validX, validY) # RMSE, R^2"
   ]
  },
  {
   "cell_type": "code",
   "execution_count": 28,
   "metadata": {},
   "outputs": [
    {
     "data": {
      "text/plain": [
       "([0.4708446484866295], [0.9377660942251219])"
      ]
     },
     "execution_count": 28,
     "metadata": {},
     "output_type": "execute_result"
    }
   ],
   "source": [
    "performance.evaluate(testX, testY) # RMSE, R^2"
   ]
  },
  {
   "cell_type": "code",
   "execution_count": 29,
   "metadata": {},
   "outputs": [
    {
     "data": {
      "text/plain": [
       "([0.75939903646175], [0.44370820340803585])"
      ]
     },
     "execution_count": 29,
     "metadata": {},
     "output_type": "execute_result"
    }
   ],
   "source": [
    "performance.evaluate(etcX, etcY)  # RMSE, R^2"
   ]
  },
  {
   "cell_type": "code",
   "execution_count": 30,
   "metadata": {},
   "outputs": [
    {
     "data": {
      "text/html": [
       "<div>\n",
       "<style scoped>\n",
       "    .dataframe tbody tr th:only-of-type {\n",
       "        vertical-align: middle;\n",
       "    }\n",
       "\n",
       "    .dataframe tbody tr th {\n",
       "        vertical-align: top;\n",
       "    }\n",
       "\n",
       "    .dataframe thead th {\n",
       "        text-align: right;\n",
       "    }\n",
       "</style>\n",
       "<table border=\"1\" class=\"dataframe\">\n",
       "  <thead>\n",
       "    <tr style=\"text-align: right;\">\n",
       "      <th></th>\n",
       "      <th>Exp_LogS</th>\n",
       "      <th>Pred_LogS</th>\n",
       "    </tr>\n",
       "  </thead>\n",
       "  <tbody>\n",
       "    <tr>\n",
       "      <td>Exp_LogS</td>\n",
       "      <td>1.000000</td>\n",
       "      <td>0.666114</td>\n",
       "    </tr>\n",
       "    <tr>\n",
       "      <td>Pred_LogS</td>\n",
       "      <td>0.666114</td>\n",
       "      <td>1.000000</td>\n",
       "    </tr>\n",
       "  </tbody>\n",
       "</table>\n",
       "</div>"
      ],
      "text/plain": [
       "           Exp_LogS  Pred_LogS\n",
       "Exp_LogS   1.000000   0.666114\n",
       "Pred_LogS  0.666114   1.000000"
      ]
     },
     "execution_count": 30,
     "metadata": {},
     "output_type": "execute_result"
    }
   ],
   "source": [
    "dfr = df_etc[['Exp_LogS']].join(pd.DataFrame(performance.model.predict(etcX), columns= ['Pred_LogS']))\n",
    "dfr.corr()"
   ]
  },
  {
   "cell_type": "code",
   "execution_count": 31,
   "metadata": {},
   "outputs": [
    {
     "data": {
      "text/plain": [
       "<matplotlib.collections.PathCollection at 0x7f352d15b710>"
      ]
     },
     "execution_count": 31,
     "metadata": {},
     "output_type": "execute_result"
    },
    {
     "data": {
      "image/png": "[encoded data removed]",
      "text/plain": [
       "<Figure size 576x432 with 1 Axes>"
      ]
     },
     "metadata": {
      "needs_background": "light"
     },
     "output_type": "display_data"
    }
   ],
   "source": [
    "plt.figure(figsize = (8,6))\n",
    "plt.scatter(dfr.Exp_LogS, dfr.Pred_LogS)"
   ]
  },
  {
   "cell_type": "code",
   "execution_count": 33,
   "metadata": {},
   "outputs": [],
   "source": [
    "performance.model.save('solubility_MMND.h5')"
   ]
  },
  {
   "cell_type": "code",
   "execution_count": null,
   "metadata": {},
   "outputs": [],
   "source": []
  },
  {
   "cell_type": "code",
   "execution_count": null,
   "metadata": {},
   "outputs": [],
   "source": []
  },
  {
   "cell_type": "code",
   "execution_count": null,
   "metadata": {},
   "outputs": [],
   "source": []
  },
  {
   "cell_type": "code",
   "execution_count": null,
   "metadata": {},
   "outputs": [],
   "source": []
  }
 ],
 "metadata": {
  "kernelspec": {
   "display_name": "Python 3",
   "language": "python",
   "name": "python3"
  },
  "language_info": {
   "codemirror_mode": {
    "name": "ipython",
    "version": 3
   },
   "file_extension": ".py",
   "mimetype": "text/x-python",
   "name": "python",
   "nbconvert_exporter": "python",
   "pygments_lexer": "ipython3",
   "version": "3.6.5"
  }
 },
 "nbformat": 4,
 "nbformat_minor": 4
}
