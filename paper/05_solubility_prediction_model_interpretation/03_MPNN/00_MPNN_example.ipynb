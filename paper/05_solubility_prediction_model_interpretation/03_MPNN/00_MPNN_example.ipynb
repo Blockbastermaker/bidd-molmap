{
 "cells": [
  {
   "cell_type": "code",
   "execution_count": 1,
   "metadata": {},
   "outputs": [
    {
     "name": "stderr",
     "output_type": "stream",
     "text": [
      "/home/sxh/anaconda3/envs/my-rdkit-env/lib/python3.6/site-packages/tensorflow/python/framework/dtypes.py:516: FutureWarning: Passing (type, 1) or '1type' as a synonym of type is deprecated; in a future version of numpy, it will be understood as (type, (1,)) / '(1,)type'.\n",
      "  _np_qint8 = np.dtype([(\"qint8\", np.int8, 1)])\n",
      "/home/sxh/anaconda3/envs/my-rdkit-env/lib/python3.6/site-packages/tensorflow/python/framework/dtypes.py:517: FutureWarning: Passing (type, 1) or '1type' as a synonym of type is deprecated; in a future version of numpy, it will be understood as (type, (1,)) / '(1,)type'.\n",
      "  _np_quint8 = np.dtype([(\"quint8\", np.uint8, 1)])\n",
      "/home/sxh/anaconda3/envs/my-rdkit-env/lib/python3.6/site-packages/tensorflow/python/framework/dtypes.py:518: FutureWarning: Passing (type, 1) or '1type' as a synonym of type is deprecated; in a future version of numpy, it will be understood as (type, (1,)) / '(1,)type'.\n",
      "  _np_qint16 = np.dtype([(\"qint16\", np.int16, 1)])\n",
      "/home/sxh/anaconda3/envs/my-rdkit-env/lib/python3.6/site-packages/tensorflow/python/framework/dtypes.py:519: FutureWarning: Passing (type, 1) or '1type' as a synonym of type is deprecated; in a future version of numpy, it will be understood as (type, (1,)) / '(1,)type'.\n",
      "  _np_quint16 = np.dtype([(\"quint16\", np.uint16, 1)])\n",
      "/home/sxh/anaconda3/envs/my-rdkit-env/lib/python3.6/site-packages/tensorflow/python/framework/dtypes.py:520: FutureWarning: Passing (type, 1) or '1type' as a synonym of type is deprecated; in a future version of numpy, it will be understood as (type, (1,)) / '(1,)type'.\n",
      "  _np_qint32 = np.dtype([(\"qint32\", np.int32, 1)])\n",
      "/home/sxh/anaconda3/envs/my-rdkit-env/lib/python3.6/site-packages/tensorflow/python/framework/dtypes.py:525: FutureWarning: Passing (type, 1) or '1type' as a synonym of type is deprecated; in a future version of numpy, it will be understood as (type, (1,)) / '(1,)type'.\n",
      "  np_resource = np.dtype([(\"resource\", np.ubyte, 1)])\n",
      "/home/sxh/anaconda3/envs/my-rdkit-env/lib/python3.6/site-packages/tensorboard/compat/tensorflow_stub/dtypes.py:541: FutureWarning: Passing (type, 1) or '1type' as a synonym of type is deprecated; in a future version of numpy, it will be understood as (type, (1,)) / '(1,)type'.\n",
      "  _np_qint8 = np.dtype([(\"qint8\", np.int8, 1)])\n",
      "/home/sxh/anaconda3/envs/my-rdkit-env/lib/python3.6/site-packages/tensorboard/compat/tensorflow_stub/dtypes.py:542: FutureWarning: Passing (type, 1) or '1type' as a synonym of type is deprecated; in a future version of numpy, it will be understood as (type, (1,)) / '(1,)type'.\n",
      "  _np_quint8 = np.dtype([(\"quint8\", np.uint8, 1)])\n",
      "/home/sxh/anaconda3/envs/my-rdkit-env/lib/python3.6/site-packages/tensorboard/compat/tensorflow_stub/dtypes.py:543: FutureWarning: Passing (type, 1) or '1type' as a synonym of type is deprecated; in a future version of numpy, it will be understood as (type, (1,)) / '(1,)type'.\n",
      "  _np_qint16 = np.dtype([(\"qint16\", np.int16, 1)])\n",
      "/home/sxh/anaconda3/envs/my-rdkit-env/lib/python3.6/site-packages/tensorboard/compat/tensorflow_stub/dtypes.py:544: FutureWarning: Passing (type, 1) or '1type' as a synonym of type is deprecated; in a future version of numpy, it will be understood as (type, (1,)) / '(1,)type'.\n",
      "  _np_quint16 = np.dtype([(\"quint16\", np.uint16, 1)])\n",
      "/home/sxh/anaconda3/envs/my-rdkit-env/lib/python3.6/site-packages/tensorboard/compat/tensorflow_stub/dtypes.py:545: FutureWarning: Passing (type, 1) or '1type' as a synonym of type is deprecated; in a future version of numpy, it will be understood as (type, (1,)) / '(1,)type'.\n",
      "  _np_qint32 = np.dtype([(\"qint32\", np.int32, 1)])\n",
      "/home/sxh/anaconda3/envs/my-rdkit-env/lib/python3.6/site-packages/tensorboard/compat/tensorflow_stub/dtypes.py:550: FutureWarning: Passing (type, 1) or '1type' as a synonym of type is deprecated; in a future version of numpy, it will be understood as (type, (1,)) / '(1,)type'.\n",
      "  np_resource = np.dtype([(\"resource\", np.ubyte, 1)])\n",
      "/home/sxh/anaconda3/envs/my-rdkit-env/lib/python3.6/site-packages/sklearn/externals/joblib/__init__.py:15: DeprecationWarning: sklearn.externals.joblib is deprecated in 0.21 and will be removed in 0.23. Please import this functionality directly from joblib, which can be installed with: pip install joblib. If this warning is raised when loading pickled models, you may need to re-serialize those models with scikit-learn 0.21+.\n",
      "  warnings.warn(msg, category=DeprecationWarning)\n"
     ]
    }
   ],
   "source": [
    "from __future__ import print_function\n",
    "from __future__ import division\n",
    "from __future__ import unicode_literals\n",
    "\n",
    "import numpy as np\n",
    "import tensorflow as tf\n",
    "from joblib import load,dump\n",
    "from rdkit import Chem\n",
    "import pandas as pd\n",
    "\n",
    "from deepchem.models import GraphConvModel, MPNNModel\n",
    "import deepchem as dc\n",
    "from deepchem.molnet.preset_hyper_parameters import hps\n",
    "from copy import deepcopy\n",
    "import os\n",
    "os.environ[\"CUDA_VISIBLE_DEVICES\"]=\"0\"\n",
    "%matplotlib inline\n",
    "#os.environ.setdefault('DEEPCHEM_DATA_DIR', os.popen('pwd').read().strip())"
   ]
  },
  {
   "cell_type": "code",
   "execution_count": 2,
   "metadata": {},
   "outputs": [
    {
     "data": {
      "text/plain": [
       "'2.1.1'"
      ]
     },
     "execution_count": 2,
     "metadata": {},
     "output_type": "execute_result"
    }
   ],
   "source": [
    "dc.__version__"
   ]
  },
  {
   "cell_type": "code",
   "execution_count": 3,
   "metadata": {},
   "outputs": [],
   "source": [
    "seed = 123\n",
    "np.random.seed(seed)\n",
    "tf.set_random_seed(seed)"
   ]
  },
  {
   "cell_type": "code",
   "execution_count": 4,
   "metadata": {},
   "outputs": [],
   "source": [
    "def featurize_data(tasks, smiles_col, featurizer, dataset_file, normalize = True):\n",
    "    loader = dc.data.CSVLoader(tasks=tasks, smiles_field=smiles_col, featurizer=featurizer)\n",
    "    dataset = loader.featurize(dataset_file)\n",
    "    move_mean = True\n",
    "    if normalize:\n",
    "        transformers = [dc.trans.NormalizationTransformer(\n",
    "            transform_y=True, dataset=dataset, move_mean=move_mean)]\n",
    "    else:\n",
    "        transformers = []\n",
    "    for transformer in transformers:\n",
    "        dataset = transformer.transform(dataset)\n",
    "    return dataset, transformers"
   ]
  },
  {
   "cell_type": "code",
   "execution_count": 5,
   "metadata": {},
   "outputs": [],
   "source": [
    "featurizer = dc.feat.graph_features.WeaveFeaturizer()\n",
    "metric = dc.metrics.Metric(dc.metrics.rms_score, np.mean)"
   ]
  },
  {
   "cell_type": "markdown",
   "metadata": {},
   "source": [
    "# use the same dataset as MolMapNet and attentivFP"
   ]
  },
  {
   "cell_type": "code",
   "execution_count": 6,
   "metadata": {},
   "outputs": [
    {
     "name": "stdout",
     "output_type": "stream",
     "text": [
      "Loading raw samples now.\n",
      "shard_size: 8192\n",
      "About to start loading CSV from ../train.csv\n",
      "Loading shard 1 of size 8192.\n",
      "Featurizing sample 0\n",
      "TIMING: featurizing shard 0 took 1.148 s\n",
      "TIMING: dataset construction took 1.348 s\n",
      "Loading dataset from disk.\n",
      "TIMING: dataset construction took 0.266 s\n",
      "Loading dataset from disk.\n",
      "Loading raw samples now.\n",
      "shard_size: 8192\n",
      "About to start loading CSV from ../valid.csv\n",
      "Loading shard 1 of size 8192.\n",
      "Featurizing sample 0\n",
      "TIMING: featurizing shard 0 took 0.154 s\n",
      "TIMING: dataset construction took 0.181 s\n",
      "Loading dataset from disk.\n",
      "TIMING: dataset construction took 0.030 s\n",
      "Loading dataset from disk.\n",
      "Loading raw samples now.\n",
      "shard_size: 8192\n",
      "About to start loading CSV from ../test.csv\n",
      "Loading shard 1 of size 8192.\n",
      "Featurizing sample 0\n",
      "TIMING: featurizing shard 0 took 0.131 s\n",
      "TIMING: dataset construction took 0.152 s\n",
      "Loading dataset from disk.\n",
      "TIMING: dataset construction took 0.023 s\n",
      "Loading dataset from disk.\n",
      "Loading raw samples now.\n",
      "shard_size: 8192\n",
      "About to start loading CSV from ../etc.csv\n",
      "Loading shard 1 of size 8192.\n",
      "Featurizing sample 0\n",
      "TIMING: featurizing shard 0 took 0.335 s\n",
      "TIMING: dataset construction took 0.393 s\n",
      "Loading dataset from disk.\n",
      "TIMING: dataset construction took 0.088 s\n",
      "Loading dataset from disk.\n"
     ]
    }
   ],
   "source": [
    "tasks = ['measured log solubility in mols per litre']\n",
    "smiles_col = 'smiles'\n",
    "\n",
    "# tasks, delaney_datasets, transformers = dc.molnet.load_delaney(featurizer='Weave', split='random')\n",
    "# train_dataset, valid_dataset, test_dataset = delaney_datasets\n",
    "train_dataset, transformers =  featurize_data(tasks = tasks, smiles_col = smiles_col, \n",
    "                                           featurizer =featurizer, dataset_file='../train.csv')\n",
    "\n",
    "valid_dataset, _ =  featurize_data(tasks = tasks, smiles_col = smiles_col, \n",
    "                                           featurizer =featurizer, dataset_file='../valid.csv')\n",
    "\n",
    "test_dataset, _ =  featurize_data(tasks = tasks, smiles_col = smiles_col, \n",
    "                                           featurizer =featurizer, dataset_file='../test.csv')\n",
    "\n",
    "etc_dataset, _ =  featurize_data(tasks = ['Exp_LogS'], smiles_col = smiles_col, \n",
    "                                           featurizer =featurizer, dataset_file='../etc.csv')\n"
   ]
  },
  {
   "cell_type": "code",
   "execution_count": 13,
   "metadata": {},
   "outputs": [
    {
     "data": {
      "text/plain": [
       "{'nb_epoch': 50,\n",
       " 'M': 2,\n",
       " 'batch_size': 32,\n",
       " 'seed': 123,\n",
       " 'T': 1,\n",
       " 'learning_rate': 0.003183415042748088}"
      ]
     },
     "execution_count": 13,
     "metadata": {},
     "output_type": "execute_result"
    }
   ],
   "source": [
    "pd.read_pickle('./delaneympnn.pkl')"
   ]
  },
  {
   "cell_type": "code",
   "execution_count": 16,
   "metadata": {},
   "outputs": [],
   "source": [
    "# Hyper-parameters, taken from the orignal MoleculeNet optimized results\n",
    "batch_size = 32\n",
    "lr = 0.003183415042748088\n",
    "\n",
    "n_atom_feat = 75\n",
    "n_pair_feat = 14\n",
    "T = 1\n",
    "M = 2\n",
    "nb_epoch = 50\n",
    "\n",
    "model = dc.models.MPNNModel(\n",
    "                            len(tasks),\n",
    "                            n_atom_feat=n_atom_feat,\n",
    "                            n_pair_feat=n_pair_feat,\n",
    "                            T=T,\n",
    "                            M=M,\n",
    "                            batch_size=batch_size,\n",
    "                            learning_rate=lr,\n",
    "                            use_queue=False,\n",
    "                            mode=\"regression\")\n",
    "\n",
    "\n",
    "\n",
    "def count_params(model):\n",
    "    trainable_paras = 0\n",
    "    for layer in model.layers.values():\n",
    "        x = model.get_layer_variable_values(layer)\n",
    "        for  i in x:\n",
    "            if type(i) == np.ndarray:\n",
    "                if len(i.shape) == 1:\n",
    "                    trainable_paras += i.shape[0]\n",
    "                else:\n",
    "                    a, b = i.shape\n",
    "                    trainable_paras += a*b\n",
    "    return trainable_paras"
   ]
  },
  {
   "cell_type": "code",
   "execution_count": 18,
   "metadata": {},
   "outputs": [
    {
     "data": {
      "text/plain": [
       "(901,)"
      ]
     },
     "execution_count": 18,
     "metadata": {},
     "output_type": "execute_result"
    }
   ],
   "source": [
    "train_dataset.ids.shape"
   ]
  },
  {
   "cell_type": "code",
   "execution_count": 19,
   "metadata": {},
   "outputs": [],
   "source": [
    "## perform an early stopping strategy\n",
    "best_rmse = np.inf\n",
    "patience = 30\n",
    "epochs = 500\n",
    "model_performace = {}\n",
    "wait = 0\n",
    "\n",
    "for i in range(epochs):\n",
    "    \n",
    "    train_dataset.shuffle_each_shard()\n",
    "    model.fit(train_dataset, nb_epoch=1)\n",
    "    valid_scores = model.evaluate(valid_dataset, [metric], transformers)\n",
    "    valid_rmse = valid_scores.get('mean-rms_score')\n",
    "    model_performace[i] = valid_rmse\n",
    "    \n",
    "    \n",
    "    if  valid_rmse < best_rmse:\n",
    "        best_rmse = valid_rmse\n",
    "        print(best_rmse)\n",
    "        wait = 0        \n",
    "        best_train_rmse = model.evaluate(train_dataset, [metric], transformers).get('mean-rms_score')\n",
    "        best_valid_rmse = model.evaluate(valid_dataset, [metric], transformers).get('mean-rms_score')        \n",
    "        best_test_rmse = model.evaluate(test_dataset, [metric], transformers).get('mean-rms_score')\n",
    "        best_etc_rmse = model.evaluate(etc_dataset, [metric], transformers).get('mean-rms_score')\n",
    "\n",
    "        best_train_pred_y = list(model.predict(train_dataset, transformers).reshape(-1,))\n",
    "        best_valid_pred_y = list(model.predict(valid_dataset, transformers).reshape(-1,))           \n",
    "        best_test_pred_y = list(model.predict(test_dataset, transformers).reshape(-1,))                 \n",
    "        best_etc_pred_y = list(model.predict(etc_dataset, transformers).reshape(-1,))             \n",
    "        \n",
    "        \n",
    "        best_epoch = i\n",
    "    else:\n",
    "        wait += 1\n",
    "        if wait >= patience:\n",
    "            print('early stopping at best_rmse : %s...' % best_rmse)\n",
    "            break"
   ]
  },
  {
   "cell_type": "code",
   "execution_count": 11,
   "metadata": {},
   "outputs": [
    {
     "data": {
      "text/plain": [
       "<matplotlib.axes._subplots.AxesSubplot at 0x7f990c736ba8>"
      ]
     },
     "execution_count": 11,
     "metadata": {},
     "output_type": "execute_result"
    },
    {
     "data": {
      "image/png": "[encoded data removed]",
      "text/plain": [
       "<Figure size 432x288 with 1 Axes>"
      ]
     },
     "metadata": {
      "needs_background": "light"
     },
     "output_type": "display_data"
    }
   ],
   "source": [
    "pd.Series(model_performace).plot()"
   ]
  },
  {
   "cell_type": "code",
   "execution_count": 12,
   "metadata": {},
   "outputs": [
    {
     "data": {
      "text/plain": [
       "{'train_rmse': 0.30819658298532626,\n",
       " 'valid_rmse': 0.5916723033840299,\n",
       " 'test_rmse': 0.8974565711111792,\n",
       " 'etc_rmse': 4.0859109099146425,\n",
       " 'etc_pred_y': [-6.092305073331222,\n",
       "  -6.247969160361973,\n",
       "  -7.0666720144256345,\n",
       "  -7.17589222002342,\n",
       "  -7.166391829050713,\n",
       "  -6.436805279269935,\n",
       "  -7.611019540668474,\n",
       "  -7.957469375334545,\n",
       "  -7.439087289942311,\n",
       "  -7.105851352472369,\n",
       "  -6.448177354311636,\n",
       "  -7.300963028646818,\n",
       "  -7.26456059558779,\n",
       "  -6.9042867190135375,\n",
       "  -7.138261399393962,\n",
       "  -7.181574588071718,\n",
       "  -6.758240952211326,\n",
       "  -7.492229856787161,\n",
       "  -7.506068576585554,\n",
       "  -7.575293555894524,\n",
       "  -6.8702165520956475,\n",
       "  -7.596357846749966,\n",
       "  -6.188182823659995,\n",
       "  -7.353852781486133,\n",
       "  -6.679517100332086,\n",
       "  -6.0733938771295115,\n",
       "  -7.294898023184739,\n",
       "  -7.456980144243855,\n",
       "  -6.6515648298944505,\n",
       "  -7.164153703860585,\n",
       "  -5.585130822450568,\n",
       "  -5.7566634802690855,\n",
       "  -4.790622951997559,\n",
       "  -6.419481572814682,\n",
       "  -7.162878751948796,\n",
       "  -4.811403681198147,\n",
       "  -7.610167716902082,\n",
       "  -6.034724722301151,\n",
       "  -6.656402713121461,\n",
       "  -7.433766301673695,\n",
       "  -8.202017198008456,\n",
       "  -7.463029459547431,\n",
       "  -3.5849570403147695,\n",
       "  -6.456701665585301,\n",
       "  -6.480421136166527,\n",
       "  -7.003761311645261,\n",
       "  -7.337971304277664,\n",
       "  -7.453985854640779,\n",
       "  -6.523485812978984,\n",
       "  -6.632813319015554,\n",
       "  -6.935788761278619,\n",
       "  -6.803681169634336,\n",
       "  -7.294299266490953,\n",
       "  -7.33491982151618,\n",
       "  -6.732992197310341,\n",
       "  -6.718298870007757,\n",
       "  -4.6220061329896085,\n",
       "  -3.5894374663017246,\n",
       "  -4.107089548089642,\n",
       "  -3.934642875271639,\n",
       "  -5.285582161417661,\n",
       "  -7.704106214253475,\n",
       "  -6.6505313039699265,\n",
       "  -6.505391011153501,\n",
       "  -6.6919616736274925,\n",
       "  -3.732259063698781,\n",
       "  -8.019575577891104,\n",
       "  -4.911240539344306,\n",
       "  -6.691501091555349,\n",
       "  -6.1407745036133266,\n",
       "  -6.546535668086094,\n",
       "  -5.947842494135235,\n",
       "  -7.130268782039843,\n",
       "  -7.0732193657281,\n",
       "  -3.5501336192552677,\n",
       "  -7.1401963502311085,\n",
       "  -6.163159804587774,\n",
       "  -7.372602520895521,\n",
       "  -6.774555680248097,\n",
       "  -6.157195013686447,\n",
       "  -3.9713689811165294,\n",
       "  -5.861602550199593,\n",
       "  -7.905555702194271,\n",
       "  -7.1716290521182975,\n",
       "  -7.188292000446975,\n",
       "  -7.620087440014097,\n",
       "  -6.592488093264059,\n",
       "  -7.133903584403685,\n",
       "  -6.237259867983427,\n",
       "  -6.035007651288325,\n",
       "  -7.7239937432213,\n",
       "  -6.636189739898265,\n",
       "  -6.328549259218779,\n",
       "  -6.637064339701192,\n",
       "  -6.8116659419092045,\n",
       "  -6.706957669148913,\n",
       "  -6.82642152371165,\n",
       "  -7.831762356090616,\n",
       "  -7.664472873878485,\n",
       "  -6.73405634435065,\n",
       "  -6.290251859920076,\n",
       "  -7.022856234541683,\n",
       "  -7.337828068314569,\n",
       "  -7.361960544358289,\n",
       "  -7.728638030137767,\n",
       "  -6.592285386538902,\n",
       "  -6.997440455372778,\n",
       "  -6.5068150195710555,\n",
       "  -6.925948754294476,\n",
       "  -6.761555877795393,\n",
       "  -7.324843702953294,\n",
       "  -7.16257810826654,\n",
       "  -7.091996183314256,\n",
       "  -5.67490459498808,\n",
       "  -7.591439741260939,\n",
       "  -7.4758847607016765,\n",
       "  -5.035848488291908,\n",
       "  -7.6793719447110975,\n",
       "  -6.822573385805601,\n",
       "  -7.006335003773665],\n",
       " '# trainable params': 341201,\n",
       " 'random_seed': 123,\n",
       " 'best_epoch': 73,\n",
       " 'batch_size': 32,\n",
       " 'lr': 0.003183415042748088}"
      ]
     },
     "execution_count": 12,
     "metadata": {},
     "output_type": "execute_result"
    }
   ],
   "source": [
    "final_res = {'train_rmse':best_train_rmse, \n",
    "             'valid_rmse':best_valid_rmse, \n",
    "             'test_rmse':best_test_rmse,              \n",
    "             'etc_rmse':best_etc_rmse,\n",
    "#              'train_pred_y':best_train_pred_y,\n",
    "#              'test_pred_y':best_test_pred_y,\n",
    "             'etc_pred_y':best_etc_pred_y, \n",
    "             '# trainable params': count_params(model),\n",
    "             'random_seed':seed, \n",
    "             'best_epoch': best_epoch,\n",
    "             'batch_size':batch_size,\n",
    "             'lr': lr\n",
    "\n",
    "            }\n",
    "\n",
    "final_res"
   ]
  },
  {
   "cell_type": "code",
   "execution_count": null,
   "metadata": {},
   "outputs": [],
   "source": []
  },
  {
   "cell_type": "code",
   "execution_count": null,
   "metadata": {},
   "outputs": [],
   "source": []
  },
  {
   "cell_type": "code",
   "execution_count": null,
   "metadata": {},
   "outputs": [],
   "source": []
  },
  {
   "cell_type": "code",
   "execution_count": null,
   "metadata": {},
   "outputs": [],
   "source": []
  }
 ],
 "metadata": {
  "kernelspec": {
   "display_name": "Python 3",
   "language": "python",
   "name": "python3"
  },
  "language_info": {
   "codemirror_mode": {
    "name": "ipython",
    "version": 3
   },
   "file_extension": ".py",
   "mimetype": "text/x-python",
   "name": "python",
   "nbconvert_exporter": "python",
   "pygments_lexer": "ipython3",
   "version": "3.6.9"
  }
 },
 "nbformat": 4,
 "nbformat_minor": 4
}
