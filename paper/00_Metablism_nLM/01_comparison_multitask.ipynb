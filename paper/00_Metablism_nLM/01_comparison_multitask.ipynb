{
 "cells": [
  {
   "cell_type": "markdown",
   "metadata": {},
   "source": [
    "# multi-task alternate training strategy--clearence prediction"
   ]
  },
  {
   "cell_type": "code",
   "execution_count": 1,
   "metadata": {},
   "outputs": [
    {
     "name": "stderr",
     "output_type": "stream",
     "text": [
      "/home/shenwanxiang/anaconda3/envs/deepchem/lib/python3.6/site-packages/tensorflow/python/framework/dtypes.py:516: FutureWarning: Passing (type, 1) or '1type' as a synonym of type is deprecated; in a future version of numpy, it will be understood as (type, (1,)) / '(1,)type'.\n",
      "  _np_qint8 = np.dtype([(\"qint8\", np.int8, 1)])\n",
      "/home/shenwanxiang/anaconda3/envs/deepchem/lib/python3.6/site-packages/tensorflow/python/framework/dtypes.py:517: FutureWarning: Passing (type, 1) or '1type' as a synonym of type is deprecated; in a future version of numpy, it will be understood as (type, (1,)) / '(1,)type'.\n",
      "  _np_quint8 = np.dtype([(\"quint8\", np.uint8, 1)])\n",
      "/home/shenwanxiang/anaconda3/envs/deepchem/lib/python3.6/site-packages/tensorflow/python/framework/dtypes.py:518: FutureWarning: Passing (type, 1) or '1type' as a synonym of type is deprecated; in a future version of numpy, it will be understood as (type, (1,)) / '(1,)type'.\n",
      "  _np_qint16 = np.dtype([(\"qint16\", np.int16, 1)])\n",
      "/home/shenwanxiang/anaconda3/envs/deepchem/lib/python3.6/site-packages/tensorflow/python/framework/dtypes.py:519: FutureWarning: Passing (type, 1) or '1type' as a synonym of type is deprecated; in a future version of numpy, it will be understood as (type, (1,)) / '(1,)type'.\n",
      "  _np_quint16 = np.dtype([(\"quint16\", np.uint16, 1)])\n",
      "/home/shenwanxiang/anaconda3/envs/deepchem/lib/python3.6/site-packages/tensorflow/python/framework/dtypes.py:520: FutureWarning: Passing (type, 1) or '1type' as a synonym of type is deprecated; in a future version of numpy, it will be understood as (type, (1,)) / '(1,)type'.\n",
      "  _np_qint32 = np.dtype([(\"qint32\", np.int32, 1)])\n",
      "/home/shenwanxiang/anaconda3/envs/deepchem/lib/python3.6/site-packages/tensorflow/python/framework/dtypes.py:525: FutureWarning: Passing (type, 1) or '1type' as a synonym of type is deprecated; in a future version of numpy, it will be understood as (type, (1,)) / '(1,)type'.\n",
      "  np_resource = np.dtype([(\"resource\", np.ubyte, 1)])\n",
      "/home/shenwanxiang/anaconda3/envs/deepchem/lib/python3.6/site-packages/tensorboard/compat/tensorflow_stub/dtypes.py:541: FutureWarning: Passing (type, 1) or '1type' as a synonym of type is deprecated; in a future version of numpy, it will be understood as (type, (1,)) / '(1,)type'.\n",
      "  _np_qint8 = np.dtype([(\"qint8\", np.int8, 1)])\n",
      "/home/shenwanxiang/anaconda3/envs/deepchem/lib/python3.6/site-packages/tensorboard/compat/tensorflow_stub/dtypes.py:542: FutureWarning: Passing (type, 1) or '1type' as a synonym of type is deprecated; in a future version of numpy, it will be understood as (type, (1,)) / '(1,)type'.\n",
      "  _np_quint8 = np.dtype([(\"quint8\", np.uint8, 1)])\n",
      "/home/shenwanxiang/anaconda3/envs/deepchem/lib/python3.6/site-packages/tensorboard/compat/tensorflow_stub/dtypes.py:543: FutureWarning: Passing (type, 1) or '1type' as a synonym of type is deprecated; in a future version of numpy, it will be understood as (type, (1,)) / '(1,)type'.\n",
      "  _np_qint16 = np.dtype([(\"qint16\", np.int16, 1)])\n",
      "/home/shenwanxiang/anaconda3/envs/deepchem/lib/python3.6/site-packages/tensorboard/compat/tensorflow_stub/dtypes.py:544: FutureWarning: Passing (type, 1) or '1type' as a synonym of type is deprecated; in a future version of numpy, it will be understood as (type, (1,)) / '(1,)type'.\n",
      "  _np_quint16 = np.dtype([(\"quint16\", np.uint16, 1)])\n",
      "/home/shenwanxiang/anaconda3/envs/deepchem/lib/python3.6/site-packages/tensorboard/compat/tensorflow_stub/dtypes.py:545: FutureWarning: Passing (type, 1) or '1type' as a synonym of type is deprecated; in a future version of numpy, it will be understood as (type, (1,)) / '(1,)type'.\n",
      "  _np_qint32 = np.dtype([(\"qint32\", np.int32, 1)])\n",
      "/home/shenwanxiang/anaconda3/envs/deepchem/lib/python3.6/site-packages/tensorboard/compat/tensorflow_stub/dtypes.py:550: FutureWarning: Passing (type, 1) or '1type' as a synonym of type is deprecated; in a future version of numpy, it will be understood as (type, (1,)) / '(1,)type'.\n",
      "  np_resource = np.dtype([(\"resource\", np.ubyte, 1)])\n"
     ]
    }
   ],
   "source": [
    "from molmap import loadmap, dataset\n",
    "import molmap\n",
    "\n",
    "import matplotlib.pyplot as plt\n",
    "from joblib import dump, load\n",
    "from tqdm import tqdm\n",
    "import pandas as pd\n",
    "tqdm.pandas(ascii=True)\n",
    "\n",
    "import numpy as np\n",
    "import tensorflow as tf\n",
    "from tensorflow.keras.utils import plot_model\n",
    "from tensorflow.keras import Model, Input\n",
    "from tensorflow.keras.layers import MaxPool2D, GlobalMaxPool2D, BatchNormalization, Activation\n",
    "from tensorflow.keras.layers import Conv2D, Concatenate,Flatten, Dense, Dropout\n",
    "\n",
    "%matplotlib inline\n",
    "#use the second GPU, if negative value, CPUs will be used\n",
    "import os\n",
    "os.environ[\"CUDA_VISIBLE_DEVICES\"]=\"0\"\n"
   ]
  },
  {
   "cell_type": "code",
   "execution_count": 2,
   "metadata": {},
   "outputs": [],
   "source": [
    "# just for repeatable results\n",
    "seed = 1234\n",
    "np.random.seed(seed)\n",
    "tf.set_random_seed(seed)"
   ]
  },
  {
   "cell_type": "code",
   "execution_count": 3,
   "metadata": {},
   "outputs": [],
   "source": [
    "\n",
    "def Inception(inputs, units = 8, strides = 1):\n",
    "    \"\"\"\n",
    "    naive google inception block\n",
    "    \"\"\"\n",
    "    x1 = Conv2D(units, 5, padding='same', activation = 'relu', strides = strides)(inputs)\n",
    "    x2 = Conv2D(units, 3, padding='same', activation = 'relu', strides = strides)(inputs)\n",
    "    x3 = Conv2D(units, 1, padding='same', activation = 'relu', strides = strides)(inputs)\n",
    "    outputs = Concatenate()([x1, x2, x3])    \n",
    "    return outputs\n",
    "\n",
    "\n",
    "def DoublePathModel(molmap1_size, molmap2_size, n_outputs = 1):\n",
    "    \n",
    "    ## first inputs\n",
    "    d_inputs1 = Input(molmap1_size)\n",
    "    d_conv1 = Conv2D(48, 13, padding = 'same', activation='relu', strides = 1)(d_inputs1)\n",
    "    d_pool1 = MaxPool2D(pool_size = 3, strides = 2, padding = 'same')(d_conv1) #p1\n",
    "    d_incept1 = Inception(d_pool1, strides = 1, units = 32)\n",
    "    d_pool2 = MaxPool2D(pool_size = 3, strides = 2, padding = 'same')(d_incept1) #p2\n",
    "    d_incept2 = Inception(d_pool2, strides = 1, units = 64)\n",
    "    d_flat1 = GlobalMaxPool2D()(d_incept2)\n",
    "\n",
    "    \n",
    "    ## second inputs\n",
    "    f_inputs1 = Input(molmap2_size)\n",
    "    f_conv1 = Conv2D(48, 13, padding = 'same', activation='relu', strides = 1)(f_inputs1)\n",
    "    f_pool1 = MaxPool2D(pool_size = 3, strides = 2, padding = 'same')(f_conv1) #p1\n",
    "    f_incept1 = Inception(f_pool1, strides = 1, units = 32)\n",
    "    f_pool2 = MaxPool2D(pool_size = 3, strides = 2, padding = 'same')(f_incept1) #p2\n",
    "    f_incept2 = Inception(f_pool2, strides = 1, units = 64)\n",
    "    f_flat1 = GlobalMaxPool2D()(f_incept2)    \n",
    "    \n",
    "    ## concat\n",
    "    merge = Concatenate()([d_flat1, f_flat1]) \n",
    "    d1 = Dense(256,activation='relu')(merge)\n",
    "    d1 = Dense(128,activation='relu')(d1)\n",
    "    d1 = Dense(64,activation='relu')(d1)\n",
    "    outputs = Dense(n_outputs, activation='linear')(d1)\n",
    "    \n",
    "    model = tf.keras.Model(inputs=[d_inputs1, f_inputs1], outputs=outputs)\n",
    "    \n",
    "    return model"
   ]
  },
  {
   "cell_type": "code",
   "execution_count": 4,
   "metadata": {},
   "outputs": [],
   "source": [
    "df = pd.read_csv('./Dataset_chembl_clearcaco.txt',sep=';')"
   ]
  },
  {
   "cell_type": "markdown",
   "metadata": {},
   "source": [
    "# featurizer"
   ]
  },
  {
   "cell_type": "code",
   "execution_count": 5,
   "metadata": {},
   "outputs": [],
   "source": [
    "X1_name =  './X_descriptor.data'\n",
    "X2_name =  './X_fingerprint.data'\n",
    "X_smiles = df.Canonical_Smiles.tolist()\n",
    "\n",
    "if os.path.exists(X1_name):\n",
    "    X1 = load(X1_name)\n",
    "else:\n",
    "    mp1 = loadmap('../descriptor_grid_split.mp')\n",
    "    X1 = mp1.batch_transform(X_smiles, n_jobs = 8)\n",
    "    dump(X1, X1_name)\n",
    "    \n",
    "if os.path.exists(X2_name):\n",
    "    X2 = load(X2_name)\n",
    "else:\n",
    "    mp2 = loadmap('../fingerprint_grid_split.mp')\n",
    "    X2 = mp2.batch_transform(X_smiles, n_jobs = 8)\n",
    "    dump(X2, X2_name)"
   ]
  },
  {
   "cell_type": "code",
   "execution_count": 6,
   "metadata": {},
   "outputs": [],
   "source": [
    "def get_idx_and_Y(df, task, split):\n",
    "    train_idx = df[df[split] == 'Train'].index\n",
    "    valid_idx = df[df[split] == 'Test'].index ##according to the paper<page 1256, Data Preparation>, they use this for early stopping\n",
    "    test_idx = df[df[split] == 'Ext'].index #their Ext set is our final test set\n",
    "    def _apply_float(x):\n",
    "        if type(x) == float:\n",
    "            return x\n",
    "        else:\n",
    "            x = x.replace(',','.')\n",
    "            return float(x)\n",
    "    Y = df[task].apply(_apply_float).to_frame().values\n",
    "    Y = np.log10(Y + 1e-8)\n",
    "    print(len(train_idx), len(valid_idx), len(test_idx))\n",
    "    return (train_idx, valid_idx, test_idx), Y"
   ]
  },
  {
   "cell_type": "code",
   "execution_count": 7,
   "metadata": {},
   "outputs": [
    {
     "data": {
      "text/plain": [
       "Index(['ID', 'Canonical_Smiles', 'hlm_clearance[mL.min-1.g-1]',\n",
       "       'rlm_clearance[mL.min-1.g-1]', 'mlm_clearance[mL.min-1.g-1]',\n",
       "       'caco2_PAPP[10^-7cm/s]', 'Set_hlm', 'Set_rlm', 'Set_mlm', 'Set_caco'],\n",
       "      dtype='object')"
      ]
     },
     "execution_count": 7,
     "metadata": {},
     "output_type": "execute_result"
    }
   ],
   "source": [
    "df.columns"
   ]
  },
  {
   "cell_type": "code",
   "execution_count": 8,
   "metadata": {},
   "outputs": [],
   "source": [
    "t = ['hlm_clearance[mL.min-1.g-1]','rlm_clearance[mL.min-1.g-1]', 'mlm_clearance[mL.min-1.g-1]']\n",
    "m = ['Set_hlm', 'Set_rlm', 'Set_mlm']\n",
    "\n",
    "\n",
    "task_epochs = 500\n",
    "alternate_epochs = 1\n",
    "alternate_rounds = 50"
   ]
  },
  {
   "cell_type": "code",
   "execution_count": 9,
   "metadata": {},
   "outputs": [
    {
     "name": "stdout",
     "output_type": "stream",
     "text": [
      "4020 801 527\n",
      "1636 331 199\n",
      "617 117 56\n"
     ]
    }
   ],
   "source": [
    "from sklearn.utils import shuffle\n",
    "basemodel_data = []\n",
    "for i, j in zip(t, m):\n",
    "    (train_idx, valid_idx, test_idx), Y = get_idx_and_Y(df, i, j)\n",
    "    trainY = Y[train_idx]\n",
    "    trainX = (X1[train_idx], X2[train_idx])\n",
    "    basemodel_data.append([trainX, trainY])"
   ]
  },
  {
   "cell_type": "markdown",
   "metadata": {},
   "source": [
    "## alternate strategy to train a base model"
   ]
  },
  {
   "cell_type": "code",
   "execution_count": 10,
   "metadata": {},
   "outputs": [
    {
     "name": "stderr",
     "output_type": "stream",
     "text": [
      "  0%|          | 0/50 [00:00<?, ?it/s]"
     ]
    },
    {
     "name": "stdout",
     "output_type": "stream",
     "text": [
      "WARNING:tensorflow:From /home/shenwanxiang/anaconda3/envs/deepchem/lib/python3.6/site-packages/tensorflow/python/ops/init_ops.py:1251: calling VarianceScaling.__init__ (from tensorflow.python.ops.init_ops) with dtype is deprecated and will be removed in a future version.\n",
      "Instructions for updating:\n",
      "Call initializer instance with the dtype argument instead of passing it to the constructor\n"
     ]
    },
    {
     "name": "stderr",
     "output_type": "stream",
     "text": [
      "100%|██████████| 50/50 [01:47<00:00,  1.97s/it]\n"
     ]
    }
   ],
   "source": [
    "model = None\n",
    "for i in tqdm(range(alternate_rounds)):\n",
    "    basemodel_data = shuffle(basemodel_data) #shffule\n",
    "    for trainX,trainY in basemodel_data:\n",
    "        if model == None:\n",
    "            molmap1_size = X1.shape[1:]\n",
    "            molmap2_size = X2.shape[1:]\n",
    "            model = DoublePathModel(molmap1_size, molmap2_size, n_outputs = trainY.shape[1])\n",
    "            lr = tf.keras.optimizers.Adam(lr=0.0001, beta_1=0.9, beta_2=0.999, epsilon=1e-08, decay=0.0) #\n",
    "            model.compile(optimizer = lr, loss = 'mse')\n",
    "        model.fit(trainX, trainY, batch_size=128, epochs=alternate_epochs, verbose= 0, shuffle = True) #\n",
    "        \n",
    "model.save('./basemodel.h5')"
   ]
  },
  {
   "cell_type": "markdown",
   "metadata": {},
   "source": [
    "## 01.branch training for task of hlm"
   ]
  },
  {
   "cell_type": "code",
   "execution_count": 11,
   "metadata": {},
   "outputs": [
    {
     "name": "stdout",
     "output_type": "stream",
     "text": [
      "4020 801 527\n",
      "epoch: 0001, loss: 0.0616 - val_loss: 0.1820; rmse: 0.1877 - rmse_val: 0.4266;  r2: 0.9198 - r2_val: 0.5840                                                                                                    \n",
      "epoch: 0002, loss: 0.0344 - val_loss: 0.1792; rmse: 0.1649 - rmse_val: 0.4233;  r2: 0.9381 - r2_val: 0.5905                                                                                                    \n",
      "epoch: 0003, loss: 0.0298 - val_loss: 0.1787; rmse: 0.1554 - rmse_val: 0.4228;  r2: 0.9450 - r2_val: 0.5915                                                                                                    \n",
      "epoch: 0004, loss: 0.0256 - val_loss: 0.1783; rmse: 0.1469 - rmse_val: 0.4223;  r2: 0.9509 - r2_val: 0.5924                                                                                                    \n",
      "epoch: 0005, loss: 0.0247 - val_loss: 0.1780; rmse: 0.1419 - rmse_val: 0.4219;  r2: 0.9541 - r2_val: 0.5932                                                                                                    \n",
      "epoch: 0006, loss: 0.0219 - val_loss: 0.1776; rmse: 0.1376 - rmse_val: 0.4215;  r2: 0.9569 - r2_val: 0.5940                                                                                                    \n",
      "epoch: 0007, loss: 0.0202 - val_loss: 0.1768; rmse: 0.1299 - rmse_val: 0.4205;  r2: 0.9616 - r2_val: 0.5958                                                                                                    \n",
      "epoch: 0008, loss: 0.0198 - val_loss: 0.1874; rmse: 0.1523 - rmse_val: 0.4328;  r2: 0.9472 - r2_val: 0.5718                                                                                                    \n",
      "epoch: 0009, loss: 0.0213 - val_loss: 0.1782; rmse: 0.1276 - rmse_val: 0.4221;  r2: 0.9629 - r2_val: 0.5927                                                                                                    \n",
      "epoch: 0010, loss: 0.0176 - val_loss: 0.1783; rmse: 0.1207 - rmse_val: 0.4223;  r2: 0.9668 - r2_val: 0.5925                                                                                                    \n",
      "epoch: 0011, loss: 0.0168 - val_loss: 0.1783; rmse: 0.1170 - rmse_val: 0.4223;  r2: 0.9689 - r2_val: 0.5924                                                                                                    \n",
      "epoch: 0012, loss: 0.0154 - val_loss: 0.1798; rmse: 0.1199 - rmse_val: 0.4241;  r2: 0.9673 - r2_val: 0.5890                                                                                                    \n",
      "epoch: 0013, loss: 0.0153 - val_loss: 0.1778; rmse: 0.1163 - rmse_val: 0.4216;  r2: 0.9692 - r2_val: 0.5937                                                                                                    \n",
      "epoch: 0014, loss: 0.0135 - val_loss: 0.1788; rmse: 0.1066 - rmse_val: 0.4228;  r2: 0.9741 - r2_val: 0.5914                                                                                                    \n",
      "epoch: 0015, loss: 0.0137 - val_loss: 0.1788; rmse: 0.1053 - rmse_val: 0.4229;  r2: 0.9748 - r2_val: 0.5912                                                                                                    \n",
      "epoch: 0016, loss: 0.0127 - val_loss: 0.1788; rmse: 0.1036 - rmse_val: 0.4228;  r2: 0.9756 - r2_val: 0.5913                                                                                                    \n",
      "epoch: 0017, loss: 0.0129 - val_loss: 0.1788; rmse: 0.1044 - rmse_val: 0.4228;  r2: 0.9752 - r2_val: 0.5914                                                                                                    \n",
      "\n",
      "Restoring model weights from the end of the best epoch.\n",
      "\n",
      "Epoch 00017: early stopping\n"
     ]
    },
    {
     "data": {
      "text/plain": [
       "<tensorflow.python.keras.callbacks.History at 0x7f5c7fc99fd0>"
      ]
     },
     "execution_count": 11,
     "metadata": {},
     "output_type": "execute_result"
    }
   ],
   "source": [
    "task = 'hlm_clearance[mL.min-1.g-1]'\n",
    "split = 'Set_hlm'\n",
    "\n",
    "(train_idx, valid_idx, test_idx), Y = get_idx_and_Y(df, task, split)\n",
    "\n",
    "trainY = Y[train_idx]\n",
    "validY = Y[valid_idx]\n",
    "testY = Y[test_idx]\n",
    "\n",
    "trainX = (X1[train_idx], X2[train_idx])\n",
    "validX = (X1[valid_idx], X2[valid_idx])\n",
    "testX  = (X1[test_idx], X2[test_idx])\n",
    "\n",
    "#model = DoublePathModel(molmap1_size, molmap2_size, n_outputs = Y.shape[1])\n",
    "#model = SinglePathModel(molmap_size, n_outputs = Y.shape[1])\n",
    "from cbks import RegressionPerformance, EarlyStoppingAtMinLoss\n",
    "\n",
    "earlystop = EarlyStoppingAtMinLoss(patience=10, criteria = 'val_loss')\n",
    "performace = RegressionPerformance((trainX, trainY), (validX, validY), MASK = 1e8)\n",
    "lr = tf.keras.optimizers.Adam(lr=0.0001, beta_1=0.9, beta_2=0.999, epsilon=1e-08, decay=0.0) #\n",
    "#model.compile(optimizer = lr, loss = 'mse')\n",
    "\n",
    "\n",
    "model.load_weights('./basemodel.h5')\n",
    "model.fit(trainX, trainY, batch_size=128, \n",
    "      epochs=task_epochs, verbose= 0, shuffle = True, \n",
    "      validation_data = (validX, validY), \n",
    "      callbacks=[performace, earlystop]) #"
   ]
  },
  {
   "cell_type": "code",
   "execution_count": 12,
   "metadata": {},
   "outputs": [
    {
     "data": {
      "text/plain": [
       "<matplotlib.axes._subplots.AxesSubplot at 0x7f5c6c040080>"
      ]
     },
     "execution_count": 12,
     "metadata": {},
     "output_type": "execute_result"
    },
    {
     "data": {
      "image/png": "[encoded data removed]",
      "text/plain": [
       "<Figure size 432x288 with 1 Axes>"
      ]
     },
     "metadata": {
      "needs_background": "light"
     },
     "output_type": "display_data"
    }
   ],
   "source": [
    "dfp = pd.DataFrame(performace.history)[['training_loss', 'validation_loss']]\n",
    "dfp.plot()"
   ]
  },
  {
   "cell_type": "code",
   "execution_count": 13,
   "metadata": {},
   "outputs": [
    {
     "data": {
      "text/plain": [
       "([0.12994791084557772], [0.9615572157931165])"
      ]
     },
     "execution_count": 13,
     "metadata": {},
     "output_type": "execute_result"
    }
   ],
   "source": [
    "performace.evaluate(trainX, trainY) # RMSE, R^2"
   ]
  },
  {
   "cell_type": "code",
   "execution_count": 14,
   "metadata": {},
   "outputs": [
    {
     "data": {
      "text/plain": [
       "([0.42050878039908773], [0.5958445838436099])"
      ]
     },
     "execution_count": 14,
     "metadata": {},
     "output_type": "execute_result"
    }
   ],
   "source": [
    "performace.evaluate(validX, validY) # RMSE, R^2"
   ]
  },
  {
   "cell_type": "code",
   "execution_count": 15,
   "metadata": {},
   "outputs": [
    {
     "data": {
      "text/plain": [
       "([0.42819189611877684], [0.5691643564301445])"
      ]
     },
     "execution_count": 15,
     "metadata": {},
     "output_type": "execute_result"
    }
   ],
   "source": [
    "performace.evaluate(testX, testY) # RMSE, R^2"
   ]
  },
  {
   "cell_type": "markdown",
   "metadata": {},
   "source": [
    "## 02.branch training for task of rlm"
   ]
  },
  {
   "cell_type": "code",
   "execution_count": 16,
   "metadata": {},
   "outputs": [
    {
     "name": "stdout",
     "output_type": "stream",
     "text": [
      "1636 331 199\n",
      "epoch: 0001, loss: 0.0588 - val_loss: 0.1738; rmse: 0.2012 - rmse_val: 0.4169;  r2: 0.9334 - r2_val: 0.7234                                                                                                    \n",
      "epoch: 0002, loss: 0.0398 - val_loss: 0.1652; rmse: 0.1868 - rmse_val: 0.4065;  r2: 0.9426 - r2_val: 0.7370                                                                                                    \n",
      "epoch: 0003, loss: 0.0331 - val_loss: 0.1619; rmse: 0.1625 - rmse_val: 0.4024;  r2: 0.9565 - r2_val: 0.7423                                                                                                    \n",
      "epoch: 0004, loss: 0.0273 - val_loss: 0.1637; rmse: 0.1528 - rmse_val: 0.4046;  r2: 0.9616 - r2_val: 0.7395                                                                                                    \n",
      "epoch: 0005, loss: 0.0240 - val_loss: 0.1592; rmse: 0.1507 - rmse_val: 0.3991;  r2: 0.9626 - r2_val: 0.7465                                                                                                    \n",
      "epoch: 0006, loss: 0.0229 - val_loss: 0.1587; rmse: 0.1353 - rmse_val: 0.3983;  r2: 0.9699 - r2_val: 0.7475                                                                                                    \n",
      "epoch: 0007, loss: 0.0191 - val_loss: 0.1578; rmse: 0.1440 - rmse_val: 0.3973;  r2: 0.9659 - r2_val: 0.7488                                                                                                    \n",
      "epoch: 0008, loss: 0.0181 - val_loss: 0.1631; rmse: 0.1359 - rmse_val: 0.4038;  r2: 0.9696 - r2_val: 0.7404                                                                                                    \n",
      "epoch: 0009, loss: 0.0174 - val_loss: 0.1581; rmse: 0.1182 - rmse_val: 0.3977;  r2: 0.9770 - r2_val: 0.7483                                                                                                    \n",
      "epoch: 0010, loss: 0.0158 - val_loss: 0.1552; rmse: 0.1193 - rmse_val: 0.3940;  r2: 0.9766 - r2_val: 0.7530                                                                                                    \n",
      "epoch: 0011, loss: 0.0144 - val_loss: 0.1568; rmse: 0.1090 - rmse_val: 0.3960;  r2: 0.9804 - r2_val: 0.7504                                                                                                    \n",
      "epoch: 0012, loss: 0.0131 - val_loss: 0.1559; rmse: 0.1090 - rmse_val: 0.3948;  r2: 0.9804 - r2_val: 0.7519                                                                                                    \n",
      "epoch: 0013, loss: 0.0123 - val_loss: 0.1562; rmse: 0.1023 - rmse_val: 0.3952;  r2: 0.9828 - r2_val: 0.7513                                                                                                    \n",
      "epoch: 0014, loss: 0.0115 - val_loss: 0.1565; rmse: 0.0992 - rmse_val: 0.3956;  r2: 0.9838 - r2_val: 0.7508                                                                                                    \n",
      "epoch: 0015, loss: 0.0107 - val_loss: 0.1570; rmse: 0.1022 - rmse_val: 0.3962;  r2: 0.9828 - r2_val: 0.7501                                                                                                    \n",
      "epoch: 0016, loss: 0.0106 - val_loss: 0.1559; rmse: 0.0947 - rmse_val: 0.3948;  r2: 0.9852 - r2_val: 0.7519                                                                                                    \n",
      "epoch: 0017, loss: 0.0098 - val_loss: 0.1554; rmse: 0.0920 - rmse_val: 0.3942;  r2: 0.9861 - r2_val: 0.7527                                                                                                    \n",
      "epoch: 0018, loss: 0.0093 - val_loss: 0.1581; rmse: 0.0904 - rmse_val: 0.3976;  r2: 0.9865 - r2_val: 0.7484                                                                                                    \n",
      "epoch: 0019, loss: 0.0086 - val_loss: 0.1575; rmse: 0.0876 - rmse_val: 0.3969;  r2: 0.9874 - r2_val: 0.7493                                                                                                    \n",
      "epoch: 0020, loss: 0.0084 - val_loss: 0.1577; rmse: 0.0872 - rmse_val: 0.3971;  r2: 0.9875 - r2_val: 0.7490                                                                                                    \n",
      "\n",
      "Restoring model weights from the end of the best epoch.\n",
      "\n",
      "Epoch 00020: early stopping\n"
     ]
    },
    {
     "data": {
      "text/plain": [
       "<matplotlib.axes._subplots.AxesSubplot at 0x7f5c6c06a080>"
      ]
     },
     "execution_count": 16,
     "metadata": {},
     "output_type": "execute_result"
    },
    {
     "data": {
      "image/png": "[encoded data removed]",
      "text/plain": [
       "<Figure size 432x288 with 1 Axes>"
      ]
     },
     "metadata": {
      "needs_background": "light"
     },
     "output_type": "display_data"
    }
   ],
   "source": [
    "task = 'rlm_clearance[mL.min-1.g-1]'\n",
    "split = 'Set_rlm'\n",
    "\n",
    "(train_idx, valid_idx, test_idx), Y = get_idx_and_Y(df, task, split)\n",
    "\n",
    "trainY = Y[train_idx]\n",
    "validY = Y[valid_idx]\n",
    "testY = Y[test_idx]\n",
    "\n",
    "trainX = (X1[train_idx], X2[train_idx])\n",
    "validX = (X1[valid_idx], X2[valid_idx])\n",
    "testX  = (X1[test_idx], X2[test_idx])\n",
    "\n",
    "\n",
    "#model = DoublePathModel(molmap1_size, molmap2_size, n_outputs = Y.shape[1])\n",
    "#model = SinglePathModel(molmap_size, n_outputs = Y.shape[1])\n",
    "from cbks import RegressionPerformance, EarlyStoppingAtMinLoss\n",
    "\n",
    "earlystop = EarlyStoppingAtMinLoss(patience=10, criteria = 'val_loss')\n",
    "performace = RegressionPerformance((trainX, trainY), (validX, validY), MASK = 1e8)\n",
    "lr = tf.keras.optimizers.Adam(lr=0.0001, beta_1=0.9, beta_2=0.999, epsilon=1e-08, decay=0.0) #\n",
    "#model.compile(optimizer = lr, loss = 'mse')\n",
    "\n",
    "model.load_weights('./basemodel.h5')\n",
    "model.fit(trainX, trainY, batch_size=128, \n",
    "      epochs=task_epochs, verbose= 0, shuffle = True, \n",
    "      validation_data = (validX, validY), \n",
    "      callbacks=[performace, earlystop]) #\n",
    "\n",
    "dfp = pd.DataFrame(performace.history)[['training_loss', 'validation_loss']]\n",
    "dfp.plot()"
   ]
  },
  {
   "cell_type": "code",
   "execution_count": 17,
   "metadata": {},
   "outputs": [
    {
     "data": {
      "text/plain": [
       "([0.11925331843102879], [0.9765995325344883])"
      ]
     },
     "execution_count": 17,
     "metadata": {},
     "output_type": "execute_result"
    }
   ],
   "source": [
    "performace.evaluate(trainX, trainY) # RMSE, R^2"
   ]
  },
  {
   "cell_type": "code",
   "execution_count": 18,
   "metadata": {},
   "outputs": [
    {
     "data": {
      "text/plain": [
       "([0.3939635255132], [0.7529550194663122])"
      ]
     },
     "execution_count": 18,
     "metadata": {},
     "output_type": "execute_result"
    }
   ],
   "source": [
    "performace.evaluate(validX, validY) # RMSE, R^2"
   ]
  },
  {
   "cell_type": "code",
   "execution_count": 19,
   "metadata": {},
   "outputs": [
    {
     "data": {
      "text/plain": [
       "([0.349980513479995], [0.7856617576940942])"
      ]
     },
     "execution_count": 19,
     "metadata": {},
     "output_type": "execute_result"
    }
   ],
   "source": [
    "performace.evaluate(testX, testY) # RMSE, R^2"
   ]
  },
  {
   "cell_type": "code",
   "execution_count": null,
   "metadata": {},
   "outputs": [],
   "source": []
  },
  {
   "cell_type": "markdown",
   "metadata": {},
   "source": [
    "## 03.branch training for task of mlm"
   ]
  },
  {
   "cell_type": "code",
   "execution_count": 20,
   "metadata": {},
   "outputs": [
    {
     "name": "stdout",
     "output_type": "stream",
     "text": [
      "617 117 56\n",
      "epoch: 0001, loss: 0.0694 - val_loss: 0.1871; rmse: 0.2463 - rmse_val: 0.4326;  r2: 0.8963 - r2_val: 0.6484                                                                                                    \n",
      "epoch: 0002, loss: 0.0558 - val_loss: 0.1934; rmse: 0.2203 - rmse_val: 0.4398;  r2: 0.9171 - r2_val: 0.6366                                                                                                    \n",
      "epoch: 0003, loss: 0.0450 - val_loss: 0.1966; rmse: 0.1967 - rmse_val: 0.4434;  r2: 0.9339 - r2_val: 0.6306                                                                                                    \n",
      "epoch: 0004, loss: 0.0382 - val_loss: 0.1943; rmse: 0.1829 - rmse_val: 0.4408;  r2: 0.9428 - r2_val: 0.6349                                                                                                    \n",
      "epoch: 0005, loss: 0.0318 - val_loss: 0.1975; rmse: 0.1677 - rmse_val: 0.4445;  r2: 0.9519 - r2_val: 0.6288                                                                                                    \n",
      "epoch: 0006, loss: 0.0285 - val_loss: 0.2041; rmse: 0.1633 - rmse_val: 0.4517;  r2: 0.9544 - r2_val: 0.6165                                                                                                    \n",
      "epoch: 0007, loss: 0.0264 - val_loss: 0.2102; rmse: 0.1607 - rmse_val: 0.4585;  r2: 0.9559 - r2_val: 0.6050                                                                                                    \n",
      "epoch: 0008, loss: 0.0259 - val_loss: 0.2025; rmse: 0.1413 - rmse_val: 0.4500;  r2: 0.9659 - r2_val: 0.6194                                                                                                    \n",
      "epoch: 0009, loss: 0.0219 - val_loss: 0.1970; rmse: 0.1327 - rmse_val: 0.4438;  r2: 0.9699 - r2_val: 0.6298                                                                                                    \n",
      "epoch: 0010, loss: 0.0192 - val_loss: 0.1968; rmse: 0.1330 - rmse_val: 0.4435;  r2: 0.9698 - r2_val: 0.6303                                                                                                    \n",
      "epoch: 0011, loss: 0.0185 - val_loss: 0.1969; rmse: 0.1323 - rmse_val: 0.4437;  r2: 0.9701 - r2_val: 0.6301                                                                                                    \n",
      "\n",
      "Restoring model weights from the end of the best epoch.\n",
      "\n",
      "Epoch 00011: early stopping\n"
     ]
    },
    {
     "data": {
      "text/plain": [
       "<matplotlib.axes._subplots.AxesSubplot at 0x7f5c7f468cc0>"
      ]
     },
     "execution_count": 20,
     "metadata": {},
     "output_type": "execute_result"
    },
    {
     "data": {
      "image/png": "[encoded data removed]",
      "text/plain": [
       "<Figure size 432x288 with 1 Axes>"
      ]
     },
     "metadata": {
      "needs_background": "light"
     },
     "output_type": "display_data"
    }
   ],
   "source": [
    "task = 'mlm_clearance[mL.min-1.g-1]'\n",
    "split = 'Set_mlm'\n",
    "\n",
    "\n",
    "(train_idx, valid_idx, test_idx), Y = get_idx_and_Y(df, task, split)\n",
    "\n",
    "trainY = Y[train_idx]\n",
    "validY = Y[valid_idx]\n",
    "testY = Y[test_idx]\n",
    "\n",
    "trainX = (X1[train_idx], X2[train_idx])\n",
    "validX = (X1[valid_idx], X2[valid_idx])\n",
    "testX  = (X1[test_idx], X2[test_idx])\n",
    "\n",
    "\n",
    "#model = DoublePathModel(molmap1_size, molmap2_size, n_outputs = Y.shape[1])\n",
    "#model = SinglePathModel(molmap_size, n_outputs = Y.shape[1])\n",
    "from cbks import RegressionPerformance, EarlyStoppingAtMinLoss\n",
    "\n",
    "earlystop = EarlyStoppingAtMinLoss(patience=10, criteria = 'val_loss')\n",
    "performace = RegressionPerformance((trainX, trainY), (validX, validY), MASK = 1e8)\n",
    "lr = tf.keras.optimizers.Adam(lr=0.0001, beta_1=0.9, beta_2=0.999, epsilon=1e-08, decay=0.0) #\n",
    "#model.compile(optimizer = lr, loss = 'mse')\n",
    "\n",
    "model.load_weights('./basemodel.h5')\n",
    "model.fit(trainX, trainY, batch_size=128, \n",
    "      epochs=task_epochs, verbose= 0, shuffle = True, \n",
    "      validation_data = (validX, validY), \n",
    "      callbacks=[performace, earlystop]) #\n",
    "\n",
    "dfp = pd.DataFrame(performace.history)[['training_loss', 'validation_loss']]\n",
    "dfp.plot()"
   ]
  },
  {
   "cell_type": "code",
   "execution_count": 21,
   "metadata": {},
   "outputs": [
    {
     "data": {
      "text/plain": [
       "([0.24628051659221353], [0.8963362207829121])"
      ]
     },
     "execution_count": 21,
     "metadata": {},
     "output_type": "execute_result"
    }
   ],
   "source": [
    "performace.evaluate(trainX, trainY) # RMSE, R^2"
   ]
  },
  {
   "cell_type": "code",
   "execution_count": 22,
   "metadata": {},
   "outputs": [
    {
     "data": {
      "text/plain": [
       "([0.43259277741725066], [0.6483557160683693])"
      ]
     },
     "execution_count": 22,
     "metadata": {},
     "output_type": "execute_result"
    }
   ],
   "source": [
    "performace.evaluate(validX, validY) # RMSE, R^2"
   ]
  },
  {
   "cell_type": "code",
   "execution_count": 23,
   "metadata": {},
   "outputs": [
    {
     "data": {
      "text/plain": [
       "([0.4875450872999334], [0.5177090436479075])"
      ]
     },
     "execution_count": 23,
     "metadata": {},
     "output_type": "execute_result"
    }
   ],
   "source": [
    "performace.evaluate(testX, testY) # RMSE, R^2"
   ]
  },
  {
   "cell_type": "code",
   "execution_count": 24,
   "metadata": {},
   "outputs": [
    {
     "data": {
      "text/plain": [
       "807841"
      ]
     },
     "execution_count": 24,
     "metadata": {},
     "output_type": "execute_result"
    }
   ],
   "source": [
    "model.count_params()"
   ]
  },
  {
   "cell_type": "code",
   "execution_count": 25,
   "metadata": {},
   "outputs": [
    {
     "name": "stdout",
     "output_type": "stream",
     "text": [
      "total 1.5G\n",
      "-rw-rw-r-- 1 shenwanxiang shenwanxiang 3.5K Nov  9 11:45 00_count_paper_parameters.ipynb\n",
      "-rw-rw-r-- 1 shenwanxiang shenwanxiang  81K Nov  9 13:15 01_comparsion_multitask.ipynb\n",
      "-rw-rw-r-- 1 shenwanxiang shenwanxiang 764K Nov  8 18:15 Dataset_chembl_clearcaco.txt\n",
      "-rw-rw-r-- 1 shenwanxiang shenwanxiang 1.2G Nov  8 19:32 X_descriptor.data\n",
      "-rw-rw-r-- 1 shenwanxiang shenwanxiang 267M Nov  8 19:37 X_fingerprint.data\n",
      "drwxrwxr-x 2 shenwanxiang shenwanxiang 4.0K Nov  8 19:43 __pycache__/\n",
      "-rw-rw-r-- 1 shenwanxiang shenwanxiang 9.5M Nov  9 13:11 basemodel.h5\n",
      "-rw-rw-r-- 1 shenwanxiang shenwanxiang 8.3K Nov  8 18:15 cbks.py\n"
     ]
    }
   ],
   "source": [
    "ls -lh"
   ]
  },
  {
   "cell_type": "code",
   "execution_count": null,
   "metadata": {},
   "outputs": [],
   "source": []
  }
 ],
 "metadata": {
  "kernelspec": {
   "display_name": "Python 3",
   "language": "python",
   "name": "python3"
  },
  "language_info": {
   "codemirror_mode": {
    "name": "ipython",
    "version": 3
   },
   "file_extension": ".py",
   "mimetype": "text/x-python",
   "name": "python",
   "nbconvert_exporter": "python",
   "pygments_lexer": "ipython3",
   "version": "3.6.9"
  }
 },
 "nbformat": 4,
 "nbformat_minor": 4
}
