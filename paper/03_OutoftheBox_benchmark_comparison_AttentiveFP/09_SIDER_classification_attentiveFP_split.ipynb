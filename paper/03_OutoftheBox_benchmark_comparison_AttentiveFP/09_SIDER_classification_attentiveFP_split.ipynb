{
 "cells": [
  {
   "cell_type": "code",
   "execution_count": 11,
   "metadata": {},
   "outputs": [],
   "source": [
    "from molmap import dataset\n",
    "from molmap import loadmap\n",
    "import molmap\n",
    "\n",
    "import matplotlib.pyplot as plt\n",
    "from joblib import dump, load\n",
    "from tqdm import tqdm\n",
    "import pandas as pd\n",
    "tqdm.pandas(ascii=True)\n",
    "\n",
    "import numpy as np\n",
    "import tensorflow as tf\n",
    "\n",
    "#use the second GPU, if negative value, CPUs will be used\n",
    "import os\n",
    "os.environ[\"CUDA_VISIBLE_DEVICES\"]=\"0\"\n",
    "\n",
    "\n",
    "%matplotlib inline\n",
    "np.random.seed(777)\n",
    "tf.set_random_seed(777)\n",
    "\n",
    "\n",
    "def get_deepchem_idx(df):\n",
    "    \"\"\" deepchem dataset\"\"\"\n",
    "    deepchem_data_name = './SIDER_deepchem.data'\n",
    "    if os.path.exists(deepchem_data_name):\n",
    "        train_df,valid_df,test_df = load(deepchem_data_name)\n",
    "    else:\n",
    "        import deepchem as dc\n",
    "        task, train_valid_test, _ = dc.molnet.load_sider(featurizer='Raw',split = 'random')\n",
    "        train, valid, test = train_valid_test\n",
    "        train_df = df[df.smiles.isin(train.ids)]\n",
    "        valid_df = df[df.smiles.isin(valid.ids)]\n",
    "        test_df = df[df.smiles.isin(test.ids)]\n",
    "        dump((train_df,valid_df,test_df), deepchem_data_name)\n",
    "    train_idx = train_df.index\n",
    "    valid_idx = valid_df.index\n",
    "    test_idx = test_df.index\n",
    "    print('training set: %s, valid set: %s, test set %s' % (len(train_idx), len(valid_idx), len(test_idx)))\n",
    "    return train_idx, valid_idx, test_idx\n",
    "\n",
    "\n",
    "def get_attentiveFP_idx(df):\n",
    "    \"\"\" attentiveFP dataset\"\"\"\n",
    "    train, valid,test = load('./SIDER_attentiveFP.data')\n",
    "    print('training set: %s, valid set: %s, test set %s' % (len(train), len(valid), len(test)))\n",
    "    train_idx = df[df.smiles.isin(train.smiles)].index\n",
    "    valid_idx = df[df.smiles.isin(valid.smiles)].index\n",
    "    test_idx = df[df.smiles.isin(test.smiles)].index\n",
    "    print('training set: %s, valid set: %s, test set %s' % (len(train_idx), len(valid_idx), len(test_idx)))\n",
    "    return train_idx, valid_idx, test_idx \n",
    "\n",
    "def get_pos_weights(trainY):\n",
    "    \"\"\"pos_weights: neg_n / pos_n \"\"\"\n",
    "    dfY = pd.DataFrame(trainY)\n",
    "    pos = dfY == 1\n",
    "    pos_n = pos.sum(axis=0)\n",
    "    neg = dfY == 0\n",
    "    neg_n = neg.sum(axis=0)\n",
    "    pos_weights = (neg_n / pos_n).values\n",
    "    neg_weights = (pos_n / neg_n).values\n",
    "    return pos_weights, neg_weights"
   ]
  },
  {
   "cell_type": "code",
   "execution_count": 12,
   "metadata": {},
   "outputs": [
    {
     "name": "stdout",
     "output_type": "stream",
     "text": [
      "total samples: 1427\n"
     ]
    }
   ],
   "source": [
    "#load dataset\n",
    "data = dataset.load_SIDER()\n",
    "df = data.data"
   ]
  },
  {
   "cell_type": "code",
   "execution_count": 13,
   "metadata": {},
   "outputs": [],
   "source": [
    "MASK = -1\n",
    "Y = pd.DataFrame(data.y).fillna(MASK).values"
   ]
  },
  {
   "cell_type": "code",
   "execution_count": 14,
   "metadata": {},
   "outputs": [],
   "source": [
    "# calculate feature\n",
    "X1_name =  './descriptor_grid_split.data'\n",
    "X2_name =  './fingerprint_grid_split.data'\n",
    "\n",
    "if os.path.exists(X1_name):\n",
    "    X1 = load(X1_name)\n",
    "else:\n",
    "    mp = loadmap('../../descriptor_grid_split.mp')\n",
    "    X1 = mp.batch_transform(data.x, n_jobs = 8)\n",
    "    dump(X1, X1_name)\n",
    "    \n",
    "if os.path.exists(X2_name):\n",
    "    X2 = load(X2_name)\n",
    "else:\n",
    "    mp = loadmap('../../fingerprint_grid_split.mp')\n",
    "    X2 = mp.batch_transform(data.x, n_jobs = 8)\n",
    "    dump(X2, X2_name)"
   ]
  },
  {
   "cell_type": "code",
   "execution_count": 15,
   "metadata": {},
   "outputs": [
    {
     "name": "stdout",
     "output_type": "stream",
     "text": [
      "training set: 1092, valid set: 137, test set 137\n",
      "training set: 1092, valid set: 137, test set 137\n",
      "1092 137 137\n"
     ]
    }
   ],
   "source": [
    "train_idx, valid_idx, test_idx = get_attentiveFP_idx(df)\n",
    "#train_idx, valid_idx, test_idx = get_deepchem_idx(df)\n",
    "\n",
    "\n",
    "trainX = (X1[train_idx], X2[train_idx])\n",
    "trainY = Y[train_idx]\n",
    "\n",
    "validX = (X1[valid_idx], X2[valid_idx])\n",
    "validY = Y[valid_idx]\n",
    "\n",
    "testX = (X1[test_idx], X2[test_idx])\n",
    "testY = Y[test_idx]\n",
    "\n",
    "print(len(train_idx), len(valid_idx), len(test_idx))"
   ]
  },
  {
   "cell_type": "code",
   "execution_count": 16,
   "metadata": {},
   "outputs": [],
   "source": [
    "from loss import cross_entropy, weighted_cross_entropy\n",
    "from cbks import EarlyStoppingAndPerformance\n",
    "from model import DoublePathClassificationModel\n",
    "\n",
    "molmap1_size = X1.shape[1:]\n",
    "molmap2_size = X2.shape[1:]\n",
    "pos_weights, neg_weights = get_pos_weights(Y[train_idx])\n",
    "loss = lambda y_true, y_pred: weighted_cross_entropy(y_true,y_pred, pos_weights, MASK)\n",
    "model = DoublePathClassificationModel(molmap1_size,molmap2_size, n_outputs = Y.shape[1])"
   ]
  },
  {
   "cell_type": "code",
   "execution_count": 17,
   "metadata": {},
   "outputs": [
    {
     "data": {
      "text/plain": [
       "784827"
      ]
     },
     "execution_count": 17,
     "metadata": {},
     "output_type": "execute_result"
    }
   ],
   "source": [
    "earlystop = EarlyStoppingAndPerformance((trainX, trainY), (validX, validY), MASK, patience=10, criteria = 'val_auc')\n",
    "lr = tf.keras.optimizers.Adam(lr=0.0001, beta_1=0.9, beta_2=0.999, epsilon=1e-08, decay=0.0) #\n",
    "model.compile(optimizer = lr, loss = loss)\n",
    "model.count_params()"
   ]
  },
  {
   "cell_type": "code",
   "execution_count": 18,
   "metadata": {},
   "outputs": [
    {
     "name": "stdout",
     "output_type": "stream",
     "text": [
      "epoch: 0001, loss: 0.5977 - val_loss: 0.6205; auc: 0.5568 - val_auc: 0.5285                                                                                                    \n",
      "epoch: 0002, loss: 0.5957 - val_loss: 0.6206; auc: 0.5840 - val_auc: 0.5321                                                                                                    \n",
      "epoch: 0003, loss: 0.5946 - val_loss: 0.6215; auc: 0.6054 - val_auc: 0.5428                                                                                                    \n",
      "epoch: 0004, loss: 0.5934 - val_loss: 0.6186; auc: 0.6089 - val_auc: 0.5411                                                                                                    \n",
      "epoch: 0005, loss: 0.5926 - val_loss: 0.6198; auc: 0.6188 - val_auc: 0.5525                                                                                                    \n",
      "epoch: 0006, loss: 0.5921 - val_loss: 0.6213; auc: 0.6285 - val_auc: 0.5533                                                                                                    \n",
      "epoch: 0007, loss: 0.5903 - val_loss: 0.6181; auc: 0.6302 - val_auc: 0.5578                                                                                                    \n",
      "epoch: 0008, loss: 0.5897 - val_loss: 0.6197; auc: 0.6363 - val_auc: 0.5609                                                                                                    \n",
      "epoch: 0009, loss: 0.5890 - val_loss: 0.6189; auc: 0.6392 - val_auc: 0.5595                                                                                                    \n",
      "epoch: 0010, loss: 0.5870 - val_loss: 0.6185; auc: 0.6419 - val_auc: 0.5646                                                                                                    \n",
      "epoch: 0011, loss: 0.5862 - val_loss: 0.6170; auc: 0.6455 - val_auc: 0.5651                                                                                                    \n",
      "epoch: 0012, loss: 0.5847 - val_loss: 0.6203; auc: 0.6439 - val_auc: 0.5629                                                                                                    \n",
      "epoch: 0013, loss: 0.5823 - val_loss: 0.6184; auc: 0.6489 - val_auc: 0.5664                                                                                                    \n",
      "epoch: 0014, loss: 0.5815 - val_loss: 0.6199; auc: 0.6450 - val_auc: 0.5675                                                                                                    \n",
      "epoch: 0015, loss: 0.5790 - val_loss: 0.6201; auc: 0.6503 - val_auc: 0.5659                                                                                                    \n",
      "epoch: 0016, loss: 0.5773 - val_loss: 0.6231; auc: 0.6482 - val_auc: 0.5674                                                                                                    \n",
      "epoch: 0017, loss: 0.5750 - val_loss: 0.6208; auc: 0.6532 - val_auc: 0.5743                                                                                                    \n",
      "epoch: 0018, loss: 0.5739 - val_loss: 0.6220; auc: 0.6531 - val_auc: 0.5697                                                                                                    \n",
      "epoch: 0019, loss: 0.5727 - val_loss: 0.6406; auc: 0.6431 - val_auc: 0.5688                                                                                                    \n",
      "epoch: 0020, loss: 0.5720 - val_loss: 0.6236; auc: 0.6555 - val_auc: 0.5724                                                                                                    \n",
      "epoch: 0021, loss: 0.5670 - val_loss: 0.6299; auc: 0.6564 - val_auc: 0.5756                                                                                                    \n",
      "epoch: 0022, loss: 0.5650 - val_loss: 0.6165; auc: 0.6613 - val_auc: 0.5774                                                                                                    \n",
      "epoch: 0023, loss: 0.5630 - val_loss: 0.6520; auc: 0.6536 - val_auc: 0.5746                                                                                                    \n",
      "epoch: 0024, loss: 0.5618 - val_loss: 0.6193; auc: 0.6645 - val_auc: 0.5790                                                                                                    \n",
      "epoch: 0025, loss: 0.5583 - val_loss: 0.6374; auc: 0.6624 - val_auc: 0.5797                                                                                                    \n",
      "epoch: 0026, loss: 0.5548 - val_loss: 0.6345; auc: 0.6678 - val_auc: 0.5807                                                                                                    \n",
      "epoch: 0027, loss: 0.5535 - val_loss: 0.6921; auc: 0.6576 - val_auc: 0.5754                                                                                                    \n",
      "epoch: 0028, loss: 0.5595 - val_loss: 0.6129; auc: 0.6697 - val_auc: 0.5843                                                                                                    \n",
      "epoch: 0029, loss: 0.5525 - val_loss: 0.6565; auc: 0.6676 - val_auc: 0.5836                                                                                                    \n",
      "epoch: 0030, loss: 0.5479 - val_loss: 0.6621; auc: 0.6703 - val_auc: 0.5863                                                                                                    \n",
      "epoch: 0031, loss: 0.5429 - val_loss: 0.6579; auc: 0.6758 - val_auc: 0.5893                                                                                                    \n",
      "epoch: 0032, loss: 0.5405 - val_loss: 0.6529; auc: 0.6749 - val_auc: 0.5889                                                                                                    \n",
      "epoch: 0033, loss: 0.5376 - val_loss: 0.6639; auc: 0.6785 - val_auc: 0.5895                                                                                                    \n",
      "epoch: 0034, loss: 0.5358 - val_loss: 0.6966; auc: 0.6806 - val_auc: 0.5926                                                                                                    \n",
      "epoch: 0035, loss: 0.5333 - val_loss: 0.7066; auc: 0.6841 - val_auc: 0.5915                                                                                                    \n",
      "epoch: 0036, loss: 0.5331 - val_loss: 0.6820; auc: 0.6886 - val_auc: 0.5962                                                                                                    \n",
      "epoch: 0037, loss: 0.5280 - val_loss: 0.6836; auc: 0.6900 - val_auc: 0.5958                                                                                                    \n",
      "epoch: 0038, loss: 0.5260 - val_loss: 0.6823; auc: 0.6939 - val_auc: 0.5970                                                                                                    \n",
      "epoch: 0039, loss: 0.5231 - val_loss: 0.7132; auc: 0.6954 - val_auc: 0.5988                                                                                                    \n",
      "epoch: 0040, loss: 0.5221 - val_loss: 0.6775; auc: 0.7031 - val_auc: 0.6011                                                                                                    \n",
      "epoch: 0041, loss: 0.5214 - val_loss: 0.7128; auc: 0.7061 - val_auc: 0.6029                                                                                                    \n",
      "epoch: 0042, loss: 0.5164 - val_loss: 0.7320; auc: 0.7073 - val_auc: 0.6048                                                                                                    \n",
      "epoch: 0043, loss: 0.5132 - val_loss: 0.7435; auc: 0.7106 - val_auc: 0.6042                                                                                                    \n",
      "epoch: 0044, loss: 0.5116 - val_loss: 0.7521; auc: 0.7158 - val_auc: 0.6059                                                                                                    \n",
      "epoch: 0045, loss: 0.5102 - val_loss: 0.7179; auc: 0.7178 - val_auc: 0.6056                                                                                                    \n",
      "epoch: 0046, loss: 0.5110 - val_loss: 0.7665; auc: 0.7207 - val_auc: 0.6070                                                                                                    \n",
      "epoch: 0047, loss: 0.5065 - val_loss: 0.7273; auc: 0.7243 - val_auc: 0.6075                                                                                                    \n",
      "epoch: 0048, loss: 0.5029 - val_loss: 0.7717; auc: 0.7296 - val_auc: 0.6098                                                                                                    \n",
      "epoch: 0049, loss: 0.5013 - val_loss: 0.7739; auc: 0.7319 - val_auc: 0.6106                                                                                                    \n",
      "epoch: 0050, loss: 0.4993 - val_loss: 0.7504; auc: 0.7355 - val_auc: 0.6117                                                                                                    \n",
      "epoch: 0051, loss: 0.4962 - val_loss: 0.7937; auc: 0.7392 - val_auc: 0.6120                                                                                                    \n",
      "epoch: 0052, loss: 0.4925 - val_loss: 0.7767; auc: 0.7400 - val_auc: 0.6108                                                                                                    \n",
      "epoch: 0053, loss: 0.4913 - val_loss: 0.7435; auc: 0.7443 - val_auc: 0.6140                                                                                                    \n",
      "epoch: 0054, loss: 0.4905 - val_loss: 0.7990; auc: 0.7485 - val_auc: 0.6144                                                                                                    \n",
      "epoch: 0055, loss: 0.4859 - val_loss: 0.8163; auc: 0.7530 - val_auc: 0.6149                                                                                                    \n",
      "epoch: 0056, loss: 0.4849 - val_loss: 0.8156; auc: 0.7570 - val_auc: 0.6170                                                                                                    \n",
      "epoch: 0057, loss: 0.4866 - val_loss: 0.8257; auc: 0.7589 - val_auc: 0.6157                                                                                                    \n",
      "epoch: 0058, loss: 0.4828 - val_loss: 0.7949; auc: 0.7611 - val_auc: 0.6155                                                                                                    \n",
      "epoch: 0059, loss: 0.4769 - val_loss: 0.8455; auc: 0.7656 - val_auc: 0.6170                                                                                                    \n",
      "epoch: 0060, loss: 0.4744 - val_loss: 0.8719; auc: 0.7691 - val_auc: 0.6172                                                                                                    \n",
      "epoch: 0061, loss: 0.4750 - val_loss: 0.8097; auc: 0.7711 - val_auc: 0.6172                                                                                                    \n",
      "epoch: 0062, loss: 0.4688 - val_loss: 0.8437; auc: 0.7754 - val_auc: 0.6175                                                                                                    \n",
      "epoch: 0063, loss: 0.4673 - val_loss: 0.8664; auc: 0.7792 - val_auc: 0.6195                                                                                                    \n",
      "epoch: 0064, loss: 0.4659 - val_loss: 0.8325; auc: 0.7808 - val_auc: 0.6200                                                                                                    \n",
      "epoch: 0065, loss: 0.4630 - val_loss: 0.8503; auc: 0.7835 - val_auc: 0.6193                                                                                                    \n",
      "epoch: 0066, loss: 0.4609 - val_loss: 0.8362; auc: 0.7873 - val_auc: 0.6200                                                                                                    \n",
      "epoch: 0067, loss: 0.4607 - val_loss: 0.8772; auc: 0.7901 - val_auc: 0.6211                                                                                                    \n",
      "epoch: 0068, loss: 0.4524 - val_loss: 0.8304; auc: 0.7909 - val_auc: 0.6223                                                                                                    \n",
      "epoch: 0069, loss: 0.4533 - val_loss: 0.8852; auc: 0.7954 - val_auc: 0.6221                                                                                                    \n",
      "epoch: 0070, loss: 0.4528 - val_loss: 0.9100; auc: 0.7996 - val_auc: 0.6238                                                                                                    \n",
      "epoch: 0071, loss: 0.4488 - val_loss: 0.8740; auc: 0.7988 - val_auc: 0.6221                                                                                                    \n",
      "epoch: 0072, loss: 0.4457 - val_loss: 0.9124; auc: 0.8046 - val_auc: 0.6243                                                                                                    \n",
      "epoch: 0073, loss: 0.4419 - val_loss: 0.8475; auc: 0.8058 - val_auc: 0.6252                                                                                                    \n",
      "epoch: 0074, loss: 0.4386 - val_loss: 0.8617; auc: 0.8075 - val_auc: 0.6248                                                                                                    \n",
      "epoch: 0075, loss: 0.4361 - val_loss: 0.9154; auc: 0.8119 - val_auc: 0.6268                                                                                                    \n",
      "epoch: 0076, loss: 0.4350 - val_loss: 0.8440; auc: 0.8137 - val_auc: 0.6265                                                                                                    \n",
      "epoch: 0077, loss: 0.4318 - val_loss: 0.9261; auc: 0.8180 - val_auc: 0.6274                                                                                                    \n",
      "epoch: 0078, loss: 0.4318 - val_loss: 0.9042; auc: 0.8187 - val_auc: 0.6265                                                                                                    \n",
      "epoch: 0079, loss: 0.4254 - val_loss: 0.9100; auc: 0.8225 - val_auc: 0.6271                                                                                                    \n",
      "epoch: 0080, loss: 0.4245 - val_loss: 0.8755; auc: 0.8232 - val_auc: 0.6287                                                                                                    \n",
      "epoch: 0081, loss: 0.4192 - val_loss: 0.9341; auc: 0.8276 - val_auc: 0.6299                                                                                                    \n",
      "epoch: 0082, loss: 0.4167 - val_loss: 0.9141; auc: 0.8295 - val_auc: 0.6311                                                                                                    \n",
      "epoch: 0083, loss: 0.4172 - val_loss: 0.8912; auc: 0.8299 - val_auc: 0.6312                                                                                                    \n",
      "epoch: 0084, loss: 0.4165 - val_loss: 0.9296; auc: 0.8329 - val_auc: 0.6314                                                                                                    \n",
      "epoch: 0085, loss: 0.4119 - val_loss: 0.9207; auc: 0.8359 - val_auc: 0.6304                                                                                                    \n",
      "epoch: 0086, loss: 0.4114 - val_loss: 0.9816; auc: 0.8393 - val_auc: 0.6314                                                                                                    \n",
      "epoch: 0087, loss: 0.4079 - val_loss: 0.8976; auc: 0.8386 - val_auc: 0.6316                                                                                                    \n",
      "epoch: 0088, loss: 0.4053 - val_loss: 0.9131; auc: 0.8420 - val_auc: 0.6320                                                                                                    \n",
      "epoch: 0089, loss: 0.4009 - val_loss: 0.9297; auc: 0.8431 - val_auc: 0.6315                                                                                                    \n",
      "epoch: 0090, loss: 0.3970 - val_loss: 0.9527; auc: 0.8468 - val_auc: 0.6330                                                                                                    \n",
      "epoch: 0091, loss: 0.3933 - val_loss: 0.9129; auc: 0.8467 - val_auc: 0.6340                                                                                                    \n",
      "epoch: 0092, loss: 0.3922 - val_loss: 0.9595; auc: 0.8477 - val_auc: 0.6336                                                                                                    \n",
      "epoch: 0093, loss: 0.3893 - val_loss: 0.9973; auc: 0.8516 - val_auc: 0.6334                                                                                                    \n",
      "epoch: 0094, loss: 0.3879 - val_loss: 0.8836; auc: 0.8515 - val_auc: 0.6357                                                                                                    \n",
      "epoch: 0095, loss: 0.3866 - val_loss: 0.9642; auc: 0.8536 - val_auc: 0.6334                                                                                                    \n",
      "epoch: 0096, loss: 0.3867 - val_loss: 0.9158; auc: 0.8543 - val_auc: 0.6354                                                                                                    \n",
      "epoch: 0097, loss: 0.3861 - val_loss: 0.8994; auc: 0.8562 - val_auc: 0.6351                                                                                                    \n",
      "epoch: 0098, loss: 0.3824 - val_loss: 0.9843; auc: 0.8596 - val_auc: 0.6323                                                                                                    \n",
      "epoch: 0099, loss: 0.3748 - val_loss: 0.9139; auc: 0.8600 - val_auc: 0.6359                                                                                                    \n",
      "epoch: 0100, loss: 0.3742 - val_loss: 0.9138; auc: 0.8607 - val_auc: 0.6357                                                                                                    \n",
      "epoch: 0101, loss: 0.3711 - val_loss: 0.9659; auc: 0.8631 - val_auc: 0.6377                                                                                                    \n",
      "epoch: 0102, loss: 0.3778 - val_loss: 0.9626; auc: 0.8634 - val_auc: 0.6373                                                                                                    \n",
      "epoch: 0103, loss: 0.3703 - val_loss: 0.9200; auc: 0.8659 - val_auc: 0.6364                                                                                                    \n",
      "epoch: 0104, loss: 0.3707 - val_loss: 0.9948; auc: 0.8677 - val_auc: 0.6343                                                                                                    \n",
      "epoch: 0105, loss: 0.3649 - val_loss: 0.9731; auc: 0.8680 - val_auc: 0.6356                                                                                                    \n",
      "epoch: 0106, loss: 0.3623 - val_loss: 0.9644; auc: 0.8696 - val_auc: 0.6368                                                                                                    \n",
      "epoch: 0107, loss: 0.3636 - val_loss: 0.9405; auc: 0.8702 - val_auc: 0.6353                                                                                                    \n",
      "epoch: 0108, loss: 0.3632 - val_loss: 0.9668; auc: 0.8707 - val_auc: 0.6373                                                                                                    \n",
      "epoch: 0109, loss: 0.3650 - val_loss: 0.9439; auc: 0.8715 - val_auc: 0.6396                                                                                                    \n",
      "epoch: 0110, loss: 0.3661 - val_loss: 0.9604; auc: 0.8734 - val_auc: 0.6370                                                                                                    \n",
      "epoch: 0111, loss: 0.3605 - val_loss: 1.0161; auc: 0.8747 - val_auc: 0.6388                                                                                                    \n",
      "epoch: 0112, loss: 0.3538 - val_loss: 0.9868; auc: 0.8763 - val_auc: 0.6374                                                                                                    \n",
      "epoch: 0113, loss: 0.3528 - val_loss: 1.0521; auc: 0.8779 - val_auc: 0.6387                                                                                                    \n",
      "epoch: 0114, loss: 0.3556 - val_loss: 0.9942; auc: 0.8778 - val_auc: 0.6401                                                                                                    \n",
      "epoch: 0115, loss: 0.3519 - val_loss: 0.9375; auc: 0.8764 - val_auc: 0.6368                                                                                                    \n",
      "epoch: 0116, loss: 0.3530 - val_loss: 0.9736; auc: 0.8773 - val_auc: 0.6377                                                                                                    \n",
      "epoch: 0117, loss: 0.3521 - val_loss: 1.0722; auc: 0.8807 - val_auc: 0.6393                                                                                                    \n",
      "epoch: 0118, loss: 0.3447 - val_loss: 0.9671; auc: 0.8803 - val_auc: 0.6367                                                                                                    \n",
      "epoch: 0119, loss: 0.3426 - val_loss: 1.0179; auc: 0.8805 - val_auc: 0.6382                                                                                                    \n",
      "epoch: 0120, loss: 0.3412 - val_loss: 0.9894; auc: 0.8826 - val_auc: 0.6391                                                                                                    \n",
      "epoch: 0121, loss: 0.3388 - val_loss: 1.0289; auc: 0.8836 - val_auc: 0.6397                                                                                                    \n",
      "epoch: 0122, loss: 0.3380 - val_loss: 1.0864; auc: 0.8844 - val_auc: 0.6388                                                                                                    \n",
      "epoch: 0123, loss: 0.3378 - val_loss: 0.9980; auc: 0.8843 - val_auc: 0.6389                                                                                                    \n",
      "epoch: 0124, loss: 0.3340 - val_loss: 1.0010; auc: 0.8848 - val_auc: 0.6386                                                                                                    \n",
      "\n",
      "Restoring model weights from the end of the best epoch.\n",
      "\n",
      "Epoch 00124: early stopping\n"
     ]
    },
    {
     "data": {
      "text/plain": [
       "<tensorflow.python.keras.callbacks.History at 0x7f0488deb128>"
      ]
     },
     "execution_count": 18,
     "metadata": {},
     "output_type": "execute_result"
    }
   ],
   "source": [
    "model.fit(trainX, trainY, batch_size=128,\n",
    "      epochs=500, verbose= 0, shuffle = True, \n",
    "      validation_data = (validX, validY), \n",
    "      callbacks=[earlystop]) "
   ]
  },
  {
   "cell_type": "code",
   "execution_count": 21,
   "metadata": {},
   "outputs": [
    {
     "data": {
      "text/plain": [
       "<matplotlib.axes._subplots.AxesSubplot at 0x7f0488deb748>"
      ]
     },
     "execution_count": 21,
     "metadata": {},
     "output_type": "execute_result"
    },
    {
     "data": {
      "image/png": "[encoded data removed]",
      "text/plain": [
       "<Figure size 432x288 with 1 Axes>"
      ]
     },
     "metadata": {
      "needs_background": "light"
     },
     "output_type": "display_data"
    }
   ],
   "source": [
    "dfp = pd.DataFrame(earlystop.history)[[ 'auc', 'val_auc']]\n",
    "dfp.plot()"
   ]
  },
  {
   "cell_type": "code",
   "execution_count": 20,
   "metadata": {},
   "outputs": [
    {
     "name": "stdout",
     "output_type": "stream",
     "text": [
      "0.8778077242895356 0.6401360231261612 0.6930307329312773\n"
     ]
    }
   ],
   "source": [
    "train_auc = np.nanmean(earlystop.evaluate(trainX, trainY))\n",
    "valid_auc = np.nanmean(earlystop.evaluate(validX, validY))\n",
    "test_auc = np.nanmean(earlystop.evaluate(testX, testY))\n",
    "\n",
    "\n",
    "print(train_auc, valid_auc, test_auc)"
   ]
  },
  {
   "cell_type": "code",
   "execution_count": null,
   "metadata": {},
   "outputs": [],
   "source": []
  },
  {
   "cell_type": "code",
   "execution_count": null,
   "metadata": {},
   "outputs": [],
   "source": []
  },
  {
   "cell_type": "code",
   "execution_count": null,
   "metadata": {},
   "outputs": [],
   "source": []
  },
  {
   "cell_type": "code",
   "execution_count": null,
   "metadata": {},
   "outputs": [],
   "source": []
  }
 ],
 "metadata": {
  "kernelspec": {
   "display_name": "Python 3",
   "language": "python",
   "name": "python3"
  },
  "language_info": {
   "codemirror_mode": {
    "name": "ipython",
    "version": 3
   },
   "file_extension": ".py",
   "mimetype": "text/x-python",
   "name": "python",
   "nbconvert_exporter": "python",
   "pygments_lexer": "ipython3",
   "version": "3.6.9"
  }
 },
 "nbformat": 4,
 "nbformat_minor": 4
}
