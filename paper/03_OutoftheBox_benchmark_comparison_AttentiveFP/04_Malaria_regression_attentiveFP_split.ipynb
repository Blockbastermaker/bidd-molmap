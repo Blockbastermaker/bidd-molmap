{
 "cells": [
  {
   "cell_type": "code",
   "execution_count": 1,
   "metadata": {},
   "outputs": [
    {
     "name": "stderr",
     "output_type": "stream",
     "text": [
      "/home/shenwanxiang/anaconda3/envs/deepchem/lib/python3.6/site-packages/tensorflow/python/framework/dtypes.py:516: FutureWarning: Passing (type, 1) or '1type' as a synonym of type is deprecated; in a future version of numpy, it will be understood as (type, (1,)) / '(1,)type'.\n",
      "  _np_qint8 = np.dtype([(\"qint8\", np.int8, 1)])\n",
      "/home/shenwanxiang/anaconda3/envs/deepchem/lib/python3.6/site-packages/tensorflow/python/framework/dtypes.py:517: FutureWarning: Passing (type, 1) or '1type' as a synonym of type is deprecated; in a future version of numpy, it will be understood as (type, (1,)) / '(1,)type'.\n",
      "  _np_quint8 = np.dtype([(\"quint8\", np.uint8, 1)])\n",
      "/home/shenwanxiang/anaconda3/envs/deepchem/lib/python3.6/site-packages/tensorflow/python/framework/dtypes.py:518: FutureWarning: Passing (type, 1) or '1type' as a synonym of type is deprecated; in a future version of numpy, it will be understood as (type, (1,)) / '(1,)type'.\n",
      "  _np_qint16 = np.dtype([(\"qint16\", np.int16, 1)])\n",
      "/home/shenwanxiang/anaconda3/envs/deepchem/lib/python3.6/site-packages/tensorflow/python/framework/dtypes.py:519: FutureWarning: Passing (type, 1) or '1type' as a synonym of type is deprecated; in a future version of numpy, it will be understood as (type, (1,)) / '(1,)type'.\n",
      "  _np_quint16 = np.dtype([(\"quint16\", np.uint16, 1)])\n",
      "/home/shenwanxiang/anaconda3/envs/deepchem/lib/python3.6/site-packages/tensorflow/python/framework/dtypes.py:520: FutureWarning: Passing (type, 1) or '1type' as a synonym of type is deprecated; in a future version of numpy, it will be understood as (type, (1,)) / '(1,)type'.\n",
      "  _np_qint32 = np.dtype([(\"qint32\", np.int32, 1)])\n",
      "/home/shenwanxiang/anaconda3/envs/deepchem/lib/python3.6/site-packages/tensorflow/python/framework/dtypes.py:525: FutureWarning: Passing (type, 1) or '1type' as a synonym of type is deprecated; in a future version of numpy, it will be understood as (type, (1,)) / '(1,)type'.\n",
      "  np_resource = np.dtype([(\"resource\", np.ubyte, 1)])\n",
      "/home/shenwanxiang/anaconda3/envs/deepchem/lib/python3.6/site-packages/tensorboard/compat/tensorflow_stub/dtypes.py:541: FutureWarning: Passing (type, 1) or '1type' as a synonym of type is deprecated; in a future version of numpy, it will be understood as (type, (1,)) / '(1,)type'.\n",
      "  _np_qint8 = np.dtype([(\"qint8\", np.int8, 1)])\n",
      "/home/shenwanxiang/anaconda3/envs/deepchem/lib/python3.6/site-packages/tensorboard/compat/tensorflow_stub/dtypes.py:542: FutureWarning: Passing (type, 1) or '1type' as a synonym of type is deprecated; in a future version of numpy, it will be understood as (type, (1,)) / '(1,)type'.\n",
      "  _np_quint8 = np.dtype([(\"quint8\", np.uint8, 1)])\n",
      "/home/shenwanxiang/anaconda3/envs/deepchem/lib/python3.6/site-packages/tensorboard/compat/tensorflow_stub/dtypes.py:543: FutureWarning: Passing (type, 1) or '1type' as a synonym of type is deprecated; in a future version of numpy, it will be understood as (type, (1,)) / '(1,)type'.\n",
      "  _np_qint16 = np.dtype([(\"qint16\", np.int16, 1)])\n",
      "/home/shenwanxiang/anaconda3/envs/deepchem/lib/python3.6/site-packages/tensorboard/compat/tensorflow_stub/dtypes.py:544: FutureWarning: Passing (type, 1) or '1type' as a synonym of type is deprecated; in a future version of numpy, it will be understood as (type, (1,)) / '(1,)type'.\n",
      "  _np_quint16 = np.dtype([(\"quint16\", np.uint16, 1)])\n",
      "/home/shenwanxiang/anaconda3/envs/deepchem/lib/python3.6/site-packages/tensorboard/compat/tensorflow_stub/dtypes.py:545: FutureWarning: Passing (type, 1) or '1type' as a synonym of type is deprecated; in a future version of numpy, it will be understood as (type, (1,)) / '(1,)type'.\n",
      "  _np_qint32 = np.dtype([(\"qint32\", np.int32, 1)])\n",
      "/home/shenwanxiang/anaconda3/envs/deepchem/lib/python3.6/site-packages/tensorboard/compat/tensorflow_stub/dtypes.py:550: FutureWarning: Passing (type, 1) or '1type' as a synonym of type is deprecated; in a future version of numpy, it will be understood as (type, (1,)) / '(1,)type'.\n",
      "  np_resource = np.dtype([(\"resource\", np.ubyte, 1)])\n"
     ]
    }
   ],
   "source": [
    "from molmap import dataset\n",
    "from molmap import loadmap\n",
    "import molmap\n",
    "\n",
    "import matplotlib.pyplot as plt\n",
    "from joblib import dump, load\n",
    "from tqdm import tqdm\n",
    "import pandas as pd\n",
    "tqdm.pandas(ascii=True)\n",
    "\n",
    "import numpy as np\n",
    "import tensorflow as tf\n",
    "from tensorflow.keras.utils import plot_model\n",
    "from tensorflow.keras import Model, Input\n",
    "from tensorflow.keras.layers import MaxPool2D, GlobalMaxPool2D, BatchNormalization, Activation\n",
    "from tensorflow.keras.layers import Conv2D, Concatenate,Flatten, Dense, Dropout\n",
    "\n",
    "%matplotlib inline\n",
    "#use the second GPU, if negative value, CPUs will be used\n",
    "import os\n",
    "os.environ[\"CUDA_VISIBLE_DEVICES\"]=\"1\"\n",
    "\n"
   ]
  },
  {
   "cell_type": "code",
   "execution_count": 2,
   "metadata": {},
   "outputs": [],
   "source": [
    "\n",
    "def Inception(inputs, units = 8, strides = 1):\n",
    "    \"\"\"\n",
    "    naive google inception block\n",
    "    \"\"\"\n",
    "    x1 = Conv2D(units, 5, padding='same', activation = 'relu', strides = strides)(inputs)\n",
    "    x2 = Conv2D(units, 3, padding='same', activation = 'relu', strides = strides)(inputs)\n",
    "    x3 = Conv2D(units, 1, padding='same', activation = 'relu', strides = strides)(inputs)\n",
    "    outputs = Concatenate()([x1, x2, x3])    \n",
    "    return outputs\n",
    "\n",
    "\n",
    "def SinglePathClassificationModel(molmap_shape,  n_outputs = 1, strides = 1):\n",
    "    \"\"\"molmap_shape: w, h, c\"\"\"\n",
    "    \n",
    "    assert len(molmap_shape) == 3\n",
    "    inputs = Input(molmap_shape)\n",
    "    \n",
    "    conv1 = Conv2D(48, 13, padding = 'same', activation='relu', strides = 1)(inputs)\n",
    "    \n",
    "    conv1 = MaxPool2D(pool_size = 3, strides = 2, padding = 'same')(conv1) #p1\n",
    "    \n",
    "    incept1 = Inception(conv1, strides = 1, units = 32)\n",
    "    \n",
    "    incept1 = MaxPool2D(pool_size = 3, strides = 2, padding = 'same')(incept1) #p2\n",
    "    \n",
    "    incept2 = Inception(incept1, strides = 1, units = 64)\n",
    "    \n",
    "    #flatten\n",
    "    flat1 = GlobalMaxPool2D()(incept2)   \n",
    "    d1 = Dense(128,activation='relu')(flat1)\n",
    "    d1 = Dense(64,activation='relu')(d1)\n",
    "    outputs = Dense(n_outputs,activation='linear')(d1)\n",
    "    \n",
    "    model = tf.keras.Model(inputs=inputs, outputs=outputs)\n",
    "    \n",
    "    return model\n",
    "\n",
    "def DoublePathClassificationModel(molmap1_size, molmap2_size, n_outputs = 1):\n",
    "    \n",
    "    ## first inputs\n",
    "    d_inputs1 = Input(molmap1_size)\n",
    "    d_conv1 = Conv2D(48, 13, padding = 'same', activation='relu', strides = 1)(d_inputs1)\n",
    "    d_pool1 = MaxPool2D(pool_size = 3, strides = 2, padding = 'same')(d_conv1) #p1\n",
    "    d_incept1 = Inception(d_pool1, strides = 1, units = 32)\n",
    "    d_pool2 = MaxPool2D(pool_size = 3, strides = 2, padding = 'same')(d_incept1) #p2\n",
    "    d_incept2 = Inception(d_pool2, strides = 1, units = 64)\n",
    "    d_flat1 = GlobalMaxPool2D()(d_incept2)\n",
    "\n",
    "    \n",
    "    ## second inputs\n",
    "    f_inputs1 = Input(molmap2_size)\n",
    "    f_conv1 = Conv2D(48, 13, padding = 'same', activation='relu', strides = 1)(f_inputs1)\n",
    "    f_pool1 = MaxPool2D(pool_size = 3, strides = 2, padding = 'same')(f_conv1) #p1\n",
    "    f_incept1 = Inception(f_pool1, strides = 1, units = 32)\n",
    "    f_pool2 = MaxPool2D(pool_size = 3, strides = 2, padding = 'same')(f_incept1) #p2\n",
    "    f_incept2 = Inception(f_pool2, strides = 1, units = 64)\n",
    "    f_flat1 = GlobalMaxPool2D()(f_incept2)    \n",
    "    \n",
    "    ## concat\n",
    "    merge = Concatenate()([d_flat1, f_flat1]) \n",
    "    d1 = Dense(128,activation='relu')(merge)\n",
    "    d1 = Dense(64,activation='relu')(d1)\n",
    "    outputs = Dense(n_outputs, activation='linear')(d1)\n",
    "    \n",
    "    model = tf.keras.Model(inputs=[d_inputs1, f_inputs1], outputs=outputs)\n",
    "    \n",
    "    return model"
   ]
  },
  {
   "cell_type": "code",
   "execution_count": 3,
   "metadata": {},
   "outputs": [
    {
     "name": "stdout",
     "output_type": "stream",
     "text": [
      "total samples: 9999\n"
     ]
    }
   ],
   "source": [
    "seed = 777\n",
    "np.random.seed(seed)\n",
    "tf.set_random_seed(seed)\n",
    "\n",
    "#load dataset\n",
    "data = dataset.load_malaria()\n",
    "df = data.data\n",
    "\n",
    "# calculate feature\n",
    "X1_name =  './descriptor_grid_split.data'\n",
    "X2_name =  './fingerprint_grid_split.data'\n",
    "\n",
    "if os.path.exists(X1_name):\n",
    "    X1 = load(X1_name)\n",
    "else:\n",
    "    mp1 = loadmap('../../../descriptor_grid_split.mp')\n",
    "    X1 = mp1.batch_transform(data.x, n_jobs = 8)\n",
    "    dump(X1, X1_name)\n",
    "    \n",
    "if os.path.exists(X2_name):\n",
    "    X2 = load(X2_name)\n",
    "else:\n",
    "    mp2 = loadmap('../../../fingerprint_grid_split.mp')\n",
    "    X2 = mp2.batch_transform(data.x, n_jobs = 8)\n",
    "    dump(X2, X2_name)"
   ]
  },
  {
   "cell_type": "code",
   "execution_count": 4,
   "metadata": {},
   "outputs": [
    {
     "name": "stdout",
     "output_type": "stream",
     "text": [
      "7999 1000 1000\n"
     ]
    }
   ],
   "source": [
    "Y = data.y\n",
    "\n",
    "df_train = pd.read_csv('../train.csv', index_col = 0)\n",
    "df_valid = pd.read_csv('../valid.csv', index_col = 0)\n",
    "df_test = pd.read_csv('../test.csv', index_col = 0)\n",
    "\n",
    "train_idx = df[df.smiles.isin(df_train.smiles)].index\n",
    "valid_idx = df[df.smiles.isin(df_valid.smiles)].index\n",
    "test_idx = df[df.smiles.isin(df_test.smiles)].index\n",
    "\n",
    "\n",
    "trainY = Y[train_idx]\n",
    "validY = Y[valid_idx]\n",
    "testY = Y[test_idx]\n",
    "\n",
    "\n",
    "# trainX = X1[train_idx]   \n",
    "# validX =  X1[valid_idx]                  \n",
    "# testX  = X1[test_idx]\n",
    "\n",
    "trainX = (X1[train_idx], X2[train_idx])    \n",
    "validX = (X1[valid_idx], X2[valid_idx])                    \n",
    "testX  = (X1[test_idx], X2[test_idx]) \n",
    "\n",
    "\n",
    "print(len(train_idx), len(valid_idx), len(test_idx))"
   ]
  },
  {
   "cell_type": "code",
   "execution_count": 5,
   "metadata": {},
   "outputs": [
    {
     "name": "stdout",
     "output_type": "stream",
     "text": [
      "WARNING:tensorflow:From /home/shenwanxiang/anaconda3/envs/deepchem/lib/python3.6/site-packages/tensorflow/python/ops/init_ops.py:1251: calling VarianceScaling.__init__ (from tensorflow.python.ops.init_ops) with dtype is deprecated and will be removed in a future version.\n",
      "Instructions for updating:\n",
      "Call initializer instance with the dtype argument instead of passing it to the constructor\n"
     ]
    }
   ],
   "source": [
    "from cbks import RegressionPerformance, EarlyStoppingAtMinLoss\n",
    "molmap1_size = X1.shape[1:]\n",
    "molmap2_size = X2.shape[1:]\n",
    "model = DoublePathClassificationModel(molmap1_size, molmap2_size, n_outputs = Y.shape[1]) \n",
    "#model = SinglePathClassificationModel(molmap1_size, n_outputs = Y.shape[1]) "
   ]
  },
  {
   "cell_type": "code",
   "execution_count": 6,
   "metadata": {},
   "outputs": [],
   "source": [
    "earlystop = EarlyStoppingAtMinLoss(patience=30, criteria = 'val_loss')\n",
    "performace = RegressionPerformance((trainX, trainY), (validX, validY))\n",
    "lr = tf.keras.optimizers.Adam(lr=0.0001, beta_1=0.9, beta_2=0.999, epsilon=1e-08, decay=0.0) #\n",
    "model.compile(optimizer = lr, loss = 'mse')"
   ]
  },
  {
   "cell_type": "code",
   "execution_count": 7,
   "metadata": {},
   "outputs": [
    {
     "name": "stdout",
     "output_type": "stream",
     "text": [
      "epoch: 0001, loss: 1.4745 - val_loss: 1.2864; rmse: 1.2017 - rmse_val: 1.1342;  r2: 0.0220 - r2_val: 0.0295                                                                                                    \n",
      "epoch: 0002, loss: 1.3969 - val_loss: 1.2129; rmse: 1.1562 - rmse_val: 1.1013;  r2: 0.0946 - r2_val: 0.0850                                                                                                    \n",
      "epoch: 0003, loss: 1.2977 - val_loss: 1.1418; rmse: 1.1114 - rmse_val: 1.0686;  r2: 0.1634 - r2_val: 0.1386                                                                                                    \n",
      "epoch: 0004, loss: 1.2000 - val_loss: 1.1620; rmse: 1.0862 - rmse_val: 1.0780;  r2: 0.2010 - r2_val: 0.1234                                                                                                    \n",
      "epoch: 0005, loss: 1.1535 - val_loss: 1.0536; rmse: 1.0458 - rmse_val: 1.0264;  r2: 0.2593 - r2_val: 0.2052                                                                                                    \n",
      "epoch: 0006, loss: 1.1031 - val_loss: 1.0992; rmse: 1.0392 - rmse_val: 1.0485;  r2: 0.2686 - r2_val: 0.1707                                                                                                    \n",
      "epoch: 0007, loss: 1.0632 - val_loss: 1.0567; rmse: 1.0145 - rmse_val: 1.0280;  r2: 0.3030 - r2_val: 0.2028                                                                                                    \n",
      "epoch: 0008, loss: 1.0326 - val_loss: 1.0400; rmse: 0.9982 - rmse_val: 1.0198;  r2: 0.3251 - r2_val: 0.2154                                                                                                    \n",
      "epoch: 0009, loss: 0.9908 - val_loss: 0.9801; rmse: 0.9791 - rmse_val: 0.9900;  r2: 0.3508 - r2_val: 0.2606                                                                                                    \n",
      "epoch: 0010, loss: 0.9652 - val_loss: 0.9797; rmse: 0.9844 - rmse_val: 0.9898;  r2: 0.3437 - r2_val: 0.2609                                                                                                    \n",
      "epoch: 0011, loss: 0.9356 - val_loss: 0.9638; rmse: 0.9453 - rmse_val: 0.9817;  r2: 0.3949 - r2_val: 0.2729                                                                                                    \n",
      "epoch: 0012, loss: 0.9026 - val_loss: 0.9624; rmse: 0.9250 - rmse_val: 0.9810;  r2: 0.4206 - r2_val: 0.2740                                                                                                    \n",
      "epoch: 0013, loss: 0.8652 - val_loss: 0.9511; rmse: 0.9298 - rmse_val: 0.9752;  r2: 0.4145 - r2_val: 0.2825                                                                                                    \n",
      "epoch: 0014, loss: 0.8400 - val_loss: 0.9215; rmse: 0.8844 - rmse_val: 0.9599;  r2: 0.4703 - r2_val: 0.3048                                                                                                    \n",
      "epoch: 0015, loss: 0.8172 - val_loss: 0.9790; rmse: 0.8874 - rmse_val: 0.9895;  r2: 0.4667 - r2_val: 0.2614                                                                                                    \n",
      "epoch: 0016, loss: 0.7820 - val_loss: 0.9152; rmse: 0.8502 - rmse_val: 0.9567;  r2: 0.5105 - r2_val: 0.3096                                                                                                    \n",
      "epoch: 0017, loss: 0.7364 - val_loss: 0.8937; rmse: 0.8244 - rmse_val: 0.9453;  r2: 0.5397 - r2_val: 0.3258                                                                                                    \n",
      "epoch: 0018, loss: 0.7229 - val_loss: 1.0406; rmse: 0.8689 - rmse_val: 1.0201;  r2: 0.4887 - r2_val: 0.2150                                                                                                    \n",
      "epoch: 0019, loss: 0.6772 - val_loss: 0.9047; rmse: 0.8090 - rmse_val: 0.9512;  r2: 0.5568 - r2_val: 0.3175                                                                                                    \n",
      "epoch: 0020, loss: 0.6725 - val_loss: 0.8897; rmse: 0.7715 - rmse_val: 0.9432;  r2: 0.5969 - r2_val: 0.3288                                                                                                    \n",
      "epoch: 0021, loss: 0.6664 - val_loss: 0.9850; rmse: 0.7920 - rmse_val: 0.9925;  r2: 0.5752 - r2_val: 0.2569                                                                                                    \n",
      "epoch: 0022, loss: 0.5919 - val_loss: 0.8928; rmse: 0.7336 - rmse_val: 0.9449;  r2: 0.6355 - r2_val: 0.3264                                                                                                    \n",
      "epoch: 0023, loss: 0.5775 - val_loss: 0.9180; rmse: 0.7212 - rmse_val: 0.9581;  r2: 0.6477 - r2_val: 0.3074                                                                                                    \n",
      "epoch: 0024, loss: 0.5318 - val_loss: 0.9000; rmse: 0.6956 - rmse_val: 0.9487;  r2: 0.6723 - r2_val: 0.3210                                                                                                    \n",
      "epoch: 0025, loss: 0.5093 - val_loss: 0.8912; rmse: 0.6878 - rmse_val: 0.9440;  r2: 0.6796 - r2_val: 0.3277                                                                                                    \n",
      "epoch: 0026, loss: 0.4800 - val_loss: 0.9514; rmse: 0.6720 - rmse_val: 0.9754;  r2: 0.6941 - r2_val: 0.2823                                                                                                    \n",
      "epoch: 0027, loss: 0.4748 - val_loss: 0.9481; rmse: 0.6580 - rmse_val: 0.9737;  r2: 0.7068 - r2_val: 0.2847                                                                                                    \n",
      "epoch: 0028, loss: 0.4324 - val_loss: 0.9099; rmse: 0.6138 - rmse_val: 0.9539;  r2: 0.7448 - r2_val: 0.3135                                                                                                    \n",
      "epoch: 0029, loss: 0.4010 - val_loss: 0.9020; rmse: 0.5979 - rmse_val: 0.9497;  r2: 0.7579 - r2_val: 0.3195                                                                                                    \n",
      "epoch: 0030, loss: 0.3859 - val_loss: 0.9050; rmse: 0.5736 - rmse_val: 0.9513;  r2: 0.7772 - r2_val: 0.3173                                                                                                    \n",
      "epoch: 0031, loss: 0.3664 - val_loss: 0.9304; rmse: 0.5624 - rmse_val: 0.9646;  r2: 0.7858 - r2_val: 0.2981                                                                                                    \n",
      "epoch: 0032, loss: 0.3270 - val_loss: 0.9036; rmse: 0.5330 - rmse_val: 0.9506;  r2: 0.8076 - r2_val: 0.3183                                                                                                    \n",
      "epoch: 0033, loss: 0.3158 - val_loss: 0.9437; rmse: 0.5622 - rmse_val: 0.9714;  r2: 0.7860 - r2_val: 0.2881                                                                                                    \n",
      "epoch: 0034, loss: 0.2943 - val_loss: 1.0803; rmse: 0.5887 - rmse_val: 1.0394;  r2: 0.7653 - r2_val: 0.1850                                                                                                    \n",
      "epoch: 0035, loss: 0.2954 - val_loss: 0.9278; rmse: 0.4887 - rmse_val: 0.9632;  r2: 0.8382 - r2_val: 0.3000                                                                                                    \n",
      "epoch: 0036, loss: 0.2493 - val_loss: 0.9773; rmse: 0.4829 - rmse_val: 0.9886;  r2: 0.8421 - r2_val: 0.2627                                                                                                    \n",
      "epoch: 0037, loss: 0.2404 - val_loss: 1.0588; rmse: 0.5244 - rmse_val: 1.0290;  r2: 0.8137 - r2_val: 0.2012                                                                                                    \n",
      "epoch: 0038, loss: 0.2537 - val_loss: 0.9882; rmse: 0.5009 - rmse_val: 0.9941;  r2: 0.8301 - r2_val: 0.2545                                                                                                    \n",
      "epoch: 0039, loss: 0.2241 - val_loss: 0.9693; rmse: 0.4230 - rmse_val: 0.9845;  r2: 0.8788 - r2_val: 0.2688                                                                                                    \n",
      "epoch: 0040, loss: 0.1929 - val_loss: 0.9845; rmse: 0.4298 - rmse_val: 0.9922;  r2: 0.8749 - r2_val: 0.2573                                                                                                    \n",
      "epoch: 0041, loss: 0.1990 - val_loss: 0.9513; rmse: 0.3877 - rmse_val: 0.9753;  r2: 0.8982 - r2_val: 0.2823                                                                                                    \n",
      "epoch: 0042, loss: 0.1841 - val_loss: 1.0110; rmse: 0.4614 - rmse_val: 1.0055;  r2: 0.8558 - r2_val: 0.2373                                                                                                    \n",
      "epoch: 0043, loss: 0.1768 - val_loss: 0.9911; rmse: 0.3762 - rmse_val: 0.9956;  r2: 0.9041 - r2_val: 0.2523                                                                                                    \n",
      "epoch: 0044, loss: 0.1586 - val_loss: 0.9942; rmse: 0.3972 - rmse_val: 0.9971;  r2: 0.8932 - r2_val: 0.2500                                                                                                    \n",
      "epoch: 0045, loss: 0.1560 - val_loss: 1.0387; rmse: 0.3821 - rmse_val: 1.0192;  r2: 0.9011 - r2_val: 0.2164                                                                                                    \n",
      "epoch: 0046, loss: 0.1586 - val_loss: 0.9869; rmse: 0.3373 - rmse_val: 0.9934;  r2: 0.9229 - r2_val: 0.2555                                                                                                    \n",
      "epoch: 0047, loss: 0.1304 - val_loss: 1.0129; rmse: 0.3394 - rmse_val: 1.0065;  r2: 0.9220 - r2_val: 0.2358                                                                                                    \n",
      "epoch: 0048, loss: 0.1508 - val_loss: 0.9869; rmse: 0.3232 - rmse_val: 0.9934;  r2: 0.9292 - r2_val: 0.2555                                                                                                    \n",
      "epoch: 0049, loss: 0.1249 - val_loss: 1.0310; rmse: 0.3448 - rmse_val: 1.0154;  r2: 0.9195 - r2_val: 0.2222                                                                                                    \n",
      "epoch: 0050, loss: 0.1114 - val_loss: 1.0127; rmse: 0.3191 - rmse_val: 1.0063;  r2: 0.9310 - r2_val: 0.2360                                                                                                    \n",
      "\n",
      "Restoring model weights from the end of the best epoch.\n",
      "\n",
      "Epoch 00050: early stopping\n"
     ]
    },
    {
     "data": {
      "text/plain": [
       "<tensorflow.python.keras.callbacks.History at 0x7fd8e3e8dc50>"
      ]
     },
     "execution_count": 7,
     "metadata": {},
     "output_type": "execute_result"
    }
   ],
   "source": [
    "model.fit(trainX, trainY, batch_size=128, \n",
    "      epochs=500, verbose= 0, shuffle = True, \n",
    "      validation_data = (validX, validY), \n",
    "      callbacks=[performace, earlystop]) "
   ]
  },
  {
   "cell_type": "code",
   "execution_count": 8,
   "metadata": {},
   "outputs": [
    {
     "data": {
      "text/plain": [
       "<matplotlib.axes._subplots.AxesSubplot at 0x7fd8137689e8>"
      ]
     },
     "execution_count": 8,
     "metadata": {},
     "output_type": "execute_result"
    },
    {
     "data": {
      "image/png": "[encoded data removed]",
      "text/plain": [
       "<Figure size 432x288 with 1 Axes>"
      ]
     },
     "metadata": {
      "needs_background": "light"
     },
     "output_type": "display_data"
    }
   ],
   "source": [
    "dfp = pd.DataFrame(performace.history)[['training_loss', 'validation_loss']]\n",
    "dfp.plot()"
   ]
  },
  {
   "cell_type": "code",
   "execution_count": 9,
   "metadata": {},
   "outputs": [
    {
     "data": {
      "text/plain": [
       "([0.7715097232808611], [0.5968848281779668])"
      ]
     },
     "execution_count": 9,
     "metadata": {},
     "output_type": "execute_result"
    }
   ],
   "source": [
    "performace.evaluate(trainX, trainY)"
   ]
  },
  {
   "cell_type": "code",
   "execution_count": 10,
   "metadata": {},
   "outputs": [
    {
     "data": {
      "text/plain": [
       "([0.9432285952065095], [0.3288151144226562])"
      ]
     },
     "execution_count": 10,
     "metadata": {},
     "output_type": "execute_result"
    }
   ],
   "source": [
    "performace.evaluate(validX, validY)"
   ]
  },
  {
   "cell_type": "code",
   "execution_count": 11,
   "metadata": {},
   "outputs": [
    {
     "data": {
      "text/plain": [
       "([1.014179462768426], [0.36711992227785084])"
      ]
     },
     "execution_count": 11,
     "metadata": {},
     "output_type": "execute_result"
    }
   ],
   "source": [
    "performace.evaluate(testX, testY)"
   ]
  },
  {
   "cell_type": "code",
   "execution_count": null,
   "metadata": {},
   "outputs": [],
   "source": []
  },
  {
   "cell_type": "code",
   "execution_count": null,
   "metadata": {},
   "outputs": [],
   "source": []
  },
  {
   "cell_type": "code",
   "execution_count": null,
   "metadata": {},
   "outputs": [],
   "source": []
  }
 ],
 "metadata": {
  "kernelspec": {
   "display_name": "Python 3",
   "language": "python",
   "name": "python3"
  },
  "language_info": {
   "codemirror_mode": {
    "name": "ipython",
    "version": 3
   },
   "file_extension": ".py",
   "mimetype": "text/x-python",
   "name": "python",
   "nbconvert_exporter": "python",
   "pygments_lexer": "ipython3",
   "version": "3.6.9"
  }
 },
 "nbformat": 4,
 "nbformat_minor": 4
}
