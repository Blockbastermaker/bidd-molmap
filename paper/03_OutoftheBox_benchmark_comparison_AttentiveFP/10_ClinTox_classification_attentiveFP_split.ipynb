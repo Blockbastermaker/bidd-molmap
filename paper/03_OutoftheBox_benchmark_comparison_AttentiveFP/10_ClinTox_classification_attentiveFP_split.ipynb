{
 "cells": [
  {
   "cell_type": "code",
   "execution_count": 12,
   "metadata": {},
   "outputs": [],
   "source": [
    "from molmap import dataset\n",
    "from molmap import loadmap\n",
    "import molmap\n",
    "\n",
    "import matplotlib.pyplot as plt\n",
    "from joblib import dump, load\n",
    "from tqdm import tqdm\n",
    "import pandas as pd\n",
    "tqdm.pandas(ascii=True)\n",
    "\n",
    "import numpy as np\n",
    "import tensorflow as tf\n",
    "\n",
    "\n",
    "#use the second GPU, if negative value, CPUs will be used\n",
    "import os\n",
    "os.environ[\"CUDA_VISIBLE_DEVICES\"]=\"0\"\n",
    "\n",
    "\n",
    "%matplotlib inline\n",
    "np.random.seed(777)\n",
    "tf.set_random_seed(777)"
   ]
  },
  {
   "cell_type": "code",
   "execution_count": 13,
   "metadata": {},
   "outputs": [
    {
     "name": "stdout",
     "output_type": "stream",
     "text": [
      "total samples: 1484\n"
     ]
    }
   ],
   "source": [
    "def get_deepchem_idx(df):\n",
    "    \"\"\" deepchem dataset\"\"\"\n",
    "    deepchem_data_name = './ClinTox_deepchem.data'\n",
    "    if os.path.exists(deepchem_data_name):\n",
    "        train_df,valid_df,test_df = load(deepchem_data_name)\n",
    "    else:\n",
    "        import deepchem as dc\n",
    "        task, train_valid_test, _ = dc.molnet.load_ClinTox(featurizer='Raw',split = 'random')\n",
    "        train, valid, test = train_valid_test\n",
    "        train_df = df[df.smiles.isin(train.ids)]\n",
    "        valid_df = df[df.smiles.isin(valid.ids)]\n",
    "        test_df = df[df.smiles.isin(test.ids)]\n",
    "        dump((train_df,valid_df,test_df), deepchem_data_name)\n",
    "    train_idx = train_df.index\n",
    "    valid_idx = valid_df.index\n",
    "    test_idx = test_df.index\n",
    "    print('training set: %s, valid set: %s, test set %s' % (len(train_idx), len(valid_idx), len(test_idx)))\n",
    "    return train_idx, valid_idx, test_idx\n",
    "\n",
    "\n",
    "def get_attentiveFP_idx(df):\n",
    "    \"\"\" attentiveFP dataset\"\"\"\n",
    "    train, valid,test = load('./ClinTox_attentiveFP.data')\n",
    "    train_idx = df[df.smiles.isin(train.smiles)].index\n",
    "    valid_idx = df[df.smiles.isin(valid.smiles)].index\n",
    "    test_idx = df[df.smiles.isin(test.smiles)].index\n",
    "    print('training set: %s, valid set: %s, test set %s' % (len(train_idx), len(valid_idx), len(test_idx)))\n",
    "    return train_idx, valid_idx, test_idx \n",
    "\n",
    "\n",
    "def get_pos_weights(trainY):\n",
    "    \"\"\"pos_weights: neg_n / pos_n \"\"\"\n",
    "    dfY = pd.DataFrame(trainY)\n",
    "    pos = dfY == 1\n",
    "    pos_n = pos.sum(axis=0)\n",
    "    neg = dfY == 0\n",
    "    neg_n = neg.sum(axis=0)\n",
    "    pos_weights = (neg_n / pos_n).values\n",
    "    neg_weights = (pos_n / neg_n).values\n",
    "    return pos_weights, neg_weights\n",
    "\n",
    "#load dataset\n",
    "data = dataset.load_ClinTox()\n",
    "df = data.data"
   ]
  },
  {
   "cell_type": "code",
   "execution_count": 14,
   "metadata": {},
   "outputs": [],
   "source": [
    "MASK = -1\n",
    "Y = pd.DataFrame(data.y).fillna(MASK).values"
   ]
  },
  {
   "cell_type": "code",
   "execution_count": 15,
   "metadata": {},
   "outputs": [],
   "source": [
    "# calculate feature\n",
    "X1_name =  './descriptor_grid_split.data'\n",
    "X2_name =  './fingerprint_grid_split.data'\n",
    "\n",
    "if os.path.exists(X1_name):\n",
    "    X1 = load(X1_name)\n",
    "else:\n",
    "    mp1 = loadmap('../../descriptor_grid_split.mp')\n",
    "    X1 = mp1.batch_transform(data.x, n_jobs = 8)\n",
    "    dump(X1, X1_name)\n",
    "    \n",
    "\n",
    "if os.path.exists(X2_name):\n",
    "    X2 = load(X2_name)\n",
    "else:\n",
    "    mp2 = loadmap('../../fingerprint_grid_split.mp')\n",
    "    X2 = mp2.batch_transform(data.x, n_jobs = 8)\n",
    "    dump(X2, X2_name)"
   ]
  },
  {
   "cell_type": "code",
   "execution_count": 16,
   "metadata": {},
   "outputs": [
    {
     "name": "stdout",
     "output_type": "stream",
     "text": [
      "training set: 1180, valid set: 148, test set 148\n",
      "1180 148 148\n"
     ]
    }
   ],
   "source": [
    "train_idx, valid_idx, test_idx = get_attentiveFP_idx(df)\n",
    "#train_idx, valid_idx, test_idx = get_deepchem_idx(df)\n",
    "\n",
    "\n",
    "trainX = X1[train_idx]\n",
    "trainY = Y[train_idx]\n",
    "\n",
    "validX = X1[valid_idx]\n",
    "validY = Y[valid_idx]\n",
    "\n",
    "testX = X1[test_idx]\n",
    "testY = Y[test_idx]\n",
    "\n",
    "print(len(train_idx), len(valid_idx), len(test_idx))\n"
   ]
  },
  {
   "cell_type": "code",
   "execution_count": 17,
   "metadata": {},
   "outputs": [],
   "source": [
    "from loss import cross_entropy, weighted_cross_entropy\n",
    "from cbks import EarlyStoppingAndPerformance\n",
    "from model import SinglePathClassificationModel, DoublePathClassificationModel\n",
    "\n",
    "earlystop = EarlyStoppingAndPerformance((trainX, trainY), (validX, validY), MASK, patience=10, criteria = 'val_loss')\n",
    "lr = tf.keras.optimizers.Adam(lr=0.0001, beta_1=0.9, beta_2=0.999, epsilon=1e-08, decay=0.0) #\n",
    "molmap1_size = X1.shape[1:]\n",
    "pos_weights, neg_weights = get_pos_weights(trainY)\n",
    "loss = lambda y_true, y_pred: weighted_cross_entropy(y_true,y_pred, pos_weights, MASK)\n",
    "model = SinglePathClassificationModel(molmap1_size, n_outputs = Y.shape[1])\n",
    "model.compile(optimizer = lr, loss = cross_entropy)"
   ]
  },
  {
   "cell_type": "code",
   "execution_count": 18,
   "metadata": {},
   "outputs": [
    {
     "data": {
      "text/plain": [
       "403490"
      ]
     },
     "execution_count": 18,
     "metadata": {},
     "output_type": "execute_result"
    }
   ],
   "source": [
    "model.count_params()"
   ]
  },
  {
   "cell_type": "code",
   "execution_count": 19,
   "metadata": {},
   "outputs": [
    {
     "name": "stdout",
     "output_type": "stream",
     "text": [
      "epoch: 0001, loss: 0.5646 - val_loss: 0.4703; auc: 0.5060 - val_auc: 0.4592                                                                                                    \n",
      "epoch: 0002, loss: 0.3598 - val_loss: 0.3561; auc: 0.5151 - val_auc: 0.4547                                                                                                    \n",
      "epoch: 0003, loss: 0.2596 - val_loss: 0.3848; auc: 0.5551 - val_auc: 0.4973                                                                                                    \n",
      "epoch: 0004, loss: 0.2593 - val_loss: 0.3837; auc: 0.5942 - val_auc: 0.5306                                                                                                    \n",
      "epoch: 0005, loss: 0.2542 - val_loss: 0.3622; auc: 0.6426 - val_auc: 0.5715                                                                                                    \n",
      "epoch: 0006, loss: 0.2521 - val_loss: 0.3566; auc: 0.6777 - val_auc: 0.6094                                                                                                    \n",
      "epoch: 0007, loss: 0.2517 - val_loss: 0.3584; auc: 0.6985 - val_auc: 0.6224                                                                                                    \n",
      "epoch: 0008, loss: 0.2503 - val_loss: 0.3655; auc: 0.7069 - val_auc: 0.6237                                                                                                    \n",
      "epoch: 0009, loss: 0.2520 - val_loss: 0.3610; auc: 0.7272 - val_auc: 0.6409                                                                                                    \n",
      "epoch: 0010, loss: 0.2514 - val_loss: 0.3668; auc: 0.7331 - val_auc: 0.6442                                                                                                    \n",
      "epoch: 0011, loss: 0.2516 - val_loss: 0.3541; auc: 0.7532 - val_auc: 0.6662                                                                                                    \n",
      "epoch: 0012, loss: 0.2515 - val_loss: 0.3650; auc: 0.7518 - val_auc: 0.6618                                                                                                    \n",
      "epoch: 0013, loss: 0.2495 - val_loss: 0.3579; auc: 0.7629 - val_auc: 0.6755                                                                                                    \n",
      "epoch: 0014, loss: 0.2498 - val_loss: 0.3579; auc: 0.7666 - val_auc: 0.6795                                                                                                    \n",
      "epoch: 0015, loss: 0.2492 - val_loss: 0.3641; auc: 0.7676 - val_auc: 0.6786                                                                                                    \n",
      "epoch: 0016, loss: 0.2495 - val_loss: 0.3547; auc: 0.7728 - val_auc: 0.6847                                                                                                    \n",
      "epoch: 0017, loss: 0.2488 - val_loss: 0.3590; auc: 0.7737 - val_auc: 0.6821                                                                                                    \n",
      "epoch: 0018, loss: 0.2512 - val_loss: 0.3646; auc: 0.7753 - val_auc: 0.6845                                                                                                    \n",
      "epoch: 0019, loss: 0.2489 - val_loss: 0.3535; auc: 0.7811 - val_auc: 0.6918                                                                                                    \n",
      "epoch: 0020, loss: 0.2485 - val_loss: 0.3604; auc: 0.7799 - val_auc: 0.6905                                                                                                    \n",
      "epoch: 0021, loss: 0.2485 - val_loss: 0.3513; auc: 0.7881 - val_auc: 0.7022                                                                                                    \n",
      "epoch: 0022, loss: 0.2480 - val_loss: 0.3566; auc: 0.7874 - val_auc: 0.7017                                                                                                    \n",
      "epoch: 0023, loss: 0.2470 - val_loss: 0.3565; auc: 0.7900 - val_auc: 0.7077                                                                                                    \n",
      "epoch: 0024, loss: 0.2475 - val_loss: 0.3586; auc: 0.7908 - val_auc: 0.7093                                                                                                    \n",
      "epoch: 0025, loss: 0.2466 - val_loss: 0.3522; auc: 0.7950 - val_auc: 0.7167                                                                                                    \n",
      "epoch: 0026, loss: 0.2459 - val_loss: 0.3595; auc: 0.7947 - val_auc: 0.7175                                                                                                    \n",
      "epoch: 0027, loss: 0.2457 - val_loss: 0.3588; auc: 0.7966 - val_auc: 0.7199                                                                                                    \n",
      "epoch: 0028, loss: 0.2452 - val_loss: 0.3525; auc: 0.7986 - val_auc: 0.7267                                                                                                    \n",
      "epoch: 0029, loss: 0.2472 - val_loss: 0.3492; auc: 0.7991 - val_auc: 0.7258                                                                                                    \n",
      "epoch: 0030, loss: 0.2458 - val_loss: 0.3528; auc: 0.7991 - val_auc: 0.7287                                                                                                    \n",
      "epoch: 0031, loss: 0.2447 - val_loss: 0.3563; auc: 0.8010 - val_auc: 0.7307                                                                                                    \n",
      "epoch: 0032, loss: 0.2451 - val_loss: 0.3461; auc: 0.8031 - val_auc: 0.7336                                                                                                    \n",
      "epoch: 0033, loss: 0.2428 - val_loss: 0.3600; auc: 0.8021 - val_auc: 0.7294                                                                                                    \n",
      "epoch: 0034, loss: 0.2458 - val_loss: 0.3556; auc: 0.8035 - val_auc: 0.7341                                                                                                    \n",
      "epoch: 0035, loss: 0.2425 - val_loss: 0.3475; auc: 0.8042 - val_auc: 0.7374                                                                                                    \n",
      "epoch: 0036, loss: 0.2413 - val_loss: 0.3577; auc: 0.8039 - val_auc: 0.7388                                                                                                    \n",
      "epoch: 0037, loss: 0.2406 - val_loss: 0.3479; auc: 0.8054 - val_auc: 0.7402                                                                                                    \n",
      "epoch: 0038, loss: 0.2395 - val_loss: 0.3556; auc: 0.8054 - val_auc: 0.7415                                                                                                    \n",
      "epoch: 0039, loss: 0.2381 - val_loss: 0.3455; auc: 0.8042 - val_auc: 0.7415                                                                                                    \n",
      "epoch: 0040, loss: 0.2386 - val_loss: 0.3489; auc: 0.8040 - val_auc: 0.7392                                                                                                    \n",
      "epoch: 0041, loss: 0.2397 - val_loss: 0.3466; auc: 0.8062 - val_auc: 0.7424                                                                                                    \n",
      "epoch: 0042, loss: 0.2352 - val_loss: 0.3467; auc: 0.8038 - val_auc: 0.7402                                                                                                    \n",
      "epoch: 0043, loss: 0.2340 - val_loss: 0.3447; auc: 0.8024 - val_auc: 0.7382                                                                                                    \n",
      "epoch: 0044, loss: 0.2341 - val_loss: 0.3419; auc: 0.8024 - val_auc: 0.7365                                                                                                    \n",
      "epoch: 0045, loss: 0.2316 - val_loss: 0.3452; auc: 0.8020 - val_auc: 0.7362                                                                                                    \n",
      "epoch: 0046, loss: 0.2285 - val_loss: 0.3402; auc: 0.8036 - val_auc: 0.7379                                                                                                    \n",
      "epoch: 0047, loss: 0.2276 - val_loss: 0.3378; auc: 0.8048 - val_auc: 0.7378                                                                                                    \n",
      "epoch: 0048, loss: 0.2250 - val_loss: 0.3384; auc: 0.8052 - val_auc: 0.7355                                                                                                    \n",
      "epoch: 0049, loss: 0.2246 - val_loss: 0.3536; auc: 0.8057 - val_auc: 0.7368                                                                                                    \n",
      "epoch: 0050, loss: 0.2263 - val_loss: 0.3469; auc: 0.8065 - val_auc: 0.7384                                                                                                    \n",
      "epoch: 0051, loss: 0.2208 - val_loss: 0.3290; auc: 0.8062 - val_auc: 0.7383                                                                                                    \n",
      "epoch: 0052, loss: 0.2213 - val_loss: 0.3489; auc: 0.8087 - val_auc: 0.7394                                                                                                    \n",
      "epoch: 0053, loss: 0.2183 - val_loss: 0.3274; auc: 0.8094 - val_auc: 0.7368                                                                                                    \n",
      "epoch: 0054, loss: 0.2143 - val_loss: 0.3283; auc: 0.8119 - val_auc: 0.7383                                                                                                    \n",
      "epoch: 0055, loss: 0.2128 - val_loss: 0.3374; auc: 0.8113 - val_auc: 0.7356                                                                                                    \n",
      "epoch: 0056, loss: 0.2104 - val_loss: 0.3160; auc: 0.8132 - val_auc: 0.7381                                                                                                    \n",
      "epoch: 0057, loss: 0.2156 - val_loss: 0.3400; auc: 0.8137 - val_auc: 0.7368                                                                                                    \n",
      "epoch: 0058, loss: 0.2112 - val_loss: 0.3295; auc: 0.8169 - val_auc: 0.7384                                                                                                    \n",
      "epoch: 0059, loss: 0.2109 - val_loss: 0.3618; auc: 0.8184 - val_auc: 0.7430                                                                                                    \n",
      "epoch: 0060, loss: 0.2064 - val_loss: 0.3089; auc: 0.8187 - val_auc: 0.7369                                                                                                    \n",
      "epoch: 0061, loss: 0.2065 - val_loss: 0.3411; auc: 0.8239 - val_auc: 0.7415                                                                                                    \n",
      "epoch: 0062, loss: 0.2047 - val_loss: 0.3412; auc: 0.8250 - val_auc: 0.7458                                                                                                    \n",
      "epoch: 0063, loss: 0.2013 - val_loss: 0.3187; auc: 0.8279 - val_auc: 0.7459                                                                                                    \n",
      "epoch: 0064, loss: 0.1993 - val_loss: 0.3270; auc: 0.8305 - val_auc: 0.7471                                                                                                    \n",
      "epoch: 0065, loss: 0.1985 - val_loss: 0.3284; auc: 0.8319 - val_auc: 0.7498                                                                                                    \n",
      "epoch: 0066, loss: 0.1961 - val_loss: 0.3190; auc: 0.8339 - val_auc: 0.7502                                                                                                    \n",
      "epoch: 0067, loss: 0.1975 - val_loss: 0.3025; auc: 0.8356 - val_auc: 0.7528                                                                                                    \n",
      "epoch: 0068, loss: 0.1952 - val_loss: 0.3345; auc: 0.8389 - val_auc: 0.7536                                                                                                    \n",
      "epoch: 0069, loss: 0.1975 - val_loss: 0.3379; auc: 0.8395 - val_auc: 0.7545                                                                                                    \n",
      "epoch: 0070, loss: 0.1937 - val_loss: 0.3124; auc: 0.8413 - val_auc: 0.7542                                                                                                    \n",
      "epoch: 0071, loss: 0.1905 - val_loss: 0.3358; auc: 0.8422 - val_auc: 0.7571                                                                                                    \n",
      "epoch: 0072, loss: 0.1942 - val_loss: 0.3212; auc: 0.8438 - val_auc: 0.7605                                                                                                    \n",
      "epoch: 0073, loss: 0.2050 - val_loss: 0.2987; auc: 0.8450 - val_auc: 0.7607                                                                                                    \n",
      "epoch: 0074, loss: 0.1962 - val_loss: 0.3474; auc: 0.8474 - val_auc: 0.7645                                                                                                    \n",
      "epoch: 0075, loss: 0.1917 - val_loss: 0.3021; auc: 0.8490 - val_auc: 0.7634                                                                                                    \n",
      "epoch: 0076, loss: 0.1933 - val_loss: 0.2998; auc: 0.8520 - val_auc: 0.7659                                                                                                    \n",
      "epoch: 0077, loss: 0.1910 - val_loss: 0.3073; auc: 0.8548 - val_auc: 0.7690                                                                                                    \n",
      "epoch: 0078, loss: 0.1855 - val_loss: 0.2961; auc: 0.8564 - val_auc: 0.7715                                                                                                    \n",
      "epoch: 0079, loss: 0.1950 - val_loss: 0.3257; auc: 0.8583 - val_auc: 0.7725                                                                                                    \n",
      "epoch: 0080, loss: 0.1875 - val_loss: 0.3536; auc: 0.8622 - val_auc: 0.7764                                                                                                    \n",
      "epoch: 0081, loss: 0.1937 - val_loss: 0.3026; auc: 0.8620 - val_auc: 0.7766                                                                                                    \n",
      "epoch: 0082, loss: 0.1854 - val_loss: 0.2944; auc: 0.8620 - val_auc: 0.7761                                                                                                    \n",
      "epoch: 0083, loss: 0.1862 - val_loss: 0.3126; auc: 0.8651 - val_auc: 0.7799                                                                                                    \n",
      "epoch: 0084, loss: 0.1852 - val_loss: 0.2998; auc: 0.8659 - val_auc: 0.7788                                                                                                    \n",
      "epoch: 0085, loss: 0.1817 - val_loss: 0.3162; auc: 0.8672 - val_auc: 0.7812                                                                                                    \n",
      "epoch: 0086, loss: 0.1786 - val_loss: 0.3165; auc: 0.8694 - val_auc: 0.7843                                                                                                    \n",
      "epoch: 0087, loss: 0.1779 - val_loss: 0.2935; auc: 0.8701 - val_auc: 0.7822                                                                                                    \n",
      "epoch: 0088, loss: 0.1853 - val_loss: 0.3160; auc: 0.8732 - val_auc: 0.7881                                                                                                    \n",
      "epoch: 0089, loss: 0.1786 - val_loss: 0.3447; auc: 0.8765 - val_auc: 0.7904                                                                                                    \n",
      "epoch: 0090, loss: 0.1792 - val_loss: 0.2956; auc: 0.8769 - val_auc: 0.7903                                                                                                    \n",
      "epoch: 0091, loss: 0.1780 - val_loss: 0.2876; auc: 0.8779 - val_auc: 0.7914                                                                                                    \n",
      "epoch: 0092, loss: 0.1819 - val_loss: 0.3121; auc: 0.8818 - val_auc: 0.7939                                                                                                    \n",
      "epoch: 0093, loss: 0.1721 - val_loss: 0.2994; auc: 0.8830 - val_auc: 0.7932                                                                                                    \n",
      "epoch: 0094, loss: 0.1747 - val_loss: 0.2875; auc: 0.8827 - val_auc: 0.7935                                                                                                    \n",
      "epoch: 0095, loss: 0.1775 - val_loss: 0.2958; auc: 0.8846 - val_auc: 0.7951                                                                                                    \n",
      "epoch: 0096, loss: 0.1726 - val_loss: 0.3179; auc: 0.8866 - val_auc: 0.7964                                                                                                    \n",
      "epoch: 0097, loss: 0.1708 - val_loss: 0.3058; auc: 0.8878 - val_auc: 0.7989                                                                                                    \n",
      "epoch: 0098, loss: 0.1691 - val_loss: 0.3055; auc: 0.8898 - val_auc: 0.7991                                                                                                    \n",
      "epoch: 0099, loss: 0.1698 - val_loss: 0.2961; auc: 0.8914 - val_auc: 0.8015                                                                                                    \n",
      "epoch: 0100, loss: 0.1681 - val_loss: 0.2895; auc: 0.8908 - val_auc: 0.8031                                                                                                    \n",
      "epoch: 0101, loss: 0.1676 - val_loss: 0.3003; auc: 0.8950 - val_auc: 0.8061                                                                                                    \n",
      "epoch: 0102, loss: 0.1669 - val_loss: 0.3049; auc: 0.8975 - val_auc: 0.8072                                                                                                    \n",
      "epoch: 0103, loss: 0.1721 - val_loss: 0.3708; auc: 0.8987 - val_auc: 0.8108                                                                                                    \n",
      "epoch: 0104, loss: 0.1764 - val_loss: 0.2994; auc: 0.9008 - val_auc: 0.8109                                                                                                    \n",
      "\n",
      "Restoring model weights from the end of the best epoch.\n",
      "\n",
      "Epoch 00104: early stopping\n"
     ]
    },
    {
     "data": {
      "text/plain": [
       "<tensorflow.python.keras.callbacks.History at 0x7fdcaebcf4a8>"
      ]
     },
     "execution_count": 19,
     "metadata": {},
     "output_type": "execute_result"
    }
   ],
   "source": [
    "model.fit(trainX, trainY, batch_size=128, \n",
    "      epochs=500, verbose= 0, shuffle = True, \n",
    "      validation_data = (validX, validY), \n",
    "      callbacks=[earlystop]) "
   ]
  },
  {
   "cell_type": "code",
   "execution_count": 20,
   "metadata": {},
   "outputs": [
    {
     "data": {
      "text/plain": [
       "<matplotlib.axes._subplots.AxesSubplot at 0x7fdcd1d7e630>"
      ]
     },
     "execution_count": 20,
     "metadata": {},
     "output_type": "execute_result"
    },
    {
     "data": {
      "image/png": "[encoded data removed]",
      "text/plain": [
       "<Figure size 432x288 with 1 Axes>"
      ]
     },
     "metadata": {
      "needs_background": "light"
     },
     "output_type": "display_data"
    }
   ],
   "source": [
    "dfp = pd.DataFrame(earlystop.history)[['loss', 'val_loss', 'auc', 'val_auc']]\n",
    "dfp.plot()"
   ]
  },
  {
   "cell_type": "code",
   "execution_count": 21,
   "metadata": {},
   "outputs": [
    {
     "name": "stdout",
     "output_type": "stream",
     "text": [
      "0.8827377197194872 0.7934862453395655 0.9858776340996169\n"
     ]
    }
   ],
   "source": [
    "train_auc = np.mean(earlystop.evaluate(trainX, trainY))\n",
    "valid_auc = np.mean(earlystop.evaluate(validX, validY))\n",
    "test_auc = np.mean(earlystop.evaluate(testX, testY))\n",
    "\n",
    "\n",
    "print(train_auc, valid_auc, test_auc)"
   ]
  },
  {
   "cell_type": "code",
   "execution_count": 22,
   "metadata": {},
   "outputs": [
    {
     "data": {
      "text/plain": [
       "[0.9839080459770115, 0.9878472222222222]"
      ]
     },
     "execution_count": 22,
     "metadata": {},
     "output_type": "execute_result"
    }
   ],
   "source": [
    "earlystop.evaluate(testX, testY)"
   ]
  },
  {
   "cell_type": "code",
   "execution_count": null,
   "metadata": {},
   "outputs": [],
   "source": []
  },
  {
   "cell_type": "code",
   "execution_count": null,
   "metadata": {},
   "outputs": [],
   "source": []
  },
  {
   "cell_type": "code",
   "execution_count": null,
   "metadata": {},
   "outputs": [],
   "source": []
  }
 ],
 "metadata": {
  "kernelspec": {
   "display_name": "Python 3",
   "language": "python",
   "name": "python3"
  },
  "language_info": {
   "codemirror_mode": {
    "name": "ipython",
    "version": 3
   },
   "file_extension": ".py",
   "mimetype": "text/x-python",
   "name": "python",
   "nbconvert_exporter": "python",
   "pygments_lexer": "ipython3",
   "version": "3.6.9"
  }
 },
 "nbformat": 4,
 "nbformat_minor": 4
}
