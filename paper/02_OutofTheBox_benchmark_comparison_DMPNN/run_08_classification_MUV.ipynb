{
 "cells": [
  {
   "cell_type": "code",
   "execution_count": 1,
   "metadata": {},
   "outputs": [
    {
     "name": "stderr",
     "output_type": "stream",
     "text": [
      "RDKit WARNING: [15:11:53] Enabling RDKit 2019.09.2 jupyter extensions\n",
      "/home/shenwanxiang/anaconda3/envs/deepchem23/lib/python3.6/site-packages/tensorflow/python/framework/dtypes.py:516: FutureWarning: Passing (type, 1) or '1type' as a synonym of type is deprecated; in a future version of numpy, it will be understood as (type, (1,)) / '(1,)type'.\n",
      "  _np_qint8 = np.dtype([(\"qint8\", np.int8, 1)])\n",
      "/home/shenwanxiang/anaconda3/envs/deepchem23/lib/python3.6/site-packages/tensorflow/python/framework/dtypes.py:517: FutureWarning: Passing (type, 1) or '1type' as a synonym of type is deprecated; in a future version of numpy, it will be understood as (type, (1,)) / '(1,)type'.\n",
      "  _np_quint8 = np.dtype([(\"quint8\", np.uint8, 1)])\n",
      "/home/shenwanxiang/anaconda3/envs/deepchem23/lib/python3.6/site-packages/tensorflow/python/framework/dtypes.py:518: FutureWarning: Passing (type, 1) or '1type' as a synonym of type is deprecated; in a future version of numpy, it will be understood as (type, (1,)) / '(1,)type'.\n",
      "  _np_qint16 = np.dtype([(\"qint16\", np.int16, 1)])\n",
      "/home/shenwanxiang/anaconda3/envs/deepchem23/lib/python3.6/site-packages/tensorflow/python/framework/dtypes.py:519: FutureWarning: Passing (type, 1) or '1type' as a synonym of type is deprecated; in a future version of numpy, it will be understood as (type, (1,)) / '(1,)type'.\n",
      "  _np_quint16 = np.dtype([(\"quint16\", np.uint16, 1)])\n",
      "/home/shenwanxiang/anaconda3/envs/deepchem23/lib/python3.6/site-packages/tensorflow/python/framework/dtypes.py:520: FutureWarning: Passing (type, 1) or '1type' as a synonym of type is deprecated; in a future version of numpy, it will be understood as (type, (1,)) / '(1,)type'.\n",
      "  _np_qint32 = np.dtype([(\"qint32\", np.int32, 1)])\n",
      "/home/shenwanxiang/anaconda3/envs/deepchem23/lib/python3.6/site-packages/tensorflow/python/framework/dtypes.py:525: FutureWarning: Passing (type, 1) or '1type' as a synonym of type is deprecated; in a future version of numpy, it will be understood as (type, (1,)) / '(1,)type'.\n",
      "  np_resource = np.dtype([(\"resource\", np.ubyte, 1)])\n",
      "/home/shenwanxiang/anaconda3/envs/deepchem23/lib/python3.6/site-packages/tensorboard/compat/tensorflow_stub/dtypes.py:541: FutureWarning: Passing (type, 1) or '1type' as a synonym of type is deprecated; in a future version of numpy, it will be understood as (type, (1,)) / '(1,)type'.\n",
      "  _np_qint8 = np.dtype([(\"qint8\", np.int8, 1)])\n",
      "/home/shenwanxiang/anaconda3/envs/deepchem23/lib/python3.6/site-packages/tensorboard/compat/tensorflow_stub/dtypes.py:542: FutureWarning: Passing (type, 1) or '1type' as a synonym of type is deprecated; in a future version of numpy, it will be understood as (type, (1,)) / '(1,)type'.\n",
      "  _np_quint8 = np.dtype([(\"quint8\", np.uint8, 1)])\n",
      "/home/shenwanxiang/anaconda3/envs/deepchem23/lib/python3.6/site-packages/tensorboard/compat/tensorflow_stub/dtypes.py:543: FutureWarning: Passing (type, 1) or '1type' as a synonym of type is deprecated; in a future version of numpy, it will be understood as (type, (1,)) / '(1,)type'.\n",
      "  _np_qint16 = np.dtype([(\"qint16\", np.int16, 1)])\n",
      "/home/shenwanxiang/anaconda3/envs/deepchem23/lib/python3.6/site-packages/tensorboard/compat/tensorflow_stub/dtypes.py:544: FutureWarning: Passing (type, 1) or '1type' as a synonym of type is deprecated; in a future version of numpy, it will be understood as (type, (1,)) / '(1,)type'.\n",
      "  _np_quint16 = np.dtype([(\"quint16\", np.uint16, 1)])\n",
      "/home/shenwanxiang/anaconda3/envs/deepchem23/lib/python3.6/site-packages/tensorboard/compat/tensorflow_stub/dtypes.py:545: FutureWarning: Passing (type, 1) or '1type' as a synonym of type is deprecated; in a future version of numpy, it will be understood as (type, (1,)) / '(1,)type'.\n",
      "  _np_qint32 = np.dtype([(\"qint32\", np.int32, 1)])\n",
      "/home/shenwanxiang/anaconda3/envs/deepchem23/lib/python3.6/site-packages/tensorboard/compat/tensorflow_stub/dtypes.py:550: FutureWarning: Passing (type, 1) or '1type' as a synonym of type is deprecated; in a future version of numpy, it will be understood as (type, (1,)) / '(1,)type'.\n",
      "  np_resource = np.dtype([(\"resource\", np.ubyte, 1)])\n"
     ]
    }
   ],
   "source": [
    "from molmap import model as molmodel\n",
    "import molmap\n",
    "\n",
    "import matplotlib.pyplot as plt\n",
    "\n",
    "import pandas as pd\n",
    "from tqdm import tqdm\n",
    "from joblib import load, dump\n",
    "tqdm.pandas(ascii=True)\n",
    "import numpy as np\n",
    "\n",
    "import tensorflow as tf\n",
    "import os\n",
    "os.environ[\"CUDA_VISIBLE_DEVICES\"]=\"1\"\n",
    "np.random.seed(123)\n",
    "tf.compat.v1.set_random_seed(123)\n",
    "\n",
    "\n",
    "tmp_feature_dir = './tmpignore'\n",
    "if not os.path.exists(tmp_feature_dir):\n",
    "    os.makedirs(tmp_feature_dir)"
   ]
  },
  {
   "cell_type": "code",
   "execution_count": 2,
   "metadata": {},
   "outputs": [],
   "source": [
    "\n",
    "mp1 = molmap.loadmap('../descriptor.mp')\n",
    "mp2 = molmap.loadmap('../fingerprint.mp')\n"
   ]
  },
  {
   "cell_type": "code",
   "execution_count": 3,
   "metadata": {},
   "outputs": [
    {
     "name": "stdout",
     "output_type": "stream",
     "text": [
      "loading dataset: MUV number of split times: 3\n"
     ]
    }
   ],
   "source": [
    "task_name = 'MUV'\n",
    "from chembench import load_data\n",
    "df, induces = load_data(task_name)"
   ]
  },
  {
   "cell_type": "code",
   "execution_count": 4,
   "metadata": {},
   "outputs": [],
   "source": [
    "MASK = -1\n",
    "smiles_col = df.columns[0]\n",
    "values_col = df.columns[1:]\n",
    "Y = df[values_col].astype('float').fillna(MASK).values\n",
    "if Y.shape[1] == 0:\n",
    "    Y = Y.reshape(-1, 1)\n",
    "\n",
    "\n",
    "\n",
    "X1_name = os.path.join(tmp_feature_dir, 'X1_%s.data' % task_name)\n",
    "X2_name = os.path.join(tmp_feature_dir, 'X2_%s.data' % task_name)\n",
    "if not os.path.exists(X1_name):\n",
    "    X1 = mp1.batch_transform(df.smiles, n_jobs = 8)\n",
    "    dump(X1, X1_name)\n",
    "else:\n",
    "    X1 = load(X1_name)\n",
    "\n",
    "if not os.path.exists(X2_name): \n",
    "    X2 = mp2.batch_transform(df.smiles, n_jobs = 8)\n",
    "    dump(X2, X2_name)\n",
    "else:\n",
    "    X2 = load(X2_name)\n",
    "\n",
    "molmap1_size = X1.shape[1:]\n",
    "molmap2_size = X2.shape[1:]"
   ]
  },
  {
   "cell_type": "code",
   "execution_count": 5,
   "metadata": {},
   "outputs": [],
   "source": [
    "def get_pos_weights(trainY):\n",
    "    \"\"\"pos_weights: neg_n / pos_n \"\"\"\n",
    "    dfY = pd.DataFrame(trainY)\n",
    "    pos = dfY == 1\n",
    "    pos_n = pos.sum(axis=0)\n",
    "    neg = dfY == 0\n",
    "    neg_n = neg.sum(axis=0)\n",
    "    pos_weights = (neg_n / pos_n).values\n",
    "    neg_weights = (pos_n / neg_n).values\n",
    "    return pos_weights, neg_weights\n",
    "\n",
    "prcs_metrics = ['MUV', 'PCBA']"
   ]
  },
  {
   "cell_type": "code",
   "execution_count": 6,
   "metadata": {},
   "outputs": [],
   "source": [
    "epochs = 800\n",
    "patience = 10 #early stopping, dual to large computation cost, the larger dataset  set small waitig patience for early stopping\n",
    "\n",
    "dense_layers = [256, 128], #17\n",
    "\n",
    "batch_size = 128\n",
    "lr = 1e-4\n",
    "weight_decay = 0\n",
    "\n",
    "monitor = 'val_loss'\n",
    "dense_avf = 'relu'\n",
    "last_avf = None #sigmoid in loss\n",
    "\n",
    "if task_name in prcs_metrics:\n",
    "    metric = 'PRC'\n",
    "else:\n",
    "    metric = 'ROC'"
   ]
  },
  {
   "cell_type": "code",
   "execution_count": 7,
   "metadata": {},
   "outputs": [
    {
     "name": "stdout",
     "output_type": "stream",
     "text": [
      "74469 9309 9309\n",
      "WARNING:tensorflow:From /home/shenwanxiang/anaconda3/envs/deepchem23/lib/python3.6/site-packages/tensorflow/python/ops/init_ops.py:1251: calling VarianceScaling.__init__ (from tensorflow.python.ops.init_ops) with dtype is deprecated and will be removed in a future version.\n",
      "Instructions for updating:\n",
      "Call initializer instance with the dtype argument instead of passing it to the constructor\n",
      "epoch: 0001, loss: 0.8042 - val_loss: 0.8081; auc: 0.0151 - val_auc: 0.0049                                                                                                    \n",
      "epoch: 0002, loss: 0.8024 - val_loss: 0.8079; auc: 0.0353 - val_auc: 0.0246                                                                                                    \n",
      "epoch: 0003, loss: 0.8012 - val_loss: 0.8057; auc: 0.0264 - val_auc: 0.0059                                                                                                    \n",
      "epoch: 0004, loss: 0.7967 - val_loss: 0.7951; auc: 0.0279 - val_auc: 0.0073                                                                                                    \n",
      "epoch: 0005, loss: 0.7887 - val_loss: 0.7915; auc: 0.0198 - val_auc: 0.0109                                                                                                    \n",
      "epoch: 0006, loss: 0.7802 - val_loss: 0.7954; auc: 0.0197 - val_auc: 0.0113                                                                                                    \n",
      "epoch: 0007, loss: 0.7729 - val_loss: 0.7811; auc: 0.0256 - val_auc: 0.0122                                                                                                    \n",
      "epoch: 0008, loss: 0.7652 - val_loss: 0.7738; auc: 0.0321 - val_auc: 0.0108                                                                                                    \n",
      "epoch: 0009, loss: 0.7574 - val_loss: 0.7745; auc: 0.0344 - val_auc: 0.0123                                                                                                    \n",
      "epoch: 0010, loss: 0.7494 - val_loss: 0.7814; auc: 0.0325 - val_auc: 0.0149                                                                                                    \n",
      "epoch: 0011, loss: 0.7431 - val_loss: 0.7736; auc: 0.0557 - val_auc: 0.0149                                                                                                    \n",
      "epoch: 0012, loss: 0.7308 - val_loss: 0.7858; auc: 0.0580 - val_auc: 0.0367                                                                                                    \n",
      "epoch: 0013, loss: 0.7210 - val_loss: 0.7738; auc: 0.0816 - val_auc: 0.0344                                                                                                    \n",
      "epoch: 0014, loss: 0.7116 - val_loss: 0.8084; auc: 0.0637 - val_auc: 0.0356                                                                                                    \n",
      "epoch: 0015, loss: 0.7016 - val_loss: 0.7990; auc: 0.0953 - val_auc: 0.0269                                                                                                    \n",
      "epoch: 0016, loss: 0.6903 - val_loss: 0.8425; auc: 0.1093 - val_auc: 0.0438                                                                                                    \n",
      "epoch: 0017, loss: 0.6815 - val_loss: 0.8924; auc: 0.1243 - val_auc: 0.0482                                                                                                    \n",
      "epoch: 0018, loss: 0.6696 - val_loss: 0.9749; auc: 0.1279 - val_auc: 0.0318                                                                                                    \n",
      "epoch: 0019, loss: 0.6632 - val_loss: 0.8576; auc: 0.1799 - val_auc: 0.0434                                                                                                    \n",
      "epoch: 0020, loss: 0.6523 - val_loss: 0.9499; auc: 0.2012 - val_auc: 0.0456                                                                                                    \n",
      "epoch: 0021, loss: 0.6515 - val_loss: 0.9351; auc: 0.2337 - val_auc: 0.0320                                                                                                    \n",
      "\n",
      "Restoring model weights from the end of the best epoch.\n",
      "\n",
      "Epoch 00021: early stopping\n"
     ]
    },
    {
     "name": "stderr",
     "output_type": "stream",
     "text": [
      "/home/shenwanxiang/.local/lib/python3.6/site-packages/sklearn/metrics/ranking.py:444: RuntimeWarning: invalid value encountered in true_divide\n",
      "  recall = tps / tps[-1]\n"
     ]
    },
    {
     "name": "stdout",
     "output_type": "stream",
     "text": [
      "74469 9309 9309\n",
      "epoch: 0001, loss: 0.8041 - val_loss: 0.7748; auc: 0.0253 - val_auc: 0.0027                                                                                                    \n",
      "epoch: 0002, loss: 0.8024 - val_loss: 0.7744; auc: 0.0212 - val_auc: 0.0157                                                                                                    \n",
      "epoch: 0003, loss: 0.8028 - val_loss: 0.7742; auc: 0.0330 - val_auc: 0.0162                                                                                                    \n",
      "epoch: 0004, loss: 0.8017 - val_loss: 0.7725; auc: 0.0452 - val_auc: 0.0710                                                                                                    \n",
      "epoch: 0005, loss: 0.7994 - val_loss: 0.7651; auc: 0.0508 - val_auc: 0.0704                                                                                                    \n",
      "epoch: 0006, loss: 0.7920 - val_loss: 0.7610; auc: 0.0532 - val_auc: 0.0717                                                                                                    \n",
      "epoch: 0007, loss: 0.7831 - val_loss: 0.7567; auc: 0.0511 - val_auc: 0.0710                                                                                                    \n",
      "epoch: 0008, loss: 0.7724 - val_loss: 0.7559; auc: 0.0494 - val_auc: 0.0733                                                                                                    \n",
      "epoch: 0009, loss: 0.7607 - val_loss: 0.7826; auc: 0.0320 - val_auc: 0.0263                                                                                                    \n",
      "epoch: 0010, loss: 0.7495 - val_loss: 0.7543; auc: 0.0596 - val_auc: 0.0759                                                                                                    \n",
      "epoch: 0011, loss: 0.7404 - val_loss: 0.7488; auc: 0.0627 - val_auc: 0.0769                                                                                                    \n",
      "epoch: 0012, loss: 0.7270 - val_loss: 0.7521; auc: 0.0657 - val_auc: 0.0773                                                                                                    \n",
      "epoch: 0013, loss: 0.7196 - val_loss: 0.7457; auc: 0.0753 - val_auc: 0.0773                                                                                                    \n",
      "epoch: 0014, loss: 0.7109 - val_loss: 0.7492; auc: 0.0792 - val_auc: 0.0787                                                                                                    \n",
      "epoch: 0015, loss: 0.7012 - val_loss: 0.7644; auc: 0.1072 - val_auc: 0.0919                                                                                                    \n",
      "epoch: 0016, loss: 0.6932 - val_loss: 0.7561; auc: 0.0975 - val_auc: 0.0843                                                                                                    \n",
      "epoch: 0017, loss: 0.6875 - val_loss: 0.7680; auc: 0.1234 - val_auc: 0.0932                                                                                                    \n",
      "epoch: 0018, loss: 0.6756 - val_loss: 0.7368; auc: 0.1383 - val_auc: 0.0840                                                                                                    \n",
      "epoch: 0019, loss: 0.6676 - val_loss: 0.7990; auc: 0.1321 - val_auc: 0.0560                                                                                                    \n",
      "epoch: 0020, loss: 0.6598 - val_loss: 0.7740; auc: 0.1686 - val_auc: 0.0989                                                                                                    \n",
      "epoch: 0021, loss: 0.6550 - val_loss: 0.8333; auc: 0.1448 - val_auc: 0.0991                                                                                                    \n",
      "epoch: 0022, loss: 0.6486 - val_loss: 0.8896; auc: 0.1613 - val_auc: 0.0497                                                                                                    \n",
      "epoch: 0023, loss: 0.6388 - val_loss: 0.7715; auc: 0.2228 - val_auc: 0.0944                                                                                                    \n",
      "epoch: 0024, loss: 0.6362 - val_loss: 0.7848; auc: 0.2472 - val_auc: 0.0880                                                                                                    \n",
      "epoch: 0025, loss: 0.6304 - val_loss: 0.8660; auc: 0.2433 - val_auc: 0.1103                                                                                                    \n",
      "epoch: 0026, loss: 0.6321 - val_loss: 0.8566; auc: 0.2548 - val_auc: 0.1018                                                                                                    \n",
      "epoch: 0027, loss: 0.6209 - val_loss: 0.8113; auc: 0.3413 - val_auc: 0.1023                                                                                                    \n",
      "epoch: 0028, loss: 0.6185 - val_loss: 0.8243; auc: 0.3213 - val_auc: 0.1220                                                                                                    \n",
      "\n",
      "Restoring model weights from the end of the best epoch.\n",
      "\n",
      "Epoch 00028: early stopping\n",
      "74469 9309 9309\n",
      "epoch: 0001, loss: 0.8043 - val_loss: 0.8390; auc: 0.0247 - val_auc: 0.0072                                                                                                    \n",
      "epoch: 0002, loss: 0.8030 - val_loss: 0.8407; auc: 0.0334 - val_auc: 0.0109                                                                                                    \n",
      "epoch: 0003, loss: 0.8026 - val_loss: 0.8396; auc: 0.0578 - val_auc: 0.0280                                                                                                    \n",
      "epoch: 0004, loss: 0.8017 - val_loss: 0.8378; auc: 0.0625 - val_auc: 0.0142                                                                                                    \n",
      "epoch: 0005, loss: 0.7953 - val_loss: 0.8261; auc: 0.0224 - val_auc: 0.0189                                                                                                    \n",
      "epoch: 0006, loss: 0.7866 - val_loss: 0.8101; auc: 0.0294 - val_auc: 0.0136                                                                                                    \n",
      "epoch: 0007, loss: 0.7782 - val_loss: 0.8044; auc: 0.0332 - val_auc: 0.0119                                                                                                    \n",
      "epoch: 0008, loss: 0.7656 - val_loss: 0.8034; auc: 0.0301 - val_auc: 0.0101                                                                                                    \n",
      "epoch: 0009, loss: 0.7552 - val_loss: 0.8051; auc: 0.0337 - val_auc: 0.0119                                                                                                    \n",
      "epoch: 0010, loss: 0.7447 - val_loss: 0.8094; auc: 0.0364 - val_auc: 0.0106                                                                                                    \n",
      "epoch: 0011, loss: 0.7378 - val_loss: 0.7915; auc: 0.0421 - val_auc: 0.0110                                                                                                    \n",
      "epoch: 0012, loss: 0.7283 - val_loss: 0.7922; auc: 0.0553 - val_auc: 0.0110                                                                                                    \n",
      "epoch: 0013, loss: 0.7149 - val_loss: 0.7931; auc: 0.0582 - val_auc: 0.0106                                                                                                    \n",
      "epoch: 0014, loss: 0.7110 - val_loss: 0.8181; auc: 0.0648 - val_auc: 0.0132                                                                                                    \n",
      "epoch: 0015, loss: 0.7001 - val_loss: 0.8043; auc: 0.0861 - val_auc: 0.0138                                                                                                    \n",
      "epoch: 0016, loss: 0.6903 - val_loss: 0.8541; auc: 0.0803 - val_auc: 0.0158                                                                                                    \n",
      "epoch: 0017, loss: 0.6807 - val_loss: 0.8814; auc: 0.0953 - val_auc: 0.0166                                                                                                    \n",
      "epoch: 0018, loss: 0.6767 - val_loss: 0.9816; auc: 0.0871 - val_auc: 0.0194                                                                                                    \n",
      "epoch: 0019, loss: 0.6650 - val_loss: 0.9311; auc: 0.1176 - val_auc: 0.0200                                                                                                    \n",
      "epoch: 0020, loss: 0.6614 - val_loss: 0.9241; auc: 0.1781 - val_auc: 0.0182                                                                                                    \n",
      "epoch: 0021, loss: 0.6563 - val_loss: 0.9756; auc: 0.1783 - val_auc: 0.0185                                                                                                    \n",
      "\n",
      "Restoring model weights from the end of the best epoch.\n",
      "\n",
      "Epoch 00021: early stopping\n"
     ]
    }
   ],
   "source": [
    "results = []\n",
    "for i, split_idxs in enumerate(induces):\n",
    "\n",
    "    train_idx, valid_idx, test_idx = split_idxs\n",
    "    print(len(train_idx), len(valid_idx), len(test_idx))\n",
    "\n",
    "    trainX = (X1[train_idx], X2[train_idx])\n",
    "    trainY = Y[train_idx]\n",
    "\n",
    "    validX = (X1[valid_idx], X2[valid_idx])\n",
    "    validY = Y[valid_idx]\n",
    "\n",
    "    testX = (X1[test_idx], X2[test_idx])\n",
    "    testY = Y[test_idx]            \n",
    "\n",
    "    pos_weights, neg_weights = get_pos_weights(trainY)\n",
    "    loss = lambda y_true, y_pred: molmodel.loss.weighted_cross_entropy(y_true,y_pred, pos_weights, MASK = -1)\n",
    "\n",
    "    model = molmodel.net.DoublePathNet(molmap1_size, molmap2_size, \n",
    "                                       n_outputs=Y.shape[-1], \n",
    "                                       dense_layers=dense_layers, \n",
    "                                       dense_avf = dense_avf, \n",
    "                                       last_avf=last_avf)\n",
    "\n",
    "    opt = tf.keras.optimizers.Adam(lr=lr, beta_1=0.9, beta_2=0.999, epsilon=1e-08, decay=0.0) #\n",
    "    #import tensorflow_addons as tfa\n",
    "    #opt = tfa.optimizers.AdamW(weight_decay = 0.1,learning_rate=0.001,beta1=0.9,beta2=0.999, epsilon=1e-08)\n",
    "    model.compile(optimizer = opt, loss = loss)\n",
    "\n",
    "    performance = molmodel.cbks.CLA_EarlyStoppingAndPerformance((trainX, trainY), \n",
    "                                                                   (validX, validY), \n",
    "                                                                   patience = patience, \n",
    "                                                                   criteria = monitor,\n",
    "                                                                   metric = metric,\n",
    "                                                                  )\n",
    "    model.fit(trainX, trainY, batch_size=batch_size, \n",
    "          epochs=epochs, verbose= 0, shuffle = True, \n",
    "          validation_data = (validX, validY), \n",
    "          callbacks=[performance]) \n",
    "\n",
    "\n",
    "    best_epoch = performance.best_epoch\n",
    "    trainable_params = model.count_params()\n",
    "    \n",
    "    train_aucs = performance.evaluate(trainX, trainY)            \n",
    "    valid_aucs = performance.evaluate(validX, validY)            \n",
    "    test_aucs = performance.evaluate(testX, testY)\n",
    "\n",
    "    final_res = {\n",
    "                     'task_name':task_name,            \n",
    "                     'train_auc':np.nanmean(train_aucs), \n",
    "                     'valid_auc':np.nanmean(valid_aucs),                      \n",
    "                     'test_auc':np.nanmean(test_aucs), \n",
    "                     'metric':metric,\n",
    "                     '# trainable params': trainable_params,\n",
    "                     'best_epoch': best_epoch,\n",
    "                     'batch_size':batch_size,\n",
    "                     'lr': lr,\n",
    "                     'weight_decay':weight_decay\n",
    "                    }\n",
    "    \n",
    "    results.append(final_res)"
   ]
  },
  {
   "cell_type": "code",
   "execution_count": 8,
   "metadata": {},
   "outputs": [
    {
     "data": {
      "text/plain": [
       "<matplotlib.axes._subplots.AxesSubplot at 0x7f5bd463fe80>"
      ]
     },
     "execution_count": 8,
     "metadata": {},
     "output_type": "execute_result"
    },
    {
     "data": {
      "image/png": "[encoded data removed]",
      "text/plain": [
       "<Figure size 432x288 with 1 Axes>"
      ]
     },
     "metadata": {
      "needs_background": "light"
     },
     "output_type": "display_data"
    }
   ],
   "source": [
    "pd.DataFrame(performance.history)[['auc', 'val_auc']].plot()"
   ]
  },
  {
   "cell_type": "code",
   "execution_count": 9,
   "metadata": {},
   "outputs": [
    {
     "data": {
      "text/plain": [
       "0.06970035944825603"
      ]
     },
     "execution_count": 9,
     "metadata": {},
     "output_type": "execute_result"
    }
   ],
   "source": [
    "pd.DataFrame(results).test_auc.mean()"
   ]
  },
  {
   "cell_type": "code",
   "execution_count": 10,
   "metadata": {},
   "outputs": [
    {
     "data": {
      "text/plain": [
       "0.022978219803647306"
      ]
     },
     "execution_count": 10,
     "metadata": {},
     "output_type": "execute_result"
    }
   ],
   "source": [
    "pd.DataFrame(results).test_auc.std()"
   ]
  },
  {
   "cell_type": "code",
   "execution_count": 11,
   "metadata": {},
   "outputs": [
    {
     "data": {
      "text/html": [
       "<div>\n",
       "<style scoped>\n",
       "    .dataframe tbody tr th:only-of-type {\n",
       "        vertical-align: middle;\n",
       "    }\n",
       "\n",
       "    .dataframe tbody tr th {\n",
       "        vertical-align: top;\n",
       "    }\n",
       "\n",
       "    .dataframe thead th {\n",
       "        text-align: right;\n",
       "    }\n",
       "</style>\n",
       "<table border=\"1\" class=\"dataframe\">\n",
       "  <thead>\n",
       "    <tr style=\"text-align: right;\">\n",
       "      <th></th>\n",
       "      <th>task_name</th>\n",
       "      <th>train_auc</th>\n",
       "      <th>valid_auc</th>\n",
       "      <th>test_auc</th>\n",
       "      <th>metric</th>\n",
       "      <th># trainable params</th>\n",
       "      <th>best_epoch</th>\n",
       "      <th>batch_size</th>\n",
       "      <th>lr</th>\n",
       "      <th>weight_decay</th>\n",
       "    </tr>\n",
       "  </thead>\n",
       "  <tbody>\n",
       "    <tr>\n",
       "      <td>0</td>\n",
       "      <td>MUV</td>\n",
       "      <td>0.055701</td>\n",
       "      <td>0.014865</td>\n",
       "      <td>0.095892</td>\n",
       "      <td>PRC</td>\n",
       "      <td>801713</td>\n",
       "      <td>10</td>\n",
       "      <td>128</td>\n",
       "      <td>0.0001</td>\n",
       "      <td>0</td>\n",
       "    </tr>\n",
       "    <tr>\n",
       "      <td>1</td>\n",
       "      <td>MUV</td>\n",
       "      <td>0.138297</td>\n",
       "      <td>0.084020</td>\n",
       "      <td>0.060278</td>\n",
       "      <td>PRC</td>\n",
       "      <td>801713</td>\n",
       "      <td>17</td>\n",
       "      <td>128</td>\n",
       "      <td>0.0001</td>\n",
       "      <td>0</td>\n",
       "    </tr>\n",
       "    <tr>\n",
       "      <td>2</td>\n",
       "      <td>MUV</td>\n",
       "      <td>0.042059</td>\n",
       "      <td>0.010984</td>\n",
       "      <td>0.052931</td>\n",
       "      <td>PRC</td>\n",
       "      <td>801713</td>\n",
       "      <td>10</td>\n",
       "      <td>128</td>\n",
       "      <td>0.0001</td>\n",
       "      <td>0</td>\n",
       "    </tr>\n",
       "  </tbody>\n",
       "</table>\n",
       "</div>"
      ],
      "text/plain": [
       "  task_name  train_auc  valid_auc  test_auc metric  # trainable params  \\\n",
       "0       MUV   0.055701   0.014865  0.095892    PRC              801713   \n",
       "1       MUV   0.138297   0.084020  0.060278    PRC              801713   \n",
       "2       MUV   0.042059   0.010984  0.052931    PRC              801713   \n",
       "\n",
       "   best_epoch  batch_size      lr  weight_decay  \n",
       "0          10         128  0.0001             0  \n",
       "1          17         128  0.0001             0  \n",
       "2          10         128  0.0001             0  "
      ]
     },
     "execution_count": 11,
     "metadata": {},
     "output_type": "execute_result"
    }
   ],
   "source": [
    "pd.DataFrame(results)"
   ]
  },
  {
   "cell_type": "code",
   "execution_count": 12,
   "metadata": {},
   "outputs": [],
   "source": [
    "pd.DataFrame(results).to_csv('./results/%s.csv' % task_name)"
   ]
  },
  {
   "cell_type": "code",
   "execution_count": null,
   "metadata": {},
   "outputs": [],
   "source": []
  },
  {
   "cell_type": "code",
   "execution_count": null,
   "metadata": {},
   "outputs": [],
   "source": []
  },
  {
   "cell_type": "code",
   "execution_count": null,
   "metadata": {},
   "outputs": [],
   "source": []
  },
  {
   "cell_type": "code",
   "execution_count": null,
   "metadata": {},
   "outputs": [],
   "source": []
  }
 ],
 "metadata": {
  "kernelspec": {
   "display_name": "Python 3",
   "language": "python",
   "name": "python3"
  },
  "language_info": {
   "codemirror_mode": {
    "name": "ipython",
    "version": 3
   },
   "file_extension": ".py",
   "mimetype": "text/x-python",
   "name": "python",
   "nbconvert_exporter": "python",
   "pygments_lexer": "ipython3",
   "version": "3.6.5"
  }
 },
 "nbformat": 4,
 "nbformat_minor": 4
}
